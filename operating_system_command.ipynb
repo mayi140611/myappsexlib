{
 "cells": [
  {
   "cell_type": "code",
   "execution_count": 3,
   "metadata": {},
   "outputs": [],
   "source": [
    "# default_exp operating_system\n",
    "\n",
    "%reload_ext autoreload\n",
    "%autoreload 2"
   ]
  },
  {
   "cell_type": "markdown",
   "metadata": {},
   "source": [
    "# centos"
   ]
  },
  {
   "cell_type": "markdown",
   "metadata": {},
   "source": [
    "## 查看OS版本\n",
    "cat /etc/redhat-release\n",
    "\n",
    "CentOS Linux release 7.6.1810 (Core)"
   ]
  },
  {
   "cell_type": "markdown",
   "metadata": {},
   "source": [
    "## cpu信息\n",
    "1. 概念  \n",
    "物理CPU：实际Server中插槽上的CPU个数。  \n",
    "物理cpu数量：可以数不重复的 physical id 有几个。\n",
    "\n",
    "2. 逻辑CPU  \n",
    "Linux用户对 /proc/cpuinfo 这个文件肯定不陌生. 它是用来存储cpu硬件信息的，信息内容分别列出了processor 0 – n 的规格。这里需要注意，如果你认为n就是真实的cpu数的话, 就大错特错了。一般情况，我们认为一颗cpu可以有多核，加上intel的超线程技术(HT), 可以在逻辑上再分一倍数量的cpu core出来逻辑CPU数量=物理cpu数量 x cpu cores 这个规格值 x 2(如果支持并开启ht)\n",
    "备注一下：Linux下top查看的CPU也是逻辑CPU个数\n",
    "\n",
    "3. CPU核数  \n",
    "一块CPU上面能处理数据的芯片组的数量、比如现在的i5 760,是双核心四线程的CPU、而 i5 2250 是四核心四线程的CPU，一般来说，物理CPU个数×每颗核数就应该等于逻辑CPU的个数，如果不相等的话，则表示服务器的CPU支持超线程技术。\n",
    "\n",
    "4. 查看CPU信息  \n",
    "当我们 cat /proc/cpuinfo 时，具有相同core id的CPU是同一个core的超线程，具有相同physical id的CPU是同一个CPU封装的线程或核心。\n",
    "下面举例说明\n",
    "### 【1】查看CPU型号：cpu型号是E7-4820\n",
    "\n",
    "    [root@node1 ~]# cat /proc/cpuinfo | grep name | cut -f2 -d: | uniq -c\n",
    "        32  Intel(R) Xeon(R) CPU E7- 4820  @ 2.00GHz\n",
    "### 【2】查看物理cpu个数：物理核心数是2核\n",
    "    [root@node1 ~]# cat /proc/cpuinfo | grep \"physical id\" | sort | uniq|wc -l\n",
    "    2\n",
    "### 【3】查看逻辑cpu的个数：逻辑cpu个数是32个\n",
    "    [root@node1 ~]# cat /proc/cpuinfo | grep \"processor\" |wc -l\n",
    "    32\n",
    "### 【4】查看cpu是几核：cpu是8核\n",
    "    [root@node1 ~]# cat /proc/cpuinfo | grep \"cores\"|uniq\n",
    "    cpu cores       : 8"
   ]
  },
  {
   "cell_type": "markdown",
   "metadata": {},
   "source": [
    "## 查看内存使用情况"
   ]
  },
  {
   "cell_type": "code",
   "execution_count": 1,
   "metadata": {},
   "outputs": [
    {
     "name": "stdout",
     "output_type": "stream",
     "text": [
      "/bin/sh: free: command not found\r\n"
     ]
    }
   ],
   "source": [
    "!free -mh"
   ]
  },
  {
   "cell_type": "markdown",
   "metadata": {},
   "source": [
    "                  total        used        free      shared  buff/cache   available\n",
    "    Mem:           251G         28G        196G        4.0G         25G        217G\n",
    "    Swap:          4.0G          0B        4.0G\n",
    "    \n",
    "Mem：物理内存\n",
    "\n",
    "Swap: 虚拟内存，交换分区，一般最大设置为物理内存的一半"
   ]
  },
  {
   "cell_type": "markdown",
   "metadata": {},
   "source": [
    "## GPU信息"
   ]
  },
  {
   "cell_type": "code",
   "execution_count": 1,
   "metadata": {},
   "outputs": [
    {
     "name": "stdout",
     "output_type": "stream",
     "text": [
      "/bin/sh: nvidia-smi: command not found\r\n"
     ]
    }
   ],
   "source": [
    "!nvidia-smi -l"
   ]
  },
  {
   "cell_type": "code",
   "execution_count": null,
   "metadata": {},
   "outputs": [],
   "source": [
    "+-----------------------------------------------------------------------------+\n",
    "| NVIDIA-SMI 410.48                 Driver Version: 410.48                    |\n",
    "|-------------------------------+----------------------+----------------------+\n",
    "| GPU  Name        Persistence-M| Bus-Id        Disp.A | Volatile Uncorr. ECC |\n",
    "| Fan  Temp  Perf  Pwr:Usage/Cap|         Memory-Usage | GPU-Util  Compute M. |\n",
    "|===============================+======================+======================|\n",
    "|   0  Tesla P100-PCIE...  Off  | 00000000:00:06.0 Off |                    0 |\n",
    "| N/A   34C    P0    30W / 250W |      0MiB / 16280MiB |      0%      Default |\n",
    "+-------------------------------+----------------------+----------------------+\n",
    "                                                                               \n",
    "+-----------------------------------------------------------------------------+\n",
    "| Processes:                                                       GPU Memory |\n",
    "|  GPU       PID   Type   Process name                             Usage      |\n",
    "|=============================================================================|\n",
    "|  No running processes found                                                 |\n",
    "+-----------------------------------------------------------------------------+"
   ]
  },
  {
   "cell_type": "markdown",
   "metadata": {},
   "source": [
    "## 查看文件系统分区大小"
   ]
  },
  {
   "cell_type": "code",
   "execution_count": 2,
   "metadata": {},
   "outputs": [
    {
     "name": "stdout",
     "output_type": "stream",
     "text": [
      "Filesystem      Size   Used  Avail Capacity iused               ifree %iused  Mounted on\r\n",
      "/dev/disk1s1   233Gi  216Gi  5.9Gi    98% 1606454 9223372036853169353    0%   /\r\n",
      "devfs          193Ki  193Ki    0Bi   100%     666                   0  100%   /dev\r\n",
      "/dev/disk1s4   233Gi   11Gi  5.9Gi    66%      11 9223372036854775796    0%   /private/var/vm\r\n",
      "map -hosts       0Bi    0Bi    0Bi   100%       0                   0  100%   /net\r\n",
      "map auto_home    0Bi    0Bi    0Bi   100%       0                   0  100%   /home\r\n"
     ]
    }
   ],
   "source": [
    "!df -h"
   ]
  },
  {
   "cell_type": "markdown",
   "metadata": {},
   "source": [
    "    文件系统                 容量  已用  可用 已用% 挂载点\n",
    "    /dev/mapper/centos-root  3.3T  1.1T  2.2T   32% /\n",
    "    devtmpfs                 126G     0  126G    0% /dev\n",
    "    tmpfs                    126G     0  126G    0% /dev/shm\n",
    "    tmpfs                    126G  4.0G  122G    4% /run\n",
    "    tmpfs                    126G     0  126G    0% /sys/fs/cgroup\n",
    "    /dev/mapper/centos-home   30G  699M   30G    3% /home\n",
    "    /dev/sda2               1014M  232M  783M   23% /boot\n",
    "    tmpfs                     26G     0   26G    0% /run/user/1003\n",
    "    tmpfs                     26G   12K   26G    1% /run/user/42\n",
    "    tmpfs                     26G     0   26G    0% /run/user/1010\n",
    "    tmpfs                     26G     0   26G    0% /run/user/0\n",
    "    "
   ]
  },
  {
   "cell_type": "markdown",
   "metadata": {},
   "source": [
    "### 查看某个目录的挂载点"
   ]
  },
  {
   "cell_type": "code",
   "execution_count": 5,
   "metadata": {},
   "outputs": [
    {
     "name": "stdout",
     "output_type": "stream",
     "text": [
      "Filesystem    512-blocks      Used Available Capacity iused               ifree %iused  Mounted on\r\n",
      "/dev/disk1s1   489620264 452943016  12279184    98% 1606458 9223372036853169349    0%   /\r\n",
      "df: -h: No such file or directory\r\n"
     ]
    }
   ],
   "source": [
    "!df /Users -h"
   ]
  },
  {
   "cell_type": "markdown",
   "metadata": {},
   "source": [
    "    文件系统                 容量  已用  可用 已用% 挂载点\n",
    "    /dev/mapper/centos-root  3.3T  1.1T  2.2T   32% /"
   ]
  },
  {
   "cell_type": "markdown",
   "metadata": {},
   "source": [
    "## 进程、端口相关命令"
   ]
  },
  {
   "cell_type": "markdown",
   "metadata": {},
   "source": [
    "### 查看某个端口占用情况"
   ]
  },
  {
   "cell_type": "markdown",
   "metadata": {},
   "source": [
    "    netstat -ntlp | grep 8814\n",
    "    tcp        0      0 0.0.0.0:8814            0.0.0.0:*               LISTEN      8836/python"
   ]
  },
  {
   "cell_type": "markdown",
   "metadata": {},
   "source": [
    "### 查看python相关的进程"
   ]
  },
  {
   "cell_type": "markdown",
   "metadata": {},
   "source": [
    "    netstat -ntlp | grep python\n",
    "    tcp        0      0 0.0.0.0:8814            0.0.0.0:*               LISTEN      8836/python\n",
    "    tcp        0      0 0.0.0.0:8670            0.0.0.0:*               LISTEN      18314/python"
   ]
  },
  {
   "cell_type": "markdown",
   "metadata": {},
   "source": [
    "# mac"
   ]
  },
  {
   "cell_type": "markdown",
   "metadata": {},
   "source": [
    "## cpu信息\n",
    "physicalcpu = Processors * Cores/Processor\n",
    "\n",
    "logicalcpu = Processors * Cores/Processor * Threads/Core"
   ]
  },
  {
   "cell_type": "code",
   "execution_count": 3,
   "metadata": {},
   "outputs": [
    {
     "name": "stdout",
     "output_type": "stream",
     "text": [
      "hw.physicalcpu: 2\r\n"
     ]
    }
   ],
   "source": [
    "!sysctl hw.physicalcpu"
   ]
  },
  {
   "cell_type": "code",
   "execution_count": 4,
   "metadata": {},
   "outputs": [
    {
     "name": "stdout",
     "output_type": "stream",
     "text": [
      "hw.logicalcpu: 4\r\n"
     ]
    }
   ],
   "source": [
    "!sysctl hw.logicalcpu"
   ]
  },
  {
   "cell_type": "code",
   "execution_count": 5,
   "metadata": {},
   "outputs": [
    {
     "name": "stdout",
     "output_type": "stream",
     "text": [
      "Hardware:\r\n",
      "\r\n",
      "    Hardware Overview:\r\n",
      "\r\n",
      "      Model Name: MacBook Pro\r\n",
      "      Model Identifier: MacBookPro14,1\r\n",
      "      Processor Name: Intel Core i5\r\n",
      "      Processor Speed: 2.3 GHz\r\n",
      "      Number of Processors: 1\r\n",
      "      Total Number of Cores: 2\r\n",
      "      L2 Cache (per Core): 256 KB\r\n",
      "      L3 Cache: 4 MB\r\n",
      "      Memory: 16 GB\r\n",
      "      Boot ROM Version: MBP141.0178.B00\r\n",
      "      SMC Version (system): 2.43f6\r\n",
      "      Serial Number (system): FVFWX2F7HV2H\r\n",
      "      Hardware UUID: 4CD4863E-004C-5D35-B564-5B41E82FB895\r\n",
      "\r\n"
     ]
    }
   ],
   "source": [
    "!system_profiler SPHardwareDataType       "
   ]
  },
  {
   "cell_type": "code",
   "execution_count": 2,
   "metadata": {},
   "outputs": [
    {
     "name": "stdout",
     "output_type": "stream",
     "text": [
      "machdep.cpu.max_basic: 22\r\n",
      "machdep.cpu.max_ext: 2147483656\r\n",
      "machdep.cpu.vendor: GenuineIntel\r\n",
      "machdep.cpu.brand_string: Intel(R) Core(TM) i5-7360U CPU @ 2.30GHz\r\n",
      "machdep.cpu.family: 6\r\n",
      "machdep.cpu.model: 142\r\n",
      "machdep.cpu.extmodel: 8\r\n",
      "machdep.cpu.extfamily: 0\r\n",
      "machdep.cpu.stepping: 9\r\n",
      "machdep.cpu.feature_bits: 9221960262849657855\r\n",
      "machdep.cpu.leaf7_feature_bits: 43806655\r\n",
      "machdep.cpu.extfeature_bits: 1241984796928\r\n",
      "machdep.cpu.signature: 526057\r\n",
      "machdep.cpu.brand: 0\r\n",
      "machdep.cpu.features: FPU VME DE PSE TSC MSR PAE MCE CX8 APIC SEP MTRR PGE MCA CMOV PAT PSE36 CLFSH DS ACPI MMX FXSR SSE SSE2 SS HTT TM PBE SSE3 PCLMULQDQ DTES64 MON DSCPL VMX SMX EST TM2 SSSE3 FMA CX16 TPR PDCM SSE4.1 SSE4.2 x2APIC MOVBE POPCNT AES PCID XSAVE OSXSAVE SEGLIM64 TSCTMR AVX1.0 RDRAND F16C\r\n",
      "machdep.cpu.leaf7_features: SMEP ERMS RDWRFSGS TSC_THREAD_OFFSET BMI1 HLE AVX2 BMI2 INVPCID RTM SMAP RDSEED ADX IPT SGX FPU_CSDS MPX CLFSOPT\r\n",
      "machdep.cpu.extfeatures: SYSCALL XD 1GBPAGE EM64T LAHF LZCNT PREFETCHW RDTSCP TSCI\r\n",
      "machdep.cpu.logical_per_package: 16\r\n",
      "machdep.cpu.cores_per_package: 8\r\n",
      "machdep.cpu.microcode_version: 142\r\n",
      "machdep.cpu.processor_flag: 6\r\n",
      "machdep.cpu.mwait.linesize_min: 64\r\n",
      "machdep.cpu.mwait.linesize_max: 64\r\n",
      "machdep.cpu.mwait.extensions: 3\r\n",
      "machdep.cpu.mwait.sub_Cstates: 286531872\r\n",
      "machdep.cpu.thermal.sensor: 1\r\n",
      "machdep.cpu.thermal.dynamic_acceleration: 1\r\n",
      "machdep.cpu.thermal.invariant_APIC_timer: 1\r\n",
      "machdep.cpu.thermal.thresholds: 2\r\n",
      "machdep.cpu.thermal.ACNT_MCNT: 1\r\n",
      "machdep.cpu.thermal.core_power_limits: 1\r\n",
      "machdep.cpu.thermal.fine_grain_clock_mod: 1\r\n",
      "machdep.cpu.thermal.package_thermal_intr: 1\r\n",
      "machdep.cpu.thermal.hardware_feedback: 0\r\n",
      "machdep.cpu.thermal.energy_policy: 1\r\n",
      "machdep.cpu.xsave.extended_state: 31 832 1088 0\r\n",
      "machdep.cpu.xsave.extended_state1: 15 832 256 0\r\n",
      "machdep.cpu.arch_perf.version: 4\r\n",
      "machdep.cpu.arch_perf.number: 4\r\n",
      "machdep.cpu.arch_perf.width: 48\r\n",
      "machdep.cpu.arch_perf.events_number: 7\r\n",
      "machdep.cpu.arch_perf.events: 0\r\n",
      "machdep.cpu.arch_perf.fixed_number: 3\r\n",
      "machdep.cpu.arch_perf.fixed_width: 48\r\n",
      "machdep.cpu.cache.linesize: 64\r\n",
      "machdep.cpu.cache.L2_associativity: 4\r\n",
      "machdep.cpu.cache.size: 256\r\n",
      "machdep.cpu.tlb.inst.large: 8\r\n",
      "machdep.cpu.tlb.data.small: 64\r\n",
      "machdep.cpu.tlb.data.small_level1: 64\r\n",
      "machdep.cpu.address_bits.physical: 39\r\n",
      "machdep.cpu.address_bits.virtual: 48\r\n",
      "machdep.cpu.core_count: 2\r\n",
      "machdep.cpu.thread_count: 4\r\n",
      "machdep.cpu.tsc_ccc.numerator: 192\r\n",
      "machdep.cpu.tsc_ccc.denominator: 2\r\n"
     ]
    }
   ],
   "source": [
    "!sysctl machdep.cpu"
   ]
  },
  {
   "cell_type": "markdown",
   "metadata": {},
   "source": [
    "# nb_export"
   ]
  },
  {
   "cell_type": "code",
   "execution_count": 4,
   "metadata": {},
   "outputs": [
    {
     "name": "stdout",
     "output_type": "stream",
     "text": [
      "Converted 00_core.ipynb.\n",
      "Converted engineering_nbdev.ipynb.\n",
      "Converted index.ipynb.\n"
     ]
    }
   ],
   "source": [
    "from nbdev.export import *\n",
    "notebook2script()"
   ]
  },
  {
   "cell_type": "code",
   "execution_count": 7,
   "metadata": {},
   "outputs": [
    {
     "name": "stdout",
     "output_type": "stream",
     "text": [
      "No notebooks were modified\r\n",
      "converting /Users/luoyonggui/PycharmProjects/nbdevlib/index.ipynb to README.md\r\n"
     ]
    }
   ],
   "source": [
    "!nbdev_build_docs"
   ]
  },
  {
   "cell_type": "code",
   "execution_count": null,
   "metadata": {},
   "outputs": [],
   "source": []
  }
 ],
 "metadata": {
  "kernelspec": {
   "display_name": "Python 3",
   "language": "python",
   "name": "python3"
  },
  "language_info": {
   "codemirror_mode": {
    "name": "ipython",
    "version": 3
   },
   "file_extension": ".py",
   "mimetype": "text/x-python",
   "name": "python",
   "nbconvert_exporter": "python",
   "pygments_lexer": "ipython3",
   "version": "3.7.3"
  },
  "toc": {
   "base_numbering": 1,
   "nav_menu": {},
   "number_sections": true,
   "sideBar": true,
   "skip_h1_title": false,
   "title_cell": "Table of Contents",
   "title_sidebar": "Contents",
   "toc_cell": false,
   "toc_position": {},
   "toc_section_display": true,
   "toc_window_display": true
  },
  "varInspector": {
   "cols": {
    "lenName": 16,
    "lenType": 16,
    "lenVar": 40
   },
   "kernels_config": {
    "python": {
     "delete_cmd_postfix": "",
     "delete_cmd_prefix": "del ",
     "library": "var_list.py",
     "varRefreshCmd": "print(var_dic_list())"
    },
    "r": {
     "delete_cmd_postfix": ") ",
     "delete_cmd_prefix": "rm(",
     "library": "var_list.r",
     "varRefreshCmd": "cat(var_dic_list()) "
    }
   },
   "types_to_exclude": [
    "module",
    "function",
    "builtin_function_or_method",
    "instance",
    "_Feature"
   ],
   "window_display": false
  }
 },
 "nbformat": 4,
 "nbformat_minor": 2
}
