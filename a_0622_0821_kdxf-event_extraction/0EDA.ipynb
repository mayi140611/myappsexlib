{
 "cells": [
  {
   "cell_type": "code",
   "execution_count": 1,
   "metadata": {},
   "outputs": [],
   "source": [
    "%reload_ext autoreload\n",
    "%autoreload 2"
   ]
  },
  {
   "cell_type": "code",
   "execution_count": 2,
   "metadata": {},
   "outputs": [],
   "source": [
    "# default_exp eda"
   ]
  },
  {
   "cell_type": "markdown",
   "metadata": {},
   "source": [
    "# 事件抽取\n",
    "http://challenge.xfyun.cn/topic/info?type=hotspot\n",
    "\n",
    "https://zhuanlan.zhihu.com/p/150190165"
   ]
  },
  {
   "cell_type": "markdown",
   "metadata": {},
   "source": [
    "## 数据说明\n",
    "1. 初赛数据说明：\n",
    "\n",
    "本次比赛初赛为参赛选手提供了6958条中文句子，及其9644条提取结果（存在一对多的情况）：\n",
    "\n",
    "1.1训练集：共5758条句子，包含句子中对应的触发词、论元等，用于竞赛模型训练。\n",
    "\n",
    "1.2测试集：共1200条句子。\n",
    "\n",
    "2. 复赛数据说明：\n",
    "\n",
    "本次比赛复赛为参赛选手提供了3335条中文句子，及其3384条提取结果（存在一对多的情况）：\n",
    "\n",
    "2.1训练集：共2456条句子，包含句子中对应的触发词、论元及其角色、事件属性等，用于竞赛模型训练。\n",
    "\n",
    "2.2测试集：共879条句子。\n",
    "## 评价指标\n",
    "\n",
    "本模型依据提交的结果文件，采用F值进行评价。\n",
    "\n",
    "### 事件触发词及论元抽取评价指标 \n",
    "对于事件触发词及论元抽取，使用触发词进行事件对齐，对于触发词匹配的事件，计算论元F值。最终F值包括论元与触发词（将触发词当做一种论元计算得分）。论元F值为严格F值与松弛F值的平均得分。\n",
    "\n",
    "3.1.1 严格F值：预测论元与标注论元必须完全匹配（类型必须正确）\n",
    "\n",
    "论元准确率Pspan = 预测论元和标注论元匹配的个数 / 预测论元个数\n",
    "\n",
    "论元召回率Rspan = 预测论元和标注论元匹配的个数 / 标注论元个数\n",
    "\n",
    "论元F值 F1span = 2 Pspan Rspan /( Pspan + Rspan)\n",
    "\n",
    "3.1.2 松弛F值：预测论元与标注论元存在字符级别匹配也能得到部分分数（类型必须正确）\n",
    "\n",
    "论元准确率Pchar = 预测论元和标注论元匹配的字符数 / 预测论元字符数\n",
    "\n",
    "论元召回率Rchar = 预测论元和标注论元匹配的字符数 / 标注论元字符数\n",
    "\n",
    "论元F值 F1char = 2 Pchar Rchar /( Pchar + Rchar)\n",
    "\n",
    "3.1.3 最终得分：F1 = (F1span + F1char) / 2\n",
    "\n",
    "### 事件属性抽取评价指标\n",
    "\n",
    "对于事件属性抽取，使用F值进行评价。\n",
    "\n",
    "属性准确率P = 预测属性和标注属性匹配的个数/ 预测属性个数\n",
    "\n",
    "属性召回率R = 预测属性和标注属性匹配的个数 / 标注属性个数\n",
    "\n",
    "属性F值 F1= 2 P R /( P+ R)"
   ]
  },
  {
   "cell_type": "markdown",
   "metadata": {},
   "source": [
    "# 解题思路\n",
    "## mine\n",
    "因为给的数据量很少，只能用预训练模型，finetune。当然预训练模型也不用很复杂。\n",
    "\n",
    "很好的图像练手的比赛！\n",
    "## 大佬\n"
   ]
  },
  {
   "cell_type": "markdown",
   "metadata": {},
   "source": [
    "# lib导入"
   ]
  },
  {
   "cell_type": "code",
   "execution_count": 1,
   "metadata": {},
   "outputs": [],
   "source": [
    "# export\n",
    "import os\n",
    "import glob\n",
    "from code.config import * \n",
    "from loguru import logger\n",
    "import numpy as np\n",
    "import pandas as pd\n",
    "pd.set_option('display.max_rows', 200)\n",
    "pd.set_option('display.max_columns', 100)  # 设置显示数据的最大列数，防止出现省略号…，导致数据显示不全\n",
    "pd.set_option('expand_frame_repr', False)  # 当列太多时不自动换行\n",
    "\n",
    "from sklearn.metrics import classification_report, accuracy_score\n",
    "import sys\n",
    "sys.path.append('..')\n",
    "from mylib.utils.pickle import PickleWrapper"
   ]
  },
  {
   "cell_type": "code",
   "execution_count": 2,
   "metadata": {},
   "outputs": [],
   "source": [
    "\n",
    "import seaborn as sns\n",
    "sns.set(font='Arial Unicode MS')  # 解决Seaborn中文显示问题\n",
    "from mylib.data.processing.eda import describe"
   ]
  },
  {
   "cell_type": "code",
   "execution_count": 3,
   "metadata": {},
   "outputs": [
    {
     "data": {
      "text/plain": [
       "'../../data/contest/20kdxf_event/'"
      ]
     },
     "execution_count": 3,
     "metadata": {},
     "output_type": "execute_result"
    }
   ],
   "source": [
    "args.DATA_DIR"
   ]
  },
  {
   "cell_type": "code",
   "execution_count": 4,
   "metadata": {},
   "outputs": [],
   "source": [
    "!mkdir {args.DATA_DIR}"
   ]
  },
  {
   "cell_type": "code",
   "execution_count": 6,
   "metadata": {},
   "outputs": [],
   "source": [
    "!open {args.DATA_DIR}"
   ]
  },
  {
   "cell_type": "code",
   "execution_count": 7,
   "metadata": {},
   "outputs": [
    {
     "name": "stdout",
     "output_type": "stream",
     "text": [
      "\u001b[1m\u001b[36mtest\u001b[m\u001b[m\r\n",
      "\u001b[1m\u001b[36mtrain\u001b[m\u001b[m\r\n",
      "事件抽取挑战赛_事件抽取挑战赛提交样例.csv\r\n"
     ]
    }
   ],
   "source": [
    "!ls {args.DATA_DIR}"
   ]
  },
  {
   "cell_type": "markdown",
   "metadata": {},
   "source": [
    "# EDA"
   ]
  },
  {
   "cell_type": "code",
   "execution_count": 4,
   "metadata": {},
   "outputs": [],
   "source": [
    "train_raw = pd.read_csv(args.DATA_DIR+'train/train.csv')"
   ]
  },
  {
   "cell_type": "code",
   "execution_count": 5,
   "metadata": {},
   "outputs": [
    {
     "data": {
      "text/html": [
       "<div>\n",
       "<style scoped>\n",
       "    .dataframe tbody tr th:only-of-type {\n",
       "        vertical-align: middle;\n",
       "    }\n",
       "\n",
       "    .dataframe tbody tr th {\n",
       "        vertical-align: top;\n",
       "    }\n",
       "\n",
       "    .dataframe thead th {\n",
       "        text-align: right;\n",
       "    }\n",
       "</style>\n",
       "<table border=\"1\" class=\"dataframe\">\n",
       "  <thead>\n",
       "    <tr style=\"text-align: right;\">\n",
       "      <th></th>\n",
       "      <th>id</th>\n",
       "      <th>news</th>\n",
       "      <th>trigger</th>\n",
       "      <th>object</th>\n",
       "      <th>subject</th>\n",
       "      <th>time</th>\n",
       "      <th>location</th>\n",
       "    </tr>\n",
       "  </thead>\n",
       "  <tbody>\n",
       "    <tr>\n",
       "      <th>1270</th>\n",
       "      <td>1130</td>\n",
       "      <td>为此，该市商务部门联合市直机关工委、市委组织部积极组织引导社区与各超市、菜市场、农产品批发市...</td>\n",
       "      <td>组织</td>\n",
       "      <td>市委组织部</td>\n",
       "      <td>社区与各超市、菜市场、农产品批发市场对接</td>\n",
       "      <td>NaN</td>\n",
       "      <td>NaN</td>\n",
       "    </tr>\n",
       "    <tr>\n",
       "      <th>5498</th>\n",
       "      <td>5698</td>\n",
       "      <td>通过在北京大学开设的课程以及在北京高等师范学校的兼课和在武汉、上海、成都等地高校的讲学活动，...</td>\n",
       "      <td>培养</td>\n",
       "      <td>李大钊</td>\n",
       "      <td>第一代熟悉马克思主义唯物史观的高等专门人才</td>\n",
       "      <td>NaN</td>\n",
       "      <td>中国</td>\n",
       "    </tr>\n",
       "    <tr>\n",
       "      <th>1608</th>\n",
       "      <td>1375</td>\n",
       "      <td>她告诉记者，自己的成长不仅是靠自身努力而得来，更重要的是，得益于中国铁路日渐完善的服务体系</td>\n",
       "      <td>得益</td>\n",
       "      <td>自己的成长</td>\n",
       "      <td>中国铁路日渐完善的服务体系</td>\n",
       "      <td>NaN</td>\n",
       "      <td>NaN</td>\n",
       "    </tr>\n",
       "    <tr>\n",
       "      <th>3757</th>\n",
       "      <td>3874</td>\n",
       "      <td>原标题：4月8日起，武汉恢复巡游出租车运营今日，记者从武汉市防疫指挥部获悉，为做好解除离汉通...</td>\n",
       "      <td>恢复</td>\n",
       "      <td>武汉</td>\n",
       "      <td>巡游出租车运营</td>\n",
       "      <td>4月8日起</td>\n",
       "      <td>NaN</td>\n",
       "    </tr>\n",
       "    <tr>\n",
       "      <th>3715</th>\n",
       "      <td>3846</td>\n",
       "      <td>原标题：军方援鄂专家组组长：我们发现个别健康人携带病毒今晚(6日)的《新闻1+1》，白岩松连...</td>\n",
       "      <td>连线</td>\n",
       "      <td>白岩松</td>\n",
       "      <td>军方援鄂前方专家组组长、解放军总医院呼吸科专家刘又宁</td>\n",
       "      <td>6日</td>\n",
       "      <td>NaN</td>\n",
       "    </tr>\n",
       "    <tr>\n",
       "      <th>7173</th>\n",
       "      <td>7058</td>\n",
       "      <td>印度总理莫迪上3月25日宣布印度全国封城三周，严禁印度13亿人口离开家门外出活动，2日是印度...</td>\n",
       "      <td>宣布</td>\n",
       "      <td>印度总理莫迪</td>\n",
       "      <td>印度全国封城三周</td>\n",
       "      <td>上3月25日</td>\n",
       "      <td>NaN</td>\n",
       "    </tr>\n",
       "    <tr>\n",
       "      <th>4986</th>\n",
       "      <td>5256</td>\n",
       "      <td>在这种逆境中，戴笠养成了揣摩蒋介石心理的习惯，他注意分析政治军事形势和蒋介石的情报需求，不辞...</td>\n",
       "      <td>送上</td>\n",
       "      <td>戴笠</td>\n",
       "      <td>他的工作成果</td>\n",
       "      <td>NaN</td>\n",
       "      <td>NaN</td>\n",
       "    </tr>\n",
       "    <tr>\n",
       "      <th>3554</th>\n",
       "      <td>3649</td>\n",
       "      <td>他接受法新社记者电话采访时说，周围的人先前基本没有遵守印度政府的居家要求，现在塔拉维出现病例...</td>\n",
       "      <td>接受</td>\n",
       "      <td>他</td>\n",
       "      <td>法新社记者电话采访</td>\n",
       "      <td>NaN</td>\n",
       "      <td>NaN</td>\n",
       "    </tr>\n",
       "    <tr>\n",
       "      <th>3648</th>\n",
       "      <td>3764</td>\n",
       "      <td>3月24日湖北省新冠肺炎疫情防控指挥部24日发布通告说，经中央批准，武汉市将于4月8日起解除...</td>\n",
       "      <td>发布</td>\n",
       "      <td>湖北省新冠肺炎疫情防控指挥部</td>\n",
       "      <td>通告</td>\n",
       "      <td>3月24日</td>\n",
       "      <td>NaN</td>\n",
       "    </tr>\n",
       "    <tr>\n",
       "      <th>7194</th>\n",
       "      <td>7081</td>\n",
       "      <td>1500余名美国胸科医师学会会员注册参加了研讨会</td>\n",
       "      <td>参加</td>\n",
       "      <td>1500余名美国胸科医师学会会员</td>\n",
       "      <td>研讨会</td>\n",
       "      <td>NaN</td>\n",
       "      <td>NaN</td>\n",
       "    </tr>\n",
       "    <tr>\n",
       "      <th>7612</th>\n",
       "      <td>7532</td>\n",
       "      <td>迈凯伦、红牛、梅赛德斯等七支F1车队也改行生产呼吸机</td>\n",
       "      <td>生产</td>\n",
       "      <td>迈凯伦、红牛、梅赛德斯等七支F1车队</td>\n",
       "      <td>呼吸机</td>\n",
       "      <td>NaN</td>\n",
       "      <td>NaN</td>\n",
       "    </tr>\n",
       "    <tr>\n",
       "      <th>726</th>\n",
       "      <td>700</td>\n",
       "      <td>不到两个月内，她参与响应任务的战“疫”群超过30个，编撰处理表格200余个，核对信息过万条</td>\n",
       "      <td>参与</td>\n",
       "      <td>她</td>\n",
       "      <td>响应任务的战“疫”群超过30个，编撰处理表格200余个，核对信息过万条</td>\n",
       "      <td>NaN</td>\n",
       "      <td>NaN</td>\n",
       "    </tr>\n",
       "    <tr>\n",
       "      <th>4596</th>\n",
       "      <td>4924</td>\n",
       "      <td>……中国有五四运动的基础，在共产国际的帮助和推动下，很快成立了中国共产党</td>\n",
       "      <td>成立</td>\n",
       "      <td>中国</td>\n",
       "      <td>中国共产党</td>\n",
       "      <td>NaN</td>\n",
       "      <td>NaN</td>\n",
       "    </tr>\n",
       "    <tr>\n",
       "      <th>7791</th>\n",
       "      <td>7733</td>\n",
       "      <td>在上海电气风电广东有限公司和亚青会主场馆项目建设现场，李希进车间、进工地，详细了解防疫落实和...</td>\n",
       "      <td>进</td>\n",
       "      <td>李希</td>\n",
       "      <td>工地</td>\n",
       "      <td>NaN</td>\n",
       "      <td>NaN</td>\n",
       "    </tr>\n",
       "    <tr>\n",
       "      <th>765</th>\n",
       "      <td>740</td>\n",
       "      <td>这次“卖空”活动，除了直卖云南基地鲜花之外，还推出了四川芍药、南非公主花、厄瓜多尔玫瑰、荷兰...</td>\n",
       "      <td>直卖</td>\n",
       "      <td>这次“卖空”活动</td>\n",
       "      <td>云南基地鲜花</td>\n",
       "      <td>NaN</td>\n",
       "      <td>NaN</td>\n",
       "    </tr>\n",
       "    <tr>\n",
       "      <th>5148</th>\n",
       "      <td>5389</td>\n",
       "      <td>新形势促使人民币提前发行根据董必武和南汉宸的指示，晋察冀边区财政印刷局开始设计人民币票样</td>\n",
       "      <td>设计</td>\n",
       "      <td>晋察冀边区财政印刷局</td>\n",
       "      <td>人民币票样</td>\n",
       "      <td>NaN</td>\n",
       "      <td>NaN</td>\n",
       "    </tr>\n",
       "    <tr>\n",
       "      <th>6982</th>\n",
       "      <td>6893</td>\n",
       "      <td>商经局局长邱腾华指出：“该集节目当中的表达，有违一个中国的原则及《香港电台约章》中香港电台作...</td>\n",
       "      <td>有违</td>\n",
       "      <td>该集节目当中的表达</td>\n",
       "      <td>一个中国的原则及《香港电台约章》中香港电台作为公共广播机构所订明的目的和使命</td>\n",
       "      <td>NaN</td>\n",
       "      <td>NaN</td>\n",
       "    </tr>\n",
       "    <tr>\n",
       "      <th>3641</th>\n",
       "      <td>3754</td>\n",
       "      <td>安全、防火4月4日，清明小长假的首日，江西省委书记刘奇检查调度了江西全省安全生产工作</td>\n",
       "      <td>检查</td>\n",
       "      <td>江西省委书记刘奇</td>\n",
       "      <td>江西全省安全生产工作</td>\n",
       "      <td>4月4日</td>\n",
       "      <td>NaN</td>\n",
       "    </tr>\n",
       "    <tr>\n",
       "      <th>1031</th>\n",
       "      <td>975</td>\n",
       "      <td>2020年1月27日，湖北省枣阳市市场监管局根据群众举报，对枣阳市王城镇个体工商户田某经营场...</td>\n",
       "      <td>检查</td>\n",
       "      <td>湖北省枣阳市市场监管局</td>\n",
       "      <td>枣阳市王城镇个体工商户田某经营场所</td>\n",
       "      <td>2020年1月27日</td>\n",
       "      <td>NaN</td>\n",
       "    </tr>\n",
       "    <tr>\n",
       "      <th>484</th>\n",
       "      <td>409</td>\n",
       "      <td>◆中国同非洲国家首次就新冠肺炎疫情防控举行专家视频会议</td>\n",
       "      <td>举行</td>\n",
       "      <td>非洲国家</td>\n",
       "      <td>专家视频会议</td>\n",
       "      <td>NaN</td>\n",
       "      <td>NaN</td>\n",
       "    </tr>\n",
       "  </tbody>\n",
       "</table>\n",
       "</div>"
      ],
      "text/plain": [
       "        id                                               news trigger              object                                 subject        time location\n",
       "1270  1130  为此，该市商务部门联合市直机关工委、市委组织部积极组织引导社区与各超市、菜市场、农产品批发市...      组织               市委组织部                    社区与各超市、菜市场、农产品批发市场对接         NaN      NaN\n",
       "5498  5698  通过在北京大学开设的课程以及在北京高等师范学校的兼课和在武汉、上海、成都等地高校的讲学活动，...      培养                 李大钊                   第一代熟悉马克思主义唯物史观的高等专门人才         NaN       中国\n",
       "1608  1375      她告诉记者，自己的成长不仅是靠自身努力而得来，更重要的是，得益于中国铁路日渐完善的服务体系      得益               自己的成长                           中国铁路日渐完善的服务体系         NaN      NaN\n",
       "3757  3874  原标题：4月8日起，武汉恢复巡游出租车运营今日，记者从武汉市防疫指挥部获悉，为做好解除离汉通...      恢复                  武汉                                 巡游出租车运营       4月8日起      NaN\n",
       "3715  3846  原标题：军方援鄂专家组组长：我们发现个别健康人携带病毒今晚(6日)的《新闻1+1》，白岩松连...      连线                 白岩松              军方援鄂前方专家组组长、解放军总医院呼吸科专家刘又宁          6日      NaN\n",
       "7173  7058  印度总理莫迪上3月25日宣布印度全国封城三周，严禁印度13亿人口离开家门外出活动，2日是印度...      宣布              印度总理莫迪                                印度全国封城三周      上3月25日      NaN\n",
       "4986  5256  在这种逆境中，戴笠养成了揣摩蒋介石心理的习惯，他注意分析政治军事形势和蒋介石的情报需求，不辞...      送上                  戴笠                                  他的工作成果         NaN      NaN\n",
       "3554  3649  他接受法新社记者电话采访时说，周围的人先前基本没有遵守印度政府的居家要求，现在塔拉维出现病例...      接受                   他                               法新社记者电话采访         NaN      NaN\n",
       "3648  3764  3月24日湖北省新冠肺炎疫情防控指挥部24日发布通告说，经中央批准，武汉市将于4月8日起解除...      发布      湖北省新冠肺炎疫情防控指挥部                                      通告       3月24日      NaN\n",
       "7194  7081                           1500余名美国胸科医师学会会员注册参加了研讨会      参加    1500余名美国胸科医师学会会员                                     研讨会         NaN      NaN\n",
       "7612  7532                         迈凯伦、红牛、梅赛德斯等七支F1车队也改行生产呼吸机      生产  迈凯伦、红牛、梅赛德斯等七支F1车队                                     呼吸机         NaN      NaN\n",
       "726    700      不到两个月内，她参与响应任务的战“疫”群超过30个，编撰处理表格200余个，核对信息过万条      参与                   她     响应任务的战“疫”群超过30个，编撰处理表格200余个，核对信息过万条         NaN      NaN\n",
       "4596  4924               ……中国有五四运动的基础，在共产国际的帮助和推动下，很快成立了中国共产党      成立                  中国                                   中国共产党         NaN      NaN\n",
       "7791  7733  在上海电气风电广东有限公司和亚青会主场馆项目建设现场，李希进车间、进工地，详细了解防疫落实和...       进                  李希                                      工地         NaN      NaN\n",
       "765    740  这次“卖空”活动，除了直卖云南基地鲜花之外，还推出了四川芍药、南非公主花、厄瓜多尔玫瑰、荷兰...      直卖            这次“卖空”活动                                  云南基地鲜花         NaN      NaN\n",
       "5148  5389       新形势促使人民币提前发行根据董必武和南汉宸的指示，晋察冀边区财政印刷局开始设计人民币票样      设计          晋察冀边区财政印刷局                                   人民币票样         NaN      NaN\n",
       "6982  6893  商经局局长邱腾华指出：“该集节目当中的表达，有违一个中国的原则及《香港电台约章》中香港电台作...      有违           该集节目当中的表达  一个中国的原则及《香港电台约章》中香港电台作为公共广播机构所订明的目的和使命         NaN      NaN\n",
       "3641  3754         安全、防火4月4日，清明小长假的首日，江西省委书记刘奇检查调度了江西全省安全生产工作      检查            江西省委书记刘奇                              江西全省安全生产工作        4月4日      NaN\n",
       "1031   975  2020年1月27日，湖北省枣阳市市场监管局根据群众举报，对枣阳市王城镇个体工商户田某经营场...      检查         湖北省枣阳市市场监管局                       枣阳市王城镇个体工商户田某经营场所  2020年1月27日      NaN\n",
       "484    409                        ◆中国同非洲国家首次就新冠肺炎疫情防控举行专家视频会议      举行                非洲国家                                  专家视频会议         NaN      NaN"
      ]
     },
     "execution_count": 5,
     "metadata": {},
     "output_type": "execute_result"
    }
   ],
   "source": [
    "train_raw.sample(20)"
   ]
  },
  {
   "cell_type": "code",
   "execution_count": 5,
   "metadata": {},
   "outputs": [],
   "source": [
    "test_raw = pd.read_csv(args.DATA_DIR+'test/test.csv')"
   ]
  },
  {
   "cell_type": "code",
   "execution_count": 13,
   "metadata": {},
   "outputs": [
    {
     "data": {
      "text/html": [
       "<div>\n",
       "<style scoped>\n",
       "    .dataframe tbody tr th:only-of-type {\n",
       "        vertical-align: middle;\n",
       "    }\n",
       "\n",
       "    .dataframe tbody tr th {\n",
       "        vertical-align: top;\n",
       "    }\n",
       "\n",
       "    .dataframe thead th {\n",
       "        text-align: right;\n",
       "    }\n",
       "</style>\n",
       "<table border=\"1\" class=\"dataframe\">\n",
       "  <thead>\n",
       "    <tr style=\"text-align: right;\">\n",
       "      <th></th>\n",
       "      <th>id</th>\n",
       "      <th>news</th>\n",
       "    </tr>\n",
       "  </thead>\n",
       "  <tbody>\n",
       "    <tr>\n",
       "      <th>0</th>\n",
       "      <td>7953</td>\n",
       "      <td>此外，深航积极恢复湖北其他城市的航班运力，已于近日陆续恢复襄阳往返深圳、惠州、沈阳、珠海，宜...</td>\n",
       "    </tr>\n",
       "    <tr>\n",
       "      <th>1</th>\n",
       "      <td>7955</td>\n",
       "      <td>同时，因其违反中国法律、法规规定，妨害社会管理，根据《出境入境管理法》第八十一条第一款，越秀...</td>\n",
       "    </tr>\n",
       "    <tr>\n",
       "      <th>2</th>\n",
       "      <td>7956</td>\n",
       "      <td>2008年间，佛山市南海区某五金机械厂等8名合法债权人因与罗某丰所经营的某灯具公司发生买卖合...</td>\n",
       "    </tr>\n",
       "    <tr>\n",
       "      <th>3</th>\n",
       "      <td>7959</td>\n",
       "      <td>广州男子涉嫌偷拍女同学发布淫秽信息，学校发声4月8日9时许，广州警方发布通报，经过缜密调查，...</td>\n",
       "    </tr>\n",
       "    <tr>\n",
       "      <th>4</th>\n",
       "      <td>7960</td>\n",
       "      <td>作为广东深圳一家节能企业的董事长，从1月29日开始，李海建便来到武汉参与医疗废弃物焚烧车间建设</td>\n",
       "    </tr>\n",
       "  </tbody>\n",
       "</table>\n",
       "</div>"
      ],
      "text/plain": [
       "     id                                               news\n",
       "0  7953  此外，深航积极恢复湖北其他城市的航班运力，已于近日陆续恢复襄阳往返深圳、惠州、沈阳、珠海，宜...\n",
       "1  7955  同时，因其违反中国法律、法规规定，妨害社会管理，根据《出境入境管理法》第八十一条第一款，越秀...\n",
       "2  7956  2008年间，佛山市南海区某五金机械厂等8名合法债权人因与罗某丰所经营的某灯具公司发生买卖合...\n",
       "3  7959  广州男子涉嫌偷拍女同学发布淫秽信息，学校发声4月8日9时许，广州警方发布通报，经过缜密调查，...\n",
       "4  7960    作为广东深圳一家节能企业的董事长，从1月29日开始，李海建便来到武汉参与医疗废弃物焚烧车间建设"
      ]
     },
     "execution_count": 13,
     "metadata": {},
     "output_type": "execute_result"
    }
   ],
   "source": [
    "test_raw.head()"
   ]
  },
  {
   "cell_type": "code",
   "execution_count": 14,
   "metadata": {},
   "outputs": [
    {
     "data": {
      "text/plain": [
       "(1200, 2)"
      ]
     },
     "execution_count": 14,
     "metadata": {},
     "output_type": "execute_result"
    }
   ],
   "source": [
    "test_raw.shape"
   ]
  },
  {
   "cell_type": "markdown",
   "metadata": {},
   "source": [
    "## 脏数据"
   ]
  },
  {
   "cell_type": "markdown",
   "metadata": {},
   "source": [
    "### time 脏数据\n",
    "\n",
    "邓小平 交通运输部 农业农村部 颐年堂之后 资委会领导人孙越崎"
   ]
  },
  {
   "cell_type": "code",
   "execution_count": 6,
   "metadata": {},
   "outputs": [],
   "source": [
    "tmp = train_raw.time[train_raw.time.notnull()].copy()"
   ]
  },
  {
   "cell_type": "code",
   "execution_count": 7,
   "metadata": {},
   "outputs": [
    {
     "data": {
      "text/plain": [
       "74               今年\n",
       "222              凌晨\n",
       "228              凌晨\n",
       "526              今年\n",
       "601           １８日下午\n",
       "620            春节期间\n",
       "822            本世纪初\n",
       "842             去年起\n",
       "879            除夕深夜\n",
       "880            除夕深夜\n",
       "1160             春节\n",
       "1276          农业农村部\n",
       "1302             今年\n",
       "1303             今年\n",
       "1304             今年\n",
       "1305             今年\n",
       "1408            今年初\n",
       "1416            近两年\n",
       "1430             昨天\n",
       "1441           这个春节\n",
       "1488             春秋\n",
       "1663             除夕\n",
       "1678             除夕\n",
       "1778             今年\n",
       "2023             去年\n",
       "2041          今年上半年\n",
       "2044            今年初\n",
       "2077          交通运输部\n",
       "2130           今年年初\n",
       "2132             今年\n",
       "2393            除夕夜\n",
       "2804            周日晚\n",
       "2812           今天下午\n",
       "3034           今天下午\n",
       "3389             明末\n",
       "3390             明末\n",
       "3540             今年\n",
       "3789        清明节假日期间\n",
       "3916             次日\n",
       "3945           两个多月\n",
       "4023           今天下午\n",
       "4071             次日\n",
       "4073             次日\n",
       "4074             次日\n",
       "4075             次日\n",
       "4076             次日\n",
       "4077             次日\n",
       "4325          １９３０年\n",
       "4326          １９３０年\n",
       "4327          １９３０年\n",
       "4328          １９３２年\n",
       "4329          １９３０年\n",
       "4330          １９３１年\n",
       "4331          １９３２年\n",
       "4347        ４月２９日上午\n",
       "4405          １９５３年\n",
       "4408          １９８１年\n",
       "4543             八号\n",
       "4930          １９５４年\n",
       "4931          １９５４年\n",
       "4932          １９５４年\n",
       "4933     １９６７年９月１３日\n",
       "4934     １９６７年９月１３日\n",
       "4935     １９６７年９月１３日\n",
       "5071    １９６１年１０月１５日\n",
       "5195            邓小平\n",
       "5221             五年\n",
       "5528          发生几天后\n",
       "5544        在新中国成立前\n",
       "5546             日前\n",
       "5547             日前\n",
       "5549           两年以后\n",
       "5555             次日\n",
       "5571             上午\n",
       "5577             半夜\n",
       "5596           元旦当天\n",
       "5597             上年\n",
       "5607          颐年堂之后\n",
       "5652           两个月前\n",
       "5653           两个月前\n",
       "5702            四个月\n",
       "5730             下午\n",
       "5745            两天后\n",
       "5912      资委会领导人孙越崎\n",
       "6223     １９６７年２月１５日\n",
       "6289          次日拂晓前\n",
       "6331    １９６９年１０月１８日\n",
       "6332    １９６９年１０月１８日\n",
       "6435          过去两个月\n",
       "6520            本年初\n",
       "6521            本年初\n",
       "6529          上周六下午\n",
       "6551            本年初\n",
       "6612            上周五\n",
       "6673             去年\n",
       "6736             今年\n",
       "6938             昨日\n",
       "6939             昨日\n",
       "6966             昨日\n",
       "7122             去年\n",
       "7314            两周前\n",
       "7390             清明\n",
       "7434            上个月\n",
       "7660            当天晚\n",
       "7817             清明\n",
       "7850             下午\n",
       "Name: time, dtype: object"
      ]
     },
     "execution_count": 7,
     "metadata": {},
     "output_type": "execute_result"
    }
   ],
   "source": [
    "tmp[~tmp.str.contains(r'[1-9]|[一二三十]')]"
   ]
  },
  {
   "cell_type": "code",
   "execution_count": 6,
   "metadata": {},
   "outputs": [],
   "source": [
    "train_raw.loc[train_raw.time=='邓小平', 'object'] = '邓小平'\n",
    "\n",
    "train_raw.loc[train_raw.time=='邓小平', 'time'] = None\n",
    "\n",
    "train_raw.loc[train_raw.time=='交通运输部', 'object'] = '交通运输部'\n",
    "\n",
    "train_raw.loc[train_raw.time=='交通运输部', 'time'] = None\n",
    "\n",
    "train_raw.loc[train_raw.time=='农业农村部', 'object'] = '农业农村部'\n",
    "\n",
    "train_raw.loc[train_raw.time=='农业农村部', 'time'] = None\n",
    "\n",
    "train_raw.loc[train_raw.time=='资委会领导人孙越崎', 'object'] = '资委会领导人孙越崎'\n",
    "\n",
    "train_raw.loc[train_raw.time=='资委会领导人孙越崎', 'time'] = '6月'\n",
    "\n",
    "train_raw.loc[train_raw.time=='颐年堂之后', 'time'] = None"
   ]
  },
  {
   "cell_type": "markdown",
   "metadata": {},
   "source": [
    "### 还有一些奇怪的编码方式 需要确认一下模型的识别效果\n",
    "\n",
    "１９６７年２月１５日\n",
    "\n",
    "经验证，或影响transformer的tokenize结果！"
   ]
  },
  {
   "cell_type": "code",
   "execution_count": 7,
   "metadata": {},
   "outputs": [],
   "source": [
    "strange_dict = {\n",
    "    '１': '1',\n",
    "    '９': '9',\n",
    "    '６': '6',\n",
    "    '７': '7',\n",
    "    '２': '2',\n",
    "    '５': '5',\n",
    "    '３': '3',\n",
    "    '４': '4',\n",
    "    '８': '8',\n",
    "    '０': '0',\n",
    "    '\\u200d': ' ',\n",
    "    '■': ' ',\n",
    "    '▼': ' ',\n",
    "    '△': ' ',\n",
    "#     '': ' ',\n",
    "}"
   ]
  },
  {
   "cell_type": "markdown",
   "metadata": {},
   "source": [
    "#### 验证test中是否有这些奇怪的编码\n",
    "没有 nice!!!!!"
   ]
  },
  {
   "cell_type": "code",
   "execution_count": 8,
   "metadata": {},
   "outputs": [
    {
     "data": {
      "text/plain": [
       "'１９６７２５３４８０\\u200d■▼△'"
      ]
     },
     "execution_count": 8,
     "metadata": {},
     "output_type": "execute_result"
    }
   ],
   "source": [
    "''.join(strange_dict.keys())"
   ]
  },
  {
   "cell_type": "code",
   "execution_count": 9,
   "metadata": {},
   "outputs": [
    {
     "data": {
      "text/html": [
       "<div>\n",
       "<style scoped>\n",
       "    .dataframe tbody tr th:only-of-type {\n",
       "        vertical-align: middle;\n",
       "    }\n",
       "\n",
       "    .dataframe tbody tr th {\n",
       "        vertical-align: top;\n",
       "    }\n",
       "\n",
       "    .dataframe thead th {\n",
       "        text-align: right;\n",
       "    }\n",
       "</style>\n",
       "<table border=\"1\" class=\"dataframe\">\n",
       "  <thead>\n",
       "    <tr style=\"text-align: right;\">\n",
       "      <th></th>\n",
       "      <th>id</th>\n",
       "      <th>news</th>\n",
       "    </tr>\n",
       "  </thead>\n",
       "  <tbody>\n",
       "    <tr>\n",
       "      <th>169</th>\n",
       "      <td>8276</td>\n",
       "      <td>△案件再审相关文书“我举报2010年孙大强交通肇事的案件，真凶并非孙大强，而是他的亲弟弟孙大...</td>\n",
       "    </tr>\n",
       "    <tr>\n",
       "      <th>525</th>\n",
       "      <td>8974</td>\n",
       "      <td>■社论“新基建”不仅为疫情后经济复苏提供助力，更可以从根本上加速我国经济换挡升级，提升中国经...</td>\n",
       "    </tr>\n",
       "    <tr>\n",
       "      <th>770</th>\n",
       "      <td>9347</td>\n",
       "      <td>■来论3月7日晚间，福建泉州南环路附近一处酒店发生倒塌</td>\n",
       "    </tr>\n",
       "  </tbody>\n",
       "</table>\n",
       "</div>"
      ],
      "text/plain": [
       "       id                                               news\n",
       "169  8276  △案件再审相关文书“我举报2010年孙大强交通肇事的案件，真凶并非孙大强，而是他的亲弟弟孙大...\n",
       "525  8974  ■社论“新基建”不仅为疫情后经济复苏提供助力，更可以从根本上加速我国经济换挡升级，提升中国经...\n",
       "770  9347                        ■来论3月7日晚间，福建泉州南环路附近一处酒店发生倒塌"
      ]
     },
     "execution_count": 9,
     "metadata": {},
     "output_type": "execute_result"
    }
   ],
   "source": [
    "test_raw[test_raw.news.str.contains(fr'[{\"\".join(strange_dict.keys())}]')]"
   ]
  },
  {
   "cell_type": "code",
   "execution_count": 10,
   "metadata": {},
   "outputs": [
    {
     "data": {
      "text/plain": [
       "{65297: '1',\n",
       " 65305: '9',\n",
       " 65302: '6',\n",
       " 65303: '7',\n",
       " 65298: '2',\n",
       " 65301: '5',\n",
       " 65299: '3',\n",
       " 65300: '4',\n",
       " 65304: '8',\n",
       " 65296: '0',\n",
       " 8205: ' ',\n",
       " 9632: ' ',\n",
       " 9660: ' ',\n",
       " 9651: ' '}"
      ]
     },
     "execution_count": 10,
     "metadata": {},
     "output_type": "execute_result"
    }
   ],
   "source": [
    "r = str.maketrans(strange_dict)\n",
    "r"
   ]
  },
  {
   "cell_type": "code",
   "execution_count": 11,
   "metadata": {},
   "outputs": [
    {
     "data": {
      "text/plain": [
       "'１９３２年'"
      ]
     },
     "execution_count": 11,
     "metadata": {},
     "output_type": "execute_result"
    }
   ],
   "source": [
    "train_raw['time'].loc[4331]"
   ]
  },
  {
   "cell_type": "code",
   "execution_count": 11,
   "metadata": {},
   "outputs": [],
   "source": [
    "train_raw['news'] = train_raw['news'].map(lambda s: s.translate(r))\n",
    "\n",
    "train_raw['time'] = train_raw['time'].map(lambda s: s.translate(r), na_action='ignore')\n",
    "\n",
    "train_raw['trigger'] = train_raw['trigger'].map(lambda s: s.translate(r), na_action='ignore')\n",
    "train_raw['object'] = train_raw['object'].map(lambda s: s.translate(r), na_action='ignore')\n",
    "train_raw['subject'] = train_raw['subject'].map(lambda s: s.translate(r), na_action='ignore')\n",
    "train_raw['location'] = train_raw['location'].map(lambda s: s.translate(r), na_action='ignore')"
   ]
  },
  {
   "cell_type": "code",
   "execution_count": 12,
   "metadata": {},
   "outputs": [],
   "source": [
    "test_raw['news'] = test_raw['news'].map(lambda s: s.translate(r))"
   ]
  },
  {
   "cell_type": "code",
   "execution_count": 22,
   "metadata": {},
   "outputs": [
    {
     "data": {
      "text/plain": [
       "'1932年'"
      ]
     },
     "execution_count": 22,
     "metadata": {},
     "output_type": "execute_result"
    }
   ],
   "source": [
    "train_raw['time'].loc[4331]"
   ]
  },
  {
   "cell_type": "code",
   "execution_count": 13,
   "metadata": {},
   "outputs": [
    {
     "data": {
      "text/plain": [
       "Series([], Name: news, dtype: object)"
      ]
     },
     "execution_count": 13,
     "metadata": {},
     "output_type": "execute_result"
    }
   ],
   "source": [
    "train_raw.news[train_raw.news.str.contains('\\u200d')]"
   ]
  },
  {
   "cell_type": "code",
   "execution_count": 14,
   "metadata": {},
   "outputs": [
    {
     "data": {
      "text/plain": [
       "Series([], Name: news, dtype: object)"
      ]
     },
     "execution_count": 14,
     "metadata": {},
     "output_type": "execute_result"
    }
   ],
   "source": [
    "test_raw.news[test_raw.news.str.contains('\\u200d')]"
   ]
  },
  {
   "cell_type": "code",
   "execution_count": 15,
   "metadata": {},
   "outputs": [
    {
     "data": {
      "text/plain": [
       "Series([], Name: news, dtype: object)"
      ]
     },
     "execution_count": 15,
     "metadata": {},
     "output_type": "execute_result"
    }
   ],
   "source": [
    "train_raw.news[train_raw.news.str.contains('■')]"
   ]
  },
  {
   "cell_type": "code",
   "execution_count": 16,
   "metadata": {},
   "outputs": [
    {
     "data": {
      "text/plain": [
       "Series([], Name: news, dtype: object)"
      ]
     },
     "execution_count": 16,
     "metadata": {},
     "output_type": "execute_result"
    }
   ],
   "source": [
    "test_raw.news[test_raw.news.str.contains('■')]"
   ]
  },
  {
   "cell_type": "code",
   "execution_count": 17,
   "metadata": {},
   "outputs": [
    {
     "data": {
      "text/plain": [
       "Series([], Name: news, dtype: object)"
      ]
     },
     "execution_count": 17,
     "metadata": {},
     "output_type": "execute_result"
    }
   ],
   "source": [
    "train_raw.news[train_raw.news.str.contains('▼')]"
   ]
  },
  {
   "cell_type": "code",
   "execution_count": 18,
   "metadata": {},
   "outputs": [
    {
     "data": {
      "text/plain": [
       "Series([], Name: news, dtype: object)"
      ]
     },
     "execution_count": 18,
     "metadata": {},
     "output_type": "execute_result"
    }
   ],
   "source": [
    "test_raw.news[test_raw.news.str.contains('▼')]"
   ]
  },
  {
   "cell_type": "code",
   "execution_count": 19,
   "metadata": {},
   "outputs": [
    {
     "data": {
      "text/plain": [
       "Series([], Name: news, dtype: object)"
      ]
     },
     "execution_count": 19,
     "metadata": {},
     "output_type": "execute_result"
    }
   ],
   "source": [
    "train_raw.news[train_raw.news.str.contains('△')]"
   ]
  },
  {
   "cell_type": "code",
   "execution_count": 20,
   "metadata": {},
   "outputs": [
    {
     "data": {
      "text/plain": [
       "Series([], Name: news, dtype: object)"
      ]
     },
     "execution_count": 20,
     "metadata": {},
     "output_type": "execute_result"
    }
   ],
   "source": [
    "test_raw.news[test_raw.news.str.contains('△')]"
   ]
  },
  {
   "cell_type": "markdown",
   "metadata": {},
   "source": [
    "### 修改其它一些错误"
   ]
  },
  {
   "cell_type": "code",
   "execution_count": 21,
   "metadata": {},
   "outputs": [
    {
     "data": {
      "text/plain": [
       "id                                                          1\n",
       "news        新华社北京4月7日电（记者王优玲）人力资源社会保障部7日启动第七届大中城市联合招聘高校毕业生...\n",
       "trigger                                                    启动\n",
       "object                                              人力资源社会保障部\n",
       "subject                                第七届大中城市联合招聘高校毕业生春季专场活动\n",
       "time                                                       7日\n",
       "location                                                  NaN\n",
       "Name: 0, dtype: object"
      ]
     },
     "execution_count": 21,
     "metadata": {},
     "output_type": "execute_result"
    }
   ],
   "source": [
    "train_raw.loc[0]"
   ]
  },
  {
   "cell_type": "code",
   "execution_count": 22,
   "metadata": {},
   "outputs": [],
   "source": [
    "train_raw.loc[0, 'time'] = '4月7日'"
   ]
  },
  {
   "cell_type": "code",
   "execution_count": 23,
   "metadata": {},
   "outputs": [
    {
     "data": {
      "text/plain": [
       "id                                                         35\n",
       "news        新华社北京4月7日电（记者孙少龙）记者7日从民政部获悉，民政部近日对各地提出指导意见，要求各...\n",
       "trigger                                                    提出\n",
       "object                                                    民政部\n",
       "subject                                                  指导意见\n",
       "time                                                       7日\n",
       "location                                                  NaN\n",
       "Name: 45, dtype: object"
      ]
     },
     "execution_count": 23,
     "metadata": {},
     "output_type": "execute_result"
    }
   ],
   "source": [
    "train_raw.loc[45]"
   ]
  },
  {
   "cell_type": "code",
   "execution_count": 24,
   "metadata": {},
   "outputs": [],
   "source": [
    "train_raw.loc[45, 'time'] = '4月7日'"
   ]
  },
  {
   "cell_type": "code",
   "execution_count": 25,
   "metadata": {},
   "outputs": [
    {
     "data": {
      "text/plain": [
       "id                               6307\n",
       "news        后来，他在宁都会议上曾支持让毛泽东留在前方指挥红军\n",
       "trigger                            支持\n",
       "object                              他\n",
       "subject                  让毛泽东留在前方指挥红军\n",
       "time                              NaN\n",
       "location                          宁都上\n",
       "Name: 6247, dtype: object"
      ]
     },
     "execution_count": 25,
     "metadata": {},
     "output_type": "execute_result"
    }
   ],
   "source": [
    "train_raw.loc[6247]"
   ]
  },
  {
   "cell_type": "code",
   "execution_count": 26,
   "metadata": {},
   "outputs": [],
   "source": [
    "train_raw.loc[6247, 'location'] = '宁都会议上'"
   ]
  },
  {
   "cell_type": "code",
   "execution_count": 27,
   "metadata": {},
   "outputs": [
    {
     "data": {
      "text/plain": [
       "id                                  5841\n",
       "news        1964年6～7月，中国连续成功地发射了3枚中程运载火箭\n",
       "trigger                               发射\n",
       "object                                中国\n",
       "subject                         3枚中程运载火箭\n",
       "time                           1964年6~7月\n",
       "location                             NaN\n",
       "Name: 5670, dtype: object"
      ]
     },
     "execution_count": 27,
     "metadata": {},
     "output_type": "execute_result"
    }
   ],
   "source": [
    "train_raw.loc[5670]"
   ]
  },
  {
   "cell_type": "code",
   "execution_count": 28,
   "metadata": {},
   "outputs": [],
   "source": [
    "train_raw.loc[5670, 'time'] = '1964年6～7月'"
   ]
  },
  {
   "cell_type": "code",
   "execution_count": 29,
   "metadata": {},
   "outputs": [
    {
     "data": {
      "text/plain": [
       "id                                                       5685\n",
       "news        为了避免在阿拉善旗边卡被发现，奥希洛夫等人改变行走路线，绕道北银根、查汉扎德盖、图克木、罕乌...\n",
       "trigger                                                    改变\n",
       "object                                                 奥希洛夫等人\n",
       "subject                                                  行走路线\n",
       "time                                                      NaN\n",
       "location                                                 阿拉善边\n",
       "Name: 5477, dtype: object"
      ]
     },
     "execution_count": 29,
     "metadata": {},
     "output_type": "execute_result"
    }
   ],
   "source": [
    "train_raw.loc[5477]"
   ]
  },
  {
   "cell_type": "code",
   "execution_count": 30,
   "metadata": {},
   "outputs": [],
   "source": [
    "train_raw.loc[5477, 'location'] = '阿拉善旗边卡'"
   ]
  },
  {
   "cell_type": "code",
   "execution_count": 31,
   "metadata": {},
   "outputs": [
    {
     "data": {
      "text/plain": [
       "id                                                       5534\n",
       "news        一1959年7月中旬，在党中央召开的庐山会议上，彭德怀根据他深入群众、实地视察的所见所闻，对...\n",
       "trigger                                                    提出\n",
       "object                                                    彭德怀\n",
       "subject                                              自己的看法和意见\n",
       "time                                               一1959年7月中旬\n",
       "location                                                  庐山上\n",
       "Name: 5308, dtype: object"
      ]
     },
     "execution_count": 31,
     "metadata": {},
     "output_type": "execute_result"
    }
   ],
   "source": [
    "train_raw.loc[5308]"
   ]
  },
  {
   "cell_type": "code",
   "execution_count": 32,
   "metadata": {},
   "outputs": [],
   "source": [
    "train_raw.loc[5308, 'location'] = '庐山会议上'"
   ]
  },
  {
   "cell_type": "code",
   "execution_count": 33,
   "metadata": {},
   "outputs": [
    {
     "data": {
      "text/plain": [
       "id                                          5510\n",
       "news        与许多革命元勋一样，贺龙在成为共产主义者之前，接受了孙中山三民主义的熏陶\n",
       "trigger                                       接受\n",
       "object                                        贺龙\n",
       "subject                               孙中山三民主义的熏陶\n",
       "time                                         NaN\n",
       "location                                    共产之前\n",
       "Name: 5280, dtype: object"
      ]
     },
     "execution_count": 33,
     "metadata": {},
     "output_type": "execute_result"
    }
   ],
   "source": [
    "train_raw.loc[5280]"
   ]
  },
  {
   "cell_type": "code",
   "execution_count": 34,
   "metadata": {},
   "outputs": [],
   "source": [
    "train_raw.loc[5280, 'location'] = None"
   ]
  },
  {
   "cell_type": "code",
   "execution_count": 35,
   "metadata": {},
   "outputs": [
    {
     "data": {
      "text/plain": [
       "id                                              4248\n",
       "news        这段视频公开了不少中央指导组在湖北战疫中的珍贵工作画面，也披露了孙春兰的工作情况\n",
       "trigger                                           披露\n",
       "object                                          这段视频\n",
       "subject                                     孙春兰的工作情况\n",
       "time                                             NaN\n",
       "location                                         湖北中\n",
       "Name: 4062, dtype: object"
      ]
     },
     "execution_count": 35,
     "metadata": {},
     "output_type": "execute_result"
    }
   ],
   "source": [
    "train_raw.loc[4062]"
   ]
  },
  {
   "cell_type": "code",
   "execution_count": 36,
   "metadata": {},
   "outputs": [],
   "source": [
    "train_raw.loc[4062, 'location'] = '湖北战疫中'"
   ]
  },
  {
   "cell_type": "code",
   "execution_count": 37,
   "metadata": {},
   "outputs": [
    {
     "data": {
      "text/plain": [
       "id                                                       3919\n",
       "news        厦门市宣布，2020年6月30日前，国有A级景区向市民游客免费开放，对厦门市旅行社组织招徕福...\n",
       "trigger                                                  免费开放\n",
       "object                                                 国有A级景区\n",
       "subject                                                   NaN\n",
       "time                                              2020年6月30日前\n",
       "location                                                  福建内\n",
       "Name: 3792, dtype: object"
      ]
     },
     "execution_count": 37,
     "metadata": {},
     "output_type": "execute_result"
    }
   ],
   "source": [
    "train_raw.loc[3792]"
   ]
  },
  {
   "cell_type": "code",
   "execution_count": 38,
   "metadata": {},
   "outputs": [],
   "source": [
    "train_raw.loc[3792, 'location'] = '福建省内'"
   ]
  },
  {
   "cell_type": "code",
   "execution_count": 39,
   "metadata": {
    "scrolled": true
   },
   "outputs": [
    {
     "data": {
      "text/plain": [
       "id                                                       1294\n",
       "news        2017年7－8月，华贵人寿在银保业务经营过程中，制定并执行营销方案，向投保人赠送价值合计1...\n",
       "trigger                                                    制定\n",
       "object                                                   华贵人寿\n",
       "subject                                                  营销方案\n",
       "time                                                2017年7-8月\n",
       "location                                                  NaN\n",
       "Name: 1512, dtype: object"
      ]
     },
     "execution_count": 39,
     "metadata": {},
     "output_type": "execute_result"
    }
   ],
   "source": [
    "train_raw.loc[1512]"
   ]
  },
  {
   "cell_type": "code",
   "execution_count": 40,
   "metadata": {
    "scrolled": true
   },
   "outputs": [],
   "source": [
    "train_raw.loc[1512, 'time'] = '2017年7－8月'"
   ]
  },
  {
   "cell_type": "code",
   "execution_count": 41,
   "metadata": {},
   "outputs": [
    {
     "data": {
      "text/plain": [
       "id                                                       6777\n",
       "news        港珠澳大桥香港口岸明起缩短清关服务时间（中新社资料图片）大公文汇全媒体报道：香港特区政府发言...\n",
       "trigger                                                    公布\n",
       "object                                              香港特区政府发言人\n",
       "subject              港珠澳大桥香港口岸的旅客清关服务时间将于明日(5日)凌晨零时起调整，直至另行通告\n",
       "time                                                    今日(4日\n",
       "location                                                  NaN\n",
       "Name: 6852, dtype: object"
      ]
     },
     "execution_count": 41,
     "metadata": {},
     "output_type": "execute_result"
    }
   ],
   "source": [
    "train_raw.loc[6852]"
   ]
  },
  {
   "cell_type": "code",
   "execution_count": 42,
   "metadata": {},
   "outputs": [
    {
     "data": {
      "text/plain": [
       "id                                                       6826\n",
       "news        星岛环球网消息：大公文汇全媒体报道，香港财政司司长陈茂波今日(5日)发表题为《撑企业保就业》的网志\n",
       "trigger                                                    发表\n",
       "object                                             香港财政司司长陈茂波\n",
       "subject                                         题为《撑企业保就业》的网志\n",
       "time                                                    今日(5日\n",
       "location                                                星岛环球网\n",
       "Name: 6908, dtype: object"
      ]
     },
     "execution_count": 42,
     "metadata": {},
     "output_type": "execute_result"
    }
   ],
   "source": [
    "train_raw.loc[6908]"
   ]
  },
  {
   "cell_type": "code",
   "execution_count": 43,
   "metadata": {},
   "outputs": [
    {
     "data": {
      "text/plain": [
       "6852    今日(4日\n",
       "6908    今日(5日\n",
       "Name: time, dtype: object"
      ]
     },
     "execution_count": 43,
     "metadata": {},
     "output_type": "execute_result"
    }
   ],
   "source": [
    "train_raw.time[train_raw.news.str.contains('\\(5日\\)')]"
   ]
  },
  {
   "cell_type": "code",
   "execution_count": 79,
   "metadata": {
    "scrolled": true
   },
   "outputs": [
    {
     "data": {
      "text/html": [
       "<div>\n",
       "<style scoped>\n",
       "    .dataframe tbody tr th:only-of-type {\n",
       "        vertical-align: middle;\n",
       "    }\n",
       "\n",
       "    .dataframe tbody tr th {\n",
       "        vertical-align: top;\n",
       "    }\n",
       "\n",
       "    .dataframe thead th {\n",
       "        text-align: right;\n",
       "    }\n",
       "</style>\n",
       "<table border=\"1\" class=\"dataframe\">\n",
       "  <thead>\n",
       "    <tr style=\"text-align: right;\">\n",
       "      <th></th>\n",
       "      <th>id</th>\n",
       "      <th>news</th>\n",
       "      <th>trigger</th>\n",
       "      <th>object</th>\n",
       "      <th>subject</th>\n",
       "      <th>time</th>\n",
       "      <th>location</th>\n",
       "    </tr>\n",
       "  </thead>\n",
       "  <tbody>\n",
       "    <tr>\n",
       "      <th>1615</th>\n",
       "      <td>1379</td>\n",
       "      <td>辽宁方面也明确开展联盟地区（辽宁省）药品集中采购品种未中选药品梯度降价工作</td>\n",
       "      <td>开展</td>\n",
       "      <td>辽宁方面</td>\n",
       "      <td>联盟地区（辽宁省）药品集中采购品种未中选药品梯度降价工作</td>\n",
       "      <td>NaN</td>\n",
       "      <td>NaN</td>\n",
       "    </tr>\n",
       "    <tr>\n",
       "      <th>4392</th>\n",
       "      <td>4667</td>\n",
       "      <td>1972年8月3日，邓小平再次致信毛泽东，一方面继续批判林彪罪行，同时进一步检查自己的错误，...</td>\n",
       "      <td>提出</td>\n",
       "      <td>邓小平</td>\n",
       "      <td>愿为党和人民做一点工作的要求</td>\n",
       "      <td>1972年8月3日</td>\n",
       "      <td>NaN</td>\n",
       "    </tr>\n",
       "    <tr>\n",
       "      <th>2226</th>\n",
       "      <td>2125</td>\n",
       "      <td>小米公司在业内率先提出“全面屏”概念，其发售的MIX系列手机随后被各大手机厂商纷纷效仿，MI...</td>\n",
       "      <td>提出</td>\n",
       "      <td>小米公司</td>\n",
       "      <td>“全面屏”概念</td>\n",
       "      <td>NaN</td>\n",
       "      <td>NaN</td>\n",
       "    </tr>\n",
       "    <tr>\n",
       "      <th>2445</th>\n",
       "      <td>2404</td>\n",
       "      <td>“有人说我们村造房子用的混凝土是劣质的，还说是我们村书记许时新介绍的，不知道他从中得到什么好...</td>\n",
       "      <td>移交至</td>\n",
       "      <td>许时新</td>\n",
       "      <td>富阳区纪委监委</td>\n",
       "      <td>NaN</td>\n",
       "      <td>NaN</td>\n",
       "    </tr>\n",
       "    <tr>\n",
       "      <th>4441</th>\n",
       "      <td>4723</td>\n",
       "      <td>6月18日，北大的聂元梓写大字报反对八条指示，并揪斗了校领导陆平、彭云和著名历史学教授翦伯赞等人</td>\n",
       "      <td>反对</td>\n",
       "      <td>北大的聂元梓</td>\n",
       "      <td>八条指示</td>\n",
       "      <td>6月18日</td>\n",
       "      <td>NaN</td>\n",
       "    </tr>\n",
       "    <tr>\n",
       "      <th>4181</th>\n",
       "      <td>4410</td>\n",
       "      <td>原标题：国家卫健委为16类重点人群打造“个性化”防控方案为有效防止聚集性疫情的发生，将疫情风...</td>\n",
       "      <td>打造</td>\n",
       "      <td>国家卫健委</td>\n",
       "      <td>“个性化”防控方案</td>\n",
       "      <td>NaN</td>\n",
       "      <td>NaN</td>\n",
       "    </tr>\n",
       "    <tr>\n",
       "      <th>288</th>\n",
       "      <td>265</td>\n",
       "      <td>◆国务院联防联控机制召开新闻发布会，介绍新型冠状病毒感染的肺炎疫情防控工作中孕产妇、婴幼儿和...</td>\n",
       "      <td>召开</td>\n",
       "      <td>国务院联防联控机制</td>\n",
       "      <td>新闻发布会</td>\n",
       "      <td>NaN</td>\n",
       "      <td>NaN</td>\n",
       "    </tr>\n",
       "    <tr>\n",
       "      <th>1059</th>\n",
       "      <td>999</td>\n",
       "      <td>最高检14日消息，河北省人民政府原党组成员、副省长李谦涉嫌受贿一案，由国家监察委员会调查终结...</td>\n",
       "      <td>调查</td>\n",
       "      <td>河北省人民政府原党组成员、副省长李谦</td>\n",
       "      <td>国家监察委员会</td>\n",
       "      <td>NaN</td>\n",
       "      <td>NaN</td>\n",
       "    </tr>\n",
       "    <tr>\n",
       "      <th>5837</th>\n",
       "      <td>5988</td>\n",
       "      <td>与此同时，刘少奇抓住由于日军侵占造成敌后政权真空的时机，委派干部出任专员、县长，并力主建立共...</td>\n",
       "      <td>出任</td>\n",
       "      <td>委派干部</td>\n",
       "      <td>专员、县长</td>\n",
       "      <td>NaN</td>\n",
       "      <td>NaN</td>\n",
       "    </tr>\n",
       "    <tr>\n",
       "      <th>6645</th>\n",
       "      <td>6621</td>\n",
       "      <td>林郑月娥说，食物环境卫生署、警务处、康乐及文化事务署、民政事务总署等发牌机构、执法部门过去两...</td>\n",
       "      <td>作出</td>\n",
       "      <td>食物环境卫生署、警务处、康乐及文化事务署、民政事务总署等发牌机构、执法部门</td>\n",
       "      <td>400多次口头劝喻</td>\n",
       "      <td>NaN</td>\n",
       "      <td>NaN</td>\n",
       "    </tr>\n",
       "    <tr>\n",
       "      <th>1854</th>\n",
       "      <td>1665</td>\n",
       "      <td>新华网西安10月13日电（记者卢俊宇）11日至12日，全国扫黑除恶专项斗争推进会在陕西西安召开</td>\n",
       "      <td>召开</td>\n",
       "      <td>全国扫黑除恶专项斗争推进会</td>\n",
       "      <td>NaN</td>\n",
       "      <td>11日至12日</td>\n",
       "      <td>在陕西西安</td>\n",
       "    </tr>\n",
       "    <tr>\n",
       "      <th>4514</th>\n",
       "      <td>4816</td>\n",
       "      <td>毛泽东标准像资料图在还没建立新中国之前，中国共产党就以纯洁的党风赢得了人民的拥护，由此，也推...</td>\n",
       "      <td>推动</td>\n",
       "      <td>中国共产党</td>\n",
       "      <td>中国革命的胜利前进</td>\n",
       "      <td>NaN</td>\n",
       "      <td>NaN</td>\n",
       "    </tr>\n",
       "    <tr>\n",
       "      <th>7182</th>\n",
       "      <td>7065</td>\n",
       "      <td>图：美国罗斯福号航母上一名船员接受病毒检测\\网络图片星岛环球网消息：停泊在关岛的美国“罗斯福...</td>\n",
       "      <td>安排</td>\n",
       "      <td>美国国防部</td>\n",
       "      <td>航母上约1000人上岸隔离</td>\n",
       "      <td>NaN</td>\n",
       "      <td>NaN</td>\n",
       "    </tr>\n",
       "    <tr>\n",
       "      <th>803</th>\n",
       "      <td>772</td>\n",
       "      <td>86年前，贺龙率领红三军从重庆彭水县进入贵州省沿河土家族自治县后坪乡，并在当地召开入黔后的第...</td>\n",
       "      <td>进入</td>\n",
       "      <td>贺龙率领红三军</td>\n",
       "      <td>贵州省沿河土家族自治县后坪乡</td>\n",
       "      <td>86年前</td>\n",
       "      <td>NaN</td>\n",
       "    </tr>\n",
       "    <tr>\n",
       "      <th>2231</th>\n",
       "      <td>2130</td>\n",
       "      <td>2017年，国务院批准将每年5月10日设立为“中国品牌日”，民族品牌迎来发展良机</td>\n",
       "      <td>设立</td>\n",
       "      <td>国务院批准将每年5月10日</td>\n",
       "      <td>“中国品牌日”</td>\n",
       "      <td>2017年</td>\n",
       "      <td>NaN</td>\n",
       "    </tr>\n",
       "    <tr>\n",
       "      <th>7082</th>\n",
       "      <td>6977</td>\n",
       "      <td>她指出，陈淑庄还诸多推搪、砌词狡辩，为逃避责任而涉嫌一再作出失实陈述，其诚信令人质疑</td>\n",
       "      <td>作出</td>\n",
       "      <td>陈淑庄</td>\n",
       "      <td>失实陈述</td>\n",
       "      <td>NaN</td>\n",
       "      <td>NaN</td>\n",
       "    </tr>\n",
       "    <tr>\n",
       "      <th>4111</th>\n",
       "      <td>4329</td>\n",
       "      <td>继去年“3·30”之后时隔一年，凉山州再次发生扑救森林火灾中人员重大伤亡，令人痛心，教训极其深刻</td>\n",
       "      <td>再次发生</td>\n",
       "      <td>凉山州</td>\n",
       "      <td>扑救森林火灾中人员重大伤亡</td>\n",
       "      <td>NaN</td>\n",
       "      <td>NaN</td>\n",
       "    </tr>\n",
       "    <tr>\n",
       "      <th>5475</th>\n",
       "      <td>5684</td>\n",
       "      <td>王若飞顺利到达内蒙古，在归绥、包头会同乌兰夫等开展了一个多月的工作，准备只身前往宁夏，不幸于...</td>\n",
       "      <td>到达</td>\n",
       "      <td>王若飞</td>\n",
       "      <td>内蒙古</td>\n",
       "      <td>NaN</td>\n",
       "      <td>NaN</td>\n",
       "    </tr>\n",
       "    <tr>\n",
       "      <th>2920</th>\n",
       "      <td>2926</td>\n",
       "      <td>一年之后，中组部等7部门联合发布《关于支持海南开展人才发展体制机制创新的实施方案》</td>\n",
       "      <td>发布</td>\n",
       "      <td>中组部等7部门</td>\n",
       "      <td>《关于支持海南开展人才发展体制机制创新的实施方案》</td>\n",
       "      <td>NaN</td>\n",
       "      <td>NaN</td>\n",
       "    </tr>\n",
       "    <tr>\n",
       "      <th>7347</th>\n",
       "      <td>7227</td>\n",
       "      <td>星岛环球网消息：“厄瓜多尔瓜亚基尔市的街道上几乎空无一人，只能看到几具被扔在街道上的尸体”—...</td>\n",
       "      <td>介绍</td>\n",
       "      <td>美国有线电视电视新闻网</td>\n",
       "      <td>厄瓜多尔当前的疫情形势</td>\n",
       "      <td>3日</td>\n",
       "      <td>NaN</td>\n",
       "    </tr>\n",
       "  </tbody>\n",
       "</table>\n",
       "</div>"
      ],
      "text/plain": [
       "        id                                               news trigger                                 object                       subject       time location\n",
       "1615  1379              辽宁方面也明确开展联盟地区（辽宁省）药品集中采购品种未中选药品梯度降价工作      开展                                   辽宁方面  联盟地区（辽宁省）药品集中采购品种未中选药品梯度降价工作        NaN      NaN\n",
       "4392  4667  1972年8月3日，邓小平再次致信毛泽东，一方面继续批判林彪罪行，同时进一步检查自己的错误，...      提出                                    邓小平                愿为党和人民做一点工作的要求  1972年8月3日      NaN\n",
       "2226  2125  小米公司在业内率先提出“全面屏”概念，其发售的MIX系列手机随后被各大手机厂商纷纷效仿，MI...      提出                                   小米公司                       “全面屏”概念        NaN      NaN\n",
       "2445  2404  “有人说我们村造房子用的混凝土是劣质的，还说是我们村书记许时新介绍的，不知道他从中得到什么好...     移交至                                    许时新                       富阳区纪委监委        NaN      NaN\n",
       "4441  4723   6月18日，北大的聂元梓写大字报反对八条指示，并揪斗了校领导陆平、彭云和著名历史学教授翦伯赞等人      反对                                 北大的聂元梓                          八条指示      6月18日      NaN\n",
       "4181  4410  原标题：国家卫健委为16类重点人群打造“个性化”防控方案为有效防止聚集性疫情的发生，将疫情风...      打造                                  国家卫健委                     “个性化”防控方案        NaN      NaN\n",
       "288    265  ◆国务院联防联控机制召开新闻发布会，介绍新型冠状病毒感染的肺炎疫情防控工作中孕产妇、婴幼儿和...      召开                              国务院联防联控机制                         新闻发布会        NaN      NaN\n",
       "1059   999  最高检14日消息，河北省人民政府原党组成员、副省长李谦涉嫌受贿一案，由国家监察委员会调查终结...      调查                     河北省人民政府原党组成员、副省长李谦                       国家监察委员会        NaN      NaN\n",
       "5837  5988  与此同时，刘少奇抓住由于日军侵占造成敌后政权真空的时机，委派干部出任专员、县长，并力主建立共...      出任                                   委派干部                         专员、县长        NaN      NaN\n",
       "6645  6621  林郑月娥说，食物环境卫生署、警务处、康乐及文化事务署、民政事务总署等发牌机构、执法部门过去两...      作出  食物环境卫生署、警务处、康乐及文化事务署、民政事务总署等发牌机构、执法部门                     400多次口头劝喻        NaN      NaN\n",
       "1854  1665    新华网西安10月13日电（记者卢俊宇）11日至12日，全国扫黑除恶专项斗争推进会在陕西西安召开      召开                          全国扫黑除恶专项斗争推进会                           NaN    11日至12日    在陕西西安\n",
       "4514  4816  毛泽东标准像资料图在还没建立新中国之前，中国共产党就以纯洁的党风赢得了人民的拥护，由此，也推...      推动                                  中国共产党                     中国革命的胜利前进        NaN      NaN\n",
       "7182  7065  图：美国罗斯福号航母上一名船员接受病毒检测\\网络图片星岛环球网消息：停泊在关岛的美国“罗斯福...      安排                                  美国国防部                 航母上约1000人上岸隔离        NaN      NaN\n",
       "803    772  86年前，贺龙率领红三军从重庆彭水县进入贵州省沿河土家族自治县后坪乡，并在当地召开入黔后的第...      进入                                贺龙率领红三军                贵州省沿河土家族自治县后坪乡       86年前      NaN\n",
       "2231  2130           2017年，国务院批准将每年5月10日设立为“中国品牌日”，民族品牌迎来发展良机      设立                          国务院批准将每年5月10日                       “中国品牌日”      2017年      NaN\n",
       "7082  6977         她指出，陈淑庄还诸多推搪、砌词狡辩，为逃避责任而涉嫌一再作出失实陈述，其诚信令人质疑      作出                                    陈淑庄                          失实陈述        NaN      NaN\n",
       "4111  4329   继去年“3·30”之后时隔一年，凉山州再次发生扑救森林火灾中人员重大伤亡，令人痛心，教训极其深刻    再次发生                                    凉山州                 扑救森林火灾中人员重大伤亡        NaN      NaN\n",
       "5475  5684  王若飞顺利到达内蒙古，在归绥、包头会同乌兰夫等开展了一个多月的工作，准备只身前往宁夏，不幸于...      到达                                    王若飞                           内蒙古        NaN      NaN\n",
       "2920  2926          一年之后，中组部等7部门联合发布《关于支持海南开展人才发展体制机制创新的实施方案》      发布                                中组部等7部门     《关于支持海南开展人才发展体制机制创新的实施方案》        NaN      NaN\n",
       "7347  7227  星岛环球网消息：“厄瓜多尔瓜亚基尔市的街道上几乎空无一人，只能看到几具被扔在街道上的尸体”—...      介绍                            美国有线电视电视新闻网                   厄瓜多尔当前的疫情形势         3日      NaN"
      ]
     },
     "execution_count": 79,
     "metadata": {},
     "output_type": "execute_result"
    }
   ],
   "source": [
    "train_raw.sample(20)"
   ]
  },
  {
   "cell_type": "code",
   "execution_count": 44,
   "metadata": {},
   "outputs": [],
   "source": [
    "train_raw.to_pickle('train_raw.pkl')"
   ]
  },
  {
   "cell_type": "markdown",
   "metadata": {},
   "source": [
    "## labeled"
   ]
  },
  {
   "cell_type": "code",
   "execution_count": 45,
   "metadata": {},
   "outputs": [],
   "source": [
    "train_raw = pd.read_pickle('train_raw.pkl')"
   ]
  },
  {
   "cell_type": "code",
   "execution_count": 46,
   "metadata": {},
   "outputs": [],
   "source": [
    "train_raw = train_raw.fillna('')"
   ]
  },
  {
   "cell_type": "code",
   "execution_count": 47,
   "metadata": {},
   "outputs": [],
   "source": [
    "marks_list = []\n",
    "for line in train_raw.itertuples():\n",
    "    marks = ['O'] * len(line.news)\n",
    "    for e, obj in enumerate('trigger object subject time location'.split()):\n",
    "#         print(line[e+3])\n",
    "        if line[e+3] == '': continue \n",
    "        start = line.news.find(line[e+3])\n",
    "        if start != -1:\n",
    "            marks[start] = f'B-{obj}'\n",
    "            for i in range(len(line[e+3])-1):\n",
    "                marks[start+i+1] = f'I-{obj}'\n",
    "    marks_list.append(marks)\n",
    "#     print(marks)\n",
    "#     break"
   ]
  },
  {
   "cell_type": "code",
   "execution_count": 48,
   "metadata": {},
   "outputs": [
    {
     "data": {
      "text/plain": [
       "8000"
      ]
     },
     "execution_count": 48,
     "metadata": {},
     "output_type": "execute_result"
    }
   ],
   "source": [
    "len(marks_list)"
   ]
  },
  {
   "cell_type": "code",
   "execution_count": 49,
   "metadata": {},
   "outputs": [],
   "source": [
    "news_list = train_raw.news.map(list).tolist()"
   ]
  },
  {
   "cell_type": "code",
   "execution_count": 50,
   "metadata": {},
   "outputs": [],
   "source": [
    "results = []\n",
    "for news, marks in zip(news_list, marks_list):\n",
    "    ll = []\n",
    "    for n, m in zip(news, marks):\n",
    "        ll.append(f'{n} {m}')\n",
    "    results.append('\\n'.join(ll))"
   ]
  },
  {
   "cell_type": "code",
   "execution_count": 51,
   "metadata": {},
   "outputs": [
    {
     "data": {
      "text/plain": [
       "8000"
      ]
     },
     "execution_count": 51,
     "metadata": {},
     "output_type": "execute_result"
    }
   ],
   "source": [
    "len(results)"
   ]
  },
  {
   "cell_type": "code",
   "execution_count": 67,
   "metadata": {},
   "outputs": [],
   "source": [
    "with open('kdxf_event.txt', 'w', encoding='utf8') as f:\n",
    "    f.write('\\n\\n'.join(results))"
   ]
  },
  {
   "cell_type": "code",
   "execution_count": 52,
   "metadata": {},
   "outputs": [],
   "source": [
    "with open('train.txt', 'w', encoding='utf8') as f:\n",
    "    f.write('\\n\\n'.join(results[:7000]))"
   ]
  },
  {
   "cell_type": "code",
   "execution_count": 53,
   "metadata": {},
   "outputs": [],
   "source": [
    "with open('dev.txt', 'w', encoding='utf8') as f:\n",
    "    f.write('\\n\\n'.join(results[7000:]))"
   ]
  },
  {
   "cell_type": "code",
   "execution_count": 54,
   "metadata": {
    "scrolled": true
   },
   "outputs": [
    {
     "data": {
      "text/plain": [
       "['新',\n",
       " '华',\n",
       " '社',\n",
       " '北',\n",
       " '京',\n",
       " '4',\n",
       " '月',\n",
       " '7',\n",
       " '日',\n",
       " '电',\n",
       " '（',\n",
       " '记',\n",
       " '者',\n",
       " '王',\n",
       " '优',\n",
       " '玲',\n",
       " '）',\n",
       " '人',\n",
       " '力',\n",
       " '资',\n",
       " '源',\n",
       " '社',\n",
       " '会',\n",
       " '保',\n",
       " '障',\n",
       " '部',\n",
       " '7',\n",
       " '日',\n",
       " '启',\n",
       " '动',\n",
       " '第',\n",
       " '七',\n",
       " '届',\n",
       " '大',\n",
       " '中',\n",
       " '城',\n",
       " '市',\n",
       " '联',\n",
       " '合',\n",
       " '招',\n",
       " '聘',\n",
       " '高',\n",
       " '校',\n",
       " '毕',\n",
       " '业',\n",
       " '生',\n",
       " '春',\n",
       " '季',\n",
       " '专',\n",
       " '场',\n",
       " '活',\n",
       " '动']"
      ]
     },
     "execution_count": 54,
     "metadata": {},
     "output_type": "execute_result"
    }
   ],
   "source": [
    "news_list[0]"
   ]
  },
  {
   "cell_type": "code",
   "execution_count": 55,
   "metadata": {
    "scrolled": true
   },
   "outputs": [
    {
     "data": {
      "text/plain": [
       "['B-object',\n",
       " 'I-object',\n",
       " 'O',\n",
       " 'O',\n",
       " 'O',\n",
       " 'O',\n",
       " 'O',\n",
       " 'O',\n",
       " 'O',\n",
       " 'O',\n",
       " 'O',\n",
       " 'O',\n",
       " 'O',\n",
       " 'O',\n",
       " 'O',\n",
       " 'O',\n",
       " 'O',\n",
       " 'O',\n",
       " 'O',\n",
       " 'O',\n",
       " 'O',\n",
       " 'O',\n",
       " 'O',\n",
       " 'O',\n",
       " 'O',\n",
       " 'O',\n",
       " 'O',\n",
       " 'O',\n",
       " 'O',\n",
       " 'O',\n",
       " 'O',\n",
       " 'O',\n",
       " 'O',\n",
       " 'O',\n",
       " 'O',\n",
       " 'O',\n",
       " 'O',\n",
       " 'B-trigger',\n",
       " 'I-trigger',\n",
       " 'O',\n",
       " 'O',\n",
       " 'B-subject',\n",
       " 'I-subject',\n",
       " 'I-subject',\n",
       " 'I-subject',\n",
       " 'O',\n",
       " 'O',\n",
       " 'O',\n",
       " 'O',\n",
       " 'O',\n",
       " 'O',\n",
       " 'O',\n",
       " 'O',\n",
       " 'O',\n",
       " 'O',\n",
       " 'O',\n",
       " 'O',\n",
       " 'O',\n",
       " 'O',\n",
       " 'O',\n",
       " 'O',\n",
       " 'O',\n",
       " 'O',\n",
       " 'O']"
      ]
     },
     "execution_count": 55,
     "metadata": {},
     "output_type": "execute_result"
    }
   ],
   "source": [
    "marks_list[2]"
   ]
  },
  {
   "cell_type": "code",
   "execution_count": 65,
   "metadata": {},
   "outputs": [],
   "source": [
    "sub_raw = pd.read_csv(args.DATA_DIR+'事件抽取挑战赛_事件抽取挑战赛提交样例.csv')"
   ]
  },
  {
   "cell_type": "code",
   "execution_count": 66,
   "metadata": {},
   "outputs": [
    {
     "data": {
      "text/plain": [
       "(1644, 6)"
      ]
     },
     "execution_count": 66,
     "metadata": {},
     "output_type": "execute_result"
    }
   ],
   "source": [
    "sub_raw.shape"
   ]
  },
  {
   "cell_type": "code",
   "execution_count": 33,
   "metadata": {},
   "outputs": [
    {
     "data": {
      "text/html": [
       "<div>\n",
       "<style scoped>\n",
       "    .dataframe tbody tr th:only-of-type {\n",
       "        vertical-align: middle;\n",
       "    }\n",
       "\n",
       "    .dataframe tbody tr th {\n",
       "        vertical-align: top;\n",
       "    }\n",
       "\n",
       "    .dataframe thead th {\n",
       "        text-align: right;\n",
       "    }\n",
       "</style>\n",
       "<table border=\"1\" class=\"dataframe\">\n",
       "  <thead>\n",
       "    <tr style=\"text-align: right;\">\n",
       "      <th></th>\n",
       "      <th>id</th>\n",
       "      <th>trigger</th>\n",
       "      <th>object</th>\n",
       "      <th>subject</th>\n",
       "      <th>time</th>\n",
       "      <th>location</th>\n",
       "    </tr>\n",
       "  </thead>\n",
       "  <tbody>\n",
       "    <tr>\n",
       "      <th>0</th>\n",
       "      <td>7953</td>\n",
       "      <td>恢复</td>\n",
       "      <td>深航</td>\n",
       "      <td>湖北其他城市的航班运力</td>\n",
       "      <td>NaN</td>\n",
       "      <td>NaN</td>\n",
       "    </tr>\n",
       "    <tr>\n",
       "      <th>1</th>\n",
       "      <td>7955</td>\n",
       "      <td>恢复</td>\n",
       "      <td>深航</td>\n",
       "      <td>湖北其他城市的航班运力</td>\n",
       "      <td>NaN</td>\n",
       "      <td>NaN</td>\n",
       "    </tr>\n",
       "    <tr>\n",
       "      <th>2</th>\n",
       "      <td>7956</td>\n",
       "      <td>恢复</td>\n",
       "      <td>深航</td>\n",
       "      <td>湖北其他城市的航班运力</td>\n",
       "      <td>NaN</td>\n",
       "      <td>NaN</td>\n",
       "    </tr>\n",
       "    <tr>\n",
       "      <th>3</th>\n",
       "      <td>7956</td>\n",
       "      <td>恢复</td>\n",
       "      <td>深航</td>\n",
       "      <td>湖北其他城市的航班运力</td>\n",
       "      <td>NaN</td>\n",
       "      <td>NaN</td>\n",
       "    </tr>\n",
       "    <tr>\n",
       "      <th>4</th>\n",
       "      <td>7959</td>\n",
       "      <td>恢复</td>\n",
       "      <td>深航</td>\n",
       "      <td>湖北其他城市的航班运力</td>\n",
       "      <td>NaN</td>\n",
       "      <td>NaN</td>\n",
       "    </tr>\n",
       "  </tbody>\n",
       "</table>\n",
       "</div>"
      ],
      "text/plain": [
       "     id trigger object      subject  time  location\n",
       "0  7953      恢复     深航  湖北其他城市的航班运力   NaN       NaN\n",
       "1  7955      恢复     深航  湖北其他城市的航班运力   NaN       NaN\n",
       "2  7956      恢复     深航  湖北其他城市的航班运力   NaN       NaN\n",
       "3  7956      恢复     深航  湖北其他城市的航班运力   NaN       NaN\n",
       "4  7959      恢复     深航  湖北其他城市的航班运力   NaN       NaN"
      ]
     },
     "execution_count": 33,
     "metadata": {},
     "output_type": "execute_result"
    }
   ],
   "source": [
    "sub_raw.head()"
   ]
  },
  {
   "cell_type": "code",
   "execution_count": 56,
   "metadata": {},
   "outputs": [],
   "source": [
    "test = []\n",
    "for i in test_raw.news.map(list).tolist():\n",
    "    test.append('\\n'.join(i))"
   ]
  },
  {
   "cell_type": "code",
   "execution_count": 57,
   "metadata": {},
   "outputs": [],
   "source": [
    "with open('test.txt', 'w', encoding='utf8') as f:\n",
    "    f.write('\\n\\n'.join(test))"
   ]
  },
  {
   "cell_type": "markdown",
   "metadata": {},
   "source": [
    "## gen预测结果"
   ]
  },
  {
   "cell_type": "code",
   "execution_count": 61,
   "metadata": {},
   "outputs": [
    {
     "name": "stdout",
     "output_type": "stream",
     "text": [
      "169\n"
     ]
    }
   ],
   "source": [
    "# fp = 'test_predictions_4_342.txt'\n",
    "with open('test_predictions_modify0818.txt', 'r', encoding='utf8') as f:\n",
    "    lines = f.readlines()\n",
    "\n",
    "marks = [line.strip().split()[-1] if line.strip() else '##' for line in lines]\n",
    "\n",
    "\n",
    "\n",
    "marks = ' '.join(marks)\n",
    "\n",
    "marks = marks.split(' ## ')\n",
    "\n",
    "print(len(marks))\n",
    "\n",
    "preds = []\n",
    "for ii, marks_ in enumerate(marks):\n",
    "#     print(marks_)\n",
    "#     print(test_raw.iloc[ii]['news'])\n",
    "    d = {\n",
    "        'trigger': None,\n",
    "        'object': None,\n",
    "        'time': None,\n",
    "        'location': None,\n",
    "    }\n",
    "    start = -1\n",
    "    range_ = 1\n",
    "    label = None\n",
    "    for i, mark in enumerate(marks_.split()):\n",
    "        d['id'] = test_raw.iloc[ii]['id']\n",
    "        if mark.startswith('B'):\n",
    "            if label and start != -1:\n",
    "                d[label] = test_raw.iloc[ii]['news'][start: start+range_]\n",
    "            start = i\n",
    "            range_=1\n",
    "            label = mark.split('-')[-1]\n",
    "        elif mark.startswith('I'):\n",
    "            if label == mark.split('-')[-1]:\n",
    "                range_ += 1\n",
    "            elif label:\n",
    "                d[label] = test_raw.iloc[ii]['news'][start: start+range_]\n",
    "                start = -1\n",
    "                range_ = 1\n",
    "                label = None\n",
    "        elif mark.startswith('O'):\n",
    "            if label:\n",
    "                d[label] = test_raw.iloc[ii]['news'][start: start+range_]\n",
    "                start = -1\n",
    "                range_ = 1\n",
    "                label = None\n",
    "    preds.append(d)\n",
    "#     print(d)\n",
    "#         break\n",
    "#     break\n",
    "\n",
    "sub_ = pd.DataFrame(preds)\n",
    "\n",
    "test_raw.head()\n",
    "\n",
    "sub_[sub_raw.columns].to_csv(args.DATA_DIR+'sub__modify0818.csv', index=False)"
   ]
  },
  {
   "cell_type": "code",
   "execution_count": 63,
   "metadata": {},
   "outputs": [
    {
     "data": {
      "text/plain": [
       "(169, 6)"
      ]
     },
     "execution_count": 63,
     "metadata": {},
     "output_type": "execute_result"
    }
   ],
   "source": [
    "sub_.shape"
   ]
  },
  {
   "cell_type": "code",
   "execution_count": 64,
   "metadata": {},
   "outputs": [
    {
     "data": {
      "text/html": [
       "<div>\n",
       "<style scoped>\n",
       "    .dataframe tbody tr th:only-of-type {\n",
       "        vertical-align: middle;\n",
       "    }\n",
       "\n",
       "    .dataframe tbody tr th {\n",
       "        vertical-align: top;\n",
       "    }\n",
       "\n",
       "    .dataframe thead th {\n",
       "        text-align: right;\n",
       "    }\n",
       "</style>\n",
       "<table border=\"1\" class=\"dataframe\">\n",
       "  <thead>\n",
       "    <tr style=\"text-align: right;\">\n",
       "      <th></th>\n",
       "      <th>trigger</th>\n",
       "      <th>object</th>\n",
       "      <th>time</th>\n",
       "      <th>location</th>\n",
       "      <th>id</th>\n",
       "      <th>subject</th>\n",
       "    </tr>\n",
       "  </thead>\n",
       "  <tbody>\n",
       "    <tr>\n",
       "      <th>40</th>\n",
       "      <td>发布</td>\n",
       "      <td>广州恒大淘宝足球俱乐部</td>\n",
       "      <td>1</td>\n",
       "      <td>None</td>\n",
       "      <td>8022</td>\n",
       "      <td>公告</td>\n",
       "    </tr>\n",
       "    <tr>\n",
       "      <th>67</th>\n",
       "      <td>None</td>\n",
       "      <td>意甲联盟和意大利足协</td>\n",
       "      <td>None</td>\n",
       "      <td>None</td>\n",
       "      <td>8072</td>\n",
       "      <td>降薪一事</td>\n",
       "    </tr>\n",
       "    <tr>\n",
       "      <th>56</th>\n",
       "      <td>捐赠</td>\n",
       "      <td>西班牙人俱乐部</td>\n",
       "      <td>今年2月份</td>\n",
       "      <td>None</td>\n",
       "      <td>8055</td>\n",
       "      <td>45万个口罩</td>\n",
       "    </tr>\n",
       "    <tr>\n",
       "      <th>109</th>\n",
       "      <td>发布</td>\n",
       "      <td>中国球员武磊</td>\n",
       "      <td>北京时间1日晚</td>\n",
       "      <td>None</td>\n",
       "      <td>8135</td>\n",
       "      <td>NaN</td>\n",
       "    </tr>\n",
       "    <tr>\n",
       "      <th>126</th>\n",
       "      <td>到达</td>\n",
       "      <td>小罗</td>\n",
       "      <td>None</td>\n",
       "      <td>None</td>\n",
       "      <td>8174</td>\n",
       "      <td>NaN</td>\n",
       "    </tr>\n",
       "    <tr>\n",
       "      <th>84</th>\n",
       "      <td>None</td>\n",
       "      <td>德国足协</td>\n",
       "      <td>None</td>\n",
       "      <td>None</td>\n",
       "      <td>8101</td>\n",
       "      <td>NaN</td>\n",
       "    </tr>\n",
       "    <tr>\n",
       "      <th>7</th>\n",
       "      <td>发布</td>\n",
       "      <td>None</td>\n",
       "      <td>None</td>\n",
       "      <td>None</td>\n",
       "      <td>7965</td>\n",
       "      <td>志愿者招募信息</td>\n",
       "    </tr>\n",
       "    <tr>\n",
       "      <th>27</th>\n",
       "      <td>公布</td>\n",
       "      <td>广东高院</td>\n",
       "      <td>None</td>\n",
       "      <td>None</td>\n",
       "      <td>8005</td>\n",
       "      <td>NaN</td>\n",
       "    </tr>\n",
       "    <tr>\n",
       "      <th>105</th>\n",
       "      <td>发表</td>\n",
       "      <td>欧足联官网</td>\n",
       "      <td>4月1日</td>\n",
       "      <td>None</td>\n",
       "      <td>8130</td>\n",
       "      <td>声</td>\n",
       "    </tr>\n",
       "    <tr>\n",
       "      <th>29</th>\n",
       "      <td>进行</td>\n",
       "      <td>巴黎</td>\n",
       "      <td>3月10日</td>\n",
       "      <td>None</td>\n",
       "      <td>8008</td>\n",
       "      <td>欧冠赛前的最后一场训练</td>\n",
       "    </tr>\n",
       "    <tr>\n",
       "      <th>102</th>\n",
       "      <td>减少</td>\n",
       "      <td>罗</td>\n",
       "      <td>None</td>\n",
       "      <td>None</td>\n",
       "      <td>8124</td>\n",
       "      <td>NaN</td>\n",
       "    </tr>\n",
       "    <tr>\n",
       "      <th>127</th>\n",
       "      <td>发布</td>\n",
       "      <td>英超利物浦俱乐部CEO彼得-摩尔</td>\n",
       "      <td>4</td>\n",
       "      <td>None</td>\n",
       "      <td>8175</td>\n",
       "      <td>公开信</td>\n",
       "    </tr>\n",
       "    <tr>\n",
       "      <th>60</th>\n",
       "      <td>暂停</td>\n",
       "      <td>欧洲足球五大联赛英超、西甲、意甲、德甲和法甲</td>\n",
       "      <td>None</td>\n",
       "      <td>None</td>\n",
       "      <td>8065</td>\n",
       "      <td>比赛</td>\n",
       "    </tr>\n",
       "    <tr>\n",
       "      <th>110</th>\n",
       "      <td>制定</td>\n",
       "      <td>教练组</td>\n",
       "      <td>None</td>\n",
       "      <td>None</td>\n",
       "      <td>8138</td>\n",
       "      <td>一些计划</td>\n",
       "    </tr>\n",
       "    <tr>\n",
       "      <th>107</th>\n",
       "      <td>宣布</td>\n",
       "      <td>法甲保级球队亚眠</td>\n",
       "      <td>19日</td>\n",
       "      <td>None</td>\n",
       "      <td>8132</td>\n",
       "      <td>全员降薪16%</td>\n",
       "    </tr>\n",
       "    <tr>\n",
       "      <th>59</th>\n",
       "      <td>去</td>\n",
       "      <td>英冠卡迪夫城俱乐部</td>\n",
       "      <td>3月19日晚</td>\n",
       "      <td>None</td>\n",
       "      <td>8061</td>\n",
       "      <td>一个噩耗</td>\n",
       "    </tr>\n",
       "    <tr>\n",
       "      <th>47</th>\n",
       "      <td>None</td>\n",
       "      <td>中国足协相关部门</td>\n",
       "      <td>None</td>\n",
       "      <td>None</td>\n",
       "      <td>8042</td>\n",
       "      <td>NaN</td>\n",
       "    </tr>\n",
       "    <tr>\n",
       "      <th>163</th>\n",
       "      <td>发生</td>\n",
       "      <td>None</td>\n",
       "      <td>None</td>\n",
       "      <td>None</td>\n",
       "      <td>8267</td>\n",
       "      <td>泄漏</td>\n",
       "    </tr>\n",
       "    <tr>\n",
       "      <th>70</th>\n",
       "      <td>None</td>\n",
       "      <td>一位32岁的比利时男性</td>\n",
       "      <td>None</td>\n",
       "      <td>None</td>\n",
       "      <td>8079</td>\n",
       "      <td>NaN</td>\n",
       "    </tr>\n",
       "    <tr>\n",
       "      <th>22</th>\n",
       "      <td>作出</td>\n",
       "      <td>钟南山院士</td>\n",
       "      <td>4月1日</td>\n",
       "      <td>None</td>\n",
       "      <td>7994</td>\n",
       "      <td>回应</td>\n",
       "    </tr>\n",
       "  </tbody>\n",
       "</table>\n",
       "</div>"
      ],
      "text/plain": [
       "    trigger                  object     time location    id      subject\n",
       "40       发布             广州恒大淘宝足球俱乐部        1     None  8022           公告\n",
       "67     None              意甲联盟和意大利足协     None     None  8072         降薪一事\n",
       "56       捐赠                 西班牙人俱乐部    今年2月份     None  8055       45万个口罩\n",
       "109      发布                  中国球员武磊  北京时间1日晚     None  8135          NaN\n",
       "126      到达                      小罗     None     None  8174          NaN\n",
       "84     None                    德国足协     None     None  8101          NaN\n",
       "7        发布                    None     None     None  7965      志愿者招募信息\n",
       "27       公布                    广东高院     None     None  8005          NaN\n",
       "105      发表                   欧足联官网     4月1日     None  8130            声\n",
       "29       进行                      巴黎    3月10日     None  8008  欧冠赛前的最后一场训练\n",
       "102      减少                       罗     None     None  8124          NaN\n",
       "127      发布        英超利物浦俱乐部CEO彼得-摩尔        4     None  8175          公开信\n",
       "60       暂停  欧洲足球五大联赛英超、西甲、意甲、德甲和法甲     None     None  8065           比赛\n",
       "110      制定                     教练组     None     None  8138         一些计划\n",
       "107      宣布                法甲保级球队亚眠      19日     None  8132      全员降薪16%\n",
       "59        去               英冠卡迪夫城俱乐部   3月19日晚     None  8061         一个噩耗\n",
       "47     None                中国足协相关部门     None     None  8042          NaN\n",
       "163      发生                    None     None     None  8267           泄漏\n",
       "70     None             一位32岁的比利时男性     None     None  8079          NaN\n",
       "22       作出                   钟南山院士     4月1日     None  7994           回应"
      ]
     },
     "execution_count": 64,
     "metadata": {},
     "output_type": "execute_result"
    }
   ],
   "source": [
    "sub_.sample(20)"
   ]
  },
  {
   "cell_type": "code",
   "execution_count": null,
   "metadata": {},
   "outputs": [],
   "source": []
  },
  {
   "cell_type": "code",
   "execution_count": null,
   "metadata": {},
   "outputs": [],
   "source": []
  },
  {
   "cell_type": "code",
   "execution_count": null,
   "metadata": {},
   "outputs": [],
   "source": []
  },
  {
   "cell_type": "code",
   "execution_count": null,
   "metadata": {},
   "outputs": [],
   "source": []
  },
  {
   "cell_type": "code",
   "execution_count": 13,
   "metadata": {},
   "outputs": [
    {
     "data": {
      "text/plain": [
       "count    8000.000000\n",
       "mean       71.780875\n",
       "std        39.728918\n",
       "min        10.000000\n",
       "25%        45.000000\n",
       "50%        63.000000\n",
       "75%        88.000000\n",
       "max       397.000000\n",
       "Name: news, dtype: float64"
      ]
     },
     "execution_count": 13,
     "metadata": {},
     "output_type": "execute_result"
    }
   ],
   "source": [
    "train_raw.news.str.len().describe()"
   ]
  },
  {
   "cell_type": "code",
   "execution_count": 14,
   "metadata": {},
   "outputs": [
    {
     "data": {
      "text/plain": [
       "count    1200.000000\n",
       "mean       62.677500\n",
       "std        36.050009\n",
       "min        10.000000\n",
       "25%        38.000000\n",
       "50%        54.000000\n",
       "75%        78.000000\n",
       "max       342.000000\n",
       "Name: news, dtype: float64"
      ]
     },
     "execution_count": 14,
     "metadata": {},
     "output_type": "execute_result"
    }
   ],
   "source": [
    "test_raw.news.str.len().describe()"
   ]
  },
  {
   "cell_type": "code",
   "execution_count": 36,
   "metadata": {},
   "outputs": [
    {
     "data": {
      "text/plain": [
       "1256"
      ]
     },
     "execution_count": 36,
     "metadata": {},
     "output_type": "execute_result"
    }
   ],
   "source": [
    "train_raw.trigger.nunique()"
   ]
  },
  {
   "cell_type": "code",
   "execution_count": 37,
   "metadata": {},
   "outputs": [
    {
     "data": {
      "text/plain": [
       "召开       True\n",
       "发布       True\n",
       "参加       True\n",
       "接受       True\n",
       "发表       True\n",
       "        ...  \n",
       "突发      False\n",
       "稿酬      False\n",
       "提前      False\n",
       "赶回      False\n",
       "没有遇到    False\n",
       "Name: trigger, Length: 1256, dtype: bool"
      ]
     },
     "execution_count": 37,
     "metadata": {},
     "output_type": "execute_result"
    }
   ],
   "source": [
    "train_raw['trigger'].value_counts()>1"
   ]
  },
  {
   "cell_type": "code",
   "execution_count": 38,
   "metadata": {},
   "outputs": [],
   "source": [
    "lb = (train_raw['trigger'].value_counts()>1).reset_index()\n",
    "lb.columns = ['lb','flag']\n",
    "lb = list(lb[lb['flag']==True].lb.values)\n",
    "predicate2id = {j:i for i,j in enumerate(lb)}\n",
    "id2predicate = {i:j for i,j in enumerate(lb)}"
   ]
  },
  {
   "cell_type": "code",
   "execution_count": 39,
   "metadata": {},
   "outputs": [
    {
     "data": {
      "text/plain": [
       "478"
      ]
     },
     "execution_count": 39,
     "metadata": {},
     "output_type": "execute_result"
    }
   ],
   "source": [
    "len(lb)"
   ]
  },
  {
   "cell_type": "code",
   "execution_count": 29,
   "metadata": {},
   "outputs": [
    {
     "data": {
      "text/plain": [
       "['召开', '发布', '参加', '接受', '发表']"
      ]
     },
     "execution_count": 29,
     "metadata": {},
     "output_type": "execute_result"
    }
   ],
   "source": [
    "lb[:5]"
   ]
  },
  {
   "cell_type": "code",
   "execution_count": 40,
   "metadata": {},
   "outputs": [
    {
     "data": {
      "text/plain": [
       "{'召开': 0,\n",
       " '发布': 1,\n",
       " '参加': 2,\n",
       " '接受': 3,\n",
       " '发表': 4,\n",
       " '举行': 5,\n",
       " '开展': 6,\n",
       " '提出': 7,\n",
       " '成立': 8,\n",
       " '推出': 9,\n",
       " '作出': 10,\n",
       " '发生': 11,\n",
       " '公布': 12,\n",
       " '到达': 13,\n",
       " '离开': 14,\n",
       " '建立': 15,\n",
       " '发现': 16,\n",
       " '组织': 17,\n",
       " '参与': 18,\n",
       " '恢复': 19,\n",
       " '启动': 20,\n",
       " '支持': 21,\n",
       " '找到': 22,\n",
       " '印发': 23,\n",
       " '出任': 24,\n",
       " '介绍': 25,\n",
       " '出席': 26,\n",
       " '制定': 27,\n",
       " '提供': 28,\n",
       " '增加': 29,\n",
       " '转入': 30,\n",
       " '设立': 31,\n",
       " '通报': 32,\n",
       " '宣布': 33,\n",
       " '举办': 34,\n",
       " '反对': 35,\n",
       " '指出': 36,\n",
       " '导致': 37,\n",
       " '形成': 38,\n",
       " '选择': 39,\n",
       " '批准': 40,\n",
       " '做出': 41,\n",
       " '购买': 42,\n",
       " '推动': 43,\n",
       " '推进': 44,\n",
       " '执行': 45,\n",
       " '调查': 46,\n",
       " '申请': 47,\n",
       " '关注': 48,\n",
       " '加入': 49,\n",
       " '分享': 50,\n",
       " '投入': 51,\n",
       " '给予': 52,\n",
       " '减少': 53,\n",
       " '解决': 54,\n",
       " '控制': 55,\n",
       " '制造': 56,\n",
       " '被确诊': 57,\n",
       " '检查': 58,\n",
       " '披露': 59,\n",
       " '打造': 60,\n",
       " '开启': 61,\n",
       " '会见': 62,\n",
       " '报道': 63,\n",
       " '改变': 64,\n",
       " '分析': 65,\n",
       " '进行': 66,\n",
       " '创造': 67,\n",
       " '调整': 68,\n",
       " '通过': 69,\n",
       " '带来': 70,\n",
       " '处理': 71,\n",
       " '影响': 72,\n",
       " '担任': 73,\n",
       " '建议': 74,\n",
       " '开发': 75,\n",
       " '告诉': 76,\n",
       " '提高': 77,\n",
       " '学习': 78,\n",
       " '发出': 79,\n",
       " '到': 80,\n",
       " '开放': 81,\n",
       " '前往': 82,\n",
       " '完成': 83,\n",
       " '抵达': 84,\n",
       " '建设': 85,\n",
       " '乘': 86,\n",
       " '实施': 87,\n",
       " '建成': 88,\n",
       " '发行': 89,\n",
       " '来到': 90,\n",
       " '解除': 91,\n",
       " '推荐': 92,\n",
       " '出现': 93,\n",
       " '部署': 94,\n",
       " '加强': 95,\n",
       " '吸引': 96,\n",
       " '进入': 97,\n",
       " '制作': 98,\n",
       " '生': 99,\n",
       " '增长': 100,\n",
       " '出台': 101,\n",
       " '主持': 102,\n",
       " '接到': 103,\n",
       " '新增': 104,\n",
       " '安排': 105,\n",
       " '批评': 106,\n",
       " '入党': 107,\n",
       " '颁布': 108,\n",
       " '开除': 109,\n",
       " '提升': 110,\n",
       " '生产': 111,\n",
       " '任命': 112,\n",
       " '要求': 113,\n",
       " '实现': 114,\n",
       " '拒绝': 115,\n",
       " '支付': 116,\n",
       " '任': 117,\n",
       " '采取': 118,\n",
       " '收到': 119,\n",
       " '构建': 120,\n",
       " '组成': 121,\n",
       " '发展': 122,\n",
       " '成为': 123,\n",
       " '派出': 124,\n",
       " '确诊': 125,\n",
       " '涉嫌': 126,\n",
       " '组建': 127,\n",
       " '回到': 128,\n",
       " '利用': 129,\n",
       " '决定': 130,\n",
       " '乘坐': 131,\n",
       " '采用': 132,\n",
       " '签署': 133,\n",
       " '受到': 134,\n",
       " '实行': 135,\n",
       " '拍摄': 136,\n",
       " '获得': 137,\n",
       " '增强': 138,\n",
       " '取消': 139,\n",
       " '违反': 140,\n",
       " '落实': 141,\n",
       " '驾驶': 142,\n",
       " '降低': 143,\n",
       " '赴': 144,\n",
       " '移送': 145,\n",
       " '下发': 146,\n",
       " '提议': 147,\n",
       " '投资': 148,\n",
       " '研发': 149,\n",
       " '选举': 150,\n",
       " '致以': 151,\n",
       " '听取': 152,\n",
       " '呼吁': 153,\n",
       " '回答': 154,\n",
       " '指导': 155,\n",
       " '设计': 156,\n",
       " '致电': 157,\n",
       " '协助': 158,\n",
       " '被开除': 159,\n",
       " '发动': 160,\n",
       " '派遣': 161,\n",
       " '发起': 162,\n",
       " '打开': 163,\n",
       " '评价': 164,\n",
       " '纳入': 165,\n",
       " '升级': 166,\n",
       " '出生': 167,\n",
       " '测试': 168,\n",
       " '负责': 169,\n",
       " '说': 170,\n",
       " '被捕': 171,\n",
       " '采集': 172,\n",
       " '停止': 173,\n",
       " '拿出': 174,\n",
       " '造成': 175,\n",
       " '培养': 176,\n",
       " '捐赠': 177,\n",
       " '上线': 178,\n",
       " '爆发': 179,\n",
       " '破坏': 180,\n",
       " '下跌': 181,\n",
       " '创办': 182,\n",
       " '开通': 183,\n",
       " '关闭': 184,\n",
       " '开始': 185,\n",
       " '达': 186,\n",
       " '称': 187,\n",
       " '曝光': 188,\n",
       " '作为': 189,\n",
       " '起草': 190,\n",
       " '有': 191,\n",
       " '打击': 192,\n",
       " '通知': 193,\n",
       " '降至': 194,\n",
       " '创立': 195,\n",
       " '检测': 196,\n",
       " '粉碎': 197,\n",
       " '干预': 198,\n",
       " '煽动': 199,\n",
       " '引发': 200,\n",
       " '批判': 201,\n",
       " '访问': 202,\n",
       " '调集': 203,\n",
       " '刊登': 204,\n",
       " '看到': 205,\n",
       " '补充': 206,\n",
       " '上调': 207,\n",
       " '搭建': 208,\n",
       " '交流': 209,\n",
       " '索取': 210,\n",
       " '重启': 211,\n",
       " '去世': 212,\n",
       " '完善': 213,\n",
       " '报告': 214,\n",
       " '抓获': 215,\n",
       " '致信': 216,\n",
       " '召集': 217,\n",
       " '占领': 218,\n",
       " '发放': 219,\n",
       " '举报': 220,\n",
       " '上涨': 221,\n",
       " '结束': 222,\n",
       " '撰写': 223,\n",
       " '打掉': 224,\n",
       " '回国': 225,\n",
       " '聚集': 226,\n",
       " '写信': 227,\n",
       " '研究': 228,\n",
       " '暂停': 229,\n",
       " '感谢': 230,\n",
       " '鼓励': 231,\n",
       " '邀请': 232,\n",
       " '查处': 233,\n",
       " '升任': 234,\n",
       " '入驻': 235,\n",
       " '送别': 236,\n",
       " '查获': 237,\n",
       " '上报': 238,\n",
       " '变得': 239,\n",
       " '供应': 240,\n",
       " '选派': 241,\n",
       " '号召': 242,\n",
       " '承担': 243,\n",
       " '联系': 244,\n",
       " '坚持': 245,\n",
       " '插手': 246,\n",
       " '扮演': 247,\n",
       " '创建': 248,\n",
       " '响应': 249,\n",
       " '取得': 250,\n",
       " '篡改': 251,\n",
       " '致慰问电': 252,\n",
       " '派': 253,\n",
       " '治疗': 254,\n",
       " '调整为': 255,\n",
       " '找': 256,\n",
       " '体验': 257,\n",
       " '去': 258,\n",
       " '释放': 259,\n",
       " '扑灭': 260,\n",
       " '回归': 261,\n",
       " '开辟': 262,\n",
       " '发': 263,\n",
       " '驰援': 264,\n",
       " '促进': 265,\n",
       " '打伤': 266,\n",
       " '写了': 267,\n",
       " '接见': 268,\n",
       " '督促': 269,\n",
       " '签订': 270,\n",
       " '推广': 271,\n",
       " '确认': 272,\n",
       " '修改': 273,\n",
       " '宣读': 274,\n",
       " '被罚': 275,\n",
       " '改造': 276,\n",
       " '抗击': 277,\n",
       " '强调': 278,\n",
       " '当选': 279,\n",
       " '攻击': 280,\n",
       " '保持': 281,\n",
       " '出发': 282,\n",
       " '超过': 283,\n",
       " '颁发': 284,\n",
       " '逮捕': 285,\n",
       " '获': 286,\n",
       " '赶到': 287,\n",
       " '采访': 288,\n",
       " '去了': 289,\n",
       " '分离': 290,\n",
       " '请求': 291,\n",
       " '下降': 292,\n",
       " '出版': 293,\n",
       " '了解': 294,\n",
       " '指挥': 295,\n",
       " '同意': 296,\n",
       " '逝世': 297,\n",
       " '突破': 298,\n",
       " '拘捕': 299,\n",
       " '引领': 300,\n",
       " '讨论': 301,\n",
       " '承认': 302,\n",
       " '投诉': 303,\n",
       " '进': 304,\n",
       " '加大': 305,\n",
       " '揭示': 306,\n",
       " '提升到': 307,\n",
       " '撤除': 308,\n",
       " '送上': 309,\n",
       " '办理': 310,\n",
       " '售出': 311,\n",
       " '打压': 312,\n",
       " '限制': 313,\n",
       " '发了': 314,\n",
       " '等了': 315,\n",
       " '上升': 316,\n",
       " '辞退': 317,\n",
       " '反击': 318,\n",
       " '改建': 319,\n",
       " '率领': 320,\n",
       " '播出': 321,\n",
       " '反映': 322,\n",
       " '指定': 323,\n",
       " '被': 324,\n",
       " '招聘': 325,\n",
       " '改善': 326,\n",
       " '携带': 327,\n",
       " '主持召开': 328,\n",
       " '作了': 329,\n",
       " '监督': 330,\n",
       " '走进': 331,\n",
       " '是': 332,\n",
       " '教唆': 333,\n",
       " '提问': 334,\n",
       " '扩大': 335,\n",
       " '提高到': 336,\n",
       " '处罚': 337,\n",
       " '呈': 338,\n",
       " '访察': 339,\n",
       " '叮嘱': 340,\n",
       " '发送': 341,\n",
       " '对': 342,\n",
       " '表达': 343,\n",
       " '下达': 344,\n",
       " '重申': 345,\n",
       " '传播': 346,\n",
       " '转载': 347,\n",
       " '指使': 348,\n",
       " '电告': 349,\n",
       " '申报': 350,\n",
       " '视察': 351,\n",
       " '做过': 352,\n",
       " '上市': 353,\n",
       " '立案审查': 354,\n",
       " '途经': 355,\n",
       " '拨出': 356,\n",
       " '研制': 357,\n",
       " '训练': 358,\n",
       " '拍到': 359,\n",
       " '陪同': 360,\n",
       " '缩短': 361,\n",
       " '明确': 362,\n",
       " '宣誓': 363,\n",
       " '接': 364,\n",
       " '没有完成': 365,\n",
       " '被查': 366,\n",
       " '进攻': 367,\n",
       " '唱响': 368,\n",
       " '有序开展': 369,\n",
       " '当上': 370,\n",
       " '追访': 371,\n",
       " '写好': 372,\n",
       " '使用': 373,\n",
       " '纠正': 374,\n",
       " '进驻': 375,\n",
       " '慰问': 376,\n",
       " '换乘': 377,\n",
       " '创作': 378,\n",
       " '带动': 379,\n",
       " '撤销': 380,\n",
       " '暴发': 381,\n",
       " '开设': 382,\n",
       " '调度': 383,\n",
       " '免去': 384,\n",
       " '转任': 385,\n",
       " '落马': 386,\n",
       " '停止发布': 387,\n",
       " '来': 388,\n",
       " '启用': 389,\n",
       " '接收': 390,\n",
       " '探望': 391,\n",
       " '消除': 392,\n",
       " '抵触': 393,\n",
       " '禁止': 394,\n",
       " '享受': 395,\n",
       " '巡察': 396,\n",
       " '制订': 397,\n",
       " '涉及': 398,\n",
       " '连线': 399,\n",
       " '设置': 400,\n",
       " '履行': 401,\n",
       " '动员': 402,\n",
       " '培育': 403,\n",
       " '供认不讳': 404,\n",
       " '致函': 405,\n",
       " '指控': 406,\n",
       " '参与建议': 407,\n",
       " '防控': 408,\n",
       " '叫停': 409,\n",
       " '展现': 410,\n",
       " '倡导': 411,\n",
       " '诞生': 412,\n",
       " '走访': 413,\n",
       " '揭露': 414,\n",
       " '转至': 415,\n",
       " '诬陷': 416,\n",
       " '返回': 417,\n",
       " '达到': 418,\n",
       " '阻挠': 419,\n",
       " '发射': 420,\n",
       " '为': 421,\n",
       " '遇难': 422,\n",
       " '调任': 423,\n",
       " '招募': 424,\n",
       " '传递': 425,\n",
       " '打通': 426,\n",
       " '胜利': 427,\n",
       " '指责': 428,\n",
       " '赠送': 429,\n",
       " '交代': 430,\n",
       " '开工': 431,\n",
       " '赴任': 432,\n",
       " '提起': 433,\n",
       " '兼任': 434,\n",
       " '侦破': 435,\n",
       " '运抵': 436,\n",
       " '辞去': 437,\n",
       " '支援': 438,\n",
       " '引爆': 439,\n",
       " '代表': 440,\n",
       " '传达': 441,\n",
       " '排查': 442,\n",
       " '查阅': 443,\n",
       " '发挥': 444,\n",
       " '拉开': 445,\n",
       " '采购': 446,\n",
       " '当选为': 447,\n",
       " '直认不讳': 448,\n",
       " '审问': 449,\n",
       " '落地': 450,\n",
       " '押解': 451,\n",
       " '审批': 452,\n",
       " '打败': 453,\n",
       " '回应': 454,\n",
       " '阻止': 455,\n",
       " '买了': 456,\n",
       " '调查终结': 457,\n",
       " '袭击': 458,\n",
       " '到了': 459,\n",
       " '怂恿': 460,\n",
       " '出动': 461,\n",
       " '集结': 462,\n",
       " '经历': 463,\n",
       " '丧失': 464,\n",
       " '立案审查调查': 465,\n",
       " '争取': 466,\n",
       " '变成': 467,\n",
       " '施工': 468,\n",
       " '联络': 469,\n",
       " '跻身': 470,\n",
       " '增设': 471,\n",
       " '开业': 472,\n",
       " '查出': 473,\n",
       " '编纂': 474,\n",
       " '炒作': 475,\n",
       " '防疫': 476,\n",
       " '写出': 477}"
      ]
     },
     "execution_count": 40,
     "metadata": {},
     "output_type": "execute_result"
    }
   ],
   "source": [
    "predicate2id"
   ]
  },
  {
   "cell_type": "code",
   "execution_count": 30,
   "metadata": {},
   "outputs": [
    {
     "name": "stderr",
     "output_type": "stream",
     "text": [
      "/Users/luoyonggui/anaconda3/lib/python3.7/site-packages/ipykernel_launcher.py:3: SettingWithCopyWarning: \n",
      "A value is trying to be set on a copy of a slice from a DataFrame.\n",
      "Try using .loc[row_indexer,col_indexer] = value instead\n",
      "\n",
      "See the caveats in the documentation: http://pandas.pydata.org/pandas-docs/stable/user_guide/indexing.html#returning-a-view-versus-a-copy\n",
      "  This is separate from the ipykernel package so we can avoid doing imports until\n"
     ]
    }
   ],
   "source": [
    "train = train_raw\n",
    "train = train[train['trigger'].isin(lb)]\n",
    "train['label_1'] = list(map(lambda x,y,z:(str(x),str(y),str(z)),train['object'],train['trigger'],train['subject']))\n",
    "train = train.groupby('news')['label_1'].apply(list).reset_index()\n",
    "train = list(map(lambda x,y:{'text':x,'spo_list':y},train['news'],train['label_1']))\n",
    "\n",
    "train_data = train[:5000]\n",
    "valid_data = train[5000:]"
   ]
  },
  {
   "cell_type": "code",
   "execution_count": null,
   "metadata": {},
   "outputs": [],
   "source": []
  },
  {
   "cell_type": "code",
   "execution_count": null,
   "metadata": {},
   "outputs": [],
   "source": []
  },
  {
   "cell_type": "code",
   "execution_count": null,
   "metadata": {},
   "outputs": [],
   "source": []
  },
  {
   "cell_type": "code",
   "execution_count": null,
   "metadata": {},
   "outputs": [],
   "source": []
  },
  {
   "cell_type": "code",
   "execution_count": 25,
   "metadata": {},
   "outputs": [],
   "source": [
    "!cat ../../../Downloads/NER-de-dev.tsv | grep -v \"^#\" | cut -f 2,3 | tr '\\t' ' ' > dev.txt.tmp"
   ]
  },
  {
   "cell_type": "code",
   "execution_count": 22,
   "metadata": {},
   "outputs": [],
   "source": [
    "!cat ../../../Downloads/NER-de-train.tsv | grep -v \"^#\" | cut -f 2,3 | tr '\\t' ' ' > train.txt.tmp"
   ]
  },
  {
   "cell_type": "code",
   "execution_count": 23,
   "metadata": {},
   "outputs": [],
   "source": [
    "!cat ../../../Downloads/NER-de-test.tsv | grep -v \"^#\" | cut -f 2,3 | tr '\\t' ' ' > test.txt.tmp"
   ]
  },
  {
   "cell_type": "code",
   "execution_count": 24,
   "metadata": {},
   "outputs": [],
   "source": [
    "!cat ../../../Downloads/dev.txt | cut -d \" \" -f 2 | grep -v \"^$\"| sort | uniq > labels.txt"
   ]
  },
  {
   "cell_type": "code",
   "execution_count": 16,
   "metadata": {},
   "outputs": [
    {
     "name": "stdout",
     "output_type": "stream",
     "text": [
      "python3: can't open file 'scripts/preprocess.py': [Errno 2] No such file or directory\r\n"
     ]
    }
   ],
   "source": [
    "!python3 scripts/preprocess.py dev.txt.tmp $BERT_MODEL $MAX_LENGTH > dev.txt"
   ]
  },
  {
   "cell_type": "code",
   "execution_count": 19,
   "metadata": {},
   "outputs": [
    {
     "name": "stderr",
     "output_type": "stream",
     "text": [
      "I0803 16:24:24.828222 140735683666816 file_utils.py:39] PyTorch version 1.5.1 available.\n",
      "I0803 16:24:28.761773 140735683666816 file_utils.py:55] TensorFlow version 2.2.0 available.\n"
     ]
    },
    {
     "ename": "ImportError",
     "evalue": "dlopen(/Users/luoyonggui/anaconda3/lib/python3.7/site-packages/tokenizers/tokenizers.cpython-37m-darwin.so, 2): Symbol not found: ____chkstk_darwin\n  Referenced from: /Users/luoyonggui/anaconda3/lib/python3.7/site-packages/tokenizers/tokenizers.cpython-37m-darwin.so (which was built for Mac OS X 10.15)\n  Expected in: /usr/lib/libSystem.B.dylib\n in /Users/luoyonggui/anaconda3/lib/python3.7/site-packages/tokenizers/tokenizers.cpython-37m-darwin.so",
     "output_type": "error",
     "traceback": [
      "\u001b[0;31m---------------------------------------------------------------------------\u001b[0m",
      "\u001b[0;31mImportError\u001b[0m                               Traceback (most recent call last)",
      "\u001b[0;32m<ipython-input-19-f9b86708897e>\u001b[0m in \u001b[0;36m<module>\u001b[0;34m\u001b[0m\n\u001b[1;32m      1\u001b[0m \u001b[0;32mimport\u001b[0m \u001b[0msys\u001b[0m\u001b[0;34m\u001b[0m\u001b[0;34m\u001b[0m\u001b[0m\n\u001b[1;32m      2\u001b[0m \u001b[0;34m\u001b[0m\u001b[0m\n\u001b[0;32m----> 3\u001b[0;31m \u001b[0;32mfrom\u001b[0m \u001b[0mtransformers\u001b[0m \u001b[0;32mimport\u001b[0m \u001b[0mAutoTokenizer\u001b[0m\u001b[0;34m\u001b[0m\u001b[0;34m\u001b[0m\u001b[0m\n\u001b[0m\u001b[1;32m      4\u001b[0m \u001b[0;34m\u001b[0m\u001b[0m\n\u001b[1;32m      5\u001b[0m \u001b[0;34m\u001b[0m\u001b[0m\n",
      "\u001b[0;32m~/anaconda3/lib/python3.7/site-packages/transformers/__init__.py\u001b[0m in \u001b[0;36m<module>\u001b[0;34m\u001b[0m\n\u001b[1;32m     46\u001b[0m \u001b[0;32mfrom\u001b[0m \u001b[0;34m.\u001b[0m\u001b[0mconfiguration_xlm_roberta\u001b[0m \u001b[0;32mimport\u001b[0m \u001b[0mXLM_ROBERTA_PRETRAINED_CONFIG_ARCHIVE_MAP\u001b[0m\u001b[0;34m,\u001b[0m \u001b[0mXLMRobertaConfig\u001b[0m\u001b[0;34m\u001b[0m\u001b[0;34m\u001b[0m\u001b[0m\n\u001b[1;32m     47\u001b[0m \u001b[0;32mfrom\u001b[0m \u001b[0;34m.\u001b[0m\u001b[0mconfiguration_xlnet\u001b[0m \u001b[0;32mimport\u001b[0m \u001b[0mXLNET_PRETRAINED_CONFIG_ARCHIVE_MAP\u001b[0m\u001b[0;34m,\u001b[0m \u001b[0mXLNetConfig\u001b[0m\u001b[0;34m\u001b[0m\u001b[0;34m\u001b[0m\u001b[0m\n\u001b[0;32m---> 48\u001b[0;31m from .data import (\n\u001b[0m\u001b[1;32m     49\u001b[0m     \u001b[0mDataProcessor\u001b[0m\u001b[0;34m,\u001b[0m\u001b[0;34m\u001b[0m\u001b[0;34m\u001b[0m\u001b[0m\n\u001b[1;32m     50\u001b[0m     \u001b[0mInputExample\u001b[0m\u001b[0;34m,\u001b[0m\u001b[0;34m\u001b[0m\u001b[0;34m\u001b[0m\u001b[0m\n",
      "\u001b[0;32m~/anaconda3/lib/python3.7/site-packages/transformers/data/__init__.py\u001b[0m in \u001b[0;36m<module>\u001b[0;34m\u001b[0m\n\u001b[1;32m      4\u001b[0m \u001b[0;34m\u001b[0m\u001b[0m\n\u001b[1;32m      5\u001b[0m \u001b[0;32mfrom\u001b[0m \u001b[0;34m.\u001b[0m\u001b[0mmetrics\u001b[0m \u001b[0;32mimport\u001b[0m \u001b[0mis_sklearn_available\u001b[0m\u001b[0;34m\u001b[0m\u001b[0;34m\u001b[0m\u001b[0m\n\u001b[0;32m----> 6\u001b[0;31m from .processors import (\n\u001b[0m\u001b[1;32m      7\u001b[0m     \u001b[0mDataProcessor\u001b[0m\u001b[0;34m,\u001b[0m\u001b[0;34m\u001b[0m\u001b[0;34m\u001b[0m\u001b[0m\n\u001b[1;32m      8\u001b[0m     \u001b[0mInputExample\u001b[0m\u001b[0;34m,\u001b[0m\u001b[0;34m\u001b[0m\u001b[0;34m\u001b[0m\u001b[0m\n",
      "\u001b[0;32m~/anaconda3/lib/python3.7/site-packages/transformers/data/processors/__init__.py\u001b[0m in \u001b[0;36m<module>\u001b[0;34m\u001b[0m\n\u001b[1;32m      3\u001b[0m \u001b[0;31m# module, but to preserve other warnings. So, don't check this module at all.\u001b[0m\u001b[0;34m\u001b[0m\u001b[0;34m\u001b[0m\u001b[0;34m\u001b[0m\u001b[0m\n\u001b[1;32m      4\u001b[0m \u001b[0;34m\u001b[0m\u001b[0m\n\u001b[0;32m----> 5\u001b[0;31m \u001b[0;32mfrom\u001b[0m \u001b[0;34m.\u001b[0m\u001b[0mglue\u001b[0m \u001b[0;32mimport\u001b[0m \u001b[0mglue_convert_examples_to_features\u001b[0m\u001b[0;34m,\u001b[0m \u001b[0mglue_output_modes\u001b[0m\u001b[0;34m,\u001b[0m \u001b[0mglue_processors\u001b[0m\u001b[0;34m,\u001b[0m \u001b[0mglue_tasks_num_labels\u001b[0m\u001b[0;34m\u001b[0m\u001b[0;34m\u001b[0m\u001b[0m\n\u001b[0m\u001b[1;32m      6\u001b[0m \u001b[0;32mfrom\u001b[0m \u001b[0;34m.\u001b[0m\u001b[0msquad\u001b[0m \u001b[0;32mimport\u001b[0m \u001b[0mSquadExample\u001b[0m\u001b[0;34m,\u001b[0m \u001b[0mSquadFeatures\u001b[0m\u001b[0;34m,\u001b[0m \u001b[0mSquadV1Processor\u001b[0m\u001b[0;34m,\u001b[0m \u001b[0mSquadV2Processor\u001b[0m\u001b[0;34m,\u001b[0m \u001b[0msquad_convert_examples_to_features\u001b[0m\u001b[0;34m\u001b[0m\u001b[0;34m\u001b[0m\u001b[0m\n\u001b[1;32m      7\u001b[0m \u001b[0;32mfrom\u001b[0m \u001b[0;34m.\u001b[0m\u001b[0mutils\u001b[0m \u001b[0;32mimport\u001b[0m \u001b[0mDataProcessor\u001b[0m\u001b[0;34m,\u001b[0m \u001b[0mInputExample\u001b[0m\u001b[0;34m,\u001b[0m \u001b[0mInputFeatures\u001b[0m\u001b[0;34m,\u001b[0m \u001b[0mSingleSentenceClassificationProcessor\u001b[0m\u001b[0;34m\u001b[0m\u001b[0;34m\u001b[0m\u001b[0m\n",
      "\u001b[0;32m~/anaconda3/lib/python3.7/site-packages/transformers/data/processors/glue.py\u001b[0m in \u001b[0;36m<module>\u001b[0;34m\u001b[0m\n\u001b[1;32m     23\u001b[0m \u001b[0;34m\u001b[0m\u001b[0m\n\u001b[1;32m     24\u001b[0m \u001b[0;32mfrom\u001b[0m \u001b[0;34m...\u001b[0m\u001b[0mfile_utils\u001b[0m \u001b[0;32mimport\u001b[0m \u001b[0mis_tf_available\u001b[0m\u001b[0;34m\u001b[0m\u001b[0;34m\u001b[0m\u001b[0m\n\u001b[0;32m---> 25\u001b[0;31m \u001b[0;32mfrom\u001b[0m \u001b[0;34m...\u001b[0m\u001b[0mtokenization_utils\u001b[0m \u001b[0;32mimport\u001b[0m \u001b[0mPreTrainedTokenizer\u001b[0m\u001b[0;34m\u001b[0m\u001b[0;34m\u001b[0m\u001b[0m\n\u001b[0m\u001b[1;32m     26\u001b[0m \u001b[0;32mfrom\u001b[0m \u001b[0;34m.\u001b[0m\u001b[0mutils\u001b[0m \u001b[0;32mimport\u001b[0m \u001b[0mDataProcessor\u001b[0m\u001b[0;34m,\u001b[0m \u001b[0mInputExample\u001b[0m\u001b[0;34m,\u001b[0m \u001b[0mInputFeatures\u001b[0m\u001b[0;34m\u001b[0m\u001b[0;34m\u001b[0m\u001b[0m\n\u001b[1;32m     27\u001b[0m \u001b[0;34m\u001b[0m\u001b[0m\n",
      "\u001b[0;32m~/anaconda3/lib/python3.7/site-packages/transformers/tokenization_utils.py\u001b[0m in \u001b[0;36m<module>\u001b[0;34m\u001b[0m\n\u001b[1;32m     24\u001b[0m \u001b[0;34m\u001b[0m\u001b[0m\n\u001b[1;32m     25\u001b[0m \u001b[0;32mfrom\u001b[0m \u001b[0;34m.\u001b[0m\u001b[0mfile_utils\u001b[0m \u001b[0;32mimport\u001b[0m \u001b[0madd_end_docstrings\u001b[0m\u001b[0;34m\u001b[0m\u001b[0;34m\u001b[0m\u001b[0m\n\u001b[0;32m---> 26\u001b[0;31m from .tokenization_utils_base import (\n\u001b[0m\u001b[1;32m     27\u001b[0m     \u001b[0mENCODE_KWARGS_DOCSTRING\u001b[0m\u001b[0;34m,\u001b[0m\u001b[0;34m\u001b[0m\u001b[0;34m\u001b[0m\u001b[0m\n\u001b[1;32m     28\u001b[0m     \u001b[0mENCODE_PLUS_ADDITIONAL_KWARGS_DOCSTRING\u001b[0m\u001b[0;34m,\u001b[0m\u001b[0;34m\u001b[0m\u001b[0;34m\u001b[0m\u001b[0m\n",
      "\u001b[0;32m~/anaconda3/lib/python3.7/site-packages/transformers/tokenization_utils_base.py\u001b[0m in \u001b[0;36m<module>\u001b[0;34m\u001b[0m\n\u001b[1;32m     29\u001b[0m \u001b[0;34m\u001b[0m\u001b[0m\n\u001b[1;32m     30\u001b[0m \u001b[0;32mimport\u001b[0m \u001b[0mnumpy\u001b[0m \u001b[0;32mas\u001b[0m \u001b[0mnp\u001b[0m\u001b[0;34m\u001b[0m\u001b[0;34m\u001b[0m\u001b[0m\n\u001b[0;32m---> 31\u001b[0;31m \u001b[0;32mfrom\u001b[0m \u001b[0mtokenizers\u001b[0m \u001b[0;32mimport\u001b[0m \u001b[0mAddedToken\u001b[0m\u001b[0;34m\u001b[0m\u001b[0;34m\u001b[0m\u001b[0m\n\u001b[0m\u001b[1;32m     32\u001b[0m \u001b[0;32mfrom\u001b[0m \u001b[0mtokenizers\u001b[0m \u001b[0;32mimport\u001b[0m \u001b[0mEncoding\u001b[0m \u001b[0;32mas\u001b[0m \u001b[0mEncodingFast\u001b[0m\u001b[0;34m\u001b[0m\u001b[0;34m\u001b[0m\u001b[0m\n\u001b[1;32m     33\u001b[0m \u001b[0;34m\u001b[0m\u001b[0m\n",
      "\u001b[0;32m~/anaconda3/lib/python3.7/site-packages/tokenizers/__init__.py\u001b[0m in \u001b[0;36m<module>\u001b[0;34m\u001b[0m\n\u001b[1;32m     15\u001b[0m \u001b[0mEncodeInput\u001b[0m \u001b[0;34m=\u001b[0m \u001b[0mUnion\u001b[0m\u001b[0;34m[\u001b[0m\u001b[0mTextEncodeInput\u001b[0m\u001b[0;34m,\u001b[0m \u001b[0mPreTokenizedEncodeInput\u001b[0m\u001b[0;34m]\u001b[0m\u001b[0;34m\u001b[0m\u001b[0;34m\u001b[0m\u001b[0m\n\u001b[1;32m     16\u001b[0m \u001b[0;34m\u001b[0m\u001b[0m\n\u001b[0;32m---> 17\u001b[0;31m \u001b[0;32mfrom\u001b[0m \u001b[0;34m.\u001b[0m\u001b[0mtokenizers\u001b[0m \u001b[0;32mimport\u001b[0m \u001b[0mTokenizer\u001b[0m\u001b[0;34m,\u001b[0m \u001b[0mEncoding\u001b[0m\u001b[0;34m,\u001b[0m \u001b[0mAddedToken\u001b[0m\u001b[0;34m\u001b[0m\u001b[0;34m\u001b[0m\u001b[0m\n\u001b[0m\u001b[1;32m     18\u001b[0m \u001b[0;32mfrom\u001b[0m \u001b[0;34m.\u001b[0m\u001b[0mtokenizers\u001b[0m \u001b[0;32mimport\u001b[0m \u001b[0mdecoders\u001b[0m\u001b[0;34m\u001b[0m\u001b[0;34m\u001b[0m\u001b[0m\n\u001b[1;32m     19\u001b[0m \u001b[0;32mfrom\u001b[0m \u001b[0;34m.\u001b[0m\u001b[0mtokenizers\u001b[0m \u001b[0;32mimport\u001b[0m \u001b[0mmodels\u001b[0m\u001b[0;34m\u001b[0m\u001b[0;34m\u001b[0m\u001b[0m\n",
      "\u001b[0;31mImportError\u001b[0m: dlopen(/Users/luoyonggui/anaconda3/lib/python3.7/site-packages/tokenizers/tokenizers.cpython-37m-darwin.so, 2): Symbol not found: ____chkstk_darwin\n  Referenced from: /Users/luoyonggui/anaconda3/lib/python3.7/site-packages/tokenizers/tokenizers.cpython-37m-darwin.so (which was built for Mac OS X 10.15)\n  Expected in: /usr/lib/libSystem.B.dylib\n in /Users/luoyonggui/anaconda3/lib/python3.7/site-packages/tokenizers/tokenizers.cpython-37m-darwin.so"
     ]
    }
   ],
   "source": [
    "import sys\n",
    "\n",
    "from transformers import AutoTokenizer\n",
    "\n",
    "\n",
    "dataset = 'dev.txt.tmp'\n",
    "model_name_or_path = 'bert-base-multilingual-cased'\n",
    "max_len = 128\n",
    "\n",
    "subword_len_counter = 0\n",
    "\n",
    "tokenizer = AutoTokenizer.from_pretrained(model_name_or_path)\n",
    "max_len -= tokenizer.num_special_tokens_to_add()\n",
    "lines = []\n",
    "with open(dataset, \"rt\") as f_p:\n",
    "    for line in f_p:\n",
    "        line = line.rstrip()\n",
    "\n",
    "        if not line:\n",
    "            print(line)\n",
    "            subword_len_counter = 0\n",
    "            continue\n",
    "\n",
    "        token = line.split()[0]\n",
    "\n",
    "        current_subwords_len = len(tokenizer.tokenize(token))\n",
    "\n",
    "        # Token contains strange control characters like \\x96 or \\x95\n",
    "        # Just filter out the complete line\n",
    "        if current_subwords_len == 0:\n",
    "            continue\n",
    "\n",
    "        if (subword_len_counter + current_subwords_len) > max_len:\n",
    "            print(\"\")\n",
    "            print(line)\n",
    "            subword_len_counter = current_subwords_len\n",
    "            continue\n",
    "\n",
    "        subword_len_counter += current_subwords_len\n",
    "\n",
    "#         print(line)\n",
    "        lines.append(line)"
   ]
  },
  {
   "cell_type": "code",
   "execution_count": null,
   "metadata": {},
   "outputs": [],
   "source": []
  }
 ],
 "metadata": {
  "kernelspec": {
   "display_name": "Python 3",
   "language": "python",
   "name": "python3"
  },
  "language_info": {
   "codemirror_mode": {
    "name": "ipython",
    "version": 3
   },
   "file_extension": ".py",
   "mimetype": "text/x-python",
   "name": "python",
   "nbconvert_exporter": "python",
   "pygments_lexer": "ipython3",
   "version": "3.7.3"
  },
  "toc": {
   "base_numbering": 1,
   "nav_menu": {},
   "number_sections": true,
   "sideBar": true,
   "skip_h1_title": false,
   "title_cell": "Table of Contents",
   "title_sidebar": "Contents",
   "toc_cell": false,
   "toc_position": {
    "height": "calc(100% - 180px)",
    "left": "10px",
    "top": "150px",
    "width": "248.6px"
   },
   "toc_section_display": true,
   "toc_window_display": true
  },
  "varInspector": {
   "cols": {
    "lenName": 16,
    "lenType": 16,
    "lenVar": 40
   },
   "kernels_config": {
    "python": {
     "delete_cmd_postfix": "",
     "delete_cmd_prefix": "del ",
     "library": "var_list.py",
     "varRefreshCmd": "print(var_dic_list())"
    },
    "r": {
     "delete_cmd_postfix": ") ",
     "delete_cmd_prefix": "rm(",
     "library": "var_list.r",
     "varRefreshCmd": "cat(var_dic_list()) "
    }
   },
   "types_to_exclude": [
    "module",
    "function",
    "builtin_function_or_method",
    "instance",
    "_Feature"
   ],
   "window_display": false
  }
 },
 "nbformat": 4,
 "nbformat_minor": 2
}
