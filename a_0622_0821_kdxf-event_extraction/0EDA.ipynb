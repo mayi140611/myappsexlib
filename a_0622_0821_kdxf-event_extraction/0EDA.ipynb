{
 "cells": [
  {
   "cell_type": "code",
   "execution_count": 1,
   "metadata": {},
   "outputs": [],
   "source": [
    "%reload_ext autoreload\n",
    "%autoreload 2"
   ]
  },
  {
   "cell_type": "code",
   "execution_count": 2,
   "metadata": {},
   "outputs": [],
   "source": [
    "# default_exp eda"
   ]
  },
  {
   "attachments": {},
   "cell_type": "markdown",
   "metadata": {},
   "source": [
    "# 事件抽取\n",
    "http://challenge.xfyun.cn/topic/info?type=hotspot\n",
    "\n",
    "https://zhuanlan.zhihu.com/p/150190165"
   ]
  },
  {
   "cell_type": "markdown",
   "metadata": {},
   "source": [
    "# 解题思路\n",
    "## mine\n",
    "因为给的数据量很少，只能用预训练模型，finetune。当然预训练模型也不用很复杂。\n",
    "\n",
    "很好的图像练手的比赛！\n",
    "## 大佬\n"
   ]
  },
  {
   "cell_type": "markdown",
   "metadata": {},
   "source": [
    "# lib导入"
   ]
  },
  {
   "cell_type": "code",
   "execution_count": 1,
   "metadata": {},
   "outputs": [],
   "source": [
    "# export\n",
    "import os\n",
    "import glob\n",
    "from code.config import * \n",
    "from loguru import logger\n",
    "import numpy as np\n",
    "import pandas as pd\n",
    "pd.set_option('display.max_rows', 200)\n",
    "pd.set_option('display.max_columns', 100)  # 设置显示数据的最大列数，防止出现省略号…，导致数据显示不全\n",
    "pd.set_option('expand_frame_repr', False)  # 当列太多时不自动换行\n",
    "\n",
    "from sklearn.metrics import classification_report, accuracy_score\n",
    "import sys\n",
    "sys.path.append('..')\n",
    "from mylib.utils.pickle import PickleWrapper"
   ]
  },
  {
   "cell_type": "code",
   "execution_count": 2,
   "metadata": {},
   "outputs": [],
   "source": [
    "\n",
    "import seaborn as sns\n",
    "sns.set(font='Arial Unicode MS')  # 解决Seaborn中文显示问题\n",
    "from mylib.data.processing.eda import describe"
   ]
  },
  {
   "cell_type": "code",
   "execution_count": 3,
   "metadata": {},
   "outputs": [
    {
     "data": {
      "text/plain": [
       "'../../data/contest/20kdxf_event/'"
      ]
     },
     "execution_count": 3,
     "metadata": {},
     "output_type": "execute_result"
    }
   ],
   "source": [
    "args.DATA_DIR"
   ]
  },
  {
   "cell_type": "code",
   "execution_count": 4,
   "metadata": {},
   "outputs": [],
   "source": [
    "!mkdir {args.DATA_DIR}"
   ]
  },
  {
   "cell_type": "code",
   "execution_count": 6,
   "metadata": {},
   "outputs": [],
   "source": [
    "!open {args.DATA_DIR}"
   ]
  },
  {
   "cell_type": "code",
   "execution_count": 7,
   "metadata": {},
   "outputs": [
    {
     "name": "stdout",
     "output_type": "stream",
     "text": [
      "\u001b[1m\u001b[36mtest\u001b[m\u001b[m\r\n",
      "\u001b[1m\u001b[36mtrain\u001b[m\u001b[m\r\n",
      "事件抽取挑战赛_事件抽取挑战赛提交样例.csv\r\n"
     ]
    }
   ],
   "source": [
    "!ls {args.DATA_DIR}"
   ]
  },
  {
   "cell_type": "markdown",
   "metadata": {},
   "source": [
    "# EDA"
   ]
  },
  {
   "cell_type": "code",
   "execution_count": 42,
   "metadata": {},
   "outputs": [],
   "source": [
    "train_raw = pd.read_csv(args.DATA_DIR+'train/train.csv')"
   ]
  },
  {
   "cell_type": "code",
   "execution_count": 35,
   "metadata": {},
   "outputs": [
    {
     "data": {
      "text/html": [
       "<div>\n",
       "<style scoped>\n",
       "    .dataframe tbody tr th:only-of-type {\n",
       "        vertical-align: middle;\n",
       "    }\n",
       "\n",
       "    .dataframe tbody tr th {\n",
       "        vertical-align: top;\n",
       "    }\n",
       "\n",
       "    .dataframe thead th {\n",
       "        text-align: right;\n",
       "    }\n",
       "</style>\n",
       "<table border=\"1\" class=\"dataframe\">\n",
       "  <thead>\n",
       "    <tr style=\"text-align: right;\">\n",
       "      <th></th>\n",
       "      <th>id</th>\n",
       "      <th>news</th>\n",
       "      <th>trigger</th>\n",
       "      <th>object</th>\n",
       "      <th>subject</th>\n",
       "      <th>time</th>\n",
       "      <th>location</th>\n",
       "    </tr>\n",
       "  </thead>\n",
       "  <tbody>\n",
       "    <tr>\n",
       "      <th>0</th>\n",
       "      <td>1</td>\n",
       "      <td>新华社北京4月7日电（记者王优玲）人力资源社会保障部7日启动第七届大中城市联合招聘高校毕业生...</td>\n",
       "      <td>启动</td>\n",
       "      <td>人力资源社会保障部</td>\n",
       "      <td>第七届大中城市联合招聘高校毕业生春季专场活动</td>\n",
       "      <td>7日</td>\n",
       "      <td>NaN</td>\n",
       "    </tr>\n",
       "    <tr>\n",
       "      <th>1</th>\n",
       "      <td>2</td>\n",
       "      <td>活动针对高校毕业生特点和需求，集中归集发布一批适合高校毕业生的就业岗位，并鼓励引导供需双方应...</td>\n",
       "      <td>发布</td>\n",
       "      <td>活动</td>\n",
       "      <td>一批适合高校毕业生的就业岗位</td>\n",
       "      <td>NaN</td>\n",
       "      <td>NaN</td>\n",
       "    </tr>\n",
       "    <tr>\n",
       "      <th>2</th>\n",
       "      <td>2</td>\n",
       "      <td>活动针对高校毕业生特点和需求，集中归集发布一批适合高校毕业生的就业岗位，并鼓励引导供需双方应...</td>\n",
       "      <td>鼓励</td>\n",
       "      <td>活动</td>\n",
       "      <td>供需双方</td>\n",
       "      <td>NaN</td>\n",
       "      <td>NaN</td>\n",
       "    </tr>\n",
       "    <tr>\n",
       "      <th>3</th>\n",
       "      <td>4</td>\n",
       "      <td>图集4月8日，三大运营商中国移动、中国电信和中国联通将联合举行线上发布会，发布5G消息白皮书...</td>\n",
       "      <td>举行</td>\n",
       "      <td>三大运营商中国移动、中国电信和中国联通</td>\n",
       "      <td>线上发布会</td>\n",
       "      <td>4月8日</td>\n",
       "      <td>NaN</td>\n",
       "    </tr>\n",
       "    <tr>\n",
       "      <th>4</th>\n",
       "      <td>4</td>\n",
       "      <td>图集4月8日，三大运营商中国移动、中国电信和中国联通将联合举行线上发布会，发布5G消息白皮书...</td>\n",
       "      <td>发布</td>\n",
       "      <td>三大运营商中国移动、中国电信和中国联通</td>\n",
       "      <td>5G消息白皮书</td>\n",
       "      <td>4月8日</td>\n",
       "      <td>NaN</td>\n",
       "    </tr>\n",
       "  </tbody>\n",
       "</table>\n",
       "</div>"
      ],
      "text/plain": [
       "   id                                               news trigger               object                 subject  time location\n",
       "0   1  新华社北京4月7日电（记者王优玲）人力资源社会保障部7日启动第七届大中城市联合招聘高校毕业生...      启动            人力资源社会保障部  第七届大中城市联合招聘高校毕业生春季专场活动    7日      NaN\n",
       "1   2  活动针对高校毕业生特点和需求，集中归集发布一批适合高校毕业生的就业岗位，并鼓励引导供需双方应...      发布                   活动          一批适合高校毕业生的就业岗位   NaN      NaN\n",
       "2   2  活动针对高校毕业生特点和需求，集中归集发布一批适合高校毕业生的就业岗位，并鼓励引导供需双方应...      鼓励                   活动                    供需双方   NaN      NaN\n",
       "3   4  图集4月8日，三大运营商中国移动、中国电信和中国联通将联合举行线上发布会，发布5G消息白皮书...      举行  三大运营商中国移动、中国电信和中国联通                   线上发布会  4月8日      NaN\n",
       "4   4  图集4月8日，三大运营商中国移动、中国电信和中国联通将联合举行线上发布会，发布5G消息白皮书...      发布  三大运营商中国移动、中国电信和中国联通                 5G消息白皮书  4月8日      NaN"
      ]
     },
     "execution_count": 35,
     "metadata": {},
     "output_type": "execute_result"
    }
   ],
   "source": [
    "train_raw.head()"
   ]
  },
  {
   "cell_type": "code",
   "execution_count": 44,
   "metadata": {},
   "outputs": [
    {
     "data": {
      "text/plain": [
       "-1"
      ]
     },
     "execution_count": 44,
     "metadata": {},
     "output_type": "execute_result"
    }
   ],
   "source": [
    "'新华社北京4月7日电（记者王优玲）人力资源'.find('北京的')"
   ]
  },
  {
   "cell_type": "code",
   "execution_count": 54,
   "metadata": {},
   "outputs": [],
   "source": [
    "train_raw = train_raw.fillna('')"
   ]
  },
  {
   "cell_type": "code",
   "execution_count": 76,
   "metadata": {},
   "outputs": [],
   "source": [
    "marks_list = []\n",
    "for line in train_raw.itertuples():\n",
    "    marks = ['O'] * len(line.news)\n",
    "    for e, obj in enumerate('trigger object subject time location'.split()):\n",
    "#         print(line[e+3])\n",
    "        if line[e+3] == '': continue \n",
    "        start = line.news.find(line[e+3])\n",
    "        if start != -1:\n",
    "            marks[start] = f'B-{obj}'\n",
    "            for i in range(len(line[e+3])-1):\n",
    "                marks[start+i+1] = f'I-{obj}'\n",
    "    marks_list.append(marks)\n",
    "#     print(marks)\n",
    "#     break"
   ]
  },
  {
   "cell_type": "code",
   "execution_count": 58,
   "metadata": {},
   "outputs": [
    {
     "data": {
      "text/plain": [
       "8000"
      ]
     },
     "execution_count": 58,
     "metadata": {},
     "output_type": "execute_result"
    }
   ],
   "source": [
    "len(marks_list)"
   ]
  },
  {
   "cell_type": "code",
   "execution_count": 60,
   "metadata": {},
   "outputs": [],
   "source": [
    "news_list = train_raw.news.map(list).tolist()"
   ]
  },
  {
   "cell_type": "code",
   "execution_count": 77,
   "metadata": {},
   "outputs": [],
   "source": [
    "results = []\n",
    "for news, marks in zip(news_list, marks_list):\n",
    "    ll = []\n",
    "    for n, m in zip(news, marks):\n",
    "        ll.append(f'{n} {m}')\n",
    "    results.append('\\n'.join(ll))"
   ]
  },
  {
   "cell_type": "code",
   "execution_count": 68,
   "metadata": {},
   "outputs": [
    {
     "data": {
      "text/plain": [
       "8000"
      ]
     },
     "execution_count": 68,
     "metadata": {},
     "output_type": "execute_result"
    }
   ],
   "source": [
    "len(results)"
   ]
  },
  {
   "cell_type": "code",
   "execution_count": 67,
   "metadata": {},
   "outputs": [],
   "source": [
    "with open('kdxf_event.txt', 'w', encoding='utf8') as f:\n",
    "    f.write('\\n\\n'.join(results))"
   ]
  },
  {
   "cell_type": "code",
   "execution_count": 78,
   "metadata": {},
   "outputs": [],
   "source": [
    "with open('train.txt', 'w', encoding='utf8') as f:\n",
    "    f.write('\\n\\n'.join(results[:7000]))"
   ]
  },
  {
   "cell_type": "code",
   "execution_count": 79,
   "metadata": {},
   "outputs": [],
   "source": [
    "with open('dev.txt', 'w', encoding='utf8') as f:\n",
    "    f.write('\\n\\n'.join(results[7000:]))"
   ]
  },
  {
   "cell_type": "code",
   "execution_count": 61,
   "metadata": {
    "scrolled": true
   },
   "outputs": [
    {
     "data": {
      "text/plain": [
       "['新',\n",
       " '华',\n",
       " '社',\n",
       " '北',\n",
       " '京',\n",
       " '4',\n",
       " '月',\n",
       " '7',\n",
       " '日',\n",
       " '电',\n",
       " '（',\n",
       " '记',\n",
       " '者',\n",
       " '王',\n",
       " '优',\n",
       " '玲',\n",
       " '）',\n",
       " '人',\n",
       " '力',\n",
       " '资',\n",
       " '源',\n",
       " '社',\n",
       " '会',\n",
       " '保',\n",
       " '障',\n",
       " '部',\n",
       " '7',\n",
       " '日',\n",
       " '启',\n",
       " '动',\n",
       " '第',\n",
       " '七',\n",
       " '届',\n",
       " '大',\n",
       " '中',\n",
       " '城',\n",
       " '市',\n",
       " '联',\n",
       " '合',\n",
       " '招',\n",
       " '聘',\n",
       " '高',\n",
       " '校',\n",
       " '毕',\n",
       " '业',\n",
       " '生',\n",
       " '春',\n",
       " '季',\n",
       " '专',\n",
       " '场',\n",
       " '活',\n",
       " '动']"
      ]
     },
     "execution_count": 61,
     "metadata": {},
     "output_type": "execute_result"
    }
   ],
   "source": [
    "news_list[0]"
   ]
  },
  {
   "cell_type": "code",
   "execution_count": 59,
   "metadata": {
    "scrolled": true
   },
   "outputs": [
    {
     "data": {
      "text/plain": [
       "['B-object',\n",
       " 'I-object',\n",
       " 'o',\n",
       " 'o',\n",
       " 'o',\n",
       " 'o',\n",
       " 'o',\n",
       " 'o',\n",
       " 'o',\n",
       " 'o',\n",
       " 'o',\n",
       " 'o',\n",
       " 'o',\n",
       " 'o',\n",
       " 'o',\n",
       " 'o',\n",
       " 'o',\n",
       " 'o',\n",
       " 'o',\n",
       " 'o',\n",
       " 'o',\n",
       " 'o',\n",
       " 'o',\n",
       " 'o',\n",
       " 'o',\n",
       " 'o',\n",
       " 'o',\n",
       " 'o',\n",
       " 'o',\n",
       " 'o',\n",
       " 'o',\n",
       " 'o',\n",
       " 'o',\n",
       " 'o',\n",
       " 'o',\n",
       " 'o',\n",
       " 'o',\n",
       " 'B-trigger',\n",
       " 'I-trigger',\n",
       " 'o',\n",
       " 'o',\n",
       " 'B-subject',\n",
       " 'I-subject',\n",
       " 'I-subject',\n",
       " 'I-subject',\n",
       " 'o',\n",
       " 'o',\n",
       " 'o',\n",
       " 'o',\n",
       " 'o',\n",
       " 'o',\n",
       " 'o',\n",
       " 'o',\n",
       " 'o',\n",
       " 'o',\n",
       " 'o',\n",
       " 'o',\n",
       " 'o',\n",
       " 'o',\n",
       " 'o',\n",
       " 'o',\n",
       " 'o',\n",
       " 'o',\n",
       " 'o']"
      ]
     },
     "execution_count": 59,
     "metadata": {},
     "output_type": "execute_result"
    }
   ],
   "source": [
    "marks_list[2]"
   ]
  },
  {
   "cell_type": "code",
   "execution_count": 32,
   "metadata": {},
   "outputs": [],
   "source": [
    "sub_raw = pd.read_csv(args.DATA_DIR+'事件抽取挑战赛_事件抽取挑战赛提交样例.csv')"
   ]
  },
  {
   "cell_type": "code",
   "execution_count": 33,
   "metadata": {},
   "outputs": [
    {
     "data": {
      "text/html": [
       "<div>\n",
       "<style scoped>\n",
       "    .dataframe tbody tr th:only-of-type {\n",
       "        vertical-align: middle;\n",
       "    }\n",
       "\n",
       "    .dataframe tbody tr th {\n",
       "        vertical-align: top;\n",
       "    }\n",
       "\n",
       "    .dataframe thead th {\n",
       "        text-align: right;\n",
       "    }\n",
       "</style>\n",
       "<table border=\"1\" class=\"dataframe\">\n",
       "  <thead>\n",
       "    <tr style=\"text-align: right;\">\n",
       "      <th></th>\n",
       "      <th>id</th>\n",
       "      <th>trigger</th>\n",
       "      <th>object</th>\n",
       "      <th>subject</th>\n",
       "      <th>time</th>\n",
       "      <th>location</th>\n",
       "    </tr>\n",
       "  </thead>\n",
       "  <tbody>\n",
       "    <tr>\n",
       "      <th>0</th>\n",
       "      <td>7953</td>\n",
       "      <td>恢复</td>\n",
       "      <td>深航</td>\n",
       "      <td>湖北其他城市的航班运力</td>\n",
       "      <td>NaN</td>\n",
       "      <td>NaN</td>\n",
       "    </tr>\n",
       "    <tr>\n",
       "      <th>1</th>\n",
       "      <td>7955</td>\n",
       "      <td>恢复</td>\n",
       "      <td>深航</td>\n",
       "      <td>湖北其他城市的航班运力</td>\n",
       "      <td>NaN</td>\n",
       "      <td>NaN</td>\n",
       "    </tr>\n",
       "    <tr>\n",
       "      <th>2</th>\n",
       "      <td>7956</td>\n",
       "      <td>恢复</td>\n",
       "      <td>深航</td>\n",
       "      <td>湖北其他城市的航班运力</td>\n",
       "      <td>NaN</td>\n",
       "      <td>NaN</td>\n",
       "    </tr>\n",
       "    <tr>\n",
       "      <th>3</th>\n",
       "      <td>7956</td>\n",
       "      <td>恢复</td>\n",
       "      <td>深航</td>\n",
       "      <td>湖北其他城市的航班运力</td>\n",
       "      <td>NaN</td>\n",
       "      <td>NaN</td>\n",
       "    </tr>\n",
       "    <tr>\n",
       "      <th>4</th>\n",
       "      <td>7959</td>\n",
       "      <td>恢复</td>\n",
       "      <td>深航</td>\n",
       "      <td>湖北其他城市的航班运力</td>\n",
       "      <td>NaN</td>\n",
       "      <td>NaN</td>\n",
       "    </tr>\n",
       "  </tbody>\n",
       "</table>\n",
       "</div>"
      ],
      "text/plain": [
       "     id trigger object      subject  time  location\n",
       "0  7953      恢复     深航  湖北其他城市的航班运力   NaN       NaN\n",
       "1  7955      恢复     深航  湖北其他城市的航班运力   NaN       NaN\n",
       "2  7956      恢复     深航  湖北其他城市的航班运力   NaN       NaN\n",
       "3  7956      恢复     深航  湖北其他城市的航班运力   NaN       NaN\n",
       "4  7959      恢复     深航  湖北其他城市的航班运力   NaN       NaN"
      ]
     },
     "execution_count": 33,
     "metadata": {},
     "output_type": "execute_result"
    }
   ],
   "source": [
    "sub_raw.head()"
   ]
  },
  {
   "cell_type": "code",
   "execution_count": 71,
   "metadata": {},
   "outputs": [],
   "source": [
    "test_raw = pd.read_csv(args.DATA_DIR+'test/test.csv')"
   ]
  },
  {
   "cell_type": "code",
   "execution_count": 72,
   "metadata": {},
   "outputs": [
    {
     "data": {
      "text/html": [
       "<div>\n",
       "<style scoped>\n",
       "    .dataframe tbody tr th:only-of-type {\n",
       "        vertical-align: middle;\n",
       "    }\n",
       "\n",
       "    .dataframe tbody tr th {\n",
       "        vertical-align: top;\n",
       "    }\n",
       "\n",
       "    .dataframe thead th {\n",
       "        text-align: right;\n",
       "    }\n",
       "</style>\n",
       "<table border=\"1\" class=\"dataframe\">\n",
       "  <thead>\n",
       "    <tr style=\"text-align: right;\">\n",
       "      <th></th>\n",
       "      <th>id</th>\n",
       "      <th>news</th>\n",
       "    </tr>\n",
       "  </thead>\n",
       "  <tbody>\n",
       "    <tr>\n",
       "      <th>0</th>\n",
       "      <td>7953</td>\n",
       "      <td>此外，深航积极恢复湖北其他城市的航班运力，已于近日陆续恢复襄阳往返深圳、惠州、沈阳、珠海，宜...</td>\n",
       "    </tr>\n",
       "    <tr>\n",
       "      <th>1</th>\n",
       "      <td>7955</td>\n",
       "      <td>同时，因其违反中国法律、法规规定，妨害社会管理，根据《出境入境管理法》第八十一条第一款，越秀...</td>\n",
       "    </tr>\n",
       "    <tr>\n",
       "      <th>2</th>\n",
       "      <td>7956</td>\n",
       "      <td>2008年间，佛山市南海区某五金机械厂等8名合法债权人因与罗某丰所经营的某灯具公司发生买卖合...</td>\n",
       "    </tr>\n",
       "    <tr>\n",
       "      <th>3</th>\n",
       "      <td>7959</td>\n",
       "      <td>广州男子涉嫌偷拍女同学发布淫秽信息，学校发声4月8日9时许，广州警方发布通报，经过缜密调查，...</td>\n",
       "    </tr>\n",
       "    <tr>\n",
       "      <th>4</th>\n",
       "      <td>7960</td>\n",
       "      <td>作为广东深圳一家节能企业的董事长，从1月29日开始，李海建便来到武汉参与医疗废弃物焚烧车间建设</td>\n",
       "    </tr>\n",
       "  </tbody>\n",
       "</table>\n",
       "</div>"
      ],
      "text/plain": [
       "     id                                               news\n",
       "0  7953  此外，深航积极恢复湖北其他城市的航班运力，已于近日陆续恢复襄阳往返深圳、惠州、沈阳、珠海，宜...\n",
       "1  7955  同时，因其违反中国法律、法规规定，妨害社会管理，根据《出境入境管理法》第八十一条第一款，越秀...\n",
       "2  7956  2008年间，佛山市南海区某五金机械厂等8名合法债权人因与罗某丰所经营的某灯具公司发生买卖合...\n",
       "3  7959  广州男子涉嫌偷拍女同学发布淫秽信息，学校发声4月8日9时许，广州警方发布通报，经过缜密调查，...\n",
       "4  7960    作为广东深圳一家节能企业的董事长，从1月29日开始，李海建便来到武汉参与医疗废弃物焚烧车间建设"
      ]
     },
     "execution_count": 72,
     "metadata": {},
     "output_type": "execute_result"
    }
   ],
   "source": [
    "test_raw.head()"
   ]
  },
  {
   "cell_type": "code",
   "execution_count": 99,
   "metadata": {},
   "outputs": [
    {
     "data": {
      "text/plain": [
       "(1200, 2)"
      ]
     },
     "execution_count": 99,
     "metadata": {},
     "output_type": "execute_result"
    }
   ],
   "source": [
    "test_raw.shape"
   ]
  },
  {
   "cell_type": "code",
   "execution_count": 73,
   "metadata": {},
   "outputs": [],
   "source": [
    "test = []\n",
    "for i in test_raw.news.map(list).tolist():\n",
    "    test.append('\\n'.join(i))"
   ]
  },
  {
   "cell_type": "code",
   "execution_count": 75,
   "metadata": {},
   "outputs": [],
   "source": [
    "with open('test.txt', 'w', encoding='utf8') as f:\n",
    "    f.write('\\n\\n'.join(test))"
   ]
  },
  {
   "cell_type": "markdown",
   "metadata": {},
   "source": [
    "## gen预测结果"
   ]
  },
  {
   "cell_type": "code",
   "execution_count": 80,
   "metadata": {},
   "outputs": [],
   "source": [
    "with open('test_predictions.txt', 'r', encoding='utf8') as f:\n",
    "    lines = f.readlines()"
   ]
  },
  {
   "cell_type": "code",
   "execution_count": 93,
   "metadata": {},
   "outputs": [],
   "source": [
    "marks = [line.strip().split()[-1] if line.strip() else '##' for line in lines]"
   ]
  },
  {
   "cell_type": "code",
   "execution_count": null,
   "metadata": {},
   "outputs": [],
   "source": []
  },
  {
   "cell_type": "code",
   "execution_count": 95,
   "metadata": {},
   "outputs": [],
   "source": [
    "marks = ' '.join(marks)"
   ]
  },
  {
   "cell_type": "code",
   "execution_count": 97,
   "metadata": {},
   "outputs": [],
   "source": [
    "marks = marks.split(' ## ')"
   ]
  },
  {
   "cell_type": "code",
   "execution_count": 98,
   "metadata": {},
   "outputs": [
    {
     "data": {
      "text/plain": [
       "1200"
      ]
     },
     "execution_count": 98,
     "metadata": {},
     "output_type": "execute_result"
    }
   ],
   "source": [
    "len(marks)"
   ]
  },
  {
   "cell_type": "code",
   "execution_count": 115,
   "metadata": {},
   "outputs": [],
   "source": [
    "preds = []\n",
    "for ii, marks_ in enumerate(marks):\n",
    "#     print(marks_)\n",
    "#     print(test_raw.iloc[ii]['news'])\n",
    "    d = {\n",
    "        'trigger': None,\n",
    "        'object': None,\n",
    "        'time': None,\n",
    "        'location': None,\n",
    "    }\n",
    "    start = -1\n",
    "    range_ = 1\n",
    "    label = None\n",
    "    for i, mark in enumerate(marks_.split()):\n",
    "        d['id'] = test_raw.iloc[ii]['id']\n",
    "        if mark.startswith('B'):\n",
    "            if label and start != -1:\n",
    "                d[label] = test_raw.iloc[ii]['news'][start: start+range_]\n",
    "            start = i\n",
    "            range_=1\n",
    "            label = mark.split('-')[-1]\n",
    "        elif mark.startswith('I'):\n",
    "            if label == mark.split('-')[-1]:\n",
    "                range_ += 1\n",
    "            elif label:\n",
    "                d[label] = test_raw.iloc[ii]['news'][start: start+range_]\n",
    "                start = -1\n",
    "                range_ = 1\n",
    "                label = None\n",
    "        elif mark.startswith('O'):\n",
    "            if label:\n",
    "                d[label] = test_raw.iloc[ii]['news'][start: start+range_]\n",
    "                start = -1\n",
    "                range_ = 1\n",
    "                label = None\n",
    "    preds.append(d)\n",
    "#     print(d)\n",
    "#         break\n",
    "#     break"
   ]
  },
  {
   "cell_type": "code",
   "execution_count": 116,
   "metadata": {},
   "outputs": [],
   "source": [
    "sub_ = pd.DataFrame(preds)"
   ]
  },
  {
   "cell_type": "code",
   "execution_count": 114,
   "metadata": {},
   "outputs": [
    {
     "data": {
      "text/html": [
       "<div>\n",
       "<style scoped>\n",
       "    .dataframe tbody tr th:only-of-type {\n",
       "        vertical-align: middle;\n",
       "    }\n",
       "\n",
       "    .dataframe tbody tr th {\n",
       "        vertical-align: top;\n",
       "    }\n",
       "\n",
       "    .dataframe thead th {\n",
       "        text-align: right;\n",
       "    }\n",
       "</style>\n",
       "<table border=\"1\" class=\"dataframe\">\n",
       "  <thead>\n",
       "    <tr style=\"text-align: right;\">\n",
       "      <th></th>\n",
       "      <th>id</th>\n",
       "      <th>news</th>\n",
       "    </tr>\n",
       "  </thead>\n",
       "  <tbody>\n",
       "    <tr>\n",
       "      <th>0</th>\n",
       "      <td>7953</td>\n",
       "      <td>此外，深航积极恢复湖北其他城市的航班运力，已于近日陆续恢复襄阳往返深圳、惠州、沈阳、珠海，宜...</td>\n",
       "    </tr>\n",
       "    <tr>\n",
       "      <th>1</th>\n",
       "      <td>7955</td>\n",
       "      <td>同时，因其违反中国法律、法规规定，妨害社会管理，根据《出境入境管理法》第八十一条第一款，越秀...</td>\n",
       "    </tr>\n",
       "    <tr>\n",
       "      <th>2</th>\n",
       "      <td>7956</td>\n",
       "      <td>2008年间，佛山市南海区某五金机械厂等8名合法债权人因与罗某丰所经营的某灯具公司发生买卖合...</td>\n",
       "    </tr>\n",
       "    <tr>\n",
       "      <th>3</th>\n",
       "      <td>7959</td>\n",
       "      <td>广州男子涉嫌偷拍女同学发布淫秽信息，学校发声4月8日9时许，广州警方发布通报，经过缜密调查，...</td>\n",
       "    </tr>\n",
       "    <tr>\n",
       "      <th>4</th>\n",
       "      <td>7960</td>\n",
       "      <td>作为广东深圳一家节能企业的董事长，从1月29日开始，李海建便来到武汉参与医疗废弃物焚烧车间建设</td>\n",
       "    </tr>\n",
       "  </tbody>\n",
       "</table>\n",
       "</div>"
      ],
      "text/plain": [
       "     id                                               news\n",
       "0  7953  此外，深航积极恢复湖北其他城市的航班运力，已于近日陆续恢复襄阳往返深圳、惠州、沈阳、珠海，宜...\n",
       "1  7955  同时，因其违反中国法律、法规规定，妨害社会管理，根据《出境入境管理法》第八十一条第一款，越秀...\n",
       "2  7956  2008年间，佛山市南海区某五金机械厂等8名合法债权人因与罗某丰所经营的某灯具公司发生买卖合...\n",
       "3  7959  广州男子涉嫌偷拍女同学发布淫秽信息，学校发声4月8日9时许，广州警方发布通报，经过缜密调查，...\n",
       "4  7960    作为广东深圳一家节能企业的董事长，从1月29日开始，李海建便来到武汉参与医疗废弃物焚烧车间建设"
      ]
     },
     "execution_count": 114,
     "metadata": {},
     "output_type": "execute_result"
    }
   ],
   "source": [
    "test_raw.head()"
   ]
  },
  {
   "cell_type": "code",
   "execution_count": 120,
   "metadata": {},
   "outputs": [],
   "source": [
    "sub_[sub_raw.columns].to_csv(args.DATA_DIR+'sub_0803.csv', index=False)"
   ]
  },
  {
   "cell_type": "code",
   "execution_count": 118,
   "metadata": {},
   "outputs": [
    {
     "data": {
      "text/html": [
       "<div>\n",
       "<style scoped>\n",
       "    .dataframe tbody tr th:only-of-type {\n",
       "        vertical-align: middle;\n",
       "    }\n",
       "\n",
       "    .dataframe tbody tr th {\n",
       "        vertical-align: top;\n",
       "    }\n",
       "\n",
       "    .dataframe thead th {\n",
       "        text-align: right;\n",
       "    }\n",
       "</style>\n",
       "<table border=\"1\" class=\"dataframe\">\n",
       "  <thead>\n",
       "    <tr style=\"text-align: right;\">\n",
       "      <th></th>\n",
       "      <th>trigger</th>\n",
       "      <th>object</th>\n",
       "      <th>time</th>\n",
       "      <th>location</th>\n",
       "      <th>id</th>\n",
       "      <th>subject</th>\n",
       "    </tr>\n",
       "  </thead>\n",
       "  <tbody>\n",
       "    <tr>\n",
       "      <th>1089</th>\n",
       "      <td>提出</td>\n",
       "      <td>他</td>\n",
       "      <td>None</td>\n",
       "      <td>None</td>\n",
       "      <td>9813</td>\n",
       "      <td>NaN</td>\n",
       "    </tr>\n",
       "    <tr>\n",
       "      <th>1034</th>\n",
       "      <td>None</td>\n",
       "      <td>None</td>\n",
       "      <td>None</td>\n",
       "      <td>None</td>\n",
       "      <td>9722</td>\n",
       "      <td>美利纸业生产纸浆时产生的黑液被</td>\n",
       "    </tr>\n",
       "    <tr>\n",
       "      <th>1175</th>\n",
       "      <td>None</td>\n",
       "      <td>科比</td>\n",
       "      <td>None</td>\n",
       "      <td>None</td>\n",
       "      <td>9939</td>\n",
       "      <td>NaN</td>\n",
       "    </tr>\n",
       "    <tr>\n",
       "      <th>1154</th>\n",
       "      <td>公布</td>\n",
       "      <td>增城警方</td>\n",
       "      <td>2017年6月</td>\n",
       "      <td>None</td>\n",
       "      <td>9910</td>\n",
       "      <td>梅</td>\n",
       "    </tr>\n",
       "    <tr>\n",
       "      <th>1148</th>\n",
       "      <td>None</td>\n",
       "      <td>None</td>\n",
       "      <td>None</td>\n",
       "      <td>None</td>\n",
       "      <td>9901</td>\n",
       "      <td>NaN</td>\n",
       "    </tr>\n",
       "    <tr>\n",
       "      <th>896</th>\n",
       "      <td>None</td>\n",
       "      <td>None</td>\n",
       "      <td>None</td>\n",
       "      <td>None</td>\n",
       "      <td>9538</td>\n",
       "      <td>NaN</td>\n",
       "    </tr>\n",
       "    <tr>\n",
       "      <th>203</th>\n",
       "      <td>启动</td>\n",
       "      <td>准格尔旗公安局</td>\n",
       "      <td>None</td>\n",
       "      <td>None</td>\n",
       "      <td>8332</td>\n",
       "      <td>命案侦破机制</td>\n",
       "    </tr>\n",
       "    <tr>\n",
       "      <th>53</th>\n",
       "      <td>None</td>\n",
       "      <td>西班牙</td>\n",
       "      <td>None</td>\n",
       "      <td>None</td>\n",
       "      <td>8049</td>\n",
       "      <td>NaN</td>\n",
       "    </tr>\n",
       "    <tr>\n",
       "      <th>1076</th>\n",
       "      <td>下发</td>\n",
       "      <td>最高检</td>\n",
       "      <td>今</td>\n",
       "      <td>None</td>\n",
       "      <td>9792</td>\n",
       "      <td>人民检察院办案活动接受人民监督员监督的规定</td>\n",
       "    </tr>\n",
       "    <tr>\n",
       "      <th>957</th>\n",
       "      <td>参加</td>\n",
       "      <td>他</td>\n",
       "      <td>None</td>\n",
       "      <td>None</td>\n",
       "      <td>9618</td>\n",
       "      <td>政府组织的厨师班</td>\n",
       "    </tr>\n",
       "    <tr>\n",
       "      <th>824</th>\n",
       "      <td>介绍</td>\n",
       "      <td>裕强社区卫生服务中心主任袁睿</td>\n",
       "      <td>10月20日</td>\n",
       "      <td>None</td>\n",
       "      <td>9429</td>\n",
       "      <td>NaN</td>\n",
       "    </tr>\n",
       "    <tr>\n",
       "      <th>404</th>\n",
       "      <td>开展</td>\n",
       "      <td>中国疫苗协会</td>\n",
       "      <td>2月9日</td>\n",
       "      <td>None</td>\n",
       "      <td>8711</td>\n",
       "      <td>新冠疫苗的研发</td>\n",
       "    </tr>\n",
       "    <tr>\n",
       "      <th>353</th>\n",
       "      <td>召开</td>\n",
       "      <td>台湾“中央流行疫情指挥中心”</td>\n",
       "      <td>None</td>\n",
       "      <td>None</td>\n",
       "      <td>8600</td>\n",
       "      <td>专家咨询会议</td>\n",
       "    </tr>\n",
       "    <tr>\n",
       "      <th>304</th>\n",
       "      <td>散布</td>\n",
       "      <td>这个支持蔡英文的市民团体（脸书社团</td>\n",
       "      <td>None</td>\n",
       "      <td>None</td>\n",
       "      <td>8503</td>\n",
       "      <td>NaN</td>\n",
       "    </tr>\n",
       "    <tr>\n",
       "      <th>194</th>\n",
       "      <td>恢复</td>\n",
       "      <td>黄山风景区</td>\n",
       "      <td>2月21日</td>\n",
       "      <td>None</td>\n",
       "      <td>8321</td>\n",
       "      <td>开放</td>\n",
       "    </tr>\n",
       "    <tr>\n",
       "      <th>81</th>\n",
       "      <td>发布</td>\n",
       "      <td>武磊</td>\n",
       "      <td>None</td>\n",
       "      <td>None</td>\n",
       "      <td>8097</td>\n",
       "      <td>视频</td>\n",
       "    </tr>\n",
       "    <tr>\n",
       "      <th>635</th>\n",
       "      <td>None</td>\n",
       "      <td>None</td>\n",
       "      <td>None</td>\n",
       "      <td>None</td>\n",
       "      <td>9140</td>\n",
       "      <td>NaN</td>\n",
       "    </tr>\n",
       "    <tr>\n",
       "      <th>1001</th>\n",
       "      <td>出席</td>\n",
       "      <td>先生</td>\n",
       "      <td>None</td>\n",
       "      <td>None</td>\n",
       "      <td>9677</td>\n",
       "      <td>论坛</td>\n",
       "    </tr>\n",
       "    <tr>\n",
       "      <th>1104</th>\n",
       "      <td>None</td>\n",
       "      <td>新京报记者</td>\n",
       "      <td>2019年8月5日</td>\n",
       "      <td>None</td>\n",
       "      <td>9836</td>\n",
       "      <td>NaN</td>\n",
       "    </tr>\n",
       "    <tr>\n",
       "      <th>123</th>\n",
       "      <td>None</td>\n",
       "      <td>巴塞罗那一线球员</td>\n",
       "      <td>None</td>\n",
       "      <td>None</td>\n",
       "      <td>8165</td>\n",
       "      <td>NaN</td>\n",
       "    </tr>\n",
       "  </tbody>\n",
       "</table>\n",
       "</div>"
      ],
      "text/plain": [
       "     trigger             object       time location    id                subject\n",
       "1089      提出                  他       None     None  9813                    NaN\n",
       "1034    None               None       None     None  9722        美利纸业生产纸浆时产生的黑液被\n",
       "1175    None                 科比       None     None  9939                    NaN\n",
       "1154      公布               增城警方    2017年6月     None  9910                      梅\n",
       "1148    None               None       None     None  9901                    NaN\n",
       "896     None               None       None     None  9538                    NaN\n",
       "203       启动            准格尔旗公安局       None     None  8332                 命案侦破机制\n",
       "53      None                西班牙       None     None  8049                    NaN\n",
       "1076      下发                最高检          今     None  9792  人民检察院办案活动接受人民监督员监督的规定\n",
       "957       参加                  他       None     None  9618               政府组织的厨师班\n",
       "824       介绍     裕强社区卫生服务中心主任袁睿     10月20日     None  9429                    NaN\n",
       "404       开展             中国疫苗协会       2月9日     None  8711                新冠疫苗的研发\n",
       "353       召开     台湾“中央流行疫情指挥中心”       None     None  8600                 专家咨询会议\n",
       "304       散布  这个支持蔡英文的市民团体（脸书社团       None     None  8503                    NaN\n",
       "194       恢复              黄山风景区      2月21日     None  8321                     开放\n",
       "81        发布                 武磊       None     None  8097                     视频\n",
       "635     None               None       None     None  9140                    NaN\n",
       "1001      出席                 先生       None     None  9677                     论坛\n",
       "1104    None              新京报记者  2019年8月5日     None  9836                    NaN\n",
       "123     None           巴塞罗那一线球员       None     None  8165                    NaN"
      ]
     },
     "execution_count": 118,
     "metadata": {},
     "output_type": "execute_result"
    }
   ],
   "source": [
    "sub_.sample(20)"
   ]
  },
  {
   "cell_type": "code",
   "execution_count": null,
   "metadata": {},
   "outputs": [],
   "source": []
  },
  {
   "cell_type": "code",
   "execution_count": null,
   "metadata": {},
   "outputs": [],
   "source": []
  },
  {
   "cell_type": "code",
   "execution_count": null,
   "metadata": {},
   "outputs": [],
   "source": []
  },
  {
   "cell_type": "code",
   "execution_count": null,
   "metadata": {},
   "outputs": [],
   "source": []
  },
  {
   "cell_type": "code",
   "execution_count": 13,
   "metadata": {},
   "outputs": [
    {
     "data": {
      "text/plain": [
       "count    8000.000000\n",
       "mean       71.780875\n",
       "std        39.728918\n",
       "min        10.000000\n",
       "25%        45.000000\n",
       "50%        63.000000\n",
       "75%        88.000000\n",
       "max       397.000000\n",
       "Name: news, dtype: float64"
      ]
     },
     "execution_count": 13,
     "metadata": {},
     "output_type": "execute_result"
    }
   ],
   "source": [
    "train_raw.news.str.len().describe()"
   ]
  },
  {
   "cell_type": "code",
   "execution_count": 14,
   "metadata": {},
   "outputs": [
    {
     "data": {
      "text/plain": [
       "count    1200.000000\n",
       "mean       62.677500\n",
       "std        36.050009\n",
       "min        10.000000\n",
       "25%        38.000000\n",
       "50%        54.000000\n",
       "75%        78.000000\n",
       "max       342.000000\n",
       "Name: news, dtype: float64"
      ]
     },
     "execution_count": 14,
     "metadata": {},
     "output_type": "execute_result"
    }
   ],
   "source": [
    "test_raw.news.str.len().describe()"
   ]
  },
  {
   "cell_type": "code",
   "execution_count": 36,
   "metadata": {},
   "outputs": [
    {
     "data": {
      "text/plain": [
       "1256"
      ]
     },
     "execution_count": 36,
     "metadata": {},
     "output_type": "execute_result"
    }
   ],
   "source": [
    "train_raw.trigger.nunique()"
   ]
  },
  {
   "cell_type": "code",
   "execution_count": 37,
   "metadata": {},
   "outputs": [
    {
     "data": {
      "text/plain": [
       "召开       True\n",
       "发布       True\n",
       "参加       True\n",
       "接受       True\n",
       "发表       True\n",
       "        ...  \n",
       "突发      False\n",
       "稿酬      False\n",
       "提前      False\n",
       "赶回      False\n",
       "没有遇到    False\n",
       "Name: trigger, Length: 1256, dtype: bool"
      ]
     },
     "execution_count": 37,
     "metadata": {},
     "output_type": "execute_result"
    }
   ],
   "source": [
    "train_raw['trigger'].value_counts()>1"
   ]
  },
  {
   "cell_type": "code",
   "execution_count": 38,
   "metadata": {},
   "outputs": [],
   "source": [
    "lb = (train_raw['trigger'].value_counts()>1).reset_index()\n",
    "lb.columns = ['lb','flag']\n",
    "lb = list(lb[lb['flag']==True].lb.values)\n",
    "predicate2id = {j:i for i,j in enumerate(lb)}\n",
    "id2predicate = {i:j for i,j in enumerate(lb)}"
   ]
  },
  {
   "cell_type": "code",
   "execution_count": 39,
   "metadata": {},
   "outputs": [
    {
     "data": {
      "text/plain": [
       "478"
      ]
     },
     "execution_count": 39,
     "metadata": {},
     "output_type": "execute_result"
    }
   ],
   "source": [
    "len(lb)"
   ]
  },
  {
   "cell_type": "code",
   "execution_count": 29,
   "metadata": {},
   "outputs": [
    {
     "data": {
      "text/plain": [
       "['召开', '发布', '参加', '接受', '发表']"
      ]
     },
     "execution_count": 29,
     "metadata": {},
     "output_type": "execute_result"
    }
   ],
   "source": [
    "lb[:5]"
   ]
  },
  {
   "cell_type": "code",
   "execution_count": 40,
   "metadata": {},
   "outputs": [
    {
     "data": {
      "text/plain": [
       "{'召开': 0,\n",
       " '发布': 1,\n",
       " '参加': 2,\n",
       " '接受': 3,\n",
       " '发表': 4,\n",
       " '举行': 5,\n",
       " '开展': 6,\n",
       " '提出': 7,\n",
       " '成立': 8,\n",
       " '推出': 9,\n",
       " '作出': 10,\n",
       " '发生': 11,\n",
       " '公布': 12,\n",
       " '到达': 13,\n",
       " '离开': 14,\n",
       " '建立': 15,\n",
       " '发现': 16,\n",
       " '组织': 17,\n",
       " '参与': 18,\n",
       " '恢复': 19,\n",
       " '启动': 20,\n",
       " '支持': 21,\n",
       " '找到': 22,\n",
       " '印发': 23,\n",
       " '出任': 24,\n",
       " '介绍': 25,\n",
       " '出席': 26,\n",
       " '制定': 27,\n",
       " '提供': 28,\n",
       " '增加': 29,\n",
       " '转入': 30,\n",
       " '设立': 31,\n",
       " '通报': 32,\n",
       " '宣布': 33,\n",
       " '举办': 34,\n",
       " '反对': 35,\n",
       " '指出': 36,\n",
       " '导致': 37,\n",
       " '形成': 38,\n",
       " '选择': 39,\n",
       " '批准': 40,\n",
       " '做出': 41,\n",
       " '购买': 42,\n",
       " '推动': 43,\n",
       " '推进': 44,\n",
       " '执行': 45,\n",
       " '调查': 46,\n",
       " '申请': 47,\n",
       " '关注': 48,\n",
       " '加入': 49,\n",
       " '分享': 50,\n",
       " '投入': 51,\n",
       " '给予': 52,\n",
       " '减少': 53,\n",
       " '解决': 54,\n",
       " '控制': 55,\n",
       " '制造': 56,\n",
       " '被确诊': 57,\n",
       " '检查': 58,\n",
       " '披露': 59,\n",
       " '打造': 60,\n",
       " '开启': 61,\n",
       " '会见': 62,\n",
       " '报道': 63,\n",
       " '改变': 64,\n",
       " '分析': 65,\n",
       " '进行': 66,\n",
       " '创造': 67,\n",
       " '调整': 68,\n",
       " '通过': 69,\n",
       " '带来': 70,\n",
       " '处理': 71,\n",
       " '影响': 72,\n",
       " '担任': 73,\n",
       " '建议': 74,\n",
       " '开发': 75,\n",
       " '告诉': 76,\n",
       " '提高': 77,\n",
       " '学习': 78,\n",
       " '发出': 79,\n",
       " '到': 80,\n",
       " '开放': 81,\n",
       " '前往': 82,\n",
       " '完成': 83,\n",
       " '抵达': 84,\n",
       " '建设': 85,\n",
       " '乘': 86,\n",
       " '实施': 87,\n",
       " '建成': 88,\n",
       " '发行': 89,\n",
       " '来到': 90,\n",
       " '解除': 91,\n",
       " '推荐': 92,\n",
       " '出现': 93,\n",
       " '部署': 94,\n",
       " '加强': 95,\n",
       " '吸引': 96,\n",
       " '进入': 97,\n",
       " '制作': 98,\n",
       " '生': 99,\n",
       " '增长': 100,\n",
       " '出台': 101,\n",
       " '主持': 102,\n",
       " '接到': 103,\n",
       " '新增': 104,\n",
       " '安排': 105,\n",
       " '批评': 106,\n",
       " '入党': 107,\n",
       " '颁布': 108,\n",
       " '开除': 109,\n",
       " '提升': 110,\n",
       " '生产': 111,\n",
       " '任命': 112,\n",
       " '要求': 113,\n",
       " '实现': 114,\n",
       " '拒绝': 115,\n",
       " '支付': 116,\n",
       " '任': 117,\n",
       " '采取': 118,\n",
       " '收到': 119,\n",
       " '构建': 120,\n",
       " '组成': 121,\n",
       " '发展': 122,\n",
       " '成为': 123,\n",
       " '派出': 124,\n",
       " '确诊': 125,\n",
       " '涉嫌': 126,\n",
       " '组建': 127,\n",
       " '回到': 128,\n",
       " '利用': 129,\n",
       " '决定': 130,\n",
       " '乘坐': 131,\n",
       " '采用': 132,\n",
       " '签署': 133,\n",
       " '受到': 134,\n",
       " '实行': 135,\n",
       " '拍摄': 136,\n",
       " '获得': 137,\n",
       " '增强': 138,\n",
       " '取消': 139,\n",
       " '违反': 140,\n",
       " '落实': 141,\n",
       " '驾驶': 142,\n",
       " '降低': 143,\n",
       " '赴': 144,\n",
       " '移送': 145,\n",
       " '下发': 146,\n",
       " '提议': 147,\n",
       " '投资': 148,\n",
       " '研发': 149,\n",
       " '选举': 150,\n",
       " '致以': 151,\n",
       " '听取': 152,\n",
       " '呼吁': 153,\n",
       " '回答': 154,\n",
       " '指导': 155,\n",
       " '设计': 156,\n",
       " '致电': 157,\n",
       " '协助': 158,\n",
       " '被开除': 159,\n",
       " '发动': 160,\n",
       " '派遣': 161,\n",
       " '发起': 162,\n",
       " '打开': 163,\n",
       " '评价': 164,\n",
       " '纳入': 165,\n",
       " '升级': 166,\n",
       " '出生': 167,\n",
       " '测试': 168,\n",
       " '负责': 169,\n",
       " '说': 170,\n",
       " '被捕': 171,\n",
       " '采集': 172,\n",
       " '停止': 173,\n",
       " '拿出': 174,\n",
       " '造成': 175,\n",
       " '培养': 176,\n",
       " '捐赠': 177,\n",
       " '上线': 178,\n",
       " '爆发': 179,\n",
       " '破坏': 180,\n",
       " '下跌': 181,\n",
       " '创办': 182,\n",
       " '开通': 183,\n",
       " '关闭': 184,\n",
       " '开始': 185,\n",
       " '达': 186,\n",
       " '称': 187,\n",
       " '曝光': 188,\n",
       " '作为': 189,\n",
       " '起草': 190,\n",
       " '有': 191,\n",
       " '打击': 192,\n",
       " '通知': 193,\n",
       " '降至': 194,\n",
       " '创立': 195,\n",
       " '检测': 196,\n",
       " '粉碎': 197,\n",
       " '干预': 198,\n",
       " '煽动': 199,\n",
       " '引发': 200,\n",
       " '批判': 201,\n",
       " '访问': 202,\n",
       " '调集': 203,\n",
       " '刊登': 204,\n",
       " '看到': 205,\n",
       " '补充': 206,\n",
       " '上调': 207,\n",
       " '搭建': 208,\n",
       " '交流': 209,\n",
       " '索取': 210,\n",
       " '重启': 211,\n",
       " '去世': 212,\n",
       " '完善': 213,\n",
       " '报告': 214,\n",
       " '抓获': 215,\n",
       " '致信': 216,\n",
       " '召集': 217,\n",
       " '占领': 218,\n",
       " '发放': 219,\n",
       " '举报': 220,\n",
       " '上涨': 221,\n",
       " '结束': 222,\n",
       " '撰写': 223,\n",
       " '打掉': 224,\n",
       " '回国': 225,\n",
       " '聚集': 226,\n",
       " '写信': 227,\n",
       " '研究': 228,\n",
       " '暂停': 229,\n",
       " '感谢': 230,\n",
       " '鼓励': 231,\n",
       " '邀请': 232,\n",
       " '查处': 233,\n",
       " '升任': 234,\n",
       " '入驻': 235,\n",
       " '送别': 236,\n",
       " '查获': 237,\n",
       " '上报': 238,\n",
       " '变得': 239,\n",
       " '供应': 240,\n",
       " '选派': 241,\n",
       " '号召': 242,\n",
       " '承担': 243,\n",
       " '联系': 244,\n",
       " '坚持': 245,\n",
       " '插手': 246,\n",
       " '扮演': 247,\n",
       " '创建': 248,\n",
       " '响应': 249,\n",
       " '取得': 250,\n",
       " '篡改': 251,\n",
       " '致慰问电': 252,\n",
       " '派': 253,\n",
       " '治疗': 254,\n",
       " '调整为': 255,\n",
       " '找': 256,\n",
       " '体验': 257,\n",
       " '去': 258,\n",
       " '释放': 259,\n",
       " '扑灭': 260,\n",
       " '回归': 261,\n",
       " '开辟': 262,\n",
       " '发': 263,\n",
       " '驰援': 264,\n",
       " '促进': 265,\n",
       " '打伤': 266,\n",
       " '写了': 267,\n",
       " '接见': 268,\n",
       " '督促': 269,\n",
       " '签订': 270,\n",
       " '推广': 271,\n",
       " '确认': 272,\n",
       " '修改': 273,\n",
       " '宣读': 274,\n",
       " '被罚': 275,\n",
       " '改造': 276,\n",
       " '抗击': 277,\n",
       " '强调': 278,\n",
       " '当选': 279,\n",
       " '攻击': 280,\n",
       " '保持': 281,\n",
       " '出发': 282,\n",
       " '超过': 283,\n",
       " '颁发': 284,\n",
       " '逮捕': 285,\n",
       " '获': 286,\n",
       " '赶到': 287,\n",
       " '采访': 288,\n",
       " '去了': 289,\n",
       " '分离': 290,\n",
       " '请求': 291,\n",
       " '下降': 292,\n",
       " '出版': 293,\n",
       " '了解': 294,\n",
       " '指挥': 295,\n",
       " '同意': 296,\n",
       " '逝世': 297,\n",
       " '突破': 298,\n",
       " '拘捕': 299,\n",
       " '引领': 300,\n",
       " '讨论': 301,\n",
       " '承认': 302,\n",
       " '投诉': 303,\n",
       " '进': 304,\n",
       " '加大': 305,\n",
       " '揭示': 306,\n",
       " '提升到': 307,\n",
       " '撤除': 308,\n",
       " '送上': 309,\n",
       " '办理': 310,\n",
       " '售出': 311,\n",
       " '打压': 312,\n",
       " '限制': 313,\n",
       " '发了': 314,\n",
       " '等了': 315,\n",
       " '上升': 316,\n",
       " '辞退': 317,\n",
       " '反击': 318,\n",
       " '改建': 319,\n",
       " '率领': 320,\n",
       " '播出': 321,\n",
       " '反映': 322,\n",
       " '指定': 323,\n",
       " '被': 324,\n",
       " '招聘': 325,\n",
       " '改善': 326,\n",
       " '携带': 327,\n",
       " '主持召开': 328,\n",
       " '作了': 329,\n",
       " '监督': 330,\n",
       " '走进': 331,\n",
       " '是': 332,\n",
       " '教唆': 333,\n",
       " '提问': 334,\n",
       " '扩大': 335,\n",
       " '提高到': 336,\n",
       " '处罚': 337,\n",
       " '呈': 338,\n",
       " '访察': 339,\n",
       " '叮嘱': 340,\n",
       " '发送': 341,\n",
       " '对': 342,\n",
       " '表达': 343,\n",
       " '下达': 344,\n",
       " '重申': 345,\n",
       " '传播': 346,\n",
       " '转载': 347,\n",
       " '指使': 348,\n",
       " '电告': 349,\n",
       " '申报': 350,\n",
       " '视察': 351,\n",
       " '做过': 352,\n",
       " '上市': 353,\n",
       " '立案审查': 354,\n",
       " '途经': 355,\n",
       " '拨出': 356,\n",
       " '研制': 357,\n",
       " '训练': 358,\n",
       " '拍到': 359,\n",
       " '陪同': 360,\n",
       " '缩短': 361,\n",
       " '明确': 362,\n",
       " '宣誓': 363,\n",
       " '接': 364,\n",
       " '没有完成': 365,\n",
       " '被查': 366,\n",
       " '进攻': 367,\n",
       " '唱响': 368,\n",
       " '有序开展': 369,\n",
       " '当上': 370,\n",
       " '追访': 371,\n",
       " '写好': 372,\n",
       " '使用': 373,\n",
       " '纠正': 374,\n",
       " '进驻': 375,\n",
       " '慰问': 376,\n",
       " '换乘': 377,\n",
       " '创作': 378,\n",
       " '带动': 379,\n",
       " '撤销': 380,\n",
       " '暴发': 381,\n",
       " '开设': 382,\n",
       " '调度': 383,\n",
       " '免去': 384,\n",
       " '转任': 385,\n",
       " '落马': 386,\n",
       " '停止发布': 387,\n",
       " '来': 388,\n",
       " '启用': 389,\n",
       " '接收': 390,\n",
       " '探望': 391,\n",
       " '消除': 392,\n",
       " '抵触': 393,\n",
       " '禁止': 394,\n",
       " '享受': 395,\n",
       " '巡察': 396,\n",
       " '制订': 397,\n",
       " '涉及': 398,\n",
       " '连线': 399,\n",
       " '设置': 400,\n",
       " '履行': 401,\n",
       " '动员': 402,\n",
       " '培育': 403,\n",
       " '供认不讳': 404,\n",
       " '致函': 405,\n",
       " '指控': 406,\n",
       " '参与建议': 407,\n",
       " '防控': 408,\n",
       " '叫停': 409,\n",
       " '展现': 410,\n",
       " '倡导': 411,\n",
       " '诞生': 412,\n",
       " '走访': 413,\n",
       " '揭露': 414,\n",
       " '转至': 415,\n",
       " '诬陷': 416,\n",
       " '返回': 417,\n",
       " '达到': 418,\n",
       " '阻挠': 419,\n",
       " '发射': 420,\n",
       " '为': 421,\n",
       " '遇难': 422,\n",
       " '调任': 423,\n",
       " '招募': 424,\n",
       " '传递': 425,\n",
       " '打通': 426,\n",
       " '胜利': 427,\n",
       " '指责': 428,\n",
       " '赠送': 429,\n",
       " '交代': 430,\n",
       " '开工': 431,\n",
       " '赴任': 432,\n",
       " '提起': 433,\n",
       " '兼任': 434,\n",
       " '侦破': 435,\n",
       " '运抵': 436,\n",
       " '辞去': 437,\n",
       " '支援': 438,\n",
       " '引爆': 439,\n",
       " '代表': 440,\n",
       " '传达': 441,\n",
       " '排查': 442,\n",
       " '查阅': 443,\n",
       " '发挥': 444,\n",
       " '拉开': 445,\n",
       " '采购': 446,\n",
       " '当选为': 447,\n",
       " '直认不讳': 448,\n",
       " '审问': 449,\n",
       " '落地': 450,\n",
       " '押解': 451,\n",
       " '审批': 452,\n",
       " '打败': 453,\n",
       " '回应': 454,\n",
       " '阻止': 455,\n",
       " '买了': 456,\n",
       " '调查终结': 457,\n",
       " '袭击': 458,\n",
       " '到了': 459,\n",
       " '怂恿': 460,\n",
       " '出动': 461,\n",
       " '集结': 462,\n",
       " '经历': 463,\n",
       " '丧失': 464,\n",
       " '立案审查调查': 465,\n",
       " '争取': 466,\n",
       " '变成': 467,\n",
       " '施工': 468,\n",
       " '联络': 469,\n",
       " '跻身': 470,\n",
       " '增设': 471,\n",
       " '开业': 472,\n",
       " '查出': 473,\n",
       " '编纂': 474,\n",
       " '炒作': 475,\n",
       " '防疫': 476,\n",
       " '写出': 477}"
      ]
     },
     "execution_count": 40,
     "metadata": {},
     "output_type": "execute_result"
    }
   ],
   "source": [
    "predicate2id"
   ]
  },
  {
   "cell_type": "code",
   "execution_count": 30,
   "metadata": {},
   "outputs": [
    {
     "name": "stderr",
     "output_type": "stream",
     "text": [
      "/Users/luoyonggui/anaconda3/lib/python3.7/site-packages/ipykernel_launcher.py:3: SettingWithCopyWarning: \n",
      "A value is trying to be set on a copy of a slice from a DataFrame.\n",
      "Try using .loc[row_indexer,col_indexer] = value instead\n",
      "\n",
      "See the caveats in the documentation: http://pandas.pydata.org/pandas-docs/stable/user_guide/indexing.html#returning-a-view-versus-a-copy\n",
      "  This is separate from the ipykernel package so we can avoid doing imports until\n"
     ]
    }
   ],
   "source": [
    "train = train_raw\n",
    "train = train[train['trigger'].isin(lb)]\n",
    "train['label_1'] = list(map(lambda x,y,z:(str(x),str(y),str(z)),train['object'],train['trigger'],train['subject']))\n",
    "train = train.groupby('news')['label_1'].apply(list).reset_index()\n",
    "train = list(map(lambda x,y:{'text':x,'spo_list':y},train['news'],train['label_1']))\n",
    "\n",
    "train_data = train[:5000]\n",
    "valid_data = train[5000:]"
   ]
  },
  {
   "cell_type": "code",
   "execution_count": null,
   "metadata": {},
   "outputs": [],
   "source": []
  },
  {
   "cell_type": "code",
   "execution_count": null,
   "metadata": {},
   "outputs": [],
   "source": []
  },
  {
   "cell_type": "code",
   "execution_count": null,
   "metadata": {},
   "outputs": [],
   "source": []
  },
  {
   "cell_type": "code",
   "execution_count": null,
   "metadata": {},
   "outputs": [],
   "source": []
  },
  {
   "cell_type": "code",
   "execution_count": 25,
   "metadata": {},
   "outputs": [],
   "source": [
    "!cat ../../../Downloads/NER-de-dev.tsv | grep -v \"^#\" | cut -f 2,3 | tr '\\t' ' ' > dev.txt.tmp"
   ]
  },
  {
   "cell_type": "code",
   "execution_count": 22,
   "metadata": {},
   "outputs": [],
   "source": [
    "!cat ../../../Downloads/NER-de-train.tsv | grep -v \"^#\" | cut -f 2,3 | tr '\\t' ' ' > train.txt.tmp"
   ]
  },
  {
   "cell_type": "code",
   "execution_count": 23,
   "metadata": {},
   "outputs": [],
   "source": [
    "!cat ../../../Downloads/NER-de-test.tsv | grep -v \"^#\" | cut -f 2,3 | tr '\\t' ' ' > test.txt.tmp"
   ]
  },
  {
   "cell_type": "code",
   "execution_count": 24,
   "metadata": {},
   "outputs": [],
   "source": [
    "!cat ../../../Downloads/dev.txt | cut -d \" \" -f 2 | grep -v \"^$\"| sort | uniq > labels.txt"
   ]
  },
  {
   "cell_type": "code",
   "execution_count": 16,
   "metadata": {},
   "outputs": [
    {
     "name": "stdout",
     "output_type": "stream",
     "text": [
      "python3: can't open file 'scripts/preprocess.py': [Errno 2] No such file or directory\r\n"
     ]
    }
   ],
   "source": [
    "!python3 scripts/preprocess.py dev.txt.tmp $BERT_MODEL $MAX_LENGTH > dev.txt"
   ]
  },
  {
   "cell_type": "code",
   "execution_count": 19,
   "metadata": {},
   "outputs": [
    {
     "name": "stderr",
     "output_type": "stream",
     "text": [
      "I0803 16:24:24.828222 140735683666816 file_utils.py:39] PyTorch version 1.5.1 available.\n",
      "I0803 16:24:28.761773 140735683666816 file_utils.py:55] TensorFlow version 2.2.0 available.\n"
     ]
    },
    {
     "ename": "ImportError",
     "evalue": "dlopen(/Users/luoyonggui/anaconda3/lib/python3.7/site-packages/tokenizers/tokenizers.cpython-37m-darwin.so, 2): Symbol not found: ____chkstk_darwin\n  Referenced from: /Users/luoyonggui/anaconda3/lib/python3.7/site-packages/tokenizers/tokenizers.cpython-37m-darwin.so (which was built for Mac OS X 10.15)\n  Expected in: /usr/lib/libSystem.B.dylib\n in /Users/luoyonggui/anaconda3/lib/python3.7/site-packages/tokenizers/tokenizers.cpython-37m-darwin.so",
     "output_type": "error",
     "traceback": [
      "\u001b[0;31m---------------------------------------------------------------------------\u001b[0m",
      "\u001b[0;31mImportError\u001b[0m                               Traceback (most recent call last)",
      "\u001b[0;32m<ipython-input-19-f9b86708897e>\u001b[0m in \u001b[0;36m<module>\u001b[0;34m\u001b[0m\n\u001b[1;32m      1\u001b[0m \u001b[0;32mimport\u001b[0m \u001b[0msys\u001b[0m\u001b[0;34m\u001b[0m\u001b[0;34m\u001b[0m\u001b[0m\n\u001b[1;32m      2\u001b[0m \u001b[0;34m\u001b[0m\u001b[0m\n\u001b[0;32m----> 3\u001b[0;31m \u001b[0;32mfrom\u001b[0m \u001b[0mtransformers\u001b[0m \u001b[0;32mimport\u001b[0m \u001b[0mAutoTokenizer\u001b[0m\u001b[0;34m\u001b[0m\u001b[0;34m\u001b[0m\u001b[0m\n\u001b[0m\u001b[1;32m      4\u001b[0m \u001b[0;34m\u001b[0m\u001b[0m\n\u001b[1;32m      5\u001b[0m \u001b[0;34m\u001b[0m\u001b[0m\n",
      "\u001b[0;32m~/anaconda3/lib/python3.7/site-packages/transformers/__init__.py\u001b[0m in \u001b[0;36m<module>\u001b[0;34m\u001b[0m\n\u001b[1;32m     46\u001b[0m \u001b[0;32mfrom\u001b[0m \u001b[0;34m.\u001b[0m\u001b[0mconfiguration_xlm_roberta\u001b[0m \u001b[0;32mimport\u001b[0m \u001b[0mXLM_ROBERTA_PRETRAINED_CONFIG_ARCHIVE_MAP\u001b[0m\u001b[0;34m,\u001b[0m \u001b[0mXLMRobertaConfig\u001b[0m\u001b[0;34m\u001b[0m\u001b[0;34m\u001b[0m\u001b[0m\n\u001b[1;32m     47\u001b[0m \u001b[0;32mfrom\u001b[0m \u001b[0;34m.\u001b[0m\u001b[0mconfiguration_xlnet\u001b[0m \u001b[0;32mimport\u001b[0m \u001b[0mXLNET_PRETRAINED_CONFIG_ARCHIVE_MAP\u001b[0m\u001b[0;34m,\u001b[0m \u001b[0mXLNetConfig\u001b[0m\u001b[0;34m\u001b[0m\u001b[0;34m\u001b[0m\u001b[0m\n\u001b[0;32m---> 48\u001b[0;31m from .data import (\n\u001b[0m\u001b[1;32m     49\u001b[0m     \u001b[0mDataProcessor\u001b[0m\u001b[0;34m,\u001b[0m\u001b[0;34m\u001b[0m\u001b[0;34m\u001b[0m\u001b[0m\n\u001b[1;32m     50\u001b[0m     \u001b[0mInputExample\u001b[0m\u001b[0;34m,\u001b[0m\u001b[0;34m\u001b[0m\u001b[0;34m\u001b[0m\u001b[0m\n",
      "\u001b[0;32m~/anaconda3/lib/python3.7/site-packages/transformers/data/__init__.py\u001b[0m in \u001b[0;36m<module>\u001b[0;34m\u001b[0m\n\u001b[1;32m      4\u001b[0m \u001b[0;34m\u001b[0m\u001b[0m\n\u001b[1;32m      5\u001b[0m \u001b[0;32mfrom\u001b[0m \u001b[0;34m.\u001b[0m\u001b[0mmetrics\u001b[0m \u001b[0;32mimport\u001b[0m \u001b[0mis_sklearn_available\u001b[0m\u001b[0;34m\u001b[0m\u001b[0;34m\u001b[0m\u001b[0m\n\u001b[0;32m----> 6\u001b[0;31m from .processors import (\n\u001b[0m\u001b[1;32m      7\u001b[0m     \u001b[0mDataProcessor\u001b[0m\u001b[0;34m,\u001b[0m\u001b[0;34m\u001b[0m\u001b[0;34m\u001b[0m\u001b[0m\n\u001b[1;32m      8\u001b[0m     \u001b[0mInputExample\u001b[0m\u001b[0;34m,\u001b[0m\u001b[0;34m\u001b[0m\u001b[0;34m\u001b[0m\u001b[0m\n",
      "\u001b[0;32m~/anaconda3/lib/python3.7/site-packages/transformers/data/processors/__init__.py\u001b[0m in \u001b[0;36m<module>\u001b[0;34m\u001b[0m\n\u001b[1;32m      3\u001b[0m \u001b[0;31m# module, but to preserve other warnings. So, don't check this module at all.\u001b[0m\u001b[0;34m\u001b[0m\u001b[0;34m\u001b[0m\u001b[0;34m\u001b[0m\u001b[0m\n\u001b[1;32m      4\u001b[0m \u001b[0;34m\u001b[0m\u001b[0m\n\u001b[0;32m----> 5\u001b[0;31m \u001b[0;32mfrom\u001b[0m \u001b[0;34m.\u001b[0m\u001b[0mglue\u001b[0m \u001b[0;32mimport\u001b[0m \u001b[0mglue_convert_examples_to_features\u001b[0m\u001b[0;34m,\u001b[0m \u001b[0mglue_output_modes\u001b[0m\u001b[0;34m,\u001b[0m \u001b[0mglue_processors\u001b[0m\u001b[0;34m,\u001b[0m \u001b[0mglue_tasks_num_labels\u001b[0m\u001b[0;34m\u001b[0m\u001b[0;34m\u001b[0m\u001b[0m\n\u001b[0m\u001b[1;32m      6\u001b[0m \u001b[0;32mfrom\u001b[0m \u001b[0;34m.\u001b[0m\u001b[0msquad\u001b[0m \u001b[0;32mimport\u001b[0m \u001b[0mSquadExample\u001b[0m\u001b[0;34m,\u001b[0m \u001b[0mSquadFeatures\u001b[0m\u001b[0;34m,\u001b[0m \u001b[0mSquadV1Processor\u001b[0m\u001b[0;34m,\u001b[0m \u001b[0mSquadV2Processor\u001b[0m\u001b[0;34m,\u001b[0m \u001b[0msquad_convert_examples_to_features\u001b[0m\u001b[0;34m\u001b[0m\u001b[0;34m\u001b[0m\u001b[0m\n\u001b[1;32m      7\u001b[0m \u001b[0;32mfrom\u001b[0m \u001b[0;34m.\u001b[0m\u001b[0mutils\u001b[0m \u001b[0;32mimport\u001b[0m \u001b[0mDataProcessor\u001b[0m\u001b[0;34m,\u001b[0m \u001b[0mInputExample\u001b[0m\u001b[0;34m,\u001b[0m \u001b[0mInputFeatures\u001b[0m\u001b[0;34m,\u001b[0m \u001b[0mSingleSentenceClassificationProcessor\u001b[0m\u001b[0;34m\u001b[0m\u001b[0;34m\u001b[0m\u001b[0m\n",
      "\u001b[0;32m~/anaconda3/lib/python3.7/site-packages/transformers/data/processors/glue.py\u001b[0m in \u001b[0;36m<module>\u001b[0;34m\u001b[0m\n\u001b[1;32m     23\u001b[0m \u001b[0;34m\u001b[0m\u001b[0m\n\u001b[1;32m     24\u001b[0m \u001b[0;32mfrom\u001b[0m \u001b[0;34m...\u001b[0m\u001b[0mfile_utils\u001b[0m \u001b[0;32mimport\u001b[0m \u001b[0mis_tf_available\u001b[0m\u001b[0;34m\u001b[0m\u001b[0;34m\u001b[0m\u001b[0m\n\u001b[0;32m---> 25\u001b[0;31m \u001b[0;32mfrom\u001b[0m \u001b[0;34m...\u001b[0m\u001b[0mtokenization_utils\u001b[0m \u001b[0;32mimport\u001b[0m \u001b[0mPreTrainedTokenizer\u001b[0m\u001b[0;34m\u001b[0m\u001b[0;34m\u001b[0m\u001b[0m\n\u001b[0m\u001b[1;32m     26\u001b[0m \u001b[0;32mfrom\u001b[0m \u001b[0;34m.\u001b[0m\u001b[0mutils\u001b[0m \u001b[0;32mimport\u001b[0m \u001b[0mDataProcessor\u001b[0m\u001b[0;34m,\u001b[0m \u001b[0mInputExample\u001b[0m\u001b[0;34m,\u001b[0m \u001b[0mInputFeatures\u001b[0m\u001b[0;34m\u001b[0m\u001b[0;34m\u001b[0m\u001b[0m\n\u001b[1;32m     27\u001b[0m \u001b[0;34m\u001b[0m\u001b[0m\n",
      "\u001b[0;32m~/anaconda3/lib/python3.7/site-packages/transformers/tokenization_utils.py\u001b[0m in \u001b[0;36m<module>\u001b[0;34m\u001b[0m\n\u001b[1;32m     24\u001b[0m \u001b[0;34m\u001b[0m\u001b[0m\n\u001b[1;32m     25\u001b[0m \u001b[0;32mfrom\u001b[0m \u001b[0;34m.\u001b[0m\u001b[0mfile_utils\u001b[0m \u001b[0;32mimport\u001b[0m \u001b[0madd_end_docstrings\u001b[0m\u001b[0;34m\u001b[0m\u001b[0;34m\u001b[0m\u001b[0m\n\u001b[0;32m---> 26\u001b[0;31m from .tokenization_utils_base import (\n\u001b[0m\u001b[1;32m     27\u001b[0m     \u001b[0mENCODE_KWARGS_DOCSTRING\u001b[0m\u001b[0;34m,\u001b[0m\u001b[0;34m\u001b[0m\u001b[0;34m\u001b[0m\u001b[0m\n\u001b[1;32m     28\u001b[0m     \u001b[0mENCODE_PLUS_ADDITIONAL_KWARGS_DOCSTRING\u001b[0m\u001b[0;34m,\u001b[0m\u001b[0;34m\u001b[0m\u001b[0;34m\u001b[0m\u001b[0m\n",
      "\u001b[0;32m~/anaconda3/lib/python3.7/site-packages/transformers/tokenization_utils_base.py\u001b[0m in \u001b[0;36m<module>\u001b[0;34m\u001b[0m\n\u001b[1;32m     29\u001b[0m \u001b[0;34m\u001b[0m\u001b[0m\n\u001b[1;32m     30\u001b[0m \u001b[0;32mimport\u001b[0m \u001b[0mnumpy\u001b[0m \u001b[0;32mas\u001b[0m \u001b[0mnp\u001b[0m\u001b[0;34m\u001b[0m\u001b[0;34m\u001b[0m\u001b[0m\n\u001b[0;32m---> 31\u001b[0;31m \u001b[0;32mfrom\u001b[0m \u001b[0mtokenizers\u001b[0m \u001b[0;32mimport\u001b[0m \u001b[0mAddedToken\u001b[0m\u001b[0;34m\u001b[0m\u001b[0;34m\u001b[0m\u001b[0m\n\u001b[0m\u001b[1;32m     32\u001b[0m \u001b[0;32mfrom\u001b[0m \u001b[0mtokenizers\u001b[0m \u001b[0;32mimport\u001b[0m \u001b[0mEncoding\u001b[0m \u001b[0;32mas\u001b[0m \u001b[0mEncodingFast\u001b[0m\u001b[0;34m\u001b[0m\u001b[0;34m\u001b[0m\u001b[0m\n\u001b[1;32m     33\u001b[0m \u001b[0;34m\u001b[0m\u001b[0m\n",
      "\u001b[0;32m~/anaconda3/lib/python3.7/site-packages/tokenizers/__init__.py\u001b[0m in \u001b[0;36m<module>\u001b[0;34m\u001b[0m\n\u001b[1;32m     15\u001b[0m \u001b[0mEncodeInput\u001b[0m \u001b[0;34m=\u001b[0m \u001b[0mUnion\u001b[0m\u001b[0;34m[\u001b[0m\u001b[0mTextEncodeInput\u001b[0m\u001b[0;34m,\u001b[0m \u001b[0mPreTokenizedEncodeInput\u001b[0m\u001b[0;34m]\u001b[0m\u001b[0;34m\u001b[0m\u001b[0;34m\u001b[0m\u001b[0m\n\u001b[1;32m     16\u001b[0m \u001b[0;34m\u001b[0m\u001b[0m\n\u001b[0;32m---> 17\u001b[0;31m \u001b[0;32mfrom\u001b[0m \u001b[0;34m.\u001b[0m\u001b[0mtokenizers\u001b[0m \u001b[0;32mimport\u001b[0m \u001b[0mTokenizer\u001b[0m\u001b[0;34m,\u001b[0m \u001b[0mEncoding\u001b[0m\u001b[0;34m,\u001b[0m \u001b[0mAddedToken\u001b[0m\u001b[0;34m\u001b[0m\u001b[0;34m\u001b[0m\u001b[0m\n\u001b[0m\u001b[1;32m     18\u001b[0m \u001b[0;32mfrom\u001b[0m \u001b[0;34m.\u001b[0m\u001b[0mtokenizers\u001b[0m \u001b[0;32mimport\u001b[0m \u001b[0mdecoders\u001b[0m\u001b[0;34m\u001b[0m\u001b[0;34m\u001b[0m\u001b[0m\n\u001b[1;32m     19\u001b[0m \u001b[0;32mfrom\u001b[0m \u001b[0;34m.\u001b[0m\u001b[0mtokenizers\u001b[0m \u001b[0;32mimport\u001b[0m \u001b[0mmodels\u001b[0m\u001b[0;34m\u001b[0m\u001b[0;34m\u001b[0m\u001b[0m\n",
      "\u001b[0;31mImportError\u001b[0m: dlopen(/Users/luoyonggui/anaconda3/lib/python3.7/site-packages/tokenizers/tokenizers.cpython-37m-darwin.so, 2): Symbol not found: ____chkstk_darwin\n  Referenced from: /Users/luoyonggui/anaconda3/lib/python3.7/site-packages/tokenizers/tokenizers.cpython-37m-darwin.so (which was built for Mac OS X 10.15)\n  Expected in: /usr/lib/libSystem.B.dylib\n in /Users/luoyonggui/anaconda3/lib/python3.7/site-packages/tokenizers/tokenizers.cpython-37m-darwin.so"
     ]
    }
   ],
   "source": [
    "import sys\n",
    "\n",
    "from transformers import AutoTokenizer\n",
    "\n",
    "\n",
    "dataset = 'dev.txt.tmp'\n",
    "model_name_or_path = 'bert-base-multilingual-cased'\n",
    "max_len = 128\n",
    "\n",
    "subword_len_counter = 0\n",
    "\n",
    "tokenizer = AutoTokenizer.from_pretrained(model_name_or_path)\n",
    "max_len -= tokenizer.num_special_tokens_to_add()\n",
    "lines = []\n",
    "with open(dataset, \"rt\") as f_p:\n",
    "    for line in f_p:\n",
    "        line = line.rstrip()\n",
    "\n",
    "        if not line:\n",
    "            print(line)\n",
    "            subword_len_counter = 0\n",
    "            continue\n",
    "\n",
    "        token = line.split()[0]\n",
    "\n",
    "        current_subwords_len = len(tokenizer.tokenize(token))\n",
    "\n",
    "        # Token contains strange control characters like \\x96 or \\x95\n",
    "        # Just filter out the complete line\n",
    "        if current_subwords_len == 0:\n",
    "            continue\n",
    "\n",
    "        if (subword_len_counter + current_subwords_len) > max_len:\n",
    "            print(\"\")\n",
    "            print(line)\n",
    "            subword_len_counter = current_subwords_len\n",
    "            continue\n",
    "\n",
    "        subword_len_counter += current_subwords_len\n",
    "\n",
    "#         print(line)\n",
    "        lines.append(line)"
   ]
  },
  {
   "cell_type": "code",
   "execution_count": null,
   "metadata": {},
   "outputs": [],
   "source": []
  }
 ],
 "metadata": {
  "kernelspec": {
   "display_name": "Python 3",
   "language": "python",
   "name": "python3"
  },
  "language_info": {
   "codemirror_mode": {
    "name": "ipython",
    "version": 3
   },
   "file_extension": ".py",
   "mimetype": "text/x-python",
   "name": "python",
   "nbconvert_exporter": "python",
   "pygments_lexer": "ipython3",
   "version": "3.7.3"
  },
  "toc": {
   "base_numbering": 1,
   "nav_menu": {},
   "number_sections": true,
   "sideBar": true,
   "skip_h1_title": false,
   "title_cell": "Table of Contents",
   "title_sidebar": "Contents",
   "toc_cell": false,
   "toc_position": {
    "height": "calc(100% - 180px)",
    "left": "10px",
    "top": "150px",
    "width": "248.6px"
   },
   "toc_section_display": true,
   "toc_window_display": true
  },
  "varInspector": {
   "cols": {
    "lenName": 16,
    "lenType": 16,
    "lenVar": 40
   },
   "kernels_config": {
    "python": {
     "delete_cmd_postfix": "",
     "delete_cmd_prefix": "del ",
     "library": "var_list.py",
     "varRefreshCmd": "print(var_dic_list())"
    },
    "r": {
     "delete_cmd_postfix": ") ",
     "delete_cmd_prefix": "rm(",
     "library": "var_list.r",
     "varRefreshCmd": "cat(var_dic_list()) "
    }
   },
   "types_to_exclude": [
    "module",
    "function",
    "builtin_function_or_method",
    "instance",
    "_Feature"
   ],
   "window_display": false
  }
 },
 "nbformat": 4,
 "nbformat_minor": 2
}
