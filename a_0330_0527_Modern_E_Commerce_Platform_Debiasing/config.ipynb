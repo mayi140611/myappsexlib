{
 "cells": [
  {
   "cell_type": "code",
   "execution_count": null,
   "metadata": {},
   "outputs": [],
   "source": [
    "# default_exp config"
   ]
  },
  {
   "cell_type": "code",
   "execution_count": 1,
   "metadata": {},
   "outputs": [],
   "source": [
    "# export\n",
    "\n",
    "import argparse\n",
    "\n",
    "parser = argparse.ArgumentParser(description='t')\n",
    "parser.add_argument('--now_phase', type=int, default=6, help='')\n",
    "parser.add_argument('--window', type=int, default=10, help='cocur_matr的时间窗')\n",
    "parser.add_argument('--time_decay', type=float, default=7/8, help='时间衰减')\n",
    "parser.add_argument('--submit_fp', type=str, default='/Users/luoyonggui/Downloads/baseline1_itemcf4.csv', help='提交文件生成位置')\n",
    "parser.add_argument('--mode', type=str, default='train', help='train test')\n",
    "parser.add_argument('--topk', type=int, default=500, help='每种召回策略召回的样本数')\n",
    "parser.add_argument('--DATA_DIR', type=str, default='../../data/contest/kdd_debiasing', help='data dir')\n",
    "\n",
    "args = parser.parse_args(args=[])"
   ]
  },
  {
   "cell_type": "code",
   "execution_count": 4,
   "metadata": {},
   "outputs": [
    {
     "name": "stdout",
     "output_type": "stream",
     "text": [
      "Converted config.ipynb.\n",
      "Converted 0EDA.ipynb.\n",
      "Converted rank.ipynb.\n"
     ]
    }
   ],
   "source": [
    "from nbdev.export import *\n",
    "notebook2script('config.ipynb')\n",
    "notebook2script('0EDA.ipynb')\n",
    "notebook2script('rank.ipynb')"
   ]
  },
  {
   "cell_type": "code",
   "execution_count": null,
   "metadata": {},
   "outputs": [],
   "source": []
  }
 ],
 "metadata": {
  "kernelspec": {
   "display_name": "Python 3",
   "language": "python",
   "name": "python3"
  },
  "language_info": {
   "codemirror_mode": {
    "name": "ipython",
    "version": 3
   },
   "file_extension": ".py",
   "mimetype": "text/x-python",
   "name": "python",
   "nbconvert_exporter": "python",
   "pygments_lexer": "ipython3",
   "version": "3.7.3"
  },
  "toc": {
   "base_numbering": 1,
   "nav_menu": {},
   "number_sections": true,
   "sideBar": true,
   "skip_h1_title": false,
   "title_cell": "Table of Contents",
   "title_sidebar": "Contents",
   "toc_cell": false,
   "toc_position": {},
   "toc_section_display": true,
   "toc_window_display": false
  }
 },
 "nbformat": 4,
 "nbformat_minor": 2
}
