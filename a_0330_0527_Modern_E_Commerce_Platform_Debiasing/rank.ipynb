{
 "cells": [
  {
   "cell_type": "code",
   "execution_count": 1,
   "metadata": {},
   "outputs": [],
   "source": [
    "# default_exp rank"
   ]
  },
  {
   "cell_type": "code",
   "execution_count": 1,
   "metadata": {},
   "outputs": [],
   "source": [
    "%reload_ext autoreload\n",
    "%autoreload 2\n",
    "\n",
    "%matplotlib inline"
   ]
  },
  {
   "cell_type": "code",
   "execution_count": 2,
   "metadata": {},
   "outputs": [],
   "source": [
    "# export\n",
    "import os\n",
    "import sys\n",
    "sys.path.append('../mylib/')\n",
    "from algo.rs.matrix import *\n",
    "from code.val import main as val\n",
    "from code.eda import * \n",
    "from code.config import args\n",
    "import pandas as pd  \n",
    "import numpy as np\n",
    "from tqdm import tqdm  \n",
    "from collections import defaultdict  \n",
    "import math  \n",
    "from sklearn.metrics.pairwise import cosine_similarity\n",
    "from loguru import logger\n",
    "from utils.pickle import PickleWrapper"
   ]
  },
  {
   "cell_type": "code",
   "execution_count": 3,
   "metadata": {},
   "outputs": [],
   "source": [
    "# export\n",
    "trace = logger.add(os.path.join(args.DATA_DIR, 'data_gen/runtime.log'))  "
   ]
  },
  {
   "cell_type": "markdown",
   "metadata": {},
   "source": [
    "# val"
   ]
  },
  {
   "cell_type": "code",
   "execution_count": 4,
   "metadata": {},
   "outputs": [],
   "source": [
    "# export\n",
    "def val1(df, topk, click_val):\n",
    "    \"\"\"\n",
    "    \"\"\"\n",
    "    sr = df.groupby('user_id')['item_id_pred'].agg(list)\n",
    "    r_list = []\n",
    "    pred_num = click_val.shape[0]\n",
    "    for line in click_val.itertuples():\n",
    "        try:\n",
    "#             t = [i[0] for i in sr[line.user_id]]\n",
    "            df.loc[df.user_id==line.user_id, 'item_id_true'] = line.item_id\n",
    "            t = sr[line.user_id]\n",
    "#             print(t)\n",
    "            i = t.index(line.item_id)\n",
    "        except:\n",
    "            i = 99999\n",
    "\n",
    "        r_list.append(i)\n",
    "    r_series = pd.Series(r_list)\n",
    "    for i in range(50, topk+1, 50):\n",
    "        logger.info(f'recall{i}:{r_series[r_series<i].shape[0]/pred_num}')\n",
    "        \n",
    "#     r_series[r_series<9999].plot(kind='box', title='pp', rot=45)\n",
    "    return df"
   ]
  },
  {
   "cell_type": "markdown",
   "metadata": {},
   "source": [
    "# load click data"
   ]
  },
  {
   "cell_type": "code",
   "execution_count": 5,
   "metadata": {},
   "outputs": [
    {
     "name": "stderr",
     "output_type": "stream",
     "text": [
      "2020-05-28 15:43:02.196 | INFO     | code.eda:load_click_data_per_phase:97 - phase: 0\n",
      "2020-05-28 15:43:02.969 | INFO     | code.eda:load_click_data_per_phase:108 - all_click: (261337, 3), click_test1_val: (1663, 3), test_qtime1: (1663, 2)\n",
      "2020-05-28 15:43:02.970 | INFO     | code.eda:load_click_data_per_phase:97 - phase: 1\n",
      "2020-05-28 15:43:03.776 | INFO     | code.eda:load_click_data_per_phase:108 - all_click: (264871, 3), click_test1_val: (1726, 3), test_qtime1: (1726, 2)\n",
      "2020-05-28 15:43:03.777 | INFO     | code.eda:load_click_data_per_phase:97 - phase: 2\n",
      "2020-05-28 15:43:04.632 | INFO     | code.eda:load_click_data_per_phase:108 - all_click: (264624, 3), click_test1_val: (1690, 3), test_qtime1: (1690, 2)\n",
      "2020-05-28 15:43:04.634 | INFO     | code.eda:load_click_data_per_phase:97 - phase: 3\n",
      "2020-05-28 15:43:05.532 | INFO     | code.eda:load_click_data_per_phase:108 - all_click: (286609, 3), click_test1_val: (1675, 3), test_qtime1: (1675, 2)\n",
      "2020-05-28 15:43:05.533 | INFO     | code.eda:load_click_data_per_phase:97 - phase: 4\n",
      "2020-05-28 15:43:06.425 | INFO     | code.eda:load_click_data_per_phase:108 - all_click: (291672, 3), click_test1_val: (1708, 3), test_qtime1: (1708, 2)\n",
      "2020-05-28 15:43:06.426 | INFO     | code.eda:load_click_data_per_phase:97 - phase: 5\n",
      "2020-05-28 15:43:07.379 | INFO     | code.eda:load_click_data_per_phase:108 - all_click: (313378, 3), click_test1_val: (1798, 3), test_qtime1: (1798, 2)\n",
      "2020-05-28 15:43:07.380 | INFO     | code.eda:load_click_data_per_phase:97 - phase: 6\n",
      "2020-05-28 15:43:08.543 | INFO     | code.eda:load_click_data_per_phase:108 - all_click: (337339, 3), click_test1_val: (1821, 3), test_qtime1: (1821, 2)\n"
     ]
    }
   ],
   "source": [
    "# export\n",
    "all_click_df = load_click_data_per_phase(args.now_phase, args.DATA_DIR)"
   ]
  },
  {
   "cell_type": "code",
   "execution_count": 6,
   "metadata": {},
   "outputs": [
    {
     "name": "stderr",
     "output_type": "stream",
     "text": [
      "/Users/luoyonggui/PycharmProjects/myappsexlib/a_0330_0527_Modern_E_Commerce_Platform_Debiasing/code/eda.py:32: ParserWarning: Falling back to the 'python' engine because the 'c' engine does not support regex separators (separators > 1 char and different from '\\s+' are interpreted as regex); you can avoid this warning by specifying engine='python'.\n",
      "  converters={'item_id':str})\n"
     ]
    }
   ],
   "source": [
    "# export\n",
    "item_feat = get_item_data()"
   ]
  },
  {
   "cell_type": "code",
   "execution_count": 208,
   "metadata": {},
   "outputs": [
    {
     "data": {
      "text/plain": [
       "(108916, 128)"
      ]
     },
     "execution_count": 208,
     "metadata": {},
     "output_type": "execute_result"
    }
   ],
   "source": [
    "item_feat.iloc[:, 1:129].shape"
   ]
  },
  {
   "cell_type": "code",
   "execution_count": 209,
   "metadata": {},
   "outputs": [
    {
     "data": {
      "text/plain": [
       "(108916, 128)"
      ]
     },
     "execution_count": 209,
     "metadata": {},
     "output_type": "execute_result"
    }
   ],
   "source": [
    "item_feat.iloc[:, 129:257].shape"
   ]
  },
  {
   "cell_type": "code",
   "execution_count": 7,
   "metadata": {},
   "outputs": [],
   "source": [
    "# export\n",
    "item_feat['text_vec'] = item_feat.iloc[:, 1:129].values.tolist()\n",
    "item_feat['img_vec'] = item_feat.iloc[:, 129:257].values.tolist()\n",
    "\n",
    "item_feat['text_vec'] = item_feat['text_vec'].map(np.array)\n",
    "\n",
    "item_feat['img_vec'] = item_feat['img_vec'].map(np.array)\n",
    "\n",
    "item_feat.set_index('item_id', inplace=True)"
   ]
  },
  {
   "cell_type": "code",
   "execution_count": 8,
   "metadata": {},
   "outputs": [],
   "source": [
    "# export\n",
    "phase = [0, 1, 2, 3, 5, 6]\n",
    "# match_num = 200\n",
    "match_num = 500"
   ]
  },
  {
   "cell_type": "code",
   "execution_count": 185,
   "metadata": {},
   "outputs": [
    {
     "data": {
      "text/plain": [
       "item_id\n",
       "1          4\n",
       "1000      13\n",
       "100000     8\n",
       "10001      5\n",
       "100013     5\n",
       "          ..\n",
       "99990      6\n",
       "99991      3\n",
       "99993      5\n",
       "99994      5\n",
       "99998      5\n",
       "Name: user_id, Length: 40775, dtype: int64"
      ]
     },
     "execution_count": 185,
     "metadata": {},
     "output_type": "execute_result"
    }
   ],
   "source": [
    "# 计算每个phase的item_id user_cnt  # 貌似每个phase的item只会被user唯一点击一次，那就没必要统计了。。。\n",
    "def t(s):\n",
    "    return s.nunique()\n",
    "all_click_df[0][0].groupby('item_id')['user_id'].agg(t)"
   ]
  },
  {
   "cell_type": "code",
   "execution_count": 177,
   "metadata": {},
   "outputs": [],
   "source": [
    "# temp_ = all_click_df[0][0].groupby('user_id')['item_id'].agg(list)\n",
    "temp_ = all_click_df[0][0].groupby('item_id')['user_id'].agg(list)"
   ]
  },
  {
   "cell_type": "code",
   "execution_count": 179,
   "metadata": {},
   "outputs": [
    {
     "data": {
      "text/plain": [
       "item_id\n",
       "1                               [1489, 10088, 13420, 19312]\n",
       "1000      [14546, 9531, 32114, 6934, 20558, 30360, 33492...\n",
       "100000    [20800, 17064, 33901, 5699, 8541, 1940, 20705,...\n",
       "10001                      [6572, 17178, 25162, 6383, 8264]\n",
       "100013                    [18924, 32480, 7696, 6319, 32706]\n",
       "                                ...                        \n",
       "99990              [30399, 8084, 2969, 21225, 32152, 34183]\n",
       "99991                                  [9430, 32852, 31855]\n",
       "99993                   [23622, 22023, 12546, 31661, 21784]\n",
       "99994                     [9287, 6305, 28964, 17648, 22420]\n",
       "99998                    [24217, 9796, 20948, 25551, 16599]\n",
       "Name: user_id, Length: 40775, dtype: object"
      ]
     },
     "execution_count": 179,
     "metadata": {},
     "output_type": "execute_result"
    }
   ],
   "source": [
    "temp_"
   ]
  },
  {
   "cell_type": "code",
   "execution_count": 178,
   "metadata": {},
   "outputs": [
    {
     "data": {
      "text/plain": [
       "count    40775.000000\n",
       "mean         6.409246\n",
       "std          6.358793\n",
       "min          1.000000\n",
       "25%          4.000000\n",
       "50%          5.000000\n",
       "75%          7.000000\n",
       "max        234.000000\n",
       "Name: user_id, dtype: float64"
      ]
     },
     "execution_count": 178,
     "metadata": {},
     "output_type": "execute_result"
    }
   ],
   "source": [
    "temp_.str.len().describe()"
   ]
  },
  {
   "cell_type": "code",
   "execution_count": null,
   "metadata": {},
   "outputs": [],
   "source": [
    "for p in phase:\n",
    "    # 获取test用户的近n次点击\n",
    "    temp_ = all_click_df[0][0].groupby('user_id')['item_id'].agg(list)\n",
    "    temp_ = pd.DataFrame(temp_)\n",
    "    for i in range(5):\n",
    "        temp_[f'last_{i+1}'] = temp_.item_id.str.get(-(i+1))\n",
    "        \n",
    "    # 计算每个phase的item_id cnt\n",
    "    all_click_df[0][0].groupby('item_id')['user_id'].count()"
   ]
  },
  {
   "cell_type": "code",
   "execution_count": 164,
   "metadata": {},
   "outputs": [
    {
     "name": "stderr",
     "output_type": "stream",
     "text": [
      "2020-05-28 05:06:06.627 | INFO     | code.eda:load_whole_click_data:54 - phase: 0\n",
      "2020-05-28 05:06:06.989 | INFO     | code.eda:load_whole_click_data:54 - phase: 1\n",
      "2020-05-28 05:06:07.275 | INFO     | code.eda:load_whole_click_data:54 - phase: 2\n",
      "2020-05-28 05:06:07.585 | INFO     | code.eda:load_whole_click_data:54 - phase: 3\n",
      "2020-05-28 05:06:07.939 | INFO     | code.eda:load_whole_click_data:54 - phase: 4\n",
      "2020-05-28 05:06:08.331 | INFO     | code.eda:load_whole_click_data:54 - phase: 5\n",
      "2020-05-28 05:06:08.812 | INFO     | code.eda:load_whole_click_data:54 - phase: 6\n",
      "2020-05-28 05:06:16.617 | INFO     | code.eda:load_whole_click_data:84 - whole_click_train: (954588, 4), whole_click_val: (12081, 4), click_test: (175274, 4), test_qtime: (12081, 3)\n"
     ]
    }
   ],
   "source": [
    "whole_click_train, whole_click_val, click_test, test_qtime = load_whole_click_data(args.now_phase, args.DATA_DIR)"
   ]
  },
  {
   "cell_type": "code",
   "execution_count": 165,
   "metadata": {},
   "outputs": [],
   "source": [
    "click_test_val = click_test.sort_values('time').drop_duplicates('user_id', keep='last')"
   ]
  },
  {
   "cell_type": "code",
   "execution_count": 166,
   "metadata": {},
   "outputs": [],
   "source": [
    "click_test = click_test[~click_test.index.isin(click_test_val.index)].sort_values('time')"
   ]
  },
  {
   "cell_type": "code",
   "execution_count": 167,
   "metadata": {},
   "outputs": [
    {
     "data": {
      "text/plain": [
       "(109018, 4)"
      ]
     },
     "execution_count": 167,
     "metadata": {},
     "output_type": "execute_result"
    }
   ],
   "source": [
    "click_test.shape"
   ]
  },
  {
   "cell_type": "code",
   "execution_count": 168,
   "metadata": {},
   "outputs": [
    {
     "data": {
      "text/plain": [
       "11724"
      ]
     },
     "execution_count": 168,
     "metadata": {},
     "output_type": "execute_result"
    }
   ],
   "source": [
    "click_test.user_id.nunique()"
   ]
  },
  {
   "cell_type": "code",
   "execution_count": 169,
   "metadata": {},
   "outputs": [
    {
     "data": {
      "text/plain": [
       "12081"
      ]
     },
     "execution_count": 169,
     "metadata": {},
     "output_type": "execute_result"
    }
   ],
   "source": [
    "click_test_val.user_id.nunique()"
   ]
  },
  {
   "cell_type": "markdown",
   "metadata": {},
   "source": [
    "# load match result"
   ]
  },
  {
   "cell_type": "code",
   "execution_count": 76,
   "metadata": {},
   "outputs": [],
   "source": [
    "# export\n",
    "def load_match_items():\n",
    "    r_itemcf = PickleWrapper.loadFromFile(os.path.join(args.DATA_DIR, 'data_gen/r_list_itemcf_0527.pkl'))\n",
    "\n",
    "    r_binn = PickleWrapper.loadFromFile(os.path.join(args.DATA_DIR, 'data_gen/r_list_binn_0527.pkl'))\n",
    "\n",
    "    r_itemcf_yl = PickleWrapper.loadFromFile(os.path.join(args.DATA_DIR, 'data_gen/r_list_itemcf_yulao_0527.pkl'))\n",
    "\n",
    "    r_itemcf_yl = [r_itemcf_yl[0], r_itemcf_yl[1],r_itemcf_yl[2],r_itemcf_yl[3],r_itemcf_yl[5],r_itemcf_yl[6]]\n",
    "    return r_itemcf, r_binn, r_itemcf_yl"
   ]
  },
  {
   "cell_type": "code",
   "execution_count": null,
   "metadata": {},
   "outputs": [],
   "source": [
    "r_itemcf, r_binn, r_itemcf_yl = load_match_items()"
   ]
  },
  {
   "cell_type": "code",
   "execution_count": 1,
   "metadata": {},
   "outputs": [],
   "source": [
    "# export\n",
    "\n",
    "def data_preporcess(recall_list, match_num, phase):\n",
    "    \n",
    "    itemcf, r_binn, r_itemcf_yl = recall_list\n",
    "    df1 = pd.DataFrame()\n",
    "    df2 = pd.DataFrame()\n",
    "    df3 = pd.DataFrame()\n",
    "    for i in range(len(phase)):\n",
    "        r_itemcf[i]['phase'] = phase[i]\n",
    "        r_binn[i]['phase'] = phase[i]\n",
    "        r_itemcf_yl[i]['phase'] = phase[i]\n",
    "        df1 = df1.append(r_itemcf[i])\n",
    "        df2 = df2.append(r_binn[i])\n",
    "        df3 = df3.append(r_itemcf_yl[i])\n",
    "\n",
    "    df1_ = df1[df1['rank']<(match_num+1)]\n",
    "    df2_ = df2[df2['rank']<(match_num+1)]\n",
    "    df3_ = df3[df3['rank']<(match_num+1)]\n",
    "\n",
    "    print('merge Multi-channel recall...')\n",
    "    df = pd.merge(pd.merge(df1_, df2_, on='user_id item_id_pred item_id_true phase'.split(), how='outer'), \n",
    "                  df3_, on='user_id item_id_pred item_id_true phase'.split(), how='outer')\n",
    "\n",
    "    df = df.fillna(0)\n",
    "\n",
    "    df['label'] = (df['item_id_pred'] == df['item_id_true']).map(int)\n",
    "\n",
    "\n",
    "    dft = pd.DataFrame()\n",
    "    for p in tqdm(phase):\n",
    "        # 获取test用户的近n次点击\n",
    "        temp_ = all_click_df[p][0][all_click_df[p][0].user_id.isin(all_click_df[p][1].user_id)].groupby('user_id')['item_id'].agg(list)\n",
    "        temp_ = pd.DataFrame(temp_)\n",
    "        for i in range(0, 5):\n",
    "            temp_[f'last_{i+1}'] = temp_.item_id.str.get(-(i+1))\n",
    "        dft = dft.append(temp_.reset_index())\n",
    "        # 计算每个phase的item_id cnt\n",
    "        t_ = all_click_df[p][0].groupby('item_id')['user_id'].count()\n",
    "        df.loc[df.phase==p, 'item_cnt'] = df.item_id_pred.map(lambda x: t_[x] if x in t_ else 0)\n",
    "\n",
    "    df = pd.merge(df, dft.drop(columns='item_id'))\n",
    "\n",
    "    df['item_id_pred_text_vec'] = df.item_id_pred.map(lambda x: item_feat['text_vec'][x] if x in item_feat['text_vec'] else np.zeros(128))\n",
    "\n",
    "    df['item_id_pred_img_vec'] = df.item_id_pred.map(lambda x: item_feat['img_vec'][x] if x in item_feat['img_vec'] else np.arange(128))\n",
    "\n",
    "    for c in tqdm('last_1 last_2 last_3 last_4 last_5'.split()):\n",
    "        df[f'{c}_text_vec'] = df.item_id_pred.map(lambda x: item_feat['text_vec'][x] if x in item_feat['text_vec'] else np.zeros(128))\n",
    "\n",
    "        df[f'{c}_img_vec'] = df.item_id_pred.map(lambda x: item_feat['img_vec'][x] if x in item_feat['img_vec'] else np.arange(128))\n",
    "\n",
    "\n",
    "    # 太大了，不建议存储    \n",
    "    # df.to_pickle(os.path.join(args.DATA_DIR, f'data_gen/dft{match_num}.pkl'))\n",
    "\n",
    "    # df = pd.read_pickle(os.path.join(args.DATA_DIR, f'data_gen/dft{match_num}.pkl'))\n",
    "    return df"
   ]
  },
  {
   "cell_type": "markdown",
   "metadata": {},
   "source": [
    "# FE"
   ]
  },
  {
   "cell_type": "code",
   "execution_count": 2,
   "metadata": {},
   "outputs": [],
   "source": [
    "def fe(df):\n",
    "    for i in 'rank score'.split():\n",
    "        df[f'{i}1_sub_{i}2'] = df[f'{i}_x']-df[f'{i}_y']\n",
    "        df[f'{i}1_add_{i}2'] = df[f'{i}_x']+df[f'{i}_y']\n",
    "        df[f'{i}1_mul_{i}2'] = df[f'{i}_x']*df[f'{i}_y']\n",
    "\n",
    "        df[f'{i}1_sub_{i}3'] = df[f'{i}_x']-df[f'{i}']\n",
    "        df[f'{i}1_add_{i}3'] = df[f'{i}_x']+df[f'{i}']\n",
    "        df[f'{i}1_mul_{i}3'] = df[f'{i}_x']*df[f'{i}']\n",
    "\n",
    "        df[f'{i}2_sub_{i}3'] = df[f'{i}_y']-df[f'{i}']\n",
    "        df[f'{i}2_add_{i}3'] = df[f'{i}_y']+df[f'{i}']\n",
    "        df[f'{i}2_mul_{i}3'] = df[f'{i}_y']*df[f'{i}']\n",
    "\n",
    "    df['sim1_text'] = (df['item_id_pred_text_vec'] * df['last_1_text_vec']).map(sum)\n",
    "\n",
    "    df['sim1_img'] = (df['item_id_pred_img_vec'] * df['last_1_img_vec']).map(sum)\n",
    "\n",
    "    df['sim2_text'] = (df['item_id_pred_text_vec'] * df['last_2_text_vec']).map(sum)\n",
    "    df['sim2_img'] = (df['item_id_pred_img_vec'] * df['last_2_img_vec']).map(sum)\n",
    "\n",
    "    df['sim3_text'] = (df['item_id_pred_text_vec'] * df['last_3_text_vec']).map(sum)\n",
    "    df['sim3_img'] = (df['item_id_pred_img_vec'] * df['last_3_img_vec']).map(sum)\n",
    "\n",
    "    df['sim4_text'] = (df['item_id_pred_text_vec'] * df['last_4_text_vec']).map(sum)\n",
    "    df['sim4_img'] = (df['item_id_pred_img_vec'] * df['last_4_img_vec']).map(sum)\n",
    "\n",
    "    df['sim5_text'] = (df['item_id_pred_text_vec'] * df['last_5_text_vec']).map(sum)\n",
    "    df['sim5_img'] = (df['item_id_pred_img_vec'] * df['last_5_img_vec']).map(sum)\n",
    "    \n",
    "    \n",
    "\n",
    "    df['sim1_text_img'] = df['sim1_text'] *  df['sim1_img']\n",
    "    df['sim2_text_img'] = df['sim2_text'] *  df['sim2_img']\n",
    "    df['sim3_text_img'] = df['sim3_text'] *  df['sim3_img']\n",
    "    df['sim4_text_img'] = df['sim4_text'] *  df['sim4_img']\n",
    "    df['sim5_text_img'] = df['sim5_text'] *  df['sim5_img']\n",
    "\n",
    "    df['sim12_text'] = df['sim1_text'] + df['sim2_text']\n",
    "    df['sim123_text'] = df['sim1_text'] + df['sim2_text'] + df['sim3_text']\n",
    "    df['sim1234_text'] = df['sim1_text'] + df['sim2_text'] + df['sim3_text'] + df['sim4_text']\n",
    "    df['sim12345_text'] = df['sim1_text'] + df['sim2_text'] + df['sim3_text'] + df['sim4_text'] + df['sim5_text']\n",
    "\n",
    "    df['sim12_img'] = df['sim1_img'] + df['sim2_img']\n",
    "    df['sim123_img'] = df['sim1_img'] + df['sim2_img'] + df['sim3_img']\n",
    "    df['sim1234_img'] = df['sim1_img'] + df['sim2_img'] + df['sim3_img'] + df['sim4_img']\n",
    "    df['sim12345_img'] = df['sim1_img'] + df['sim2_img'] + df['sim3_img'] + df['sim4_img'] + df['sim5_img']\n",
    "\n",
    "    df['sim12_text_img'] = df['sim1_text_img'] + df['sim2_text_img']\n",
    "    df['sim123_text_img'] = df['sim1_text_img'] + df['sim2_text_img'] + df['sim3_text_img']\n",
    "    df['sim1234_text_img'] = df['sim1_text_img'] + df['sim2_text_img'] + df['sim3_text_img'] + df['sim4_text_img']\n",
    "    df['sim12345_text_img'] = df['sim1_text_img'] + df['sim2_text_img'] + df['sim3_text_img'] + df['sim4_text_img'] + df['sim5_text_img']\n",
    " \n",
    "    cols = ['user_id', 'item_id_pred', 'item_id_true', 'phase', 'score_x', 'rank_x', \n",
    "       'score_y', 'rank_y', 'score', 'rank', 'item_cnt',\n",
    "       'sim1_text', 'sim1_img', 'sim2_text',\n",
    "       'sim2_img', 'sim3_text', 'sim3_img', 'sim4_text', 'sim4_img',\n",
    "       'sim5_text', 'sim5_img', 'rank1_sub_rank2', 'rank1_add_rank2',\n",
    "       'rank1_mul_rank2', 'rank1_sub_rank3', 'rank1_add_rank3',\n",
    "       'rank1_mul_rank3', 'rank2_sub_rank3', 'rank2_add_rank3',\n",
    "       'rank2_mul_rank3', 'score1_sub_score2', 'score1_add_score2',\n",
    "       'score1_mul_score2', 'score1_sub_score3', 'score1_add_score3',\n",
    "       'score1_mul_score3', 'score2_sub_score3', 'score2_add_score3',\n",
    "       'score2_mul_score3', 'sim1_text_img', 'sim2_text_img', 'sim3_text_img',\n",
    "       'sim4_text_img', 'sim5_text_img', 'sim12_text', 'sim123_text',\n",
    "       'sim1234_text', 'sim12345_text', 'sim12_img', 'sim123_img',\n",
    "       'sim1234_img', 'sim12345_img', 'sim12_text_img', 'sim123_text_img',\n",
    "       'sim1234_text_img', 'sim12345_text_img']\n",
    "    # df[cols].to_pickle(os.path.join(args.DATA_DIR, f'data_gen/dft{match_num}_features.pkl'))\n",
    "    return df"
   ]
  },
  {
   "cell_type": "code",
   "execution_count": null,
   "metadata": {},
   "outputs": [],
   "source": []
  },
  {
   "cell_type": "code",
   "execution_count": 80,
   "metadata": {},
   "outputs": [
    {
     "data": {
      "text/plain": [
       "((5186489, 6), (4248843, 6), (4996488, 6))"
      ]
     },
     "execution_count": 80,
     "metadata": {},
     "output_type": "execute_result"
    }
   ],
   "source": [
    "df1.shape, df2.shape, df3.shape, "
   ]
  },
  {
   "cell_type": "code",
   "execution_count": 81,
   "metadata": {},
   "outputs": [
    {
     "data": {
      "text/plain": [
       "Index(['user_id', 'item_id_pred', 'score', 'rank', 'item_id_true', 'phase'], dtype='object')"
      ]
     },
     "execution_count": 81,
     "metadata": {},
     "output_type": "execute_result"
    }
   ],
   "source": [
    "df1.columns"
   ]
  },
  {
   "cell_type": "code",
   "execution_count": 141,
   "metadata": {},
   "outputs": [
    {
     "data": {
      "text/plain": [
       "(9536065, 10)"
      ]
     },
     "execution_count": 141,
     "metadata": {},
     "output_type": "execute_result"
    }
   ],
   "source": [
    "df.shape"
   ]
  },
  {
   "cell_type": "code",
   "execution_count": 143,
   "metadata": {},
   "outputs": [
    {
     "data": {
      "text/html": [
       "<div>\n",
       "<style scoped>\n",
       "    .dataframe tbody tr th:only-of-type {\n",
       "        vertical-align: middle;\n",
       "    }\n",
       "\n",
       "    .dataframe tbody tr th {\n",
       "        vertical-align: top;\n",
       "    }\n",
       "\n",
       "    .dataframe thead th {\n",
       "        text-align: right;\n",
       "    }\n",
       "</style>\n",
       "<table border=\"1\" class=\"dataframe\">\n",
       "  <thead>\n",
       "    <tr style=\"text-align: right;\">\n",
       "      <th></th>\n",
       "      <th>user_id</th>\n",
       "      <th>item_id_pred</th>\n",
       "      <th>score_x</th>\n",
       "      <th>rank_x</th>\n",
       "      <th>item_id_true</th>\n",
       "      <th>phase</th>\n",
       "      <th>score_y</th>\n",
       "      <th>rank_y</th>\n",
       "      <th>score</th>\n",
       "      <th>rank</th>\n",
       "      <th>label</th>\n",
       "    </tr>\n",
       "  </thead>\n",
       "  <tbody>\n",
       "    <tr>\n",
       "      <th>0</th>\n",
       "      <td>11</td>\n",
       "      <td>79868</td>\n",
       "      <td>6.019197</td>\n",
       "      <td>1.0</td>\n",
       "      <td>8052</td>\n",
       "      <td>0</td>\n",
       "      <td>2.023002</td>\n",
       "      <td>1.0</td>\n",
       "      <td>0.010625</td>\n",
       "      <td>142.0</td>\n",
       "      <td>0</td>\n",
       "    </tr>\n",
       "    <tr>\n",
       "      <th>1</th>\n",
       "      <td>11</td>\n",
       "      <td>15844</td>\n",
       "      <td>5.328522</td>\n",
       "      <td>2.0</td>\n",
       "      <td>8052</td>\n",
       "      <td>0</td>\n",
       "      <td>0.326349</td>\n",
       "      <td>86.0</td>\n",
       "      <td>0.086894</td>\n",
       "      <td>6.0</td>\n",
       "      <td>0</td>\n",
       "    </tr>\n",
       "    <tr>\n",
       "      <th>2</th>\n",
       "      <td>11</td>\n",
       "      <td>10528</td>\n",
       "      <td>5.246875</td>\n",
       "      <td>3.0</td>\n",
       "      <td>8052</td>\n",
       "      <td>0</td>\n",
       "      <td>0.461508</td>\n",
       "      <td>52.0</td>\n",
       "      <td>0.067450</td>\n",
       "      <td>11.0</td>\n",
       "      <td>0</td>\n",
       "    </tr>\n",
       "    <tr>\n",
       "      <th>3</th>\n",
       "      <td>11</td>\n",
       "      <td>113564</td>\n",
       "      <td>5.100132</td>\n",
       "      <td>4.0</td>\n",
       "      <td>8052</td>\n",
       "      <td>0</td>\n",
       "      <td>0.386057</td>\n",
       "      <td>66.0</td>\n",
       "      <td>0.136157</td>\n",
       "      <td>1.0</td>\n",
       "      <td>0</td>\n",
       "    </tr>\n",
       "    <tr>\n",
       "      <th>4</th>\n",
       "      <td>11</td>\n",
       "      <td>20389</td>\n",
       "      <td>4.636769</td>\n",
       "      <td>5.0</td>\n",
       "      <td>8052</td>\n",
       "      <td>0</td>\n",
       "      <td>0.415892</td>\n",
       "      <td>62.0</td>\n",
       "      <td>0.048790</td>\n",
       "      <td>19.0</td>\n",
       "      <td>0</td>\n",
       "    </tr>\n",
       "  </tbody>\n",
       "</table>\n",
       "</div>"
      ],
      "text/plain": [
       "  user_id item_id_pred   score_x  rank_x item_id_true  phase   score_y  rank_y     score   rank  label\n",
       "0      11        79868  6.019197     1.0         8052      0  2.023002     1.0  0.010625  142.0      0\n",
       "1      11        15844  5.328522     2.0         8052      0  0.326349    86.0  0.086894    6.0      0\n",
       "2      11        10528  5.246875     3.0         8052      0  0.461508    52.0  0.067450   11.0      0\n",
       "3      11       113564  5.100132     4.0         8052      0  0.386057    66.0  0.136157    1.0      0\n",
       "4      11        20389  4.636769     5.0         8052      0  0.415892    62.0  0.048790   19.0      0"
      ]
     },
     "execution_count": 143,
     "metadata": {},
     "output_type": "execute_result"
    }
   ],
   "source": [
    "df.head()"
   ]
  },
  {
   "cell_type": "code",
   "execution_count": 144,
   "metadata": {},
   "outputs": [
    {
     "data": {
      "text/plain": [
       "0    9533232\n",
       "1       2833\n",
       "Name: label, dtype: int64"
      ]
     },
     "execution_count": 144,
     "metadata": {},
     "output_type": "execute_result"
    }
   ],
   "source": [
    "df.label.value_counts()"
   ]
  },
  {
   "cell_type": "code",
   "execution_count": 145,
   "metadata": {},
   "outputs": [
    {
     "data": {
      "text/plain": [
       "10373"
      ]
     },
     "execution_count": 145,
     "metadata": {},
     "output_type": "execute_result"
    }
   ],
   "source": [
    "df.user_id.nunique()"
   ]
  },
  {
   "cell_type": "code",
   "execution_count": 147,
   "metadata": {
    "scrolled": true
   },
   "outputs": [
    {
     "data": {
      "text/html": [
       "<div>\n",
       "<style scoped>\n",
       "    .dataframe tbody tr th:only-of-type {\n",
       "        vertical-align: middle;\n",
       "    }\n",
       "\n",
       "    .dataframe tbody tr th {\n",
       "        vertical-align: top;\n",
       "    }\n",
       "\n",
       "    .dataframe thead th {\n",
       "        text-align: right;\n",
       "    }\n",
       "</style>\n",
       "<table border=\"1\" class=\"dataframe\">\n",
       "  <thead>\n",
       "    <tr style=\"text-align: right;\">\n",
       "      <th></th>\n",
       "      <th>user_id</th>\n",
       "      <th>item_id_pred</th>\n",
       "      <th>score_x</th>\n",
       "      <th>rank_x</th>\n",
       "      <th>item_id_true</th>\n",
       "      <th>phase</th>\n",
       "      <th>score_y</th>\n",
       "      <th>rank_y</th>\n",
       "      <th>score</th>\n",
       "      <th>rank</th>\n",
       "      <th>label</th>\n",
       "    </tr>\n",
       "  </thead>\n",
       "  <tbody>\n",
       "    <tr>\n",
       "      <th>101</th>\n",
       "      <td>11</td>\n",
       "      <td>8052</td>\n",
       "      <td>1.900682</td>\n",
       "      <td>102.0</td>\n",
       "      <td>8052</td>\n",
       "      <td>0</td>\n",
       "      <td>0.324958</td>\n",
       "      <td>87.0</td>\n",
       "      <td>0.018896</td>\n",
       "      <td>82.0</td>\n",
       "      <td>1</td>\n",
       "    </tr>\n",
       "    <tr>\n",
       "      <th>1039</th>\n",
       "      <td>44</td>\n",
       "      <td>25164</td>\n",
       "      <td>2.845496</td>\n",
       "      <td>40.0</td>\n",
       "      <td>25164</td>\n",
       "      <td>0</td>\n",
       "      <td>0.207407</td>\n",
       "      <td>180.0</td>\n",
       "      <td>0.037454</td>\n",
       "      <td>29.0</td>\n",
       "      <td>1</td>\n",
       "    </tr>\n",
       "    <tr>\n",
       "      <th>2017</th>\n",
       "      <td>66</td>\n",
       "      <td>43836</td>\n",
       "      <td>22.465015</td>\n",
       "      <td>18.0</td>\n",
       "      <td>43836</td>\n",
       "      <td>0</td>\n",
       "      <td>1.488082</td>\n",
       "      <td>18.0</td>\n",
       "      <td>0.100061</td>\n",
       "      <td>13.0</td>\n",
       "      <td>1</td>\n",
       "    </tr>\n",
       "    <tr>\n",
       "      <th>3512</th>\n",
       "      <td>132</td>\n",
       "      <td>117039</td>\n",
       "      <td>15.770346</td>\n",
       "      <td>13.0</td>\n",
       "      <td>117039</td>\n",
       "      <td>0</td>\n",
       "      <td>0.955082</td>\n",
       "      <td>21.0</td>\n",
       "      <td>0.174193</td>\n",
       "      <td>2.0</td>\n",
       "      <td>1</td>\n",
       "    </tr>\n",
       "    <tr>\n",
       "      <th>8675</th>\n",
       "      <td>319</td>\n",
       "      <td>112967</td>\n",
       "      <td>4.998704</td>\n",
       "      <td>176.0</td>\n",
       "      <td>112967</td>\n",
       "      <td>0</td>\n",
       "      <td>0.280866</td>\n",
       "      <td>201.0</td>\n",
       "      <td>0.079765</td>\n",
       "      <td>7.0</td>\n",
       "      <td>1</td>\n",
       "    </tr>\n",
       "    <tr>\n",
       "      <th>...</th>\n",
       "      <td>...</td>\n",
       "      <td>...</td>\n",
       "      <td>...</td>\n",
       "      <td>...</td>\n",
       "      <td>...</td>\n",
       "      <td>...</td>\n",
       "      <td>...</td>\n",
       "      <td>...</td>\n",
       "      <td>...</td>\n",
       "      <td>...</td>\n",
       "      <td>...</td>\n",
       "    </tr>\n",
       "    <tr>\n",
       "      <th>9485044</th>\n",
       "      <td>28771</td>\n",
       "      <td>30238</td>\n",
       "      <td>0.000000</td>\n",
       "      <td>0.0</td>\n",
       "      <td>30238</td>\n",
       "      <td>6</td>\n",
       "      <td>0.000000</td>\n",
       "      <td>0.0</td>\n",
       "      <td>0.055383</td>\n",
       "      <td>13.0</td>\n",
       "      <td>1</td>\n",
       "    </tr>\n",
       "    <tr>\n",
       "      <th>9503352</th>\n",
       "      <td>30696</td>\n",
       "      <td>30780</td>\n",
       "      <td>0.000000</td>\n",
       "      <td>0.0</td>\n",
       "      <td>30780</td>\n",
       "      <td>6</td>\n",
       "      <td>0.000000</td>\n",
       "      <td>0.0</td>\n",
       "      <td>0.000044</td>\n",
       "      <td>245.0</td>\n",
       "      <td>1</td>\n",
       "    </tr>\n",
       "    <tr>\n",
       "      <th>9514064</th>\n",
       "      <td>28749</td>\n",
       "      <td>34356</td>\n",
       "      <td>0.000000</td>\n",
       "      <td>0.0</td>\n",
       "      <td>34356</td>\n",
       "      <td>6</td>\n",
       "      <td>0.000000</td>\n",
       "      <td>0.0</td>\n",
       "      <td>0.001915</td>\n",
       "      <td>412.0</td>\n",
       "      <td>1</td>\n",
       "    </tr>\n",
       "    <tr>\n",
       "      <th>9515694</th>\n",
       "      <td>2591</td>\n",
       "      <td>18934</td>\n",
       "      <td>0.000000</td>\n",
       "      <td>0.0</td>\n",
       "      <td>18934</td>\n",
       "      <td>6</td>\n",
       "      <td>0.000000</td>\n",
       "      <td>0.0</td>\n",
       "      <td>0.024958</td>\n",
       "      <td>49.0</td>\n",
       "      <td>1</td>\n",
       "    </tr>\n",
       "    <tr>\n",
       "      <th>9521065</th>\n",
       "      <td>20774</td>\n",
       "      <td>3376</td>\n",
       "      <td>0.000000</td>\n",
       "      <td>0.0</td>\n",
       "      <td>3376</td>\n",
       "      <td>6</td>\n",
       "      <td>0.000000</td>\n",
       "      <td>0.0</td>\n",
       "      <td>0.009262</td>\n",
       "      <td>332.0</td>\n",
       "      <td>1</td>\n",
       "    </tr>\n",
       "  </tbody>\n",
       "</table>\n",
       "<p>2833 rows × 11 columns</p>\n",
       "</div>"
      ],
      "text/plain": [
       "        user_id item_id_pred    score_x  rank_x item_id_true  phase   score_y  rank_y     score   rank  label\n",
       "101          11         8052   1.900682   102.0         8052      0  0.324958    87.0  0.018896   82.0      1\n",
       "1039         44        25164   2.845496    40.0        25164      0  0.207407   180.0  0.037454   29.0      1\n",
       "2017         66        43836  22.465015    18.0        43836      0  1.488082    18.0  0.100061   13.0      1\n",
       "3512        132       117039  15.770346    13.0       117039      0  0.955082    21.0  0.174193    2.0      1\n",
       "8675        319       112967   4.998704   176.0       112967      0  0.280866   201.0  0.079765    7.0      1\n",
       "...         ...          ...        ...     ...          ...    ...       ...     ...       ...    ...    ...\n",
       "9485044   28771        30238   0.000000     0.0        30238      6  0.000000     0.0  0.055383   13.0      1\n",
       "9503352   30696        30780   0.000000     0.0        30780      6  0.000000     0.0  0.000044  245.0      1\n",
       "9514064   28749        34356   0.000000     0.0        34356      6  0.000000     0.0  0.001915  412.0      1\n",
       "9515694    2591        18934   0.000000     0.0        18934      6  0.000000     0.0  0.024958   49.0      1\n",
       "9521065   20774         3376   0.000000     0.0         3376      6  0.000000     0.0  0.009262  332.0      1\n",
       "\n",
       "[2833 rows x 11 columns]"
      ]
     },
     "execution_count": 147,
     "metadata": {},
     "output_type": "execute_result"
    }
   ],
   "source": [
    "df[df.label==1]"
   ]
  },
  {
   "cell_type": "code",
   "execution_count": 198,
   "metadata": {},
   "outputs": [],
   "source": [
    "df['item_cnt'] = 0"
   ]
  },
  {
   "cell_type": "code",
   "execution_count": 202,
   "metadata": {},
   "outputs": [
    {
     "data": {
      "text/plain": [
       "10373"
      ]
     },
     "execution_count": 202,
     "metadata": {},
     "output_type": "execute_result"
    }
   ],
   "source": [
    "df.user_id.nunique()"
   ]
  },
  {
   "cell_type": "code",
   "execution_count": 201,
   "metadata": {},
   "outputs": [
    {
     "data": {
      "text/plain": [
       "10373"
      ]
     },
     "execution_count": 201,
     "metadata": {},
     "output_type": "execute_result"
    }
   ],
   "source": [
    "dft.user_id.nunique()"
   ]
  },
  {
   "cell_type": "code",
   "execution_count": 14,
   "metadata": {},
   "outputs": [
    {
     "data": {
      "text/html": [
       "<div>\n",
       "<style scoped>\n",
       "    .dataframe tbody tr th:only-of-type {\n",
       "        vertical-align: middle;\n",
       "    }\n",
       "\n",
       "    .dataframe tbody tr th {\n",
       "        vertical-align: top;\n",
       "    }\n",
       "\n",
       "    .dataframe thead th {\n",
       "        text-align: right;\n",
       "    }\n",
       "</style>\n",
       "<table border=\"1\" class=\"dataframe\">\n",
       "  <thead>\n",
       "    <tr style=\"text-align: right;\">\n",
       "      <th></th>\n",
       "      <th>user_id</th>\n",
       "      <th>item_id</th>\n",
       "      <th>last_4</th>\n",
       "      <th>last_5</th>\n",
       "    </tr>\n",
       "  </thead>\n",
       "  <tbody>\n",
       "    <tr>\n",
       "      <th>0</th>\n",
       "      <td>1001</td>\n",
       "      <td>[76967, 2827, 11599]</td>\n",
       "      <td>NaN</td>\n",
       "      <td>NaN</td>\n",
       "    </tr>\n",
       "    <tr>\n",
       "      <th>1</th>\n",
       "      <td>10032</td>\n",
       "      <td>[109286, 102996, 105116, 55841, 111687]</td>\n",
       "      <td>102996</td>\n",
       "      <td>109286</td>\n",
       "    </tr>\n",
       "    <tr>\n",
       "      <th>2</th>\n",
       "      <td>10043</td>\n",
       "      <td>[28313, 40108, 33417, 37789, 94638, 60146]</td>\n",
       "      <td>33417</td>\n",
       "      <td>40108</td>\n",
       "    </tr>\n",
       "    <tr>\n",
       "      <th>3</th>\n",
       "      <td>10054</td>\n",
       "      <td>[3267, 66757, 99792, 69011, 74906, 45861, 45652]</td>\n",
       "      <td>69011</td>\n",
       "      <td>99792</td>\n",
       "    </tr>\n",
       "    <tr>\n",
       "      <th>4</th>\n",
       "      <td>10065</td>\n",
       "      <td>[24421, 12510, 43671, 81447, 13429, 41118, 411...</td>\n",
       "      <td>13429</td>\n",
       "      <td>81447</td>\n",
       "    </tr>\n",
       "    <tr>\n",
       "      <th>...</th>\n",
       "      <td>...</td>\n",
       "      <td>...</td>\n",
       "      <td>...</td>\n",
       "      <td>...</td>\n",
       "    </tr>\n",
       "    <tr>\n",
       "      <th>1816</th>\n",
       "      <td>9928</td>\n",
       "      <td>[35046, 13255, 3111, 1386, 14552, 6950, 110758...</td>\n",
       "      <td>89727</td>\n",
       "      <td>117577</td>\n",
       "    </tr>\n",
       "    <tr>\n",
       "      <th>1817</th>\n",
       "      <td>9939</td>\n",
       "      <td>[59450, 98514, 101033, 67247, 84198, 27172, 94...</td>\n",
       "      <td>67247</td>\n",
       "      <td>101033</td>\n",
       "    </tr>\n",
       "    <tr>\n",
       "      <th>1818</th>\n",
       "      <td>996</td>\n",
       "      <td>[105489, 112335, 104526, 112448, 110288, 11244...</td>\n",
       "      <td>87846</td>\n",
       "      <td>25594</td>\n",
       "    </tr>\n",
       "    <tr>\n",
       "      <th>1819</th>\n",
       "      <td>9961</td>\n",
       "      <td>[54961, 52178, 34923, 95221, 106441, 83545, 87...</td>\n",
       "      <td>98886</td>\n",
       "      <td>87494</td>\n",
       "    </tr>\n",
       "    <tr>\n",
       "      <th>1820</th>\n",
       "      <td>9994</td>\n",
       "      <td>[26111, 45156, 20291, 14626, 9066, 15197]</td>\n",
       "      <td>20291</td>\n",
       "      <td>45156</td>\n",
       "    </tr>\n",
       "  </tbody>\n",
       "</table>\n",
       "<p>10373 rows × 4 columns</p>\n",
       "</div>"
      ],
      "text/plain": [
       "     user_id                                            item_id  last_4  last_5\n",
       "0       1001                               [76967, 2827, 11599]     NaN     NaN\n",
       "1      10032            [109286, 102996, 105116, 55841, 111687]  102996  109286\n",
       "2      10043         [28313, 40108, 33417, 37789, 94638, 60146]   33417   40108\n",
       "3      10054   [3267, 66757, 99792, 69011, 74906, 45861, 45652]   69011   99792\n",
       "4      10065  [24421, 12510, 43671, 81447, 13429, 41118, 411...   13429   81447\n",
       "...      ...                                                ...     ...     ...\n",
       "1816    9928  [35046, 13255, 3111, 1386, 14552, 6950, 110758...   89727  117577\n",
       "1817    9939  [59450, 98514, 101033, 67247, 84198, 27172, 94...   67247  101033\n",
       "1818     996  [105489, 112335, 104526, 112448, 110288, 11244...   87846   25594\n",
       "1819    9961  [54961, 52178, 34923, 95221, 106441, 83545, 87...   98886   87494\n",
       "1820    9994          [26111, 45156, 20291, 14626, 9066, 15197]   20291   45156\n",
       "\n",
       "[10373 rows x 4 columns]"
      ]
     },
     "execution_count": 14,
     "metadata": {},
     "output_type": "execute_result"
    }
   ],
   "source": [
    "dft"
   ]
  },
  {
   "cell_type": "code",
   "execution_count": 16,
   "metadata": {},
   "outputs": [],
   "source": []
  },
  {
   "cell_type": "code",
   "execution_count": 18,
   "metadata": {},
   "outputs": [],
   "source": []
  },
  {
   "cell_type": "code",
   "execution_count": null,
   "metadata": {},
   "outputs": [],
   "source": []
  },
  {
   "cell_type": "code",
   "execution_count": 11,
   "metadata": {},
   "outputs": [
    {
     "data": {
      "text/plain": [
       "(9536065, 24)"
      ]
     },
     "execution_count": 11,
     "metadata": {},
     "output_type": "execute_result"
    }
   ],
   "source": [
    "df.shape"
   ]
  },
  {
   "cell_type": "code",
   "execution_count": 12,
   "metadata": {},
   "outputs": [
    {
     "data": {
      "text/html": [
       "<div>\n",
       "<style scoped>\n",
       "    .dataframe tbody tr th:only-of-type {\n",
       "        vertical-align: middle;\n",
       "    }\n",
       "\n",
       "    .dataframe tbody tr th {\n",
       "        vertical-align: top;\n",
       "    }\n",
       "\n",
       "    .dataframe thead th {\n",
       "        text-align: right;\n",
       "    }\n",
       "</style>\n",
       "<table border=\"1\" class=\"dataframe\">\n",
       "  <thead>\n",
       "    <tr style=\"text-align: right;\">\n",
       "      <th></th>\n",
       "      <th>user_id</th>\n",
       "      <th>item_id_pred</th>\n",
       "      <th>score_x</th>\n",
       "      <th>rank_x</th>\n",
       "      <th>item_id_true</th>\n",
       "      <th>phase</th>\n",
       "      <th>score_y</th>\n",
       "      <th>rank_y</th>\n",
       "      <th>score</th>\n",
       "      <th>rank</th>\n",
       "      <th>label</th>\n",
       "      <th>item_cnt</th>\n",
       "      <th>item_id</th>\n",
       "      <th>last_1</th>\n",
       "      <th>last_2</th>\n",
       "      <th>last_3</th>\n",
       "      <th>item_id_pred_text_vec</th>\n",
       "      <th>item_id_pred_img_vec</th>\n",
       "      <th>last_1_text_vec</th>\n",
       "      <th>last_1_img_vec</th>\n",
       "      <th>last_2_text_vec</th>\n",
       "      <th>last_2_img_vec</th>\n",
       "      <th>last_3_text_vec</th>\n",
       "      <th>last_3_img_vec</th>\n",
       "    </tr>\n",
       "  </thead>\n",
       "  <tbody>\n",
       "    <tr>\n",
       "      <th>0</th>\n",
       "      <td>11</td>\n",
       "      <td>79868</td>\n",
       "      <td>6.019197</td>\n",
       "      <td>1.0</td>\n",
       "      <td>8052</td>\n",
       "      <td>0</td>\n",
       "      <td>2.023002</td>\n",
       "      <td>1.0</td>\n",
       "      <td>0.010625</td>\n",
       "      <td>142.0</td>\n",
       "      <td>0</td>\n",
       "      <td>47</td>\n",
       "      <td>[88058, 66082, 29755, 78804, 43074, 75757, 233...</td>\n",
       "      <td>28210</td>\n",
       "      <td>64689</td>\n",
       "      <td>20317</td>\n",
       "      <td>[2.3873836994171143, 1.274107813835144, 0.2217...</td>\n",
       "      <td>[-2.599696159362793, 1.5488953590393066, -1.48...</td>\n",
       "      <td>[2.3873836994171143, 1.274107813835144, 0.2217...</td>\n",
       "      <td>[-2.599696159362793, 1.5488953590393066, -1.48...</td>\n",
       "      <td>[2.3873836994171143, 1.274107813835144, 0.2217...</td>\n",
       "      <td>[-2.599696159362793, 1.5488953590393066, -1.48...</td>\n",
       "      <td>[2.3873836994171143, 1.274107813835144, 0.2217...</td>\n",
       "      <td>[-2.599696159362793, 1.5488953590393066, -1.48...</td>\n",
       "    </tr>\n",
       "    <tr>\n",
       "      <th>1</th>\n",
       "      <td>11</td>\n",
       "      <td>15844</td>\n",
       "      <td>5.328522</td>\n",
       "      <td>2.0</td>\n",
       "      <td>8052</td>\n",
       "      <td>0</td>\n",
       "      <td>0.326349</td>\n",
       "      <td>86.0</td>\n",
       "      <td>0.086894</td>\n",
       "      <td>6.0</td>\n",
       "      <td>0</td>\n",
       "      <td>5</td>\n",
       "      <td>[88058, 66082, 29755, 78804, 43074, 75757, 233...</td>\n",
       "      <td>28210</td>\n",
       "      <td>64689</td>\n",
       "      <td>20317</td>\n",
       "      <td>[3.9976482391357417, 1.0751028060913086, 0.722...</td>\n",
       "      <td>[-1.5042964220046997, -1.333038091659546, 0.13...</td>\n",
       "      <td>[3.9976482391357417, 1.0751028060913086, 0.722...</td>\n",
       "      <td>[-1.5042964220046997, -1.333038091659546, 0.13...</td>\n",
       "      <td>[3.9976482391357417, 1.0751028060913086, 0.722...</td>\n",
       "      <td>[-1.5042964220046997, -1.333038091659546, 0.13...</td>\n",
       "      <td>[3.9976482391357417, 1.0751028060913086, 0.722...</td>\n",
       "      <td>[-1.5042964220046997, -1.333038091659546, 0.13...</td>\n",
       "    </tr>\n",
       "  </tbody>\n",
       "</table>\n",
       "</div>"
      ],
      "text/plain": [
       "  user_id item_id_pred   score_x  rank_x item_id_true  phase   score_y  rank_y     score   rank  label  item_cnt                                            item_id last_1 last_2 last_3                              item_id_pred_text_vec                               item_id_pred_img_vec                                    last_1_text_vec                                     last_1_img_vec                                    last_2_text_vec                                     last_2_img_vec                                    last_3_text_vec                                     last_3_img_vec\n",
       "0      11        79868  6.019197     1.0         8052      0  2.023002     1.0  0.010625  142.0      0        47  [88058, 66082, 29755, 78804, 43074, 75757, 233...  28210  64689  20317  [2.3873836994171143, 1.274107813835144, 0.2217...  [-2.599696159362793, 1.5488953590393066, -1.48...  [2.3873836994171143, 1.274107813835144, 0.2217...  [-2.599696159362793, 1.5488953590393066, -1.48...  [2.3873836994171143, 1.274107813835144, 0.2217...  [-2.599696159362793, 1.5488953590393066, -1.48...  [2.3873836994171143, 1.274107813835144, 0.2217...  [-2.599696159362793, 1.5488953590393066, -1.48...\n",
       "1      11        15844  5.328522     2.0         8052      0  0.326349    86.0  0.086894    6.0      0         5  [88058, 66082, 29755, 78804, 43074, 75757, 233...  28210  64689  20317  [3.9976482391357417, 1.0751028060913086, 0.722...  [-1.5042964220046997, -1.333038091659546, 0.13...  [3.9976482391357417, 1.0751028060913086, 0.722...  [-1.5042964220046997, -1.333038091659546, 0.13...  [3.9976482391357417, 1.0751028060913086, 0.722...  [-1.5042964220046997, -1.333038091659546, 0.13...  [3.9976482391357417, 1.0751028060913086, 0.722...  [-1.5042964220046997, -1.333038091659546, 0.13..."
      ]
     },
     "execution_count": 12,
     "metadata": {},
     "output_type": "execute_result"
    }
   ],
   "source": [
    "df.head(2)"
   ]
  },
  {
   "cell_type": "code",
   "execution_count": 39,
   "metadata": {},
   "outputs": [
    {
     "data": {
      "text/plain": [
       "Index(['user_id', 'item_id_pred', 'score_x', 'rank_x', 'item_id_true', 'phase',\n",
       "       'score_y', 'rank_y', 'score', 'rank', 'label', 'item_cnt', 'item_id',\n",
       "       'last_1', 'last_2', 'last_3', 'item_id_pred_text_vec',\n",
       "       'item_id_pred_img_vec', 'last_1_text_vec', 'last_1_img_vec',\n",
       "       'last_2_text_vec', 'last_2_img_vec', 'last_3_text_vec',\n",
       "       'last_3_img_vec', 'sim1', 'sim1_text', 'sim1_img', 'sim2_text',\n",
       "       'sim2_img', 'sim3_text', 'sim3_img', 'rank1_sub_rank2',\n",
       "       'rank1_add_rank2', 'rank1_mul_rank2', 'rank1_sub_rank3',\n",
       "       'rank1_add_rank3', 'rank1_mul_rank3', 'rank2_sub_rank3',\n",
       "       'rank2_add_rank3', 'rank2_mul_rank3', 'score1_sub_score2',\n",
       "       'score1_add_score2', 'score1_mul_score2', 'score1_sub_score3',\n",
       "       'score1_add_score3', 'score1_mul_score3', 'score2_sub_score3',\n",
       "       'score2_add_score3', 'score2_mul_score3', 'fscore', 'frank',\n",
       "       'sim1_text_img', 'sim2_text_img', 'sim3_text_img', 'sim12_text',\n",
       "       'sim123_text', 'sim12_img', 'sim123_img', 'sim12_text_img',\n",
       "       'sim123_text_img'],\n",
       "      dtype='object')"
      ]
     },
     "execution_count": 39,
     "metadata": {},
     "output_type": "execute_result"
    }
   ],
   "source": [
    "df.columns"
   ]
  },
  {
   "cell_type": "code",
   "execution_count": 20,
   "metadata": {},
   "outputs": [],
   "source": [
    "temp_ = pd.read_pickle(os.path.join(args.DATA_DIR, f'data_gen/dft{match_num}_features.pkl'))"
   ]
  },
  {
   "cell_type": "code",
   "execution_count": 21,
   "metadata": {},
   "outputs": [
    {
     "data": {
      "text/plain": [
       "Index(['user_id', 'item_id_pred', 'score_x', 'rank_x', 'item_id_true', 'phase',\n",
       "       'score_y', 'rank_y', 'score', 'rank', 'label', 'item_cnt', 'item_id',\n",
       "       'last_1', 'last_2', 'last_3', 'sim1_text', 'sim1_img', 'sim2_text',\n",
       "       'sim2_img', 'sim3_text', 'sim3_img'],\n",
       "      dtype='object')"
      ]
     },
     "execution_count": 21,
     "metadata": {},
     "output_type": "execute_result"
    }
   ],
   "source": [
    "temp_.columns"
   ]
  },
  {
   "cell_type": "code",
   "execution_count": 19,
   "metadata": {},
   "outputs": [
    {
     "data": {
      "text/html": [
       "<div>\n",
       "<style scoped>\n",
       "    .dataframe tbody tr th:only-of-type {\n",
       "        vertical-align: middle;\n",
       "    }\n",
       "\n",
       "    .dataframe tbody tr th {\n",
       "        vertical-align: top;\n",
       "    }\n",
       "\n",
       "    .dataframe thead th {\n",
       "        text-align: right;\n",
       "    }\n",
       "</style>\n",
       "<table border=\"1\" class=\"dataframe\">\n",
       "  <thead>\n",
       "    <tr style=\"text-align: right;\">\n",
       "      <th></th>\n",
       "      <th>user_id</th>\n",
       "      <th>item_id_pred</th>\n",
       "      <th>score_x</th>\n",
       "      <th>rank_x</th>\n",
       "      <th>item_id_true</th>\n",
       "      <th>phase</th>\n",
       "      <th>score_y</th>\n",
       "      <th>rank_y</th>\n",
       "      <th>score</th>\n",
       "      <th>rank</th>\n",
       "      <th>label</th>\n",
       "      <th>item_cnt</th>\n",
       "      <th>item_id</th>\n",
       "      <th>last_1</th>\n",
       "      <th>last_2</th>\n",
       "      <th>last_3</th>\n",
       "      <th>item_id_pred_text_vec</th>\n",
       "      <th>item_id_pred_img_vec</th>\n",
       "      <th>last_1_text_vec</th>\n",
       "      <th>last_1_img_vec</th>\n",
       "      <th>last_2_text_vec</th>\n",
       "      <th>last_2_img_vec</th>\n",
       "      <th>last_3_text_vec</th>\n",
       "      <th>last_3_img_vec</th>\n",
       "      <th>last_4</th>\n",
       "      <th>last_5</th>\n",
       "      <th>last_4_text_vec</th>\n",
       "      <th>last_4_img_vec</th>\n",
       "      <th>last_5_text_vec</th>\n",
       "      <th>last_5_img_vec</th>\n",
       "      <th>sim4_text</th>\n",
       "      <th>sim4_img</th>\n",
       "      <th>sim5_text</th>\n",
       "      <th>sim5_img</th>\n",
       "    </tr>\n",
       "  </thead>\n",
       "  <tbody>\n",
       "    <tr>\n",
       "      <th>0</th>\n",
       "      <td>11</td>\n",
       "      <td>79868</td>\n",
       "      <td>6.019197</td>\n",
       "      <td>1.0</td>\n",
       "      <td>8052</td>\n",
       "      <td>0</td>\n",
       "      <td>2.023002</td>\n",
       "      <td>1.0</td>\n",
       "      <td>0.010625</td>\n",
       "      <td>142.0</td>\n",
       "      <td>0</td>\n",
       "      <td>47</td>\n",
       "      <td>[88058, 66082, 29755, 78804, 43074, 75757, 233...</td>\n",
       "      <td>28210</td>\n",
       "      <td>64689</td>\n",
       "      <td>20317</td>\n",
       "      <td>[2.3873836994171143, 1.274107813835144, 0.2217...</td>\n",
       "      <td>[-2.599696159362793, 1.5488953590393066, -1.48...</td>\n",
       "      <td>[2.3873836994171143, 1.274107813835144, 0.2217...</td>\n",
       "      <td>[-2.599696159362793, 1.5488953590393066, -1.48...</td>\n",
       "      <td>[2.3873836994171143, 1.274107813835144, 0.2217...</td>\n",
       "      <td>[-2.599696159362793, 1.5488953590393066, -1.48...</td>\n",
       "      <td>[2.3873836994171143, 1.274107813835144, 0.2217...</td>\n",
       "      <td>[-2.599696159362793, 1.5488953590393066, -1.48...</td>\n",
       "      <td>22113</td>\n",
       "      <td>23323</td>\n",
       "      <td>[2.3873836994171143, 1.274107813835144, 0.2217...</td>\n",
       "      <td>[-2.599696159362793, 1.5488953590393066, -1.48...</td>\n",
       "      <td>[2.3873836994171143, 1.274107813835144, 0.2217...</td>\n",
       "      <td>[-2.599696159362793, 1.5488953590393066, -1.48...</td>\n",
       "      <td>644.601963</td>\n",
       "      <td>461.714453</td>\n",
       "      <td>644.601963</td>\n",
       "      <td>461.714453</td>\n",
       "    </tr>\n",
       "    <tr>\n",
       "      <th>1</th>\n",
       "      <td>11</td>\n",
       "      <td>15844</td>\n",
       "      <td>5.328522</td>\n",
       "      <td>2.0</td>\n",
       "      <td>8052</td>\n",
       "      <td>0</td>\n",
       "      <td>0.326349</td>\n",
       "      <td>86.0</td>\n",
       "      <td>0.086894</td>\n",
       "      <td>6.0</td>\n",
       "      <td>0</td>\n",
       "      <td>5</td>\n",
       "      <td>[88058, 66082, 29755, 78804, 43074, 75757, 233...</td>\n",
       "      <td>28210</td>\n",
       "      <td>64689</td>\n",
       "      <td>20317</td>\n",
       "      <td>[3.9976482391357417, 1.0751028060913086, 0.722...</td>\n",
       "      <td>[-1.5042964220046997, -1.333038091659546, 0.13...</td>\n",
       "      <td>[3.9976482391357417, 1.0751028060913086, 0.722...</td>\n",
       "      <td>[-1.5042964220046997, -1.333038091659546, 0.13...</td>\n",
       "      <td>[3.9976482391357417, 1.0751028060913086, 0.722...</td>\n",
       "      <td>[-1.5042964220046997, -1.333038091659546, 0.13...</td>\n",
       "      <td>[3.9976482391357417, 1.0751028060913086, 0.722...</td>\n",
       "      <td>[-1.5042964220046997, -1.333038091659546, 0.13...</td>\n",
       "      <td>22113</td>\n",
       "      <td>23323</td>\n",
       "      <td>[3.9976482391357417, 1.0751028060913086, 0.722...</td>\n",
       "      <td>[-1.5042964220046997, -1.333038091659546, 0.13...</td>\n",
       "      <td>[3.9976482391357417, 1.0751028060913086, 0.722...</td>\n",
       "      <td>[-1.5042964220046997, -1.333038091659546, 0.13...</td>\n",
       "      <td>692.266290</td>\n",
       "      <td>515.405634</td>\n",
       "      <td>692.266290</td>\n",
       "      <td>515.405634</td>\n",
       "    </tr>\n",
       "  </tbody>\n",
       "</table>\n",
       "</div>"
      ],
      "text/plain": [
       "  user_id item_id_pred   score_x  rank_x item_id_true  phase   score_y  rank_y     score   rank  label  item_cnt                                            item_id last_1 last_2 last_3                              item_id_pred_text_vec                               item_id_pred_img_vec                                    last_1_text_vec                                     last_1_img_vec                                    last_2_text_vec                                     last_2_img_vec                                    last_3_text_vec                                     last_3_img_vec last_4 last_5                                    last_4_text_vec                                     last_4_img_vec                                    last_5_text_vec                                     last_5_img_vec   sim4_text    sim4_img   sim5_text    sim5_img\n",
       "0      11        79868  6.019197     1.0         8052      0  2.023002     1.0  0.010625  142.0      0        47  [88058, 66082, 29755, 78804, 43074, 75757, 233...  28210  64689  20317  [2.3873836994171143, 1.274107813835144, 0.2217...  [-2.599696159362793, 1.5488953590393066, -1.48...  [2.3873836994171143, 1.274107813835144, 0.2217...  [-2.599696159362793, 1.5488953590393066, -1.48...  [2.3873836994171143, 1.274107813835144, 0.2217...  [-2.599696159362793, 1.5488953590393066, -1.48...  [2.3873836994171143, 1.274107813835144, 0.2217...  [-2.599696159362793, 1.5488953590393066, -1.48...  22113  23323  [2.3873836994171143, 1.274107813835144, 0.2217...  [-2.599696159362793, 1.5488953590393066, -1.48...  [2.3873836994171143, 1.274107813835144, 0.2217...  [-2.599696159362793, 1.5488953590393066, -1.48...  644.601963  461.714453  644.601963  461.714453\n",
       "1      11        15844  5.328522     2.0         8052      0  0.326349    86.0  0.086894    6.0      0         5  [88058, 66082, 29755, 78804, 43074, 75757, 233...  28210  64689  20317  [3.9976482391357417, 1.0751028060913086, 0.722...  [-1.5042964220046997, -1.333038091659546, 0.13...  [3.9976482391357417, 1.0751028060913086, 0.722...  [-1.5042964220046997, -1.333038091659546, 0.13...  [3.9976482391357417, 1.0751028060913086, 0.722...  [-1.5042964220046997, -1.333038091659546, 0.13...  [3.9976482391357417, 1.0751028060913086, 0.722...  [-1.5042964220046997, -1.333038091659546, 0.13...  22113  23323  [3.9976482391357417, 1.0751028060913086, 0.722...  [-1.5042964220046997, -1.333038091659546, 0.13...  [3.9976482391357417, 1.0751028060913086, 0.722...  [-1.5042964220046997, -1.333038091659546, 0.13...  692.266290  515.405634  692.266290  515.405634"
      ]
     },
     "execution_count": 19,
     "metadata": {},
     "output_type": "execute_result"
    }
   ],
   "source": [
    "df.head(2)"
   ]
  },
  {
   "cell_type": "code",
   "execution_count": 22,
   "metadata": {},
   "outputs": [],
   "source": [
    "df = pd.merge(temp_, df['user_id item_id_pred sim4_text sim4_img sim5_text sim5_img'.split()])"
   ]
  },
  {
   "cell_type": "code",
   "execution_count": 24,
   "metadata": {},
   "outputs": [
    {
     "data": {
      "text/plain": [
       "(9536065, 22)"
      ]
     },
     "execution_count": 24,
     "metadata": {},
     "output_type": "execute_result"
    }
   ],
   "source": [
    "temp_.shape"
   ]
  },
  {
   "cell_type": "code",
   "execution_count": 23,
   "metadata": {},
   "outputs": [
    {
     "data": {
      "text/plain": [
       "(9536641, 26)"
      ]
     },
     "execution_count": 23,
     "metadata": {},
     "output_type": "execute_result"
    }
   ],
   "source": [
    "df.shape"
   ]
  },
  {
   "cell_type": "code",
   "execution_count": 25,
   "metadata": {},
   "outputs": [],
   "source": [
    "df.drop_duplicates('user_id item_id_pred'.split(), inplace=True)"
   ]
  },
  {
   "cell_type": "code",
   "execution_count": 26,
   "metadata": {},
   "outputs": [
    {
     "data": {
      "text/plain": [
       "(9535777, 26)"
      ]
     },
     "execution_count": 26,
     "metadata": {},
     "output_type": "execute_result"
    }
   ],
   "source": [
    "df.shape"
   ]
  },
  {
   "cell_type": "code",
   "execution_count": 30,
   "metadata": {},
   "outputs": [
    {
     "data": {
      "text/plain": [
       "Index(['user_id', 'item_id_pred', 'score_x', 'rank_x', 'item_id_true', 'phase',\n",
       "       'score_y', 'rank_y', 'score', 'rank', 'label', 'item_cnt', 'item_id',\n",
       "       'last_1', 'last_2', 'last_3', 'sim1_text', 'sim1_img', 'sim2_text',\n",
       "       'sim2_img', 'sim3_text', 'sim3_img', 'sim4_text', 'sim4_img',\n",
       "       'sim5_text', 'sim5_img'],\n",
       "      dtype='object')"
      ]
     },
     "execution_count": 30,
     "metadata": {},
     "output_type": "execute_result"
    }
   ],
   "source": [
    "df.columns"
   ]
  },
  {
   "cell_type": "code",
   "execution_count": 28,
   "metadata": {},
   "outputs": [],
   "source": []
  },
  {
   "cell_type": "markdown",
   "metadata": {},
   "source": [
    "# model"
   ]
  },
  {
   "cell_type": "code",
   "execution_count": 5,
   "metadata": {},
   "outputs": [],
   "source": [
    "#export\n",
    "def get_model_input(df, mode='train'):\n",
    "    from catboost import Pool, CatBoostClassifier\n",
    "\n",
    "    cols = ['score_x', 'rank_x', \n",
    "       'score_y', 'rank_y', 'score', 'rank', 'item_cnt',\n",
    "       'sim1_text', 'sim1_img', 'sim2_text',\n",
    "       'sim2_img', 'sim3_text', 'sim3_img', 'sim4_text', 'sim4_img',\n",
    "       'sim5_text', 'sim5_img', 'rank1_sub_rank2', 'rank1_add_rank2',\n",
    "       'rank1_mul_rank2', 'rank1_sub_rank3', 'rank1_add_rank3',\n",
    "       'rank1_mul_rank3', 'rank2_sub_rank3', 'rank2_add_rank3',\n",
    "       'rank2_mul_rank3', 'score1_sub_score2', 'score1_add_score2',\n",
    "       'score1_mul_score2', 'score1_sub_score3', 'score1_add_score3',\n",
    "       'score1_mul_score3', 'score2_sub_score3', 'score2_add_score3',\n",
    "       'score2_mul_score3', 'sim1_text_img', 'sim2_text_img', 'sim3_text_img',\n",
    "       'sim4_text_img', 'sim5_text_img', 'sim12_text', 'sim123_text',\n",
    "       'sim1234_text', 'sim12345_text', 'sim12_img', 'sim123_img',\n",
    "       'sim1234_img', 'sim12345_img', 'sim12_text_img', 'sim123_text_img',\n",
    "       'sim1234_text_img', 'sim12345_text_img']\n",
    "    df['fscore'] = 0\n",
    "    df['frank'] = 999\n",
    "    cat_cols = []\n",
    "    if mode=='train':\n",
    "        X_train, X_test, y_train, y_test = df.loc[df['phase']<6, cols], df.loc[df['phase']==6, cols], df.loc[df['phase']<6, 'label'],\\\n",
    "                                               df.loc[df['phase']==6, 'label']                 \n",
    "\n",
    "        \n",
    "        train_data = Pool(data=X_train,\n",
    "                           label=y_train,\n",
    "                           cat_features=cat_cols)\n",
    "        val_data = Pool(data=X_test, label=y_test, cat_features=cat_cols) \n",
    "        return train_data, val_data, cat_cols\n",
    "    X_test = df[cols]\n",
    "    test_data = Pool(data=X_test, cat_features=cat_cols) \n",
    "    return test_data, cat_cols"
   ]
  },
  {
   "cell_type": "code",
   "execution_count": 127,
   "metadata": {},
   "outputs": [],
   "source": [
    "# df.loc[:, 'rank_x'] = df.rank_x.map(lambda x: 999 if x==0 else x)\n",
    "# df.loc[:, 'rank_y'] = df.rank_x.map(lambda x: 999 if x==0 else x)\n",
    "# df.loc[:, 'rank'] = df.rank_x.map(lambda x: 999 if x==0 else x)"
   ]
  },
  {
   "cell_type": "code",
   "execution_count": 31,
   "metadata": {},
   "outputs": [],
   "source": []
  },
  {
   "cell_type": "code",
   "execution_count": 33,
   "metadata": {},
   "outputs": [
    {
     "data": {
      "text/plain": [
       "Index(['user_id', 'item_id_pred', 'score_x', 'rank_x', 'item_id_true', 'phase',\n",
       "       'score_y', 'rank_y', 'score', 'rank', 'label', 'item_cnt', 'item_id',\n",
       "       'last_1', 'last_2', 'last_3', 'sim1_text', 'sim1_img', 'sim2_text',\n",
       "       'sim2_img', 'sim3_text', 'sim3_img', 'sim4_text', 'sim4_img',\n",
       "       'sim5_text', 'sim5_img', 'rank1_sub_rank2', 'rank1_add_rank2',\n",
       "       'rank1_mul_rank2', 'rank1_sub_rank3', 'rank1_add_rank3',\n",
       "       'rank1_mul_rank3', 'rank2_sub_rank3', 'rank2_add_rank3',\n",
       "       'rank2_mul_rank3', 'score1_sub_score2', 'score1_add_score2',\n",
       "       'score1_mul_score2', 'score1_sub_score3', 'score1_add_score3',\n",
       "       'score1_mul_score3', 'score2_sub_score3', 'score2_add_score3',\n",
       "       'score2_mul_score3', 'sim1_text_img', 'sim2_text_img', 'sim3_text_img',\n",
       "       'sim4_text_img', 'sim5_text_img', 'sim12_text', 'sim123_text',\n",
       "       'sim1234_text', 'sim12345_text', 'sim12_img', 'sim123_img',\n",
       "       'sim1234_img', 'sim12345_img', 'sim12_text_img', 'sim123_text_img',\n",
       "       'sim1234_text_img', 'sim12345_text_img'],\n",
       "      dtype='object')"
      ]
     },
     "execution_count": 33,
     "metadata": {},
     "output_type": "execute_result"
    }
   ],
   "source": [
    "df.columns"
   ]
  },
  {
   "cell_type": "code",
   "execution_count": 34,
   "metadata": {},
   "outputs": [],
   "source": []
  },
  {
   "cell_type": "code",
   "execution_count": 35,
   "metadata": {},
   "outputs": [
    {
     "data": {
      "text/plain": [
       "6    1820867\n",
       "5    1776430\n",
       "3    1599358\n",
       "2    1565472\n",
       "1    1524428\n",
       "0    1249222\n",
       "Name: phase, dtype: int64"
      ]
     },
     "execution_count": 35,
     "metadata": {},
     "output_type": "execute_result"
    }
   ],
   "source": [
    "df['phase'].value_counts()"
   ]
  },
  {
   "cell_type": "code",
   "execution_count": 36,
   "metadata": {},
   "outputs": [],
   "source": []
  },
  {
   "cell_type": "code",
   "execution_count": 37,
   "metadata": {},
   "outputs": [],
   "source": []
  },
  {
   "cell_type": "code",
   "execution_count": 39,
   "metadata": {},
   "outputs": [
    {
     "data": {
      "text/plain": [
       "1821"
      ]
     },
     "execution_count": 39,
     "metadata": {},
     "output_type": "execute_result"
    }
   ],
   "source": [
    "df.loc[df['phase']==6].user_id.nunique()"
   ]
  },
  {
   "cell_type": "code",
   "execution_count": 40,
   "metadata": {},
   "outputs": [
    {
     "data": {
      "text/plain": [
       "(1820867, 63)"
      ]
     },
     "execution_count": 40,
     "metadata": {},
     "output_type": "execute_result"
    }
   ],
   "source": [
    "df.loc[df['phase']==6].shape"
   ]
  },
  {
   "cell_type": "code",
   "execution_count": 4,
   "metadata": {},
   "outputs": [],
   "source": [
    "# export\n",
    "def get_model(train_data, val_data, cat_cols):\n",
    "    from catboost import Pool, CatBoostClassifier\n",
    "    params = {\n",
    "        'iterations': 360,\n",
    "        'learning_rate': 0.1,\n",
    "        'random_seed': 144,\n",
    "        'custom_metric': 'F1',\n",
    "        'loss_function': 'Logloss',\n",
    "        'class_weights': [1, 20],\n",
    "    #     'use_best_model': False\n",
    "        }\n",
    "    print(params)\n",
    "    model = CatBoostClassifier(**params)\n",
    "    return model"
   ]
  },
  {
   "cell_type": "code",
   "execution_count": 108,
   "metadata": {},
   "outputs": [],
   "source": [
    "# val1(r_itemcf[-1], 100, all_click_df[6][1])\n",
    "# 2020-05-27 17:39:59.717 | INFO     | __main__:val1:24 - recall50:0.15595826468973092\n",
    "# 2020-05-27 17:39:59.728 | INFO     | __main__:val1:24 - recall100:0.18231740801757276\n"
   ]
  },
  {
   "cell_type": "markdown",
   "metadata": {},
   "source": [
    "# fit"
   ]
  },
  {
   "cell_type": "code",
   "execution_count": 46,
   "metadata": {},
   "outputs": [
    {
     "name": "stderr",
     "output_type": "stream",
     "text": [
      "2020-05-28 17:35:07.937 | INFO     | __main__:val1:24 - recall50:0.17298187808896212\n",
      "2020-05-28 17:35:07.940 | INFO     | __main__:val1:24 - recall100:0.21087314662273476\n"
     ]
    }
   ],
   "source": [
    "r = model.fit(train_data, \n",
    "#               eval_set=val_data, \n",
    "              verbose=False,plot=False)\n",
    "df.loc[df['phase']==6, 'fscore'] = model.predict_proba(val_data)[:, 1]\n",
    "\n",
    "df.loc[df['phase']==6, 'frank'] = df.loc[df['phase']==6].groupby('user_id')['fscore'].rank(method='first', ascending=False)\n",
    "r = val1(df.loc[(df['phase']==6)&(df['frank']<101)], 100, all_click_df[6][1])"
   ]
  },
  {
   "cell_type": "code",
   "execution_count": 42,
   "metadata": {},
   "outputs": [
    {
     "name": "stderr",
     "output_type": "stream",
     "text": [
      "/Users/luoyonggui/anaconda3/lib/python3.7/site-packages/pandas/core/indexing.py:494: SettingWithCopyWarning: \n",
      "A value is trying to be set on a copy of a slice from a DataFrame.\n",
      "Try using .loc[row_indexer,col_indexer] = value instead\n",
      "\n",
      "See the caveats in the documentation: http://pandas.pydata.org/pandas-docs/stable/user_guide/indexing.html#returning-a-view-versus-a-copy\n",
      "  self.obj[item] = s\n",
      "2020-05-28 16:54:12.975 | INFO     | __main__:val1:24 - recall50:0.16035145524437122\n",
      "2020-05-28 16:54:12.994 | INFO     | __main__:val1:24 - recall100:0.20043931905546403\n"
     ]
    }
   ],
   "source": [
    "r = model.fit(train_data, \n",
    "#               eval_set=val_data, \n",
    "              verbose=False,plot=False)\n",
    "df.loc[df['phase']==6, 'fscore'] = model.predict_proba(val_data)[:, 1]\n",
    "\n",
    "df.loc[df['phase']==6, 'frank'] = df.loc[df['phase']==6].groupby('user_id')['fscore'].rank(method='first', ascending=False)\n",
    "r = val1(df.loc[(df['phase']==6)&(df['frank']<101)], 100, all_click_df[6][1])"
   ]
  },
  {
   "cell_type": "code",
   "execution_count": 47,
   "metadata": {},
   "outputs": [],
   "source": [
    "# model.save_model(os.path.join(args.DATA_DIR, 'data_gen/catboost_model500_feat_last12345.dump'))"
   ]
  },
  {
   "cell_type": "code",
   "execution_count": 43,
   "metadata": {
    "scrolled": true
   },
   "outputs": [
    {
     "name": "stdout",
     "output_type": "stream",
     "text": [
      "0\n"
     ]
    },
    {
     "name": "stderr",
     "output_type": "stream",
     "text": [
      "2020-05-28 16:55:58.189 | INFO     | __main__:val1:24 - recall50:0.16474464579901152\n",
      "2020-05-28 16:55:58.191 | INFO     | __main__:val1:24 - recall100:0.20922570016474465\n"
     ]
    },
    {
     "name": "stdout",
     "output_type": "stream",
     "text": [
      "1\n"
     ]
    },
    {
     "name": "stderr",
     "output_type": "stream",
     "text": [
      "2020-05-28 16:57:14.376 | INFO     | __main__:val1:24 - recall50:0.1658429434376716\n",
      "2020-05-28 16:57:14.378 | INFO     | __main__:val1:24 - recall100:0.20922570016474465\n"
     ]
    },
    {
     "name": "stdout",
     "output_type": "stream",
     "text": [
      "2\n"
     ]
    },
    {
     "name": "stderr",
     "output_type": "stream",
     "text": [
      "2020-05-28 16:58:27.180 | INFO     | __main__:val1:24 - recall50:0.16639209225700163\n",
      "2020-05-28 16:58:27.181 | INFO     | __main__:val1:24 - recall100:0.2097748489840747\n"
     ]
    },
    {
     "name": "stdout",
     "output_type": "stream",
     "text": [
      "3\n"
     ]
    },
    {
     "name": "stderr",
     "output_type": "stream",
     "text": [
      "2020-05-28 16:59:38.387 | INFO     | __main__:val1:24 - recall50:0.1685886875343218\n",
      "2020-05-28 16:59:38.390 | INFO     | __main__:val1:24 - recall100:0.2086765513454146\n"
     ]
    },
    {
     "name": "stdout",
     "output_type": "stream",
     "text": [
      "4\n"
     ]
    },
    {
     "name": "stderr",
     "output_type": "stream",
     "text": [
      "2020-05-28 17:00:48.822 | INFO     | __main__:val1:24 - recall50:0.1702361339923119\n",
      "2020-05-28 17:00:48.825 | INFO     | __main__:val1:24 - recall100:0.20812740252608458\n"
     ]
    },
    {
     "name": "stdout",
     "output_type": "stream",
     "text": [
      "5\n"
     ]
    },
    {
     "name": "stderr",
     "output_type": "stream",
     "text": [
      "2020-05-28 17:02:03.010 | INFO     | __main__:val1:24 - recall50:0.16913783635365184\n",
      "2020-05-28 17:02:03.013 | INFO     | __main__:val1:24 - recall100:0.20757825370675453\n"
     ]
    },
    {
     "name": "stdout",
     "output_type": "stream",
     "text": [
      "6\n"
     ]
    },
    {
     "name": "stderr",
     "output_type": "stream",
     "text": [
      "2020-05-28 17:03:17.286 | INFO     | __main__:val1:24 - recall50:0.1696869851729819\n",
      "2020-05-28 17:03:17.290 | INFO     | __main__:val1:24 - recall100:0.20647995606809447\n"
     ]
    },
    {
     "name": "stdout",
     "output_type": "stream",
     "text": [
      "7\n"
     ]
    },
    {
     "name": "stderr",
     "output_type": "stream",
     "text": [
      "2020-05-28 17:04:27.437 | INFO     | __main__:val1:24 - recall50:0.1696869851729819\n",
      "2020-05-28 17:04:27.438 | INFO     | __main__:val1:24 - recall100:0.2070291048874245\n"
     ]
    },
    {
     "name": "stdout",
     "output_type": "stream",
     "text": [
      "8\n"
     ]
    },
    {
     "name": "stderr",
     "output_type": "stream",
     "text": [
      "2020-05-28 17:05:36.891 | INFO     | __main__:val1:24 - recall50:0.1702361339923119\n",
      "2020-05-28 17:05:36.892 | INFO     | __main__:val1:24 - recall100:0.20812740252608458\n"
     ]
    },
    {
     "name": "stdout",
     "output_type": "stream",
     "text": [
      "9\n"
     ]
    },
    {
     "name": "stderr",
     "output_type": "stream",
     "text": [
      "2020-05-28 17:06:48.050 | INFO     | __main__:val1:24 - recall50:0.171334431630972\n",
      "2020-05-28 17:06:48.052 | INFO     | __main__:val1:24 - recall100:0.2086765513454146\n"
     ]
    }
   ],
   "source": [
    "for a in range(10):\n",
    "    print(a)\n",
    "    r = model.fit(train_data, \n",
    "#                   eval_set=val_data, \n",
    "                  verbose=False,plot=False, init_model=model)\n",
    "    df.loc[df['phase']==6, 'fscore'] = model.predict_proba(val_data)[:, 1]\n",
    "\n",
    "    df.loc[df['phase']==6, 'frank'] = df.loc[df['phase']==6].groupby('user_id')['fscore'].rank(method='first', ascending=False)\n",
    "\n",
    "    r = val1(df.loc[(df['phase']==6)&(df['frank']<101)], 100, all_click_df[6][1])"
   ]
  },
  {
   "cell_type": "code",
   "execution_count": 44,
   "metadata": {
    "scrolled": true
   },
   "outputs": [
    {
     "name": "stdout",
     "output_type": "stream",
     "text": [
      "0\n"
     ]
    },
    {
     "name": "stderr",
     "output_type": "stream",
     "text": [
      "2020-05-28 17:10:27.420 | INFO     | __main__:val1:24 - recall50:0.171334431630972\n",
      "2020-05-28 17:10:27.424 | INFO     | __main__:val1:24 - recall100:0.2086765513454146\n"
     ]
    },
    {
     "name": "stdout",
     "output_type": "stream",
     "text": [
      "1\n"
     ]
    },
    {
     "name": "stderr",
     "output_type": "stream",
     "text": [
      "2020-05-28 17:11:40.422 | INFO     | __main__:val1:24 - recall50:0.17078528281164196\n",
      "2020-05-28 17:11:40.424 | INFO     | __main__:val1:24 - recall100:0.2086765513454146\n"
     ]
    },
    {
     "name": "stdout",
     "output_type": "stream",
     "text": [
      "2\n"
     ]
    },
    {
     "name": "stderr",
     "output_type": "stream",
     "text": [
      "2020-05-28 17:12:55.253 | INFO     | __main__:val1:24 - recall50:0.1702361339923119\n",
      "2020-05-28 17:12:55.254 | INFO     | __main__:val1:24 - recall100:0.2086765513454146\n"
     ]
    },
    {
     "name": "stdout",
     "output_type": "stream",
     "text": [
      "3\n"
     ]
    },
    {
     "name": "stderr",
     "output_type": "stream",
     "text": [
      "2020-05-28 17:14:05.452 | INFO     | __main__:val1:24 - recall50:0.1696869851729819\n",
      "2020-05-28 17:14:05.453 | INFO     | __main__:val1:24 - recall100:0.2097748489840747\n"
     ]
    },
    {
     "name": "stdout",
     "output_type": "stream",
     "text": [
      "4\n"
     ]
    },
    {
     "name": "stderr",
     "output_type": "stream",
     "text": [
      "2020-05-28 17:15:14.942 | INFO     | __main__:val1:24 - recall50:0.1702361339923119\n",
      "2020-05-28 17:15:14.943 | INFO     | __main__:val1:24 - recall100:0.21087314662273476\n"
     ]
    },
    {
     "name": "stdout",
     "output_type": "stream",
     "text": [
      "5\n"
     ]
    },
    {
     "name": "stderr",
     "output_type": "stream",
     "text": [
      "2020-05-28 17:16:26.736 | INFO     | __main__:val1:24 - recall50:0.171334431630972\n",
      "2020-05-28 17:16:26.738 | INFO     | __main__:val1:24 - recall100:0.2097748489840747\n"
     ]
    },
    {
     "name": "stdout",
     "output_type": "stream",
     "text": [
      "6\n"
     ]
    },
    {
     "name": "stderr",
     "output_type": "stream",
     "text": [
      "2020-05-28 17:17:37.904 | INFO     | __main__:val1:24 - recall50:0.17298187808896212\n",
      "2020-05-28 17:17:37.906 | INFO     | __main__:val1:24 - recall100:0.21087314662273476\n"
     ]
    },
    {
     "name": "stdout",
     "output_type": "stream",
     "text": [
      "7\n"
     ]
    },
    {
     "name": "stderr",
     "output_type": "stream",
     "text": [
      "2020-05-28 17:18:51.216 | INFO     | __main__:val1:24 - recall50:0.17243272926963207\n",
      "2020-05-28 17:18:51.217 | INFO     | __main__:val1:24 - recall100:0.21032399780340472\n"
     ]
    },
    {
     "name": "stdout",
     "output_type": "stream",
     "text": [
      "8\n"
     ]
    },
    {
     "name": "stderr",
     "output_type": "stream",
     "text": [
      "2020-05-28 17:20:03.536 | INFO     | __main__:val1:24 - recall50:0.171334431630972\n",
      "2020-05-28 17:20:03.540 | INFO     | __main__:val1:24 - recall100:0.20812740252608458\n"
     ]
    },
    {
     "name": "stdout",
     "output_type": "stream",
     "text": [
      "9\n"
     ]
    },
    {
     "name": "stderr",
     "output_type": "stream",
     "text": [
      "2020-05-28 17:21:18.146 | INFO     | __main__:val1:24 - recall50:0.17078528281164196\n",
      "2020-05-28 17:21:18.148 | INFO     | __main__:val1:24 - recall100:0.20922570016474465\n"
     ]
    }
   ],
   "source": [
    "for a in range(10):\n",
    "    print(a)\n",
    "    r = model.fit(train_data, \n",
    "#                   eval_set=val_data, \n",
    "                  verbose=False,plot=False, init_model=model)\n",
    "    df.loc[df['phase']==6, 'fscore'] = model.predict_proba(val_data)[:, 1]\n",
    "\n",
    "    df.loc[df['phase']==6, 'frank'] = df.loc[df['phase']==6].groupby('user_id')['fscore'].rank(method='first', ascending=False)\n",
    "\n",
    "    r = val1(df.loc[(df['phase']==6)&(df['frank']<101)], 100, all_click_df[6][1])"
   ]
  },
  {
   "cell_type": "code",
   "execution_count": 48,
   "metadata": {
    "scrolled": true
   },
   "outputs": [
    {
     "name": "stdout",
     "output_type": "stream",
     "text": [
      "0\n"
     ]
    },
    {
     "name": "stderr",
     "output_type": "stream",
     "text": [
      "2020-05-28 11:55:56.561 | INFO     | __main__:val1:24 - recall50:0.1702361339923119\n",
      "2020-05-28 11:55:56.564 | INFO     | __main__:val1:24 - recall100:0.2114222954420648\n"
     ]
    },
    {
     "name": "stdout",
     "output_type": "stream",
     "text": [
      "1\n"
     ]
    },
    {
     "name": "stderr",
     "output_type": "stream",
     "text": [
      "2020-05-28 11:57:09.415 | INFO     | __main__:val1:24 - recall50:0.1696869851729819\n",
      "2020-05-28 11:57:09.416 | INFO     | __main__:val1:24 - recall100:0.2097748489840747\n"
     ]
    },
    {
     "name": "stdout",
     "output_type": "stream",
     "text": [
      "2\n"
     ]
    },
    {
     "name": "stderr",
     "output_type": "stream",
     "text": [
      "2020-05-28 11:58:19.222 | INFO     | __main__:val1:24 - recall50:0.16913783635365184\n",
      "2020-05-28 11:58:19.223 | INFO     | __main__:val1:24 - recall100:0.2086765513454146\n"
     ]
    },
    {
     "name": "stdout",
     "output_type": "stream",
     "text": [
      "3\n"
     ]
    },
    {
     "name": "stderr",
     "output_type": "stream",
     "text": [
      "2020-05-28 11:59:30.939 | INFO     | __main__:val1:24 - recall50:0.16913783635365184\n",
      "2020-05-28 11:59:30.941 | INFO     | __main__:val1:24 - recall100:0.2070291048874245\n"
     ]
    },
    {
     "name": "stdout",
     "output_type": "stream",
     "text": [
      "4\n"
     ]
    },
    {
     "name": "stderr",
     "output_type": "stream",
     "text": [
      "2020-05-28 12:00:40.302 | INFO     | __main__:val1:24 - recall50:0.1685886875343218\n",
      "2020-05-28 12:00:40.305 | INFO     | __main__:val1:24 - recall100:0.20593080724876442\n"
     ]
    },
    {
     "name": "stdout",
     "output_type": "stream",
     "text": [
      "5\n"
     ]
    },
    {
     "name": "stderr",
     "output_type": "stream",
     "text": [
      "2020-05-28 12:01:51.198 | INFO     | __main__:val1:24 - recall50:0.16913783635365184\n",
      "2020-05-28 12:01:51.199 | INFO     | __main__:val1:24 - recall100:0.20483250961010435\n"
     ]
    },
    {
     "name": "stdout",
     "output_type": "stream",
     "text": [
      "6\n"
     ]
    },
    {
     "ename": "KeyboardInterrupt",
     "evalue": "",
     "output_type": "error",
     "traceback": [
      "\u001b[0;31m---------------------------------------------------------------------------\u001b[0m",
      "\u001b[0;31mKeyboardInterrupt\u001b[0m                         Traceback (most recent call last)",
      "\u001b[0;32m<ipython-input-48-c08fc005e1ca>\u001b[0m in \u001b[0;36m<module>\u001b[0;34m\u001b[0m\n\u001b[1;32m      3\u001b[0m     r = model.fit(train_data, \n\u001b[1;32m      4\u001b[0m \u001b[0;31m#                   eval_set=val_data,\u001b[0m\u001b[0;34m\u001b[0m\u001b[0;34m\u001b[0m\u001b[0;34m\u001b[0m\u001b[0m\n\u001b[0;32m----> 5\u001b[0;31m                   verbose=False,plot=False, init_model=model)\n\u001b[0m\u001b[1;32m      6\u001b[0m     \u001b[0mdf\u001b[0m\u001b[0;34m.\u001b[0m\u001b[0mloc\u001b[0m\u001b[0;34m[\u001b[0m\u001b[0mdf\u001b[0m\u001b[0;34m[\u001b[0m\u001b[0;34m'phase'\u001b[0m\u001b[0;34m]\u001b[0m\u001b[0;34m==\u001b[0m\u001b[0;36m6\u001b[0m\u001b[0;34m,\u001b[0m \u001b[0;34m'fscore'\u001b[0m\u001b[0;34m]\u001b[0m \u001b[0;34m=\u001b[0m \u001b[0mmodel\u001b[0m\u001b[0;34m.\u001b[0m\u001b[0mpredict_proba\u001b[0m\u001b[0;34m(\u001b[0m\u001b[0mval_data\u001b[0m\u001b[0;34m)\u001b[0m\u001b[0;34m[\u001b[0m\u001b[0;34m:\u001b[0m\u001b[0;34m,\u001b[0m \u001b[0;36m1\u001b[0m\u001b[0;34m]\u001b[0m\u001b[0;34m\u001b[0m\u001b[0;34m\u001b[0m\u001b[0m\n\u001b[1;32m      7\u001b[0m \u001b[0;34m\u001b[0m\u001b[0m\n",
      "\u001b[0;32m~/anaconda3/lib/python3.7/site-packages/catboost/core.py\u001b[0m in \u001b[0;36mfit\u001b[0;34m(self, X, y, cat_features, text_features, sample_weight, baseline, use_best_model, eval_set, verbose, logging_level, plot, column_description, verbose_eval, metric_period, silent, early_stopping_rounds, save_snapshot, snapshot_file, snapshot_interval, init_model)\u001b[0m\n\u001b[1;32m   3957\u001b[0m         self._fit(X, y, cat_features, text_features, None, sample_weight, None, None, None, None, baseline, use_best_model,\n\u001b[1;32m   3958\u001b[0m                   \u001b[0meval_set\u001b[0m\u001b[0;34m,\u001b[0m \u001b[0mverbose\u001b[0m\u001b[0;34m,\u001b[0m \u001b[0mlogging_level\u001b[0m\u001b[0;34m,\u001b[0m \u001b[0mplot\u001b[0m\u001b[0;34m,\u001b[0m \u001b[0mcolumn_description\u001b[0m\u001b[0;34m,\u001b[0m \u001b[0mverbose_eval\u001b[0m\u001b[0;34m,\u001b[0m \u001b[0mmetric_period\u001b[0m\u001b[0;34m,\u001b[0m\u001b[0;34m\u001b[0m\u001b[0;34m\u001b[0m\u001b[0m\n\u001b[0;32m-> 3959\u001b[0;31m                   silent, early_stopping_rounds, save_snapshot, snapshot_file, snapshot_interval, init_model)\n\u001b[0m\u001b[1;32m   3960\u001b[0m         \u001b[0;32mreturn\u001b[0m \u001b[0mself\u001b[0m\u001b[0;34m\u001b[0m\u001b[0;34m\u001b[0m\u001b[0m\n\u001b[1;32m   3961\u001b[0m \u001b[0;34m\u001b[0m\u001b[0m\n",
      "\u001b[0;32m~/anaconda3/lib/python3.7/site-packages/catboost/core.py\u001b[0m in \u001b[0;36m_fit\u001b[0;34m(self, X, y, cat_features, text_features, pairs, sample_weight, group_id, group_weight, subgroup_id, pairs_weight, baseline, use_best_model, eval_set, verbose, logging_level, plot, column_description, verbose_eval, metric_period, silent, early_stopping_rounds, save_snapshot, snapshot_file, snapshot_interval, init_model)\u001b[0m\n\u001b[1;32m   1711\u001b[0m                 \u001b[0mparams\u001b[0m\u001b[0;34m,\u001b[0m\u001b[0;34m\u001b[0m\u001b[0;34m\u001b[0m\u001b[0m\n\u001b[1;32m   1712\u001b[0m                 \u001b[0mallow_clear_pool\u001b[0m\u001b[0;34m,\u001b[0m\u001b[0;34m\u001b[0m\u001b[0;34m\u001b[0m\u001b[0m\n\u001b[0;32m-> 1713\u001b[0;31m                 \u001b[0mtrain_params\u001b[0m\u001b[0;34m[\u001b[0m\u001b[0;34m\"init_model\"\u001b[0m\u001b[0;34m]\u001b[0m\u001b[0;34m\u001b[0m\u001b[0;34m\u001b[0m\u001b[0m\n\u001b[0m\u001b[1;32m   1714\u001b[0m             )\n\u001b[1;32m   1715\u001b[0m \u001b[0;34m\u001b[0m\u001b[0m\n",
      "\u001b[0;32m~/anaconda3/lib/python3.7/site-packages/catboost/core.py\u001b[0m in \u001b[0;36m_train\u001b[0;34m(self, train_pool, test_pool, params, allow_clear_pool, init_model)\u001b[0m\n\u001b[1;32m   1227\u001b[0m \u001b[0;34m\u001b[0m\u001b[0m\n\u001b[1;32m   1228\u001b[0m     \u001b[0;32mdef\u001b[0m \u001b[0m_train\u001b[0m\u001b[0;34m(\u001b[0m\u001b[0mself\u001b[0m\u001b[0;34m,\u001b[0m \u001b[0mtrain_pool\u001b[0m\u001b[0;34m,\u001b[0m \u001b[0mtest_pool\u001b[0m\u001b[0;34m,\u001b[0m \u001b[0mparams\u001b[0m\u001b[0;34m,\u001b[0m \u001b[0mallow_clear_pool\u001b[0m\u001b[0;34m,\u001b[0m \u001b[0minit_model\u001b[0m\u001b[0;34m)\u001b[0m\u001b[0;34m:\u001b[0m\u001b[0;34m\u001b[0m\u001b[0;34m\u001b[0m\u001b[0m\n\u001b[0;32m-> 1229\u001b[0;31m         \u001b[0mself\u001b[0m\u001b[0;34m.\u001b[0m\u001b[0m_object\u001b[0m\u001b[0;34m.\u001b[0m\u001b[0m_train\u001b[0m\u001b[0;34m(\u001b[0m\u001b[0mtrain_pool\u001b[0m\u001b[0;34m,\u001b[0m \u001b[0mtest_pool\u001b[0m\u001b[0;34m,\u001b[0m \u001b[0mparams\u001b[0m\u001b[0;34m,\u001b[0m \u001b[0mallow_clear_pool\u001b[0m\u001b[0;34m,\u001b[0m \u001b[0minit_model\u001b[0m\u001b[0;34m.\u001b[0m\u001b[0m_object\u001b[0m \u001b[0;32mif\u001b[0m \u001b[0minit_model\u001b[0m \u001b[0;32melse\u001b[0m \u001b[0;32mNone\u001b[0m\u001b[0;34m)\u001b[0m\u001b[0;34m\u001b[0m\u001b[0;34m\u001b[0m\u001b[0m\n\u001b[0m\u001b[1;32m   1230\u001b[0m         \u001b[0mself\u001b[0m\u001b[0;34m.\u001b[0m\u001b[0m_set_trained_model_attributes\u001b[0m\u001b[0;34m(\u001b[0m\u001b[0;34m)\u001b[0m\u001b[0;34m\u001b[0m\u001b[0;34m\u001b[0m\u001b[0m\n\u001b[1;32m   1231\u001b[0m \u001b[0;34m\u001b[0m\u001b[0m\n",
      "\u001b[0;32m_catboost.pyx\u001b[0m in \u001b[0;36m_catboost._CatBoost._train\u001b[0;34m()\u001b[0m\n",
      "\u001b[0;32m_catboost.pyx\u001b[0m in \u001b[0;36m_catboost._CatBoost._train\u001b[0;34m()\u001b[0m\n",
      "\u001b[0;31mKeyboardInterrupt\u001b[0m: "
     ]
    }
   ],
   "source": [
    "for a in range(10):\n",
    "    print(a)\n",
    "    r = model.fit(train_data, \n",
    "#                   eval_set=val_data, \n",
    "                  verbose=False,plot=False, init_model=model)\n",
    "    df.loc[df['phase']==6, 'fscore'] = model.predict_proba(val_data)[:, 1]\n",
    "\n",
    "    df.loc[df['phase']==6, 'frank'] = df.loc[df['phase']==6].groupby('user_id')['fscore'].rank(method='first', ascending=False)\n",
    "\n",
    "    r = val1(df.loc[(df['phase']==6)&(df['frank']<101)], 100, all_click_df[6][1])"
   ]
  },
  {
   "cell_type": "code",
   "execution_count": 36,
   "metadata": {
    "scrolled": true
   },
   "outputs": [
    {
     "name": "stdout",
     "output_type": "stream",
     "text": [
      "0\n"
     ]
    },
    {
     "name": "stderr",
     "output_type": "stream",
     "text": [
      "2020-05-28 11:27:10.489 | INFO     | __main__:val1:24 - recall50:0.1685886875343218\n",
      "2020-05-28 11:27:10.492 | INFO     | __main__:val1:24 - recall100:0.2086765513454146\n"
     ]
    },
    {
     "name": "stdout",
     "output_type": "stream",
     "text": [
      "1\n"
     ]
    },
    {
     "name": "stderr",
     "output_type": "stream",
     "text": [
      "2020-05-28 11:28:16.959 | INFO     | __main__:val1:24 - recall50:0.16749038989566173\n",
      "2020-05-28 11:28:16.962 | INFO     | __main__:val1:24 - recall100:0.20593080724876442\n"
     ]
    },
    {
     "name": "stdout",
     "output_type": "stream",
     "text": [
      "2\n"
     ]
    },
    {
     "name": "stderr",
     "output_type": "stream",
     "text": [
      "2020-05-28 11:29:30.797 | INFO     | __main__:val1:24 - recall50:0.16639209225700163\n",
      "2020-05-28 11:29:30.800 | INFO     | __main__:val1:24 - recall100:0.20373421197144426\n"
     ]
    },
    {
     "name": "stdout",
     "output_type": "stream",
     "text": [
      "3\n"
     ]
    },
    {
     "name": "stderr",
     "output_type": "stream",
     "text": [
      "2020-05-28 11:30:44.796 | INFO     | __main__:val1:24 - recall50:0.16694124107633168\n",
      "2020-05-28 11:30:44.799 | INFO     | __main__:val1:24 - recall100:0.20483250961010435\n"
     ]
    },
    {
     "name": "stdout",
     "output_type": "stream",
     "text": [
      "4\n"
     ]
    },
    {
     "name": "stderr",
     "output_type": "stream",
     "text": [
      "2020-05-28 11:31:56.103 | INFO     | __main__:val1:24 - recall50:0.16694124107633168\n",
      "2020-05-28 11:31:56.105 | INFO     | __main__:val1:24 - recall100:0.20593080724876442\n"
     ]
    },
    {
     "name": "stdout",
     "output_type": "stream",
     "text": [
      "5\n"
     ]
    },
    {
     "name": "stderr",
     "output_type": "stream",
     "text": [
      "2020-05-28 11:33:01.188 | INFO     | __main__:val1:24 - recall50:0.16749038989566173\n",
      "2020-05-28 11:33:01.189 | INFO     | __main__:val1:24 - recall100:0.20647995606809447\n"
     ]
    },
    {
     "name": "stdout",
     "output_type": "stream",
     "text": [
      "6\n"
     ]
    },
    {
     "name": "stderr",
     "output_type": "stream",
     "text": [
      "2020-05-28 11:34:09.125 | INFO     | __main__:val1:24 - recall50:0.16749038989566173\n",
      "2020-05-28 11:34:09.126 | INFO     | __main__:val1:24 - recall100:0.20538165842943437\n"
     ]
    },
    {
     "name": "stdout",
     "output_type": "stream",
     "text": [
      "7\n"
     ]
    },
    {
     "name": "stderr",
     "output_type": "stream",
     "text": [
      "2020-05-28 11:35:16.526 | INFO     | __main__:val1:24 - recall50:0.16694124107633168\n",
      "2020-05-28 11:35:16.528 | INFO     | __main__:val1:24 - recall100:0.20538165842943437\n"
     ]
    },
    {
     "name": "stdout",
     "output_type": "stream",
     "text": [
      "8\n"
     ]
    },
    {
     "name": "stderr",
     "output_type": "stream",
     "text": [
      "2020-05-28 11:36:25.212 | INFO     | __main__:val1:24 - recall50:0.16694124107633168\n",
      "2020-05-28 11:36:25.214 | INFO     | __main__:val1:24 - recall100:0.20483250961010435\n"
     ]
    },
    {
     "name": "stdout",
     "output_type": "stream",
     "text": [
      "9\n"
     ]
    },
    {
     "ename": "KeyboardInterrupt",
     "evalue": "",
     "output_type": "error",
     "traceback": [
      "\u001b[0;31m---------------------------------------------------------------------------\u001b[0m",
      "\u001b[0;31mKeyboardInterrupt\u001b[0m                         Traceback (most recent call last)",
      "\u001b[0;32m<ipython-input-36-c08fc005e1ca>\u001b[0m in \u001b[0;36m<module>\u001b[0;34m\u001b[0m\n\u001b[1;32m      3\u001b[0m     r = model.fit(train_data, \n\u001b[1;32m      4\u001b[0m \u001b[0;31m#                   eval_set=val_data,\u001b[0m\u001b[0;34m\u001b[0m\u001b[0;34m\u001b[0m\u001b[0;34m\u001b[0m\u001b[0m\n\u001b[0;32m----> 5\u001b[0;31m                   verbose=False,plot=False, init_model=model)\n\u001b[0m\u001b[1;32m      6\u001b[0m     \u001b[0mdf\u001b[0m\u001b[0;34m.\u001b[0m\u001b[0mloc\u001b[0m\u001b[0;34m[\u001b[0m\u001b[0mdf\u001b[0m\u001b[0;34m[\u001b[0m\u001b[0;34m'phase'\u001b[0m\u001b[0;34m]\u001b[0m\u001b[0;34m==\u001b[0m\u001b[0;36m6\u001b[0m\u001b[0;34m,\u001b[0m \u001b[0;34m'fscore'\u001b[0m\u001b[0;34m]\u001b[0m \u001b[0;34m=\u001b[0m \u001b[0mmodel\u001b[0m\u001b[0;34m.\u001b[0m\u001b[0mpredict_proba\u001b[0m\u001b[0;34m(\u001b[0m\u001b[0mval_data\u001b[0m\u001b[0;34m)\u001b[0m\u001b[0;34m[\u001b[0m\u001b[0;34m:\u001b[0m\u001b[0;34m,\u001b[0m \u001b[0;36m1\u001b[0m\u001b[0;34m]\u001b[0m\u001b[0;34m\u001b[0m\u001b[0;34m\u001b[0m\u001b[0m\n\u001b[1;32m      7\u001b[0m \u001b[0;34m\u001b[0m\u001b[0m\n",
      "\u001b[0;32m~/anaconda3/lib/python3.7/site-packages/catboost/core.py\u001b[0m in \u001b[0;36mfit\u001b[0;34m(self, X, y, cat_features, text_features, sample_weight, baseline, use_best_model, eval_set, verbose, logging_level, plot, column_description, verbose_eval, metric_period, silent, early_stopping_rounds, save_snapshot, snapshot_file, snapshot_interval, init_model)\u001b[0m\n\u001b[1;32m   3957\u001b[0m         self._fit(X, y, cat_features, text_features, None, sample_weight, None, None, None, None, baseline, use_best_model,\n\u001b[1;32m   3958\u001b[0m                   \u001b[0meval_set\u001b[0m\u001b[0;34m,\u001b[0m \u001b[0mverbose\u001b[0m\u001b[0;34m,\u001b[0m \u001b[0mlogging_level\u001b[0m\u001b[0;34m,\u001b[0m \u001b[0mplot\u001b[0m\u001b[0;34m,\u001b[0m \u001b[0mcolumn_description\u001b[0m\u001b[0;34m,\u001b[0m \u001b[0mverbose_eval\u001b[0m\u001b[0;34m,\u001b[0m \u001b[0mmetric_period\u001b[0m\u001b[0;34m,\u001b[0m\u001b[0;34m\u001b[0m\u001b[0;34m\u001b[0m\u001b[0m\n\u001b[0;32m-> 3959\u001b[0;31m                   silent, early_stopping_rounds, save_snapshot, snapshot_file, snapshot_interval, init_model)\n\u001b[0m\u001b[1;32m   3960\u001b[0m         \u001b[0;32mreturn\u001b[0m \u001b[0mself\u001b[0m\u001b[0;34m\u001b[0m\u001b[0;34m\u001b[0m\u001b[0m\n\u001b[1;32m   3961\u001b[0m \u001b[0;34m\u001b[0m\u001b[0m\n",
      "\u001b[0;32m~/anaconda3/lib/python3.7/site-packages/catboost/core.py\u001b[0m in \u001b[0;36m_fit\u001b[0;34m(self, X, y, cat_features, text_features, pairs, sample_weight, group_id, group_weight, subgroup_id, pairs_weight, baseline, use_best_model, eval_set, verbose, logging_level, plot, column_description, verbose_eval, metric_period, silent, early_stopping_rounds, save_snapshot, snapshot_file, snapshot_interval, init_model)\u001b[0m\n\u001b[1;32m   1711\u001b[0m                 \u001b[0mparams\u001b[0m\u001b[0;34m,\u001b[0m\u001b[0;34m\u001b[0m\u001b[0;34m\u001b[0m\u001b[0m\n\u001b[1;32m   1712\u001b[0m                 \u001b[0mallow_clear_pool\u001b[0m\u001b[0;34m,\u001b[0m\u001b[0;34m\u001b[0m\u001b[0;34m\u001b[0m\u001b[0m\n\u001b[0;32m-> 1713\u001b[0;31m                 \u001b[0mtrain_params\u001b[0m\u001b[0;34m[\u001b[0m\u001b[0;34m\"init_model\"\u001b[0m\u001b[0;34m]\u001b[0m\u001b[0;34m\u001b[0m\u001b[0;34m\u001b[0m\u001b[0m\n\u001b[0m\u001b[1;32m   1714\u001b[0m             )\n\u001b[1;32m   1715\u001b[0m \u001b[0;34m\u001b[0m\u001b[0m\n",
      "\u001b[0;32m~/anaconda3/lib/python3.7/site-packages/catboost/core.py\u001b[0m in \u001b[0;36m_train\u001b[0;34m(self, train_pool, test_pool, params, allow_clear_pool, init_model)\u001b[0m\n\u001b[1;32m   1227\u001b[0m \u001b[0;34m\u001b[0m\u001b[0m\n\u001b[1;32m   1228\u001b[0m     \u001b[0;32mdef\u001b[0m \u001b[0m_train\u001b[0m\u001b[0;34m(\u001b[0m\u001b[0mself\u001b[0m\u001b[0;34m,\u001b[0m \u001b[0mtrain_pool\u001b[0m\u001b[0;34m,\u001b[0m \u001b[0mtest_pool\u001b[0m\u001b[0;34m,\u001b[0m \u001b[0mparams\u001b[0m\u001b[0;34m,\u001b[0m \u001b[0mallow_clear_pool\u001b[0m\u001b[0;34m,\u001b[0m \u001b[0minit_model\u001b[0m\u001b[0;34m)\u001b[0m\u001b[0;34m:\u001b[0m\u001b[0;34m\u001b[0m\u001b[0;34m\u001b[0m\u001b[0m\n\u001b[0;32m-> 1229\u001b[0;31m         \u001b[0mself\u001b[0m\u001b[0;34m.\u001b[0m\u001b[0m_object\u001b[0m\u001b[0;34m.\u001b[0m\u001b[0m_train\u001b[0m\u001b[0;34m(\u001b[0m\u001b[0mtrain_pool\u001b[0m\u001b[0;34m,\u001b[0m \u001b[0mtest_pool\u001b[0m\u001b[0;34m,\u001b[0m \u001b[0mparams\u001b[0m\u001b[0;34m,\u001b[0m \u001b[0mallow_clear_pool\u001b[0m\u001b[0;34m,\u001b[0m \u001b[0minit_model\u001b[0m\u001b[0;34m.\u001b[0m\u001b[0m_object\u001b[0m \u001b[0;32mif\u001b[0m \u001b[0minit_model\u001b[0m \u001b[0;32melse\u001b[0m \u001b[0;32mNone\u001b[0m\u001b[0;34m)\u001b[0m\u001b[0;34m\u001b[0m\u001b[0;34m\u001b[0m\u001b[0m\n\u001b[0m\u001b[1;32m   1230\u001b[0m         \u001b[0mself\u001b[0m\u001b[0;34m.\u001b[0m\u001b[0m_set_trained_model_attributes\u001b[0m\u001b[0;34m(\u001b[0m\u001b[0;34m)\u001b[0m\u001b[0;34m\u001b[0m\u001b[0;34m\u001b[0m\u001b[0m\n\u001b[1;32m   1231\u001b[0m \u001b[0;34m\u001b[0m\u001b[0m\n",
      "\u001b[0;32m_catboost.pyx\u001b[0m in \u001b[0;36m_catboost._CatBoost._train\u001b[0;34m()\u001b[0m\n",
      "\u001b[0;32m_catboost.pyx\u001b[0m in \u001b[0;36m_catboost._CatBoost._train\u001b[0;34m()\u001b[0m\n",
      "\u001b[0;31mKeyboardInterrupt\u001b[0m: "
     ]
    }
   ],
   "source": [
    "for a in range(10):\n",
    "    print(a)\n",
    "    r = model.fit(train_data, \n",
    "#                   eval_set=val_data, \n",
    "                  verbose=False,plot=False, init_model=model)\n",
    "    df.loc[df['phase']==6, 'fscore'] = model.predict_proba(val_data)[:, 1]\n",
    "\n",
    "    df.loc[df['phase']==6, 'frank'] = df.loc[df['phase']==6].groupby('user_id')['fscore'].rank(method='first', ascending=False)\n",
    "\n",
    "    r = val1(df.loc[(df['phase']==6)&(df['frank']<101)], 100, all_click_df[6][1])"
   ]
  },
  {
   "cell_type": "markdown",
   "metadata": {},
   "source": [
    "# predict"
   ]
  },
  {
   "cell_type": "code",
   "execution_count": 12,
   "metadata": {},
   "outputs": [
    {
     "name": "stderr",
     "output_type": "stream",
     "text": [
      "/Users/luoyonggui/PycharmProjects/myappsexlib/a_0330_0527_Modern_E_Commerce_Platform_Debiasing/code/eda.py:32: ParserWarning: Falling back to the 'python' engine because the 'c' engine does not support regex separators (separators > 1 char and different from '\\s+' are interpreted as regex); you can avoid this warning by specifying engine='python'.\n",
      "  converters={'item_id':str})\n"
     ]
    }
   ],
   "source": [
    "item_feat = get_item_data()\n",
    "\n",
    "item_feat['text_vec'] = item_feat.iloc[:, 1:129].values.tolist()\n",
    "item_feat['img_vec'] = item_feat.iloc[:, 129:257].values.tolist()\n",
    "\n",
    "item_feat['text_vec'] = item_feat['text_vec'].map(np.array)\n",
    "\n",
    "item_feat['img_vec'] = item_feat['img_vec'].map(np.array)\n",
    "\n",
    "item_feat.set_index('item_id', inplace=True)"
   ]
  },
  {
   "cell_type": "code",
   "execution_count": 5,
   "metadata": {},
   "outputs": [],
   "source": [
    "r_itemcf = PickleWrapper.loadFromFile(os.path.join(args.DATA_DIR, 'data_gen/r_list_itemcf_test_0527.pkl'))\n",
    "\n",
    "r_binn = PickleWrapper.loadFromFile(os.path.join(args.DATA_DIR, 'data_gen/r_list_binn_test_0527.pkl'))\n",
    "\n",
    "r_itemcf_yl = PickleWrapper.loadFromFile(os.path.join(args.DATA_DIR, 'data_gen/r_list_itemcf_yulao_test_0527.pkl'))\n"
   ]
  },
  {
   "cell_type": "code",
   "execution_count": 6,
   "metadata": {},
   "outputs": [],
   "source": [
    "phase = [0, 1, 2, 3, 4, 5, 6]\n",
    "match_num = 500\n",
    "\n",
    "df = data_preporcess([r_itemcf, r_binn, r_itemcf_yl], match_num, phase)\n",
    "df = fe(df)\n",
    "train_data, val_data, cat_cols = get_model_input(df)\n",
    "model = get_model(train_data, val_data, cat_cols)"
   ]
  },
  {
   "cell_type": "code",
   "execution_count": 19,
   "metadata": {},
   "outputs": [
    {
     "data": {
      "text/plain": [
       "{'14997'}"
      ]
     },
     "execution_count": 19,
     "metadata": {},
     "output_type": "execute_result"
    }
   ],
   "source": [
    "# set(df.user_id)-set(dft.user_id) # {'14997'}"
   ]
  },
  {
   "cell_type": "code",
   "execution_count": 26,
   "metadata": {},
   "outputs": [],
   "source": [
    "test_data, cat_cols = get_model_input(df, mode='predict')"
   ]
  },
  {
   "cell_type": "code",
   "execution_count": 27,
   "metadata": {},
   "outputs": [],
   "source": [
    "from catboost import Pool, CatBoostClassifier"
   ]
  },
  {
   "cell_type": "code",
   "execution_count": 29,
   "metadata": {},
   "outputs": [
    {
     "data": {
      "text/plain": [
       "<catboost.core.CatBoostClassifier at 0x30ca9a358>"
      ]
     },
     "execution_count": 29,
     "metadata": {},
     "output_type": "execute_result"
    }
   ],
   "source": [
    "model = CatBoostClassifier()\n",
    "model.load_model(os.path.join(args.DATA_DIR, 'data_gen/catboost_model500_feat_last12345.dump'))"
   ]
  },
  {
   "cell_type": "code",
   "execution_count": 30,
   "metadata": {},
   "outputs": [],
   "source": [
    "df.loc[:, 'fscore'] = model.predict_proba(val_data)[:, 1]"
   ]
  },
  {
   "cell_type": "code",
   "execution_count": 31,
   "metadata": {},
   "outputs": [],
   "source": [
    "df.loc[:, 'frank'] = df.groupby('user_id')['fscore'].rank(method='first', ascending=False)"
   ]
  },
  {
   "cell_type": "code",
   "execution_count": 32,
   "metadata": {},
   "outputs": [
    {
     "data": {
      "text/html": [
       "<div>\n",
       "<style scoped>\n",
       "    .dataframe tbody tr th:only-of-type {\n",
       "        vertical-align: middle;\n",
       "    }\n",
       "\n",
       "    .dataframe tbody tr th {\n",
       "        vertical-align: top;\n",
       "    }\n",
       "\n",
       "    .dataframe thead th {\n",
       "        text-align: right;\n",
       "    }\n",
       "</style>\n",
       "<table border=\"1\" class=\"dataframe\">\n",
       "  <thead>\n",
       "    <tr style=\"text-align: right;\">\n",
       "      <th></th>\n",
       "      <th>user_id</th>\n",
       "      <th>item_id_pred</th>\n",
       "      <th>score_x</th>\n",
       "      <th>rank_x</th>\n",
       "      <th>phase</th>\n",
       "      <th>score_y</th>\n",
       "      <th>rank_y</th>\n",
       "      <th>score</th>\n",
       "      <th>rank</th>\n",
       "      <th>rank1_sub_rank2</th>\n",
       "      <th>rank1_add_rank2</th>\n",
       "      <th>rank1_mul_rank2</th>\n",
       "      <th>rank1_sub_rank3</th>\n",
       "      <th>rank1_add_rank3</th>\n",
       "      <th>rank1_mul_rank3</th>\n",
       "      <th>rank2_sub_rank3</th>\n",
       "      <th>rank2_add_rank3</th>\n",
       "      <th>rank2_mul_rank3</th>\n",
       "      <th>score1_sub_score2</th>\n",
       "      <th>score1_add_score2</th>\n",
       "      <th>score1_mul_score2</th>\n",
       "      <th>score1_sub_score3</th>\n",
       "      <th>score1_add_score3</th>\n",
       "      <th>score1_mul_score3</th>\n",
       "      <th>score2_sub_score3</th>\n",
       "      <th>score2_add_score3</th>\n",
       "      <th>score2_mul_score3</th>\n",
       "      <th>item_cnt</th>\n",
       "      <th>item_id</th>\n",
       "      <th>last_1</th>\n",
       "      <th>last_2</th>\n",
       "      <th>last_3</th>\n",
       "      <th>item_id_pred_text_vec</th>\n",
       "      <th>item_id_pred_img_vec</th>\n",
       "      <th>last_1_text_vec</th>\n",
       "      <th>last_1_img_vec</th>\n",
       "      <th>last_2_text_vec</th>\n",
       "      <th>last_2_img_vec</th>\n",
       "      <th>last_3_text_vec</th>\n",
       "      <th>last_3_img_vec</th>\n",
       "      <th>sim1_text</th>\n",
       "      <th>sim1_img</th>\n",
       "      <th>sim2_text</th>\n",
       "      <th>sim2_img</th>\n",
       "      <th>sim3_text</th>\n",
       "      <th>sim3_img</th>\n",
       "      <th>sim1_text_img</th>\n",
       "      <th>sim2_text_img</th>\n",
       "      <th>sim3_text_img</th>\n",
       "      <th>sim12_text</th>\n",
       "      <th>sim123_text</th>\n",
       "      <th>sim12_img</th>\n",
       "      <th>sim123_img</th>\n",
       "      <th>sim12_text_img</th>\n",
       "      <th>sim123_text_img</th>\n",
       "      <th>fscore</th>\n",
       "      <th>frank</th>\n",
       "    </tr>\n",
       "  </thead>\n",
       "  <tbody>\n",
       "    <tr>\n",
       "      <th>0</th>\n",
       "      <td>11</td>\n",
       "      <td>10528</td>\n",
       "      <td>9.343545</td>\n",
       "      <td>1.0</td>\n",
       "      <td>0</td>\n",
       "      <td>0.749194</td>\n",
       "      <td>21.0</td>\n",
       "      <td>0.110274</td>\n",
       "      <td>2.0</td>\n",
       "      <td>-20.0</td>\n",
       "      <td>22.0</td>\n",
       "      <td>21.0</td>\n",
       "      <td>-1.0</td>\n",
       "      <td>3.0</td>\n",
       "      <td>2.0</td>\n",
       "      <td>19.0</td>\n",
       "      <td>23.0</td>\n",
       "      <td>42.0</td>\n",
       "      <td>8.594351</td>\n",
       "      <td>10.092739</td>\n",
       "      <td>7.000128</td>\n",
       "      <td>9.233271</td>\n",
       "      <td>9.453819</td>\n",
       "      <td>1.030350</td>\n",
       "      <td>0.638920</td>\n",
       "      <td>0.859468</td>\n",
       "      <td>0.082617</td>\n",
       "      <td>7.0</td>\n",
       "      <td>[88058, 66082, 29755, 78804, 43074, 75757, 233...</td>\n",
       "      <td>28210</td>\n",
       "      <td>64689</td>\n",
       "      <td>20317</td>\n",
       "      <td>[3.5714921951293945, -3.301568031311035, -1.44...</td>\n",
       "      <td>[-2.7678756713867188, -0.804641842842102, -2.3...</td>\n",
       "      <td>[3.5714921951293945, -3.301568031311035, -1.44...</td>\n",
       "      <td>[-2.7678756713867188, -0.804641842842102, -2.3...</td>\n",
       "      <td>[3.5714921951293945, -3.301568031311035, -1.44...</td>\n",
       "      <td>[-2.7678756713867188, -0.804641842842102, -2.3...</td>\n",
       "      <td>[3.5714921951293945, -3.301568031311035, -1.44...</td>\n",
       "      <td>[-2.7678756713867188, -0.804641842842102, -2.3...</td>\n",
       "      <td>927.854410</td>\n",
       "      <td>776.236688</td>\n",
       "      <td>927.854410</td>\n",
       "      <td>776.236688</td>\n",
       "      <td>927.854410</td>\n",
       "      <td>776.236688</td>\n",
       "      <td>720234.634356</td>\n",
       "      <td>720234.634356</td>\n",
       "      <td>720234.634356</td>\n",
       "      <td>1855.708819</td>\n",
       "      <td>2783.563229</td>\n",
       "      <td>1.552473e+03</td>\n",
       "      <td>2.328710e+03</td>\n",
       "      <td>1.440469e+06</td>\n",
       "      <td>2.160704e+06</td>\n",
       "      <td>0.310339</td>\n",
       "      <td>1.0</td>\n",
       "    </tr>\n",
       "    <tr>\n",
       "      <th>1</th>\n",
       "      <td>11</td>\n",
       "      <td>79868</td>\n",
       "      <td>6.949118</td>\n",
       "      <td>2.0</td>\n",
       "      <td>0</td>\n",
       "      <td>2.023002</td>\n",
       "      <td>1.0</td>\n",
       "      <td>0.007360</td>\n",
       "      <td>322.0</td>\n",
       "      <td>1.0</td>\n",
       "      <td>3.0</td>\n",
       "      <td>2.0</td>\n",
       "      <td>-320.0</td>\n",
       "      <td>324.0</td>\n",
       "      <td>644.0</td>\n",
       "      <td>-321.0</td>\n",
       "      <td>323.0</td>\n",
       "      <td>322.0</td>\n",
       "      <td>4.926116</td>\n",
       "      <td>8.972120</td>\n",
       "      <td>14.058081</td>\n",
       "      <td>6.941758</td>\n",
       "      <td>6.956478</td>\n",
       "      <td>0.051147</td>\n",
       "      <td>2.015642</td>\n",
       "      <td>2.030362</td>\n",
       "      <td>0.014890</td>\n",
       "      <td>47.0</td>\n",
       "      <td>[88058, 66082, 29755, 78804, 43074, 75757, 233...</td>\n",
       "      <td>28210</td>\n",
       "      <td>64689</td>\n",
       "      <td>20317</td>\n",
       "      <td>[2.3873836994171143, 1.274107813835144, 0.2217...</td>\n",
       "      <td>[-2.599696159362793, 1.5488953590393066, -1.48...</td>\n",
       "      <td>[2.3873836994171143, 1.274107813835144, 0.2217...</td>\n",
       "      <td>[-2.599696159362793, 1.5488953590393066, -1.48...</td>\n",
       "      <td>[2.3873836994171143, 1.274107813835144, 0.2217...</td>\n",
       "      <td>[-2.599696159362793, 1.5488953590393066, -1.48...</td>\n",
       "      <td>[2.3873836994171143, 1.274107813835144, 0.2217...</td>\n",
       "      <td>[-2.599696159362793, 1.5488953590393066, -1.48...</td>\n",
       "      <td>644.601963</td>\n",
       "      <td>461.714453</td>\n",
       "      <td>644.601963</td>\n",
       "      <td>461.714453</td>\n",
       "      <td>644.601963</td>\n",
       "      <td>461.714453</td>\n",
       "      <td>297622.042561</td>\n",
       "      <td>297622.042561</td>\n",
       "      <td>297622.042561</td>\n",
       "      <td>1289.203926</td>\n",
       "      <td>1933.805889</td>\n",
       "      <td>9.234289e+02</td>\n",
       "      <td>1.385143e+03</td>\n",
       "      <td>5.952441e+05</td>\n",
       "      <td>8.928661e+05</td>\n",
       "      <td>0.030931</td>\n",
       "      <td>29.0</td>\n",
       "    </tr>\n",
       "    <tr>\n",
       "      <th>2</th>\n",
       "      <td>11</td>\n",
       "      <td>21517</td>\n",
       "      <td>5.841872</td>\n",
       "      <td>3.0</td>\n",
       "      <td>0</td>\n",
       "      <td>0.411440</td>\n",
       "      <td>64.0</td>\n",
       "      <td>0.103648</td>\n",
       "      <td>3.0</td>\n",
       "      <td>-61.0</td>\n",
       "      <td>67.0</td>\n",
       "      <td>192.0</td>\n",
       "      <td>0.0</td>\n",
       "      <td>6.0</td>\n",
       "      <td>9.0</td>\n",
       "      <td>61.0</td>\n",
       "      <td>67.0</td>\n",
       "      <td>192.0</td>\n",
       "      <td>5.430432</td>\n",
       "      <td>6.253312</td>\n",
       "      <td>2.403579</td>\n",
       "      <td>5.738224</td>\n",
       "      <td>5.945520</td>\n",
       "      <td>0.605499</td>\n",
       "      <td>0.307792</td>\n",
       "      <td>0.515088</td>\n",
       "      <td>0.042645</td>\n",
       "      <td>9.0</td>\n",
       "      <td>[88058, 66082, 29755, 78804, 43074, 75757, 233...</td>\n",
       "      <td>28210</td>\n",
       "      <td>64689</td>\n",
       "      <td>20317</td>\n",
       "      <td>[0.0, 0.0, 0.0, 0.0, 0.0, 0.0, 0.0, 0.0, 0.0, ...</td>\n",
       "      <td>[0, 1, 2, 3, 4, 5, 6, 7, 8, 9, 10, 11, 12, 13,...</td>\n",
       "      <td>[0.0, 0.0, 0.0, 0.0, 0.0, 0.0, 0.0, 0.0, 0.0, ...</td>\n",
       "      <td>[0, 1, 2, 3, 4, 5, 6, 7, 8, 9, 10, 11, 12, 13,...</td>\n",
       "      <td>[0.0, 0.0, 0.0, 0.0, 0.0, 0.0, 0.0, 0.0, 0.0, ...</td>\n",
       "      <td>[0, 1, 2, 3, 4, 5, 6, 7, 8, 9, 10, 11, 12, 13,...</td>\n",
       "      <td>[0.0, 0.0, 0.0, 0.0, 0.0, 0.0, 0.0, 0.0, 0.0, ...</td>\n",
       "      <td>[0, 1, 2, 3, 4, 5, 6, 7, 8, 9, 10, 11, 12, 13,...</td>\n",
       "      <td>0.000000</td>\n",
       "      <td>690880.000000</td>\n",
       "      <td>0.000000</td>\n",
       "      <td>690880.000000</td>\n",
       "      <td>0.000000</td>\n",
       "      <td>690880.000000</td>\n",
       "      <td>0.000000</td>\n",
       "      <td>0.000000</td>\n",
       "      <td>0.000000</td>\n",
       "      <td>0.000000</td>\n",
       "      <td>0.000000</td>\n",
       "      <td>1.381760e+06</td>\n",
       "      <td>2.072640e+06</td>\n",
       "      <td>0.000000e+00</td>\n",
       "      <td>0.000000e+00</td>\n",
       "      <td>0.041870</td>\n",
       "      <td>16.0</td>\n",
       "    </tr>\n",
       "    <tr>\n",
       "      <th>3</th>\n",
       "      <td>11</td>\n",
       "      <td>15844</td>\n",
       "      <td>5.702357</td>\n",
       "      <td>4.0</td>\n",
       "      <td>0</td>\n",
       "      <td>0.326349</td>\n",
       "      <td>90.0</td>\n",
       "      <td>0.060826</td>\n",
       "      <td>19.0</td>\n",
       "      <td>-86.0</td>\n",
       "      <td>94.0</td>\n",
       "      <td>360.0</td>\n",
       "      <td>-15.0</td>\n",
       "      <td>23.0</td>\n",
       "      <td>76.0</td>\n",
       "      <td>71.0</td>\n",
       "      <td>109.0</td>\n",
       "      <td>1710.0</td>\n",
       "      <td>5.376008</td>\n",
       "      <td>6.028706</td>\n",
       "      <td>1.860959</td>\n",
       "      <td>5.641531</td>\n",
       "      <td>5.763183</td>\n",
       "      <td>0.346851</td>\n",
       "      <td>0.265523</td>\n",
       "      <td>0.387175</td>\n",
       "      <td>0.019850</td>\n",
       "      <td>5.0</td>\n",
       "      <td>[88058, 66082, 29755, 78804, 43074, 75757, 233...</td>\n",
       "      <td>28210</td>\n",
       "      <td>64689</td>\n",
       "      <td>20317</td>\n",
       "      <td>[3.9976482391357417, 1.0751028060913086, 0.722...</td>\n",
       "      <td>[-1.5042964220046997, -1.333038091659546, 0.13...</td>\n",
       "      <td>[3.9976482391357417, 1.0751028060913086, 0.722...</td>\n",
       "      <td>[-1.5042964220046997, -1.333038091659546, 0.13...</td>\n",
       "      <td>[3.9976482391357417, 1.0751028060913086, 0.722...</td>\n",
       "      <td>[-1.5042964220046997, -1.333038091659546, 0.13...</td>\n",
       "      <td>[3.9976482391357417, 1.0751028060913086, 0.722...</td>\n",
       "      <td>[-1.5042964220046997, -1.333038091659546, 0.13...</td>\n",
       "      <td>692.266290</td>\n",
       "      <td>515.405634</td>\n",
       "      <td>692.266290</td>\n",
       "      <td>515.405634</td>\n",
       "      <td>692.266290</td>\n",
       "      <td>515.405634</td>\n",
       "      <td>356797.945641</td>\n",
       "      <td>356797.945641</td>\n",
       "      <td>356797.945641</td>\n",
       "      <td>1384.532579</td>\n",
       "      <td>2076.798869</td>\n",
       "      <td>1.030811e+03</td>\n",
       "      <td>1.546217e+03</td>\n",
       "      <td>7.135959e+05</td>\n",
       "      <td>1.070394e+06</td>\n",
       "      <td>0.045093</td>\n",
       "      <td>15.0</td>\n",
       "    </tr>\n",
       "    <tr>\n",
       "      <th>4</th>\n",
       "      <td>11</td>\n",
       "      <td>113564</td>\n",
       "      <td>5.472564</td>\n",
       "      <td>5.0</td>\n",
       "      <td>0</td>\n",
       "      <td>0.386057</td>\n",
       "      <td>67.0</td>\n",
       "      <td>0.095310</td>\n",
       "      <td>5.0</td>\n",
       "      <td>-62.0</td>\n",
       "      <td>72.0</td>\n",
       "      <td>335.0</td>\n",
       "      <td>0.0</td>\n",
       "      <td>10.0</td>\n",
       "      <td>25.0</td>\n",
       "      <td>62.0</td>\n",
       "      <td>72.0</td>\n",
       "      <td>335.0</td>\n",
       "      <td>5.086507</td>\n",
       "      <td>5.858621</td>\n",
       "      <td>2.112722</td>\n",
       "      <td>5.377254</td>\n",
       "      <td>5.567874</td>\n",
       "      <td>0.521591</td>\n",
       "      <td>0.290747</td>\n",
       "      <td>0.481367</td>\n",
       "      <td>0.036795</td>\n",
       "      <td>4.0</td>\n",
       "      <td>[88058, 66082, 29755, 78804, 43074, 75757, 233...</td>\n",
       "      <td>28210</td>\n",
       "      <td>64689</td>\n",
       "      <td>20317</td>\n",
       "      <td>[0.25579115748405457, -1.0630481243133545, 1.9...</td>\n",
       "      <td>[-1.4899662733078003, 3.0152783393859863, 2.34...</td>\n",
       "      <td>[0.25579115748405457, -1.0630481243133545, 1.9...</td>\n",
       "      <td>[-1.4899662733078003, 3.0152783393859863, 2.34...</td>\n",
       "      <td>[0.25579115748405457, -1.0630481243133545, 1.9...</td>\n",
       "      <td>[-1.4899662733078003, 3.0152783393859863, 2.34...</td>\n",
       "      <td>[0.25579115748405457, -1.0630481243133545, 1.9...</td>\n",
       "      <td>[-1.4899662733078003, 3.0152783393859863, 2.34...</td>\n",
       "      <td>366.280237</td>\n",
       "      <td>498.838467</td>\n",
       "      <td>366.280237</td>\n",
       "      <td>498.838467</td>\n",
       "      <td>366.280237</td>\n",
       "      <td>498.838467</td>\n",
       "      <td>182714.671813</td>\n",
       "      <td>182714.671813</td>\n",
       "      <td>182714.671813</td>\n",
       "      <td>732.560473</td>\n",
       "      <td>1098.840710</td>\n",
       "      <td>9.976769e+02</td>\n",
       "      <td>1.496515e+03</td>\n",
       "      <td>3.654293e+05</td>\n",
       "      <td>5.481440e+05</td>\n",
       "      <td>0.041278</td>\n",
       "      <td>17.0</td>\n",
       "    </tr>\n",
       "  </tbody>\n",
       "</table>\n",
       "</div>"
      ],
      "text/plain": [
       "  user_id item_id_pred   score_x  rank_x  phase   score_y  rank_y     score   rank  rank1_sub_rank2  rank1_add_rank2  rank1_mul_rank2  rank1_sub_rank3  rank1_add_rank3  rank1_mul_rank3  rank2_sub_rank3  rank2_add_rank3  rank2_mul_rank3  score1_sub_score2  score1_add_score2  score1_mul_score2  score1_sub_score3  score1_add_score3  score1_mul_score3  score2_sub_score3  score2_add_score3  score2_mul_score3  item_cnt                                            item_id last_1 last_2 last_3                              item_id_pred_text_vec                               item_id_pred_img_vec                                    last_1_text_vec                                     last_1_img_vec                                    last_2_text_vec                                     last_2_img_vec                                    last_3_text_vec                                     last_3_img_vec   sim1_text       sim1_img   sim2_text       sim2_img   sim3_text       sim3_img  sim1_text_img  sim2_text_img  sim3_text_img   sim12_text  sim123_text     sim12_img    sim123_img  sim12_text_img  sim123_text_img    fscore  frank\n",
       "0      11        10528  9.343545     1.0      0  0.749194    21.0  0.110274    2.0            -20.0             22.0             21.0             -1.0              3.0              2.0             19.0             23.0             42.0           8.594351          10.092739           7.000128           9.233271           9.453819           1.030350           0.638920           0.859468           0.082617       7.0  [88058, 66082, 29755, 78804, 43074, 75757, 233...  28210  64689  20317  [3.5714921951293945, -3.301568031311035, -1.44...  [-2.7678756713867188, -0.804641842842102, -2.3...  [3.5714921951293945, -3.301568031311035, -1.44...  [-2.7678756713867188, -0.804641842842102, -2.3...  [3.5714921951293945, -3.301568031311035, -1.44...  [-2.7678756713867188, -0.804641842842102, -2.3...  [3.5714921951293945, -3.301568031311035, -1.44...  [-2.7678756713867188, -0.804641842842102, -2.3...  927.854410     776.236688  927.854410     776.236688  927.854410     776.236688  720234.634356  720234.634356  720234.634356  1855.708819  2783.563229  1.552473e+03  2.328710e+03    1.440469e+06     2.160704e+06  0.310339    1.0\n",
       "1      11        79868  6.949118     2.0      0  2.023002     1.0  0.007360  322.0              1.0              3.0              2.0           -320.0            324.0            644.0           -321.0            323.0            322.0           4.926116           8.972120          14.058081           6.941758           6.956478           0.051147           2.015642           2.030362           0.014890      47.0  [88058, 66082, 29755, 78804, 43074, 75757, 233...  28210  64689  20317  [2.3873836994171143, 1.274107813835144, 0.2217...  [-2.599696159362793, 1.5488953590393066, -1.48...  [2.3873836994171143, 1.274107813835144, 0.2217...  [-2.599696159362793, 1.5488953590393066, -1.48...  [2.3873836994171143, 1.274107813835144, 0.2217...  [-2.599696159362793, 1.5488953590393066, -1.48...  [2.3873836994171143, 1.274107813835144, 0.2217...  [-2.599696159362793, 1.5488953590393066, -1.48...  644.601963     461.714453  644.601963     461.714453  644.601963     461.714453  297622.042561  297622.042561  297622.042561  1289.203926  1933.805889  9.234289e+02  1.385143e+03    5.952441e+05     8.928661e+05  0.030931   29.0\n",
       "2      11        21517  5.841872     3.0      0  0.411440    64.0  0.103648    3.0            -61.0             67.0            192.0              0.0              6.0              9.0             61.0             67.0            192.0           5.430432           6.253312           2.403579           5.738224           5.945520           0.605499           0.307792           0.515088           0.042645       9.0  [88058, 66082, 29755, 78804, 43074, 75757, 233...  28210  64689  20317  [0.0, 0.0, 0.0, 0.0, 0.0, 0.0, 0.0, 0.0, 0.0, ...  [0, 1, 2, 3, 4, 5, 6, 7, 8, 9, 10, 11, 12, 13,...  [0.0, 0.0, 0.0, 0.0, 0.0, 0.0, 0.0, 0.0, 0.0, ...  [0, 1, 2, 3, 4, 5, 6, 7, 8, 9, 10, 11, 12, 13,...  [0.0, 0.0, 0.0, 0.0, 0.0, 0.0, 0.0, 0.0, 0.0, ...  [0, 1, 2, 3, 4, 5, 6, 7, 8, 9, 10, 11, 12, 13,...  [0.0, 0.0, 0.0, 0.0, 0.0, 0.0, 0.0, 0.0, 0.0, ...  [0, 1, 2, 3, 4, 5, 6, 7, 8, 9, 10, 11, 12, 13,...    0.000000  690880.000000    0.000000  690880.000000    0.000000  690880.000000       0.000000       0.000000       0.000000     0.000000     0.000000  1.381760e+06  2.072640e+06    0.000000e+00     0.000000e+00  0.041870   16.0\n",
       "3      11        15844  5.702357     4.0      0  0.326349    90.0  0.060826   19.0            -86.0             94.0            360.0            -15.0             23.0             76.0             71.0            109.0           1710.0           5.376008           6.028706           1.860959           5.641531           5.763183           0.346851           0.265523           0.387175           0.019850       5.0  [88058, 66082, 29755, 78804, 43074, 75757, 233...  28210  64689  20317  [3.9976482391357417, 1.0751028060913086, 0.722...  [-1.5042964220046997, -1.333038091659546, 0.13...  [3.9976482391357417, 1.0751028060913086, 0.722...  [-1.5042964220046997, -1.333038091659546, 0.13...  [3.9976482391357417, 1.0751028060913086, 0.722...  [-1.5042964220046997, -1.333038091659546, 0.13...  [3.9976482391357417, 1.0751028060913086, 0.722...  [-1.5042964220046997, -1.333038091659546, 0.13...  692.266290     515.405634  692.266290     515.405634  692.266290     515.405634  356797.945641  356797.945641  356797.945641  1384.532579  2076.798869  1.030811e+03  1.546217e+03    7.135959e+05     1.070394e+06  0.045093   15.0\n",
       "4      11       113564  5.472564     5.0      0  0.386057    67.0  0.095310    5.0            -62.0             72.0            335.0              0.0             10.0             25.0             62.0             72.0            335.0           5.086507           5.858621           2.112722           5.377254           5.567874           0.521591           0.290747           0.481367           0.036795       4.0  [88058, 66082, 29755, 78804, 43074, 75757, 233...  28210  64689  20317  [0.25579115748405457, -1.0630481243133545, 1.9...  [-1.4899662733078003, 3.0152783393859863, 2.34...  [0.25579115748405457, -1.0630481243133545, 1.9...  [-1.4899662733078003, 3.0152783393859863, 2.34...  [0.25579115748405457, -1.0630481243133545, 1.9...  [-1.4899662733078003, 3.0152783393859863, 2.34...  [0.25579115748405457, -1.0630481243133545, 1.9...  [-1.4899662733078003, 3.0152783393859863, 2.34...  366.280237     498.838467  366.280237     498.838467  366.280237     498.838467  182714.671813  182714.671813  182714.671813   732.560473  1098.840710  9.976769e+02  1.496515e+03    3.654293e+05     5.481440e+05  0.041278   17.0"
      ]
     },
     "execution_count": 32,
     "metadata": {},
     "output_type": "execute_result"
    }
   ],
   "source": [
    "df.head()"
   ]
  },
  {
   "cell_type": "code",
   "execution_count": 33,
   "metadata": {},
   "outputs": [],
   "source": [
    "df = df.sort_values(['user_id', 'fscore'], ascending=False)"
   ]
  },
  {
   "cell_type": "code",
   "execution_count": 34,
   "metadata": {},
   "outputs": [],
   "source": [
    "sub = df[df.frank<51]"
   ]
  },
  {
   "cell_type": "code",
   "execution_count": 35,
   "metadata": {},
   "outputs": [],
   "source": [
    "sub = sub.groupby('user_id')['item_id_pred'].agg(list)"
   ]
  },
  {
   "cell_type": "code",
   "execution_count": 36,
   "metadata": {},
   "outputs": [
    {
     "data": {
      "text/plain": [
       "user_id\n",
       "1        [32360, 103887, 93601, 87837, 91290, 46297, 10...\n",
       "100      [100089, 27324, 112676, 57797, 17927, 30600, 4...\n",
       "10001    [27822, 45632, 5173, 79132, 69545, 48990, 1098...\n",
       "10002    [92204, 100447, 80136, 68539, 5525, 74285, 870...\n",
       "10003    [91369, 31577, 90074, 10153, 104173, 76521, 39...\n",
       "                               ...                        \n",
       "9989     [111222, 107329, 101475, 107960, 107968, 74774...\n",
       "9991     [7971, 20258, 72872, 19181, 63342, 46897, 4856...\n",
       "9992     [42102, 30935, 46191, 18277, 39725, 101330, 10...\n",
       "9993     [13354, 16139, 62601, 14061, 51985, 80129, 671...\n",
       "9994     [67789, 46996, 39354, 6818, 14347, 8068, 71249...\n",
       "Name: item_id_pred, Length: 12080, dtype: object"
      ]
     },
     "execution_count": 36,
     "metadata": {},
     "output_type": "execute_result"
    }
   ],
   "source": [
    "sub"
   ]
  },
  {
   "cell_type": "code",
   "execution_count": 37,
   "metadata": {},
   "outputs": [],
   "source": [
    "sub1 = pd.DataFrame()\n",
    "\n",
    "for i in range(50):\n",
    "    sub1[f'c{i}'] = sub.str.get(i)\n",
    "\n",
    "sub1.applymap(int).to_csv('/Users/luoyonggui/Downloads/baseline1_itemcf26666.csv', header=False)"
   ]
  },
  {
   "cell_type": "code",
   "execution_count": 95,
   "metadata": {},
   "outputs": [
    {
     "data": {
      "text/plain": [
       "(12081, 50)"
      ]
     },
     "execution_count": 95,
     "metadata": {},
     "output_type": "execute_result"
    }
   ],
   "source": [
    "sub1.shape"
   ]
  },
  {
   "cell_type": "code",
   "execution_count": null,
   "metadata": {},
   "outputs": [],
   "source": []
  }
 ],
 "metadata": {
  "kernelspec": {
   "display_name": "Python 3",
   "language": "python",
   "name": "python3"
  },
  "language_info": {
   "codemirror_mode": {
    "name": "ipython",
    "version": 3
   },
   "file_extension": ".py",
   "mimetype": "text/x-python",
   "name": "python",
   "nbconvert_exporter": "python",
   "pygments_lexer": "ipython3",
   "version": "3.7.3"
  },
  "toc": {
   "base_numbering": 1,
   "nav_menu": {},
   "number_sections": true,
   "sideBar": true,
   "skip_h1_title": false,
   "title_cell": "Table of Contents",
   "title_sidebar": "Contents",
   "toc_cell": false,
   "toc_position": {
    "height": "calc(100% - 180px)",
    "left": "10px",
    "top": "150px",
    "width": "211.6px"
   },
   "toc_section_display": true,
   "toc_window_display": true
  }
 },
 "nbformat": 4,
 "nbformat_minor": 2
}
