{
 "cells": [
  {
   "cell_type": "code",
   "execution_count": 1,
   "metadata": {},
   "outputs": [],
   "source": [
    "# default_exp rank"
   ]
  },
  {
   "cell_type": "code",
   "execution_count": 1,
   "metadata": {},
   "outputs": [],
   "source": [
    "%reload_ext autoreload\n",
    "%autoreload 2\n",
    "\n",
    "%matplotlib inline"
   ]
  },
  {
   "cell_type": "code",
   "execution_count": 2,
   "metadata": {},
   "outputs": [],
   "source": [
    "# export\n",
    "import os\n",
    "import sys\n",
    "sys.path.append('../mylib/')\n",
    "from code.eda import * \n",
    "from code.config import args\n",
    "import pandas as pd  \n",
    "import numpy as np\n",
    "from tqdm import tqdm  \n",
    "from loguru import logger\n",
    "from utils.pickle import PickleWrapper"
   ]
  },
  {
   "cell_type": "code",
   "execution_count": 3,
   "metadata": {},
   "outputs": [],
   "source": [
    "# export\n",
    "trace = logger.add(os.path.join(args.DATA_DIR, 'data_gen/runtime.log'))  "
   ]
  },
  {
   "cell_type": "markdown",
   "metadata": {},
   "source": [
    "# val"
   ]
  },
  {
   "cell_type": "code",
   "execution_count": 4,
   "metadata": {},
   "outputs": [],
   "source": [
    "# export\n",
    "def val1(df, topk, click_val):\n",
    "    \"\"\"\n",
    "    \"\"\"\n",
    "    sr = df.groupby('user_id')['item_id_pred'].agg(list)\n",
    "    r_list = []\n",
    "    pred_num = click_val.shape[0]\n",
    "    for line in click_val.itertuples():\n",
    "        try:\n",
    "            df.loc[df.user_id==line.user_id, 'item_id_true'] = line.item_id\n",
    "            t = sr[line.user_id]\n",
    "            i = t.index(line.item_id)\n",
    "        except:\n",
    "            i = 99999\n",
    "\n",
    "        r_list.append(i)\n",
    "    r_series = pd.Series(r_list)\n",
    "    for i in range(50, topk+1, 50):\n",
    "        logger.info(f'recall{i}:{r_series[r_series<i].shape[0]/pred_num}')\n",
    "        \n",
    "#     r_series[r_series<9999].plot(kind='box', title='pp', rot=45)\n",
    "    return df"
   ]
  },
  {
   "cell_type": "markdown",
   "metadata": {},
   "source": [
    "# load click data"
   ]
  },
  {
   "cell_type": "code",
   "execution_count": 5,
   "metadata": {},
   "outputs": [
    {
     "name": "stderr",
     "output_type": "stream",
     "text": [
      "2020-06-03 05:48:26.279 | INFO     | code.eda:load_click_data_per_phase:97 - phase: 0\n",
      "2020-06-03 05:48:27.446 | INFO     | code.eda:load_click_data_per_phase:108 - all_click: (261337, 3), click_test1_val: (1663, 3), test_qtime1: (1663, 2)\n",
      "2020-06-03 05:48:27.449 | INFO     | code.eda:load_click_data_per_phase:97 - phase: 1\n",
      "2020-06-03 05:48:28.625 | INFO     | code.eda:load_click_data_per_phase:108 - all_click: (264871, 3), click_test1_val: (1726, 3), test_qtime1: (1726, 2)\n",
      "2020-06-03 05:48:28.629 | INFO     | code.eda:load_click_data_per_phase:97 - phase: 2\n",
      "2020-06-03 05:48:29.871 | INFO     | code.eda:load_click_data_per_phase:108 - all_click: (264624, 3), click_test1_val: (1690, 3), test_qtime1: (1690, 2)\n",
      "2020-06-03 05:48:29.873 | INFO     | code.eda:load_click_data_per_phase:97 - phase: 3\n",
      "2020-06-03 05:48:31.024 | INFO     | code.eda:load_click_data_per_phase:108 - all_click: (286609, 3), click_test1_val: (1675, 3), test_qtime1: (1675, 2)\n",
      "2020-06-03 05:48:31.025 | INFO     | code.eda:load_click_data_per_phase:97 - phase: 4\n",
      "2020-06-03 05:48:32.235 | INFO     | code.eda:load_click_data_per_phase:108 - all_click: (291672, 3), click_test1_val: (1708, 3), test_qtime1: (1708, 2)\n",
      "2020-06-03 05:48:32.238 | INFO     | code.eda:load_click_data_per_phase:97 - phase: 5\n",
      "2020-06-03 05:48:33.591 | INFO     | code.eda:load_click_data_per_phase:108 - all_click: (313378, 3), click_test1_val: (1798, 3), test_qtime1: (1798, 2)\n",
      "2020-06-03 05:48:33.593 | INFO     | code.eda:load_click_data_per_phase:97 - phase: 6\n",
      "2020-06-03 05:48:35.078 | INFO     | code.eda:load_click_data_per_phase:108 - all_click: (337339, 3), click_test1_val: (1821, 3), test_qtime1: (1821, 2)\n"
     ]
    }
   ],
   "source": [
    "# export\n",
    "all_click_df = load_click_data_per_phase(args.now_phase, args.DATA_DIR)"
   ]
  },
  {
   "cell_type": "code",
   "execution_count": 6,
   "metadata": {},
   "outputs": [
    {
     "name": "stderr",
     "output_type": "stream",
     "text": [
      "/root/data1/myappsexlib/a_0330_0527_Modern_E_Commerce_Platform_Debiasing/code/eda.py:32: ParserWarning: Falling back to the 'python' engine because the 'c' engine does not support regex separators (separators > 1 char and different from '\\s+' are interpreted as regex); you can avoid this warning by specifying engine='python'.\n",
      "  converters={'item_id':str})\n"
     ]
    }
   ],
   "source": [
    "# export\n",
    "item_feat = get_item_data()"
   ]
  },
  {
   "cell_type": "code",
   "execution_count": 208,
   "metadata": {},
   "outputs": [
    {
     "data": {
      "text/plain": [
       "(108916, 128)"
      ]
     },
     "execution_count": 208,
     "metadata": {},
     "output_type": "execute_result"
    }
   ],
   "source": [
    "item_feat.iloc[:, 1:129].shape"
   ]
  },
  {
   "cell_type": "code",
   "execution_count": 209,
   "metadata": {},
   "outputs": [
    {
     "data": {
      "text/plain": [
       "(108916, 128)"
      ]
     },
     "execution_count": 209,
     "metadata": {},
     "output_type": "execute_result"
    }
   ],
   "source": [
    "item_feat.iloc[:, 129:257].shape"
   ]
  },
  {
   "cell_type": "code",
   "execution_count": 7,
   "metadata": {},
   "outputs": [],
   "source": [
    "# export\n",
    "item_feat['text_vec'] = item_feat.iloc[:, 1:129].values.tolist()\n",
    "item_feat['img_vec'] = item_feat.iloc[:, 129:257].values.tolist()\n",
    "\n",
    "item_feat['text_vec'] = item_feat['text_vec'].map(np.array)\n",
    "\n",
    "item_feat['img_vec'] = item_feat['img_vec'].map(np.array)\n",
    "\n",
    "item_feat.set_index('item_id', inplace=True)"
   ]
  },
  {
   "cell_type": "code",
   "execution_count": 48,
   "metadata": {},
   "outputs": [],
   "source": [
    "# export\n",
    "phase = [0, 1, 2, 3, 5, 6, 4]\n",
    "\n",
    "# phase = [4]\n",
    "# match_num = 200\n",
    "match_num = 500"
   ]
  },
  {
   "cell_type": "code",
   "execution_count": 185,
   "metadata": {},
   "outputs": [
    {
     "data": {
      "text/plain": [
       "item_id\n",
       "1          4\n",
       "1000      13\n",
       "100000     8\n",
       "10001      5\n",
       "100013     5\n",
       "          ..\n",
       "99990      6\n",
       "99991      3\n",
       "99993      5\n",
       "99994      5\n",
       "99998      5\n",
       "Name: user_id, Length: 40775, dtype: int64"
      ]
     },
     "execution_count": 185,
     "metadata": {},
     "output_type": "execute_result"
    }
   ],
   "source": [
    "# 计算每个phase的item_id user_cnt  # 貌似每个phase的item只会被user唯一点击一次，那就没必要统计了。。。\n",
    "def t(s):\n",
    "    return s.nunique()\n",
    "all_click_df[0][0].groupby('item_id')['user_id'].agg(t)"
   ]
  },
  {
   "cell_type": "code",
   "execution_count": 177,
   "metadata": {},
   "outputs": [],
   "source": [
    "# temp_ = all_click_df[0][0].groupby('user_id')['item_id'].agg(list)\n",
    "temp_ = all_click_df[0][0].groupby('item_id')['user_id'].agg(list)"
   ]
  },
  {
   "cell_type": "code",
   "execution_count": 179,
   "metadata": {},
   "outputs": [
    {
     "data": {
      "text/plain": [
       "item_id\n",
       "1                               [1489, 10088, 13420, 19312]\n",
       "1000      [14546, 9531, 32114, 6934, 20558, 30360, 33492...\n",
       "100000    [20800, 17064, 33901, 5699, 8541, 1940, 20705,...\n",
       "10001                      [6572, 17178, 25162, 6383, 8264]\n",
       "100013                    [18924, 32480, 7696, 6319, 32706]\n",
       "                                ...                        \n",
       "99990              [30399, 8084, 2969, 21225, 32152, 34183]\n",
       "99991                                  [9430, 32852, 31855]\n",
       "99993                   [23622, 22023, 12546, 31661, 21784]\n",
       "99994                     [9287, 6305, 28964, 17648, 22420]\n",
       "99998                    [24217, 9796, 20948, 25551, 16599]\n",
       "Name: user_id, Length: 40775, dtype: object"
      ]
     },
     "execution_count": 179,
     "metadata": {},
     "output_type": "execute_result"
    }
   ],
   "source": [
    "temp_"
   ]
  },
  {
   "cell_type": "code",
   "execution_count": 178,
   "metadata": {},
   "outputs": [
    {
     "data": {
      "text/plain": [
       "count    40775.000000\n",
       "mean         6.409246\n",
       "std          6.358793\n",
       "min          1.000000\n",
       "25%          4.000000\n",
       "50%          5.000000\n",
       "75%          7.000000\n",
       "max        234.000000\n",
       "Name: user_id, dtype: float64"
      ]
     },
     "execution_count": 178,
     "metadata": {},
     "output_type": "execute_result"
    }
   ],
   "source": [
    "temp_.str.len().describe()"
   ]
  },
  {
   "cell_type": "code",
   "execution_count": null,
   "metadata": {},
   "outputs": [],
   "source": [
    "for p in phase:\n",
    "    # 获取test用户的近n次点击\n",
    "    temp_ = all_click_df[0][0].groupby('user_id')['item_id'].agg(list)\n",
    "    temp_ = pd.DataFrame(temp_)\n",
    "    for i in range(5):\n",
    "        temp_[f'last_{i+1}'] = temp_.item_id.str.get(-(i+1))\n",
    "        \n",
    "    # 计算每个phase的item_id cnt\n",
    "    all_click_df[0][0].groupby('item_id')['user_id'].count()"
   ]
  },
  {
   "cell_type": "markdown",
   "metadata": {},
   "source": [
    "# load match result"
   ]
  },
  {
   "cell_type": "code",
   "execution_count": 49,
   "metadata": {},
   "outputs": [],
   "source": [
    "# export\n",
    "def load_match_items():\n",
    "    r_itemcf = PickleWrapper.loadFromFile(os.path.join(args.DATA_DIR, 'data_gen/r_list_itemcf_0527.pkl'))\n",
    "\n",
    "    r_binn = PickleWrapper.loadFromFile(os.path.join(args.DATA_DIR, 'data_gen/r_list_binn_0527.pkl'))\n",
    "    \n",
    "    r_itemcf_phase4 = PickleWrapper.loadFromFile(os.path.join(args.DATA_DIR, 'data_gen/r_list_itemcf_0527_phase4.pkl'))\n",
    "\n",
    "    r_binn_phase4 = PickleWrapper.loadFromFile(os.path.join(args.DATA_DIR, 'data_gen/r_list_binn_0527_phase4.pkl'))\n",
    "\n",
    "    \n",
    "    r_itemcf_yl = PickleWrapper.loadFromFile(os.path.join(args.DATA_DIR, 'data_gen/r_list_itemcf_yulao_0527.pkl'))\n",
    "    r_list_w2v = PickleWrapper.loadFromFile(os.path.join(args.DATA_DIR, 'data_gen/r_list_w2v_0602_all.pkl'))\n",
    "    r_itemcf = r_itemcf + r_itemcf_phase4\n",
    "    r_binn = r_binn + r_binn_phase4\n",
    "    r_itemcf_yl = [r_itemcf_yl[0], r_itemcf_yl[1],r_itemcf_yl[2],r_itemcf_yl[3],r_itemcf_yl[5],r_itemcf_yl[6],r_itemcf_yl[4]]\n",
    "    \n",
    "    r_list_w2v = [r_list_w2v[0], r_list_w2v[1],r_list_w2v[2],r_list_w2v[3],r_list_w2v[5],r_list_w2v[6],r_list_w2v[4]]\n",
    "    return r_itemcf, r_binn, r_itemcf_yl, r_list_w2v\n",
    "#     return r_itemcf_phase4, r_binn_phase4, [r_itemcf_yl[4]]\n"
   ]
  },
  {
   "cell_type": "code",
   "execution_count": 50,
   "metadata": {},
   "outputs": [],
   "source": [
    "r_itemcf, r_binn, r_itemcf_yl, r_list_w2v = load_match_items()"
   ]
  },
  {
   "cell_type": "code",
   "execution_count": 119,
   "metadata": {},
   "outputs": [],
   "source": [
    "# export\n",
    "\n",
    "def data_preporcess(recall_list, match_num, phase, mode='train'):\n",
    "    \n",
    "    itemcf, r_binn, r_itemcf_yl, r_list_w2v = recall_list\n",
    "    df1 = pd.DataFrame()\n",
    "    df2 = pd.DataFrame()\n",
    "    df3 = pd.DataFrame()\n",
    "    df4 = pd.DataFrame()\n",
    "    for i in range(len(phase)):\n",
    "        r_itemcf[i]['phase'] = phase[i]\n",
    "        r_binn[i]['phase'] = phase[i]\n",
    "        r_itemcf_yl[i]['phase'] = phase[i]\n",
    "        r_list_w2v[i]['phase'] = phase[i]\n",
    "        df1 = df1.append(r_itemcf[i])\n",
    "        df2 = df2.append(r_binn[i])\n",
    "        df3 = df3.append(r_itemcf_yl[i])\n",
    "        df4 = df4.append(r_list_w2v[i])\n",
    "\n",
    "    df1_ = df1[df1['rank']<(match_num+1)]\n",
    "    df2_ = df2[df2['rank']<(match_num+1)]\n",
    "    df3_ = df3[df3['rank']<(match_num+1)]\n",
    "    df4_ = df4[df4['rank']<(match_num+1)]\n",
    "\n",
    "    print('merge Multi-channel recall...')\n",
    "    cols = 'user_id item_id_pred phase'.split()\n",
    "    \n",
    "    if mode == 'train':\n",
    "        cols = 'user_id item_id_pred item_id_true phase'.split()\n",
    "    df = pd.merge(pd.merge(pd.merge(df1_, \n",
    "                                    df2_, on=cols, how='outer'), \n",
    "                                      df3_, on=cols, how='outer'), \n",
    "                                      df4_, on=cols, how='outer')\n",
    "\n",
    "    df = df.fillna(0)\n",
    "    if mode == 'train':\n",
    "        df['label'] = (df['item_id_pred'] == df['item_id_true']).map(int)\n",
    "\n",
    "\n",
    "    dft = pd.DataFrame()\n",
    "    for p in tqdm(phase):\n",
    "        # 获取test用户的近n次点击\n",
    "        temp_ = all_click_df[p][0][all_click_df[p][0].user_id.isin(all_click_df[p][1].user_id)].groupby('user_id')['item_id'].agg(list)\n",
    "        temp_ = pd.DataFrame(temp_)\n",
    "        for i in range(0, 3):\n",
    "            temp_[f'last_{i+1}'] = temp_.item_id.str.get(-(i+1))\n",
    "        dft = dft.append(temp_.reset_index())\n",
    "        # 计算每个phase的item_id cnt\n",
    "        t_ = all_click_df[p][0].groupby('item_id')['user_id'].count()\n",
    "        df.loc[df.phase==p, 'item_cnt'] = df.item_id_pred.map(lambda x: t_[x] if x in t_ else 0)\n",
    "\n",
    "    df = pd.merge(df, dft.drop(columns='item_id'))\n",
    "\n",
    "    \n",
    "\n",
    "    # 太大了，不建议存储    \n",
    "    # df.to_pickle(os.path.join(args.DATA_DIR, f'data_gen/dft{match_num}.pkl'))\n",
    "\n",
    "    # df = pd.read_pickle(os.path.join(args.DATA_DIR, f'data_gen/dft{match_num}.pkl'))\n",
    "    return df"
   ]
  },
  {
   "cell_type": "code",
   "execution_count": 52,
   "metadata": {},
   "outputs": [
    {
     "name": "stdout",
     "output_type": "stream",
     "text": [
      "merge Multi-channel recall...\n"
     ]
    },
    {
     "name": "stderr",
     "output_type": "stream",
     "text": [
      "\n",
      "\n",
      "  0%|          | 0/7 [00:00<?, ?it/s]\u001b[A\u001b[A\n",
      "\n",
      " 14%|█▍        | 1/7 [02:09<12:57, 129.64s/it]\u001b[A\u001b[A\n",
      "\n",
      " 29%|██▊       | 2/7 [04:18<10:46, 129.39s/it]\u001b[A\u001b[A\n",
      "\n",
      " 43%|████▎     | 3/7 [06:35<08:47, 131.82s/it]\u001b[A\u001b[A\n",
      "\n",
      " 57%|█████▋    | 4/7 [08:51<06:39, 133.07s/it]\u001b[A\u001b[A\n",
      "\n",
      " 71%|███████▏  | 5/7 [11:03<04:25, 132.54s/it]\u001b[A\u001b[A\n",
      "\n",
      " 86%|████████▌ | 6/7 [13:10<02:10, 130.94s/it]\u001b[A\u001b[A\n",
      "\n",
      "100%|██████████| 7/7 [15:17<00:00, 131.09s/it]\u001b[A\u001b[A\n"
     ]
    }
   ],
   "source": [
    "recall_list = [r_itemcf, r_binn, r_itemcf_yl, r_list_w2v]\n",
    "df = data_preporcess(recall_list, match_num, phase)"
   ]
  },
  {
   "cell_type": "code",
   "execution_count": 53,
   "metadata": {},
   "outputs": [
    {
     "data": {
      "text/html": [
       "<div>\n",
       "<style scoped>\n",
       "    .dataframe tbody tr th:only-of-type {\n",
       "        vertical-align: middle;\n",
       "    }\n",
       "\n",
       "    .dataframe tbody tr th {\n",
       "        vertical-align: top;\n",
       "    }\n",
       "\n",
       "    .dataframe thead th {\n",
       "        text-align: right;\n",
       "    }\n",
       "</style>\n",
       "<table border=\"1\" class=\"dataframe\">\n",
       "  <thead>\n",
       "    <tr style=\"text-align: right;\">\n",
       "      <th></th>\n",
       "      <th>user_id</th>\n",
       "      <th>item_id_pred</th>\n",
       "      <th>score_x</th>\n",
       "      <th>rank_x</th>\n",
       "      <th>item_id_true</th>\n",
       "      <th>phase</th>\n",
       "      <th>score_y</th>\n",
       "      <th>rank_y</th>\n",
       "      <th>score_x</th>\n",
       "      <th>rank_x</th>\n",
       "      <th>score_y</th>\n",
       "      <th>rank_y</th>\n",
       "      <th>label</th>\n",
       "      <th>item_cnt</th>\n",
       "      <th>last_1</th>\n",
       "      <th>last_2</th>\n",
       "      <th>last_3</th>\n",
       "    </tr>\n",
       "  </thead>\n",
       "  <tbody>\n",
       "    <tr>\n",
       "      <td>0</td>\n",
       "      <td>11</td>\n",
       "      <td>79868</td>\n",
       "      <td>6.019197</td>\n",
       "      <td>1.0</td>\n",
       "      <td>8052</td>\n",
       "      <td>0</td>\n",
       "      <td>2.023002</td>\n",
       "      <td>1.0</td>\n",
       "      <td>0.010625</td>\n",
       "      <td>142.0</td>\n",
       "      <td>0.000000</td>\n",
       "      <td>0.0</td>\n",
       "      <td>0</td>\n",
       "      <td>47.0</td>\n",
       "      <td>28210</td>\n",
       "      <td>64689</td>\n",
       "      <td>20317</td>\n",
       "    </tr>\n",
       "    <tr>\n",
       "      <td>1</td>\n",
       "      <td>11</td>\n",
       "      <td>15844</td>\n",
       "      <td>5.328522</td>\n",
       "      <td>2.0</td>\n",
       "      <td>8052</td>\n",
       "      <td>0</td>\n",
       "      <td>0.326349</td>\n",
       "      <td>86.0</td>\n",
       "      <td>0.086894</td>\n",
       "      <td>6.0</td>\n",
       "      <td>23.022548</td>\n",
       "      <td>9.0</td>\n",
       "      <td>0</td>\n",
       "      <td>5.0</td>\n",
       "      <td>28210</td>\n",
       "      <td>64689</td>\n",
       "      <td>20317</td>\n",
       "    </tr>\n",
       "    <tr>\n",
       "      <td>2</td>\n",
       "      <td>11</td>\n",
       "      <td>10528</td>\n",
       "      <td>5.246875</td>\n",
       "      <td>3.0</td>\n",
       "      <td>8052</td>\n",
       "      <td>0</td>\n",
       "      <td>0.461508</td>\n",
       "      <td>52.0</td>\n",
       "      <td>0.067450</td>\n",
       "      <td>11.0</td>\n",
       "      <td>19.745578</td>\n",
       "      <td>23.0</td>\n",
       "      <td>0</td>\n",
       "      <td>7.0</td>\n",
       "      <td>28210</td>\n",
       "      <td>64689</td>\n",
       "      <td>20317</td>\n",
       "    </tr>\n",
       "    <tr>\n",
       "      <td>3</td>\n",
       "      <td>11</td>\n",
       "      <td>113564</td>\n",
       "      <td>5.100132</td>\n",
       "      <td>4.0</td>\n",
       "      <td>8052</td>\n",
       "      <td>0</td>\n",
       "      <td>0.386057</td>\n",
       "      <td>66.0</td>\n",
       "      <td>0.136157</td>\n",
       "      <td>1.0</td>\n",
       "      <td>0.000000</td>\n",
       "      <td>0.0</td>\n",
       "      <td>0</td>\n",
       "      <td>4.0</td>\n",
       "      <td>28210</td>\n",
       "      <td>64689</td>\n",
       "      <td>20317</td>\n",
       "    </tr>\n",
       "    <tr>\n",
       "      <td>4</td>\n",
       "      <td>11</td>\n",
       "      <td>20389</td>\n",
       "      <td>4.636769</td>\n",
       "      <td>5.0</td>\n",
       "      <td>8052</td>\n",
       "      <td>0</td>\n",
       "      <td>0.415892</td>\n",
       "      <td>62.0</td>\n",
       "      <td>0.048790</td>\n",
       "      <td>19.0</td>\n",
       "      <td>0.000000</td>\n",
       "      <td>0.0</td>\n",
       "      <td>0</td>\n",
       "      <td>7.0</td>\n",
       "      <td>28210</td>\n",
       "      <td>64689</td>\n",
       "      <td>20317</td>\n",
       "    </tr>\n",
       "  </tbody>\n",
       "</table>\n",
       "</div>"
      ],
      "text/plain": [
       "  user_id item_id_pred   score_x  rank_x item_id_true  phase   score_y  rank_y   score_x  rank_x    score_y  rank_y  label  item_cnt last_1 last_2 last_3\n",
       "0      11        79868  6.019197     1.0         8052      0  2.023002     1.0  0.010625   142.0   0.000000     0.0      0      47.0  28210  64689  20317\n",
       "1      11        15844  5.328522     2.0         8052      0  0.326349    86.0  0.086894     6.0  23.022548     9.0      0       5.0  28210  64689  20317\n",
       "2      11        10528  5.246875     3.0         8052      0  0.461508    52.0  0.067450    11.0  19.745578    23.0      0       7.0  28210  64689  20317\n",
       "3      11       113564  5.100132     4.0         8052      0  0.386057    66.0  0.136157     1.0   0.000000     0.0      0       4.0  28210  64689  20317\n",
       "4      11        20389  4.636769     5.0         8052      0  0.415892    62.0  0.048790    19.0   0.000000     0.0      0       7.0  28210  64689  20317"
      ]
     },
     "execution_count": 53,
     "metadata": {},
     "output_type": "execute_result"
    }
   ],
   "source": [
    "df.head()"
   ]
  },
  {
   "cell_type": "code",
   "execution_count": 54,
   "metadata": {},
   "outputs": [
    {
     "data": {
      "text/plain": [
       "Index(['user_id', 'item_id_pred', 'score_x', 'rank_x', 'item_id_true', 'phase',\n",
       "       'score_y', 'rank_y', 'score_x', 'rank_x', 'score_y', 'rank_y', 'label',\n",
       "       'item_cnt', 'last_1', 'last_2', 'last_3'],\n",
       "      dtype='object')"
      ]
     },
     "execution_count": 54,
     "metadata": {},
     "output_type": "execute_result"
    }
   ],
   "source": [
    "df.columns"
   ]
  },
  {
   "cell_type": "code",
   "execution_count": 55,
   "metadata": {},
   "outputs": [],
   "source": [
    "df.to_pickle(os.path.join(args.DATA_DIR, f'data_gen/dft{match_num}_w2v_data_preporcess.pkl'))"
   ]
  },
  {
   "cell_type": "code",
   "execution_count": 58,
   "metadata": {},
   "outputs": [
    {
     "data": {
      "text/plain": [
       "(15585787, 17)"
      ]
     },
     "execution_count": 58,
     "metadata": {},
     "output_type": "execute_result"
    }
   ],
   "source": [
    "df.shape"
   ]
  },
  {
   "cell_type": "code",
   "execution_count": 17,
   "metadata": {},
   "outputs": [],
   "source": [
    "temp_ = pd.read_pickle(os.path.join(args.DATA_DIR, f'data_gen/dft{match_num}_features.pkl'))\n",
    "\n",
    "temp4_ = pd.read_pickle(os.path.join(args.DATA_DIR, f'data_gen/dft{match_num}_features_phase4.pkl'))"
   ]
  },
  {
   "cell_type": "code",
   "execution_count": 19,
   "metadata": {},
   "outputs": [
    {
     "data": {
      "text/plain": [
       "(9535777, 26)"
      ]
     },
     "execution_count": 19,
     "metadata": {},
     "output_type": "execute_result"
    }
   ],
   "source": [
    "temp_.shape"
   ]
  },
  {
   "cell_type": "code",
   "execution_count": 20,
   "metadata": {},
   "outputs": [
    {
     "data": {
      "text/plain": [
       "(1681258, 58)"
      ]
     },
     "execution_count": 20,
     "metadata": {},
     "output_type": "execute_result"
    }
   ],
   "source": [
    "temp4_.shape"
   ]
  },
  {
   "cell_type": "code",
   "execution_count": 68,
   "metadata": {},
   "outputs": [
    {
     "data": {
      "text/plain": [
       "Index(['user_id', 'item_id_pred', 'score_x', 'rank_x', 'item_id_true', 'phase',\n",
       "       'score_y', 'rank_y', 'score', 'rank', 'label', 'item_cnt', 'item_id',\n",
       "       'last_1', 'last_2', 'last_3', 'sim1_text', 'sim1_img', 'sim2_text',\n",
       "       'sim2_img', 'sim3_text', 'sim3_img', 'sim4_text', 'sim4_img',\n",
       "       'sim5_text', 'sim5_img'],\n",
       "      dtype='object')"
      ]
     },
     "execution_count": 68,
     "metadata": {},
     "output_type": "execute_result"
    }
   ],
   "source": [
    "temp_.columns"
   ]
  },
  {
   "cell_type": "code",
   "execution_count": 70,
   "metadata": {},
   "outputs": [],
   "source": [
    "df.columns = ['user_id', 'item_id_pred', 'score_1', 'rank_1', 'item_id_true', 'phase',\n",
    "       'score_2', 'rank_2', 'score_3', 'rank_3', 'score_4', 'rank_4', 'label',\n",
    "       'item_cnt', 'last_1', 'last_2', 'last_3']"
   ]
  },
  {
   "cell_type": "code",
   "execution_count": 81,
   "metadata": {},
   "outputs": [],
   "source": [
    "df['t'] = range(df.shape[0])"
   ]
  },
  {
   "cell_type": "code",
   "execution_count": 82,
   "metadata": {},
   "outputs": [],
   "source": [
    "df_ = pd.merge(df, temp_[['user_id', 'item_id_pred', 'item_id_true', 'phase', 'sim1_text', 'sim1_img', 'sim2_text',\n",
    "       'sim2_img', 'sim3_text', 'sim3_img']], on=['user_id', 'item_id_pred', 'item_id_true', 'phase'])"
   ]
  },
  {
   "cell_type": "code",
   "execution_count": 83,
   "metadata": {},
   "outputs": [],
   "source": [
    "df_4 = pd.merge(df, temp4_[['user_id', 'item_id_pred', 'item_id_true', 'phase', 'sim1_text', 'sim1_img', 'sim2_text',\n",
    "       'sim2_img', 'sim3_text', 'sim3_img']], on=['user_id', 'item_id_pred', 'item_id_true', 'phase'])"
   ]
  },
  {
   "cell_type": "code",
   "execution_count": 84,
   "metadata": {},
   "outputs": [],
   "source": [
    "df1 = df[~df.t.isin(df_.t)]"
   ]
  },
  {
   "cell_type": "code",
   "execution_count": 86,
   "metadata": {},
   "outputs": [],
   "source": [
    "df1 = df1[~df1.t.isin(df_4.t)]"
   ]
  },
  {
   "cell_type": "code",
   "execution_count": 87,
   "metadata": {},
   "outputs": [
    {
     "data": {
      "text/plain": [
       "(4368752, 18)"
      ]
     },
     "execution_count": 87,
     "metadata": {},
     "output_type": "execute_result"
    }
   ],
   "source": [
    "df1.shape"
   ]
  },
  {
   "cell_type": "code",
   "execution_count": 88,
   "metadata": {},
   "outputs": [
    {
     "data": {
      "text/plain": [
       "Index(['user_id', 'item_id_pred', 'score_1', 'rank_1', 'item_id_true', 'phase',\n",
       "       'score_2', 'rank_2', 'score_3', 'rank_3', 'score_4', 'rank_4', 'label',\n",
       "       'item_cnt', 'last_1', 'last_2', 'last_3', 't'],\n",
       "      dtype='object')"
      ]
     },
     "execution_count": 88,
     "metadata": {},
     "output_type": "execute_result"
    }
   ],
   "source": [
    "df1.columns"
   ]
  },
  {
   "cell_type": "code",
   "execution_count": 89,
   "metadata": {},
   "outputs": [
    {
     "name": "stderr",
     "output_type": "stream",
     "text": [
      "\n",
      "\n",
      "  0%|          | 0/3 [00:00<?, ?it/s]\u001b[A\u001b[A\n",
      "\n",
      " 33%|███▎      | 1/3 [03:17<06:34, 197.11s/it]\u001b[A\u001b[A\n",
      "\n",
      " 67%|██████▋   | 2/3 [06:31<03:16, 196.30s/it]\u001b[A\u001b[A\n",
      "\n",
      "100%|██████████| 3/3 [09:47<00:00, 195.75s/it]\u001b[A\u001b[A\n"
     ]
    }
   ],
   "source": [
    "df1['item_id_pred_text_vec'] = df1.item_id_pred.map(lambda x: item_feat['text_vec'][x] if x in item_feat['text_vec'] else np.zeros(128))\n",
    "\n",
    "df1['item_id_pred_img_vec'] = df1.item_id_pred.map(lambda x: item_feat['img_vec'][x] if x in item_feat['img_vec'] else np.arange(128))\n",
    "\n",
    "for c in tqdm('last_1 last_2 last_3'.split()):\n",
    "    df1[f'{c}_text_vec'] = df1.item_id_pred.map(lambda x: item_feat['text_vec'][x] if x in item_feat['text_vec'] else np.zeros(128))\n",
    "\n",
    "    df1[f'{c}_img_vec'] = df1.item_id_pred.map(lambda x: item_feat['img_vec'][x] if x in item_feat['img_vec'] else np.arange(128))\n"
   ]
  },
  {
   "cell_type": "code",
   "execution_count": 90,
   "metadata": {},
   "outputs": [],
   "source": [
    "df1['sim1_text'] = (df1['item_id_pred_text_vec'] * df1['last_1_text_vec']).map(sum)\n",
    "\n",
    "df1['sim1_img'] = (df1['item_id_pred_img_vec'] * df1['last_1_img_vec']).map(sum)\n",
    "\n",
    "df1['sim2_text'] = (df1['item_id_pred_text_vec'] * df1['last_2_text_vec']).map(sum)\n",
    "df1['sim2_img'] = (df1['item_id_pred_img_vec'] * df1['last_2_img_vec']).map(sum)\n",
    "\n",
    "df1['sim3_text'] = (df1['item_id_pred_text_vec'] * df1['last_3_text_vec']).map(sum)\n",
    "df1['sim3_img'] = (df1['item_id_pred_img_vec'] * df1['last_3_img_vec']).map(sum)"
   ]
  },
  {
   "cell_type": "code",
   "execution_count": 91,
   "metadata": {},
   "outputs": [
    {
     "data": {
      "text/plain": [
       "(4368752, 32)"
      ]
     },
     "execution_count": 91,
     "metadata": {},
     "output_type": "execute_result"
    }
   ],
   "source": [
    "df1.shape"
   ]
  },
  {
   "cell_type": "code",
   "execution_count": 92,
   "metadata": {},
   "outputs": [
    {
     "data": {
      "text/plain": [
       "Index(['user_id', 'item_id_pred', 'score_1', 'rank_1', 'item_id_true', 'phase',\n",
       "       'score_2', 'rank_2', 'score_3', 'rank_3', 'score_4', 'rank_4', 'label',\n",
       "       'item_cnt', 'last_1', 'last_2', 'last_3', 't', 'item_id_pred_text_vec',\n",
       "       'item_id_pred_img_vec', 'last_1_text_vec', 'last_1_img_vec',\n",
       "       'last_2_text_vec', 'last_2_img_vec', 'last_3_text_vec',\n",
       "       'last_3_img_vec', 'sim1_text', 'sim1_img', 'sim2_text', 'sim2_img',\n",
       "       'sim3_text', 'sim3_img'],\n",
       "      dtype='object')"
      ]
     },
     "execution_count": 92,
     "metadata": {},
     "output_type": "execute_result"
    }
   ],
   "source": [
    "df1.columns"
   ]
  },
  {
   "cell_type": "code",
   "execution_count": null,
   "metadata": {},
   "outputs": [],
   "source": []
  },
  {
   "cell_type": "code",
   "execution_count": 93,
   "metadata": {},
   "outputs": [
    {
     "data": {
      "text/plain": [
       "Index(['user_id', 'item_id_pred', 'score_1', 'rank_1', 'item_id_true', 'phase',\n",
       "       'score_2', 'rank_2', 'score_3', 'rank_3', 'score_4', 'rank_4', 'label',\n",
       "       'item_cnt', 'last_1', 'last_2', 'last_3', 't', 'sim1_text', 'sim1_img',\n",
       "       'sim2_text', 'sim2_img', 'sim3_text', 'sim3_img'],\n",
       "      dtype='object')"
      ]
     },
     "execution_count": 93,
     "metadata": {},
     "output_type": "execute_result"
    }
   ],
   "source": [
    "df_.columns"
   ]
  },
  {
   "cell_type": "code",
   "execution_count": 94,
   "metadata": {},
   "outputs": [
    {
     "data": {
      "text/plain": [
       "Index(['user_id', 'item_id_pred', 'score_1', 'rank_1', 'item_id_true', 'phase',\n",
       "       'score_2', 'rank_2', 'score_3', 'rank_3', 'score_4', 'rank_4', 'label',\n",
       "       'item_cnt', 'last_1', 'last_2', 'last_3', 't', 'sim1_text', 'sim1_img',\n",
       "       'sim2_text', 'sim2_img', 'sim3_text', 'sim3_img'],\n",
       "      dtype='object')"
      ]
     },
     "execution_count": 94,
     "metadata": {},
     "output_type": "execute_result"
    }
   ],
   "source": [
    "df_4.columns"
   ]
  },
  {
   "cell_type": "code",
   "execution_count": 96,
   "metadata": {},
   "outputs": [],
   "source": [
    "dff = df1[df_.columns].append(df_4).append(df_)"
   ]
  },
  {
   "cell_type": "code",
   "execution_count": 97,
   "metadata": {},
   "outputs": [
    {
     "data": {
      "text/plain": [
       "(15585787, 24)"
      ]
     },
     "execution_count": 97,
     "metadata": {},
     "output_type": "execute_result"
    }
   ],
   "source": [
    "dff.shape"
   ]
  },
  {
   "cell_type": "code",
   "execution_count": 53,
   "metadata": {},
   "outputs": [],
   "source": [
    "# df.to_pickle(os.path.join(args.DATA_DIR, f'data_gen/dft{match_num}_features_phase4.pkl'))"
   ]
  },
  {
   "cell_type": "code",
   "execution_count": 27,
   "metadata": {},
   "outputs": [],
   "source": [
    "# sim_text_dict = {}\n",
    "# sim_img_dict = {}"
   ]
  },
  {
   "cell_type": "markdown",
   "metadata": {},
   "source": [
    "# FE"
   ]
  },
  {
   "cell_type": "code",
   "execution_count": null,
   "metadata": {},
   "outputs": [],
   "source": [
    "# export\n",
    "def fe(df):\n",
    "    for i in tqdm('rank score'.split()):\n",
    "        df[f'{i}1_sub_{i}2'] = df[f'{i}_1']-df[f'{i}_2']\n",
    "        df[f'{i}1_add_{i}2'] = df[f'{i}_1']+df[f'{i}_2']\n",
    "        df[f'{i}1_mul_{i}2'] = df[f'{i}_1']*df[f'{i}_2']\n",
    "\n",
    "        df[f'{i}1_sub_{i}3'] = df[f'{i}_1']-df[f'{i}_3']\n",
    "        df[f'{i}1_add_{i}3'] = df[f'{i}_1']+df[f'{i}_3']\n",
    "        df[f'{i}1_mul_{i}3'] = df[f'{i}_1']*df[f'{i}_3']\n",
    "\n",
    "        df[f'{i}1_sub_{i}4'] = df[f'{i}_1']-df[f'{i}_4']\n",
    "        df[f'{i}1_add_{i}4'] = df[f'{i}_1']+df[f'{i}_4']\n",
    "        df[f'{i}1_mul_{i}4'] = df[f'{i}_1']*df[f'{i}_4']\n",
    "\n",
    "        df[f'{i}2_sub_{i}3'] = df[f'{i}_2']-df[f'{i}_3']\n",
    "        df[f'{i}2_add_{i}3'] = df[f'{i}_2']+df[f'{i}_3']\n",
    "        df[f'{i}2_mul_{i}3'] = df[f'{i}_2']*df[f'{i}_3']\n",
    "\n",
    "        df[f'{i}2_sub_{i}4'] = df[f'{i}_2']-df[f'{i}_4']\n",
    "        df[f'{i}2_add_{i}4'] = df[f'{i}_2']+df[f'{i}_4']\n",
    "        df[f'{i}2_mul_{i}4'] = df[f'{i}_2']*df[f'{i}_4']\n",
    "\n",
    "        df[f'{i}3_sub_{i}4'] = df[f'{i}_3']-df[f'{i}_4']\n",
    "        df[f'{i}3_add_{i}4'] = df[f'{i}_3']+df[f'{i}_4']\n",
    "        df[f'{i}3_mul_{i}4'] = df[f'{i}_3']*df[f'{i}_4']\n",
    "        \n",
    "#     df['sim1_text'] = (df['item_id_pred_text_vec'] * df['last_1_text_vec']).map(sum)\n",
    "\n",
    "#     df['sim1_img'] = (df['item_id_pred_img_vec'] * df['last_1_img_vec']).map(sum)\n",
    "\n",
    "#     df['sim2_text'] = (df['item_id_pred_text_vec'] * df['last_2_text_vec']).map(sum)\n",
    "#     df['sim2_img'] = (df['item_id_pred_img_vec'] * df['last_2_img_vec']).map(sum)\n",
    "\n",
    "#     df['sim3_text'] = (df['item_id_pred_text_vec'] * df['last_3_text_vec']).map(sum)\n",
    "#     df['sim3_img'] = (df['item_id_pred_img_vec'] * df['last_3_img_vec']).map(sum)\n",
    "\n",
    "#     df['sim4_text'] = (df['item_id_pred_text_vec'] * df['last_4_text_vec']).map(sum)\n",
    "#     df['sim4_img'] = (df['item_id_pred_img_vec'] * df['last_4_img_vec']).map(sum)\n",
    "\n",
    "#     df['sim5_text'] = (df['item_id_pred_text_vec'] * df['last_5_text_vec']).map(sum)\n",
    "#     df['sim5_img'] = (df['item_id_pred_img_vec'] * df['last_5_img_vec']).map(sum)\n",
    "    \n",
    "    \n",
    "\n",
    "    df['sim1_text_img'] = df['sim1_text'] *  df['sim1_img']\n",
    "    df['sim2_text_img'] = df['sim2_text'] *  df['sim2_img']\n",
    "    df['sim3_text_img'] = df['sim3_text'] *  df['sim3_img']\n",
    "#     df['sim4_text_img'] = df['sim4_text'] *  df['sim4_img']\n",
    "#     df['sim5_text_img'] = df['sim5_text'] *  df['sim5_img']\n",
    "\n",
    "    df['sim12_text'] = df['sim1_text'] + df['sim2_text']\n",
    "    df['sim123_text'] = df['sim1_text'] + df['sim2_text'] + df['sim3_text']\n",
    "#     df['sim1234_text'] = df['sim1_text'] + df['sim2_text'] + df['sim3_text'] + df['sim4_text']\n",
    "#     df['sim12345_text'] = df['sim1_text'] + df['sim2_text'] + df['sim3_text'] + df['sim4_text'] + df['sim5_text']\n",
    "\n",
    "    df['sim12_img'] = df['sim1_img'] + df['sim2_img']\n",
    "    df['sim123_img'] = df['sim1_img'] + df['sim2_img'] + df['sim3_img']\n",
    "#     df['sim1234_img'] = df['sim1_img'] + df['sim2_img'] + df['sim3_img'] + df['sim4_img']\n",
    "#     df['sim12345_img'] = df['sim1_img'] + df['sim2_img'] + df['sim3_img'] + df['sim4_img'] + df['sim5_img']\n",
    "\n",
    "    df['sim12_text_img'] = df['sim1_text_img'] + df['sim2_text_img']\n",
    "    df['sim123_text_img'] = df['sim1_text_img'] + df['sim2_text_img'] + df['sim3_text_img']\n",
    "#     df['sim1234_text_img'] = df['sim1_text_img'] + df['sim2_text_img'] + df['sim3_text_img'] + df['sim4_text_img']\n",
    "#     df['sim12345_text_img'] = df['sim1_text_img'] + df['sim2_text_img'] + df['sim3_text_img'] + df['sim4_text_img'] + df['sim5_text_img']\n",
    " \n",
    "    \n",
    "    return df"
   ]
  },
  {
   "cell_type": "code",
   "execution_count": 99,
   "metadata": {},
   "outputs": [
    {
     "name": "stderr",
     "output_type": "stream",
     "text": [
      "\n",
      "\n",
      "  0%|          | 0/2 [00:00<?, ?it/s]\u001b[A\u001b[A\n",
      "\n",
      " 50%|█████     | 1/2 [00:00<00:00,  2.37it/s]\u001b[A\u001b[A\n",
      "\n",
      "100%|██████████| 2/2 [00:00<00:00,  2.38it/s]\u001b[A\u001b[A\n"
     ]
    }
   ],
   "source": [
    "dff = fe(dff)"
   ]
  },
  {
   "cell_type": "code",
   "execution_count": 100,
   "metadata": {},
   "outputs": [
    {
     "data": {
      "text/html": [
       "<div>\n",
       "<style scoped>\n",
       "    .dataframe tbody tr th:only-of-type {\n",
       "        vertical-align: middle;\n",
       "    }\n",
       "\n",
       "    .dataframe tbody tr th {\n",
       "        vertical-align: top;\n",
       "    }\n",
       "\n",
       "    .dataframe thead th {\n",
       "        text-align: right;\n",
       "    }\n",
       "</style>\n",
       "<table border=\"1\" class=\"dataframe\">\n",
       "  <thead>\n",
       "    <tr style=\"text-align: right;\">\n",
       "      <th></th>\n",
       "      <th>user_id</th>\n",
       "      <th>item_id_pred</th>\n",
       "      <th>score_1</th>\n",
       "      <th>rank_1</th>\n",
       "      <th>item_id_true</th>\n",
       "      <th>phase</th>\n",
       "      <th>score_2</th>\n",
       "      <th>rank_2</th>\n",
       "      <th>score_3</th>\n",
       "      <th>rank_3</th>\n",
       "      <th>score_4</th>\n",
       "      <th>rank_4</th>\n",
       "      <th>label</th>\n",
       "      <th>item_cnt</th>\n",
       "      <th>last_1</th>\n",
       "      <th>last_2</th>\n",
       "      <th>last_3</th>\n",
       "      <th>t</th>\n",
       "      <th>sim1_text</th>\n",
       "      <th>sim1_img</th>\n",
       "      <th>sim2_text</th>\n",
       "      <th>sim2_img</th>\n",
       "      <th>sim3_text</th>\n",
       "      <th>sim3_img</th>\n",
       "      <th>rank1_sub_rank2</th>\n",
       "      <th>rank1_add_rank2</th>\n",
       "      <th>rank1_mul_rank2</th>\n",
       "      <th>rank1_sub_rank3</th>\n",
       "      <th>rank1_add_rank3</th>\n",
       "      <th>rank1_mul_rank3</th>\n",
       "      <th>rank1_sub_rank4</th>\n",
       "      <th>rank1_add_rank4</th>\n",
       "      <th>rank1_mul_rank4</th>\n",
       "      <th>rank2_sub_rank3</th>\n",
       "      <th>rank2_add_rank3</th>\n",
       "      <th>rank2_mul_rank3</th>\n",
       "      <th>rank2_sub_rank4</th>\n",
       "      <th>rank2_add_rank4</th>\n",
       "      <th>rank2_mul_rank4</th>\n",
       "      <th>rank3_sub_rank4</th>\n",
       "      <th>rank3_add_rank4</th>\n",
       "      <th>rank3_mul_rank4</th>\n",
       "      <th>score1_sub_score2</th>\n",
       "      <th>score1_add_score2</th>\n",
       "      <th>score1_mul_score2</th>\n",
       "      <th>score1_sub_score3</th>\n",
       "      <th>score1_add_score3</th>\n",
       "      <th>score1_mul_score3</th>\n",
       "      <th>score1_sub_score4</th>\n",
       "      <th>score1_add_score4</th>\n",
       "      <th>score1_mul_score4</th>\n",
       "      <th>score2_sub_score3</th>\n",
       "      <th>score2_add_score3</th>\n",
       "      <th>score2_mul_score3</th>\n",
       "      <th>score2_sub_score4</th>\n",
       "      <th>score2_add_score4</th>\n",
       "      <th>score2_mul_score4</th>\n",
       "      <th>score3_sub_score4</th>\n",
       "      <th>score3_add_score4</th>\n",
       "      <th>score3_mul_score4</th>\n",
       "      <th>sim1_text_img</th>\n",
       "      <th>sim2_text_img</th>\n",
       "      <th>sim3_text_img</th>\n",
       "      <th>sim12_text</th>\n",
       "      <th>sim123_text</th>\n",
       "      <th>sim12_img</th>\n",
       "      <th>sim123_img</th>\n",
       "      <th>sim12_text_img</th>\n",
       "      <th>sim123_text_img</th>\n",
       "    </tr>\n",
       "  </thead>\n",
       "  <tbody>\n",
       "    <tr>\n",
       "      <td>786</td>\n",
       "      <td>11</td>\n",
       "      <td>66987</td>\n",
       "      <td>0.0</td>\n",
       "      <td>0.0</td>\n",
       "      <td>8052</td>\n",
       "      <td>0</td>\n",
       "      <td>0.0</td>\n",
       "      <td>0.0</td>\n",
       "      <td>0.0</td>\n",
       "      <td>0.0</td>\n",
       "      <td>29.806313</td>\n",
       "      <td>1.0</td>\n",
       "      <td>0</td>\n",
       "      <td>4.0</td>\n",
       "      <td>28210</td>\n",
       "      <td>64689</td>\n",
       "      <td>20317</td>\n",
       "      <td>786</td>\n",
       "      <td>711.084763</td>\n",
       "      <td>557.705309</td>\n",
       "      <td>711.084763</td>\n",
       "      <td>557.705309</td>\n",
       "      <td>711.084763</td>\n",
       "      <td>557.705309</td>\n",
       "      <td>0.0</td>\n",
       "      <td>0.0</td>\n",
       "      <td>0.0</td>\n",
       "      <td>0.0</td>\n",
       "      <td>0.0</td>\n",
       "      <td>0.0</td>\n",
       "      <td>-1.0</td>\n",
       "      <td>1.0</td>\n",
       "      <td>0.0</td>\n",
       "      <td>0.0</td>\n",
       "      <td>0.0</td>\n",
       "      <td>0.0</td>\n",
       "      <td>-1.0</td>\n",
       "      <td>1.0</td>\n",
       "      <td>0.0</td>\n",
       "      <td>-1.0</td>\n",
       "      <td>1.0</td>\n",
       "      <td>0.0</td>\n",
       "      <td>0.0</td>\n",
       "      <td>0.0</td>\n",
       "      <td>0.0</td>\n",
       "      <td>0.0</td>\n",
       "      <td>0.0</td>\n",
       "      <td>0.0</td>\n",
       "      <td>-29.806313</td>\n",
       "      <td>29.806313</td>\n",
       "      <td>0.0</td>\n",
       "      <td>0.0</td>\n",
       "      <td>0.0</td>\n",
       "      <td>0.0</td>\n",
       "      <td>-29.806313</td>\n",
       "      <td>29.806313</td>\n",
       "      <td>0.0</td>\n",
       "      <td>-29.806313</td>\n",
       "      <td>29.806313</td>\n",
       "      <td>0.0</td>\n",
       "      <td>396575.747305</td>\n",
       "      <td>396575.747305</td>\n",
       "      <td>396575.747305</td>\n",
       "      <td>1422.169526</td>\n",
       "      <td>2133.254289</td>\n",
       "      <td>1115.410618</td>\n",
       "      <td>1673.115926</td>\n",
       "      <td>7.931515e+05</td>\n",
       "      <td>1.189727e+06</td>\n",
       "    </tr>\n",
       "    <tr>\n",
       "      <td>787</td>\n",
       "      <td>11</td>\n",
       "      <td>94944</td>\n",
       "      <td>0.0</td>\n",
       "      <td>0.0</td>\n",
       "      <td>8052</td>\n",
       "      <td>0</td>\n",
       "      <td>0.0</td>\n",
       "      <td>0.0</td>\n",
       "      <td>0.0</td>\n",
       "      <td>0.0</td>\n",
       "      <td>27.631903</td>\n",
       "      <td>2.0</td>\n",
       "      <td>0</td>\n",
       "      <td>5.0</td>\n",
       "      <td>28210</td>\n",
       "      <td>64689</td>\n",
       "      <td>20317</td>\n",
       "      <td>787</td>\n",
       "      <td>1051.756525</td>\n",
       "      <td>652.120819</td>\n",
       "      <td>1051.756525</td>\n",
       "      <td>652.120819</td>\n",
       "      <td>1051.756525</td>\n",
       "      <td>652.120819</td>\n",
       "      <td>0.0</td>\n",
       "      <td>0.0</td>\n",
       "      <td>0.0</td>\n",
       "      <td>0.0</td>\n",
       "      <td>0.0</td>\n",
       "      <td>0.0</td>\n",
       "      <td>-2.0</td>\n",
       "      <td>2.0</td>\n",
       "      <td>0.0</td>\n",
       "      <td>0.0</td>\n",
       "      <td>0.0</td>\n",
       "      <td>0.0</td>\n",
       "      <td>-2.0</td>\n",
       "      <td>2.0</td>\n",
       "      <td>0.0</td>\n",
       "      <td>-2.0</td>\n",
       "      <td>2.0</td>\n",
       "      <td>0.0</td>\n",
       "      <td>0.0</td>\n",
       "      <td>0.0</td>\n",
       "      <td>0.0</td>\n",
       "      <td>0.0</td>\n",
       "      <td>0.0</td>\n",
       "      <td>0.0</td>\n",
       "      <td>-27.631903</td>\n",
       "      <td>27.631903</td>\n",
       "      <td>0.0</td>\n",
       "      <td>0.0</td>\n",
       "      <td>0.0</td>\n",
       "      <td>0.0</td>\n",
       "      <td>-27.631903</td>\n",
       "      <td>27.631903</td>\n",
       "      <td>0.0</td>\n",
       "      <td>-27.631903</td>\n",
       "      <td>27.631903</td>\n",
       "      <td>0.0</td>\n",
       "      <td>685872.325816</td>\n",
       "      <td>685872.325816</td>\n",
       "      <td>685872.325816</td>\n",
       "      <td>2103.513049</td>\n",
       "      <td>3155.269574</td>\n",
       "      <td>1304.241637</td>\n",
       "      <td>1956.362456</td>\n",
       "      <td>1.371745e+06</td>\n",
       "      <td>2.057617e+06</td>\n",
       "    </tr>\n",
       "    <tr>\n",
       "      <td>788</td>\n",
       "      <td>11</td>\n",
       "      <td>97323</td>\n",
       "      <td>0.0</td>\n",
       "      <td>0.0</td>\n",
       "      <td>8052</td>\n",
       "      <td>0</td>\n",
       "      <td>0.0</td>\n",
       "      <td>0.0</td>\n",
       "      <td>0.0</td>\n",
       "      <td>0.0</td>\n",
       "      <td>26.758751</td>\n",
       "      <td>3.0</td>\n",
       "      <td>0</td>\n",
       "      <td>3.0</td>\n",
       "      <td>28210</td>\n",
       "      <td>64689</td>\n",
       "      <td>20317</td>\n",
       "      <td>788</td>\n",
       "      <td>646.239106</td>\n",
       "      <td>355.463557</td>\n",
       "      <td>646.239106</td>\n",
       "      <td>355.463557</td>\n",
       "      <td>646.239106</td>\n",
       "      <td>355.463557</td>\n",
       "      <td>0.0</td>\n",
       "      <td>0.0</td>\n",
       "      <td>0.0</td>\n",
       "      <td>0.0</td>\n",
       "      <td>0.0</td>\n",
       "      <td>0.0</td>\n",
       "      <td>-3.0</td>\n",
       "      <td>3.0</td>\n",
       "      <td>0.0</td>\n",
       "      <td>0.0</td>\n",
       "      <td>0.0</td>\n",
       "      <td>0.0</td>\n",
       "      <td>-3.0</td>\n",
       "      <td>3.0</td>\n",
       "      <td>0.0</td>\n",
       "      <td>-3.0</td>\n",
       "      <td>3.0</td>\n",
       "      <td>0.0</td>\n",
       "      <td>0.0</td>\n",
       "      <td>0.0</td>\n",
       "      <td>0.0</td>\n",
       "      <td>0.0</td>\n",
       "      <td>0.0</td>\n",
       "      <td>0.0</td>\n",
       "      <td>-26.758751</td>\n",
       "      <td>26.758751</td>\n",
       "      <td>0.0</td>\n",
       "      <td>0.0</td>\n",
       "      <td>0.0</td>\n",
       "      <td>0.0</td>\n",
       "      <td>-26.758751</td>\n",
       "      <td>26.758751</td>\n",
       "      <td>0.0</td>\n",
       "      <td>-26.758751</td>\n",
       "      <td>26.758751</td>\n",
       "      <td>0.0</td>\n",
       "      <td>229714.451160</td>\n",
       "      <td>229714.451160</td>\n",
       "      <td>229714.451160</td>\n",
       "      <td>1292.478212</td>\n",
       "      <td>1938.717318</td>\n",
       "      <td>710.927114</td>\n",
       "      <td>1066.390670</td>\n",
       "      <td>4.594289e+05</td>\n",
       "      <td>6.891434e+05</td>\n",
       "    </tr>\n",
       "    <tr>\n",
       "      <td>789</td>\n",
       "      <td>11</td>\n",
       "      <td>42055</td>\n",
       "      <td>0.0</td>\n",
       "      <td>0.0</td>\n",
       "      <td>8052</td>\n",
       "      <td>0</td>\n",
       "      <td>0.0</td>\n",
       "      <td>0.0</td>\n",
       "      <td>0.0</td>\n",
       "      <td>0.0</td>\n",
       "      <td>25.652910</td>\n",
       "      <td>4.0</td>\n",
       "      <td>0</td>\n",
       "      <td>5.0</td>\n",
       "      <td>28210</td>\n",
       "      <td>64689</td>\n",
       "      <td>20317</td>\n",
       "      <td>789</td>\n",
       "      <td>728.438766</td>\n",
       "      <td>510.922080</td>\n",
       "      <td>728.438766</td>\n",
       "      <td>510.922080</td>\n",
       "      <td>728.438766</td>\n",
       "      <td>510.922080</td>\n",
       "      <td>0.0</td>\n",
       "      <td>0.0</td>\n",
       "      <td>0.0</td>\n",
       "      <td>0.0</td>\n",
       "      <td>0.0</td>\n",
       "      <td>0.0</td>\n",
       "      <td>-4.0</td>\n",
       "      <td>4.0</td>\n",
       "      <td>0.0</td>\n",
       "      <td>0.0</td>\n",
       "      <td>0.0</td>\n",
       "      <td>0.0</td>\n",
       "      <td>-4.0</td>\n",
       "      <td>4.0</td>\n",
       "      <td>0.0</td>\n",
       "      <td>-4.0</td>\n",
       "      <td>4.0</td>\n",
       "      <td>0.0</td>\n",
       "      <td>0.0</td>\n",
       "      <td>0.0</td>\n",
       "      <td>0.0</td>\n",
       "      <td>0.0</td>\n",
       "      <td>0.0</td>\n",
       "      <td>0.0</td>\n",
       "      <td>-25.652910</td>\n",
       "      <td>25.652910</td>\n",
       "      <td>0.0</td>\n",
       "      <td>0.0</td>\n",
       "      <td>0.0</td>\n",
       "      <td>0.0</td>\n",
       "      <td>-25.652910</td>\n",
       "      <td>25.652910</td>\n",
       "      <td>0.0</td>\n",
       "      <td>-25.652910</td>\n",
       "      <td>25.652910</td>\n",
       "      <td>0.0</td>\n",
       "      <td>372175.449728</td>\n",
       "      <td>372175.449728</td>\n",
       "      <td>372175.449728</td>\n",
       "      <td>1456.877533</td>\n",
       "      <td>2185.316299</td>\n",
       "      <td>1021.844160</td>\n",
       "      <td>1532.766240</td>\n",
       "      <td>7.443509e+05</td>\n",
       "      <td>1.116526e+06</td>\n",
       "    </tr>\n",
       "    <tr>\n",
       "      <td>790</td>\n",
       "      <td>11</td>\n",
       "      <td>74451</td>\n",
       "      <td>0.0</td>\n",
       "      <td>0.0</td>\n",
       "      <td>8052</td>\n",
       "      <td>0</td>\n",
       "      <td>0.0</td>\n",
       "      <td>0.0</td>\n",
       "      <td>0.0</td>\n",
       "      <td>0.0</td>\n",
       "      <td>25.053457</td>\n",
       "      <td>5.0</td>\n",
       "      <td>0</td>\n",
       "      <td>3.0</td>\n",
       "      <td>28210</td>\n",
       "      <td>64689</td>\n",
       "      <td>20317</td>\n",
       "      <td>790</td>\n",
       "      <td>810.390243</td>\n",
       "      <td>537.873010</td>\n",
       "      <td>810.390243</td>\n",
       "      <td>537.873010</td>\n",
       "      <td>810.390243</td>\n",
       "      <td>537.873010</td>\n",
       "      <td>0.0</td>\n",
       "      <td>0.0</td>\n",
       "      <td>0.0</td>\n",
       "      <td>0.0</td>\n",
       "      <td>0.0</td>\n",
       "      <td>0.0</td>\n",
       "      <td>-5.0</td>\n",
       "      <td>5.0</td>\n",
       "      <td>0.0</td>\n",
       "      <td>0.0</td>\n",
       "      <td>0.0</td>\n",
       "      <td>0.0</td>\n",
       "      <td>-5.0</td>\n",
       "      <td>5.0</td>\n",
       "      <td>0.0</td>\n",
       "      <td>-5.0</td>\n",
       "      <td>5.0</td>\n",
       "      <td>0.0</td>\n",
       "      <td>0.0</td>\n",
       "      <td>0.0</td>\n",
       "      <td>0.0</td>\n",
       "      <td>0.0</td>\n",
       "      <td>0.0</td>\n",
       "      <td>0.0</td>\n",
       "      <td>-25.053457</td>\n",
       "      <td>25.053457</td>\n",
       "      <td>0.0</td>\n",
       "      <td>0.0</td>\n",
       "      <td>0.0</td>\n",
       "      <td>0.0</td>\n",
       "      <td>-25.053457</td>\n",
       "      <td>25.053457</td>\n",
       "      <td>0.0</td>\n",
       "      <td>-25.053457</td>\n",
       "      <td>25.053457</td>\n",
       "      <td>0.0</td>\n",
       "      <td>435887.039099</td>\n",
       "      <td>435887.039099</td>\n",
       "      <td>435887.039099</td>\n",
       "      <td>1620.780486</td>\n",
       "      <td>2431.170729</td>\n",
       "      <td>1075.746019</td>\n",
       "      <td>1613.619029</td>\n",
       "      <td>8.717741e+05</td>\n",
       "      <td>1.307661e+06</td>\n",
       "    </tr>\n",
       "  </tbody>\n",
       "</table>\n",
       "</div>"
      ],
      "text/plain": [
       "    user_id item_id_pred  score_1  rank_1 item_id_true  phase  score_2  rank_2  score_3  rank_3    score_4  rank_4  label  item_cnt last_1 last_2 last_3    t    sim1_text    sim1_img    sim2_text    sim2_img    sim3_text    sim3_img  rank1_sub_rank2  rank1_add_rank2  rank1_mul_rank2  rank1_sub_rank3  rank1_add_rank3  rank1_mul_rank3  rank1_sub_rank4  rank1_add_rank4  rank1_mul_rank4  rank2_sub_rank3  rank2_add_rank3  rank2_mul_rank3  rank2_sub_rank4  rank2_add_rank4  rank2_mul_rank4  rank3_sub_rank4  rank3_add_rank4  rank3_mul_rank4  score1_sub_score2  score1_add_score2  score1_mul_score2  score1_sub_score3  score1_add_score3  score1_mul_score3  score1_sub_score4  score1_add_score4  score1_mul_score4  score2_sub_score3  score2_add_score3  score2_mul_score3  score2_sub_score4  score2_add_score4  score2_mul_score4  score3_sub_score4  score3_add_score4  score3_mul_score4  sim1_text_img  sim2_text_img  sim3_text_img   sim12_text  sim123_text    sim12_img   sim123_img  sim12_text_img  sim123_text_img\n",
       "786      11        66987      0.0     0.0         8052      0      0.0     0.0      0.0     0.0  29.806313     1.0      0       4.0  28210  64689  20317  786   711.084763  557.705309   711.084763  557.705309   711.084763  557.705309              0.0              0.0              0.0              0.0              0.0              0.0             -1.0              1.0              0.0              0.0              0.0              0.0             -1.0              1.0              0.0             -1.0              1.0              0.0                0.0                0.0                0.0                0.0                0.0                0.0         -29.806313          29.806313                0.0                0.0                0.0                0.0         -29.806313          29.806313                0.0         -29.806313          29.806313                0.0  396575.747305  396575.747305  396575.747305  1422.169526  2133.254289  1115.410618  1673.115926    7.931515e+05     1.189727e+06\n",
       "787      11        94944      0.0     0.0         8052      0      0.0     0.0      0.0     0.0  27.631903     2.0      0       5.0  28210  64689  20317  787  1051.756525  652.120819  1051.756525  652.120819  1051.756525  652.120819              0.0              0.0              0.0              0.0              0.0              0.0             -2.0              2.0              0.0              0.0              0.0              0.0             -2.0              2.0              0.0             -2.0              2.0              0.0                0.0                0.0                0.0                0.0                0.0                0.0         -27.631903          27.631903                0.0                0.0                0.0                0.0         -27.631903          27.631903                0.0         -27.631903          27.631903                0.0  685872.325816  685872.325816  685872.325816  2103.513049  3155.269574  1304.241637  1956.362456    1.371745e+06     2.057617e+06\n",
       "788      11        97323      0.0     0.0         8052      0      0.0     0.0      0.0     0.0  26.758751     3.0      0       3.0  28210  64689  20317  788   646.239106  355.463557   646.239106  355.463557   646.239106  355.463557              0.0              0.0              0.0              0.0              0.0              0.0             -3.0              3.0              0.0              0.0              0.0              0.0             -3.0              3.0              0.0             -3.0              3.0              0.0                0.0                0.0                0.0                0.0                0.0                0.0         -26.758751          26.758751                0.0                0.0                0.0                0.0         -26.758751          26.758751                0.0         -26.758751          26.758751                0.0  229714.451160  229714.451160  229714.451160  1292.478212  1938.717318   710.927114  1066.390670    4.594289e+05     6.891434e+05\n",
       "789      11        42055      0.0     0.0         8052      0      0.0     0.0      0.0     0.0  25.652910     4.0      0       5.0  28210  64689  20317  789   728.438766  510.922080   728.438766  510.922080   728.438766  510.922080              0.0              0.0              0.0              0.0              0.0              0.0             -4.0              4.0              0.0              0.0              0.0              0.0             -4.0              4.0              0.0             -4.0              4.0              0.0                0.0                0.0                0.0                0.0                0.0                0.0         -25.652910          25.652910                0.0                0.0                0.0                0.0         -25.652910          25.652910                0.0         -25.652910          25.652910                0.0  372175.449728  372175.449728  372175.449728  1456.877533  2185.316299  1021.844160  1532.766240    7.443509e+05     1.116526e+06\n",
       "790      11        74451      0.0     0.0         8052      0      0.0     0.0      0.0     0.0  25.053457     5.0      0       3.0  28210  64689  20317  790   810.390243  537.873010   810.390243  537.873010   810.390243  537.873010              0.0              0.0              0.0              0.0              0.0              0.0             -5.0              5.0              0.0              0.0              0.0              0.0             -5.0              5.0              0.0             -5.0              5.0              0.0                0.0                0.0                0.0                0.0                0.0                0.0         -25.053457          25.053457                0.0                0.0                0.0                0.0         -25.053457          25.053457                0.0         -25.053457          25.053457                0.0  435887.039099  435887.039099  435887.039099  1620.780486  2431.170729  1075.746019  1613.619029    8.717741e+05     1.307661e+06"
      ]
     },
     "execution_count": 100,
     "metadata": {},
     "output_type": "execute_result"
    }
   ],
   "source": [
    "dff.head()"
   ]
  },
  {
   "cell_type": "code",
   "execution_count": 101,
   "metadata": {},
   "outputs": [
    {
     "data": {
      "text/plain": [
       "(15585787, 69)"
      ]
     },
     "execution_count": 101,
     "metadata": {},
     "output_type": "execute_result"
    }
   ],
   "source": [
    "dff.shape"
   ]
  },
  {
   "cell_type": "code",
   "execution_count": 141,
   "metadata": {},
   "outputs": [
    {
     "data": {
      "text/plain": [
       "(9536065, 10)"
      ]
     },
     "execution_count": 141,
     "metadata": {},
     "output_type": "execute_result"
    }
   ],
   "source": [
    "df.shape"
   ]
  },
  {
   "cell_type": "code",
   "execution_count": 144,
   "metadata": {},
   "outputs": [
    {
     "data": {
      "text/plain": [
       "0    9533232\n",
       "1       2833\n",
       "Name: label, dtype: int64"
      ]
     },
     "execution_count": 144,
     "metadata": {},
     "output_type": "execute_result"
    }
   ],
   "source": [
    "df.label.value_counts()"
   ]
  },
  {
   "cell_type": "code",
   "execution_count": 102,
   "metadata": {},
   "outputs": [
    {
     "data": {
      "text/plain": [
       "0    15581708\n",
       "1        4079\n",
       "Name: label, dtype: int64"
      ]
     },
     "execution_count": 102,
     "metadata": {},
     "output_type": "execute_result"
    }
   ],
   "source": [
    "dff.label.value_counts()"
   ]
  },
  {
   "cell_type": "code",
   "execution_count": 103,
   "metadata": {},
   "outputs": [
    {
     "data": {
      "text/plain": [
       "12080"
      ]
     },
     "execution_count": 103,
     "metadata": {},
     "output_type": "execute_result"
    }
   ],
   "source": [
    "dff.user_id.nunique()"
   ]
  },
  {
   "cell_type": "code",
   "execution_count": 104,
   "metadata": {},
   "outputs": [
    {
     "data": {
      "text/plain": [
       "Index(['user_id', 'item_id_pred', 'score_1', 'rank_1', 'item_id_true', 'phase',\n",
       "       'score_2', 'rank_2', 'score_3', 'rank_3', 'score_4', 'rank_4', 'label',\n",
       "       'item_cnt', 'last_1', 'last_2', 'last_3', 't', 'sim1_text', 'sim1_img',\n",
       "       'sim2_text', 'sim2_img', 'sim3_text', 'sim3_img', 'rank1_sub_rank2',\n",
       "       'rank1_add_rank2', 'rank1_mul_rank2', 'rank1_sub_rank3',\n",
       "       'rank1_add_rank3', 'rank1_mul_rank3', 'rank1_sub_rank4',\n",
       "       'rank1_add_rank4', 'rank1_mul_rank4', 'rank2_sub_rank3',\n",
       "       'rank2_add_rank3', 'rank2_mul_rank3', 'rank2_sub_rank4',\n",
       "       'rank2_add_rank4', 'rank2_mul_rank4', 'rank3_sub_rank4',\n",
       "       'rank3_add_rank4', 'rank3_mul_rank4', 'score1_sub_score2',\n",
       "       'score1_add_score2', 'score1_mul_score2', 'score1_sub_score3',\n",
       "       'score1_add_score3', 'score1_mul_score3', 'score1_sub_score4',\n",
       "       'score1_add_score4', 'score1_mul_score4', 'score2_sub_score3',\n",
       "       'score2_add_score3', 'score2_mul_score3', 'score2_sub_score4',\n",
       "       'score2_add_score4', 'score2_mul_score4', 'score3_sub_score4',\n",
       "       'score3_add_score4', 'score3_mul_score4', 'sim1_text_img',\n",
       "       'sim2_text_img', 'sim3_text_img', 'sim12_text', 'sim123_text',\n",
       "       'sim12_img', 'sim123_img', 'sim12_text_img', 'sim123_text_img'],\n",
       "      dtype='object')"
      ]
     },
     "execution_count": 104,
     "metadata": {},
     "output_type": "execute_result"
    }
   ],
   "source": [
    "dff.columns"
   ]
  },
  {
   "cell_type": "code",
   "execution_count": 105,
   "metadata": {},
   "outputs": [],
   "source": [
    "# dff.to_pickle(os.path.join(args.DATA_DIR, f'data_gen/dft{match_num}_train_features.pkl'))"
   ]
  },
  {
   "cell_type": "code",
   "execution_count": 157,
   "metadata": {},
   "outputs": [],
   "source": [
    "dff = pd.read_pickle(os.path.join(args.DATA_DIR, f'data_gen/dft{match_num}_train_features.pkl'))"
   ]
  },
  {
   "cell_type": "markdown",
   "metadata": {},
   "source": [
    "# model"
   ]
  },
  {
   "cell_type": "code",
   "execution_count": 175,
   "metadata": {},
   "outputs": [],
   "source": [
    "#export\n",
    "def get_model_input(df, mode='train'):\n",
    "    from catboost import Pool, CatBoostClassifier\n",
    "\n",
    "    cols = ['score_1', 'rank_1',\n",
    "       'score_2', 'rank_2', 'score_3', 'rank_3', 'score_4', 'rank_4',\n",
    "       'item_cnt', 'last_1', 'last_2', 'last_3', 'sim1_text', 'sim1_img',\n",
    "       'sim2_text', 'sim2_img', 'sim3_text', 'sim3_img', 'rank1_sub_rank2',\n",
    "       'rank1_add_rank2', 'rank1_mul_rank2', 'rank1_sub_rank3',\n",
    "       'rank1_add_rank3', 'rank1_mul_rank3', 'rank1_sub_rank4',\n",
    "       'rank1_add_rank4', 'rank1_mul_rank4', 'rank2_sub_rank3',\n",
    "       'rank2_add_rank3', 'rank2_mul_rank3', 'rank2_sub_rank4',\n",
    "       'rank2_add_rank4', 'rank2_mul_rank4', 'rank3_sub_rank4',\n",
    "       'rank3_add_rank4', 'rank3_mul_rank4', 'score1_sub_score2',\n",
    "       'score1_add_score2', 'score1_mul_score2', 'score1_sub_score3',\n",
    "       'score1_add_score3', 'score1_mul_score3', 'score1_sub_score4',\n",
    "       'score1_add_score4', 'score1_mul_score4', 'score2_sub_score3',\n",
    "       'score2_add_score3', 'score2_mul_score3', 'score2_sub_score4',\n",
    "       'score2_add_score4', 'score2_mul_score4', 'score3_sub_score4',\n",
    "       'score3_add_score4', 'score3_mul_score4', 'sim1_text_img',\n",
    "       'sim2_text_img', 'sim3_text_img', 'sim12_text', 'sim123_text',\n",
    "       'sim12_img', 'sim123_img', 'sim12_text_img', 'sim123_text_img']\n",
    "    df['fscore'] = 0\n",
    "    df['frank'] = 999\n",
    "    cat_cols = []\n",
    "    if mode=='train':\n",
    "        X_train, X_test, y_train, y_test = df.loc[df['phase']<6, cols], df.loc[df['phase']==6, cols], df.loc[df['phase']<6, 'label'],\\\n",
    "                                               df.loc[df['phase']==6, 'label']                 \n",
    "\n",
    "        \n",
    "        train_data = Pool(data=X_train,\n",
    "                           label=y_train,\n",
    "                           cat_features=cat_cols)\n",
    "        val_data = Pool(data=X_test, label=y_test, cat_features=cat_cols) \n",
    "        return train_data, val_data, cat_cols\n",
    "#     cols.remove('label')\n",
    "    X_test = df[cols]\n",
    "    test_data = Pool(data=X_test, cat_features=cat_cols) \n",
    "    return test_data, cat_cols"
   ]
  },
  {
   "cell_type": "code",
   "execution_count": 127,
   "metadata": {},
   "outputs": [],
   "source": [
    "# df.loc[:, 'rank_x'] = df.rank_x.map(lambda x: 999 if x==0 else x)\n",
    "# df.loc[:, 'rank_y'] = df.rank_x.map(lambda x: 999 if x==0 else x)\n",
    "# df.loc[:, 'rank'] = df.rank_x.map(lambda x: 999 if x==0 else x)"
   ]
  },
  {
   "cell_type": "code",
   "execution_count": 159,
   "metadata": {},
   "outputs": [],
   "source": [
    "train_data, val_data, cat_cols = get_model_input(dff)"
   ]
  },
  {
   "cell_type": "code",
   "execution_count": 108,
   "metadata": {},
   "outputs": [
    {
     "data": {
      "text/plain": [
       "6    2481465\n",
       "5    2432847\n",
       "4    2293060\n",
       "3    2204614\n",
       "2    2179516\n",
       "1    2149532\n",
       "0    1844753\n",
       "Name: phase, dtype: int64"
      ]
     },
     "execution_count": 108,
     "metadata": {},
     "output_type": "execute_result"
    }
   ],
   "source": [
    "dff['phase'].value_counts()"
   ]
  },
  {
   "cell_type": "code",
   "execution_count": 37,
   "metadata": {},
   "outputs": [],
   "source": []
  },
  {
   "cell_type": "code",
   "execution_count": 109,
   "metadata": {},
   "outputs": [
    {
     "data": {
      "text/plain": [
       "1821"
      ]
     },
     "execution_count": 109,
     "metadata": {},
     "output_type": "execute_result"
    }
   ],
   "source": [
    "dff.loc[df['phase']==6].user_id.nunique()"
   ]
  },
  {
   "cell_type": "code",
   "execution_count": 110,
   "metadata": {},
   "outputs": [
    {
     "data": {
      "text/plain": [
       "(2481465, 71)"
      ]
     },
     "execution_count": 110,
     "metadata": {},
     "output_type": "execute_result"
    }
   ],
   "source": [
    "dff.loc[dff['phase']==6].shape"
   ]
  },
  {
   "cell_type": "code",
   "execution_count": 168,
   "metadata": {},
   "outputs": [],
   "source": [
    "# export\n",
    "def get_model():\n",
    "    from catboost import Pool, CatBoostClassifier\n",
    "    params = {\n",
    "        'iterations': 140,\n",
    "        'learning_rate': 0.1,\n",
    "        'random_seed': 144,\n",
    "        'custom_metric': 'F1',\n",
    "        'loss_function': 'Logloss',\n",
    "        'class_weights': [1, 20],\n",
    "    #     'use_best_model': False\n",
    "        }\n",
    "    print(params)\n",
    "    model = CatBoostClassifier(**params)\n",
    "    return model"
   ]
  },
  {
   "cell_type": "code",
   "execution_count": 169,
   "metadata": {},
   "outputs": [],
   "source": [
    "# val1(r_itemcf[-1], 100, all_click_df[6][1])\n",
    "# 2020-05-27 17:39:59.717 | INFO     | __main__:val1:24 - recall50:0.15595826468973092\n",
    "# 2020-05-27 17:39:59.728 | INFO     | __main__:val1:24 - recall100:0.18231740801757276\n"
   ]
  },
  {
   "cell_type": "markdown",
   "metadata": {},
   "source": [
    "# fit"
   ]
  },
  {
   "cell_type": "code",
   "execution_count": 170,
   "metadata": {},
   "outputs": [
    {
     "name": "stdout",
     "output_type": "stream",
     "text": [
      "{'iterations': 140, 'learning_rate': 0.1, 'random_seed': 144, 'custom_metric': 'F1', 'loss_function': 'Logloss', 'class_weights': [1, 20]}\n"
     ]
    }
   ],
   "source": [
    "model = get_model()"
   ]
  },
  {
   "cell_type": "code",
   "execution_count": 171,
   "metadata": {},
   "outputs": [
    {
     "name": "stderr",
     "output_type": "stream",
     "text": [
      "2020-06-03 14:55:11.593 | INFO     | __main__:val1:19 - recall50:0.14332784184514002\n",
      "2020-06-03 14:55:11.596 | INFO     | __main__:val1:19 - recall100:0.21636463481603516\n"
     ]
    }
   ],
   "source": [
    "# export\n",
    "# r_itemcf, r_binn, r_itemcf_yl = load_match_items()\n",
    "# dff = data_preporcess([r_itemcf, r_binn, r_itemcf_yl], match_num, phase)\n",
    "# dff = fe(dff)\n",
    "# train_data, val_data, cat_cols = get_model_input(dff)\n",
    "\n",
    "r = model.fit(train_data, \n",
    "#               eval_set=val_data, \n",
    "              verbose=False,plot=False)\n",
    "dff.loc[dff['phase']==6, 'fscore'] = model.predict_proba(val_data)[:, 1]\n",
    "\n",
    "dff.loc[dff['phase']==6, 'frank'] = dff.loc[dff['phase']==6].groupby('user_id')['fscore'].rank(method='first', ascending=False)\n",
    "r = val1(dff.loc[(dff['phase']==6)&(dff['frank']<101)], 100, all_click_df[6][1])"
   ]
  },
  {
   "cell_type": "code",
   "execution_count": null,
   "metadata": {},
   "outputs": [],
   "source": [
    "2020-05-28 17:35:07.937 | INFO     | __main__:val1:24 - recall50:0.17298187808896212\n",
    "2020-05-28 17:35:07.940 | INFO     | __main__:val1:24 - recall100:0.21087314662273476\n",
    "                    \n",
    "2020-06-03 11:54:35.829 | INFO     | __main__:val1:19 - recall50:0.2317408017572762\n",
    "2020-06-03 11:54:35.835 | INFO     | __main__:val1:19 - recall100:0.3399231191652938\n",
    "                    "
   ]
  },
  {
   "cell_type": "code",
   "execution_count": 162,
   "metadata": {
    "scrolled": true
   },
   "outputs": [
    {
     "name": "stdout",
     "output_type": "stream",
     "text": [
      "0\n"
     ]
    },
    {
     "name": "stderr",
     "output_type": "stream",
     "text": [
      "2020-06-03 13:59:22.175 | INFO     | __main__:val1:19 - recall50:0.13344316309719934\n",
      "2020-06-03 13:59:22.179 | INFO     | __main__:val1:19 - recall100:0.21252059308072488\n"
     ]
    },
    {
     "name": "stdout",
     "output_type": "stream",
     "text": [
      "1\n"
     ]
    },
    {
     "name": "stderr",
     "output_type": "stream",
     "text": [
      "2020-06-03 14:00:58.664 | INFO     | __main__:val1:19 - recall50:0.13509060955518945\n",
      "2020-06-03 14:00:58.667 | INFO     | __main__:val1:19 - recall100:0.21361889071938495\n"
     ]
    },
    {
     "name": "stdout",
     "output_type": "stream",
     "text": [
      "2\n"
     ]
    },
    {
     "name": "stderr",
     "output_type": "stream",
     "text": [
      "2020-06-03 14:02:33.347 | INFO     | __main__:val1:19 - recall50:0.14058209774848984\n",
      "2020-06-03 14:02:33.350 | INFO     | __main__:val1:19 - recall100:0.21526633717737506\n"
     ]
    },
    {
     "name": "stdout",
     "output_type": "stream",
     "text": [
      "3\n"
     ]
    },
    {
     "name": "stderr",
     "output_type": "stream",
     "text": [
      "2020-06-03 14:04:07.685 | INFO     | __main__:val1:19 - recall50:0.14222954420647996\n",
      "2020-06-03 14:04:07.688 | INFO     | __main__:val1:19 - recall100:0.21691378363536518\n"
     ]
    },
    {
     "name": "stdout",
     "output_type": "stream",
     "text": [
      "4\n"
     ]
    },
    {
     "name": "stderr",
     "output_type": "stream",
     "text": [
      "2020-06-03 14:05:41.941 | INFO     | __main__:val1:19 - recall50:0.14387699066447007\n",
      "2020-06-03 14:05:41.945 | INFO     | __main__:val1:19 - recall100:0.2158154859967051\n"
     ]
    },
    {
     "name": "stdout",
     "output_type": "stream",
     "text": [
      "5\n"
     ]
    },
    {
     "name": "stderr",
     "output_type": "stream",
     "text": [
      "2020-06-03 14:07:16.621 | INFO     | __main__:val1:19 - recall50:0.14332784184514002\n",
      "2020-06-03 14:07:16.624 | INFO     | __main__:val1:19 - recall100:0.21636463481603516\n"
     ]
    },
    {
     "name": "stdout",
     "output_type": "stream",
     "text": [
      "6\n"
     ]
    },
    {
     "name": "stderr",
     "output_type": "stream",
     "text": [
      "2020-06-03 14:08:51.036 | INFO     | __main__:val1:19 - recall50:0.14222954420647996\n",
      "2020-06-03 14:08:51.039 | INFO     | __main__:val1:19 - recall100:0.21636463481603516\n"
     ]
    },
    {
     "name": "stdout",
     "output_type": "stream",
     "text": [
      "7\n"
     ]
    },
    {
     "name": "stderr",
     "output_type": "stream",
     "text": [
      "2020-06-03 14:10:26.913 | INFO     | __main__:val1:19 - recall50:0.1416803953871499\n",
      "2020-06-03 14:10:26.916 | INFO     | __main__:val1:19 - recall100:0.21691378363536518\n"
     ]
    },
    {
     "name": "stdout",
     "output_type": "stream",
     "text": [
      "8\n"
     ]
    },
    {
     "name": "stderr",
     "output_type": "stream",
     "text": [
      "2020-06-03 14:12:03.078 | INFO     | __main__:val1:19 - recall50:0.1400329489291598\n",
      "2020-06-03 14:12:03.082 | INFO     | __main__:val1:19 - recall100:0.21691378363536518\n"
     ]
    },
    {
     "name": "stdout",
     "output_type": "stream",
     "text": [
      "9\n"
     ]
    },
    {
     "name": "stderr",
     "output_type": "stream",
     "text": [
      "2020-06-03 14:13:37.451 | INFO     | __main__:val1:19 - recall50:0.13948380010982978\n",
      "2020-06-03 14:13:37.454 | INFO     | __main__:val1:19 - recall100:0.2158154859967051\n"
     ]
    }
   ],
   "source": [
    "for a in range(10):\n",
    "    print(a)\n",
    "    r = model.fit(train_data, \n",
    "#                   eval_set=val_data, \n",
    "                  verbose=False,plot=False, init_model=model)\n",
    "    dff.loc[dff['phase']==6, 'fscore'] = model.predict_proba(val_data)[:, 1]\n",
    "\n",
    "    dff.loc[dff['phase']==6, 'frank'] = dff.loc[dff['phase']==6].groupby('user_id')['fscore'].rank(method='first', ascending=False)\n",
    "\n",
    "    r = val1(dff.loc[(dff['phase']==6)&(dff['frank']<101)], 100, all_click_df[6][1])"
   ]
  },
  {
   "cell_type": "code",
   "execution_count": 163,
   "metadata": {
    "scrolled": true
   },
   "outputs": [
    {
     "name": "stdout",
     "output_type": "stream",
     "text": [
      "0\n"
     ]
    },
    {
     "name": "stderr",
     "output_type": "stream",
     "text": [
      "2020-06-03 14:16:09.850 | INFO     | __main__:val1:19 - recall50:0.14058209774848984\n",
      "2020-06-03 14:16:09.853 | INFO     | __main__:val1:19 - recall100:0.21636463481603516\n"
     ]
    },
    {
     "name": "stdout",
     "output_type": "stream",
     "text": [
      "1\n"
     ]
    },
    {
     "name": "stderr",
     "output_type": "stream",
     "text": [
      "2020-06-03 14:17:44.306 | INFO     | __main__:val1:19 - recall50:0.14222954420647996\n",
      "2020-06-03 14:17:44.309 | INFO     | __main__:val1:19 - recall100:0.21801208127402527\n"
     ]
    },
    {
     "name": "stdout",
     "output_type": "stream",
     "text": [
      "2\n"
     ]
    },
    {
     "name": "stderr",
     "output_type": "stream",
     "text": [
      "2020-06-03 14:19:20.206 | INFO     | __main__:val1:19 - recall50:0.14222954420647996\n",
      "2020-06-03 14:19:20.209 | INFO     | __main__:val1:19 - recall100:0.21911037891268534\n"
     ]
    },
    {
     "name": "stdout",
     "output_type": "stream",
     "text": [
      "3\n"
     ]
    },
    {
     "name": "stderr",
     "output_type": "stream",
     "text": [
      "2020-06-03 14:20:57.664 | INFO     | __main__:val1:19 - recall50:0.14222954420647996\n",
      "2020-06-03 14:20:57.668 | INFO     | __main__:val1:19 - recall100:0.21746293245469522\n"
     ]
    },
    {
     "name": "stdout",
     "output_type": "stream",
     "text": [
      "4\n"
     ]
    },
    {
     "name": "stderr",
     "output_type": "stream",
     "text": [
      "2020-06-03 14:22:34.063 | INFO     | __main__:val1:19 - recall50:0.14222954420647996\n",
      "2020-06-03 14:22:34.067 | INFO     | __main__:val1:19 - recall100:0.21801208127402527\n"
     ]
    },
    {
     "name": "stdout",
     "output_type": "stream",
     "text": [
      "5\n"
     ]
    },
    {
     "name": "stderr",
     "output_type": "stream",
     "text": [
      "2020-06-03 14:24:09.650 | INFO     | __main__:val1:19 - recall50:0.1400329489291598\n",
      "2020-06-03 14:24:09.653 | INFO     | __main__:val1:19 - recall100:0.2158154859967051\n"
     ]
    },
    {
     "name": "stdout",
     "output_type": "stream",
     "text": [
      "6\n"
     ]
    },
    {
     "name": "stderr",
     "output_type": "stream",
     "text": [
      "2020-06-03 14:25:46.150 | INFO     | __main__:val1:19 - recall50:0.14222954420647996\n",
      "2020-06-03 14:25:46.153 | INFO     | __main__:val1:19 - recall100:0.21636463481603516\n"
     ]
    },
    {
     "name": "stdout",
     "output_type": "stream",
     "text": [
      "7\n"
     ]
    },
    {
     "name": "stderr",
     "output_type": "stream",
     "text": [
      "2020-06-03 14:27:21.452 | INFO     | __main__:val1:19 - recall50:0.1411312465678199\n",
      "2020-06-03 14:27:21.455 | INFO     | __main__:val1:19 - recall100:0.21526633717737506\n"
     ]
    },
    {
     "name": "stdout",
     "output_type": "stream",
     "text": [
      "8\n"
     ]
    },
    {
     "name": "stderr",
     "output_type": "stream",
     "text": [
      "2020-06-03 14:28:56.973 | INFO     | __main__:val1:19 - recall50:0.1411312465678199\n",
      "2020-06-03 14:28:56.976 | INFO     | __main__:val1:19 - recall100:0.2158154859967051\n"
     ]
    },
    {
     "name": "stdout",
     "output_type": "stream",
     "text": [
      "9\n"
     ]
    },
    {
     "name": "stderr",
     "output_type": "stream",
     "text": [
      "2020-06-03 14:30:32.268 | INFO     | __main__:val1:19 - recall50:0.1400329489291598\n",
      "2020-06-03 14:30:32.272 | INFO     | __main__:val1:19 - recall100:0.21526633717737506\n"
     ]
    }
   ],
   "source": [
    "for a in range(10):\n",
    "    print(a)\n",
    "    r = model.fit(train_data, \n",
    "#                   eval_set=val_data, \n",
    "                  verbose=False,plot=False, init_model=model)\n",
    "    dff.loc[dff['phase']==6, 'fscore'] = model.predict_proba(val_data)[:, 1]\n",
    "\n",
    "    dff.loc[dff['phase']==6, 'frank'] = dff.loc[dff['phase']==6].groupby('user_id')['fscore'].rank(method='first', ascending=False)\n",
    "\n",
    "    r = val1(dff.loc[(dff['phase']==6)&(dff['frank']<101)], 100, all_click_df[6][1])"
   ]
  },
  {
   "cell_type": "code",
   "execution_count": null,
   "metadata": {
    "scrolled": true
   },
   "outputs": [
    {
     "name": "stdout",
     "output_type": "stream",
     "text": [
      "0\n"
     ]
    },
    {
     "name": "stderr",
     "output_type": "stream",
     "text": [
      "2020-06-03 14:33:42.404 | INFO     | __main__:val1:19 - recall50:0.13893465129049973\n",
      "2020-06-03 14:33:42.407 | INFO     | __main__:val1:19 - recall100:0.21361889071938495\n"
     ]
    },
    {
     "name": "stdout",
     "output_type": "stream",
     "text": [
      "1\n"
     ]
    },
    {
     "name": "stderr",
     "output_type": "stream",
     "text": [
      "2020-06-03 14:35:17.969 | INFO     | __main__:val1:19 - recall50:0.1400329489291598\n",
      "2020-06-03 14:35:17.984 | INFO     | __main__:val1:19 - recall100:0.214168039538715\n"
     ]
    },
    {
     "name": "stdout",
     "output_type": "stream",
     "text": [
      "2\n"
     ]
    },
    {
     "name": "stderr",
     "output_type": "stream",
     "text": [
      "2020-06-03 14:36:52.903 | INFO     | __main__:val1:19 - recall50:0.1400329489291598\n",
      "2020-06-03 14:36:52.907 | INFO     | __main__:val1:19 - recall100:0.21526633717737506\n"
     ]
    },
    {
     "name": "stdout",
     "output_type": "stream",
     "text": [
      "3\n"
     ]
    },
    {
     "name": "stderr",
     "output_type": "stream",
     "text": [
      "2020-06-03 14:38:27.254 | INFO     | __main__:val1:19 - recall50:0.13893465129049973\n",
      "2020-06-03 14:38:27.257 | INFO     | __main__:val1:19 - recall100:0.2158154859967051\n"
     ]
    },
    {
     "name": "stdout",
     "output_type": "stream",
     "text": [
      "4\n"
     ]
    },
    {
     "name": "stderr",
     "output_type": "stream",
     "text": [
      "2020-06-03 14:40:03.252 | INFO     | __main__:val1:19 - recall50:0.13948380010982978\n",
      "2020-06-03 14:40:03.255 | INFO     | __main__:val1:19 - recall100:0.214168039538715\n"
     ]
    },
    {
     "name": "stdout",
     "output_type": "stream",
     "text": [
      "5\n"
     ]
    },
    {
     "name": "stderr",
     "output_type": "stream",
     "text": [
      "2020-06-03 14:41:39.228 | INFO     | __main__:val1:19 - recall50:0.13893465129049973\n",
      "2020-06-03 14:41:39.232 | INFO     | __main__:val1:19 - recall100:0.21471718835804504\n"
     ]
    },
    {
     "name": "stdout",
     "output_type": "stream",
     "text": [
      "6\n"
     ]
    }
   ],
   "source": [
    "for a in range(10):\n",
    "    print(a)\n",
    "    r = model.fit(train_data, \n",
    "#                   eval_set=val_data, \n",
    "                  verbose=False,plot=False, init_model=model)\n",
    "    dff.loc[dff['phase']==6, 'fscore'] = model.predict_proba(val_data)[:, 1]\n",
    "\n",
    "    dff.loc[dff['phase']==6, 'frank'] = dff.loc[dff['phase']==6].groupby('user_id')['fscore'].rank(method='first', ascending=False)\n",
    "\n",
    "    r = val1(dff.loc[(dff['phase']==6)&(dff['frank']<101)], 100, all_click_df[6][1])"
   ]
  },
  {
   "cell_type": "code",
   "execution_count": 172,
   "metadata": {},
   "outputs": [],
   "source": [
    "# model.save_model(os.path.join(args.DATA_DIR, 'data_gen/catboost_model500_feat_last123_all.dump'))"
   ]
  },
  {
   "cell_type": "markdown",
   "metadata": {},
   "source": [
    "# predict"
   ]
  },
  {
   "cell_type": "code",
   "execution_count": 9,
   "metadata": {},
   "outputs": [
    {
     "name": "stderr",
     "output_type": "stream",
     "text": [
      "/root/data1/myappsexlib/a_0330_0527_Modern_E_Commerce_Platform_Debiasing/code/eda.py:32: ParserWarning: Falling back to the 'python' engine because the 'c' engine does not support regex separators (separators > 1 char and different from '\\s+' are interpreted as regex); you can avoid this warning by specifying engine='python'.\n",
      "  converters={'item_id':str})\n"
     ]
    }
   ],
   "source": [
    "item_feat = get_item_data()\n",
    "\n",
    "item_feat['text_vec'] = item_feat.iloc[:, 1:129].values.tolist()\n",
    "item_feat['img_vec'] = item_feat.iloc[:, 129:257].values.tolist()\n",
    "\n",
    "item_feat['text_vec'] = item_feat['text_vec'].map(np.array)\n",
    "\n",
    "item_feat['img_vec'] = item_feat['img_vec'].map(np.array)\n",
    "\n",
    "item_feat.set_index('item_id', inplace=True)"
   ]
  },
  {
   "cell_type": "code",
   "execution_count": 118,
   "metadata": {},
   "outputs": [],
   "source": [
    "r_itemcf = PickleWrapper.loadFromFile(os.path.join(args.DATA_DIR, 'data_gen/r_list_itemcf_test_0527.pkl'))\n",
    "\n",
    "r_binn = PickleWrapper.loadFromFile(os.path.join(args.DATA_DIR, 'data_gen/r_list_binn_test_0527.pkl'))\n",
    "\n",
    "r_itemcf_yl = PickleWrapper.loadFromFile(os.path.join(args.DATA_DIR, 'data_gen/r_list_itemcf_yulao_test_0527.pkl'))\n",
    "r_list_w2v = PickleWrapper.loadFromFile(os.path.join(args.DATA_DIR, 'data_gen/r_list_w2v_test_0603_all.pkl'))"
   ]
  },
  {
   "cell_type": "code",
   "execution_count": 120,
   "metadata": {},
   "outputs": [
    {
     "name": "stdout",
     "output_type": "stream",
     "text": [
      "merge Multi-channel recall...\n"
     ]
    },
    {
     "name": "stderr",
     "output_type": "stream",
     "text": [
      "\n",
      "\n",
      "  0%|          | 0/7 [00:00<?, ?it/s]\u001b[A\u001b[A\n",
      "\n",
      " 14%|█▍        | 1/7 [02:08<12:51, 128.56s/it]\u001b[A\u001b[A\n",
      "\n",
      " 29%|██▊       | 2/7 [04:22<10:50, 130.19s/it]\u001b[A\u001b[A\n",
      "\n",
      " 43%|████▎     | 3/7 [06:36<08:45, 131.28s/it]\u001b[A\u001b[A\n",
      "\n",
      " 57%|█████▋    | 4/7 [08:50<06:36, 132.18s/it]\u001b[A\u001b[A\n",
      "\n",
      " 71%|███████▏  | 5/7 [11:01<04:23, 131.68s/it]\u001b[A\u001b[A\n",
      "\n",
      " 86%|████████▌ | 6/7 [13:09<02:10, 130.80s/it]\u001b[A\u001b[A\n",
      "\n",
      "100%|██████████| 7/7 [15:15<00:00, 130.76s/it]\u001b[A\u001b[A\n"
     ]
    }
   ],
   "source": [
    "phase = [0, 1, 2, 3, 4, 5, 6]\n",
    "match_num = 500\n",
    "\n",
    "df = data_preporcess([r_itemcf, r_binn, r_itemcf_yl, r_list_w2v], match_num, phase, mode='predict')\n"
   ]
  },
  {
   "cell_type": "code",
   "execution_count": 121,
   "metadata": {},
   "outputs": [
    {
     "data": {
      "text/plain": [
       "(15530154, 15)"
      ]
     },
     "execution_count": 121,
     "metadata": {},
     "output_type": "execute_result"
    }
   ],
   "source": [
    "df.shape"
   ]
  },
  {
   "cell_type": "code",
   "execution_count": 133,
   "metadata": {},
   "outputs": [],
   "source": [
    "df['t'] = range(df.shape[0])"
   ]
  },
  {
   "cell_type": "code",
   "execution_count": 124,
   "metadata": {},
   "outputs": [
    {
     "data": {
      "text/html": [
       "<div>\n",
       "<style scoped>\n",
       "    .dataframe tbody tr th:only-of-type {\n",
       "        vertical-align: middle;\n",
       "    }\n",
       "\n",
       "    .dataframe tbody tr th {\n",
       "        vertical-align: top;\n",
       "    }\n",
       "\n",
       "    .dataframe thead th {\n",
       "        text-align: right;\n",
       "    }\n",
       "</style>\n",
       "<table border=\"1\" class=\"dataframe\">\n",
       "  <thead>\n",
       "    <tr style=\"text-align: right;\">\n",
       "      <th></th>\n",
       "      <th>user_id</th>\n",
       "      <th>item_id_pred</th>\n",
       "      <th>score_x</th>\n",
       "      <th>rank_x</th>\n",
       "      <th>phase</th>\n",
       "      <th>score_y</th>\n",
       "      <th>rank_y</th>\n",
       "      <th>score_x</th>\n",
       "      <th>rank_x</th>\n",
       "      <th>score_y</th>\n",
       "      <th>rank_y</th>\n",
       "      <th>item_cnt</th>\n",
       "      <th>last_1</th>\n",
       "      <th>last_2</th>\n",
       "      <th>last_3</th>\n",
       "      <th>item_id_pred_text_vec</th>\n",
       "      <th>item_id_pred_img_vec</th>\n",
       "    </tr>\n",
       "  </thead>\n",
       "  <tbody>\n",
       "    <tr>\n",
       "      <td>0</td>\n",
       "      <td>11</td>\n",
       "      <td>10528</td>\n",
       "      <td>9.343545</td>\n",
       "      <td>1.0</td>\n",
       "      <td>0</td>\n",
       "      <td>0.749194</td>\n",
       "      <td>21.0</td>\n",
       "      <td>0.110274</td>\n",
       "      <td>2.0</td>\n",
       "      <td>34.100440</td>\n",
       "      <td>4.0</td>\n",
       "      <td>7.0</td>\n",
       "      <td>28210</td>\n",
       "      <td>64689</td>\n",
       "      <td>20317</td>\n",
       "      <td>[3.5714921951293945, -3.301568031311035, -1.44...</td>\n",
       "      <td>[-2.7678756713867188, -0.804641842842102, -2.3...</td>\n",
       "    </tr>\n",
       "    <tr>\n",
       "      <td>1</td>\n",
       "      <td>11</td>\n",
       "      <td>79868</td>\n",
       "      <td>6.949118</td>\n",
       "      <td>2.0</td>\n",
       "      <td>0</td>\n",
       "      <td>2.023002</td>\n",
       "      <td>1.0</td>\n",
       "      <td>0.007360</td>\n",
       "      <td>322.0</td>\n",
       "      <td>10.992932</td>\n",
       "      <td>454.0</td>\n",
       "      <td>47.0</td>\n",
       "      <td>28210</td>\n",
       "      <td>64689</td>\n",
       "      <td>20317</td>\n",
       "      <td>[2.3873836994171143, 1.274107813835144, 0.2217...</td>\n",
       "      <td>[-2.599696159362793, 1.5488953590393066, -1.48...</td>\n",
       "    </tr>\n",
       "  </tbody>\n",
       "</table>\n",
       "</div>"
      ],
      "text/plain": [
       "  user_id item_id_pred   score_x  rank_x  phase   score_y  rank_y   score_x  rank_x    score_y  rank_y  item_cnt last_1 last_2 last_3                              item_id_pred_text_vec                               item_id_pred_img_vec\n",
       "0      11        10528  9.343545     1.0      0  0.749194    21.0  0.110274     2.0  34.100440     4.0       7.0  28210  64689  20317  [3.5714921951293945, -3.301568031311035, -1.44...  [-2.7678756713867188, -0.804641842842102, -2.3...\n",
       "1      11        79868  6.949118     2.0      0  2.023002     1.0  0.007360   322.0  10.992932   454.0      47.0  28210  64689  20317  [2.3873836994171143, 1.274107813835144, 0.2217...  [-2.599696159362793, 1.5488953590393066, -1.48..."
      ]
     },
     "execution_count": 124,
     "metadata": {},
     "output_type": "execute_result"
    }
   ],
   "source": [
    "df.head(2)"
   ]
  },
  {
   "cell_type": "code",
   "execution_count": 128,
   "metadata": {},
   "outputs": [],
   "source": [
    "temp_ = pd.read_pickle(os.path.join(args.DATA_DIR, f'data_gen/dft{match_num}_test_features.pkl'))"
   ]
  },
  {
   "cell_type": "code",
   "execution_count": 129,
   "metadata": {},
   "outputs": [
    {
     "data": {
      "text/plain": [
       "Index(['user_id', 'item_id_pred', 'phase', 'score_x', 'rank_x', 'score_y',\n",
       "       'rank_y', 'score', 'rank', 'item_cnt', 'sim1_text', 'sim1_img',\n",
       "       'sim2_text', 'sim2_img', 'sim3_text', 'sim3_img', 'sim4_text',\n",
       "       'sim4_img', 'sim5_text', 'sim5_img', 'rank1_sub_rank2',\n",
       "       'rank1_add_rank2', 'rank1_mul_rank2', 'rank1_sub_rank3',\n",
       "       'rank1_add_rank3', 'rank1_mul_rank3', 'rank2_sub_rank3',\n",
       "       'rank2_add_rank3', 'rank2_mul_rank3', 'score1_sub_score2',\n",
       "       'score1_add_score2', 'score1_mul_score2', 'score1_sub_score3',\n",
       "       'score1_add_score3', 'score1_mul_score3', 'score2_sub_score3',\n",
       "       'score2_add_score3', 'score2_mul_score3', 'sim1_text_img',\n",
       "       'sim2_text_img', 'sim3_text_img', 'sim4_text_img', 'sim5_text_img',\n",
       "       'sim12_text', 'sim123_text', 'sim1234_text', 'sim12345_text',\n",
       "       'sim12_img', 'sim123_img', 'sim1234_img', 'sim12345_img',\n",
       "       'sim12_text_img', 'sim123_text_img', 'sim1234_text_img',\n",
       "       'sim12345_text_img'],\n",
       "      dtype='object')"
      ]
     },
     "execution_count": 129,
     "metadata": {},
     "output_type": "execute_result"
    }
   ],
   "source": [
    "temp_.columns"
   ]
  },
  {
   "cell_type": "code",
   "execution_count": 134,
   "metadata": {},
   "outputs": [],
   "source": [
    "df_ = pd.merge(df, temp_[['user_id', 'item_id_pred', 'phase', 'sim1_text', 'sim1_img',\n",
    "       'sim2_text', 'sim2_img', 'sim3_text', 'sim3_img']], on=['user_id', 'item_id_pred', 'phase'])"
   ]
  },
  {
   "cell_type": "code",
   "execution_count": 132,
   "metadata": {},
   "outputs": [
    {
     "data": {
      "text/plain": [
       "(11168101, 23)"
      ]
     },
     "execution_count": 132,
     "metadata": {},
     "output_type": "execute_result"
    }
   ],
   "source": [
    "df_.shape"
   ]
  },
  {
   "cell_type": "code",
   "execution_count": 135,
   "metadata": {},
   "outputs": [],
   "source": [
    "df1 = df[~df.t.isin(df_.t)]"
   ]
  },
  {
   "cell_type": "code",
   "execution_count": 136,
   "metadata": {},
   "outputs": [
    {
     "data": {
      "text/plain": [
       "(4362053, 18)"
      ]
     },
     "execution_count": 136,
     "metadata": {},
     "output_type": "execute_result"
    }
   ],
   "source": [
    "df1.shape"
   ]
  },
  {
   "cell_type": "code",
   "execution_count": 137,
   "metadata": {},
   "outputs": [
    {
     "data": {
      "text/html": [
       "<div>\n",
       "<style scoped>\n",
       "    .dataframe tbody tr th:only-of-type {\n",
       "        vertical-align: middle;\n",
       "    }\n",
       "\n",
       "    .dataframe tbody tr th {\n",
       "        vertical-align: top;\n",
       "    }\n",
       "\n",
       "    .dataframe thead th {\n",
       "        text-align: right;\n",
       "    }\n",
       "</style>\n",
       "<table border=\"1\" class=\"dataframe\">\n",
       "  <thead>\n",
       "    <tr style=\"text-align: right;\">\n",
       "      <th></th>\n",
       "      <th>user_id</th>\n",
       "      <th>item_id_pred</th>\n",
       "      <th>score_x</th>\n",
       "      <th>rank_x</th>\n",
       "      <th>phase</th>\n",
       "      <th>score_y</th>\n",
       "      <th>rank_y</th>\n",
       "      <th>score_x</th>\n",
       "      <th>rank_x</th>\n",
       "      <th>score_y</th>\n",
       "      <th>rank_y</th>\n",
       "      <th>item_cnt</th>\n",
       "      <th>last_1</th>\n",
       "      <th>last_2</th>\n",
       "      <th>last_3</th>\n",
       "      <th>item_id_pred_text_vec</th>\n",
       "      <th>item_id_pred_img_vec</th>\n",
       "      <th>t</th>\n",
       "    </tr>\n",
       "  </thead>\n",
       "  <tbody>\n",
       "    <tr>\n",
       "      <td>875</td>\n",
       "      <td>11</td>\n",
       "      <td>81221</td>\n",
       "      <td>0.0</td>\n",
       "      <td>0.0</td>\n",
       "      <td>0</td>\n",
       "      <td>0.0</td>\n",
       "      <td>0.0</td>\n",
       "      <td>0.0</td>\n",
       "      <td>0.0</td>\n",
       "      <td>39.036631</td>\n",
       "      <td>2.0</td>\n",
       "      <td>5.0</td>\n",
       "      <td>28210</td>\n",
       "      <td>64689</td>\n",
       "      <td>20317</td>\n",
       "      <td>[2.7964396476745605, -0.6318608522415161, 2.20...</td>\n",
       "      <td>[-1.5980700254440308, 2.5623795986175537, 1.70...</td>\n",
       "      <td>875</td>\n",
       "    </tr>\n",
       "    <tr>\n",
       "      <td>876</td>\n",
       "      <td>11</td>\n",
       "      <td>11679</td>\n",
       "      <td>0.0</td>\n",
       "      <td>0.0</td>\n",
       "      <td>0</td>\n",
       "      <td>0.0</td>\n",
       "      <td>0.0</td>\n",
       "      <td>0.0</td>\n",
       "      <td>0.0</td>\n",
       "      <td>29.522777</td>\n",
       "      <td>7.0</td>\n",
       "      <td>4.0</td>\n",
       "      <td>28210</td>\n",
       "      <td>64689</td>\n",
       "      <td>20317</td>\n",
       "      <td>[-0.25924938917160034, 1.6548818349838257, 0.5...</td>\n",
       "      <td>[0.8699896335601807, -4.748091220855713, -0.07...</td>\n",
       "      <td>876</td>\n",
       "    </tr>\n",
       "  </tbody>\n",
       "</table>\n",
       "</div>"
      ],
      "text/plain": [
       "    user_id item_id_pred  score_x  rank_x  phase  score_y  rank_y  score_x  rank_x    score_y  rank_y  item_cnt last_1 last_2 last_3                              item_id_pred_text_vec                               item_id_pred_img_vec    t\n",
       "875      11        81221      0.0     0.0      0      0.0     0.0      0.0     0.0  39.036631     2.0       5.0  28210  64689  20317  [2.7964396476745605, -0.6318608522415161, 2.20...  [-1.5980700254440308, 2.5623795986175537, 1.70...  875\n",
       "876      11        11679      0.0     0.0      0      0.0     0.0      0.0     0.0  29.522777     7.0       4.0  28210  64689  20317  [-0.25924938917160034, 1.6548818349838257, 0.5...  [0.8699896335601807, -4.748091220855713, -0.07...  876"
      ]
     },
     "execution_count": 137,
     "metadata": {},
     "output_type": "execute_result"
    }
   ],
   "source": [
    "df1.head(2)"
   ]
  },
  {
   "cell_type": "code",
   "execution_count": 138,
   "metadata": {
    "scrolled": true
   },
   "outputs": [
    {
     "name": "stderr",
     "output_type": "stream",
     "text": [
      "\n",
      "\n",
      "\n",
      "  0%|          | 0/3 [00:00<?, ?it/s]\u001b[A\u001b[A\u001b[A/root/anaconda3/lib/python3.7/site-packages/ipykernel_launcher.py:6: SettingWithCopyWarning: \n",
      "A value is trying to be set on a copy of a slice from a DataFrame.\n",
      "Try using .loc[row_indexer,col_indexer] = value instead\n",
      "\n",
      "See the caveats in the documentation: http://pandas.pydata.org/pandas-docs/stable/user_guide/indexing.html#returning-a-view-versus-a-copy\n",
      "  \n",
      "/root/anaconda3/lib/python3.7/site-packages/ipykernel_launcher.py:8: SettingWithCopyWarning: \n",
      "A value is trying to be set on a copy of a slice from a DataFrame.\n",
      "Try using .loc[row_indexer,col_indexer] = value instead\n",
      "\n",
      "See the caveats in the documentation: http://pandas.pydata.org/pandas-docs/stable/user_guide/indexing.html#returning-a-view-versus-a-copy\n",
      "  \n",
      "\n",
      "\n",
      "\n",
      " 33%|███▎      | 1/3 [03:17<06:34, 197.06s/it]\u001b[A\u001b[A\u001b[A\n",
      "\n",
      "\n",
      " 67%|██████▋   | 2/3 [06:39<03:18, 198.74s/it]\u001b[A\u001b[A\u001b[A\n",
      "\n",
      "\n",
      "100%|██████████| 3/3 [10:01<00:00, 200.37s/it]\u001b[A\u001b[A\u001b[A\n",
      "/root/anaconda3/lib/python3.7/site-packages/ipykernel_launcher.py:11: SettingWithCopyWarning: \n",
      "A value is trying to be set on a copy of a slice from a DataFrame.\n",
      "Try using .loc[row_indexer,col_indexer] = value instead\n",
      "\n",
      "See the caveats in the documentation: http://pandas.pydata.org/pandas-docs/stable/user_guide/indexing.html#returning-a-view-versus-a-copy\n",
      "  # This is added back by InteractiveShellApp.init_path()\n",
      "/root/anaconda3/lib/python3.7/site-packages/ipykernel_launcher.py:13: SettingWithCopyWarning: \n",
      "A value is trying to be set on a copy of a slice from a DataFrame.\n",
      "Try using .loc[row_indexer,col_indexer] = value instead\n",
      "\n",
      "See the caveats in the documentation: http://pandas.pydata.org/pandas-docs/stable/user_guide/indexing.html#returning-a-view-versus-a-copy\n",
      "  del sys.path[0]\n",
      "/root/anaconda3/lib/python3.7/site-packages/ipykernel_launcher.py:15: SettingWithCopyWarning: \n",
      "A value is trying to be set on a copy of a slice from a DataFrame.\n",
      "Try using .loc[row_indexer,col_indexer] = value instead\n",
      "\n",
      "See the caveats in the documentation: http://pandas.pydata.org/pandas-docs/stable/user_guide/indexing.html#returning-a-view-versus-a-copy\n",
      "  from ipykernel import kernelapp as app\n",
      "/root/anaconda3/lib/python3.7/site-packages/ipykernel_launcher.py:16: SettingWithCopyWarning: \n",
      "A value is trying to be set on a copy of a slice from a DataFrame.\n",
      "Try using .loc[row_indexer,col_indexer] = value instead\n",
      "\n",
      "See the caveats in the documentation: http://pandas.pydata.org/pandas-docs/stable/user_guide/indexing.html#returning-a-view-versus-a-copy\n",
      "  app.launch_new_instance()\n",
      "/root/anaconda3/lib/python3.7/site-packages/ipykernel_launcher.py:18: SettingWithCopyWarning: \n",
      "A value is trying to be set on a copy of a slice from a DataFrame.\n",
      "Try using .loc[row_indexer,col_indexer] = value instead\n",
      "\n",
      "See the caveats in the documentation: http://pandas.pydata.org/pandas-docs/stable/user_guide/indexing.html#returning-a-view-versus-a-copy\n",
      "/root/anaconda3/lib/python3.7/site-packages/ipykernel_launcher.py:19: SettingWithCopyWarning: \n",
      "A value is trying to be set on a copy of a slice from a DataFrame.\n",
      "Try using .loc[row_indexer,col_indexer] = value instead\n",
      "\n",
      "See the caveats in the documentation: http://pandas.pydata.org/pandas-docs/stable/user_guide/indexing.html#returning-a-view-versus-a-copy\n"
     ]
    }
   ],
   "source": [
    "# df1['item_id_pred_text_vec'] = df1.item_id_pred.map(lambda x: item_feat['text_vec'][x] if x in item_feat['text_vec'] else np.zeros(128))\n",
    "\n",
    "# df1['item_id_pred_img_vec'] = df1.item_id_pred.map(lambda x: item_feat['img_vec'][x] if x in item_feat['img_vec'] else np.arange(128))\n",
    "\n",
    "for c in tqdm('last_1 last_2 last_3'.split()):\n",
    "    df1[f'{c}_text_vec'] = df1.item_id_pred.map(lambda x: item_feat['text_vec'][x] if x in item_feat['text_vec'] else np.zeros(128))\n",
    "\n",
    "    df1[f'{c}_img_vec'] = df1.item_id_pred.map(lambda x: item_feat['img_vec'][x] if x in item_feat['img_vec'] else np.arange(128))\n",
    "\n",
    "\n",
    "df1['sim1_text'] = (df1['item_id_pred_text_vec'] * df1['last_1_text_vec']).map(sum)\n",
    "\n",
    "df1['sim1_img'] = (df1['item_id_pred_img_vec'] * df1['last_1_img_vec']).map(sum)\n",
    "\n",
    "df1['sim2_text'] = (df1['item_id_pred_text_vec'] * df1['last_2_text_vec']).map(sum)\n",
    "df1['sim2_img'] = (df1['item_id_pred_img_vec'] * df1['last_2_img_vec']).map(sum)\n",
    "\n",
    "df1['sim3_text'] = (df1['item_id_pred_text_vec'] * df1['last_3_text_vec']).map(sum)\n",
    "df1['sim3_img'] = (df1['item_id_pred_img_vec'] * df1['last_3_img_vec']).map(sum)"
   ]
  },
  {
   "cell_type": "code",
   "execution_count": 142,
   "metadata": {},
   "outputs": [],
   "source": [
    "df1.columns = ['user_id', 'item_id_pred', 'score_1', 'rank_1', 'phase', 'score_2',\n",
    "       'rank_2', 'score_3', 'rank_3', 'score_4', 'rank_4', 'item_cnt',\n",
    "       'last_1', 'last_2', 'last_3', 'item_id_pred_text_vec',\n",
    "       'item_id_pred_img_vec', 't', 'last_1_text_vec', 'last_1_img_vec',\n",
    "       'last_2_text_vec', 'last_2_img_vec', 'last_3_text_vec',\n",
    "       'last_3_img_vec', 'sim1_text', 'sim1_img', 'sim2_text', 'sim2_img',\n",
    "       'sim3_text', 'sim3_img']"
   ]
  },
  {
   "cell_type": "code",
   "execution_count": 143,
   "metadata": {},
   "outputs": [],
   "source": [
    "df_.columns = ['user_id', 'item_id_pred', 'score_1', 'rank_1', 'phase', 'score_2',\n",
    "       'rank_2', 'score_3', 'rank_3', 'score_4', 'rank_4', 'item_cnt',\n",
    "       'last_1', 'last_2', 'last_3', 'item_id_pred_text_vec',\n",
    "       'item_id_pred_img_vec', 't', 'sim1_text', 'sim1_img', 'sim2_text',\n",
    "       'sim2_img', 'sim3_text', 'sim3_img']"
   ]
  },
  {
   "cell_type": "code",
   "execution_count": 144,
   "metadata": {},
   "outputs": [],
   "source": [
    "dff = df1[df_.columns].append(df_)"
   ]
  },
  {
   "cell_type": "code",
   "execution_count": 145,
   "metadata": {},
   "outputs": [
    {
     "data": {
      "text/plain": [
       "(15530154, 24)"
      ]
     },
     "execution_count": 145,
     "metadata": {},
     "output_type": "execute_result"
    }
   ],
   "source": [
    "dff.shape"
   ]
  },
  {
   "cell_type": "code",
   "execution_count": 146,
   "metadata": {},
   "outputs": [
    {
     "name": "stderr",
     "output_type": "stream",
     "text": [
      "\n",
      "\n",
      "\n",
      "  0%|          | 0/2 [00:00<?, ?it/s]\u001b[A\u001b[A\u001b[A\n",
      "\n",
      "\n",
      " 50%|█████     | 1/2 [00:00<00:00,  2.19it/s]\u001b[A\u001b[A\u001b[A\n",
      "\n",
      "\n",
      "100%|██████████| 2/2 [00:00<00:00,  2.29it/s]\u001b[A\u001b[A\u001b[A\n"
     ]
    }
   ],
   "source": [
    "dff = fe(dff)\n"
   ]
  },
  {
   "cell_type": "code",
   "execution_count": 147,
   "metadata": {},
   "outputs": [
    {
     "data": {
      "text/plain": [
       "Index(['user_id', 'item_id_pred', 'score_1', 'rank_1', 'phase', 'score_2',\n",
       "       'rank_2', 'score_3', 'rank_3', 'score_4', 'rank_4', 'item_cnt',\n",
       "       'last_1', 'last_2', 'last_3', 'item_id_pred_text_vec',\n",
       "       'item_id_pred_img_vec', 't', 'sim1_text', 'sim1_img', 'sim2_text',\n",
       "       'sim2_img', 'sim3_text', 'sim3_img', 'rank1_sub_rank2',\n",
       "       'rank1_add_rank2', 'rank1_mul_rank2', 'rank1_sub_rank3',\n",
       "       'rank1_add_rank3', 'rank1_mul_rank3', 'rank1_sub_rank4',\n",
       "       'rank1_add_rank4', 'rank1_mul_rank4', 'rank2_sub_rank3',\n",
       "       'rank2_add_rank3', 'rank2_mul_rank3', 'rank2_sub_rank4',\n",
       "       'rank2_add_rank4', 'rank2_mul_rank4', 'rank3_sub_rank4',\n",
       "       'rank3_add_rank4', 'rank3_mul_rank4', 'score1_sub_score2',\n",
       "       'score1_add_score2', 'score1_mul_score2', 'score1_sub_score3',\n",
       "       'score1_add_score3', 'score1_mul_score3', 'score1_sub_score4',\n",
       "       'score1_add_score4', 'score1_mul_score4', 'score2_sub_score3',\n",
       "       'score2_add_score3', 'score2_mul_score3', 'score2_sub_score4',\n",
       "       'score2_add_score4', 'score2_mul_score4', 'score3_sub_score4',\n",
       "       'score3_add_score4', 'score3_mul_score4', 'sim1_text_img',\n",
       "       'sim2_text_img', 'sim3_text_img', 'sim12_text', 'sim123_text',\n",
       "       'sim12_img', 'sim123_img', 'sim12_text_img', 'sim123_text_img'],\n",
       "      dtype='object')"
      ]
     },
     "execution_count": 147,
     "metadata": {},
     "output_type": "execute_result"
    }
   ],
   "source": [
    "dff.columns"
   ]
  },
  {
   "cell_type": "code",
   "execution_count": 148,
   "metadata": {},
   "outputs": [],
   "source": [
    "cols = ['user_id', 'item_id_pred', 'score_1', 'rank_1', 'phase', 'score_2',\n",
    "       'rank_2', 'score_3', 'rank_3', 'score_4', 'rank_4', 'item_cnt',\n",
    "       'last_1', 'last_2', 'last_3', 'sim1_text', 'sim1_img', 'sim2_text',\n",
    "       'sim2_img', 'sim3_text', 'sim3_img', 'rank1_sub_rank2',\n",
    "       'rank1_add_rank2', 'rank1_mul_rank2', 'rank1_sub_rank3',\n",
    "       'rank1_add_rank3', 'rank1_mul_rank3', 'rank1_sub_rank4',\n",
    "       'rank1_add_rank4', 'rank1_mul_rank4', 'rank2_sub_rank3',\n",
    "       'rank2_add_rank3', 'rank2_mul_rank3', 'rank2_sub_rank4',\n",
    "       'rank2_add_rank4', 'rank2_mul_rank4', 'rank3_sub_rank4',\n",
    "       'rank3_add_rank4', 'rank3_mul_rank4', 'score1_sub_score2',\n",
    "       'score1_add_score2', 'score1_mul_score2', 'score1_sub_score3',\n",
    "       'score1_add_score3', 'score1_mul_score3', 'score1_sub_score4',\n",
    "       'score1_add_score4', 'score1_mul_score4', 'score2_sub_score3',\n",
    "       'score2_add_score3', 'score2_mul_score3', 'score2_sub_score4',\n",
    "       'score2_add_score4', 'score2_mul_score4', 'score3_sub_score4',\n",
    "       'score3_add_score4', 'score3_mul_score4', 'sim1_text_img',\n",
    "       'sim2_text_img', 'sim3_text_img', 'sim12_text', 'sim123_text',\n",
    "       'sim12_img', 'sim123_img', 'sim12_text_img', 'sim123_text_img']\n",
    "# dff[cols].to_pickle(os.path.join(args.DATA_DIR, f'data_gen/dft{match_num}_test_features_all.pkl'))"
   ]
  },
  {
   "cell_type": "code",
   "execution_count": 173,
   "metadata": {},
   "outputs": [],
   "source": [
    "dff = pd.read_pickle(os.path.join(args.DATA_DIR, f'data_gen/dft{match_num}_test_features_all.pkl'))"
   ]
  },
  {
   "cell_type": "code",
   "execution_count": 176,
   "metadata": {},
   "outputs": [],
   "source": [
    "test_data, cat_cols = get_model_input(dff, mode='predict')\n"
   ]
  },
  {
   "cell_type": "code",
   "execution_count": 19,
   "metadata": {},
   "outputs": [
    {
     "data": {
      "text/plain": [
       "{'14997'}"
      ]
     },
     "execution_count": 19,
     "metadata": {},
     "output_type": "execute_result"
    }
   ],
   "source": [
    "# set(df.user_id)-set(dft.user_id) # {'14997'}"
   ]
  },
  {
   "cell_type": "code",
   "execution_count": 177,
   "metadata": {},
   "outputs": [],
   "source": [
    "from catboost import Pool, CatBoostClassifier"
   ]
  },
  {
   "cell_type": "code",
   "execution_count": 178,
   "metadata": {},
   "outputs": [
    {
     "data": {
      "text/plain": [
       "<catboost.core.CatBoostClassifier at 0x7fbfae7ff390>"
      ]
     },
     "execution_count": 178,
     "metadata": {},
     "output_type": "execute_result"
    }
   ],
   "source": [
    "model = CatBoostClassifier()\n",
    "model.load_model(os.path.join(args.DATA_DIR, 'data_gen/catboost_model500_feat_last123_all.dump'))"
   ]
  },
  {
   "cell_type": "code",
   "execution_count": 179,
   "metadata": {},
   "outputs": [],
   "source": [
    "dff.loc[:, 'fscore'] = model.predict_proba(test_data)[:, 1]"
   ]
  },
  {
   "cell_type": "code",
   "execution_count": 182,
   "metadata": {},
   "outputs": [],
   "source": [
    "dff.loc[:, 'frank'] = dff.groupby('user_id')['fscore'].rank(method='first', ascending=False)"
   ]
  },
  {
   "cell_type": "code",
   "execution_count": 186,
   "metadata": {},
   "outputs": [
    {
     "data": {
      "text/html": [
       "<div>\n",
       "<style scoped>\n",
       "    .dataframe tbody tr th:only-of-type {\n",
       "        vertical-align: middle;\n",
       "    }\n",
       "\n",
       "    .dataframe tbody tr th {\n",
       "        vertical-align: top;\n",
       "    }\n",
       "\n",
       "    .dataframe thead th {\n",
       "        text-align: right;\n",
       "    }\n",
       "</style>\n",
       "<table border=\"1\" class=\"dataframe\">\n",
       "  <thead>\n",
       "    <tr style=\"text-align: right;\">\n",
       "      <th></th>\n",
       "      <th>user_id</th>\n",
       "      <th>item_id_pred</th>\n",
       "      <th>score_1</th>\n",
       "      <th>rank_1</th>\n",
       "      <th>phase</th>\n",
       "      <th>score_2</th>\n",
       "      <th>rank_2</th>\n",
       "      <th>score_3</th>\n",
       "      <th>rank_3</th>\n",
       "      <th>score_4</th>\n",
       "      <th>rank_4</th>\n",
       "      <th>item_cnt</th>\n",
       "      <th>last_1</th>\n",
       "      <th>last_2</th>\n",
       "      <th>last_3</th>\n",
       "      <th>sim1_text</th>\n",
       "      <th>sim1_img</th>\n",
       "      <th>sim2_text</th>\n",
       "      <th>sim2_img</th>\n",
       "      <th>sim3_text</th>\n",
       "      <th>sim3_img</th>\n",
       "      <th>rank1_sub_rank2</th>\n",
       "      <th>rank1_add_rank2</th>\n",
       "      <th>rank1_mul_rank2</th>\n",
       "      <th>rank1_sub_rank3</th>\n",
       "      <th>rank1_add_rank3</th>\n",
       "      <th>rank1_mul_rank3</th>\n",
       "      <th>rank1_sub_rank4</th>\n",
       "      <th>rank1_add_rank4</th>\n",
       "      <th>rank1_mul_rank4</th>\n",
       "      <th>rank2_sub_rank3</th>\n",
       "      <th>rank2_add_rank3</th>\n",
       "      <th>rank2_mul_rank3</th>\n",
       "      <th>rank2_sub_rank4</th>\n",
       "      <th>rank2_add_rank4</th>\n",
       "      <th>rank2_mul_rank4</th>\n",
       "      <th>rank3_sub_rank4</th>\n",
       "      <th>rank3_add_rank4</th>\n",
       "      <th>rank3_mul_rank4</th>\n",
       "      <th>score1_sub_score2</th>\n",
       "      <th>score1_add_score2</th>\n",
       "      <th>score1_mul_score2</th>\n",
       "      <th>score1_sub_score3</th>\n",
       "      <th>score1_add_score3</th>\n",
       "      <th>score1_mul_score3</th>\n",
       "      <th>score1_sub_score4</th>\n",
       "      <th>score1_add_score4</th>\n",
       "      <th>score1_mul_score4</th>\n",
       "      <th>score2_sub_score3</th>\n",
       "      <th>score2_add_score3</th>\n",
       "      <th>score2_mul_score3</th>\n",
       "      <th>score2_sub_score4</th>\n",
       "      <th>score2_add_score4</th>\n",
       "      <th>score2_mul_score4</th>\n",
       "      <th>score3_sub_score4</th>\n",
       "      <th>score3_add_score4</th>\n",
       "      <th>score3_mul_score4</th>\n",
       "      <th>sim1_text_img</th>\n",
       "      <th>sim2_text_img</th>\n",
       "      <th>sim3_text_img</th>\n",
       "      <th>sim12_text</th>\n",
       "      <th>sim123_text</th>\n",
       "      <th>sim12_img</th>\n",
       "      <th>sim123_img</th>\n",
       "      <th>sim12_text_img</th>\n",
       "      <th>sim123_text_img</th>\n",
       "      <th>fscore</th>\n",
       "      <th>frank</th>\n",
       "    </tr>\n",
       "  </thead>\n",
       "  <tbody>\n",
       "    <tr>\n",
       "      <td>1281712</td>\n",
       "      <td>1</td>\n",
       "      <td>32360</td>\n",
       "      <td>6.932601</td>\n",
       "      <td>1.0</td>\n",
       "      <td>1</td>\n",
       "      <td>0.720665</td>\n",
       "      <td>1.0</td>\n",
       "      <td>0.118531</td>\n",
       "      <td>1.0</td>\n",
       "      <td>11.650906</td>\n",
       "      <td>80.0</td>\n",
       "      <td>4.0</td>\n",
       "      <td>72939</td>\n",
       "      <td>17887</td>\n",
       "      <td>31443</td>\n",
       "      <td>863.692091</td>\n",
       "      <td>565.325717</td>\n",
       "      <td>863.692091</td>\n",
       "      <td>565.325717</td>\n",
       "      <td>863.692091</td>\n",
       "      <td>565.325717</td>\n",
       "      <td>0.0</td>\n",
       "      <td>2.0</td>\n",
       "      <td>1.0</td>\n",
       "      <td>0.0</td>\n",
       "      <td>2.0</td>\n",
       "      <td>1.0</td>\n",
       "      <td>-79.0</td>\n",
       "      <td>81.0</td>\n",
       "      <td>80.0</td>\n",
       "      <td>0.0</td>\n",
       "      <td>2.0</td>\n",
       "      <td>1.0</td>\n",
       "      <td>-79.0</td>\n",
       "      <td>81.0</td>\n",
       "      <td>80.0</td>\n",
       "      <td>-79.0</td>\n",
       "      <td>81.0</td>\n",
       "      <td>80.0</td>\n",
       "      <td>6.211936</td>\n",
       "      <td>7.653266</td>\n",
       "      <td>4.996081</td>\n",
       "      <td>6.814071</td>\n",
       "      <td>7.051132</td>\n",
       "      <td>0.821726</td>\n",
       "      <td>-4.718305</td>\n",
       "      <td>18.583507</td>\n",
       "      <td>80.771086</td>\n",
       "      <td>0.602134</td>\n",
       "      <td>0.839195</td>\n",
       "      <td>0.085421</td>\n",
       "      <td>-10.930242</td>\n",
       "      <td>12.371571</td>\n",
       "      <td>8.396396</td>\n",
       "      <td>-11.532376</td>\n",
       "      <td>11.769437</td>\n",
       "      <td>1.380989</td>\n",
       "      <td>488267.350695</td>\n",
       "      <td>488267.350695</td>\n",
       "      <td>488267.350695</td>\n",
       "      <td>1727.384182</td>\n",
       "      <td>2591.076272</td>\n",
       "      <td>1130.651434</td>\n",
       "      <td>1695.977152</td>\n",
       "      <td>9.765347e+05</td>\n",
       "      <td>1.464802e+06</td>\n",
       "      <td>0.199372</td>\n",
       "      <td>1.0</td>\n",
       "    </tr>\n",
       "    <tr>\n",
       "      <td>1281716</td>\n",
       "      <td>1</td>\n",
       "      <td>46297</td>\n",
       "      <td>3.534822</td>\n",
       "      <td>5.0</td>\n",
       "      <td>1</td>\n",
       "      <td>0.313277</td>\n",
       "      <td>56.0</td>\n",
       "      <td>0.073649</td>\n",
       "      <td>4.0</td>\n",
       "      <td>10.195960</td>\n",
       "      <td>129.0</td>\n",
       "      <td>4.0</td>\n",
       "      <td>72939</td>\n",
       "      <td>17887</td>\n",
       "      <td>31443</td>\n",
       "      <td>806.520190</td>\n",
       "      <td>560.152918</td>\n",
       "      <td>806.520190</td>\n",
       "      <td>560.152918</td>\n",
       "      <td>806.520190</td>\n",
       "      <td>560.152918</td>\n",
       "      <td>-51.0</td>\n",
       "      <td>61.0</td>\n",
       "      <td>280.0</td>\n",
       "      <td>1.0</td>\n",
       "      <td>9.0</td>\n",
       "      <td>20.0</td>\n",
       "      <td>-124.0</td>\n",
       "      <td>134.0</td>\n",
       "      <td>645.0</td>\n",
       "      <td>52.0</td>\n",
       "      <td>60.0</td>\n",
       "      <td>224.0</td>\n",
       "      <td>-73.0</td>\n",
       "      <td>185.0</td>\n",
       "      <td>7224.0</td>\n",
       "      <td>-125.0</td>\n",
       "      <td>133.0</td>\n",
       "      <td>516.0</td>\n",
       "      <td>3.221544</td>\n",
       "      <td>3.848099</td>\n",
       "      <td>1.107379</td>\n",
       "      <td>3.461172</td>\n",
       "      <td>3.608471</td>\n",
       "      <td>0.260337</td>\n",
       "      <td>-6.661138</td>\n",
       "      <td>13.730781</td>\n",
       "      <td>36.040898</td>\n",
       "      <td>0.239628</td>\n",
       "      <td>0.386927</td>\n",
       "      <td>0.023073</td>\n",
       "      <td>-9.882682</td>\n",
       "      <td>10.509237</td>\n",
       "      <td>3.194162</td>\n",
       "      <td>-10.122310</td>\n",
       "      <td>10.269609</td>\n",
       "      <td>0.750925</td>\n",
       "      <td>451774.637925</td>\n",
       "      <td>451774.637925</td>\n",
       "      <td>451774.637925</td>\n",
       "      <td>1613.040379</td>\n",
       "      <td>2419.560569</td>\n",
       "      <td>1120.305837</td>\n",
       "      <td>1680.458755</td>\n",
       "      <td>9.035493e+05</td>\n",
       "      <td>1.355324e+06</td>\n",
       "      <td>0.103043</td>\n",
       "      <td>2.0</td>\n",
       "    </tr>\n",
       "    <tr>\n",
       "      <td>1281719</td>\n",
       "      <td>1</td>\n",
       "      <td>87837</td>\n",
       "      <td>3.241958</td>\n",
       "      <td>8.0</td>\n",
       "      <td>1</td>\n",
       "      <td>0.536789</td>\n",
       "      <td>5.0</td>\n",
       "      <td>0.038941</td>\n",
       "      <td>33.0</td>\n",
       "      <td>0.000000</td>\n",
       "      <td>0.0</td>\n",
       "      <td>12.0</td>\n",
       "      <td>72939</td>\n",
       "      <td>17887</td>\n",
       "      <td>31443</td>\n",
       "      <td>1044.191308</td>\n",
       "      <td>526.457017</td>\n",
       "      <td>1044.191308</td>\n",
       "      <td>526.457017</td>\n",
       "      <td>1044.191308</td>\n",
       "      <td>526.457017</td>\n",
       "      <td>3.0</td>\n",
       "      <td>13.0</td>\n",
       "      <td>40.0</td>\n",
       "      <td>-25.0</td>\n",
       "      <td>41.0</td>\n",
       "      <td>264.0</td>\n",
       "      <td>8.0</td>\n",
       "      <td>8.0</td>\n",
       "      <td>0.0</td>\n",
       "      <td>-28.0</td>\n",
       "      <td>38.0</td>\n",
       "      <td>165.0</td>\n",
       "      <td>5.0</td>\n",
       "      <td>5.0</td>\n",
       "      <td>0.0</td>\n",
       "      <td>33.0</td>\n",
       "      <td>33.0</td>\n",
       "      <td>0.0</td>\n",
       "      <td>2.705169</td>\n",
       "      <td>3.778747</td>\n",
       "      <td>1.740247</td>\n",
       "      <td>3.203017</td>\n",
       "      <td>3.280899</td>\n",
       "      <td>0.126244</td>\n",
       "      <td>3.241958</td>\n",
       "      <td>3.241958</td>\n",
       "      <td>0.000000</td>\n",
       "      <td>0.497848</td>\n",
       "      <td>0.575730</td>\n",
       "      <td>0.020903</td>\n",
       "      <td>0.536789</td>\n",
       "      <td>0.536789</td>\n",
       "      <td>0.000000</td>\n",
       "      <td>0.038941</td>\n",
       "      <td>0.038941</td>\n",
       "      <td>0.000000</td>\n",
       "      <td>549721.840946</td>\n",
       "      <td>549721.840946</td>\n",
       "      <td>549721.840946</td>\n",
       "      <td>2088.382617</td>\n",
       "      <td>3132.573925</td>\n",
       "      <td>1052.914033</td>\n",
       "      <td>1579.371050</td>\n",
       "      <td>1.099444e+06</td>\n",
       "      <td>1.649166e+06</td>\n",
       "      <td>0.065992</td>\n",
       "      <td>3.0</td>\n",
       "    </tr>\n",
       "    <tr>\n",
       "      <td>1281713</td>\n",
       "      <td>1</td>\n",
       "      <td>100116</td>\n",
       "      <td>4.453803</td>\n",
       "      <td>2.0</td>\n",
       "      <td>1</td>\n",
       "      <td>0.363821</td>\n",
       "      <td>35.0</td>\n",
       "      <td>0.067410</td>\n",
       "      <td>6.0</td>\n",
       "      <td>9.035917</td>\n",
       "      <td>214.0</td>\n",
       "      <td>4.0</td>\n",
       "      <td>72939</td>\n",
       "      <td>17887</td>\n",
       "      <td>31443</td>\n",
       "      <td>1292.133060</td>\n",
       "      <td>726.512387</td>\n",
       "      <td>1292.133060</td>\n",
       "      <td>726.512387</td>\n",
       "      <td>1292.133060</td>\n",
       "      <td>726.512387</td>\n",
       "      <td>-33.0</td>\n",
       "      <td>37.0</td>\n",
       "      <td>70.0</td>\n",
       "      <td>-4.0</td>\n",
       "      <td>8.0</td>\n",
       "      <td>12.0</td>\n",
       "      <td>-212.0</td>\n",
       "      <td>216.0</td>\n",
       "      <td>428.0</td>\n",
       "      <td>29.0</td>\n",
       "      <td>41.0</td>\n",
       "      <td>210.0</td>\n",
       "      <td>-179.0</td>\n",
       "      <td>249.0</td>\n",
       "      <td>7490.0</td>\n",
       "      <td>-208.0</td>\n",
       "      <td>220.0</td>\n",
       "      <td>1284.0</td>\n",
       "      <td>4.089982</td>\n",
       "      <td>4.817625</td>\n",
       "      <td>1.620389</td>\n",
       "      <td>4.386393</td>\n",
       "      <td>4.521213</td>\n",
       "      <td>0.300231</td>\n",
       "      <td>-4.582114</td>\n",
       "      <td>13.489721</td>\n",
       "      <td>40.244200</td>\n",
       "      <td>0.296411</td>\n",
       "      <td>0.431231</td>\n",
       "      <td>0.024525</td>\n",
       "      <td>-8.672096</td>\n",
       "      <td>9.399739</td>\n",
       "      <td>3.287460</td>\n",
       "      <td>-8.968507</td>\n",
       "      <td>9.103327</td>\n",
       "      <td>0.609112</td>\n",
       "      <td>938750.674026</td>\n",
       "      <td>938750.674026</td>\n",
       "      <td>938750.674026</td>\n",
       "      <td>2584.266120</td>\n",
       "      <td>3876.399179</td>\n",
       "      <td>1453.024775</td>\n",
       "      <td>2179.537162</td>\n",
       "      <td>1.877501e+06</td>\n",
       "      <td>2.816252e+06</td>\n",
       "      <td>0.065171</td>\n",
       "      <td>4.0</td>\n",
       "    </tr>\n",
       "    <tr>\n",
       "      <td>1281717</td>\n",
       "      <td>1</td>\n",
       "      <td>91290</td>\n",
       "      <td>3.522240</td>\n",
       "      <td>6.0</td>\n",
       "      <td>1</td>\n",
       "      <td>0.536789</td>\n",
       "      <td>7.0</td>\n",
       "      <td>0.059625</td>\n",
       "      <td>10.0</td>\n",
       "      <td>7.198735</td>\n",
       "      <td>412.0</td>\n",
       "      <td>6.0</td>\n",
       "      <td>72939</td>\n",
       "      <td>17887</td>\n",
       "      <td>31443</td>\n",
       "      <td>918.670205</td>\n",
       "      <td>452.535851</td>\n",
       "      <td>918.670205</td>\n",
       "      <td>452.535851</td>\n",
       "      <td>918.670205</td>\n",
       "      <td>452.535851</td>\n",
       "      <td>-1.0</td>\n",
       "      <td>13.0</td>\n",
       "      <td>42.0</td>\n",
       "      <td>-4.0</td>\n",
       "      <td>16.0</td>\n",
       "      <td>60.0</td>\n",
       "      <td>-406.0</td>\n",
       "      <td>418.0</td>\n",
       "      <td>2472.0</td>\n",
       "      <td>-3.0</td>\n",
       "      <td>17.0</td>\n",
       "      <td>70.0</td>\n",
       "      <td>-405.0</td>\n",
       "      <td>419.0</td>\n",
       "      <td>2884.0</td>\n",
       "      <td>-402.0</td>\n",
       "      <td>422.0</td>\n",
       "      <td>4120.0</td>\n",
       "      <td>2.985451</td>\n",
       "      <td>4.059028</td>\n",
       "      <td>1.890699</td>\n",
       "      <td>3.462615</td>\n",
       "      <td>3.581864</td>\n",
       "      <td>0.210012</td>\n",
       "      <td>-3.676496</td>\n",
       "      <td>10.720975</td>\n",
       "      <td>25.355671</td>\n",
       "      <td>0.477164</td>\n",
       "      <td>0.596414</td>\n",
       "      <td>0.032006</td>\n",
       "      <td>-6.661947</td>\n",
       "      <td>7.735524</td>\n",
       "      <td>3.864201</td>\n",
       "      <td>-7.139111</td>\n",
       "      <td>7.258360</td>\n",
       "      <td>0.429222</td>\n",
       "      <td>415731.203055</td>\n",
       "      <td>415731.203055</td>\n",
       "      <td>415731.203055</td>\n",
       "      <td>1837.340410</td>\n",
       "      <td>2756.010616</td>\n",
       "      <td>905.071702</td>\n",
       "      <td>1357.607553</td>\n",
       "      <td>8.314624e+05</td>\n",
       "      <td>1.247194e+06</td>\n",
       "      <td>0.058183</td>\n",
       "      <td>5.0</td>\n",
       "    </tr>\n",
       "    <tr>\n",
       "      <td>1281720</td>\n",
       "      <td>1</td>\n",
       "      <td>103887</td>\n",
       "      <td>3.166490</td>\n",
       "      <td>9.0</td>\n",
       "      <td>1</td>\n",
       "      <td>0.407387</td>\n",
       "      <td>17.0</td>\n",
       "      <td>0.021934</td>\n",
       "      <td>71.0</td>\n",
       "      <td>9.971464</td>\n",
       "      <td>137.0</td>\n",
       "      <td>3.0</td>\n",
       "      <td>72939</td>\n",
       "      <td>17887</td>\n",
       "      <td>31443</td>\n",
       "      <td>189.196155</td>\n",
       "      <td>453.151189</td>\n",
       "      <td>189.196155</td>\n",
       "      <td>453.151189</td>\n",
       "      <td>189.196155</td>\n",
       "      <td>453.151189</td>\n",
       "      <td>-8.0</td>\n",
       "      <td>26.0</td>\n",
       "      <td>153.0</td>\n",
       "      <td>-62.0</td>\n",
       "      <td>80.0</td>\n",
       "      <td>639.0</td>\n",
       "      <td>-128.0</td>\n",
       "      <td>146.0</td>\n",
       "      <td>1233.0</td>\n",
       "      <td>-54.0</td>\n",
       "      <td>88.0</td>\n",
       "      <td>1207.0</td>\n",
       "      <td>-120.0</td>\n",
       "      <td>154.0</td>\n",
       "      <td>2329.0</td>\n",
       "      <td>-66.0</td>\n",
       "      <td>208.0</td>\n",
       "      <td>9727.0</td>\n",
       "      <td>2.759103</td>\n",
       "      <td>3.573877</td>\n",
       "      <td>1.289988</td>\n",
       "      <td>3.144556</td>\n",
       "      <td>3.188424</td>\n",
       "      <td>0.069455</td>\n",
       "      <td>-6.804974</td>\n",
       "      <td>13.137954</td>\n",
       "      <td>31.574542</td>\n",
       "      <td>0.385453</td>\n",
       "      <td>0.429322</td>\n",
       "      <td>0.008936</td>\n",
       "      <td>-9.564077</td>\n",
       "      <td>10.378852</td>\n",
       "      <td>4.062249</td>\n",
       "      <td>-9.949530</td>\n",
       "      <td>9.993399</td>\n",
       "      <td>0.218718</td>\n",
       "      <td>85734.462772</td>\n",
       "      <td>85734.462772</td>\n",
       "      <td>85734.462772</td>\n",
       "      <td>378.392310</td>\n",
       "      <td>567.588466</td>\n",
       "      <td>906.302379</td>\n",
       "      <td>1359.453568</td>\n",
       "      <td>1.714689e+05</td>\n",
       "      <td>2.572034e+05</td>\n",
       "      <td>0.051093</td>\n",
       "      <td>6.0</td>\n",
       "    </tr>\n",
       "    <tr>\n",
       "      <td>1281715</td>\n",
       "      <td>1</td>\n",
       "      <td>19228</td>\n",
       "      <td>3.574609</td>\n",
       "      <td>4.0</td>\n",
       "      <td>1</td>\n",
       "      <td>0.536789</td>\n",
       "      <td>3.0</td>\n",
       "      <td>0.050965</td>\n",
       "      <td>19.0</td>\n",
       "      <td>17.375552</td>\n",
       "      <td>18.0</td>\n",
       "      <td>4.0</td>\n",
       "      <td>72939</td>\n",
       "      <td>17887</td>\n",
       "      <td>31443</td>\n",
       "      <td>581.348957</td>\n",
       "      <td>584.179791</td>\n",
       "      <td>581.348957</td>\n",
       "      <td>584.179791</td>\n",
       "      <td>581.348957</td>\n",
       "      <td>584.179791</td>\n",
       "      <td>1.0</td>\n",
       "      <td>7.0</td>\n",
       "      <td>12.0</td>\n",
       "      <td>-15.0</td>\n",
       "      <td>23.0</td>\n",
       "      <td>76.0</td>\n",
       "      <td>-14.0</td>\n",
       "      <td>22.0</td>\n",
       "      <td>72.0</td>\n",
       "      <td>-16.0</td>\n",
       "      <td>22.0</td>\n",
       "      <td>57.0</td>\n",
       "      <td>-15.0</td>\n",
       "      <td>21.0</td>\n",
       "      <td>54.0</td>\n",
       "      <td>1.0</td>\n",
       "      <td>37.0</td>\n",
       "      <td>342.0</td>\n",
       "      <td>3.037820</td>\n",
       "      <td>4.111397</td>\n",
       "      <td>1.918810</td>\n",
       "      <td>3.523643</td>\n",
       "      <td>3.625574</td>\n",
       "      <td>0.182181</td>\n",
       "      <td>-13.800943</td>\n",
       "      <td>20.950160</td>\n",
       "      <td>62.110797</td>\n",
       "      <td>0.485824</td>\n",
       "      <td>0.587754</td>\n",
       "      <td>0.027358</td>\n",
       "      <td>-16.838763</td>\n",
       "      <td>17.912341</td>\n",
       "      <td>9.327002</td>\n",
       "      <td>-17.324587</td>\n",
       "      <td>17.426517</td>\n",
       "      <td>0.885549</td>\n",
       "      <td>339612.312301</td>\n",
       "      <td>339612.312301</td>\n",
       "      <td>339612.312301</td>\n",
       "      <td>1162.697915</td>\n",
       "      <td>1744.046872</td>\n",
       "      <td>1168.359581</td>\n",
       "      <td>1752.539372</td>\n",
       "      <td>6.792246e+05</td>\n",
       "      <td>1.018837e+06</td>\n",
       "      <td>0.047346</td>\n",
       "      <td>7.0</td>\n",
       "    </tr>\n",
       "    <tr>\n",
       "      <td>1281753</td>\n",
       "      <td>1</td>\n",
       "      <td>67733</td>\n",
       "      <td>2.041305</td>\n",
       "      <td>42.0</td>\n",
       "      <td>1</td>\n",
       "      <td>0.140572</td>\n",
       "      <td>440.0</td>\n",
       "      <td>0.062811</td>\n",
       "      <td>8.0</td>\n",
       "      <td>10.184710</td>\n",
       "      <td>130.0</td>\n",
       "      <td>5.0</td>\n",
       "      <td>72939</td>\n",
       "      <td>17887</td>\n",
       "      <td>31443</td>\n",
       "      <td>904.163253</td>\n",
       "      <td>482.228360</td>\n",
       "      <td>904.163253</td>\n",
       "      <td>482.228360</td>\n",
       "      <td>904.163253</td>\n",
       "      <td>482.228360</td>\n",
       "      <td>-398.0</td>\n",
       "      <td>482.0</td>\n",
       "      <td>18480.0</td>\n",
       "      <td>34.0</td>\n",
       "      <td>50.0</td>\n",
       "      <td>336.0</td>\n",
       "      <td>-88.0</td>\n",
       "      <td>172.0</td>\n",
       "      <td>5460.0</td>\n",
       "      <td>432.0</td>\n",
       "      <td>448.0</td>\n",
       "      <td>3520.0</td>\n",
       "      <td>310.0</td>\n",
       "      <td>570.0</td>\n",
       "      <td>57200.0</td>\n",
       "      <td>-122.0</td>\n",
       "      <td>138.0</td>\n",
       "      <td>1040.0</td>\n",
       "      <td>1.900734</td>\n",
       "      <td>2.181877</td>\n",
       "      <td>0.286950</td>\n",
       "      <td>1.978495</td>\n",
       "      <td>2.104116</td>\n",
       "      <td>0.128216</td>\n",
       "      <td>-8.143404</td>\n",
       "      <td>12.226015</td>\n",
       "      <td>20.790103</td>\n",
       "      <td>0.077761</td>\n",
       "      <td>0.203382</td>\n",
       "      <td>0.008829</td>\n",
       "      <td>-10.044138</td>\n",
       "      <td>10.325281</td>\n",
       "      <td>1.431682</td>\n",
       "      <td>-10.121899</td>\n",
       "      <td>10.247520</td>\n",
       "      <td>0.639708</td>\n",
       "      <td>436013.162106</td>\n",
       "      <td>436013.162106</td>\n",
       "      <td>436013.162106</td>\n",
       "      <td>1808.326505</td>\n",
       "      <td>2712.489758</td>\n",
       "      <td>964.456719</td>\n",
       "      <td>1446.685079</td>\n",
       "      <td>8.720263e+05</td>\n",
       "      <td>1.308039e+06</td>\n",
       "      <td>0.042954</td>\n",
       "      <td>8.0</td>\n",
       "    </tr>\n",
       "    <tr>\n",
       "      <td>1281736</td>\n",
       "      <td>1</td>\n",
       "      <td>93601</td>\n",
       "      <td>2.336578</td>\n",
       "      <td>25.0</td>\n",
       "      <td>1</td>\n",
       "      <td>0.407387</td>\n",
       "      <td>19.0</td>\n",
       "      <td>0.006310</td>\n",
       "      <td>217.0</td>\n",
       "      <td>9.887330</td>\n",
       "      <td>142.0</td>\n",
       "      <td>3.0</td>\n",
       "      <td>72939</td>\n",
       "      <td>17887</td>\n",
       "      <td>31443</td>\n",
       "      <td>461.508535</td>\n",
       "      <td>514.591747</td>\n",
       "      <td>461.508535</td>\n",
       "      <td>514.591747</td>\n",
       "      <td>461.508535</td>\n",
       "      <td>514.591747</td>\n",
       "      <td>6.0</td>\n",
       "      <td>44.0</td>\n",
       "      <td>475.0</td>\n",
       "      <td>-192.0</td>\n",
       "      <td>242.0</td>\n",
       "      <td>5425.0</td>\n",
       "      <td>-117.0</td>\n",
       "      <td>167.0</td>\n",
       "      <td>3550.0</td>\n",
       "      <td>-198.0</td>\n",
       "      <td>236.0</td>\n",
       "      <td>4123.0</td>\n",
       "      <td>-123.0</td>\n",
       "      <td>161.0</td>\n",
       "      <td>2698.0</td>\n",
       "      <td>75.0</td>\n",
       "      <td>359.0</td>\n",
       "      <td>30814.0</td>\n",
       "      <td>1.929190</td>\n",
       "      <td>2.743965</td>\n",
       "      <td>0.951892</td>\n",
       "      <td>2.330268</td>\n",
       "      <td>2.342888</td>\n",
       "      <td>0.014744</td>\n",
       "      <td>-7.550752</td>\n",
       "      <td>12.223908</td>\n",
       "      <td>23.102516</td>\n",
       "      <td>0.401077</td>\n",
       "      <td>0.413698</td>\n",
       "      <td>0.002571</td>\n",
       "      <td>-9.479943</td>\n",
       "      <td>10.294718</td>\n",
       "      <td>4.027974</td>\n",
       "      <td>-9.881020</td>\n",
       "      <td>9.893640</td>\n",
       "      <td>0.062391</td>\n",
       "      <td>237488.483338</td>\n",
       "      <td>237488.483338</td>\n",
       "      <td>237488.483338</td>\n",
       "      <td>923.017071</td>\n",
       "      <td>1384.525606</td>\n",
       "      <td>1029.183493</td>\n",
       "      <td>1543.775240</td>\n",
       "      <td>4.749770e+05</td>\n",
       "      <td>7.124655e+05</td>\n",
       "      <td>0.039014</td>\n",
       "      <td>9.0</td>\n",
       "    </tr>\n",
       "    <tr>\n",
       "      <td>1281723</td>\n",
       "      <td>1</td>\n",
       "      <td>54063</td>\n",
       "      <td>2.701440</td>\n",
       "      <td>12.0</td>\n",
       "      <td>1</td>\n",
       "      <td>0.201296</td>\n",
       "      <td>117.0</td>\n",
       "      <td>0.059622</td>\n",
       "      <td>11.0</td>\n",
       "      <td>0.000000</td>\n",
       "      <td>0.0</td>\n",
       "      <td>6.0</td>\n",
       "      <td>72939</td>\n",
       "      <td>17887</td>\n",
       "      <td>31443</td>\n",
       "      <td>347.321282</td>\n",
       "      <td>478.893997</td>\n",
       "      <td>347.321282</td>\n",
       "      <td>478.893997</td>\n",
       "      <td>347.321282</td>\n",
       "      <td>478.893997</td>\n",
       "      <td>-105.0</td>\n",
       "      <td>129.0</td>\n",
       "      <td>1404.0</td>\n",
       "      <td>1.0</td>\n",
       "      <td>23.0</td>\n",
       "      <td>132.0</td>\n",
       "      <td>12.0</td>\n",
       "      <td>12.0</td>\n",
       "      <td>0.0</td>\n",
       "      <td>106.0</td>\n",
       "      <td>128.0</td>\n",
       "      <td>1287.0</td>\n",
       "      <td>117.0</td>\n",
       "      <td>117.0</td>\n",
       "      <td>0.0</td>\n",
       "      <td>11.0</td>\n",
       "      <td>11.0</td>\n",
       "      <td>0.0</td>\n",
       "      <td>2.500144</td>\n",
       "      <td>2.902736</td>\n",
       "      <td>0.543789</td>\n",
       "      <td>2.641817</td>\n",
       "      <td>2.761062</td>\n",
       "      <td>0.161066</td>\n",
       "      <td>2.701440</td>\n",
       "      <td>2.701440</td>\n",
       "      <td>0.000000</td>\n",
       "      <td>0.141673</td>\n",
       "      <td>0.260918</td>\n",
       "      <td>0.012002</td>\n",
       "      <td>0.201296</td>\n",
       "      <td>0.201296</td>\n",
       "      <td>0.000000</td>\n",
       "      <td>0.059622</td>\n",
       "      <td>0.059622</td>\n",
       "      <td>0.000000</td>\n",
       "      <td>166330.077213</td>\n",
       "      <td>166330.077213</td>\n",
       "      <td>166330.077213</td>\n",
       "      <td>694.642565</td>\n",
       "      <td>1041.963847</td>\n",
       "      <td>957.787995</td>\n",
       "      <td>1436.681992</td>\n",
       "      <td>3.326602e+05</td>\n",
       "      <td>4.989902e+05</td>\n",
       "      <td>0.034457</td>\n",
       "      <td>10.0</td>\n",
       "    </tr>\n",
       "    <tr>\n",
       "      <td>1281726</td>\n",
       "      <td>1</td>\n",
       "      <td>30677</td>\n",
       "      <td>2.550023</td>\n",
       "      <td>15.0</td>\n",
       "      <td>1</td>\n",
       "      <td>0.162526</td>\n",
       "      <td>317.0</td>\n",
       "      <td>0.078085</td>\n",
       "      <td>3.0</td>\n",
       "      <td>0.000000</td>\n",
       "      <td>0.0</td>\n",
       "      <td>4.0</td>\n",
       "      <td>72939</td>\n",
       "      <td>17887</td>\n",
       "      <td>31443</td>\n",
       "      <td>686.858726</td>\n",
       "      <td>541.528295</td>\n",
       "      <td>686.858726</td>\n",
       "      <td>541.528295</td>\n",
       "      <td>686.858726</td>\n",
       "      <td>541.528295</td>\n",
       "      <td>-302.0</td>\n",
       "      <td>332.0</td>\n",
       "      <td>4755.0</td>\n",
       "      <td>12.0</td>\n",
       "      <td>18.0</td>\n",
       "      <td>45.0</td>\n",
       "      <td>15.0</td>\n",
       "      <td>15.0</td>\n",
       "      <td>0.0</td>\n",
       "      <td>314.0</td>\n",
       "      <td>320.0</td>\n",
       "      <td>951.0</td>\n",
       "      <td>317.0</td>\n",
       "      <td>317.0</td>\n",
       "      <td>0.0</td>\n",
       "      <td>3.0</td>\n",
       "      <td>3.0</td>\n",
       "      <td>0.0</td>\n",
       "      <td>2.387498</td>\n",
       "      <td>2.712549</td>\n",
       "      <td>0.414444</td>\n",
       "      <td>2.471938</td>\n",
       "      <td>2.628108</td>\n",
       "      <td>0.199118</td>\n",
       "      <td>2.550023</td>\n",
       "      <td>2.550023</td>\n",
       "      <td>0.000000</td>\n",
       "      <td>0.084441</td>\n",
       "      <td>0.240610</td>\n",
       "      <td>0.012691</td>\n",
       "      <td>0.162526</td>\n",
       "      <td>0.162526</td>\n",
       "      <td>0.000000</td>\n",
       "      <td>0.078085</td>\n",
       "      <td>0.078085</td>\n",
       "      <td>0.000000</td>\n",
       "      <td>371953.434681</td>\n",
       "      <td>371953.434681</td>\n",
       "      <td>371953.434681</td>\n",
       "      <td>1373.717451</td>\n",
       "      <td>2060.576177</td>\n",
       "      <td>1083.056590</td>\n",
       "      <td>1624.584885</td>\n",
       "      <td>7.439069e+05</td>\n",
       "      <td>1.115860e+06</td>\n",
       "      <td>0.033774</td>\n",
       "      <td>11.0</td>\n",
       "    </tr>\n",
       "    <tr>\n",
       "      <td>1281746</td>\n",
       "      <td>1</td>\n",
       "      <td>67902</td>\n",
       "      <td>2.151964</td>\n",
       "      <td>35.0</td>\n",
       "      <td>1</td>\n",
       "      <td>0.407387</td>\n",
       "      <td>15.0</td>\n",
       "      <td>0.000000</td>\n",
       "      <td>0.0</td>\n",
       "      <td>10.884722</td>\n",
       "      <td>108.0</td>\n",
       "      <td>4.0</td>\n",
       "      <td>72939</td>\n",
       "      <td>17887</td>\n",
       "      <td>31443</td>\n",
       "      <td>651.921422</td>\n",
       "      <td>551.734701</td>\n",
       "      <td>651.921422</td>\n",
       "      <td>551.734701</td>\n",
       "      <td>651.921422</td>\n",
       "      <td>551.734701</td>\n",
       "      <td>20.0</td>\n",
       "      <td>50.0</td>\n",
       "      <td>525.0</td>\n",
       "      <td>35.0</td>\n",
       "      <td>35.0</td>\n",
       "      <td>0.0</td>\n",
       "      <td>-73.0</td>\n",
       "      <td>143.0</td>\n",
       "      <td>3780.0</td>\n",
       "      <td>15.0</td>\n",
       "      <td>15.0</td>\n",
       "      <td>0.0</td>\n",
       "      <td>-93.0</td>\n",
       "      <td>123.0</td>\n",
       "      <td>1620.0</td>\n",
       "      <td>-108.0</td>\n",
       "      <td>108.0</td>\n",
       "      <td>0.0</td>\n",
       "      <td>1.744576</td>\n",
       "      <td>2.559351</td>\n",
       "      <td>0.876683</td>\n",
       "      <td>2.151964</td>\n",
       "      <td>2.151964</td>\n",
       "      <td>0.000000</td>\n",
       "      <td>-8.732758</td>\n",
       "      <td>13.036685</td>\n",
       "      <td>23.423524</td>\n",
       "      <td>0.407387</td>\n",
       "      <td>0.407387</td>\n",
       "      <td>0.000000</td>\n",
       "      <td>-10.477334</td>\n",
       "      <td>11.292109</td>\n",
       "      <td>4.434299</td>\n",
       "      <td>-10.884722</td>\n",
       "      <td>10.884722</td>\n",
       "      <td>0.000000</td>\n",
       "      <td>359687.670736</td>\n",
       "      <td>359687.670736</td>\n",
       "      <td>359687.670736</td>\n",
       "      <td>1303.842844</td>\n",
       "      <td>1955.764266</td>\n",
       "      <td>1103.469402</td>\n",
       "      <td>1655.204102</td>\n",
       "      <td>7.193753e+05</td>\n",
       "      <td>1.079063e+06</td>\n",
       "      <td>0.028453</td>\n",
       "      <td>12.0</td>\n",
       "    </tr>\n",
       "    <tr>\n",
       "      <td>1281718</td>\n",
       "      <td>1</td>\n",
       "      <td>109854</td>\n",
       "      <td>3.258795</td>\n",
       "      <td>7.0</td>\n",
       "      <td>1</td>\n",
       "      <td>0.536789</td>\n",
       "      <td>6.0</td>\n",
       "      <td>0.040734</td>\n",
       "      <td>29.0</td>\n",
       "      <td>8.617007</td>\n",
       "      <td>253.0</td>\n",
       "      <td>4.0</td>\n",
       "      <td>72939</td>\n",
       "      <td>17887</td>\n",
       "      <td>31443</td>\n",
       "      <td>667.309225</td>\n",
       "      <td>545.680291</td>\n",
       "      <td>667.309225</td>\n",
       "      <td>545.680291</td>\n",
       "      <td>667.309225</td>\n",
       "      <td>545.680291</td>\n",
       "      <td>1.0</td>\n",
       "      <td>13.0</td>\n",
       "      <td>42.0</td>\n",
       "      <td>-22.0</td>\n",
       "      <td>36.0</td>\n",
       "      <td>203.0</td>\n",
       "      <td>-246.0</td>\n",
       "      <td>260.0</td>\n",
       "      <td>1771.0</td>\n",
       "      <td>-23.0</td>\n",
       "      <td>35.0</td>\n",
       "      <td>174.0</td>\n",
       "      <td>-247.0</td>\n",
       "      <td>259.0</td>\n",
       "      <td>1518.0</td>\n",
       "      <td>-224.0</td>\n",
       "      <td>282.0</td>\n",
       "      <td>7337.0</td>\n",
       "      <td>2.722006</td>\n",
       "      <td>3.795584</td>\n",
       "      <td>1.749285</td>\n",
       "      <td>3.218061</td>\n",
       "      <td>3.299529</td>\n",
       "      <td>0.132745</td>\n",
       "      <td>-5.358212</td>\n",
       "      <td>11.875802</td>\n",
       "      <td>28.081058</td>\n",
       "      <td>0.496055</td>\n",
       "      <td>0.577523</td>\n",
       "      <td>0.021866</td>\n",
       "      <td>-8.080218</td>\n",
       "      <td>9.153795</td>\n",
       "      <td>4.625513</td>\n",
       "      <td>-8.576272</td>\n",
       "      <td>8.657741</td>\n",
       "      <td>0.351008</td>\n",
       "      <td>364137.491599</td>\n",
       "      <td>364137.491599</td>\n",
       "      <td>364137.491599</td>\n",
       "      <td>1334.618449</td>\n",
       "      <td>2001.927674</td>\n",
       "      <td>1091.360581</td>\n",
       "      <td>1637.040872</td>\n",
       "      <td>7.282750e+05</td>\n",
       "      <td>1.092412e+06</td>\n",
       "      <td>0.027607</td>\n",
       "      <td>13.0</td>\n",
       "    </tr>\n",
       "    <tr>\n",
       "      <td>1281803</td>\n",
       "      <td>1</td>\n",
       "      <td>101060</td>\n",
       "      <td>1.579274</td>\n",
       "      <td>92.0</td>\n",
       "      <td>1</td>\n",
       "      <td>0.201296</td>\n",
       "      <td>110.0</td>\n",
       "      <td>0.056854</td>\n",
       "      <td>14.0</td>\n",
       "      <td>0.000000</td>\n",
       "      <td>0.0</td>\n",
       "      <td>19.0</td>\n",
       "      <td>72939</td>\n",
       "      <td>17887</td>\n",
       "      <td>31443</td>\n",
       "      <td>412.745076</td>\n",
       "      <td>460.527136</td>\n",
       "      <td>412.745076</td>\n",
       "      <td>460.527136</td>\n",
       "      <td>412.745076</td>\n",
       "      <td>460.527136</td>\n",
       "      <td>-18.0</td>\n",
       "      <td>202.0</td>\n",
       "      <td>10120.0</td>\n",
       "      <td>78.0</td>\n",
       "      <td>106.0</td>\n",
       "      <td>1288.0</td>\n",
       "      <td>92.0</td>\n",
       "      <td>92.0</td>\n",
       "      <td>0.0</td>\n",
       "      <td>96.0</td>\n",
       "      <td>124.0</td>\n",
       "      <td>1540.0</td>\n",
       "      <td>110.0</td>\n",
       "      <td>110.0</td>\n",
       "      <td>0.0</td>\n",
       "      <td>14.0</td>\n",
       "      <td>14.0</td>\n",
       "      <td>0.0</td>\n",
       "      <td>1.377979</td>\n",
       "      <td>1.780570</td>\n",
       "      <td>0.317901</td>\n",
       "      <td>1.522421</td>\n",
       "      <td>1.636128</td>\n",
       "      <td>0.089788</td>\n",
       "      <td>1.579274</td>\n",
       "      <td>1.579274</td>\n",
       "      <td>0.000000</td>\n",
       "      <td>0.144442</td>\n",
       "      <td>0.258150</td>\n",
       "      <td>0.011444</td>\n",
       "      <td>0.201296</td>\n",
       "      <td>0.201296</td>\n",
       "      <td>0.000000</td>\n",
       "      <td>0.056854</td>\n",
       "      <td>0.056854</td>\n",
       "      <td>0.000000</td>\n",
       "      <td>190080.307954</td>\n",
       "      <td>190080.307954</td>\n",
       "      <td>190080.307954</td>\n",
       "      <td>825.490153</td>\n",
       "      <td>1238.235229</td>\n",
       "      <td>921.054272</td>\n",
       "      <td>1381.581409</td>\n",
       "      <td>3.801606e+05</td>\n",
       "      <td>5.702409e+05</td>\n",
       "      <td>0.025383</td>\n",
       "      <td>14.0</td>\n",
       "    </tr>\n",
       "    <tr>\n",
       "      <td>1282063</td>\n",
       "      <td>1</td>\n",
       "      <td>97693</td>\n",
       "      <td>0.752625</td>\n",
       "      <td>352.0</td>\n",
       "      <td>1</td>\n",
       "      <td>0.195508</td>\n",
       "      <td>156.0</td>\n",
       "      <td>0.000000</td>\n",
       "      <td>0.0</td>\n",
       "      <td>7.656230</td>\n",
       "      <td>344.0</td>\n",
       "      <td>3.0</td>\n",
       "      <td>72939</td>\n",
       "      <td>17887</td>\n",
       "      <td>31443</td>\n",
       "      <td>838.819683</td>\n",
       "      <td>502.985476</td>\n",
       "      <td>838.819683</td>\n",
       "      <td>502.985476</td>\n",
       "      <td>838.819683</td>\n",
       "      <td>502.985476</td>\n",
       "      <td>196.0</td>\n",
       "      <td>508.0</td>\n",
       "      <td>54912.0</td>\n",
       "      <td>352.0</td>\n",
       "      <td>352.0</td>\n",
       "      <td>0.0</td>\n",
       "      <td>8.0</td>\n",
       "      <td>696.0</td>\n",
       "      <td>121088.0</td>\n",
       "      <td>156.0</td>\n",
       "      <td>156.0</td>\n",
       "      <td>0.0</td>\n",
       "      <td>-188.0</td>\n",
       "      <td>500.0</td>\n",
       "      <td>53664.0</td>\n",
       "      <td>-344.0</td>\n",
       "      <td>344.0</td>\n",
       "      <td>0.0</td>\n",
       "      <td>0.557117</td>\n",
       "      <td>0.948133</td>\n",
       "      <td>0.147144</td>\n",
       "      <td>0.752625</td>\n",
       "      <td>0.752625</td>\n",
       "      <td>0.000000</td>\n",
       "      <td>-6.903605</td>\n",
       "      <td>8.408855</td>\n",
       "      <td>5.762269</td>\n",
       "      <td>0.195508</td>\n",
       "      <td>0.195508</td>\n",
       "      <td>0.000000</td>\n",
       "      <td>-7.460722</td>\n",
       "      <td>7.851738</td>\n",
       "      <td>1.496854</td>\n",
       "      <td>-7.656230</td>\n",
       "      <td>7.656230</td>\n",
       "      <td>0.000000</td>\n",
       "      <td>421914.117430</td>\n",
       "      <td>421914.117430</td>\n",
       "      <td>421914.117430</td>\n",
       "      <td>1677.639365</td>\n",
       "      <td>2516.459048</td>\n",
       "      <td>1005.970952</td>\n",
       "      <td>1508.956428</td>\n",
       "      <td>8.438282e+05</td>\n",
       "      <td>1.265742e+06</td>\n",
       "      <td>0.023866</td>\n",
       "      <td>15.0</td>\n",
       "    </tr>\n",
       "    <tr>\n",
       "      <td>1281743</td>\n",
       "      <td>1</td>\n",
       "      <td>55390</td>\n",
       "      <td>2.192269</td>\n",
       "      <td>32.0</td>\n",
       "      <td>1</td>\n",
       "      <td>0.187488</td>\n",
       "      <td>167.0</td>\n",
       "      <td>0.064961</td>\n",
       "      <td>7.0</td>\n",
       "      <td>0.000000</td>\n",
       "      <td>0.0</td>\n",
       "      <td>5.0</td>\n",
       "      <td>72939</td>\n",
       "      <td>17887</td>\n",
       "      <td>31443</td>\n",
       "      <td>617.080051</td>\n",
       "      <td>426.065813</td>\n",
       "      <td>617.080051</td>\n",
       "      <td>426.065813</td>\n",
       "      <td>617.080051</td>\n",
       "      <td>426.065813</td>\n",
       "      <td>-135.0</td>\n",
       "      <td>199.0</td>\n",
       "      <td>5344.0</td>\n",
       "      <td>25.0</td>\n",
       "      <td>39.0</td>\n",
       "      <td>224.0</td>\n",
       "      <td>32.0</td>\n",
       "      <td>32.0</td>\n",
       "      <td>0.0</td>\n",
       "      <td>160.0</td>\n",
       "      <td>174.0</td>\n",
       "      <td>1169.0</td>\n",
       "      <td>167.0</td>\n",
       "      <td>167.0</td>\n",
       "      <td>0.0</td>\n",
       "      <td>7.0</td>\n",
       "      <td>7.0</td>\n",
       "      <td>0.0</td>\n",
       "      <td>2.004781</td>\n",
       "      <td>2.379757</td>\n",
       "      <td>0.411025</td>\n",
       "      <td>2.127308</td>\n",
       "      <td>2.257230</td>\n",
       "      <td>0.142412</td>\n",
       "      <td>2.192269</td>\n",
       "      <td>2.192269</td>\n",
       "      <td>0.000000</td>\n",
       "      <td>0.122528</td>\n",
       "      <td>0.252449</td>\n",
       "      <td>0.012179</td>\n",
       "      <td>0.187488</td>\n",
       "      <td>0.187488</td>\n",
       "      <td>0.000000</td>\n",
       "      <td>0.064961</td>\n",
       "      <td>0.064961</td>\n",
       "      <td>0.000000</td>\n",
       "      <td>262916.713912</td>\n",
       "      <td>262916.713912</td>\n",
       "      <td>262916.713912</td>\n",
       "      <td>1234.160102</td>\n",
       "      <td>1851.240153</td>\n",
       "      <td>852.131627</td>\n",
       "      <td>1278.197440</td>\n",
       "      <td>5.258334e+05</td>\n",
       "      <td>7.887501e+05</td>\n",
       "      <td>0.023785</td>\n",
       "      <td>16.0</td>\n",
       "    </tr>\n",
       "    <tr>\n",
       "      <td>1281728</td>\n",
       "      <td>1</td>\n",
       "      <td>94147</td>\n",
       "      <td>2.518318</td>\n",
       "      <td>17.0</td>\n",
       "      <td>1</td>\n",
       "      <td>0.186302</td>\n",
       "      <td>173.0</td>\n",
       "      <td>0.056882</td>\n",
       "      <td>13.0</td>\n",
       "      <td>0.000000</td>\n",
       "      <td>0.0</td>\n",
       "      <td>5.0</td>\n",
       "      <td>72939</td>\n",
       "      <td>17887</td>\n",
       "      <td>31443</td>\n",
       "      <td>582.112065</td>\n",
       "      <td>455.750037</td>\n",
       "      <td>582.112065</td>\n",
       "      <td>455.750037</td>\n",
       "      <td>582.112065</td>\n",
       "      <td>455.750037</td>\n",
       "      <td>-156.0</td>\n",
       "      <td>190.0</td>\n",
       "      <td>2941.0</td>\n",
       "      <td>4.0</td>\n",
       "      <td>30.0</td>\n",
       "      <td>221.0</td>\n",
       "      <td>17.0</td>\n",
       "      <td>17.0</td>\n",
       "      <td>0.0</td>\n",
       "      <td>160.0</td>\n",
       "      <td>186.0</td>\n",
       "      <td>2249.0</td>\n",
       "      <td>173.0</td>\n",
       "      <td>173.0</td>\n",
       "      <td>0.0</td>\n",
       "      <td>13.0</td>\n",
       "      <td>13.0</td>\n",
       "      <td>0.0</td>\n",
       "      <td>2.332016</td>\n",
       "      <td>2.704619</td>\n",
       "      <td>0.469167</td>\n",
       "      <td>2.461435</td>\n",
       "      <td>2.575200</td>\n",
       "      <td>0.143247</td>\n",
       "      <td>2.518318</td>\n",
       "      <td>2.518318</td>\n",
       "      <td>0.000000</td>\n",
       "      <td>0.129420</td>\n",
       "      <td>0.243184</td>\n",
       "      <td>0.010597</td>\n",
       "      <td>0.186302</td>\n",
       "      <td>0.186302</td>\n",
       "      <td>0.000000</td>\n",
       "      <td>0.056882</td>\n",
       "      <td>0.056882</td>\n",
       "      <td>0.000000</td>\n",
       "      <td>265297.594904</td>\n",
       "      <td>265297.594904</td>\n",
       "      <td>265297.594904</td>\n",
       "      <td>1164.224130</td>\n",
       "      <td>1746.336195</td>\n",
       "      <td>911.500073</td>\n",
       "      <td>1367.250110</td>\n",
       "      <td>5.305952e+05</td>\n",
       "      <td>7.958928e+05</td>\n",
       "      <td>0.021845</td>\n",
       "      <td>17.0</td>\n",
       "    </tr>\n",
       "    <tr>\n",
       "      <td>1281724</td>\n",
       "      <td>1</td>\n",
       "      <td>16433</td>\n",
       "      <td>2.629926</td>\n",
       "      <td>13.0</td>\n",
       "      <td>1</td>\n",
       "      <td>0.536789</td>\n",
       "      <td>2.0</td>\n",
       "      <td>0.028267</td>\n",
       "      <td>59.0</td>\n",
       "      <td>15.327407</td>\n",
       "      <td>27.0</td>\n",
       "      <td>5.0</td>\n",
       "      <td>72939</td>\n",
       "      <td>17887</td>\n",
       "      <td>31443</td>\n",
       "      <td>897.716575</td>\n",
       "      <td>679.981419</td>\n",
       "      <td>897.716575</td>\n",
       "      <td>679.981419</td>\n",
       "      <td>897.716575</td>\n",
       "      <td>679.981419</td>\n",
       "      <td>11.0</td>\n",
       "      <td>15.0</td>\n",
       "      <td>26.0</td>\n",
       "      <td>-46.0</td>\n",
       "      <td>72.0</td>\n",
       "      <td>767.0</td>\n",
       "      <td>-14.0</td>\n",
       "      <td>40.0</td>\n",
       "      <td>351.0</td>\n",
       "      <td>-57.0</td>\n",
       "      <td>61.0</td>\n",
       "      <td>118.0</td>\n",
       "      <td>-25.0</td>\n",
       "      <td>29.0</td>\n",
       "      <td>54.0</td>\n",
       "      <td>32.0</td>\n",
       "      <td>86.0</td>\n",
       "      <td>1593.0</td>\n",
       "      <td>2.093137</td>\n",
       "      <td>3.166715</td>\n",
       "      <td>1.411715</td>\n",
       "      <td>2.601659</td>\n",
       "      <td>2.658193</td>\n",
       "      <td>0.074340</td>\n",
       "      <td>-12.697481</td>\n",
       "      <td>17.957333</td>\n",
       "      <td>40.309946</td>\n",
       "      <td>0.508522</td>\n",
       "      <td>0.565056</td>\n",
       "      <td>0.015173</td>\n",
       "      <td>-14.790618</td>\n",
       "      <td>15.864196</td>\n",
       "      <td>8.227581</td>\n",
       "      <td>-15.299140</td>\n",
       "      <td>15.355674</td>\n",
       "      <td>0.433261</td>\n",
       "      <td>610430.590814</td>\n",
       "      <td>610430.590814</td>\n",
       "      <td>610430.590814</td>\n",
       "      <td>1795.433151</td>\n",
       "      <td>2693.149726</td>\n",
       "      <td>1359.962838</td>\n",
       "      <td>2039.944257</td>\n",
       "      <td>1.220861e+06</td>\n",
       "      <td>1.831292e+06</td>\n",
       "      <td>0.020918</td>\n",
       "      <td>18.0</td>\n",
       "    </tr>\n",
       "    <tr>\n",
       "      <td>1282108</td>\n",
       "      <td>1</td>\n",
       "      <td>12460</td>\n",
       "      <td>0.646513</td>\n",
       "      <td>397.0</td>\n",
       "      <td>1</td>\n",
       "      <td>0.157730</td>\n",
       "      <td>342.0</td>\n",
       "      <td>0.000000</td>\n",
       "      <td>0.0</td>\n",
       "      <td>14.941874</td>\n",
       "      <td>29.0</td>\n",
       "      <td>3.0</td>\n",
       "      <td>72939</td>\n",
       "      <td>17887</td>\n",
       "      <td>31443</td>\n",
       "      <td>447.573056</td>\n",
       "      <td>335.131198</td>\n",
       "      <td>447.573056</td>\n",
       "      <td>335.131198</td>\n",
       "      <td>447.573056</td>\n",
       "      <td>335.131198</td>\n",
       "      <td>55.0</td>\n",
       "      <td>739.0</td>\n",
       "      <td>135774.0</td>\n",
       "      <td>397.0</td>\n",
       "      <td>397.0</td>\n",
       "      <td>0.0</td>\n",
       "      <td>368.0</td>\n",
       "      <td>426.0</td>\n",
       "      <td>11513.0</td>\n",
       "      <td>342.0</td>\n",
       "      <td>342.0</td>\n",
       "      <td>0.0</td>\n",
       "      <td>313.0</td>\n",
       "      <td>371.0</td>\n",
       "      <td>9918.0</td>\n",
       "      <td>-29.0</td>\n",
       "      <td>29.0</td>\n",
       "      <td>0.0</td>\n",
       "      <td>0.488784</td>\n",
       "      <td>0.804243</td>\n",
       "      <td>0.101974</td>\n",
       "      <td>0.646513</td>\n",
       "      <td>0.646513</td>\n",
       "      <td>0.000000</td>\n",
       "      <td>-14.295361</td>\n",
       "      <td>15.588388</td>\n",
       "      <td>9.660123</td>\n",
       "      <td>0.157730</td>\n",
       "      <td>0.157730</td>\n",
       "      <td>0.000000</td>\n",
       "      <td>-14.784145</td>\n",
       "      <td>15.099604</td>\n",
       "      <td>2.356776</td>\n",
       "      <td>-14.941874</td>\n",
       "      <td>14.941874</td>\n",
       "      <td>0.000000</td>\n",
       "      <td>149995.694302</td>\n",
       "      <td>149995.694302</td>\n",
       "      <td>149995.694302</td>\n",
       "      <td>895.146112</td>\n",
       "      <td>1342.719168</td>\n",
       "      <td>670.262396</td>\n",
       "      <td>1005.393593</td>\n",
       "      <td>2.999914e+05</td>\n",
       "      <td>4.499871e+05</td>\n",
       "      <td>0.020447</td>\n",
       "      <td>19.0</td>\n",
       "    </tr>\n",
       "    <tr>\n",
       "      <td>1877089</td>\n",
       "      <td>1</td>\n",
       "      <td>115476</td>\n",
       "      <td>0.000000</td>\n",
       "      <td>0.0</td>\n",
       "      <td>1</td>\n",
       "      <td>0.000000</td>\n",
       "      <td>0.0</td>\n",
       "      <td>0.000000</td>\n",
       "      <td>0.0</td>\n",
       "      <td>21.363048</td>\n",
       "      <td>3.0</td>\n",
       "      <td>3.0</td>\n",
       "      <td>72939</td>\n",
       "      <td>17887</td>\n",
       "      <td>31443</td>\n",
       "      <td>713.511707</td>\n",
       "      <td>521.412248</td>\n",
       "      <td>713.511707</td>\n",
       "      <td>521.412248</td>\n",
       "      <td>713.511707</td>\n",
       "      <td>521.412248</td>\n",
       "      <td>0.0</td>\n",
       "      <td>0.0</td>\n",
       "      <td>0.0</td>\n",
       "      <td>0.0</td>\n",
       "      <td>0.0</td>\n",
       "      <td>0.0</td>\n",
       "      <td>-3.0</td>\n",
       "      <td>3.0</td>\n",
       "      <td>0.0</td>\n",
       "      <td>0.0</td>\n",
       "      <td>0.0</td>\n",
       "      <td>0.0</td>\n",
       "      <td>-3.0</td>\n",
       "      <td>3.0</td>\n",
       "      <td>0.0</td>\n",
       "      <td>-3.0</td>\n",
       "      <td>3.0</td>\n",
       "      <td>0.0</td>\n",
       "      <td>0.000000</td>\n",
       "      <td>0.000000</td>\n",
       "      <td>0.000000</td>\n",
       "      <td>0.000000</td>\n",
       "      <td>0.000000</td>\n",
       "      <td>0.000000</td>\n",
       "      <td>-21.363048</td>\n",
       "      <td>21.363048</td>\n",
       "      <td>0.000000</td>\n",
       "      <td>0.000000</td>\n",
       "      <td>0.000000</td>\n",
       "      <td>0.000000</td>\n",
       "      <td>-21.363048</td>\n",
       "      <td>21.363048</td>\n",
       "      <td>0.000000</td>\n",
       "      <td>-21.363048</td>\n",
       "      <td>21.363048</td>\n",
       "      <td>0.000000</td>\n",
       "      <td>372033.743037</td>\n",
       "      <td>372033.743037</td>\n",
       "      <td>372033.743037</td>\n",
       "      <td>1427.023414</td>\n",
       "      <td>2140.535120</td>\n",
       "      <td>1042.824496</td>\n",
       "      <td>1564.236744</td>\n",
       "      <td>7.440675e+05</td>\n",
       "      <td>1.116101e+06</td>\n",
       "      <td>0.019603</td>\n",
       "      <td>20.0</td>\n",
       "    </tr>\n",
       "  </tbody>\n",
       "</table>\n",
       "</div>"
      ],
      "text/plain": [
       "        user_id item_id_pred   score_1  rank_1  phase   score_2  rank_2   score_3  rank_3    score_4  rank_4  item_cnt last_1 last_2 last_3    sim1_text    sim1_img    sim2_text    sim2_img    sim3_text    sim3_img  rank1_sub_rank2  rank1_add_rank2  rank1_mul_rank2  rank1_sub_rank3  rank1_add_rank3  rank1_mul_rank3  rank1_sub_rank4  rank1_add_rank4  rank1_mul_rank4  rank2_sub_rank3  rank2_add_rank3  rank2_mul_rank3  rank2_sub_rank4  rank2_add_rank4  rank2_mul_rank4  rank3_sub_rank4  rank3_add_rank4  rank3_mul_rank4  score1_sub_score2  score1_add_score2  score1_mul_score2  score1_sub_score3  score1_add_score3  score1_mul_score3  score1_sub_score4  score1_add_score4  score1_mul_score4  score2_sub_score3  score2_add_score3  score2_mul_score3  score2_sub_score4  score2_add_score4  score2_mul_score4  score3_sub_score4  score3_add_score4  score3_mul_score4  sim1_text_img  sim2_text_img  sim3_text_img   sim12_text  sim123_text    sim12_img   sim123_img  sim12_text_img  sim123_text_img    fscore  frank\n",
       "1281712       1        32360  6.932601     1.0      1  0.720665     1.0  0.118531     1.0  11.650906    80.0       4.0  72939  17887  31443   863.692091  565.325717   863.692091  565.325717   863.692091  565.325717              0.0              2.0              1.0              0.0              2.0              1.0            -79.0             81.0             80.0              0.0              2.0              1.0            -79.0             81.0             80.0            -79.0             81.0             80.0           6.211936           7.653266           4.996081           6.814071           7.051132           0.821726          -4.718305          18.583507          80.771086           0.602134           0.839195           0.085421         -10.930242          12.371571           8.396396         -11.532376          11.769437           1.380989  488267.350695  488267.350695  488267.350695  1727.384182  2591.076272  1130.651434  1695.977152    9.765347e+05     1.464802e+06  0.199372    1.0\n",
       "1281716       1        46297  3.534822     5.0      1  0.313277    56.0  0.073649     4.0  10.195960   129.0       4.0  72939  17887  31443   806.520190  560.152918   806.520190  560.152918   806.520190  560.152918            -51.0             61.0            280.0              1.0              9.0             20.0           -124.0            134.0            645.0             52.0             60.0            224.0            -73.0            185.0           7224.0           -125.0            133.0            516.0           3.221544           3.848099           1.107379           3.461172           3.608471           0.260337          -6.661138          13.730781          36.040898           0.239628           0.386927           0.023073          -9.882682          10.509237           3.194162         -10.122310          10.269609           0.750925  451774.637925  451774.637925  451774.637925  1613.040379  2419.560569  1120.305837  1680.458755    9.035493e+05     1.355324e+06  0.103043    2.0\n",
       "1281719       1        87837  3.241958     8.0      1  0.536789     5.0  0.038941    33.0   0.000000     0.0      12.0  72939  17887  31443  1044.191308  526.457017  1044.191308  526.457017  1044.191308  526.457017              3.0             13.0             40.0            -25.0             41.0            264.0              8.0              8.0              0.0            -28.0             38.0            165.0              5.0              5.0              0.0             33.0             33.0              0.0           2.705169           3.778747           1.740247           3.203017           3.280899           0.126244           3.241958           3.241958           0.000000           0.497848           0.575730           0.020903           0.536789           0.536789           0.000000           0.038941           0.038941           0.000000  549721.840946  549721.840946  549721.840946  2088.382617  3132.573925  1052.914033  1579.371050    1.099444e+06     1.649166e+06  0.065992    3.0\n",
       "1281713       1       100116  4.453803     2.0      1  0.363821    35.0  0.067410     6.0   9.035917   214.0       4.0  72939  17887  31443  1292.133060  726.512387  1292.133060  726.512387  1292.133060  726.512387            -33.0             37.0             70.0             -4.0              8.0             12.0           -212.0            216.0            428.0             29.0             41.0            210.0           -179.0            249.0           7490.0           -208.0            220.0           1284.0           4.089982           4.817625           1.620389           4.386393           4.521213           0.300231          -4.582114          13.489721          40.244200           0.296411           0.431231           0.024525          -8.672096           9.399739           3.287460          -8.968507           9.103327           0.609112  938750.674026  938750.674026  938750.674026  2584.266120  3876.399179  1453.024775  2179.537162    1.877501e+06     2.816252e+06  0.065171    4.0\n",
       "1281717       1        91290  3.522240     6.0      1  0.536789     7.0  0.059625    10.0   7.198735   412.0       6.0  72939  17887  31443   918.670205  452.535851   918.670205  452.535851   918.670205  452.535851             -1.0             13.0             42.0             -4.0             16.0             60.0           -406.0            418.0           2472.0             -3.0             17.0             70.0           -405.0            419.0           2884.0           -402.0            422.0           4120.0           2.985451           4.059028           1.890699           3.462615           3.581864           0.210012          -3.676496          10.720975          25.355671           0.477164           0.596414           0.032006          -6.661947           7.735524           3.864201          -7.139111           7.258360           0.429222  415731.203055  415731.203055  415731.203055  1837.340410  2756.010616   905.071702  1357.607553    8.314624e+05     1.247194e+06  0.058183    5.0\n",
       "1281720       1       103887  3.166490     9.0      1  0.407387    17.0  0.021934    71.0   9.971464   137.0       3.0  72939  17887  31443   189.196155  453.151189   189.196155  453.151189   189.196155  453.151189             -8.0             26.0            153.0            -62.0             80.0            639.0           -128.0            146.0           1233.0            -54.0             88.0           1207.0           -120.0            154.0           2329.0            -66.0            208.0           9727.0           2.759103           3.573877           1.289988           3.144556           3.188424           0.069455          -6.804974          13.137954          31.574542           0.385453           0.429322           0.008936          -9.564077          10.378852           4.062249          -9.949530           9.993399           0.218718   85734.462772   85734.462772   85734.462772   378.392310   567.588466   906.302379  1359.453568    1.714689e+05     2.572034e+05  0.051093    6.0\n",
       "1281715       1        19228  3.574609     4.0      1  0.536789     3.0  0.050965    19.0  17.375552    18.0       4.0  72939  17887  31443   581.348957  584.179791   581.348957  584.179791   581.348957  584.179791              1.0              7.0             12.0            -15.0             23.0             76.0            -14.0             22.0             72.0            -16.0             22.0             57.0            -15.0             21.0             54.0              1.0             37.0            342.0           3.037820           4.111397           1.918810           3.523643           3.625574           0.182181         -13.800943          20.950160          62.110797           0.485824           0.587754           0.027358         -16.838763          17.912341           9.327002         -17.324587          17.426517           0.885549  339612.312301  339612.312301  339612.312301  1162.697915  1744.046872  1168.359581  1752.539372    6.792246e+05     1.018837e+06  0.047346    7.0\n",
       "1281753       1        67733  2.041305    42.0      1  0.140572   440.0  0.062811     8.0  10.184710   130.0       5.0  72939  17887  31443   904.163253  482.228360   904.163253  482.228360   904.163253  482.228360           -398.0            482.0          18480.0             34.0             50.0            336.0            -88.0            172.0           5460.0            432.0            448.0           3520.0            310.0            570.0          57200.0           -122.0            138.0           1040.0           1.900734           2.181877           0.286950           1.978495           2.104116           0.128216          -8.143404          12.226015          20.790103           0.077761           0.203382           0.008829         -10.044138          10.325281           1.431682         -10.121899          10.247520           0.639708  436013.162106  436013.162106  436013.162106  1808.326505  2712.489758   964.456719  1446.685079    8.720263e+05     1.308039e+06  0.042954    8.0\n",
       "1281736       1        93601  2.336578    25.0      1  0.407387    19.0  0.006310   217.0   9.887330   142.0       3.0  72939  17887  31443   461.508535  514.591747   461.508535  514.591747   461.508535  514.591747              6.0             44.0            475.0           -192.0            242.0           5425.0           -117.0            167.0           3550.0           -198.0            236.0           4123.0           -123.0            161.0           2698.0             75.0            359.0          30814.0           1.929190           2.743965           0.951892           2.330268           2.342888           0.014744          -7.550752          12.223908          23.102516           0.401077           0.413698           0.002571          -9.479943          10.294718           4.027974          -9.881020           9.893640           0.062391  237488.483338  237488.483338  237488.483338   923.017071  1384.525606  1029.183493  1543.775240    4.749770e+05     7.124655e+05  0.039014    9.0\n",
       "1281723       1        54063  2.701440    12.0      1  0.201296   117.0  0.059622    11.0   0.000000     0.0       6.0  72939  17887  31443   347.321282  478.893997   347.321282  478.893997   347.321282  478.893997           -105.0            129.0           1404.0              1.0             23.0            132.0             12.0             12.0              0.0            106.0            128.0           1287.0            117.0            117.0              0.0             11.0             11.0              0.0           2.500144           2.902736           0.543789           2.641817           2.761062           0.161066           2.701440           2.701440           0.000000           0.141673           0.260918           0.012002           0.201296           0.201296           0.000000           0.059622           0.059622           0.000000  166330.077213  166330.077213  166330.077213   694.642565  1041.963847   957.787995  1436.681992    3.326602e+05     4.989902e+05  0.034457   10.0\n",
       "1281726       1        30677  2.550023    15.0      1  0.162526   317.0  0.078085     3.0   0.000000     0.0       4.0  72939  17887  31443   686.858726  541.528295   686.858726  541.528295   686.858726  541.528295           -302.0            332.0           4755.0             12.0             18.0             45.0             15.0             15.0              0.0            314.0            320.0            951.0            317.0            317.0              0.0              3.0              3.0              0.0           2.387498           2.712549           0.414444           2.471938           2.628108           0.199118           2.550023           2.550023           0.000000           0.084441           0.240610           0.012691           0.162526           0.162526           0.000000           0.078085           0.078085           0.000000  371953.434681  371953.434681  371953.434681  1373.717451  2060.576177  1083.056590  1624.584885    7.439069e+05     1.115860e+06  0.033774   11.0\n",
       "1281746       1        67902  2.151964    35.0      1  0.407387    15.0  0.000000     0.0  10.884722   108.0       4.0  72939  17887  31443   651.921422  551.734701   651.921422  551.734701   651.921422  551.734701             20.0             50.0            525.0             35.0             35.0              0.0            -73.0            143.0           3780.0             15.0             15.0              0.0            -93.0            123.0           1620.0           -108.0            108.0              0.0           1.744576           2.559351           0.876683           2.151964           2.151964           0.000000          -8.732758          13.036685          23.423524           0.407387           0.407387           0.000000         -10.477334          11.292109           4.434299         -10.884722          10.884722           0.000000  359687.670736  359687.670736  359687.670736  1303.842844  1955.764266  1103.469402  1655.204102    7.193753e+05     1.079063e+06  0.028453   12.0\n",
       "1281718       1       109854  3.258795     7.0      1  0.536789     6.0  0.040734    29.0   8.617007   253.0       4.0  72939  17887  31443   667.309225  545.680291   667.309225  545.680291   667.309225  545.680291              1.0             13.0             42.0            -22.0             36.0            203.0           -246.0            260.0           1771.0            -23.0             35.0            174.0           -247.0            259.0           1518.0           -224.0            282.0           7337.0           2.722006           3.795584           1.749285           3.218061           3.299529           0.132745          -5.358212          11.875802          28.081058           0.496055           0.577523           0.021866          -8.080218           9.153795           4.625513          -8.576272           8.657741           0.351008  364137.491599  364137.491599  364137.491599  1334.618449  2001.927674  1091.360581  1637.040872    7.282750e+05     1.092412e+06  0.027607   13.0\n",
       "1281803       1       101060  1.579274    92.0      1  0.201296   110.0  0.056854    14.0   0.000000     0.0      19.0  72939  17887  31443   412.745076  460.527136   412.745076  460.527136   412.745076  460.527136            -18.0            202.0          10120.0             78.0            106.0           1288.0             92.0             92.0              0.0             96.0            124.0           1540.0            110.0            110.0              0.0             14.0             14.0              0.0           1.377979           1.780570           0.317901           1.522421           1.636128           0.089788           1.579274           1.579274           0.000000           0.144442           0.258150           0.011444           0.201296           0.201296           0.000000           0.056854           0.056854           0.000000  190080.307954  190080.307954  190080.307954   825.490153  1238.235229   921.054272  1381.581409    3.801606e+05     5.702409e+05  0.025383   14.0\n",
       "1282063       1        97693  0.752625   352.0      1  0.195508   156.0  0.000000     0.0   7.656230   344.0       3.0  72939  17887  31443   838.819683  502.985476   838.819683  502.985476   838.819683  502.985476            196.0            508.0          54912.0            352.0            352.0              0.0              8.0            696.0         121088.0            156.0            156.0              0.0           -188.0            500.0          53664.0           -344.0            344.0              0.0           0.557117           0.948133           0.147144           0.752625           0.752625           0.000000          -6.903605           8.408855           5.762269           0.195508           0.195508           0.000000          -7.460722           7.851738           1.496854          -7.656230           7.656230           0.000000  421914.117430  421914.117430  421914.117430  1677.639365  2516.459048  1005.970952  1508.956428    8.438282e+05     1.265742e+06  0.023866   15.0\n",
       "1281743       1        55390  2.192269    32.0      1  0.187488   167.0  0.064961     7.0   0.000000     0.0       5.0  72939  17887  31443   617.080051  426.065813   617.080051  426.065813   617.080051  426.065813           -135.0            199.0           5344.0             25.0             39.0            224.0             32.0             32.0              0.0            160.0            174.0           1169.0            167.0            167.0              0.0              7.0              7.0              0.0           2.004781           2.379757           0.411025           2.127308           2.257230           0.142412           2.192269           2.192269           0.000000           0.122528           0.252449           0.012179           0.187488           0.187488           0.000000           0.064961           0.064961           0.000000  262916.713912  262916.713912  262916.713912  1234.160102  1851.240153   852.131627  1278.197440    5.258334e+05     7.887501e+05  0.023785   16.0\n",
       "1281728       1        94147  2.518318    17.0      1  0.186302   173.0  0.056882    13.0   0.000000     0.0       5.0  72939  17887  31443   582.112065  455.750037   582.112065  455.750037   582.112065  455.750037           -156.0            190.0           2941.0              4.0             30.0            221.0             17.0             17.0              0.0            160.0            186.0           2249.0            173.0            173.0              0.0             13.0             13.0              0.0           2.332016           2.704619           0.469167           2.461435           2.575200           0.143247           2.518318           2.518318           0.000000           0.129420           0.243184           0.010597           0.186302           0.186302           0.000000           0.056882           0.056882           0.000000  265297.594904  265297.594904  265297.594904  1164.224130  1746.336195   911.500073  1367.250110    5.305952e+05     7.958928e+05  0.021845   17.0\n",
       "1281724       1        16433  2.629926    13.0      1  0.536789     2.0  0.028267    59.0  15.327407    27.0       5.0  72939  17887  31443   897.716575  679.981419   897.716575  679.981419   897.716575  679.981419             11.0             15.0             26.0            -46.0             72.0            767.0            -14.0             40.0            351.0            -57.0             61.0            118.0            -25.0             29.0             54.0             32.0             86.0           1593.0           2.093137           3.166715           1.411715           2.601659           2.658193           0.074340         -12.697481          17.957333          40.309946           0.508522           0.565056           0.015173         -14.790618          15.864196           8.227581         -15.299140          15.355674           0.433261  610430.590814  610430.590814  610430.590814  1795.433151  2693.149726  1359.962838  2039.944257    1.220861e+06     1.831292e+06  0.020918   18.0\n",
       "1282108       1        12460  0.646513   397.0      1  0.157730   342.0  0.000000     0.0  14.941874    29.0       3.0  72939  17887  31443   447.573056  335.131198   447.573056  335.131198   447.573056  335.131198             55.0            739.0         135774.0            397.0            397.0              0.0            368.0            426.0          11513.0            342.0            342.0              0.0            313.0            371.0           9918.0            -29.0             29.0              0.0           0.488784           0.804243           0.101974           0.646513           0.646513           0.000000         -14.295361          15.588388           9.660123           0.157730           0.157730           0.000000         -14.784145          15.099604           2.356776         -14.941874          14.941874           0.000000  149995.694302  149995.694302  149995.694302   895.146112  1342.719168   670.262396  1005.393593    2.999914e+05     4.499871e+05  0.020447   19.0\n",
       "1877089       1       115476  0.000000     0.0      1  0.000000     0.0  0.000000     0.0  21.363048     3.0       3.0  72939  17887  31443   713.511707  521.412248   713.511707  521.412248   713.511707  521.412248              0.0              0.0              0.0              0.0              0.0              0.0             -3.0              3.0              0.0              0.0              0.0              0.0             -3.0              3.0              0.0             -3.0              3.0              0.0           0.000000           0.000000           0.000000           0.000000           0.000000           0.000000         -21.363048          21.363048           0.000000           0.000000           0.000000           0.000000         -21.363048          21.363048           0.000000         -21.363048          21.363048           0.000000  372033.743037  372033.743037  372033.743037  1427.023414  2140.535120  1042.824496  1564.236744    7.440675e+05     1.116101e+06  0.019603   20.0"
      ]
     },
     "execution_count": 186,
     "metadata": {},
     "output_type": "execute_result"
    }
   ],
   "source": [
    "dff.sort_values('user_id frank'.split()).head(20)"
   ]
  },
  {
   "cell_type": "code",
   "execution_count": 187,
   "metadata": {},
   "outputs": [],
   "source": [
    "df1 = dff.sort_values(['user_id', 'fscore'], ascending=False)"
   ]
  },
  {
   "cell_type": "code",
   "execution_count": 188,
   "metadata": {},
   "outputs": [],
   "source": [
    "sub = df1[df1.frank<51]"
   ]
  },
  {
   "cell_type": "code",
   "execution_count": 189,
   "metadata": {},
   "outputs": [],
   "source": [
    "sub = sub.groupby('user_id')['item_id_pred'].agg(list)"
   ]
  },
  {
   "cell_type": "code",
   "execution_count": 190,
   "metadata": {},
   "outputs": [
    {
     "data": {
      "text/plain": [
       "user_id\n",
       "1        [32360, 46297, 87837, 100116, 91290, 103887, 1...\n",
       "100      [100089, 112676, 57797, 13337, 27324, 17927, 4...\n",
       "10001    [27822, 45632, 79132, 110920, 109849, 25257, 4...\n",
       "10002    [100447, 92204, 74285, 80136, 5525, 68539, 467...\n",
       "10003    [91369, 94839, 10153, 30879, 64611, 61748, 900...\n",
       "                               ...                        \n",
       "9989     [107329, 111222, 101475, 80227, 107960, 107968...\n",
       "9991     [14239, 20258, 115035, 17905, 44549, 18287, 69...\n",
       "9992     [42102, 11182, 36448, 18277, 39725, 64053, 309...\n",
       "9993     [13354, 80129, 62601, 66514, 78046, 36207, 161...\n",
       "9994     [67789, 71249, 6973, 43622, 14347, 5194, 46996...\n",
       "Name: item_id_pred, Length: 12080, dtype: object"
      ]
     },
     "execution_count": 190,
     "metadata": {},
     "output_type": "execute_result"
    }
   ],
   "source": [
    "sub"
   ]
  },
  {
   "cell_type": "code",
   "execution_count": 191,
   "metadata": {},
   "outputs": [],
   "source": [
    "sub1 = pd.DataFrame()\n",
    "\n",
    "for i in range(50):\n",
    "    sub1[f'c{i}'] = sub.str.get(i)\n",
    "\n",
    "sub1.applymap(int).to_csv('baseline1_itemcf36666.csv', header=False)"
   ]
  },
  {
   "cell_type": "code",
   "execution_count": 192,
   "metadata": {},
   "outputs": [
    {
     "data": {
      "text/plain": [
       "(12080, 50)"
      ]
     },
     "execution_count": 192,
     "metadata": {},
     "output_type": "execute_result"
    }
   ],
   "source": [
    "sub1.shape"
   ]
  },
  {
   "cell_type": "code",
   "execution_count": null,
   "metadata": {},
   "outputs": [],
   "source": []
  }
 ],
 "metadata": {
  "kernelspec": {
   "display_name": "Python 3",
   "language": "python",
   "name": "python3"
  },
  "language_info": {
   "codemirror_mode": {
    "name": "ipython",
    "version": 3
   },
   "file_extension": ".py",
   "mimetype": "text/x-python",
   "name": "python",
   "nbconvert_exporter": "python",
   "pygments_lexer": "ipython3",
   "version": "3.7.3"
  },
  "toc": {
   "base_numbering": 1,
   "nav_menu": {},
   "number_sections": true,
   "sideBar": true,
   "skip_h1_title": false,
   "title_cell": "Table of Contents",
   "title_sidebar": "Contents",
   "toc_cell": false,
   "toc_position": {
    "height": "calc(100% - 180px)",
    "left": "10px",
    "top": "150px",
    "width": "211.6px"
   },
   "toc_section_display": true,
   "toc_window_display": true
  }
 },
 "nbformat": 4,
 "nbformat_minor": 2
}
