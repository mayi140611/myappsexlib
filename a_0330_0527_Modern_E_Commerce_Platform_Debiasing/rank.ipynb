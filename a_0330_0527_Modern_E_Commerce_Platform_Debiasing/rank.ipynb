{
 "cells": [
  {
   "cell_type": "code",
   "execution_count": 1,
   "metadata": {},
   "outputs": [],
   "source": [
    "# default_exp rank"
   ]
  },
  {
   "cell_type": "code",
   "execution_count": 103,
   "metadata": {},
   "outputs": [],
   "source": [
    "%reload_ext autoreload\n",
    "%autoreload 2\n",
    "\n",
    "%matplotlib inline"
   ]
  },
  {
   "cell_type": "code",
   "execution_count": 1,
   "metadata": {},
   "outputs": [],
   "source": [
    "# export\n",
    "import os\n",
    "import sys\n",
    "sys.path.append('../mylib/')\n",
    "from algo.rs.matrix import *\n",
    "from code.val import main as val\n",
    "from code.eda import * \n",
    "from code.config import args\n",
    "import pandas as pd  \n",
    "import numpy as np\n",
    "from tqdm import tqdm  \n",
    "from collections import defaultdict  \n",
    "import math  \n",
    "from sklearn.metrics.pairwise import cosine_similarity\n",
    "from loguru import logger\n",
    "from utils.pickle import PickleWrapper"
   ]
  },
  {
   "cell_type": "code",
   "execution_count": 2,
   "metadata": {},
   "outputs": [],
   "source": [
    "trace = logger.add(os.path.join(args.DATA_DIR, 'data_gen/runtime.log'))  "
   ]
  },
  {
   "cell_type": "markdown",
   "metadata": {},
   "source": [
    "# val"
   ]
  },
  {
   "cell_type": "code",
   "execution_count": 3,
   "metadata": {},
   "outputs": [],
   "source": [
    "def val1(df, topk, click_val):\n",
    "    \"\"\"\n",
    "    :sr: pd.Series\n",
    "        user_id\n",
    "        1        [52766, 17359, 8142, 114592, 82010, 102105, 11...\n",
    "        2        [111215, 4207, 49803, 5291, 68704, 113633, 712...\n",
    "    \"\"\"\n",
    "    sr = df.groupby('user_id')['item_id_pred'].agg(list)\n",
    "    r_list = []\n",
    "    pred_num = click_val.shape[0]\n",
    "    for line in click_val.itertuples():\n",
    "        try:\n",
    "#             t = [i[0] for i in sr[line.user_id]]\n",
    "            df.loc[df.user_id==line.user_id, 'item_id_true'] = line.item_id\n",
    "            t = sr[line.user_id]\n",
    "#             print(t)\n",
    "            i = t.index(line.item_id)\n",
    "        except:\n",
    "            i = 99999\n",
    "\n",
    "        r_list.append(i)\n",
    "    r_series = pd.Series(r_list)\n",
    "    for i in range(50, topk+1, 50):\n",
    "        logger.info(f'recall{i}:{r_series[r_series<i].shape[0]/pred_num}')\n",
    "        \n",
    "#     r_series[r_series<9999].plot(kind='box', title='pp', rot=45)\n",
    "    return df"
   ]
  },
  {
   "cell_type": "markdown",
   "metadata": {},
   "source": [
    "# load click data"
   ]
  },
  {
   "cell_type": "code",
   "execution_count": 23,
   "metadata": {},
   "outputs": [
    {
     "name": "stderr",
     "output_type": "stream",
     "text": [
      "2020-05-27 17:13:45.400 | INFO     | code.eda:load_click_data_per_phase:97 - phase: 0\n",
      "2020-05-27 17:13:48.786 | INFO     | code.eda:load_click_data_per_phase:108 - all_click: (261337, 3), click_test1_val: (1663, 3), test_qtime1: (1663, 2)\n",
      "2020-05-27 17:13:48.788 | INFO     | code.eda:load_click_data_per_phase:97 - phase: 1\n",
      "2020-05-27 17:13:52.711 | INFO     | code.eda:load_click_data_per_phase:108 - all_click: (264871, 3), click_test1_val: (1726, 3), test_qtime1: (1726, 2)\n",
      "2020-05-27 17:13:52.717 | INFO     | code.eda:load_click_data_per_phase:97 - phase: 2\n",
      "2020-05-27 17:13:56.730 | INFO     | code.eda:load_click_data_per_phase:108 - all_click: (264624, 3), click_test1_val: (1690, 3), test_qtime1: (1690, 2)\n",
      "2020-05-27 17:13:56.734 | INFO     | code.eda:load_click_data_per_phase:97 - phase: 3\n",
      "2020-05-27 17:14:01.287 | INFO     | code.eda:load_click_data_per_phase:108 - all_click: (286609, 3), click_test1_val: (1675, 3), test_qtime1: (1675, 2)\n",
      "2020-05-27 17:14:01.290 | INFO     | code.eda:load_click_data_per_phase:97 - phase: 4\n",
      "2020-05-27 17:14:05.236 | INFO     | code.eda:load_click_data_per_phase:108 - all_click: (291672, 3), click_test1_val: (1708, 3), test_qtime1: (1708, 2)\n",
      "2020-05-27 17:14:05.238 | INFO     | code.eda:load_click_data_per_phase:97 - phase: 5\n",
      "2020-05-27 17:14:10.277 | INFO     | code.eda:load_click_data_per_phase:108 - all_click: (313378, 3), click_test1_val: (1798, 3), test_qtime1: (1798, 2)\n",
      "2020-05-27 17:14:10.279 | INFO     | code.eda:load_click_data_per_phase:97 - phase: 6\n",
      "2020-05-27 17:14:15.040 | INFO     | code.eda:load_click_data_per_phase:108 - all_click: (337339, 3), click_test1_val: (1821, 3), test_qtime1: (1821, 2)\n"
     ]
    }
   ],
   "source": [
    "all_click_df = load_click_data_per_phase(args.now_phase, args.DATA_DIR)"
   ]
  },
  {
   "cell_type": "code",
   "execution_count": 206,
   "metadata": {},
   "outputs": [
    {
     "name": "stderr",
     "output_type": "stream",
     "text": [
      "/Users/luoyonggui/PycharmProjects/myappsexlib/a_0330_0527_Modern_E_Commerce_Platform_Debiasing/code/eda.py:32: ParserWarning: Falling back to the 'python' engine because the 'c' engine does not support regex separators (separators > 1 char and different from '\\s+' are interpreted as regex); you can avoid this warning by specifying engine='python'.\n",
      "  converters={'item_id':str})\n"
     ]
    }
   ],
   "source": [
    "item_feat = get_item_data()"
   ]
  },
  {
   "cell_type": "code",
   "execution_count": 208,
   "metadata": {},
   "outputs": [
    {
     "data": {
      "text/plain": [
       "(108916, 128)"
      ]
     },
     "execution_count": 208,
     "metadata": {},
     "output_type": "execute_result"
    }
   ],
   "source": [
    "item_feat.iloc[:, 1:129].shape"
   ]
  },
  {
   "cell_type": "code",
   "execution_count": 209,
   "metadata": {},
   "outputs": [
    {
     "data": {
      "text/plain": [
       "(108916, 128)"
      ]
     },
     "execution_count": 209,
     "metadata": {},
     "output_type": "execute_result"
    }
   ],
   "source": [
    "item_feat.iloc[:, 129:257].shape"
   ]
  },
  {
   "cell_type": "code",
   "execution_count": 211,
   "metadata": {},
   "outputs": [],
   "source": [
    "item_feat['text_vec'] = item_feat.iloc[:, 1:129].values.tolist()\n",
    "item_feat['img_vec'] = item_feat.iloc[:, 129:257].values.tolist()\n",
    "\n",
    "item_feat['text_vec'] = item_feat['text_vec'].map(np.array)\n",
    "\n",
    "item_feat['img_vec'] = item_feat['img_vec'].map(np.array)"
   ]
  },
  {
   "cell_type": "code",
   "execution_count": 212,
   "metadata": {},
   "outputs": [],
   "source": [
    "item_feat.set_index('item_id', inplace=True)"
   ]
  },
  {
   "cell_type": "code",
   "execution_count": 5,
   "metadata": {},
   "outputs": [],
   "source": [
    "phase = [0, 1, 2, 3, 5, 6]\n",
    "# match_num = 200\n",
    "match_num = 500"
   ]
  },
  {
   "cell_type": "code",
   "execution_count": 185,
   "metadata": {},
   "outputs": [
    {
     "data": {
      "text/plain": [
       "item_id\n",
       "1          4\n",
       "1000      13\n",
       "100000     8\n",
       "10001      5\n",
       "100013     5\n",
       "          ..\n",
       "99990      6\n",
       "99991      3\n",
       "99993      5\n",
       "99994      5\n",
       "99998      5\n",
       "Name: user_id, Length: 40775, dtype: int64"
      ]
     },
     "execution_count": 185,
     "metadata": {},
     "output_type": "execute_result"
    }
   ],
   "source": [
    "# 计算每个phase的item_id user_cnt  # 貌似每个phase的item只会被user唯一点击一次，那就没必要统计了。。。\n",
    "def t(s):\n",
    "    return s.nunique()\n",
    "all_click_df[0][0].groupby('item_id')['user_id'].agg(t)"
   ]
  },
  {
   "cell_type": "code",
   "execution_count": 177,
   "metadata": {},
   "outputs": [],
   "source": [
    "# temp_ = all_click_df[0][0].groupby('user_id')['item_id'].agg(list)\n",
    "temp_ = all_click_df[0][0].groupby('item_id')['user_id'].agg(list)"
   ]
  },
  {
   "cell_type": "code",
   "execution_count": 179,
   "metadata": {},
   "outputs": [
    {
     "data": {
      "text/plain": [
       "item_id\n",
       "1                               [1489, 10088, 13420, 19312]\n",
       "1000      [14546, 9531, 32114, 6934, 20558, 30360, 33492...\n",
       "100000    [20800, 17064, 33901, 5699, 8541, 1940, 20705,...\n",
       "10001                      [6572, 17178, 25162, 6383, 8264]\n",
       "100013                    [18924, 32480, 7696, 6319, 32706]\n",
       "                                ...                        \n",
       "99990              [30399, 8084, 2969, 21225, 32152, 34183]\n",
       "99991                                  [9430, 32852, 31855]\n",
       "99993                   [23622, 22023, 12546, 31661, 21784]\n",
       "99994                     [9287, 6305, 28964, 17648, 22420]\n",
       "99998                    [24217, 9796, 20948, 25551, 16599]\n",
       "Name: user_id, Length: 40775, dtype: object"
      ]
     },
     "execution_count": 179,
     "metadata": {},
     "output_type": "execute_result"
    }
   ],
   "source": [
    "temp_"
   ]
  },
  {
   "cell_type": "code",
   "execution_count": 178,
   "metadata": {},
   "outputs": [
    {
     "data": {
      "text/plain": [
       "count    40775.000000\n",
       "mean         6.409246\n",
       "std          6.358793\n",
       "min          1.000000\n",
       "25%          4.000000\n",
       "50%          5.000000\n",
       "75%          7.000000\n",
       "max        234.000000\n",
       "Name: user_id, dtype: float64"
      ]
     },
     "execution_count": 178,
     "metadata": {},
     "output_type": "execute_result"
    }
   ],
   "source": [
    "temp_.str.len().describe()"
   ]
  },
  {
   "cell_type": "code",
   "execution_count": null,
   "metadata": {},
   "outputs": [],
   "source": [
    "for p in phase:\n",
    "    # 获取test用户的近n次点击\n",
    "    temp_ = all_click_df[0][0].groupby('user_id')['item_id'].agg(list)\n",
    "    temp_ = pd.DataFrame(temp_)\n",
    "    for i in range(5):\n",
    "        temp_[f'last_{i+1}'] = temp_.item_id.str.get(-(i+1))\n",
    "        \n",
    "    # 计算每个phase的item_id cnt\n",
    "    all_click_df[0][0].groupby('item_id')['user_id'].count()"
   ]
  },
  {
   "cell_type": "code",
   "execution_count": 164,
   "metadata": {},
   "outputs": [
    {
     "name": "stderr",
     "output_type": "stream",
     "text": [
      "2020-05-28 05:06:06.627 | INFO     | code.eda:load_whole_click_data:54 - phase: 0\n",
      "2020-05-28 05:06:06.989 | INFO     | code.eda:load_whole_click_data:54 - phase: 1\n",
      "2020-05-28 05:06:07.275 | INFO     | code.eda:load_whole_click_data:54 - phase: 2\n",
      "2020-05-28 05:06:07.585 | INFO     | code.eda:load_whole_click_data:54 - phase: 3\n",
      "2020-05-28 05:06:07.939 | INFO     | code.eda:load_whole_click_data:54 - phase: 4\n",
      "2020-05-28 05:06:08.331 | INFO     | code.eda:load_whole_click_data:54 - phase: 5\n",
      "2020-05-28 05:06:08.812 | INFO     | code.eda:load_whole_click_data:54 - phase: 6\n",
      "2020-05-28 05:06:16.617 | INFO     | code.eda:load_whole_click_data:84 - whole_click_train: (954588, 4), whole_click_val: (12081, 4), click_test: (175274, 4), test_qtime: (12081, 3)\n"
     ]
    }
   ],
   "source": [
    "whole_click_train, whole_click_val, click_test, test_qtime = load_whole_click_data(args.now_phase, args.DATA_DIR)"
   ]
  },
  {
   "cell_type": "code",
   "execution_count": 165,
   "metadata": {},
   "outputs": [],
   "source": [
    "click_test_val = click_test.sort_values('time').drop_duplicates('user_id', keep='last')"
   ]
  },
  {
   "cell_type": "code",
   "execution_count": 166,
   "metadata": {},
   "outputs": [],
   "source": [
    "click_test = click_test[~click_test.index.isin(click_test_val.index)].sort_values('time')"
   ]
  },
  {
   "cell_type": "code",
   "execution_count": 167,
   "metadata": {},
   "outputs": [
    {
     "data": {
      "text/plain": [
       "(109018, 4)"
      ]
     },
     "execution_count": 167,
     "metadata": {},
     "output_type": "execute_result"
    }
   ],
   "source": [
    "click_test.shape"
   ]
  },
  {
   "cell_type": "code",
   "execution_count": 168,
   "metadata": {},
   "outputs": [
    {
     "data": {
      "text/plain": [
       "11724"
      ]
     },
     "execution_count": 168,
     "metadata": {},
     "output_type": "execute_result"
    }
   ],
   "source": [
    "click_test.user_id.nunique()"
   ]
  },
  {
   "cell_type": "code",
   "execution_count": 169,
   "metadata": {},
   "outputs": [
    {
     "data": {
      "text/plain": [
       "12081"
      ]
     },
     "execution_count": 169,
     "metadata": {},
     "output_type": "execute_result"
    }
   ],
   "source": [
    "click_test_val.user_id.nunique()"
   ]
  },
  {
   "cell_type": "markdown",
   "metadata": {},
   "source": [
    "# load match result"
   ]
  },
  {
   "cell_type": "code",
   "execution_count": 76,
   "metadata": {},
   "outputs": [],
   "source": [
    "# r_itemcf = PickleWrapper.loadFromFile(os.path.join(args.DATA_DIR, 'data_gen/r_list_itemcf_0525.pkl'))\n",
    "\n",
    "# r_binn = PickleWrapper.loadFromFile(os.path.join(args.DATA_DIR, 'data_gen/r_list_binn_0525.pkl'))\n",
    "\n",
    "r_itemcf = PickleWrapper.loadFromFile(os.path.join(args.DATA_DIR, 'data_gen/r_list_itemcf_0527.pkl'))\n",
    "\n",
    "r_binn = PickleWrapper.loadFromFile(os.path.join(args.DATA_DIR, 'data_gen/r_list_binn_0527.pkl'))\n",
    "\n",
    "r_itemcf_yl = PickleWrapper.loadFromFile(os.path.join(args.DATA_DIR, 'data_gen/r_list_itemcf_yulao_0527.pkl'))\n",
    "\n",
    "r_itemcf_yl = [r_itemcf_yl[0], r_itemcf_yl[1],r_itemcf_yl[2],r_itemcf_yl[3],r_itemcf_yl[5],r_itemcf_yl[6]]"
   ]
  },
  {
   "cell_type": "code",
   "execution_count": 77,
   "metadata": {},
   "outputs": [],
   "source": [
    "\n",
    "df1 = pd.DataFrame()\n",
    "df2 = pd.DataFrame()\n",
    "df3 = pd.DataFrame()\n",
    "for i in range(len(phase)):\n",
    "    r_itemcf[i]['phase'] = phase[i]\n",
    "    r_binn[i]['phase'] = phase[i]\n",
    "    r_itemcf_yl[i]['phase'] = phase[i]\n",
    "    df1 = df1.append(r_itemcf[i])\n",
    "    df2 = df2.append(r_binn[i])\n",
    "    df3 = df3.append(r_itemcf_yl[i])"
   ]
  },
  {
   "cell_type": "code",
   "execution_count": 78,
   "metadata": {},
   "outputs": [],
   "source": [
    "# s_itemcf.shape, s_binn.shape\n",
    "\n",
    "# from multiprocessing import Pool\n",
    "# pool = Pool(6)"
   ]
  },
  {
   "cell_type": "code",
   "execution_count": 79,
   "metadata": {
    "scrolled": true
   },
   "outputs": [],
   "source": [
    "\n",
    "# # for i, v in tqdm(s_itemcf.items()):\n",
    "# def m1(p):\n",
    "#     i, v = p[0], p[1]\n",
    "# #     print(i)\n",
    "#     dft = pd.DataFrame(columns='score1 rank1'.split())\n",
    "#     cnt = 1\n",
    "#     for item_id, score in v[:match_num]:\n",
    "#         dft.loc[item_id] = [score, cnt]\n",
    "#         cnt += 1\n",
    "#     dft = dft.reset_index()\n",
    "#     dft.columns = 'next_item score1 rank1'.split()\n",
    "#     dft['user_id'] = i\n",
    "#     return dft\n",
    "# #     df1 = df1.append(dft)\n",
    "\n",
    "# dfr_list = pool.map(m1, s_itemcf.items())\n",
    "\n",
    "# len(dfr_list)\n",
    "\n",
    "\n",
    "# # for i, v in s_binn.items():\n",
    "# def m2(p):\n",
    "#     i, v = p[0], p[1]\n",
    "# #     print(i)\n",
    "#     dft = pd.DataFrame(columns='score2 rank2'.split())\n",
    "#     cnt = 1\n",
    "#     for item_id, score in v[:match_num]:\n",
    "#         dft.loc[item_id] = [score, cnt]\n",
    "#         cnt += 1\n",
    "#     dft = dft.reset_index()\n",
    "#     dft.columns = 'next_item score2 rank2'.split()\n",
    "#     dft['user_id'] = i\n",
    "#     return dft\n",
    "# #     df2 = df.append(dft)\n",
    "\n",
    "# dfr2_list = pool.map(m2, s_binn.items())\n",
    "\n",
    "# len(dfr2_list)\n",
    "\n",
    "# df1 = pd.DataFrame()\n",
    "\n",
    "# for i in tqdm(dfr_list):\n",
    "#     df1 = df1.append(i)\n",
    "\n",
    "# df2 = pd.DataFrame()\n",
    "# for i in tqdm(dfr2_list):\n",
    "#     df2 = df2.append(i)\n",
    "\n",
    "# df1.shape\n",
    "\n",
    "# df2.shape"
   ]
  },
  {
   "cell_type": "code",
   "execution_count": 80,
   "metadata": {},
   "outputs": [
    {
     "data": {
      "text/plain": [
       "((5186489, 6), (4248843, 6), (4996488, 6))"
      ]
     },
     "execution_count": 80,
     "metadata": {},
     "output_type": "execute_result"
    }
   ],
   "source": [
    "df1.shape, df2.shape, df3.shape, "
   ]
  },
  {
   "cell_type": "code",
   "execution_count": 81,
   "metadata": {},
   "outputs": [
    {
     "data": {
      "text/plain": [
       "Index(['user_id', 'item_id_pred', 'score', 'rank', 'item_id_true', 'phase'], dtype='object')"
      ]
     },
     "execution_count": 81,
     "metadata": {},
     "output_type": "execute_result"
    }
   ],
   "source": [
    "df1.columns"
   ]
  },
  {
   "cell_type": "code",
   "execution_count": 139,
   "metadata": {},
   "outputs": [],
   "source": [
    "\n",
    "df1_ = df1[df1['rank']<(match_num+1)]\n",
    "df2_ = df2[df2['rank']<(match_num+1)]\n",
    "df3_ = df3[df3['rank']<(match_num+1)]"
   ]
  },
  {
   "cell_type": "code",
   "execution_count": 140,
   "metadata": {},
   "outputs": [],
   "source": [
    "df = pd.merge(pd.merge(df1_, df2_, on='user_id item_id_pred item_id_true phase'.split(), how='outer'), \n",
    "              df3_, on='user_id item_id_pred item_id_true phase'.split(), how='outer')"
   ]
  },
  {
   "cell_type": "code",
   "execution_count": 141,
   "metadata": {},
   "outputs": [
    {
     "data": {
      "text/plain": [
       "(9536065, 10)"
      ]
     },
     "execution_count": 141,
     "metadata": {},
     "output_type": "execute_result"
    }
   ],
   "source": [
    "df.shape"
   ]
  },
  {
   "cell_type": "code",
   "execution_count": 142,
   "metadata": {},
   "outputs": [],
   "source": [
    "df['label'] = (df['item_id_pred'] == df['item_id_true']).map(int)"
   ]
  },
  {
   "cell_type": "code",
   "execution_count": 143,
   "metadata": {},
   "outputs": [
    {
     "data": {
      "text/html": [
       "<div>\n",
       "<style scoped>\n",
       "    .dataframe tbody tr th:only-of-type {\n",
       "        vertical-align: middle;\n",
       "    }\n",
       "\n",
       "    .dataframe tbody tr th {\n",
       "        vertical-align: top;\n",
       "    }\n",
       "\n",
       "    .dataframe thead th {\n",
       "        text-align: right;\n",
       "    }\n",
       "</style>\n",
       "<table border=\"1\" class=\"dataframe\">\n",
       "  <thead>\n",
       "    <tr style=\"text-align: right;\">\n",
       "      <th></th>\n",
       "      <th>user_id</th>\n",
       "      <th>item_id_pred</th>\n",
       "      <th>score_x</th>\n",
       "      <th>rank_x</th>\n",
       "      <th>item_id_true</th>\n",
       "      <th>phase</th>\n",
       "      <th>score_y</th>\n",
       "      <th>rank_y</th>\n",
       "      <th>score</th>\n",
       "      <th>rank</th>\n",
       "      <th>label</th>\n",
       "    </tr>\n",
       "  </thead>\n",
       "  <tbody>\n",
       "    <tr>\n",
       "      <th>0</th>\n",
       "      <td>11</td>\n",
       "      <td>79868</td>\n",
       "      <td>6.019197</td>\n",
       "      <td>1.0</td>\n",
       "      <td>8052</td>\n",
       "      <td>0</td>\n",
       "      <td>2.023002</td>\n",
       "      <td>1.0</td>\n",
       "      <td>0.010625</td>\n",
       "      <td>142.0</td>\n",
       "      <td>0</td>\n",
       "    </tr>\n",
       "    <tr>\n",
       "      <th>1</th>\n",
       "      <td>11</td>\n",
       "      <td>15844</td>\n",
       "      <td>5.328522</td>\n",
       "      <td>2.0</td>\n",
       "      <td>8052</td>\n",
       "      <td>0</td>\n",
       "      <td>0.326349</td>\n",
       "      <td>86.0</td>\n",
       "      <td>0.086894</td>\n",
       "      <td>6.0</td>\n",
       "      <td>0</td>\n",
       "    </tr>\n",
       "    <tr>\n",
       "      <th>2</th>\n",
       "      <td>11</td>\n",
       "      <td>10528</td>\n",
       "      <td>5.246875</td>\n",
       "      <td>3.0</td>\n",
       "      <td>8052</td>\n",
       "      <td>0</td>\n",
       "      <td>0.461508</td>\n",
       "      <td>52.0</td>\n",
       "      <td>0.067450</td>\n",
       "      <td>11.0</td>\n",
       "      <td>0</td>\n",
       "    </tr>\n",
       "    <tr>\n",
       "      <th>3</th>\n",
       "      <td>11</td>\n",
       "      <td>113564</td>\n",
       "      <td>5.100132</td>\n",
       "      <td>4.0</td>\n",
       "      <td>8052</td>\n",
       "      <td>0</td>\n",
       "      <td>0.386057</td>\n",
       "      <td>66.0</td>\n",
       "      <td>0.136157</td>\n",
       "      <td>1.0</td>\n",
       "      <td>0</td>\n",
       "    </tr>\n",
       "    <tr>\n",
       "      <th>4</th>\n",
       "      <td>11</td>\n",
       "      <td>20389</td>\n",
       "      <td>4.636769</td>\n",
       "      <td>5.0</td>\n",
       "      <td>8052</td>\n",
       "      <td>0</td>\n",
       "      <td>0.415892</td>\n",
       "      <td>62.0</td>\n",
       "      <td>0.048790</td>\n",
       "      <td>19.0</td>\n",
       "      <td>0</td>\n",
       "    </tr>\n",
       "  </tbody>\n",
       "</table>\n",
       "</div>"
      ],
      "text/plain": [
       "  user_id item_id_pred   score_x  rank_x item_id_true  phase   score_y  rank_y     score   rank  label\n",
       "0      11        79868  6.019197     1.0         8052      0  2.023002     1.0  0.010625  142.0      0\n",
       "1      11        15844  5.328522     2.0         8052      0  0.326349    86.0  0.086894    6.0      0\n",
       "2      11        10528  5.246875     3.0         8052      0  0.461508    52.0  0.067450   11.0      0\n",
       "3      11       113564  5.100132     4.0         8052      0  0.386057    66.0  0.136157    1.0      0\n",
       "4      11        20389  4.636769     5.0         8052      0  0.415892    62.0  0.048790   19.0      0"
      ]
     },
     "execution_count": 143,
     "metadata": {},
     "output_type": "execute_result"
    }
   ],
   "source": [
    "df.head()"
   ]
  },
  {
   "cell_type": "code",
   "execution_count": 144,
   "metadata": {},
   "outputs": [
    {
     "data": {
      "text/plain": [
       "0    9533232\n",
       "1       2833\n",
       "Name: label, dtype: int64"
      ]
     },
     "execution_count": 144,
     "metadata": {},
     "output_type": "execute_result"
    }
   ],
   "source": [
    "df.label.value_counts()"
   ]
  },
  {
   "cell_type": "code",
   "execution_count": 145,
   "metadata": {},
   "outputs": [
    {
     "data": {
      "text/plain": [
       "10373"
      ]
     },
     "execution_count": 145,
     "metadata": {},
     "output_type": "execute_result"
    }
   ],
   "source": [
    "df.user_id.nunique()"
   ]
  },
  {
   "cell_type": "code",
   "execution_count": 146,
   "metadata": {},
   "outputs": [],
   "source": [
    "df = df.fillna(0)"
   ]
  },
  {
   "cell_type": "code",
   "execution_count": 147,
   "metadata": {
    "scrolled": true
   },
   "outputs": [
    {
     "data": {
      "text/html": [
       "<div>\n",
       "<style scoped>\n",
       "    .dataframe tbody tr th:only-of-type {\n",
       "        vertical-align: middle;\n",
       "    }\n",
       "\n",
       "    .dataframe tbody tr th {\n",
       "        vertical-align: top;\n",
       "    }\n",
       "\n",
       "    .dataframe thead th {\n",
       "        text-align: right;\n",
       "    }\n",
       "</style>\n",
       "<table border=\"1\" class=\"dataframe\">\n",
       "  <thead>\n",
       "    <tr style=\"text-align: right;\">\n",
       "      <th></th>\n",
       "      <th>user_id</th>\n",
       "      <th>item_id_pred</th>\n",
       "      <th>score_x</th>\n",
       "      <th>rank_x</th>\n",
       "      <th>item_id_true</th>\n",
       "      <th>phase</th>\n",
       "      <th>score_y</th>\n",
       "      <th>rank_y</th>\n",
       "      <th>score</th>\n",
       "      <th>rank</th>\n",
       "      <th>label</th>\n",
       "    </tr>\n",
       "  </thead>\n",
       "  <tbody>\n",
       "    <tr>\n",
       "      <th>101</th>\n",
       "      <td>11</td>\n",
       "      <td>8052</td>\n",
       "      <td>1.900682</td>\n",
       "      <td>102.0</td>\n",
       "      <td>8052</td>\n",
       "      <td>0</td>\n",
       "      <td>0.324958</td>\n",
       "      <td>87.0</td>\n",
       "      <td>0.018896</td>\n",
       "      <td>82.0</td>\n",
       "      <td>1</td>\n",
       "    </tr>\n",
       "    <tr>\n",
       "      <th>1039</th>\n",
       "      <td>44</td>\n",
       "      <td>25164</td>\n",
       "      <td>2.845496</td>\n",
       "      <td>40.0</td>\n",
       "      <td>25164</td>\n",
       "      <td>0</td>\n",
       "      <td>0.207407</td>\n",
       "      <td>180.0</td>\n",
       "      <td>0.037454</td>\n",
       "      <td>29.0</td>\n",
       "      <td>1</td>\n",
       "    </tr>\n",
       "    <tr>\n",
       "      <th>2017</th>\n",
       "      <td>66</td>\n",
       "      <td>43836</td>\n",
       "      <td>22.465015</td>\n",
       "      <td>18.0</td>\n",
       "      <td>43836</td>\n",
       "      <td>0</td>\n",
       "      <td>1.488082</td>\n",
       "      <td>18.0</td>\n",
       "      <td>0.100061</td>\n",
       "      <td>13.0</td>\n",
       "      <td>1</td>\n",
       "    </tr>\n",
       "    <tr>\n",
       "      <th>3512</th>\n",
       "      <td>132</td>\n",
       "      <td>117039</td>\n",
       "      <td>15.770346</td>\n",
       "      <td>13.0</td>\n",
       "      <td>117039</td>\n",
       "      <td>0</td>\n",
       "      <td>0.955082</td>\n",
       "      <td>21.0</td>\n",
       "      <td>0.174193</td>\n",
       "      <td>2.0</td>\n",
       "      <td>1</td>\n",
       "    </tr>\n",
       "    <tr>\n",
       "      <th>8675</th>\n",
       "      <td>319</td>\n",
       "      <td>112967</td>\n",
       "      <td>4.998704</td>\n",
       "      <td>176.0</td>\n",
       "      <td>112967</td>\n",
       "      <td>0</td>\n",
       "      <td>0.280866</td>\n",
       "      <td>201.0</td>\n",
       "      <td>0.079765</td>\n",
       "      <td>7.0</td>\n",
       "      <td>1</td>\n",
       "    </tr>\n",
       "    <tr>\n",
       "      <th>...</th>\n",
       "      <td>...</td>\n",
       "      <td>...</td>\n",
       "      <td>...</td>\n",
       "      <td>...</td>\n",
       "      <td>...</td>\n",
       "      <td>...</td>\n",
       "      <td>...</td>\n",
       "      <td>...</td>\n",
       "      <td>...</td>\n",
       "      <td>...</td>\n",
       "      <td>...</td>\n",
       "    </tr>\n",
       "    <tr>\n",
       "      <th>9485044</th>\n",
       "      <td>28771</td>\n",
       "      <td>30238</td>\n",
       "      <td>0.000000</td>\n",
       "      <td>0.0</td>\n",
       "      <td>30238</td>\n",
       "      <td>6</td>\n",
       "      <td>0.000000</td>\n",
       "      <td>0.0</td>\n",
       "      <td>0.055383</td>\n",
       "      <td>13.0</td>\n",
       "      <td>1</td>\n",
       "    </tr>\n",
       "    <tr>\n",
       "      <th>9503352</th>\n",
       "      <td>30696</td>\n",
       "      <td>30780</td>\n",
       "      <td>0.000000</td>\n",
       "      <td>0.0</td>\n",
       "      <td>30780</td>\n",
       "      <td>6</td>\n",
       "      <td>0.000000</td>\n",
       "      <td>0.0</td>\n",
       "      <td>0.000044</td>\n",
       "      <td>245.0</td>\n",
       "      <td>1</td>\n",
       "    </tr>\n",
       "    <tr>\n",
       "      <th>9514064</th>\n",
       "      <td>28749</td>\n",
       "      <td>34356</td>\n",
       "      <td>0.000000</td>\n",
       "      <td>0.0</td>\n",
       "      <td>34356</td>\n",
       "      <td>6</td>\n",
       "      <td>0.000000</td>\n",
       "      <td>0.0</td>\n",
       "      <td>0.001915</td>\n",
       "      <td>412.0</td>\n",
       "      <td>1</td>\n",
       "    </tr>\n",
       "    <tr>\n",
       "      <th>9515694</th>\n",
       "      <td>2591</td>\n",
       "      <td>18934</td>\n",
       "      <td>0.000000</td>\n",
       "      <td>0.0</td>\n",
       "      <td>18934</td>\n",
       "      <td>6</td>\n",
       "      <td>0.000000</td>\n",
       "      <td>0.0</td>\n",
       "      <td>0.024958</td>\n",
       "      <td>49.0</td>\n",
       "      <td>1</td>\n",
       "    </tr>\n",
       "    <tr>\n",
       "      <th>9521065</th>\n",
       "      <td>20774</td>\n",
       "      <td>3376</td>\n",
       "      <td>0.000000</td>\n",
       "      <td>0.0</td>\n",
       "      <td>3376</td>\n",
       "      <td>6</td>\n",
       "      <td>0.000000</td>\n",
       "      <td>0.0</td>\n",
       "      <td>0.009262</td>\n",
       "      <td>332.0</td>\n",
       "      <td>1</td>\n",
       "    </tr>\n",
       "  </tbody>\n",
       "</table>\n",
       "<p>2833 rows × 11 columns</p>\n",
       "</div>"
      ],
      "text/plain": [
       "        user_id item_id_pred    score_x  rank_x item_id_true  phase   score_y  rank_y     score   rank  label\n",
       "101          11         8052   1.900682   102.0         8052      0  0.324958    87.0  0.018896   82.0      1\n",
       "1039         44        25164   2.845496    40.0        25164      0  0.207407   180.0  0.037454   29.0      1\n",
       "2017         66        43836  22.465015    18.0        43836      0  1.488082    18.0  0.100061   13.0      1\n",
       "3512        132       117039  15.770346    13.0       117039      0  0.955082    21.0  0.174193    2.0      1\n",
       "8675        319       112967   4.998704   176.0       112967      0  0.280866   201.0  0.079765    7.0      1\n",
       "...         ...          ...        ...     ...          ...    ...       ...     ...       ...    ...    ...\n",
       "9485044   28771        30238   0.000000     0.0        30238      6  0.000000     0.0  0.055383   13.0      1\n",
       "9503352   30696        30780   0.000000     0.0        30780      6  0.000000     0.0  0.000044  245.0      1\n",
       "9514064   28749        34356   0.000000     0.0        34356      6  0.000000     0.0  0.001915  412.0      1\n",
       "9515694    2591        18934   0.000000     0.0        18934      6  0.000000     0.0  0.024958   49.0      1\n",
       "9521065   20774         3376   0.000000     0.0         3376      6  0.000000     0.0  0.009262  332.0      1\n",
       "\n",
       "[2833 rows x 11 columns]"
      ]
     },
     "execution_count": 147,
     "metadata": {},
     "output_type": "execute_result"
    }
   ],
   "source": [
    "df[df.label==1]"
   ]
  },
  {
   "cell_type": "code",
   "execution_count": 198,
   "metadata": {},
   "outputs": [],
   "source": [
    "df['item_cnt'] = 0"
   ]
  },
  {
   "cell_type": "code",
   "execution_count": 199,
   "metadata": {},
   "outputs": [
    {
     "name": "stderr",
     "output_type": "stream",
     "text": [
      "100%|██████████| 6/6 [05:30<00:00, 55.10s/it]\n"
     ]
    }
   ],
   "source": [
    "dft = pd.DataFrame()\n",
    "for p in tqdm(phase):\n",
    "    # 获取test用户的近n次点击\n",
    "    temp_ = all_click_df[p][0][all_click_df[p][0].user_id.isin(all_click_df[p][1].user_id)].groupby('user_id')['item_id'].agg(list)\n",
    "    temp_ = pd.DataFrame(temp_)\n",
    "    for i in range(3):\n",
    "        temp_[f'last_{i+1}'] = temp_.item_id.str.get(-(i+1))\n",
    "    dft = dft.append(temp_.reset_index())\n",
    "    # 计算每个phase的item_id cnt\n",
    "    t_ = all_click_df[p][0].groupby('item_id')['user_id'].count()\n",
    "    df.loc[df.phase==p, 'item_cnt'] = df.item_id_pred.map(lambda x: t_[x] if x in t_ else 0)"
   ]
  },
  {
   "cell_type": "code",
   "execution_count": 202,
   "metadata": {},
   "outputs": [
    {
     "data": {
      "text/plain": [
       "10373"
      ]
     },
     "execution_count": 202,
     "metadata": {},
     "output_type": "execute_result"
    }
   ],
   "source": [
    "df.user_id.nunique()"
   ]
  },
  {
   "cell_type": "code",
   "execution_count": 201,
   "metadata": {},
   "outputs": [
    {
     "data": {
      "text/plain": [
       "10373"
      ]
     },
     "execution_count": 201,
     "metadata": {},
     "output_type": "execute_result"
    }
   ],
   "source": [
    "dft.user_id.nunique()"
   ]
  },
  {
   "cell_type": "code",
   "execution_count": 203,
   "metadata": {},
   "outputs": [],
   "source": [
    "df = pd.merge(df, dft)"
   ]
  },
  {
   "cell_type": "code",
   "execution_count": 221,
   "metadata": {},
   "outputs": [],
   "source": [
    "df['item_id_pred_text_vec'] = df.item_id_pred.map(lambda x: item_feat['text_vec'][x] if x in item_feat['text_vec'] else np.zeros(128))\n",
    "\n",
    "df['item_id_pred_img_vec'] = df.item_id_pred.map(lambda x: item_feat['img_vec'][x] if x in item_feat['img_vec'] else np.arange(128))"
   ]
  },
  {
   "cell_type": "code",
   "execution_count": 226,
   "metadata": {},
   "outputs": [],
   "source": [
    "for c in tqdm('last_1 last_2 last_3'.split()):\n",
    "    df[f'{c}_text_vec'] = df.item_id_pred.map(lambda x: item_feat['text_vec'][x] if x in item_feat['text_vec'] else np.zeros(128))\n",
    "\n",
    "    df[f'{c}_img_vec'] = df.item_id_pred.map(lambda x: item_feat['img_vec'][x] if x in item_feat['img_vec'] else np.arange(128))"
   ]
  },
  {
   "cell_type": "code",
   "execution_count": 227,
   "metadata": {},
   "outputs": [
    {
     "data": {
      "text/html": [
       "<div>\n",
       "<style scoped>\n",
       "    .dataframe tbody tr th:only-of-type {\n",
       "        vertical-align: middle;\n",
       "    }\n",
       "\n",
       "    .dataframe tbody tr th {\n",
       "        vertical-align: top;\n",
       "    }\n",
       "\n",
       "    .dataframe thead th {\n",
       "        text-align: right;\n",
       "    }\n",
       "</style>\n",
       "<table border=\"1\" class=\"dataframe\">\n",
       "  <thead>\n",
       "    <tr style=\"text-align: right;\">\n",
       "      <th></th>\n",
       "      <th>user_id</th>\n",
       "      <th>item_id_pred</th>\n",
       "      <th>score_x</th>\n",
       "      <th>rank_x</th>\n",
       "      <th>item_id_true</th>\n",
       "      <th>phase</th>\n",
       "      <th>score_y</th>\n",
       "      <th>rank_y</th>\n",
       "      <th>score</th>\n",
       "      <th>rank</th>\n",
       "      <th>label</th>\n",
       "      <th>item_cnt</th>\n",
       "      <th>item_id</th>\n",
       "      <th>last_1</th>\n",
       "      <th>last_2</th>\n",
       "      <th>last_3</th>\n",
       "      <th>item_id_pred_text_vec</th>\n",
       "      <th>item_id_pred_img_vec</th>\n",
       "      <th>last_1_text_vec</th>\n",
       "      <th>last_1_img_vec</th>\n",
       "      <th>last_2_text_vec</th>\n",
       "      <th>last_2_img_vec</th>\n",
       "      <th>last_3_text_vec</th>\n",
       "      <th>last_3_img_vec</th>\n",
       "    </tr>\n",
       "  </thead>\n",
       "  <tbody>\n",
       "    <tr>\n",
       "      <th>0</th>\n",
       "      <td>11</td>\n",
       "      <td>79868</td>\n",
       "      <td>6.019197</td>\n",
       "      <td>1.0</td>\n",
       "      <td>8052</td>\n",
       "      <td>0</td>\n",
       "      <td>2.023002</td>\n",
       "      <td>1.0</td>\n",
       "      <td>0.010625</td>\n",
       "      <td>142.0</td>\n",
       "      <td>0</td>\n",
       "      <td>47</td>\n",
       "      <td>[88058, 66082, 29755, 78804, 43074, 75757, 233...</td>\n",
       "      <td>28210</td>\n",
       "      <td>64689</td>\n",
       "      <td>20317</td>\n",
       "      <td>[2.3873836994171143, 1.274107813835144, 0.2217...</td>\n",
       "      <td>[-2.599696159362793, 1.5488953590393066, -1.48...</td>\n",
       "      <td>[2.3873836994171143, 1.274107813835144, 0.2217...</td>\n",
       "      <td>[-2.599696159362793, 1.5488953590393066, -1.48...</td>\n",
       "      <td>[2.3873836994171143, 1.274107813835144, 0.2217...</td>\n",
       "      <td>[-2.599696159362793, 1.5488953590393066, -1.48...</td>\n",
       "      <td>[2.3873836994171143, 1.274107813835144, 0.2217...</td>\n",
       "      <td>[-2.599696159362793, 1.5488953590393066, -1.48...</td>\n",
       "    </tr>\n",
       "    <tr>\n",
       "      <th>1</th>\n",
       "      <td>11</td>\n",
       "      <td>15844</td>\n",
       "      <td>5.328522</td>\n",
       "      <td>2.0</td>\n",
       "      <td>8052</td>\n",
       "      <td>0</td>\n",
       "      <td>0.326349</td>\n",
       "      <td>86.0</td>\n",
       "      <td>0.086894</td>\n",
       "      <td>6.0</td>\n",
       "      <td>0</td>\n",
       "      <td>5</td>\n",
       "      <td>[88058, 66082, 29755, 78804, 43074, 75757, 233...</td>\n",
       "      <td>28210</td>\n",
       "      <td>64689</td>\n",
       "      <td>20317</td>\n",
       "      <td>[3.9976482391357417, 1.0751028060913086, 0.722...</td>\n",
       "      <td>[-1.5042964220046997, -1.333038091659546, 0.13...</td>\n",
       "      <td>[3.9976482391357417, 1.0751028060913086, 0.722...</td>\n",
       "      <td>[-1.5042964220046997, -1.333038091659546, 0.13...</td>\n",
       "      <td>[3.9976482391357417, 1.0751028060913086, 0.722...</td>\n",
       "      <td>[-1.5042964220046997, -1.333038091659546, 0.13...</td>\n",
       "      <td>[3.9976482391357417, 1.0751028060913086, 0.722...</td>\n",
       "      <td>[-1.5042964220046997, -1.333038091659546, 0.13...</td>\n",
       "    </tr>\n",
       "    <tr>\n",
       "      <th>2</th>\n",
       "      <td>11</td>\n",
       "      <td>10528</td>\n",
       "      <td>5.246875</td>\n",
       "      <td>3.0</td>\n",
       "      <td>8052</td>\n",
       "      <td>0</td>\n",
       "      <td>0.461508</td>\n",
       "      <td>52.0</td>\n",
       "      <td>0.067450</td>\n",
       "      <td>11.0</td>\n",
       "      <td>0</td>\n",
       "      <td>7</td>\n",
       "      <td>[88058, 66082, 29755, 78804, 43074, 75757, 233...</td>\n",
       "      <td>28210</td>\n",
       "      <td>64689</td>\n",
       "      <td>20317</td>\n",
       "      <td>[3.5714921951293945, -3.301568031311035, -1.44...</td>\n",
       "      <td>[-2.7678756713867188, -0.804641842842102, -2.3...</td>\n",
       "      <td>[3.5714921951293945, -3.301568031311035, -1.44...</td>\n",
       "      <td>[-2.7678756713867188, -0.804641842842102, -2.3...</td>\n",
       "      <td>[3.5714921951293945, -3.301568031311035, -1.44...</td>\n",
       "      <td>[-2.7678756713867188, -0.804641842842102, -2.3...</td>\n",
       "      <td>[3.5714921951293945, -3.301568031311035, -1.44...</td>\n",
       "      <td>[-2.7678756713867188, -0.804641842842102, -2.3...</td>\n",
       "    </tr>\n",
       "    <tr>\n",
       "      <th>3</th>\n",
       "      <td>11</td>\n",
       "      <td>113564</td>\n",
       "      <td>5.100132</td>\n",
       "      <td>4.0</td>\n",
       "      <td>8052</td>\n",
       "      <td>0</td>\n",
       "      <td>0.386057</td>\n",
       "      <td>66.0</td>\n",
       "      <td>0.136157</td>\n",
       "      <td>1.0</td>\n",
       "      <td>0</td>\n",
       "      <td>4</td>\n",
       "      <td>[88058, 66082, 29755, 78804, 43074, 75757, 233...</td>\n",
       "      <td>28210</td>\n",
       "      <td>64689</td>\n",
       "      <td>20317</td>\n",
       "      <td>[0.25579115748405457, -1.0630481243133545, 1.9...</td>\n",
       "      <td>[-1.4899662733078003, 3.0152783393859863, 2.34...</td>\n",
       "      <td>[0.25579115748405457, -1.0630481243133545, 1.9...</td>\n",
       "      <td>[-1.4899662733078003, 3.0152783393859863, 2.34...</td>\n",
       "      <td>[0.25579115748405457, -1.0630481243133545, 1.9...</td>\n",
       "      <td>[-1.4899662733078003, 3.0152783393859863, 2.34...</td>\n",
       "      <td>[0.25579115748405457, -1.0630481243133545, 1.9...</td>\n",
       "      <td>[-1.4899662733078003, 3.0152783393859863, 2.34...</td>\n",
       "    </tr>\n",
       "    <tr>\n",
       "      <th>4</th>\n",
       "      <td>11</td>\n",
       "      <td>20389</td>\n",
       "      <td>4.636769</td>\n",
       "      <td>5.0</td>\n",
       "      <td>8052</td>\n",
       "      <td>0</td>\n",
       "      <td>0.415892</td>\n",
       "      <td>62.0</td>\n",
       "      <td>0.048790</td>\n",
       "      <td>19.0</td>\n",
       "      <td>0</td>\n",
       "      <td>7</td>\n",
       "      <td>[88058, 66082, 29755, 78804, 43074, 75757, 233...</td>\n",
       "      <td>28210</td>\n",
       "      <td>64689</td>\n",
       "      <td>20317</td>\n",
       "      <td>[0.1118144690990448, 1.1982476711273191, -1.76...</td>\n",
       "      <td>[-0.27097439765930176, -1.1485528945922852, -2...</td>\n",
       "      <td>[0.1118144690990448, 1.1982476711273191, -1.76...</td>\n",
       "      <td>[-0.27097439765930176, -1.1485528945922852, -2...</td>\n",
       "      <td>[0.1118144690990448, 1.1982476711273191, -1.76...</td>\n",
       "      <td>[-0.27097439765930176, -1.1485528945922852, -2...</td>\n",
       "      <td>[0.1118144690990448, 1.1982476711273191, -1.76...</td>\n",
       "      <td>[-0.27097439765930176, -1.1485528945922852, -2...</td>\n",
       "    </tr>\n",
       "    <tr>\n",
       "      <th>...</th>\n",
       "      <td>...</td>\n",
       "      <td>...</td>\n",
       "      <td>...</td>\n",
       "      <td>...</td>\n",
       "      <td>...</td>\n",
       "      <td>...</td>\n",
       "      <td>...</td>\n",
       "      <td>...</td>\n",
       "      <td>...</td>\n",
       "      <td>...</td>\n",
       "      <td>...</td>\n",
       "      <td>...</td>\n",
       "      <td>...</td>\n",
       "      <td>...</td>\n",
       "      <td>...</td>\n",
       "      <td>...</td>\n",
       "      <td>...</td>\n",
       "      <td>...</td>\n",
       "      <td>...</td>\n",
       "      <td>...</td>\n",
       "      <td>...</td>\n",
       "      <td>...</td>\n",
       "      <td>...</td>\n",
       "      <td>...</td>\n",
       "    </tr>\n",
       "    <tr>\n",
       "      <th>9536060</th>\n",
       "      <td>35437</td>\n",
       "      <td>59212</td>\n",
       "      <td>0.000000</td>\n",
       "      <td>0.0</td>\n",
       "      <td>114977</td>\n",
       "      <td>6</td>\n",
       "      <td>0.000000</td>\n",
       "      <td>0.0</td>\n",
       "      <td>0.006946</td>\n",
       "      <td>495.0</td>\n",
       "      <td>0</td>\n",
       "      <td>9</td>\n",
       "      <td>[98124, 70947, 72221, 95778, 73884, 61651, 476...</td>\n",
       "      <td>103047</td>\n",
       "      <td>98965</td>\n",
       "      <td>102018</td>\n",
       "      <td>[3.9700653553009033, -2.0250101089477544, 1.50...</td>\n",
       "      <td>[-1.927857995033264, 0.3137434422969818, 0.125...</td>\n",
       "      <td>[3.9700653553009033, -2.0250101089477544, 1.50...</td>\n",
       "      <td>[-1.927857995033264, 0.3137434422969818, 0.125...</td>\n",
       "      <td>[3.9700653553009033, -2.0250101089477544, 1.50...</td>\n",
       "      <td>[-1.927857995033264, 0.3137434422969818, 0.125...</td>\n",
       "      <td>[3.9700653553009033, -2.0250101089477544, 1.50...</td>\n",
       "      <td>[-1.927857995033264, 0.3137434422969818, 0.125...</td>\n",
       "    </tr>\n",
       "    <tr>\n",
       "      <th>9536061</th>\n",
       "      <td>35437</td>\n",
       "      <td>96089</td>\n",
       "      <td>0.000000</td>\n",
       "      <td>0.0</td>\n",
       "      <td>114977</td>\n",
       "      <td>6</td>\n",
       "      <td>0.000000</td>\n",
       "      <td>0.0</td>\n",
       "      <td>0.006922</td>\n",
       "      <td>496.0</td>\n",
       "      <td>0</td>\n",
       "      <td>4</td>\n",
       "      <td>[98124, 70947, 72221, 95778, 73884, 61651, 476...</td>\n",
       "      <td>103047</td>\n",
       "      <td>98965</td>\n",
       "      <td>102018</td>\n",
       "      <td>[-0.77618008852005, -0.4886056780815125, -0.81...</td>\n",
       "      <td>[0.0693325474858284, 0.5399050712585449, 2.712...</td>\n",
       "      <td>[-0.77618008852005, -0.4886056780815125, -0.81...</td>\n",
       "      <td>[0.0693325474858284, 0.5399050712585449, 2.712...</td>\n",
       "      <td>[-0.77618008852005, -0.4886056780815125, -0.81...</td>\n",
       "      <td>[0.0693325474858284, 0.5399050712585449, 2.712...</td>\n",
       "      <td>[-0.77618008852005, -0.4886056780815125, -0.81...</td>\n",
       "      <td>[0.0693325474858284, 0.5399050712585449, 2.712...</td>\n",
       "    </tr>\n",
       "    <tr>\n",
       "      <th>9536062</th>\n",
       "      <td>35437</td>\n",
       "      <td>78622</td>\n",
       "      <td>0.000000</td>\n",
       "      <td>0.0</td>\n",
       "      <td>114977</td>\n",
       "      <td>6</td>\n",
       "      <td>0.000000</td>\n",
       "      <td>0.0</td>\n",
       "      <td>0.006888</td>\n",
       "      <td>497.0</td>\n",
       "      <td>0</td>\n",
       "      <td>0</td>\n",
       "      <td>[98124, 70947, 72221, 95778, 73884, 61651, 476...</td>\n",
       "      <td>103047</td>\n",
       "      <td>98965</td>\n",
       "      <td>102018</td>\n",
       "      <td>[2.7059946060180664, -0.4727712273597717, 2.98...</td>\n",
       "      <td>[0.07351598888635635, -0.8090598583221436, 0.7...</td>\n",
       "      <td>[2.7059946060180664, -0.4727712273597717, 2.98...</td>\n",
       "      <td>[0.07351598888635635, -0.8090598583221436, 0.7...</td>\n",
       "      <td>[2.7059946060180664, -0.4727712273597717, 2.98...</td>\n",
       "      <td>[0.07351598888635635, -0.8090598583221436, 0.7...</td>\n",
       "      <td>[2.7059946060180664, -0.4727712273597717, 2.98...</td>\n",
       "      <td>[0.07351598888635635, -0.8090598583221436, 0.7...</td>\n",
       "    </tr>\n",
       "    <tr>\n",
       "      <th>9536063</th>\n",
       "      <td>35437</td>\n",
       "      <td>21737</td>\n",
       "      <td>0.000000</td>\n",
       "      <td>0.0</td>\n",
       "      <td>114977</td>\n",
       "      <td>6</td>\n",
       "      <td>0.000000</td>\n",
       "      <td>0.0</td>\n",
       "      <td>0.006873</td>\n",
       "      <td>498.0</td>\n",
       "      <td>0</td>\n",
       "      <td>5</td>\n",
       "      <td>[98124, 70947, 72221, 95778, 73884, 61651, 476...</td>\n",
       "      <td>103047</td>\n",
       "      <td>98965</td>\n",
       "      <td>102018</td>\n",
       "      <td>[3.4455857276916504, -1.8632752895355225, 1.52...</td>\n",
       "      <td>[-1.9561463594436648, -0.4961370825767517, 0.2...</td>\n",
       "      <td>[3.4455857276916504, -1.8632752895355225, 1.52...</td>\n",
       "      <td>[-1.9561463594436648, -0.4961370825767517, 0.2...</td>\n",
       "      <td>[3.4455857276916504, -1.8632752895355225, 1.52...</td>\n",
       "      <td>[-1.9561463594436648, -0.4961370825767517, 0.2...</td>\n",
       "      <td>[3.4455857276916504, -1.8632752895355225, 1.52...</td>\n",
       "      <td>[-1.9561463594436648, -0.4961370825767517, 0.2...</td>\n",
       "    </tr>\n",
       "    <tr>\n",
       "      <th>9536064</th>\n",
       "      <td>35437</td>\n",
       "      <td>51971</td>\n",
       "      <td>0.000000</td>\n",
       "      <td>0.0</td>\n",
       "      <td>114977</td>\n",
       "      <td>6</td>\n",
       "      <td>0.000000</td>\n",
       "      <td>0.0</td>\n",
       "      <td>0.006847</td>\n",
       "      <td>500.0</td>\n",
       "      <td>0</td>\n",
       "      <td>0</td>\n",
       "      <td>[98124, 70947, 72221, 95778, 73884, 61651, 476...</td>\n",
       "      <td>103047</td>\n",
       "      <td>98965</td>\n",
       "      <td>102018</td>\n",
       "      <td>[-0.4500269889831543, 1.7968195676803589, 0.52...</td>\n",
       "      <td>[0.9270411729812622, 0.5067013502120972, 1.278...</td>\n",
       "      <td>[-0.4500269889831543, 1.7968195676803589, 0.52...</td>\n",
       "      <td>[0.9270411729812622, 0.5067013502120972, 1.278...</td>\n",
       "      <td>[-0.4500269889831543, 1.7968195676803589, 0.52...</td>\n",
       "      <td>[0.9270411729812622, 0.5067013502120972, 1.278...</td>\n",
       "      <td>[-0.4500269889831543, 1.7968195676803589, 0.52...</td>\n",
       "      <td>[0.9270411729812622, 0.5067013502120972, 1.278...</td>\n",
       "    </tr>\n",
       "  </tbody>\n",
       "</table>\n",
       "<p>9536065 rows × 24 columns</p>\n",
       "</div>"
      ],
      "text/plain": [
       "        user_id item_id_pred   score_x  rank_x item_id_true  phase   score_y  rank_y     score   rank  label  item_cnt                                            item_id  last_1 last_2  last_3                              item_id_pred_text_vec                               item_id_pred_img_vec                                    last_1_text_vec                                     last_1_img_vec                                    last_2_text_vec                                     last_2_img_vec                                    last_3_text_vec                                     last_3_img_vec\n",
       "0            11        79868  6.019197     1.0         8052      0  2.023002     1.0  0.010625  142.0      0        47  [88058, 66082, 29755, 78804, 43074, 75757, 233...   28210  64689   20317  [2.3873836994171143, 1.274107813835144, 0.2217...  [-2.599696159362793, 1.5488953590393066, -1.48...  [2.3873836994171143, 1.274107813835144, 0.2217...  [-2.599696159362793, 1.5488953590393066, -1.48...  [2.3873836994171143, 1.274107813835144, 0.2217...  [-2.599696159362793, 1.5488953590393066, -1.48...  [2.3873836994171143, 1.274107813835144, 0.2217...  [-2.599696159362793, 1.5488953590393066, -1.48...\n",
       "1            11        15844  5.328522     2.0         8052      0  0.326349    86.0  0.086894    6.0      0         5  [88058, 66082, 29755, 78804, 43074, 75757, 233...   28210  64689   20317  [3.9976482391357417, 1.0751028060913086, 0.722...  [-1.5042964220046997, -1.333038091659546, 0.13...  [3.9976482391357417, 1.0751028060913086, 0.722...  [-1.5042964220046997, -1.333038091659546, 0.13...  [3.9976482391357417, 1.0751028060913086, 0.722...  [-1.5042964220046997, -1.333038091659546, 0.13...  [3.9976482391357417, 1.0751028060913086, 0.722...  [-1.5042964220046997, -1.333038091659546, 0.13...\n",
       "2            11        10528  5.246875     3.0         8052      0  0.461508    52.0  0.067450   11.0      0         7  [88058, 66082, 29755, 78804, 43074, 75757, 233...   28210  64689   20317  [3.5714921951293945, -3.301568031311035, -1.44...  [-2.7678756713867188, -0.804641842842102, -2.3...  [3.5714921951293945, -3.301568031311035, -1.44...  [-2.7678756713867188, -0.804641842842102, -2.3...  [3.5714921951293945, -3.301568031311035, -1.44...  [-2.7678756713867188, -0.804641842842102, -2.3...  [3.5714921951293945, -3.301568031311035, -1.44...  [-2.7678756713867188, -0.804641842842102, -2.3...\n",
       "3            11       113564  5.100132     4.0         8052      0  0.386057    66.0  0.136157    1.0      0         4  [88058, 66082, 29755, 78804, 43074, 75757, 233...   28210  64689   20317  [0.25579115748405457, -1.0630481243133545, 1.9...  [-1.4899662733078003, 3.0152783393859863, 2.34...  [0.25579115748405457, -1.0630481243133545, 1.9...  [-1.4899662733078003, 3.0152783393859863, 2.34...  [0.25579115748405457, -1.0630481243133545, 1.9...  [-1.4899662733078003, 3.0152783393859863, 2.34...  [0.25579115748405457, -1.0630481243133545, 1.9...  [-1.4899662733078003, 3.0152783393859863, 2.34...\n",
       "4            11        20389  4.636769     5.0         8052      0  0.415892    62.0  0.048790   19.0      0         7  [88058, 66082, 29755, 78804, 43074, 75757, 233...   28210  64689   20317  [0.1118144690990448, 1.1982476711273191, -1.76...  [-0.27097439765930176, -1.1485528945922852, -2...  [0.1118144690990448, 1.1982476711273191, -1.76...  [-0.27097439765930176, -1.1485528945922852, -2...  [0.1118144690990448, 1.1982476711273191, -1.76...  [-0.27097439765930176, -1.1485528945922852, -2...  [0.1118144690990448, 1.1982476711273191, -1.76...  [-0.27097439765930176, -1.1485528945922852, -2...\n",
       "...         ...          ...       ...     ...          ...    ...       ...     ...       ...    ...    ...       ...                                                ...     ...    ...     ...                                                ...                                                ...                                                ...                                                ...                                                ...                                                ...                                                ...                                                ...\n",
       "9536060   35437        59212  0.000000     0.0       114977      6  0.000000     0.0  0.006946  495.0      0         9  [98124, 70947, 72221, 95778, 73884, 61651, 476...  103047  98965  102018  [3.9700653553009033, -2.0250101089477544, 1.50...  [-1.927857995033264, 0.3137434422969818, 0.125...  [3.9700653553009033, -2.0250101089477544, 1.50...  [-1.927857995033264, 0.3137434422969818, 0.125...  [3.9700653553009033, -2.0250101089477544, 1.50...  [-1.927857995033264, 0.3137434422969818, 0.125...  [3.9700653553009033, -2.0250101089477544, 1.50...  [-1.927857995033264, 0.3137434422969818, 0.125...\n",
       "9536061   35437        96089  0.000000     0.0       114977      6  0.000000     0.0  0.006922  496.0      0         4  [98124, 70947, 72221, 95778, 73884, 61651, 476...  103047  98965  102018  [-0.77618008852005, -0.4886056780815125, -0.81...  [0.0693325474858284, 0.5399050712585449, 2.712...  [-0.77618008852005, -0.4886056780815125, -0.81...  [0.0693325474858284, 0.5399050712585449, 2.712...  [-0.77618008852005, -0.4886056780815125, -0.81...  [0.0693325474858284, 0.5399050712585449, 2.712...  [-0.77618008852005, -0.4886056780815125, -0.81...  [0.0693325474858284, 0.5399050712585449, 2.712...\n",
       "9536062   35437        78622  0.000000     0.0       114977      6  0.000000     0.0  0.006888  497.0      0         0  [98124, 70947, 72221, 95778, 73884, 61651, 476...  103047  98965  102018  [2.7059946060180664, -0.4727712273597717, 2.98...  [0.07351598888635635, -0.8090598583221436, 0.7...  [2.7059946060180664, -0.4727712273597717, 2.98...  [0.07351598888635635, -0.8090598583221436, 0.7...  [2.7059946060180664, -0.4727712273597717, 2.98...  [0.07351598888635635, -0.8090598583221436, 0.7...  [2.7059946060180664, -0.4727712273597717, 2.98...  [0.07351598888635635, -0.8090598583221436, 0.7...\n",
       "9536063   35437        21737  0.000000     0.0       114977      6  0.000000     0.0  0.006873  498.0      0         5  [98124, 70947, 72221, 95778, 73884, 61651, 476...  103047  98965  102018  [3.4455857276916504, -1.8632752895355225, 1.52...  [-1.9561463594436648, -0.4961370825767517, 0.2...  [3.4455857276916504, -1.8632752895355225, 1.52...  [-1.9561463594436648, -0.4961370825767517, 0.2...  [3.4455857276916504, -1.8632752895355225, 1.52...  [-1.9561463594436648, -0.4961370825767517, 0.2...  [3.4455857276916504, -1.8632752895355225, 1.52...  [-1.9561463594436648, -0.4961370825767517, 0.2...\n",
       "9536064   35437        51971  0.000000     0.0       114977      6  0.000000     0.0  0.006847  500.0      0         0  [98124, 70947, 72221, 95778, 73884, 61651, 476...  103047  98965  102018  [-0.4500269889831543, 1.7968195676803589, 0.52...  [0.9270411729812622, 0.5067013502120972, 1.278...  [-0.4500269889831543, 1.7968195676803589, 0.52...  [0.9270411729812622, 0.5067013502120972, 1.278...  [-0.4500269889831543, 1.7968195676803589, 0.52...  [0.9270411729812622, 0.5067013502120972, 1.278...  [-0.4500269889831543, 1.7968195676803589, 0.52...  [0.9270411729812622, 0.5067013502120972, 1.278...\n",
       "\n",
       "[9536065 rows x 24 columns]"
      ]
     },
     "execution_count": 227,
     "metadata": {},
     "output_type": "execute_result"
    }
   ],
   "source": [
    "df"
   ]
  },
  {
   "cell_type": "code",
   "execution_count": null,
   "metadata": {},
   "outputs": [],
   "source": [
    "# df.to_pickle(os.path.join(args.DATA_DIR, f'data_gen/dft{match_num}.pkl'))"
   ]
  },
  {
   "cell_type": "code",
   "execution_count": 6,
   "metadata": {},
   "outputs": [],
   "source": [
    "df = pd.read_pickle(os.path.join(args.DATA_DIR, f'data_gen/dft{match_num}.pkl'))"
   ]
  },
  {
   "cell_type": "markdown",
   "metadata": {},
   "source": [
    "# FE"
   ]
  },
  {
   "cell_type": "code",
   "execution_count": 7,
   "metadata": {},
   "outputs": [
    {
     "data": {
      "text/plain": [
       "(9536065, 24)"
      ]
     },
     "execution_count": 7,
     "metadata": {},
     "output_type": "execute_result"
    }
   ],
   "source": [
    "df.shape"
   ]
  },
  {
   "cell_type": "code",
   "execution_count": 9,
   "metadata": {},
   "outputs": [
    {
     "data": {
      "text/html": [
       "<div>\n",
       "<style scoped>\n",
       "    .dataframe tbody tr th:only-of-type {\n",
       "        vertical-align: middle;\n",
       "    }\n",
       "\n",
       "    .dataframe tbody tr th {\n",
       "        vertical-align: top;\n",
       "    }\n",
       "\n",
       "    .dataframe thead th {\n",
       "        text-align: right;\n",
       "    }\n",
       "</style>\n",
       "<table border=\"1\" class=\"dataframe\">\n",
       "  <thead>\n",
       "    <tr style=\"text-align: right;\">\n",
       "      <th></th>\n",
       "      <th>user_id</th>\n",
       "      <th>item_id_pred</th>\n",
       "      <th>score_x</th>\n",
       "      <th>rank_x</th>\n",
       "      <th>item_id_true</th>\n",
       "      <th>phase</th>\n",
       "      <th>score_y</th>\n",
       "      <th>rank_y</th>\n",
       "      <th>score</th>\n",
       "      <th>rank</th>\n",
       "      <th>label</th>\n",
       "      <th>item_cnt</th>\n",
       "      <th>item_id</th>\n",
       "      <th>last_1</th>\n",
       "      <th>last_2</th>\n",
       "      <th>last_3</th>\n",
       "      <th>item_id_pred_text_vec</th>\n",
       "      <th>item_id_pred_img_vec</th>\n",
       "      <th>last_1_text_vec</th>\n",
       "      <th>last_1_img_vec</th>\n",
       "      <th>last_2_text_vec</th>\n",
       "      <th>last_2_img_vec</th>\n",
       "      <th>last_3_text_vec</th>\n",
       "      <th>last_3_img_vec</th>\n",
       "    </tr>\n",
       "  </thead>\n",
       "  <tbody>\n",
       "    <tr>\n",
       "      <th>0</th>\n",
       "      <td>11</td>\n",
       "      <td>79868</td>\n",
       "      <td>6.019197</td>\n",
       "      <td>1.0</td>\n",
       "      <td>8052</td>\n",
       "      <td>0</td>\n",
       "      <td>2.023002</td>\n",
       "      <td>1.0</td>\n",
       "      <td>0.010625</td>\n",
       "      <td>142.0</td>\n",
       "      <td>0</td>\n",
       "      <td>47</td>\n",
       "      <td>[88058, 66082, 29755, 78804, 43074, 75757, 233...</td>\n",
       "      <td>28210</td>\n",
       "      <td>64689</td>\n",
       "      <td>20317</td>\n",
       "      <td>[2.3873836994171143, 1.274107813835144, 0.2217...</td>\n",
       "      <td>[-2.599696159362793, 1.5488953590393066, -1.48...</td>\n",
       "      <td>[2.3873836994171143, 1.274107813835144, 0.2217...</td>\n",
       "      <td>[-2.599696159362793, 1.5488953590393066, -1.48...</td>\n",
       "      <td>[2.3873836994171143, 1.274107813835144, 0.2217...</td>\n",
       "      <td>[-2.599696159362793, 1.5488953590393066, -1.48...</td>\n",
       "      <td>[2.3873836994171143, 1.274107813835144, 0.2217...</td>\n",
       "      <td>[-2.599696159362793, 1.5488953590393066, -1.48...</td>\n",
       "    </tr>\n",
       "    <tr>\n",
       "      <th>1</th>\n",
       "      <td>11</td>\n",
       "      <td>15844</td>\n",
       "      <td>5.328522</td>\n",
       "      <td>2.0</td>\n",
       "      <td>8052</td>\n",
       "      <td>0</td>\n",
       "      <td>0.326349</td>\n",
       "      <td>86.0</td>\n",
       "      <td>0.086894</td>\n",
       "      <td>6.0</td>\n",
       "      <td>0</td>\n",
       "      <td>5</td>\n",
       "      <td>[88058, 66082, 29755, 78804, 43074, 75757, 233...</td>\n",
       "      <td>28210</td>\n",
       "      <td>64689</td>\n",
       "      <td>20317</td>\n",
       "      <td>[3.9976482391357417, 1.0751028060913086, 0.722...</td>\n",
       "      <td>[-1.5042964220046997, -1.333038091659546, 0.13...</td>\n",
       "      <td>[3.9976482391357417, 1.0751028060913086, 0.722...</td>\n",
       "      <td>[-1.5042964220046997, -1.333038091659546, 0.13...</td>\n",
       "      <td>[3.9976482391357417, 1.0751028060913086, 0.722...</td>\n",
       "      <td>[-1.5042964220046997, -1.333038091659546, 0.13...</td>\n",
       "      <td>[3.9976482391357417, 1.0751028060913086, 0.722...</td>\n",
       "      <td>[-1.5042964220046997, -1.333038091659546, 0.13...</td>\n",
       "    </tr>\n",
       "  </tbody>\n",
       "</table>\n",
       "</div>"
      ],
      "text/plain": [
       "  user_id item_id_pred   score_x  rank_x item_id_true  phase   score_y  rank_y     score   rank  label  item_cnt                                            item_id last_1 last_2 last_3                              item_id_pred_text_vec                               item_id_pred_img_vec                                    last_1_text_vec                                     last_1_img_vec                                    last_2_text_vec                                     last_2_img_vec                                    last_3_text_vec                                     last_3_img_vec\n",
       "0      11        79868  6.019197     1.0         8052      0  2.023002     1.0  0.010625  142.0      0        47  [88058, 66082, 29755, 78804, 43074, 75757, 233...  28210  64689  20317  [2.3873836994171143, 1.274107813835144, 0.2217...  [-2.599696159362793, 1.5488953590393066, -1.48...  [2.3873836994171143, 1.274107813835144, 0.2217...  [-2.599696159362793, 1.5488953590393066, -1.48...  [2.3873836994171143, 1.274107813835144, 0.2217...  [-2.599696159362793, 1.5488953590393066, -1.48...  [2.3873836994171143, 1.274107813835144, 0.2217...  [-2.599696159362793, 1.5488953590393066, -1.48...\n",
       "1      11        15844  5.328522     2.0         8052      0  0.326349    86.0  0.086894    6.0      0         5  [88058, 66082, 29755, 78804, 43074, 75757, 233...  28210  64689  20317  [3.9976482391357417, 1.0751028060913086, 0.722...  [-1.5042964220046997, -1.333038091659546, 0.13...  [3.9976482391357417, 1.0751028060913086, 0.722...  [-1.5042964220046997, -1.333038091659546, 0.13...  [3.9976482391357417, 1.0751028060913086, 0.722...  [-1.5042964220046997, -1.333038091659546, 0.13...  [3.9976482391357417, 1.0751028060913086, 0.722...  [-1.5042964220046997, -1.333038091659546, 0.13..."
      ]
     },
     "execution_count": 9,
     "metadata": {},
     "output_type": "execute_result"
    }
   ],
   "source": [
    "df.head(2)"
   ]
  },
  {
   "cell_type": "code",
   "execution_count": 10,
   "metadata": {},
   "outputs": [],
   "source": [
    "df['sim1_text'] = df['item_id_pred_text_vec'] * df['last_1_text_vec']"
   ]
  },
  {
   "cell_type": "code",
   "execution_count": null,
   "metadata": {},
   "outputs": [],
   "source": [
    "df['sim1'] = df['sim1'].map(sum)"
   ]
  },
  {
   "cell_type": "code",
   "execution_count": null,
   "metadata": {},
   "outputs": [],
   "source": [
    "df['sim1']"
   ]
  },
  {
   "cell_type": "code",
   "execution_count": 11,
   "metadata": {},
   "outputs": [
    {
     "data": {
      "text/plain": [
       "0          [5.699600928242546, 1.62335072127577, 0.049188...\n",
       "1          [15.981191443865097, 1.1558460436654059, 0.521...\n",
       "2          [12.755556499870181, 10.900351465375024, 2.087...\n",
       "3          [0.0654291162470324, 1.1300713146061412, 3.700...\n",
       "4          [0.012502475499901244, 1.435797481362044, 3.12...\n",
       "                                 ...                        \n",
       "9536060    [15.761418925360488, 4.100665941340596, 2.2717...\n",
       "9536061    [0.6024555298149927, 0.23873550865349463, 0.66...\n",
       "9536062    [7.32240680779887, 0.22351263341926492, 8.9388...\n",
       "9536063    [11.8720610068724, 3.471794804593685, 2.324436...\n",
       "9536064    [0.20252429081324408, 3.228560558799032, 0.274...\n",
       "Name: sim1, Length: 9536065, dtype: object"
      ]
     },
     "execution_count": 11,
     "metadata": {},
     "output_type": "execute_result"
    }
   ],
   "source": [
    "df['sim1']"
   ]
  },
  {
   "cell_type": "markdown",
   "metadata": {},
   "source": [
    "# model"
   ]
  },
  {
   "cell_type": "code",
   "execution_count": 149,
   "metadata": {},
   "outputs": [],
   "source": [
    "#export\n",
    "from sklearn.metrics import classification_report\n",
    "\n",
    "from catboost import Pool, CatBoostClassifier\n",
    "\n",
    "from sklearn.model_selection import train_test_split"
   ]
  },
  {
   "cell_type": "code",
   "execution_count": 127,
   "metadata": {},
   "outputs": [],
   "source": [
    "# df.loc[:, 'rank_x'] = df.rank_x.map(lambda x: 999 if x==0 else x)\n",
    "# df.loc[:, 'rank_y'] = df.rank_x.map(lambda x: 999 if x==0 else x)\n",
    "# df.loc[:, 'rank'] = df.rank_x.map(lambda x: 999 if x==0 else x)"
   ]
  },
  {
   "cell_type": "code",
   "execution_count": 150,
   "metadata": {},
   "outputs": [],
   "source": [
    "for i in 'rank score'.split():\n",
    "#     for ii in [1, 2]:\n",
    "#         df['f{i}{ii}']\n",
    "    df[f'{i}1_sub_{i}2'] = df[f'{i}_x']-df[f'{i}_y']\n",
    "    df[f'{i}1_add_{i}2'] = df[f'{i}_x']+df[f'{i}_y']\n",
    "    df[f'{i}1_mul_{i}2'] = df[f'{i}_x']*df[f'{i}_y']\n",
    "    \n",
    "    df[f'{i}1_sub_{i}3'] = df[f'{i}_x']-df[f'{i}']\n",
    "    df[f'{i}1_add_{i}3'] = df[f'{i}_x']+df[f'{i}']\n",
    "    df[f'{i}1_mul_{i}3'] = df[f'{i}_x']*df[f'{i}']\n",
    "    \n",
    "    df[f'{i}2_sub_{i}3'] = df[f'{i}_y']-df[f'{i}']\n",
    "    df[f'{i}2_add_{i}3'] = df[f'{i}_y']+df[f'{i}']\n",
    "    df[f'{i}2_mul_{i}3'] = df[f'{i}_y']*df[f'{i}']"
   ]
  },
  {
   "cell_type": "code",
   "execution_count": 151,
   "metadata": {},
   "outputs": [],
   "source": [
    "cols = ['score_x', 'rank_x', 'score_y', 'rank_y','score', 'rank',\n",
    "'rank1_sub_rank2',\n",
    "'rank1_add_rank2', 'rank1_mul_rank2', 'score1_sub_score2',\n",
    "'score1_add_score2', 'score1_mul_score2', 'rank1_sub_rank3',\n",
    "'rank1_add_rank3', 'rank1_mul_rank3', 'rank2_sub_rank3',\n",
    "'rank2_add_rank3', 'rank2_mul_rank3', 'score1_sub_score3',\n",
    "'score1_add_score3', 'score1_mul_score3', 'score2_sub_score3',\n",
    "'score2_add_score3', 'score2_mul_score3',\n",
    "]"
   ]
  },
  {
   "cell_type": "code",
   "execution_count": 152,
   "metadata": {},
   "outputs": [
    {
     "data": {
      "text/plain": [
       "6    1820995\n",
       "5    1776590\n",
       "3    1599358\n",
       "2    1565472\n",
       "1    1524428\n",
       "0    1249222\n",
       "Name: phase, dtype: int64"
      ]
     },
     "execution_count": 152,
     "metadata": {},
     "output_type": "execute_result"
    }
   ],
   "source": [
    "df['phase'].value_counts()"
   ]
  },
  {
   "cell_type": "code",
   "execution_count": 153,
   "metadata": {},
   "outputs": [],
   "source": [
    "df['fscore'] = 0\n",
    "df['frank'] = 999"
   ]
  },
  {
   "cell_type": "code",
   "execution_count": 154,
   "metadata": {},
   "outputs": [],
   "source": [
    "X_train, X_test, y_train, y_test = df.loc[df['phase']<6, cols], df.loc[df['phase']==6, cols], df.loc[df['phase']<6, 'label'],\\\n",
    "                                       df.loc[df['phase']==6, 'label']                 "
   ]
  },
  {
   "cell_type": "code",
   "execution_count": 155,
   "metadata": {},
   "outputs": [],
   "source": [
    "cat_cols = []\n",
    "train_data = Pool(data=X_train,\n",
    "                   label=y_train,\n",
    "                   cat_features=cat_cols)\n",
    "val_data = Pool(data=X_test, label=y_test, cat_features=cat_cols) "
   ]
  },
  {
   "cell_type": "code",
   "execution_count": 156,
   "metadata": {},
   "outputs": [
    {
     "data": {
      "text/plain": [
       "1821"
      ]
     },
     "execution_count": 156,
     "metadata": {},
     "output_type": "execute_result"
    }
   ],
   "source": [
    "df.loc[df['phase']==6].user_id.nunique()"
   ]
  },
  {
   "cell_type": "code",
   "execution_count": 157,
   "metadata": {},
   "outputs": [
    {
     "data": {
      "text/plain": [
       "(1820995, 31)"
      ]
     },
     "execution_count": 157,
     "metadata": {},
     "output_type": "execute_result"
    }
   ],
   "source": [
    "df.loc[df['phase']==6].shape"
   ]
  },
  {
   "cell_type": "code",
   "execution_count": 161,
   "metadata": {},
   "outputs": [
    {
     "name": "stdout",
     "output_type": "stream",
     "text": [
      "{'iterations': 100, 'learning_rate': 0.1, 'random_seed': 144, 'custom_metric': 'F1', 'loss_function': 'Logloss', 'class_weights': [1, 20]}\n"
     ]
    }
   ],
   "source": [
    "params = {\n",
    "    'iterations': 100,\n",
    "    'learning_rate': 0.1,\n",
    "    'random_seed': 144,\n",
    "    'custom_metric': 'F1',\n",
    "    'loss_function': 'Logloss',\n",
    "    'class_weights': [1, 20],\n",
    "#     'use_best_model': False\n",
    "    }\n",
    "print(params)\n",
    "model = CatBoostClassifier(**params)\n"
   ]
  },
  {
   "cell_type": "code",
   "execution_count": 108,
   "metadata": {},
   "outputs": [],
   "source": [
    "# val1(r_itemcf[-1], 100, all_click_df[6][1])\n",
    "# 2020-05-27 17:39:59.717 | INFO     | __main__:val1:24 - recall50:0.15595826468973092\n",
    "# 2020-05-27 17:39:59.728 | INFO     | __main__:val1:24 - recall100:0.18231740801757276\n"
   ]
  },
  {
   "cell_type": "code",
   "execution_count": 162,
   "metadata": {},
   "outputs": [
    {
     "name": "stderr",
     "output_type": "stream",
     "text": [
      "2020-05-27 19:22:48.670 | INFO     | __main__:val1:24 - recall50:0.1630971993410214\n",
      "2020-05-27 19:22:48.672 | INFO     | __main__:val1:24 - recall100:0.19659527732015375\n"
     ]
    }
   ],
   "source": [
    "r = model.fit(train_data, \n",
    "#               eval_set=val_data, \n",
    "              verbose=False,plot=False)\n",
    "df.loc[df['phase']==6, 'fscore'] = model.predict_proba(val_data)[:, 1]\n",
    "\n",
    "df.loc[df['phase']==6, 'frank'] = df.loc[df['phase']==6].groupby('user_id')['fscore'].rank(method='first', ascending=False)\n",
    "r = val1(df.loc[(df['phase']==6)&(df['frank']<101)], 100, all_click_df[6][1])"
   ]
  },
  {
   "cell_type": "code",
   "execution_count": 159,
   "metadata": {},
   "outputs": [
    {
     "name": "stderr",
     "output_type": "stream",
     "text": [
      "2020-05-27 19:07:59.575 | INFO     | __main__:val1:24 - recall50:0.16090060406370127\n",
      "2020-05-27 19:07:59.584 | INFO     | __main__:val1:24 - recall100:0.19549697968149368\n"
     ]
    }
   ],
   "source": [
    "r = model.fit(train_data, \n",
    "#               eval_set=val_data, \n",
    "              verbose=False,plot=False)\n",
    "df.loc[df['phase']==6, 'fscore'] = model.predict_proba(val_data)[:, 1]\n",
    "\n",
    "df.loc[df['phase']==6, 'frank'] = df.loc[df['phase']==6].groupby('user_id')['fscore'].rank(method='first', ascending=False)\n",
    "r = val1(df.loc[(df['phase']==6)&(df['frank']<101)], 100, all_click_df[6][1])"
   ]
  },
  {
   "cell_type": "code",
   "execution_count": 109,
   "metadata": {},
   "outputs": [
    {
     "name": "stderr",
     "output_type": "stream",
     "text": [
      "2020-05-27 18:46:49.899 | INFO     | __main__:val1:24 - recall50:0.15760571114772104\n",
      "2020-05-27 18:46:49.901 | INFO     | __main__:val1:24 - recall100:0.18451400329489293\n"
     ]
    }
   ],
   "source": [
    "r = model.fit(train_data, \n",
    "#               eval_set=val_data, \n",
    "              verbose=False,plot=False)\n",
    "df.loc[df['phase']==6, 'fscore'] = model.predict_proba(val_data)[:, 1]\n",
    "\n",
    "df.loc[df['phase']==6, 'frank'] = df.loc[df['phase']==6].groupby('user_id')['fscore'].rank(method='first', ascending=False)\n",
    "r = val1(df.loc[(df['phase']==6)&(df['frank']<101)], 100, all_click_df[6][1])"
   ]
  },
  {
   "cell_type": "code",
   "execution_count": 163,
   "metadata": {},
   "outputs": [],
   "source": [
    "model.save_model(os.path.join(args.DATA_DIR, 'data_gen/catboost_model500.dump'))"
   ]
  },
  {
   "cell_type": "code",
   "execution_count": 160,
   "metadata": {
    "scrolled": true
   },
   "outputs": [
    {
     "name": "stdout",
     "output_type": "stream",
     "text": [
      "0\n"
     ]
    },
    {
     "name": "stderr",
     "output_type": "stream",
     "text": [
      "2020-05-27 19:09:39.080 | INFO     | __main__:val1:24 - recall50:0.16199890170236134\n",
      "2020-05-27 19:09:39.081 | INFO     | __main__:val1:24 - recall100:0.1987918725974739\n"
     ]
    },
    {
     "name": "stdout",
     "output_type": "stream",
     "text": [
      "1\n"
     ]
    },
    {
     "name": "stderr",
     "output_type": "stream",
     "text": [
      "2020-05-27 19:10:40.482 | INFO     | __main__:val1:24 - recall50:0.16254805052169138\n",
      "2020-05-27 19:10:40.483 | INFO     | __main__:val1:24 - recall100:0.1971444261394838\n"
     ]
    },
    {
     "name": "stdout",
     "output_type": "stream",
     "text": [
      "2\n"
     ]
    },
    {
     "name": "stderr",
     "output_type": "stream",
     "text": [
      "2020-05-27 19:11:40.641 | INFO     | __main__:val1:24 - recall50:0.16254805052169138\n",
      "2020-05-27 19:11:40.642 | INFO     | __main__:val1:24 - recall100:0.19494783086216363\n"
     ]
    },
    {
     "name": "stdout",
     "output_type": "stream",
     "text": [
      "3\n"
     ]
    },
    {
     "name": "stderr",
     "output_type": "stream",
     "text": [
      "2020-05-27 19:12:41.740 | INFO     | __main__:val1:24 - recall50:0.1630971993410214\n",
      "2020-05-27 19:12:41.742 | INFO     | __main__:val1:24 - recall100:0.19659527732015375\n"
     ]
    },
    {
     "name": "stdout",
     "output_type": "stream",
     "text": [
      "4\n"
     ]
    },
    {
     "name": "stderr",
     "output_type": "stream",
     "text": [
      "2020-05-27 19:13:40.659 | INFO     | __main__:val1:24 - recall50:0.1630971993410214\n",
      "2020-05-27 19:13:40.661 | INFO     | __main__:val1:24 - recall100:0.19604612850082373\n"
     ]
    },
    {
     "name": "stdout",
     "output_type": "stream",
     "text": [
      "5\n"
     ]
    },
    {
     "name": "stderr",
     "output_type": "stream",
     "text": [
      "2020-05-27 19:14:40.899 | INFO     | __main__:val1:24 - recall50:0.1630971993410214\n",
      "2020-05-27 19:14:40.901 | INFO     | __main__:val1:24 - recall100:0.19494783086216363\n"
     ]
    },
    {
     "name": "stdout",
     "output_type": "stream",
     "text": [
      "6\n"
     ]
    },
    {
     "name": "stderr",
     "output_type": "stream",
     "text": [
      "2020-05-27 19:15:43.394 | INFO     | __main__:val1:24 - recall50:0.16254805052169138\n",
      "2020-05-27 19:15:43.395 | INFO     | __main__:val1:24 - recall100:0.19494783086216363\n"
     ]
    },
    {
     "name": "stdout",
     "output_type": "stream",
     "text": [
      "7\n"
     ]
    },
    {
     "name": "stderr",
     "output_type": "stream",
     "text": [
      "2020-05-27 19:16:45.345 | INFO     | __main__:val1:24 - recall50:0.16254805052169138\n",
      "2020-05-27 19:16:45.348 | INFO     | __main__:val1:24 - recall100:0.19384953322350357\n"
     ]
    },
    {
     "name": "stdout",
     "output_type": "stream",
     "text": [
      "8\n"
     ]
    },
    {
     "name": "stderr",
     "output_type": "stream",
     "text": [
      "2020-05-27 19:17:46.970 | INFO     | __main__:val1:24 - recall50:0.16254805052169138\n",
      "2020-05-27 19:17:46.973 | INFO     | __main__:val1:24 - recall100:0.1916529379461834\n"
     ]
    },
    {
     "name": "stdout",
     "output_type": "stream",
     "text": [
      "9\n"
     ]
    },
    {
     "name": "stderr",
     "output_type": "stream",
     "text": [
      "2020-05-27 19:18:47.498 | INFO     | __main__:val1:24 - recall50:0.16254805052169138\n",
      "2020-05-27 19:18:47.502 | INFO     | __main__:val1:24 - recall100:0.19384953322350357\n"
     ]
    }
   ],
   "source": [
    "for a in range(10):\n",
    "    print(a)\n",
    "    r = model.fit(train_data, \n",
    "#                   eval_set=val_data, \n",
    "                  verbose=False,plot=False, init_model=model)\n",
    "    df.loc[df['phase']==6, 'fscore'] = model.predict_proba(val_data)[:, 1]\n",
    "\n",
    "    df.loc[df['phase']==6, 'frank'] = df.loc[df['phase']==6].groupby('user_id')['fscore'].rank(method='first', ascending=False)\n",
    "\n",
    "    r = val1(df.loc[(df['phase']==6)&(df['frank']<101)], 100, all_click_df[6][1])"
   ]
  },
  {
   "cell_type": "code",
   "execution_count": 138,
   "metadata": {
    "scrolled": true
   },
   "outputs": [
    {
     "name": "stdout",
     "output_type": "stream",
     "text": [
      "0\n"
     ]
    },
    {
     "name": "stderr",
     "output_type": "stream",
     "text": [
      "2020-05-27 18:58:02.723 | INFO     | __main__:val1:24 - recall50:0.15760571114772104\n",
      "2020-05-27 18:58:02.726 | INFO     | __main__:val1:24 - recall100:0.18616144975288304\n"
     ]
    },
    {
     "name": "stdout",
     "output_type": "stream",
     "text": [
      "1\n"
     ]
    },
    {
     "name": "stderr",
     "output_type": "stream",
     "text": [
      "2020-05-27 18:58:33.515 | INFO     | __main__:val1:24 - recall50:0.15760571114772104\n",
      "2020-05-27 18:58:33.517 | INFO     | __main__:val1:24 - recall100:0.1872597473915431\n"
     ]
    },
    {
     "name": "stdout",
     "output_type": "stream",
     "text": [
      "2\n"
     ]
    },
    {
     "name": "stderr",
     "output_type": "stream",
     "text": [
      "2020-05-27 18:59:04.572 | INFO     | __main__:val1:24 - recall50:0.1587040087863811\n",
      "2020-05-27 18:59:04.576 | INFO     | __main__:val1:24 - recall100:0.18890719384953322\n"
     ]
    },
    {
     "name": "stdout",
     "output_type": "stream",
     "text": [
      "3\n"
     ]
    },
    {
     "name": "stderr",
     "output_type": "stream",
     "text": [
      "2020-05-27 18:59:35.336 | INFO     | __main__:val1:24 - recall50:0.1587040087863811\n",
      "2020-05-27 18:59:35.339 | INFO     | __main__:val1:24 - recall100:0.18780889621087316\n"
     ]
    },
    {
     "name": "stdout",
     "output_type": "stream",
     "text": [
      "4\n"
     ]
    },
    {
     "name": "stderr",
     "output_type": "stream",
     "text": [
      "2020-05-27 19:00:07.046 | INFO     | __main__:val1:24 - recall50:0.15815485996705106\n",
      "2020-05-27 19:00:07.048 | INFO     | __main__:val1:24 - recall100:0.1872597473915431\n"
     ]
    },
    {
     "name": "stdout",
     "output_type": "stream",
     "text": [
      "5\n"
     ]
    },
    {
     "name": "stderr",
     "output_type": "stream",
     "text": [
      "2020-05-27 19:00:40.188 | INFO     | __main__:val1:24 - recall50:0.15815485996705106\n",
      "2020-05-27 19:00:40.190 | INFO     | __main__:val1:24 - recall100:0.18671059857221306\n"
     ]
    },
    {
     "name": "stdout",
     "output_type": "stream",
     "text": [
      "6\n"
     ]
    },
    {
     "name": "stderr",
     "output_type": "stream",
     "text": [
      "2020-05-27 19:01:11.601 | INFO     | __main__:val1:24 - recall50:0.15815485996705106\n",
      "2020-05-27 19:01:11.603 | INFO     | __main__:val1:24 - recall100:0.18616144975288304\n"
     ]
    },
    {
     "name": "stdout",
     "output_type": "stream",
     "text": [
      "7\n"
     ]
    },
    {
     "name": "stderr",
     "output_type": "stream",
     "text": [
      "2020-05-27 19:01:43.763 | INFO     | __main__:val1:24 - recall50:0.1587040087863811\n",
      "2020-05-27 19:01:43.767 | INFO     | __main__:val1:24 - recall100:0.18506315211422295\n"
     ]
    },
    {
     "name": "stdout",
     "output_type": "stream",
     "text": [
      "8\n"
     ]
    },
    {
     "name": "stderr",
     "output_type": "stream",
     "text": [
      "2020-05-27 19:02:17.368 | INFO     | __main__:val1:24 - recall50:0.15815485996705106\n",
      "2020-05-27 19:02:17.372 | INFO     | __main__:val1:24 - recall100:0.18506315211422295\n"
     ]
    },
    {
     "name": "stdout",
     "output_type": "stream",
     "text": [
      "9\n"
     ]
    },
    {
     "name": "stderr",
     "output_type": "stream",
     "text": [
      "2020-05-27 19:02:50.803 | INFO     | __main__:val1:24 - recall50:0.1587040087863811\n",
      "2020-05-27 19:02:50.807 | INFO     | __main__:val1:24 - recall100:0.18506315211422295\n"
     ]
    }
   ],
   "source": [
    "for a in range(10):\n",
    "    print(a)\n",
    "    r = model.fit(train_data, \n",
    "#                   eval_set=val_data, \n",
    "                  verbose=False,plot=False, init_model=model)\n",
    "    df.loc[df['phase']==6, 'fscore'] = model.predict_proba(val_data)[:, 1]\n",
    "\n",
    "    df.loc[df['phase']==6, 'frank'] = df.loc[df['phase']==6].groupby('user_id')['fscore'].rank(method='first', ascending=False)\n",
    "\n",
    "    r = val1(df.loc[(df['phase']==6)&(df['frank']<101)], 100, all_click_df[6][1])"
   ]
  },
  {
   "cell_type": "code",
   "execution_count": null,
   "metadata": {},
   "outputs": [],
   "source": []
  },
  {
   "cell_type": "code",
   "execution_count": null,
   "metadata": {},
   "outputs": [],
   "source": []
  },
  {
   "cell_type": "code",
   "execution_count": 247,
   "metadata": {},
   "outputs": [],
   "source": [
    "df.loc[df['phase']==6, 'fscore'] = model.predict_proba(val_data)[:, 1]\n",
    "\n",
    "df.loc[df['phase']==6, 'frank'] = df.loc[df['phase']==6].groupby('user_id')['fscore'].rank(method='first', ascending=False)\n",
    "\n",
    "r = val1(df.loc[(df['phase']==6)&(df['frank']<101)], 100, all_click_df[6][1])"
   ]
  },
  {
   "cell_type": "code",
   "execution_count": 227,
   "metadata": {},
   "outputs": [
    {
     "data": {
      "text/html": [
       "<div>\n",
       "<style scoped>\n",
       "    .dataframe tbody tr th:only-of-type {\n",
       "        vertical-align: middle;\n",
       "    }\n",
       "\n",
       "    .dataframe tbody tr th {\n",
       "        vertical-align: top;\n",
       "    }\n",
       "\n",
       "    .dataframe thead th {\n",
       "        text-align: right;\n",
       "    }\n",
       "</style>\n",
       "<table border=\"1\" class=\"dataframe\">\n",
       "  <thead>\n",
       "    <tr style=\"text-align: right;\">\n",
       "      <th></th>\n",
       "      <th>user_id</th>\n",
       "      <th>item_id_pred</th>\n",
       "      <th>score_x</th>\n",
       "      <th>rank_x</th>\n",
       "      <th>item_id_true</th>\n",
       "      <th>phase</th>\n",
       "      <th>score_y</th>\n",
       "      <th>rank_y</th>\n",
       "      <th>score</th>\n",
       "      <th>rank</th>\n",
       "      <th>label</th>\n",
       "      <th>rank1_sub_rank2</th>\n",
       "      <th>rank1_add_rank2</th>\n",
       "      <th>rank1_mul_rank2</th>\n",
       "      <th>rank1_sub_rank3</th>\n",
       "      <th>rank1_add_rank3</th>\n",
       "      <th>rank1_mul_rank3</th>\n",
       "      <th>rank2_sub_rank3</th>\n",
       "      <th>rank2_add_rank3</th>\n",
       "      <th>rank2_mul_rank3</th>\n",
       "      <th>score1_sub_score2</th>\n",
       "      <th>score1_add_score2</th>\n",
       "      <th>score1_mul_score2</th>\n",
       "      <th>score1_sub_score3</th>\n",
       "      <th>score1_add_score3</th>\n",
       "      <th>score1_mul_score3</th>\n",
       "      <th>score2_sub_score3</th>\n",
       "      <th>score2_add_score3</th>\n",
       "      <th>score2_mul_score3</th>\n",
       "      <th>fscore</th>\n",
       "      <th>frank</th>\n",
       "    </tr>\n",
       "  </thead>\n",
       "  <tbody>\n",
       "    <tr>\n",
       "      <th>1710400</th>\n",
       "      <td>17</td>\n",
       "      <td>6322</td>\n",
       "      <td>23.536825</td>\n",
       "      <td>1.0</td>\n",
       "      <td>55640</td>\n",
       "      <td>6</td>\n",
       "      <td>2.233642</td>\n",
       "      <td>1.0</td>\n",
       "      <td>0.000000</td>\n",
       "      <td>0.0</td>\n",
       "      <td>0</td>\n",
       "      <td>0.0</td>\n",
       "      <td>2.0</td>\n",
       "      <td>1.0</td>\n",
       "      <td>1.0</td>\n",
       "      <td>1.0</td>\n",
       "      <td>0.0</td>\n",
       "      <td>1.0</td>\n",
       "      <td>1.0</td>\n",
       "      <td>0.0</td>\n",
       "      <td>21.303183</td>\n",
       "      <td>25.770466</td>\n",
       "      <td>52.572834</td>\n",
       "      <td>23.536825</td>\n",
       "      <td>23.536825</td>\n",
       "      <td>0.000000</td>\n",
       "      <td>2.233642</td>\n",
       "      <td>2.233642</td>\n",
       "      <td>0.000000</td>\n",
       "      <td>0.356126</td>\n",
       "      <td>1.0</td>\n",
       "    </tr>\n",
       "    <tr>\n",
       "      <th>1710401</th>\n",
       "      <td>17</td>\n",
       "      <td>25684</td>\n",
       "      <td>20.098247</td>\n",
       "      <td>2.0</td>\n",
       "      <td>55640</td>\n",
       "      <td>6</td>\n",
       "      <td>1.012120</td>\n",
       "      <td>10.0</td>\n",
       "      <td>0.052460</td>\n",
       "      <td>7.0</td>\n",
       "      <td>0</td>\n",
       "      <td>-8.0</td>\n",
       "      <td>12.0</td>\n",
       "      <td>20.0</td>\n",
       "      <td>-5.0</td>\n",
       "      <td>9.0</td>\n",
       "      <td>14.0</td>\n",
       "      <td>3.0</td>\n",
       "      <td>17.0</td>\n",
       "      <td>70.0</td>\n",
       "      <td>19.086126</td>\n",
       "      <td>21.110367</td>\n",
       "      <td>20.341845</td>\n",
       "      <td>20.045786</td>\n",
       "      <td>20.150707</td>\n",
       "      <td>1.054360</td>\n",
       "      <td>0.959660</td>\n",
       "      <td>1.064581</td>\n",
       "      <td>0.053096</td>\n",
       "      <td>0.218838</td>\n",
       "      <td>3.0</td>\n",
       "    </tr>\n",
       "    <tr>\n",
       "      <th>1710402</th>\n",
       "      <td>17</td>\n",
       "      <td>51966</td>\n",
       "      <td>18.027037</td>\n",
       "      <td>3.0</td>\n",
       "      <td>55640</td>\n",
       "      <td>6</td>\n",
       "      <td>1.600439</td>\n",
       "      <td>2.0</td>\n",
       "      <td>0.023134</td>\n",
       "      <td>81.0</td>\n",
       "      <td>0</td>\n",
       "      <td>1.0</td>\n",
       "      <td>5.0</td>\n",
       "      <td>6.0</td>\n",
       "      <td>-78.0</td>\n",
       "      <td>84.0</td>\n",
       "      <td>243.0</td>\n",
       "      <td>-79.0</td>\n",
       "      <td>83.0</td>\n",
       "      <td>162.0</td>\n",
       "      <td>16.426597</td>\n",
       "      <td>19.627476</td>\n",
       "      <td>28.851180</td>\n",
       "      <td>18.003903</td>\n",
       "      <td>18.050171</td>\n",
       "      <td>0.417040</td>\n",
       "      <td>1.577305</td>\n",
       "      <td>1.623574</td>\n",
       "      <td>0.037025</td>\n",
       "      <td>0.150970</td>\n",
       "      <td>6.0</td>\n",
       "    </tr>\n",
       "    <tr>\n",
       "      <th>1710403</th>\n",
       "      <td>17</td>\n",
       "      <td>107085</td>\n",
       "      <td>15.216324</td>\n",
       "      <td>4.0</td>\n",
       "      <td>55640</td>\n",
       "      <td>6</td>\n",
       "      <td>0.652856</td>\n",
       "      <td>24.0</td>\n",
       "      <td>0.128767</td>\n",
       "      <td>1.0</td>\n",
       "      <td>0</td>\n",
       "      <td>-20.0</td>\n",
       "      <td>28.0</td>\n",
       "      <td>96.0</td>\n",
       "      <td>3.0</td>\n",
       "      <td>5.0</td>\n",
       "      <td>4.0</td>\n",
       "      <td>23.0</td>\n",
       "      <td>25.0</td>\n",
       "      <td>24.0</td>\n",
       "      <td>14.563469</td>\n",
       "      <td>15.869180</td>\n",
       "      <td>9.934063</td>\n",
       "      <td>15.087558</td>\n",
       "      <td>15.345091</td>\n",
       "      <td>1.959357</td>\n",
       "      <td>0.524089</td>\n",
       "      <td>0.781622</td>\n",
       "      <td>0.084066</td>\n",
       "      <td>0.330119</td>\n",
       "      <td>2.0</td>\n",
       "    </tr>\n",
       "    <tr>\n",
       "      <th>1710404</th>\n",
       "      <td>17</td>\n",
       "      <td>31821</td>\n",
       "      <td>14.821069</td>\n",
       "      <td>5.0</td>\n",
       "      <td>55640</td>\n",
       "      <td>6</td>\n",
       "      <td>0.706890</td>\n",
       "      <td>20.0</td>\n",
       "      <td>0.000000</td>\n",
       "      <td>0.0</td>\n",
       "      <td>0</td>\n",
       "      <td>-15.0</td>\n",
       "      <td>25.0</td>\n",
       "      <td>100.0</td>\n",
       "      <td>5.0</td>\n",
       "      <td>5.0</td>\n",
       "      <td>0.0</td>\n",
       "      <td>20.0</td>\n",
       "      <td>20.0</td>\n",
       "      <td>0.0</td>\n",
       "      <td>14.114179</td>\n",
       "      <td>15.527960</td>\n",
       "      <td>10.476869</td>\n",
       "      <td>14.821069</td>\n",
       "      <td>14.821069</td>\n",
       "      <td>0.000000</td>\n",
       "      <td>0.706890</td>\n",
       "      <td>0.706890</td>\n",
       "      <td>0.000000</td>\n",
       "      <td>0.191946</td>\n",
       "      <td>4.0</td>\n",
       "    </tr>\n",
       "    <tr>\n",
       "      <th>...</th>\n",
       "      <td>...</td>\n",
       "      <td>...</td>\n",
       "      <td>...</td>\n",
       "      <td>...</td>\n",
       "      <td>...</td>\n",
       "      <td>...</td>\n",
       "      <td>...</td>\n",
       "      <td>...</td>\n",
       "      <td>...</td>\n",
       "      <td>...</td>\n",
       "      <td>...</td>\n",
       "      <td>...</td>\n",
       "      <td>...</td>\n",
       "      <td>...</td>\n",
       "      <td>...</td>\n",
       "      <td>...</td>\n",
       "      <td>...</td>\n",
       "      <td>...</td>\n",
       "      <td>...</td>\n",
       "      <td>...</td>\n",
       "      <td>...</td>\n",
       "      <td>...</td>\n",
       "      <td>...</td>\n",
       "      <td>...</td>\n",
       "      <td>...</td>\n",
       "      <td>...</td>\n",
       "      <td>...</td>\n",
       "      <td>...</td>\n",
       "      <td>...</td>\n",
       "      <td>...</td>\n",
       "      <td>...</td>\n",
       "    </tr>\n",
       "    <tr>\n",
       "      <th>4139627</th>\n",
       "      <td>8795</td>\n",
       "      <td>91479</td>\n",
       "      <td>0.000000</td>\n",
       "      <td>0.0</td>\n",
       "      <td>40240</td>\n",
       "      <td>6</td>\n",
       "      <td>0.000000</td>\n",
       "      <td>0.0</td>\n",
       "      <td>0.009082</td>\n",
       "      <td>196.0</td>\n",
       "      <td>0</td>\n",
       "      <td>0.0</td>\n",
       "      <td>0.0</td>\n",
       "      <td>0.0</td>\n",
       "      <td>-196.0</td>\n",
       "      <td>196.0</td>\n",
       "      <td>0.0</td>\n",
       "      <td>-196.0</td>\n",
       "      <td>196.0</td>\n",
       "      <td>0.0</td>\n",
       "      <td>0.000000</td>\n",
       "      <td>0.000000</td>\n",
       "      <td>0.000000</td>\n",
       "      <td>-0.009082</td>\n",
       "      <td>0.009082</td>\n",
       "      <td>0.000000</td>\n",
       "      <td>-0.009082</td>\n",
       "      <td>0.009082</td>\n",
       "      <td>0.000000</td>\n",
       "      <td>0.019953</td>\n",
       "      <td>366.0</td>\n",
       "    </tr>\n",
       "    <tr>\n",
       "      <th>4139628</th>\n",
       "      <td>8795</td>\n",
       "      <td>39758</td>\n",
       "      <td>0.000000</td>\n",
       "      <td>0.0</td>\n",
       "      <td>40240</td>\n",
       "      <td>6</td>\n",
       "      <td>0.000000</td>\n",
       "      <td>0.0</td>\n",
       "      <td>0.009079</td>\n",
       "      <td>197.0</td>\n",
       "      <td>0</td>\n",
       "      <td>0.0</td>\n",
       "      <td>0.0</td>\n",
       "      <td>0.0</td>\n",
       "      <td>-197.0</td>\n",
       "      <td>197.0</td>\n",
       "      <td>0.0</td>\n",
       "      <td>-197.0</td>\n",
       "      <td>197.0</td>\n",
       "      <td>0.0</td>\n",
       "      <td>0.000000</td>\n",
       "      <td>0.000000</td>\n",
       "      <td>0.000000</td>\n",
       "      <td>-0.009079</td>\n",
       "      <td>0.009079</td>\n",
       "      <td>0.000000</td>\n",
       "      <td>-0.009079</td>\n",
       "      <td>0.009079</td>\n",
       "      <td>0.000000</td>\n",
       "      <td>0.019953</td>\n",
       "      <td>367.0</td>\n",
       "    </tr>\n",
       "    <tr>\n",
       "      <th>4139629</th>\n",
       "      <td>8795</td>\n",
       "      <td>76959</td>\n",
       "      <td>0.000000</td>\n",
       "      <td>0.0</td>\n",
       "      <td>40240</td>\n",
       "      <td>6</td>\n",
       "      <td>0.000000</td>\n",
       "      <td>0.0</td>\n",
       "      <td>0.008984</td>\n",
       "      <td>198.0</td>\n",
       "      <td>0</td>\n",
       "      <td>0.0</td>\n",
       "      <td>0.0</td>\n",
       "      <td>0.0</td>\n",
       "      <td>-198.0</td>\n",
       "      <td>198.0</td>\n",
       "      <td>0.0</td>\n",
       "      <td>-198.0</td>\n",
       "      <td>198.0</td>\n",
       "      <td>0.0</td>\n",
       "      <td>0.000000</td>\n",
       "      <td>0.000000</td>\n",
       "      <td>0.000000</td>\n",
       "      <td>-0.008984</td>\n",
       "      <td>0.008984</td>\n",
       "      <td>0.000000</td>\n",
       "      <td>-0.008984</td>\n",
       "      <td>0.008984</td>\n",
       "      <td>0.000000</td>\n",
       "      <td>0.019953</td>\n",
       "      <td>368.0</td>\n",
       "    </tr>\n",
       "    <tr>\n",
       "      <th>4139630</th>\n",
       "      <td>8795</td>\n",
       "      <td>101735</td>\n",
       "      <td>0.000000</td>\n",
       "      <td>0.0</td>\n",
       "      <td>40240</td>\n",
       "      <td>6</td>\n",
       "      <td>0.000000</td>\n",
       "      <td>0.0</td>\n",
       "      <td>0.008927</td>\n",
       "      <td>199.0</td>\n",
       "      <td>0</td>\n",
       "      <td>0.0</td>\n",
       "      <td>0.0</td>\n",
       "      <td>0.0</td>\n",
       "      <td>-199.0</td>\n",
       "      <td>199.0</td>\n",
       "      <td>0.0</td>\n",
       "      <td>-199.0</td>\n",
       "      <td>199.0</td>\n",
       "      <td>0.0</td>\n",
       "      <td>0.000000</td>\n",
       "      <td>0.000000</td>\n",
       "      <td>0.000000</td>\n",
       "      <td>-0.008927</td>\n",
       "      <td>0.008927</td>\n",
       "      <td>0.000000</td>\n",
       "      <td>-0.008927</td>\n",
       "      <td>0.008927</td>\n",
       "      <td>0.000000</td>\n",
       "      <td>0.019953</td>\n",
       "      <td>369.0</td>\n",
       "    </tr>\n",
       "    <tr>\n",
       "      <th>4139631</th>\n",
       "      <td>8795</td>\n",
       "      <td>1113</td>\n",
       "      <td>0.000000</td>\n",
       "      <td>0.0</td>\n",
       "      <td>40240</td>\n",
       "      <td>6</td>\n",
       "      <td>0.000000</td>\n",
       "      <td>0.0</td>\n",
       "      <td>0.008854</td>\n",
       "      <td>200.0</td>\n",
       "      <td>0</td>\n",
       "      <td>0.0</td>\n",
       "      <td>0.0</td>\n",
       "      <td>0.0</td>\n",
       "      <td>-200.0</td>\n",
       "      <td>200.0</td>\n",
       "      <td>0.0</td>\n",
       "      <td>-200.0</td>\n",
       "      <td>200.0</td>\n",
       "      <td>0.0</td>\n",
       "      <td>0.000000</td>\n",
       "      <td>0.000000</td>\n",
       "      <td>0.000000</td>\n",
       "      <td>-0.008854</td>\n",
       "      <td>0.008854</td>\n",
       "      <td>0.000000</td>\n",
       "      <td>-0.008854</td>\n",
       "      <td>0.008854</td>\n",
       "      <td>0.000000</td>\n",
       "      <td>0.019953</td>\n",
       "      <td>370.0</td>\n",
       "    </tr>\n",
       "  </tbody>\n",
       "</table>\n",
       "<p>773002 rows × 31 columns</p>\n",
       "</div>"
      ],
      "text/plain": [
       "        user_id item_id_pred    score_x  rank_x item_id_true  phase   score_y  rank_y     score   rank  label  rank1_sub_rank2  rank1_add_rank2  rank1_mul_rank2  rank1_sub_rank3  rank1_add_rank3  rank1_mul_rank3  rank2_sub_rank3  rank2_add_rank3  rank2_mul_rank3  score1_sub_score2  score1_add_score2  score1_mul_score2  score1_sub_score3  score1_add_score3  score1_mul_score3  score2_sub_score3  score2_add_score3  score2_mul_score3    fscore  frank\n",
       "1710400      17         6322  23.536825     1.0        55640      6  2.233642     1.0  0.000000    0.0      0              0.0              2.0              1.0              1.0              1.0              0.0              1.0              1.0              0.0          21.303183          25.770466          52.572834          23.536825          23.536825           0.000000           2.233642           2.233642           0.000000  0.356126    1.0\n",
       "1710401      17        25684  20.098247     2.0        55640      6  1.012120    10.0  0.052460    7.0      0             -8.0             12.0             20.0             -5.0              9.0             14.0              3.0             17.0             70.0          19.086126          21.110367          20.341845          20.045786          20.150707           1.054360           0.959660           1.064581           0.053096  0.218838    3.0\n",
       "1710402      17        51966  18.027037     3.0        55640      6  1.600439     2.0  0.023134   81.0      0              1.0              5.0              6.0            -78.0             84.0            243.0            -79.0             83.0            162.0          16.426597          19.627476          28.851180          18.003903          18.050171           0.417040           1.577305           1.623574           0.037025  0.150970    6.0\n",
       "1710403      17       107085  15.216324     4.0        55640      6  0.652856    24.0  0.128767    1.0      0            -20.0             28.0             96.0              3.0              5.0              4.0             23.0             25.0             24.0          14.563469          15.869180           9.934063          15.087558          15.345091           1.959357           0.524089           0.781622           0.084066  0.330119    2.0\n",
       "1710404      17        31821  14.821069     5.0        55640      6  0.706890    20.0  0.000000    0.0      0            -15.0             25.0            100.0              5.0              5.0              0.0             20.0             20.0              0.0          14.114179          15.527960          10.476869          14.821069          14.821069           0.000000           0.706890           0.706890           0.000000  0.191946    4.0\n",
       "...         ...          ...        ...     ...          ...    ...       ...     ...       ...    ...    ...              ...              ...              ...              ...              ...              ...              ...              ...              ...                ...                ...                ...                ...                ...                ...                ...                ...                ...       ...    ...\n",
       "4139627    8795        91479   0.000000     0.0        40240      6  0.000000     0.0  0.009082  196.0      0              0.0              0.0              0.0           -196.0            196.0              0.0           -196.0            196.0              0.0           0.000000           0.000000           0.000000          -0.009082           0.009082           0.000000          -0.009082           0.009082           0.000000  0.019953  366.0\n",
       "4139628    8795        39758   0.000000     0.0        40240      6  0.000000     0.0  0.009079  197.0      0              0.0              0.0              0.0           -197.0            197.0              0.0           -197.0            197.0              0.0           0.000000           0.000000           0.000000          -0.009079           0.009079           0.000000          -0.009079           0.009079           0.000000  0.019953  367.0\n",
       "4139629    8795        76959   0.000000     0.0        40240      6  0.000000     0.0  0.008984  198.0      0              0.0              0.0              0.0           -198.0            198.0              0.0           -198.0            198.0              0.0           0.000000           0.000000           0.000000          -0.008984           0.008984           0.000000          -0.008984           0.008984           0.000000  0.019953  368.0\n",
       "4139630    8795       101735   0.000000     0.0        40240      6  0.000000     0.0  0.008927  199.0      0              0.0              0.0              0.0           -199.0            199.0              0.0           -199.0            199.0              0.0           0.000000           0.000000           0.000000          -0.008927           0.008927           0.000000          -0.008927           0.008927           0.000000  0.019953  369.0\n",
       "4139631    8795         1113   0.000000     0.0        40240      6  0.000000     0.0  0.008854  200.0      0              0.0              0.0              0.0           -200.0            200.0              0.0           -200.0            200.0              0.0           0.000000           0.000000           0.000000          -0.008854           0.008854           0.000000          -0.008854           0.008854           0.000000  0.019953  370.0\n",
       "\n",
       "[773002 rows x 31 columns]"
      ]
     },
     "execution_count": 227,
     "metadata": {},
     "output_type": "execute_result"
    }
   ],
   "source": [
    "df.loc[df['phase']==6]"
   ]
  },
  {
   "cell_type": "code",
   "execution_count": 81,
   "metadata": {},
   "outputs": [],
   "source": [
    "#export\n",
    "def val(model, df_val, y_val, cat_cols):\n",
    "    test_data = Pool(data=df_val,\n",
    "                  cat_features=cat_cols)\n",
    "    print(pd.Series(model.predict(test_data)).value_counts())\n",
    "    print(classification_report(y_val, model.predict(test_data)))\n",
    "    dfr = pd.DataFrame(y_val)\n",
    "    dfr.columns = ['true_label']\n",
    "#     dfr['CHANGE_ID'] = df_val['CHANGE_ID']\n",
    "    y_test_hat = model.predict_proba(test_data)[:, 1]\n",
    "    dfr['score'] = y_test_hat\n",
    "    dfr['predict_label'] = model.predict(test_data)\n",
    "    dfr = dfr.sort_values('score', ascending=False)\n",
    "    dfr['order'] = range(1, dfr.shape[0] + 1)\n",
    "    print(dfr[dfr.true_label == 1])\n",
    "    return dfr"
   ]
  },
  {
   "cell_type": "code",
   "execution_count": 102,
   "metadata": {},
   "outputs": [
    {
     "data": {
      "text/plain": [
       "(208305, 10)"
      ]
     },
     "execution_count": 102,
     "metadata": {},
     "output_type": "execute_result"
    }
   ],
   "source": [
    "X_test.shape"
   ]
  },
  {
   "cell_type": "code",
   "execution_count": 101,
   "metadata": {},
   "outputs": [
    {
     "name": "stdout",
     "output_type": "stream",
     "text": [
      "0    208305\n",
      "dtype: int64\n"
     ]
    },
    {
     "name": "stderr",
     "output_type": "stream",
     "text": [
      "/Users/luoyonggui/anaconda3/lib/python3.7/site-packages/sklearn/metrics/classification.py:1437: UndefinedMetricWarning: Precision and F-score are ill-defined and being set to 0.0 in labels with no predicted samples.\n",
      "  'precision', 'predicted', average, warn_for)\n"
     ]
    },
    {
     "name": "stdout",
     "output_type": "stream",
     "text": [
      "              precision    recall  f1-score   support\n",
      "\n",
      "           0       1.00      1.00      1.00    208100\n",
      "           1       0.00      0.00      0.00       205\n",
      "\n",
      "    accuracy                           1.00    208305\n",
      "   macro avg       0.50      0.50      0.50    208305\n",
      "weighted avg       1.00      1.00      1.00    208305\n",
      "\n",
      "         true_label     score  predict_label   order\n",
      "958400            1  0.471337              0       4\n",
      "125400            1  0.428180              0      46\n",
      "168800            1  0.412973              0      93\n",
      "58800             1  0.409844              0     104\n",
      "1860400           1  0.394665              0     148\n",
      "...             ...       ...            ...     ...\n",
      "265571            1  0.004100              0  179877\n",
      "974383            1  0.003933              0  182775\n",
      "1298148           1  0.003745              0  185544\n",
      "1310507           1  0.003516              0  190538\n",
      "1989783           1  0.003029              0  195754\n",
      "\n",
      "[205 rows x 4 columns]\n"
     ]
    },
    {
     "data": {
      "text/html": [
       "<div>\n",
       "<style scoped>\n",
       "    .dataframe tbody tr th:only-of-type {\n",
       "        vertical-align: middle;\n",
       "    }\n",
       "\n",
       "    .dataframe tbody tr th {\n",
       "        vertical-align: top;\n",
       "    }\n",
       "\n",
       "    .dataframe thead th {\n",
       "        text-align: right;\n",
       "    }\n",
       "</style>\n",
       "<table border=\"1\" class=\"dataframe\">\n",
       "  <thead>\n",
       "    <tr style=\"text-align: right;\">\n",
       "      <th></th>\n",
       "      <th>true_label</th>\n",
       "      <th>score</th>\n",
       "      <th>predict_label</th>\n",
       "      <th>order</th>\n",
       "    </tr>\n",
       "  </thead>\n",
       "  <tbody>\n",
       "    <tr>\n",
       "      <th>241200</th>\n",
       "      <td>0</td>\n",
       "      <td>0.499405</td>\n",
       "      <td>0</td>\n",
       "      <td>1</td>\n",
       "    </tr>\n",
       "    <tr>\n",
       "      <th>26000</th>\n",
       "      <td>0</td>\n",
       "      <td>0.477325</td>\n",
       "      <td>0</td>\n",
       "      <td>2</td>\n",
       "    </tr>\n",
       "    <tr>\n",
       "      <th>1906400</th>\n",
       "      <td>0</td>\n",
       "      <td>0.471995</td>\n",
       "      <td>0</td>\n",
       "      <td>3</td>\n",
       "    </tr>\n",
       "    <tr>\n",
       "      <th>958400</th>\n",
       "      <td>1</td>\n",
       "      <td>0.471337</td>\n",
       "      <td>0</td>\n",
       "      <td>4</td>\n",
       "    </tr>\n",
       "    <tr>\n",
       "      <th>602600</th>\n",
       "      <td>0</td>\n",
       "      <td>0.454994</td>\n",
       "      <td>0</td>\n",
       "      <td>5</td>\n",
       "    </tr>\n",
       "    <tr>\n",
       "      <th>...</th>\n",
       "      <td>...</td>\n",
       "      <td>...</td>\n",
       "      <td>...</td>\n",
       "      <td>...</td>\n",
       "    </tr>\n",
       "    <tr>\n",
       "      <th>178187</th>\n",
       "      <td>0</td>\n",
       "      <td>0.000198</td>\n",
       "      <td>0</td>\n",
       "      <td>208301</td>\n",
       "    </tr>\n",
       "    <tr>\n",
       "      <th>855179</th>\n",
       "      <td>0</td>\n",
       "      <td>0.000195</td>\n",
       "      <td>0</td>\n",
       "      <td>208302</td>\n",
       "    </tr>\n",
       "    <tr>\n",
       "      <th>289974</th>\n",
       "      <td>0</td>\n",
       "      <td>0.000195</td>\n",
       "      <td>0</td>\n",
       "      <td>208303</td>\n",
       "    </tr>\n",
       "    <tr>\n",
       "      <th>1708754</th>\n",
       "      <td>0</td>\n",
       "      <td>0.000190</td>\n",
       "      <td>0</td>\n",
       "      <td>208304</td>\n",
       "    </tr>\n",
       "    <tr>\n",
       "      <th>1387963</th>\n",
       "      <td>0</td>\n",
       "      <td>0.000146</td>\n",
       "      <td>0</td>\n",
       "      <td>208305</td>\n",
       "    </tr>\n",
       "  </tbody>\n",
       "</table>\n",
       "<p>208305 rows × 4 columns</p>\n",
       "</div>"
      ],
      "text/plain": [
       "         true_label     score  predict_label   order\n",
       "241200            0  0.499405              0       1\n",
       "26000             0  0.477325              0       2\n",
       "1906400           0  0.471995              0       3\n",
       "958400            1  0.471337              0       4\n",
       "602600            0  0.454994              0       5\n",
       "...             ...       ...            ...     ...\n",
       "178187            0  0.000198              0  208301\n",
       "855179            0  0.000195              0  208302\n",
       "289974            0  0.000195              0  208303\n",
       "1708754           0  0.000190              0  208304\n",
       "1387963           0  0.000146              0  208305\n",
       "\n",
       "[208305 rows x 4 columns]"
      ]
     },
     "execution_count": 101,
     "metadata": {},
     "output_type": "execute_result"
    }
   ],
   "source": [
    "val(model, X_test, y_test, cat_cols)"
   ]
  },
  {
   "cell_type": "code",
   "execution_count": 17,
   "metadata": {},
   "outputs": [],
   "source": [
    "dft.name='item_id'"
   ]
  },
  {
   "cell_type": "code",
   "execution_count": 18,
   "metadata": {},
   "outputs": [
    {
     "data": {
      "text/html": [
       "<div>\n",
       "<style scoped>\n",
       "    .dataframe tbody tr th:only-of-type {\n",
       "        vertical-align: middle;\n",
       "    }\n",
       "\n",
       "    .dataframe tbody tr th {\n",
       "        vertical-align: top;\n",
       "    }\n",
       "\n",
       "    .dataframe thead th {\n",
       "        text-align: right;\n",
       "    }\n",
       "</style>\n",
       "<table border=\"1\" class=\"dataframe\">\n",
       "  <thead>\n",
       "    <tr style=\"text-align: right;\">\n",
       "      <th></th>\n",
       "      <th>index</th>\n",
       "      <th>score1</th>\n",
       "      <th>rank1</th>\n",
       "    </tr>\n",
       "  </thead>\n",
       "  <tbody>\n",
       "    <tr>\n",
       "      <th>0</th>\n",
       "      <td>79868</td>\n",
       "      <td>6.019197</td>\n",
       "      <td>1.0</td>\n",
       "    </tr>\n",
       "    <tr>\n",
       "      <th>1</th>\n",
       "      <td>15844</td>\n",
       "      <td>5.328522</td>\n",
       "      <td>2.0</td>\n",
       "    </tr>\n",
       "    <tr>\n",
       "      <th>2</th>\n",
       "      <td>10528</td>\n",
       "      <td>5.246875</td>\n",
       "      <td>3.0</td>\n",
       "    </tr>\n",
       "    <tr>\n",
       "      <th>3</th>\n",
       "      <td>113564</td>\n",
       "      <td>5.100132</td>\n",
       "      <td>4.0</td>\n",
       "    </tr>\n",
       "    <tr>\n",
       "      <th>4</th>\n",
       "      <td>20389</td>\n",
       "      <td>4.636769</td>\n",
       "      <td>5.0</td>\n",
       "    </tr>\n",
       "    <tr>\n",
       "      <th>...</th>\n",
       "      <td>...</td>\n",
       "      <td>...</td>\n",
       "      <td>...</td>\n",
       "    </tr>\n",
       "    <tr>\n",
       "      <th>495</th>\n",
       "      <td>100781</td>\n",
       "      <td>0.956455</td>\n",
       "      <td>496.0</td>\n",
       "    </tr>\n",
       "    <tr>\n",
       "      <th>496</th>\n",
       "      <td>27555</td>\n",
       "      <td>0.955564</td>\n",
       "      <td>497.0</td>\n",
       "    </tr>\n",
       "    <tr>\n",
       "      <th>497</th>\n",
       "      <td>34764</td>\n",
       "      <td>0.953188</td>\n",
       "      <td>498.0</td>\n",
       "    </tr>\n",
       "    <tr>\n",
       "      <th>498</th>\n",
       "      <td>73319</td>\n",
       "      <td>0.953118</td>\n",
       "      <td>499.0</td>\n",
       "    </tr>\n",
       "    <tr>\n",
       "      <th>499</th>\n",
       "      <td>2116</td>\n",
       "      <td>0.952860</td>\n",
       "      <td>500.0</td>\n",
       "    </tr>\n",
       "  </tbody>\n",
       "</table>\n",
       "<p>500 rows × 3 columns</p>\n",
       "</div>"
      ],
      "text/plain": [
       "      index    score1  rank1\n",
       "0     79868  6.019197    1.0\n",
       "1     15844  5.328522    2.0\n",
       "2     10528  5.246875    3.0\n",
       "3    113564  5.100132    4.0\n",
       "4     20389  4.636769    5.0\n",
       "..      ...       ...    ...\n",
       "495  100781  0.956455  496.0\n",
       "496   27555  0.955564  497.0\n",
       "497   34764  0.953188  498.0\n",
       "498   73319  0.953118  499.0\n",
       "499    2116  0.952860  500.0\n",
       "\n",
       "[500 rows x 3 columns]"
      ]
     },
     "execution_count": 18,
     "metadata": {},
     "output_type": "execute_result"
    }
   ],
   "source": [
    "dft.reset_index()"
   ]
  },
  {
   "cell_type": "code",
   "execution_count": 15,
   "metadata": {},
   "outputs": [
    {
     "data": {
      "text/html": [
       "<div>\n",
       "<style scoped>\n",
       "    .dataframe tbody tr th:only-of-type {\n",
       "        vertical-align: middle;\n",
       "    }\n",
       "\n",
       "    .dataframe tbody tr th {\n",
       "        vertical-align: top;\n",
       "    }\n",
       "\n",
       "    .dataframe thead th {\n",
       "        text-align: right;\n",
       "    }\n",
       "</style>\n",
       "<table border=\"1\" class=\"dataframe\">\n",
       "  <thead>\n",
       "    <tr style=\"text-align: right;\">\n",
       "      <th></th>\n",
       "      <th>score1</th>\n",
       "      <th>rank1</th>\n",
       "    </tr>\n",
       "  </thead>\n",
       "  <tbody>\n",
       "    <tr>\n",
       "      <th>79868</th>\n",
       "      <td>6.019197</td>\n",
       "      <td>1.0</td>\n",
       "    </tr>\n",
       "    <tr>\n",
       "      <th>15844</th>\n",
       "      <td>5.328522</td>\n",
       "      <td>2.0</td>\n",
       "    </tr>\n",
       "    <tr>\n",
       "      <th>10528</th>\n",
       "      <td>5.246875</td>\n",
       "      <td>3.0</td>\n",
       "    </tr>\n",
       "    <tr>\n",
       "      <th>113564</th>\n",
       "      <td>5.100132</td>\n",
       "      <td>4.0</td>\n",
       "    </tr>\n",
       "    <tr>\n",
       "      <th>20389</th>\n",
       "      <td>4.636769</td>\n",
       "      <td>5.0</td>\n",
       "    </tr>\n",
       "    <tr>\n",
       "      <th>...</th>\n",
       "      <td>...</td>\n",
       "      <td>...</td>\n",
       "    </tr>\n",
       "    <tr>\n",
       "      <th>100781</th>\n",
       "      <td>0.956455</td>\n",
       "      <td>496.0</td>\n",
       "    </tr>\n",
       "    <tr>\n",
       "      <th>27555</th>\n",
       "      <td>0.955564</td>\n",
       "      <td>497.0</td>\n",
       "    </tr>\n",
       "    <tr>\n",
       "      <th>34764</th>\n",
       "      <td>0.953188</td>\n",
       "      <td>498.0</td>\n",
       "    </tr>\n",
       "    <tr>\n",
       "      <th>73319</th>\n",
       "      <td>0.953118</td>\n",
       "      <td>499.0</td>\n",
       "    </tr>\n",
       "    <tr>\n",
       "      <th>2116</th>\n",
       "      <td>0.952860</td>\n",
       "      <td>500.0</td>\n",
       "    </tr>\n",
       "  </tbody>\n",
       "</table>\n",
       "<p>500 rows × 2 columns</p>\n",
       "</div>"
      ],
      "text/plain": [
       "          score1  rank1\n",
       "79868   6.019197    1.0\n",
       "15844   5.328522    2.0\n",
       "10528   5.246875    3.0\n",
       "113564  5.100132    4.0\n",
       "20389   4.636769    5.0\n",
       "...          ...    ...\n",
       "100781  0.956455  496.0\n",
       "27555   0.955564  497.0\n",
       "34764   0.953188  498.0\n",
       "73319   0.953118  499.0\n",
       "2116    0.952860  500.0\n",
       "\n",
       "[500 rows x 2 columns]"
      ]
     },
     "execution_count": 15,
     "metadata": {},
     "output_type": "execute_result"
    }
   ],
   "source": [
    "dft"
   ]
  },
  {
   "cell_type": "code",
   "execution_count": null,
   "metadata": {},
   "outputs": [],
   "source": []
  }
 ],
 "metadata": {
  "kernelspec": {
   "display_name": "Python 3",
   "language": "python",
   "name": "python3"
  },
  "language_info": {
   "codemirror_mode": {
    "name": "ipython",
    "version": 3
   },
   "file_extension": ".py",
   "mimetype": "text/x-python",
   "name": "python",
   "nbconvert_exporter": "python",
   "pygments_lexer": "ipython3",
   "version": "3.7.3"
  },
  "toc": {
   "base_numbering": 1,
   "nav_menu": {},
   "number_sections": true,
   "sideBar": true,
   "skip_h1_title": false,
   "title_cell": "Table of Contents",
   "title_sidebar": "Contents",
   "toc_cell": false,
   "toc_position": {
    "height": "calc(100% - 180px)",
    "left": "10px",
    "top": "150px",
    "width": "211.6px"
   },
   "toc_section_display": true,
   "toc_window_display": true
  }
 },
 "nbformat": 4,
 "nbformat_minor": 2
}
