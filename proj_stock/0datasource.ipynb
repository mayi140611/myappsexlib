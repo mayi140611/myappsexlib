{
 "cells": [
  {
   "cell_type": "code",
   "execution_count": 1,
   "metadata": {},
   "outputs": [],
   "source": [
    "# default_exp datasource"
   ]
  },
  {
   "cell_type": "code",
   "execution_count": 19,
   "metadata": {},
   "outputs": [],
   "source": [
    "# export\n",
    "import pandas as pd\n",
    "import numpy as np\n",
    "import requests\n",
    "import json\n",
    "import os\n",
    "from datetime import datetime"
   ]
  },
  {
   "cell_type": "code",
   "execution_count": 17,
   "metadata": {},
   "outputs": [],
   "source": [
    "pd.set_option('display.max_rows', 200)\n",
    "pd.set_option('display.max_columns', 100)  # 设置显示数据的最大列数，防止出现省略号…，导致数据显示不全\n",
    "pd.set_option('expand_frame_repr', False)  # 当列太多时不自动换行\n",
    "import matplotlib.pyplot as plt\n",
    "%matplotlib inline\n",
    "# 支持中文显示\n",
    "plt.rcParams['font.sans-serif'] = ['Arial Unicode MS']\n",
    "plt.rcParams['axes.unicode_minus'] = False"
   ]
  },
  {
   "cell_type": "markdown",
   "metadata": {},
   "source": [
    "# stock_dict"
   ]
  },
  {
   "cell_type": "code",
   "execution_count": 48,
   "metadata": {},
   "outputs": [],
   "source": [
    "# export\n",
    "stock_dict = {\n",
    "    # \n",
    "    '大盘': 'sh000001',\n",
    "    '上证50': 'sh510050',\n",
    "    '沪深300': 'sh510300',\n",
    "    '军工ETF': 'sh512660',\n",
    "    '证券ETF': 'sh512880',\n",
    "    '银行ETF': 'sh512800',\n",
    "    '环保ETF': 'sh512580',\n",
    "    '医药ETF': 'sh512010',\n",
    "    '红利ETF': 'sh510880',\n",
    "    '消费ETF': 'sh510150',\n",
    "    '传媒ETF': 'sh512980',\n",
    "    '科技ETF': 'sh515000',\n",
    "    '半导体': 'sh512480',\n",
    "    '信息技术ETF': 'sz159939',\n",
    "    '通信ETF': 'sh515880',\n",
    "    '国债ETF': 'sZ511010',\n",
    "    '黄金ETF': 'sh518880',\n",
    "    '500ETF': 'sh510500',\n",
    "    '创业板ETF': 'sz159915',\n",
    "}"
   ]
  },
  {
   "cell_type": "code",
   "execution_count": 9,
   "metadata": {},
   "outputs": [],
   "source": [
    "# export\n",
    "class DataSource(object):\n",
    "    def __init__(self, code, startDate=None, endDate=None, dataLen=None, verbose=True, plot=False, keepRowData=False):\n",
    "        \"\"\"\n",
    "\n",
    "        :keepRowData: bool. 是否保留self._rawData\n",
    "        \"\"\"\n",
    "        if code in stock_dict:\n",
    "            code = stock_dict[code]\n",
    "        self._rawData = self.fetch(\n",
    "            code, startDate, endDate, dataLen, verbose)  # 直接得到的未经处理原始数据\n",
    "        if keepRowData:\n",
    "            data = self._rawData.copy()\n",
    "        else:\n",
    "            data = self._rawData\n",
    "        self.data = self.transform(data)  # 标准数据\n",
    "\n",
    "    def fetch(self, code, startDate=None, endDate=None, dataLen=None):\n",
    "        \"\"\"\n",
    "        从数据源获取数据，需要子类重新实现\n",
    "        \"\"\"\n",
    "        return pd.DataFrame()\n",
    "\n",
    "    def transform(self, raw_data):\n",
    "        \"\"\"\n",
    "        把fetch到的原始数据转换为标准数据，需要子类重新实现\n",
    "        \"\"\"\n",
    "        return pd.DataFrame()"
   ]
  },
  {
   "cell_type": "markdown",
   "metadata": {},
   "source": [
    "## SinaDataSource"
   ]
  },
  {
   "cell_type": "code",
   "execution_count": 60,
   "metadata": {},
   "outputs": [],
   "source": [
    "# export\n",
    "class SinaDataSource(DataSource):\n",
    "    def fetch(self, code, startDate=None, endDate=None, dataLen=None, verbose=False, plot=False):\n",
    "        \n",
    "        return get_hist_k_data(code, startDate, endDate, dataLen, verbose, plot)\n",
    "    def transform(self, raw_data):\n",
    "        _tmp = raw_data\n",
    "        _tmp['t'] = _tmp.close.shift(1)\n",
    "        _tmp['close_pct'] =(_tmp.close / _tmp.t - 1).map(lambda x: round(x, 3), na_action='ignore')\n",
    "        _tmp['close_pct_log'] =(_tmp.close / _tmp.t).map(lambda x: round(np.log(x), 3), na_action='ignore')\n",
    "        \n",
    "        # 振幅\n",
    "        _tmp['振幅'] = ((_tmp.high - _tmp.low) / _tmp.t).map(lambda x: round(x, 3), na_action='ignore')\n",
    "        _tmp.loc[_tmp.close_pct < 0, '振幅'] =  _tmp.loc[_tmp.close_pct < 0, '振幅'] * (-1)\n",
    "        \n",
    "        _tmp['t'] = _tmp.volume.shift(1)\n",
    "        _tmp['volume_pct'] =(_tmp.volume / _tmp.t - 1).map(lambda x: round(x, 3), na_action='ignore')\n",
    "        _tmp['volume_pct_log'] =(_tmp.volume / _tmp.t).map(lambda x: round(np.log(x), 3), na_action='ignore')\n",
    "        \n",
    "        # 均线\n",
    "        for d in [5, 10, 20, 60]:\n",
    "            for c in 'close volume'.split():\n",
    "                _tmp[f'{c}_ma{d}'] = _tmp[c].rolling(d).mean()\n",
    "                # 当前值偏离均值的程度\n",
    "                _tmp[f'{c}_ma{d}_diff_pct'] = ((_tmp[c] - _tmp[f'{c}_ma{d}'])/_tmp[f'{c}_ma{d}']).map(lambda x: round(x, 3), na_action='ignore')\n",
    "                # 均值的斜率\n",
    "                _tmp['t1'] = _tmp[f'{c}_ma{d}'].shift(1)\n",
    "                _tmp['t2'] = _tmp[f'{c}_ma{d}'].shift(2)\n",
    "                _tmp[f'{c}_ma{d}_grad1'] = _tmp[f'{c}_ma{d}']/_tmp['t1']\n",
    "                _tmp[f'{c}_ma{d}_grad2'] = _tmp[f'{c}_ma{d}']/_tmp['t2']\n",
    "                _tmp[f'{c}_ma{d}_grad12_diff'] = _tmp[f'{c}_ma{d}_grad1'] - _tmp[f'{c}_ma{d}_grad2']\n",
    "                \n",
    "                # 累计涨幅\n",
    "                _tmp[f'{c}_pct_log_sum{d}'] = _tmp[f'{c}_pct_log'].rolling(d).sum()\n",
    "        del _tmp['t'], _tmp['t1'], _tmp['t2']\n",
    "        return _tmp"
   ]
  },
  {
   "cell_type": "markdown",
   "metadata": {},
   "source": [
    "## get_hist_k_data(code, datalen)\n",
    "获取最近datalen天的code的行情数据"
   ]
  },
  {
   "cell_type": "code",
   "execution_count": 25,
   "metadata": {},
   "outputs": [
    {
     "data": {
      "text/plain": [
       "7336"
      ]
     },
     "execution_count": 25,
     "metadata": {},
     "output_type": "execute_result"
    }
   ],
   "source": [
    "(pd.to_datetime('2020-11-10') - pd.to_datetime('20001010')).days"
   ]
  },
  {
   "cell_type": "code",
   "execution_count": 26,
   "metadata": {},
   "outputs": [
    {
     "data": {
      "text/plain": [
       "7221"
      ]
     },
     "execution_count": 26,
     "metadata": {},
     "output_type": "execute_result"
    }
   ],
   "source": [
    "(datetime.now() - pd.to_datetime('20001010')).days"
   ]
  },
  {
   "cell_type": "code",
   "execution_count": 39,
   "metadata": {},
   "outputs": [
    {
     "data": {
      "text/plain": [
       "Timedelta('7221 days 07:54:32.166605')"
      ]
     },
     "execution_count": 39,
     "metadata": {},
     "output_type": "execute_result"
    }
   ],
   "source": [
    "(datetime.now() - pd.to_datetime('20001010'))"
   ]
  },
  {
   "cell_type": "code",
   "execution_count": 52,
   "metadata": {},
   "outputs": [],
   "source": [
    "end_date = pd.to_datetime('20001010')"
   ]
  },
  {
   "cell_type": "code",
   "execution_count": 54,
   "metadata": {},
   "outputs": [
    {
     "data": {
      "text/plain": [
       "'20001010'"
      ]
     },
     "execution_count": 54,
     "metadata": {},
     "output_type": "execute_result"
    }
   ],
   "source": [
    "end_date.strftime('%Y%m%d')"
   ]
  },
  {
   "cell_type": "code",
   "execution_count": 46,
   "metadata": {},
   "outputs": [],
   "source": [
    "# export\n",
    "def get_hist_k_data(code, start_date=None, end_date=None, datalen=None, verbose=False, plot=False):\n",
    "    \"\"\"\n",
    "    \n",
    "    \"\"\"\n",
    "    if end_date:\n",
    "        end_date = pd.to_datetime(end_date)\n",
    "    else:\n",
    "        end_date = datetime.now()\n",
    "    if start_date:\n",
    "        datalen = (end_date - pd.to_datetime(start_date)).days\n",
    "        print(datalen)\n",
    "    if datalen is None: \n",
    "        return None\n",
    "    print(f'code:{code}, start_date: {start_date}, end_date: {end_date.strftime(\"%Y%m%d\")}, datalen: {datalen}')\n",
    "    r = requests.get('http://money.finance.sina.com.cn/quotes_service/api/json_v2.php/'\n",
    "                     +'CN_MarketData.getKLineData?symbol={}&scale=240&ma=no&datalen={}'.format(code, datalen))\n",
    "    rs = r.text\n",
    "    cols_num = ['open', 'high', 'low', 'close', 'volume']\n",
    "    cols = ['day'] + cols_num\n",
    "    df1 = pd.DataFrame(json.loads(rs))\n",
    "    df1.loc[:, cols_num] = df1.loc[:, cols_num].applymap(float)\n",
    "    df1.loc[:, 'day'] = pd.to_datetime(df1.day)\n",
    "    df1 = df1[(start_date<=df1.day)&(df1.day<=end_date)]\n",
    "    df1.set_index('day', inplace=True)\n",
    "    if verbose:\n",
    "        print(df1.head(2))\n",
    "        print(df1.tail(2))\n",
    "    if plot:\n",
    "        df1.close.plot()\n",
    "        \n",
    "    return df1"
   ]
  },
  {
   "cell_type": "code",
   "execution_count": 49,
   "metadata": {
    "scrolled": true
   },
   "outputs": [
    {
     "name": "stdout",
     "output_type": "stream",
     "text": [
      "870\n",
      "               open     high      low    close       volume\n",
      "day                                                        \n",
      "2018-03-01  3235.09  3280.15  3228.59  3273.76  15909832000\n",
      "2018-03-02  3248.45  3269.94  3242.27  3254.53  15086106300\n",
      "               open     high      low    close       volume\n",
      "day                                                        \n",
      "2020-07-16  3356.36  3373.53  3209.73   3210.1  49061312300\n",
      "2020-07-17   3214.4  3252.78  3181.28  3214.13  35965241300\n"
     ]
    },
    {
     "data": {
      "image/png": "[encoded data removed]",
      "text/plain": [
       "<Figure size 432x288 with 1 Axes>"
      ]
     },
     "metadata": {
      "needs_background": "light"
     },
     "output_type": "display_data"
    }
   ],
   "source": [
    "df = get_hist_k_data(stock_dict['大盘'], start_date='20180301', verbose=True, plot=True)"
   ]
  },
  {
   "cell_type": "code",
   "execution_count": 47,
   "metadata": {
    "scrolled": true
   },
   "outputs": [
    {
     "name": "stdout",
     "output_type": "stream",
     "text": [
      "870\n",
      "            open   high    low  close     volume\n",
      "day                                             \n",
      "2018-03-01     4  4.067  3.993  4.049  118636949\n",
      "2018-03-02  4.02  4.043  4.008  4.022   90614682\n",
      "            open   high    low  close      volume\n",
      "day                                              \n",
      "2020-07-16  4.79  4.828   4.55  4.556  1289918063\n",
      "2020-07-17  4.57  4.654  4.541  4.605   904292349\n"
     ]
    },
    {
     "data": {
      "image/png": "[encoded data removed]",
      "text/plain": [
       "<Figure size 432x288 with 1 Axes>"
      ]
     },
     "metadata": {
      "needs_background": "light"
     },
     "output_type": "display_data"
    }
   ],
   "source": [
    "df = get_hist_k_data('sh510300', start_date='20180301', verbose=True, plot=True)"
   ]
  },
  {
   "cell_type": "code",
   "execution_count": 28,
   "metadata": {
    "scrolled": true
   },
   "outputs": [
    {
     "name": "stdout",
     "output_type": "stream",
     "text": [
      "                  day   open   high    low  close     volume\n",
      "day                                                         \n",
      "2018-06-28 2018-06-28   3.45  3.499   3.44  3.446  162531044\n",
      "2018-06-29 2018-06-29  3.449  3.543  3.449  3.537  170604955\n",
      "                  day  open   high    low  close      volume\n",
      "day                                                         \n",
      "2020-07-16 2020-07-16  4.79  4.828   4.55  4.556  1289918063\n",
      "2020-07-17 2020-07-17  4.57  4.654  4.541  4.605   904292349\n"
     ]
    },
    {
     "data": {
      "image/png": "[encoded data removed]",
      "text/plain": [
       "<Figure size 432x288 with 1 Axes>"
      ]
     },
     "metadata": {
      "needs_background": "light"
     },
     "output_type": "display_data"
    }
   ],
   "source": [
    "df = get_hist_k_data('sh510300', datalen=500, verbose=True, plot=True)"
   ]
  },
  {
   "cell_type": "code",
   "execution_count": null,
   "metadata": {},
   "outputs": [],
   "source": [
    "model"
   ]
  },
  {
   "cell_type": "markdown",
   "metadata": {},
   "source": [
    "# nbexport"
   ]
  },
  {
   "cell_type": "code",
   "execution_count": 76,
   "metadata": {
    "scrolled": true
   },
   "outputs": [
    {
     "name": "stdout",
     "output_type": "stream",
     "text": [
      "Converted 0datasource.ipynb.\n"
     ]
    }
   ],
   "source": [
    "from nbdev.export import *\n",
    "notebook2script('0datasource.ipynb')"
   ]
  },
  {
   "cell_type": "code",
   "execution_count": null,
   "metadata": {},
   "outputs": [],
   "source": []
  }
 ],
 "metadata": {
  "kernelspec": {
   "display_name": "Python 3",
   "language": "python",
   "name": "python3"
  },
  "language_info": {
   "codemirror_mode": {
    "name": "ipython",
    "version": 3
   },
   "file_extension": ".py",
   "mimetype": "text/x-python",
   "name": "python",
   "nbconvert_exporter": "python",
   "pygments_lexer": "ipython3",
   "version": "3.7.3"
  },
  "toc": {
   "base_numbering": 1,
   "nav_menu": {},
   "number_sections": true,
   "sideBar": true,
   "skip_h1_title": false,
   "title_cell": "Table of Contents",
   "title_sidebar": "Contents",
   "toc_cell": false,
   "toc_position": {
    "height": "calc(100% - 180px)",
    "left": "10px",
    "top": "150px",
    "width": "288px"
   },
   "toc_section_display": true,
   "toc_window_display": true
  },
  "varInspector": {
   "cols": {
    "lenName": 16,
    "lenType": 16,
    "lenVar": 40
   },
   "kernels_config": {
    "python": {
     "delete_cmd_postfix": "",
     "delete_cmd_prefix": "del ",
     "library": "var_list.py",
     "varRefreshCmd": "print(var_dic_list())"
    },
    "r": {
     "delete_cmd_postfix": ") ",
     "delete_cmd_prefix": "rm(",
     "library": "var_list.r",
     "varRefreshCmd": "cat(var_dic_list()) "
    }
   },
   "types_to_exclude": [
    "module",
    "function",
    "builtin_function_or_method",
    "instance",
    "_Feature"
   ],
   "window_display": false
  }
 },
 "nbformat": 4,
 "nbformat_minor": 2
}
