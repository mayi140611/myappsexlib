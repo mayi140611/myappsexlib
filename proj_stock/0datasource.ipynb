{
 "cells": [
  {
   "cell_type": "code",
   "execution_count": 1,
   "metadata": {},
   "outputs": [],
   "source": [
    "# default_exp datasource"
   ]
  },
  {
   "cell_type": "code",
   "execution_count": 61,
   "metadata": {},
   "outputs": [],
   "source": [
    "# export\n",
    "import pandas as pd\n",
    "import numpy as np\n",
    "import requests\n",
    "import json\n",
    "import os\n",
    "from datetime import datetime"
   ]
  },
  {
   "cell_type": "code",
   "execution_count": 62,
   "metadata": {},
   "outputs": [],
   "source": [
    "pd.set_option('display.max_rows', 200)\n",
    "pd.set_option('display.max_columns', 100)  # 设置显示数据的最大列数，防止出现省略号…，导致数据显示不全\n",
    "pd.set_option('expand_frame_repr', False)  # 当列太多时不自动换行\n",
    "import matplotlib.pyplot as plt\n",
    "%matplotlib inline\n",
    "# 支持中文显示\n",
    "plt.rcParams['font.sans-serif'] = ['Arial Unicode MS']\n",
    "plt.rcParams['axes.unicode_minus'] = False"
   ]
  },
  {
   "cell_type": "markdown",
   "metadata": {},
   "source": [
    "# stock_dict"
   ]
  },
  {
   "cell_type": "code",
   "execution_count": 27,
   "metadata": {},
   "outputs": [],
   "source": [
    "# export\n",
    "stock_dict = {\n",
    "    # \n",
    "    '大盘': 'sh000001',\n",
    "    '上证50': 'sh510050',\n",
    "    '沪深300': 'sh510300',\n",
    "    '军工ETF': 'sh512660',\n",
    "    '证券ETF': 'sh512880',\n",
    "    '银行ETF': 'sh512800',\n",
    "    '环保ETF': 'sh512580',\n",
    "    '医药ETF': 'sh512010',\n",
    "    '红利ETF': 'sh510880',\n",
    "    '消费ETF': 'sh510150',\n",
    "    '传媒ETF': 'sh512980',\n",
    "    '科技ETF': 'sh515000',\n",
    "    '半导体': 'sh512480',\n",
    "    '信息技术ETF': 'sz159939',\n",
    "    '通信ETF': 'sh515880',\n",
    "    '国债ETF': 'sZ511010',\n",
    "    '黄金ETF': 'sh518880',\n",
    "    '500ETF': 'sh510500',\n",
    "    '创业板ETF': 'sz159915',\n",
    "}"
   ]
  },
  {
   "cell_type": "code",
   "execution_count": 28,
   "metadata": {},
   "outputs": [],
   "source": [
    "# export\n",
    "class DataSource(object):\n",
    "    def __init__(self, code, startDate=None, endDate=None, dataLen=None, verbose=True, plot=False, keepRowData=False):\n",
    "        \"\"\"\n",
    "\n",
    "        :keepRowData: bool. 是否保留self._rawData\n",
    "        \"\"\"\n",
    "        if code in stock_dict:\n",
    "            code = stock_dict[code]\n",
    "        self._rawData = self.fetch(\n",
    "            code, startDate, endDate, dataLen, verbose)  # 直接得到的未经处理原始数据\n",
    "        if keepRowData:\n",
    "            data = self._rawData.copy()\n",
    "        else:\n",
    "            data = self._rawData\n",
    "        self.data = self.transform(data)  # 标准数据\n",
    "\n",
    "    def fetch(self, code, startDate=None, endDate=None, dataLen=None):\n",
    "        \"\"\"\n",
    "        从数据源获取数据，需要子类重新实现\n",
    "        \"\"\"\n",
    "        return pd.DataFrame()\n",
    "\n",
    "#     def transform(self, raw_data):\n",
    "#         \"\"\"\n",
    "#         把fetch到的原始数据转换为标准数据，需要子类重新实现\n",
    "#         \"\"\"\n",
    "#         return pd.DataFrame()\n",
    "    def transform(self, raw_data):\n",
    "        \"\"\"\n",
    "        把fetch到的原始数据转换为标准数据，需要子类重新实现\n",
    "        \"\"\"\n",
    "        _tmp = raw_data\n",
    "        _tmp['t'] = _tmp.close.shift(1)\n",
    "        _tmp['close_pct'] =(_tmp.close / _tmp.t - 1).map(lambda x: round(x, 3), na_action='ignore')\n",
    "        _tmp['close_pct_log'] =(_tmp.close / _tmp.t).map(lambda x: round(np.log(x), 3), na_action='ignore')\n",
    "        \n",
    "        # 振幅\n",
    "        _tmp['swing'] = ((_tmp.high - _tmp.low) / _tmp.t).map(lambda x: round(x, 3), na_action='ignore')\n",
    "        _tmp.loc[_tmp.close_pct < 0, 'swing'] =  _tmp.loc[_tmp.close_pct < 0, 'swing'] * (-1)\n",
    "        \n",
    "        _tmp['t'] = _tmp.volume.shift(1)\n",
    "        _tmp['volume_pct'] =(_tmp.volume / _tmp.t - 1).map(lambda x: round(x, 3), na_action='ignore')\n",
    "        _tmp['volume_pct_log'] =(_tmp.volume / _tmp.t).map(lambda x: round(np.log(x), 3), na_action='ignore')\n",
    "        \n",
    "        def new_high(s):\n",
    "            return int(s.iloc[-1]>=s.iloc[:-1].max())\n",
    "        def new_low(s):\n",
    "            return int(s.iloc[-1]<=s.iloc[:-1].min())\n",
    "        for d in [\n",
    "#             3, \n",
    "#             5, \n",
    "#             10, \n",
    "            20, 60, 120]:\n",
    "            for c in 'close volume'.split():\n",
    "                # 均线\n",
    "                _tmp[f'{c}_ma{d}'] = _tmp[c].rolling(d).mean()\n",
    "                # 当前值偏离均值的程度\n",
    "                _tmp[f'{c}_ma{d}_diff_pct'] = ((_tmp[c] - _tmp[f'{c}_ma{d}'])/_tmp[f'{c}_ma{d}']).map(lambda x: round(x, 3), na_action='ignore')\n",
    "                # 均值的斜率\n",
    "                _tmp['t1'] = _tmp[f'{c}_ma{d}'].shift(1)\n",
    "                _tmp['t2'] = _tmp[f'{c}_ma{d}'].shift(2)\n",
    "                _tmp['t3'] = _tmp[f'{c}_ma{d}'].shift(2)\n",
    "                _tmp[f'{c}_ma{d}_grad1'] = _tmp[f'{c}_ma{d}']/_tmp['t1']\n",
    "                _tmp[f'{c}_ma{d}_grad2'] = _tmp[f'{c}_ma{d}']/((_tmp['t2']+_tmp['t3'])/2)\n",
    "                _tmp[f'{c}_ma{d}_grad12_diff'] = _tmp[f'{c}_ma{d}_grad1'] - _tmp[f'{c}_ma{d}_grad2']\n",
    "                \n",
    "                # 累计涨幅\n",
    "                _tmp[f'{c}_pct_log_sum{d}'] = _tmp[f'{c}_pct_log'].rolling(d).sum()\n",
    "                del _tmp[f'{c}_ma{d}']\n",
    "            # high > 近n日高点 or low 跌破 近 n日低点\n",
    "            _tmp[f'high_new_{d}'] = _tmp[f'high'].rolling(d).agg(new_high)\n",
    "            _tmp[f'low_new_{d}'] = _tmp[f'low'].rolling(d).agg(new_low)\n",
    "            \n",
    "            _tmp[f'close_high_new_{d}'] = _tmp[f'close'].rolling(d).agg(new_high)\n",
    "            _tmp[f'close_low_new_{d}'] = _tmp[f'close'].rolling(d).agg(new_low)\n",
    "            \n",
    "            # 平均振幅\n",
    "            _tmp[f'swing_ma{d}'] = _tmp['swing'].rolling(d).mean()\n",
    "                \n",
    "        del _tmp['t'], _tmp['t1'], _tmp['t2'], _tmp['t3']\n",
    "        return _tmp"
   ]
  },
  {
   "cell_type": "markdown",
   "metadata": {},
   "source": [
    "## SinaDataSource"
   ]
  },
  {
   "cell_type": "code",
   "execution_count": 29,
   "metadata": {},
   "outputs": [],
   "source": [
    "# export\n",
    "class SinaDataSource(DataSource):\n",
    "    def fetch(self, code, startDate=None, endDate=None, dataLen=None, verbose=False, plot=False):\n",
    "        \n",
    "        return get_hist_k_data(code, startDate, endDate, dataLen, verbose, plot)"
   ]
  },
  {
   "cell_type": "markdown",
   "metadata": {},
   "source": [
    "### get_hist_k_data(code, datalen)\n",
    "获取最近datalen天的code的行情数据"
   ]
  },
  {
   "cell_type": "code",
   "execution_count": 25,
   "metadata": {},
   "outputs": [
    {
     "data": {
      "text/plain": [
       "7336"
      ]
     },
     "execution_count": 25,
     "metadata": {},
     "output_type": "execute_result"
    }
   ],
   "source": [
    "(pd.to_datetime('2020-11-10') - pd.to_datetime('20001010')).days"
   ]
  },
  {
   "cell_type": "code",
   "execution_count": 26,
   "metadata": {},
   "outputs": [
    {
     "data": {
      "text/plain": [
       "7221"
      ]
     },
     "execution_count": 26,
     "metadata": {},
     "output_type": "execute_result"
    }
   ],
   "source": [
    "(datetime.now() - pd.to_datetime('20001010')).days"
   ]
  },
  {
   "cell_type": "code",
   "execution_count": 39,
   "metadata": {},
   "outputs": [
    {
     "data": {
      "text/plain": [
       "Timedelta('7221 days 07:54:32.166605')"
      ]
     },
     "execution_count": 39,
     "metadata": {},
     "output_type": "execute_result"
    }
   ],
   "source": [
    "(datetime.now() - pd.to_datetime('20001010'))"
   ]
  },
  {
   "cell_type": "code",
   "execution_count": 52,
   "metadata": {},
   "outputs": [],
   "source": [
    "end_date = pd.to_datetime('20001010')"
   ]
  },
  {
   "cell_type": "code",
   "execution_count": 54,
   "metadata": {},
   "outputs": [
    {
     "data": {
      "text/plain": [
       "'20001010'"
      ]
     },
     "execution_count": 54,
     "metadata": {},
     "output_type": "execute_result"
    }
   ],
   "source": [
    "end_date.strftime('%Y%m%d')"
   ]
  },
  {
   "cell_type": "code",
   "execution_count": 46,
   "metadata": {},
   "outputs": [],
   "source": [
    "# export\n",
    "def get_hist_k_data(code, start_date=None, end_date=None, datalen=None, verbose=False, plot=False):\n",
    "    \"\"\"\n",
    "    \n",
    "    \"\"\"\n",
    "    if end_date:\n",
    "        end_date = pd.to_datetime(end_date)\n",
    "    else:\n",
    "        end_date = datetime.now()\n",
    "    if start_date:\n",
    "        datalen = (end_date - pd.to_datetime(start_date)).days\n",
    "        print(datalen)\n",
    "    if datalen is None: \n",
    "        return None\n",
    "    print(f'code:{code}, start_date: {start_date}, end_date: {end_date.strftime(\"%Y%m%d\")}, datalen: {datalen}')\n",
    "    r = requests.get('http://money.finance.sina.com.cn/quotes_service/api/json_v2.php/'\n",
    "                     +'CN_MarketData.getKLineData?symbol={}&scale=240&ma=no&datalen={}'.format(code, datalen))\n",
    "    rs = r.text\n",
    "    cols_num = ['open', 'high', 'low', 'close', 'volume']\n",
    "    cols = ['day'] + cols_num\n",
    "    df1 = pd.DataFrame(json.loads(rs))\n",
    "    df1.loc[:, cols_num] = df1.loc[:, cols_num].applymap(float)\n",
    "    df1.loc[:, 'day'] = pd.to_datetime(df1.day)\n",
    "    df1 = df1[(start_date<=df1.day)&(df1.day<=end_date)]\n",
    "    df1.set_index('day', inplace=True)\n",
    "    if verbose:\n",
    "        print(df1.head(2))\n",
    "        print(df1.tail(2))\n",
    "    if plot:\n",
    "        df1.close.plot()\n",
    "        \n",
    "    return df1"
   ]
  },
  {
   "cell_type": "code",
   "execution_count": 49,
   "metadata": {
    "scrolled": true
   },
   "outputs": [
    {
     "name": "stdout",
     "output_type": "stream",
     "text": [
      "870\n",
      "               open     high      low    close       volume\n",
      "day                                                        \n",
      "2018-03-01  3235.09  3280.15  3228.59  3273.76  15909832000\n",
      "2018-03-02  3248.45  3269.94  3242.27  3254.53  15086106300\n",
      "               open     high      low    close       volume\n",
      "day                                                        \n",
      "2020-07-16  3356.36  3373.53  3209.73   3210.1  49061312300\n",
      "2020-07-17   3214.4  3252.78  3181.28  3214.13  35965241300\n"
     ]
    },
    {
     "data": {
      "image/png": "[encoded data removed]",
      "text/plain": [
       "<Figure size 432x288 with 1 Axes>"
      ]
     },
     "metadata": {
      "needs_background": "light"
     },
     "output_type": "display_data"
    }
   ],
   "source": [
    "df = get_hist_k_data(stock_dict['大盘'], start_date='20180301', verbose=True, plot=True)"
   ]
  },
  {
   "cell_type": "code",
   "execution_count": 47,
   "metadata": {
    "scrolled": true
   },
   "outputs": [
    {
     "name": "stdout",
     "output_type": "stream",
     "text": [
      "870\n",
      "            open   high    low  close     volume\n",
      "day                                             \n",
      "2018-03-01     4  4.067  3.993  4.049  118636949\n",
      "2018-03-02  4.02  4.043  4.008  4.022   90614682\n",
      "            open   high    low  close      volume\n",
      "day                                              \n",
      "2020-07-16  4.79  4.828   4.55  4.556  1289918063\n",
      "2020-07-17  4.57  4.654  4.541  4.605   904292349\n"
     ]
    },
    {
     "data": {
      "image/png": "[encoded data removed]",
      "text/plain": [
       "<Figure size 432x288 with 1 Axes>"
      ]
     },
     "metadata": {
      "needs_background": "light"
     },
     "output_type": "display_data"
    }
   ],
   "source": [
    "df = get_hist_k_data('sh510300', start_date='20180301', verbose=True, plot=True)"
   ]
  },
  {
   "cell_type": "markdown",
   "metadata": {},
   "source": [
    "## ZqbDataSource"
   ]
  },
  {
   "cell_type": "code",
   "execution_count": 63,
   "metadata": {},
   "outputs": [],
   "source": [
    "# export\n",
    "class ZqbDataSource(DataSource):\n",
    "    def fetch(self, code, startDate=None, endDate=None, dataLen=None, verbose=False, plot=False):\n",
    "        import baostock as bs\n",
    "        # 登陆系统\n",
    "        lg = bs.login()\n",
    "        # 显示登陆返回信息\n",
    "        print('login respond error_code:'+lg.error_code)\n",
    "        print('login respond  error_msg:'+lg.error_msg)\n",
    "        # 详细指标参数，参见“历史行情指标参数”章节\n",
    "        rs = bs.query_history_k_data_plus(code,\n",
    "            \"date,open,high,low,close,volume\",\n",
    "            start_date=startDate,\n",
    "                                      end_date=endDate, \n",
    "                                          frequency=\"d\",\n",
    "                                         adjustflag='2'\n",
    "                                         )\n",
    "        # 打印结果集\n",
    "        data_list = []\n",
    "        while (rs.error_code == '0') & rs.next():\n",
    "            # 获取一条记录，将记录合并在一起\n",
    "            data_list.append(rs.get_row_data())\n",
    "        df1 = pd.DataFrame(data_list, columns=rs.fields)\n",
    "        df1.columns = \"day,open,high,low,close,volume\".split(',')\n",
    "        cols_num = ['open', 'high', 'low', 'close', 'volume']\n",
    "        df1.loc[:, cols_num] = df1.loc[:, cols_num].applymap(float)\n",
    "        df1 = df1[df1.volume>1]  # zqb取数会把交易日 但是stock停牌等情况的情况下 vol=0\n",
    "        df1.loc[:, 'day'] = pd.to_datetime(df1.day)\n",
    "        df1 = df1.set_index('day')\n",
    "        if verbose:\n",
    "            print(df1.head(2))\n",
    "            print(df1.tail(2))\n",
    "        if plot:\n",
    "            df1.close.plot()\n",
    "        return df1\n"
   ]
  },
  {
   "cell_type": "code",
   "execution_count": 64,
   "metadata": {},
   "outputs": [
    {
     "name": "stdout",
     "output_type": "stream",
     "text": [
      "login success!\n",
      "login respond error_code:0\n",
      "login respond  error_msg:success\n",
      "               open     high      low    close       volume\n",
      "day                                                        \n",
      "2010-01-04  9.45037  9.51338  9.27397  9.30547  1.67244e+07\n",
      "2010-01-05  9.30547  9.38107  8.95896  9.10386   3.5347e+07\n",
      "             open   high    low  close       volume\n",
      "day                                                \n",
      "2020-07-23  24.88  24.88     24  24.58  3.40344e+07\n",
      "2020-07-24   24.5   24.5  23.03  23.32   3.4059e+07\n"
     ]
    }
   ],
   "source": [
    "zqb = ZqbDataSource('sh.600660', \n",
    "    startDate='2010-01-01', verbose=True, plot=True)"
   ]
  },
  {
   "cell_type": "markdown",
   "metadata": {},
   "source": [
    "# zqb\n",
    "https://zhuanlan.zhihu.com/p/54299970\n",
    "\n",
    "http://baostock.com/baostock/index.php/%E9%A6%96%E9%A1%B5"
   ]
  },
  {
   "cell_type": "code",
   "execution_count": 796,
   "metadata": {},
   "outputs": [
    {
     "name": "stdout",
     "output_type": "stream",
     "text": [
      "Collecting baostock\n",
      "\u001b[?25l  Downloading https://files.pythonhosted.org/packages/43/e2/b367c78db42bafcf752442b7d582ba2a724286313d9f126c5fee06064fb2/baostock-0.8.8-py3-none-any.whl (55kB)\n",
      "\u001b[K     |████████████████████████████████| 61kB 399kB/s eta 0:00:01\n",
      "\u001b[?25hRequirement already satisfied: pandas>=0.18.0 in /Users/luoyonggui/anaconda3/lib/python3.7/site-packages (from baostock) (0.25.3)\n",
      "Requirement already satisfied: pytz>=2017.2 in /Users/luoyonggui/anaconda3/lib/python3.7/site-packages (from pandas>=0.18.0->baostock) (2018.5)\n",
      "Requirement already satisfied: python-dateutil>=2.6.1 in /Users/luoyonggui/anaconda3/lib/python3.7/site-packages (from pandas>=0.18.0->baostock) (2.7.3)\n",
      "Requirement already satisfied: numpy>=1.13.3 in /Users/luoyonggui/anaconda3/lib/python3.7/site-packages (from pandas>=0.18.0->baostock) (1.19.0)\n",
      "Requirement already satisfied: six>=1.5 in /Users/luoyonggui/anaconda3/lib/python3.7/site-packages (from python-dateutil>=2.6.1->pandas>=0.18.0->baostock) (1.14.0)\n",
      "Installing collected packages: baostock\n",
      "Successfully installed baostock-0.8.8\n"
     ]
    }
   ],
   "source": [
    "# !pip install baostock"
   ]
  },
  {
   "cell_type": "code",
   "execution_count": 47,
   "metadata": {},
   "outputs": [
    {
     "name": "stdout",
     "output_type": "stream",
     "text": [
      "login success!\n",
      "login respond error_code:0\n",
      "login respond  error_msg:success\n"
     ]
    }
   ],
   "source": [
    "import baostock as bs\n",
    "# 登陆系统\n",
    "lg = bs.login()\n",
    "# 显示登陆返回信息\n",
    "print('login respond error_code:'+lg.error_code)\n",
    "print('login respond  error_msg:'+lg.error_msg)"
   ]
  },
  {
   "cell_type": "code",
   "execution_count": 48,
   "metadata": {},
   "outputs": [
    {
     "name": "stdout",
     "output_type": "stream",
     "text": [
      "query_history_k_data_plus respond error_code:0\n",
      "query_history_k_data_plus respond  error_msg:success\n"
     ]
    }
   ],
   "source": [
    "# 详细指标参数，参见“历史行情指标参数”章节\n",
    "rs = bs.query_history_k_data_plus(\"sh.600660\",\n",
    "#     \"date,code,open,high,low,close,preclose,volume,amount,pctChg\",\n",
    "            \"date,open,high,low,close,volume\",\n",
    "    start_date='2010-01-01',\n",
    "#                               end_date='2017-06-30', \n",
    "                                  frequency=\"d\",\n",
    "                                 adjustflag='2'\n",
    "                                 )\n",
    "print('query_history_k_data_plus respond error_code:'+rs.error_code)\n",
    "print('query_history_k_data_plus respond  error_msg:'+rs.error_msg)"
   ]
  },
  {
   "cell_type": "code",
   "execution_count": 49,
   "metadata": {},
   "outputs": [
    {
     "data": {
      "text/plain": [
       "<baostock.data.resultset.ResultData at 0x1220bb390>"
      ]
     },
     "execution_count": 49,
     "metadata": {},
     "output_type": "execute_result"
    }
   ],
   "source": [
    "rs"
   ]
  },
  {
   "cell_type": "code",
   "execution_count": 50,
   "metadata": {},
   "outputs": [],
   "source": [
    "# 打印结果集\n",
    "data_list = []\n",
    "while (rs.error_code == '0') & rs.next():\n",
    "    # 获取一条记录，将记录合并在一起\n",
    "    data_list.append(rs.get_row_data())\n",
    "result = pd.DataFrame(data_list, columns=rs.fields)"
   ]
  },
  {
   "cell_type": "code",
   "execution_count": 51,
   "metadata": {},
   "outputs": [
    {
     "data": {
      "text/plain": [
       "date      object\n",
       "open      object\n",
       "high      object\n",
       "low       object\n",
       "close     object\n",
       "volume    object\n",
       "dtype: object"
      ]
     },
     "execution_count": 51,
     "metadata": {},
     "output_type": "execute_result"
    }
   ],
   "source": [
    "result.dtypes"
   ]
  },
  {
   "cell_type": "code",
   "execution_count": 53,
   "metadata": {},
   "outputs": [
    {
     "data": {
      "text/plain": [
       "count    2.566000e+03\n",
       "mean     1.536948e+07\n",
       "std      1.261536e+07\n",
       "min      0.000000e+00\n",
       "25%      7.640526e+06\n",
       "50%      1.148941e+07\n",
       "75%      1.843124e+07\n",
       "max      1.102810e+08\n",
       "Name: volume, dtype: float64"
      ]
     },
     "execution_count": 53,
     "metadata": {},
     "output_type": "execute_result"
    }
   ],
   "source": [
    "result.volume.map(float).describe()"
   ]
  },
  {
   "cell_type": "code",
   "execution_count": 56,
   "metadata": {},
   "outputs": [
    {
     "data": {
      "text/html": [
       "<div>\n",
       "<style scoped>\n",
       "    .dataframe tbody tr th:only-of-type {\n",
       "        vertical-align: middle;\n",
       "    }\n",
       "\n",
       "    .dataframe tbody tr th {\n",
       "        vertical-align: top;\n",
       "    }\n",
       "\n",
       "    .dataframe thead th {\n",
       "        text-align: right;\n",
       "    }\n",
       "</style>\n",
       "<table border=\"1\" class=\"dataframe\">\n",
       "  <thead>\n",
       "    <tr style=\"text-align: right;\">\n",
       "      <th></th>\n",
       "      <th>date</th>\n",
       "      <th>open</th>\n",
       "      <th>high</th>\n",
       "      <th>low</th>\n",
       "      <th>close</th>\n",
       "      <th>volume</th>\n",
       "    </tr>\n",
       "  </thead>\n",
       "  <tbody>\n",
       "    <tr>\n",
       "      <th>407</th>\n",
       "      <td>2011-09-05</td>\n",
       "      <td>6.1047745000</td>\n",
       "      <td>6.1047745000</td>\n",
       "      <td>6.1047745000</td>\n",
       "      <td>6.1047745000</td>\n",
       "      <td>0</td>\n",
       "    </tr>\n",
       "    <tr>\n",
       "      <th>513</th>\n",
       "      <td>2012-02-17</td>\n",
       "      <td>5.8105685000</td>\n",
       "      <td>5.8105685000</td>\n",
       "      <td>5.8105685000</td>\n",
       "      <td>5.8105685000</td>\n",
       "      <td>0</td>\n",
       "    </tr>\n",
       "    <tr>\n",
       "      <th>572</th>\n",
       "      <td>2012-05-17</td>\n",
       "      <td>5.8373145000</td>\n",
       "      <td>5.8373145000</td>\n",
       "      <td>5.8373145000</td>\n",
       "      <td>5.8373145000</td>\n",
       "      <td>0</td>\n",
       "    </tr>\n",
       "  </tbody>\n",
       "</table>\n",
       "</div>"
      ],
      "text/plain": [
       "           date          open          high           low         close volume\n",
       "407  2011-09-05  6.1047745000  6.1047745000  6.1047745000  6.1047745000      0\n",
       "513  2012-02-17  5.8105685000  5.8105685000  5.8105685000  5.8105685000      0\n",
       "572  2012-05-17  5.8373145000  5.8373145000  5.8373145000  5.8373145000      0"
      ]
     },
     "execution_count": 56,
     "metadata": {},
     "output_type": "execute_result"
    }
   ],
   "source": [
    "result[result.volume.map(float)<1]"
   ]
  },
  {
   "cell_type": "code",
   "execution_count": 57,
   "metadata": {},
   "outputs": [
    {
     "data": {
      "text/plain": [
       "date        2011-09-05\n",
       "open      6.1047745000\n",
       "high      6.1047745000\n",
       "low       6.1047745000\n",
       "close     6.1047745000\n",
       "volume               0\n",
       "Name: 407, dtype: object"
      ]
     },
     "execution_count": 57,
     "metadata": {},
     "output_type": "execute_result"
    }
   ],
   "source": [
    "result.loc[407]"
   ]
  },
  {
   "cell_type": "code",
   "execution_count": 54,
   "metadata": {},
   "outputs": [
    {
     "data": {
      "text/html": [
       "<div>\n",
       "<style scoped>\n",
       "    .dataframe tbody tr th:only-of-type {\n",
       "        vertical-align: middle;\n",
       "    }\n",
       "\n",
       "    .dataframe tbody tr th {\n",
       "        vertical-align: top;\n",
       "    }\n",
       "\n",
       "    .dataframe thead th {\n",
       "        text-align: right;\n",
       "    }\n",
       "</style>\n",
       "<table border=\"1\" class=\"dataframe\">\n",
       "  <thead>\n",
       "    <tr style=\"text-align: right;\">\n",
       "      <th></th>\n",
       "      <th>date</th>\n",
       "      <th>open</th>\n",
       "      <th>high</th>\n",
       "      <th>low</th>\n",
       "      <th>close</th>\n",
       "      <th>volume</th>\n",
       "    </tr>\n",
       "  </thead>\n",
       "  <tbody>\n",
       "    <tr>\n",
       "      <th>0</th>\n",
       "      <td>2010-01-04</td>\n",
       "      <td>9.4503750000</td>\n",
       "      <td>9.5133775000</td>\n",
       "      <td>9.2739680000</td>\n",
       "      <td>9.3054692500</td>\n",
       "      <td>16724424</td>\n",
       "    </tr>\n",
       "    <tr>\n",
       "      <th>1</th>\n",
       "      <td>2010-01-05</td>\n",
       "      <td>9.3054692500</td>\n",
       "      <td>9.3810722500</td>\n",
       "      <td>8.9589555000</td>\n",
       "      <td>9.1038612500</td>\n",
       "      <td>35346968</td>\n",
       "    </tr>\n",
       "    <tr>\n",
       "      <th>2</th>\n",
       "      <td>2010-01-06</td>\n",
       "      <td>9.1038612500</td>\n",
       "      <td>9.1983650000</td>\n",
       "      <td>8.9337545000</td>\n",
       "      <td>9.0534592500</td>\n",
       "      <td>44608991</td>\n",
       "    </tr>\n",
       "    <tr>\n",
       "      <th>3</th>\n",
       "      <td>2010-01-07</td>\n",
       "      <td>9.0093575000</td>\n",
       "      <td>9.0408587500</td>\n",
       "      <td>8.5557395000</td>\n",
       "      <td>8.6187420000</td>\n",
       "      <td>46724393</td>\n",
       "    </tr>\n",
       "    <tr>\n",
       "      <th>4</th>\n",
       "      <td>2010-01-08</td>\n",
       "      <td>8.5683400000</td>\n",
       "      <td>8.5683400000</td>\n",
       "      <td>8.2848287500</td>\n",
       "      <td>8.4927370000</td>\n",
       "      <td>33071743</td>\n",
       "    </tr>\n",
       "    <tr>\n",
       "      <th>5</th>\n",
       "      <td>2010-01-11</td>\n",
       "      <td>8.5872407500</td>\n",
       "      <td>8.6817445000</td>\n",
       "      <td>8.1903250000</td>\n",
       "      <td>8.3100297500</td>\n",
       "      <td>38053995</td>\n",
       "    </tr>\n",
       "    <tr>\n",
       "      <th>6</th>\n",
       "      <td>2010-01-12</td>\n",
       "      <td>8.3667320000</td>\n",
       "      <td>8.7573475000</td>\n",
       "      <td>8.3163300000</td>\n",
       "      <td>8.7447470000</td>\n",
       "      <td>37403294</td>\n",
       "    </tr>\n",
       "    <tr>\n",
       "      <th>7</th>\n",
       "      <td>2010-01-13</td>\n",
       "      <td>8.5053375000</td>\n",
       "      <td>8.6943450000</td>\n",
       "      <td>8.3667320000</td>\n",
       "      <td>8.4297345000</td>\n",
       "      <td>37135640</td>\n",
       "    </tr>\n",
       "    <tr>\n",
       "      <th>8</th>\n",
       "      <td>2010-01-14</td>\n",
       "      <td>8.5116377500</td>\n",
       "      <td>8.7951490000</td>\n",
       "      <td>8.4423350000</td>\n",
       "      <td>8.7510472500</td>\n",
       "      <td>45714976</td>\n",
       "    </tr>\n",
       "    <tr>\n",
       "      <th>9</th>\n",
       "      <td>2010-01-15</td>\n",
       "      <td>8.7951490000</td>\n",
       "      <td>8.9904567500</td>\n",
       "      <td>8.7636477500</td>\n",
       "      <td>8.9085535000</td>\n",
       "      <td>35303588</td>\n",
       "    </tr>\n",
       "    <tr>\n",
       "      <th>10</th>\n",
       "      <td>2010-01-18</td>\n",
       "      <td>8.9274542500</td>\n",
       "      <td>8.9841565000</td>\n",
       "      <td>8.7699480000</td>\n",
       "      <td>8.9148537500</td>\n",
       "      <td>28902381</td>\n",
       "    </tr>\n",
       "    <tr>\n",
       "      <th>11</th>\n",
       "      <td>2010-01-19</td>\n",
       "      <td>8.9148537500</td>\n",
       "      <td>8.9589555000</td>\n",
       "      <td>8.6880447500</td>\n",
       "      <td>8.7510472500</td>\n",
       "      <td>26339139</td>\n",
       "    </tr>\n",
       "    <tr>\n",
       "      <th>12</th>\n",
       "      <td>2010-01-20</td>\n",
       "      <td>8.7510472500</td>\n",
       "      <td>8.8077495000</td>\n",
       "      <td>8.4675360000</td>\n",
       "      <td>8.4927370000</td>\n",
       "      <td>25864330</td>\n",
       "    </tr>\n",
       "    <tr>\n",
       "      <th>13</th>\n",
       "      <td>2010-01-21</td>\n",
       "      <td>8.4864367500</td>\n",
       "      <td>8.5683400000</td>\n",
       "      <td>8.2848287500</td>\n",
       "      <td>8.3730322500</td>\n",
       "      <td>23493967</td>\n",
       "    </tr>\n",
       "    <tr>\n",
       "      <th>14</th>\n",
       "      <td>2010-01-22</td>\n",
       "      <td>8.3100297500</td>\n",
       "      <td>8.3478312500</td>\n",
       "      <td>7.9698162500</td>\n",
       "      <td>8.1147220000</td>\n",
       "      <td>33789469</td>\n",
       "    </tr>\n",
       "    <tr>\n",
       "      <th>15</th>\n",
       "      <td>2010-01-25</td>\n",
       "      <td>8.1273225000</td>\n",
       "      <td>8.3541315000</td>\n",
       "      <td>8.0517195000</td>\n",
       "      <td>8.0769205000</td>\n",
       "      <td>16818952</td>\n",
       "    </tr>\n",
       "    <tr>\n",
       "      <th>16</th>\n",
       "      <td>2010-01-26</td>\n",
       "      <td>8.0895210000</td>\n",
       "      <td>8.2344267500</td>\n",
       "      <td>7.8627120000</td>\n",
       "      <td>7.9887170000</td>\n",
       "      <td>18356550</td>\n",
       "    </tr>\n",
       "    <tr>\n",
       "      <th>17</th>\n",
       "      <td>2010-01-27</td>\n",
       "      <td>7.9887170000</td>\n",
       "      <td>8.1147220000</td>\n",
       "      <td>7.8123100000</td>\n",
       "      <td>8.0076177500</td>\n",
       "      <td>13744409</td>\n",
       "    </tr>\n",
       "    <tr>\n",
       "      <th>18</th>\n",
       "      <td>2010-01-28</td>\n",
       "      <td>7.9887170000</td>\n",
       "      <td>8.0958212500</td>\n",
       "      <td>7.8753125000</td>\n",
       "      <td>8.0328187500</td>\n",
       "      <td>9945584</td>\n",
       "    </tr>\n",
       "    <tr>\n",
       "      <th>19</th>\n",
       "      <td>2010-01-29</td>\n",
       "      <td>7.9887170000</td>\n",
       "      <td>8.2092257500</td>\n",
       "      <td>7.9446152500</td>\n",
       "      <td>8.0076177500</td>\n",
       "      <td>13410473</td>\n",
       "    </tr>\n",
       "  </tbody>\n",
       "</table>\n",
       "</div>"
      ],
      "text/plain": [
       "          date          open          high           low         close    volume\n",
       "0   2010-01-04  9.4503750000  9.5133775000  9.2739680000  9.3054692500  16724424\n",
       "1   2010-01-05  9.3054692500  9.3810722500  8.9589555000  9.1038612500  35346968\n",
       "2   2010-01-06  9.1038612500  9.1983650000  8.9337545000  9.0534592500  44608991\n",
       "3   2010-01-07  9.0093575000  9.0408587500  8.5557395000  8.6187420000  46724393\n",
       "4   2010-01-08  8.5683400000  8.5683400000  8.2848287500  8.4927370000  33071743\n",
       "5   2010-01-11  8.5872407500  8.6817445000  8.1903250000  8.3100297500  38053995\n",
       "6   2010-01-12  8.3667320000  8.7573475000  8.3163300000  8.7447470000  37403294\n",
       "7   2010-01-13  8.5053375000  8.6943450000  8.3667320000  8.4297345000  37135640\n",
       "8   2010-01-14  8.5116377500  8.7951490000  8.4423350000  8.7510472500  45714976\n",
       "9   2010-01-15  8.7951490000  8.9904567500  8.7636477500  8.9085535000  35303588\n",
       "10  2010-01-18  8.9274542500  8.9841565000  8.7699480000  8.9148537500  28902381\n",
       "11  2010-01-19  8.9148537500  8.9589555000  8.6880447500  8.7510472500  26339139\n",
       "12  2010-01-20  8.7510472500  8.8077495000  8.4675360000  8.4927370000  25864330\n",
       "13  2010-01-21  8.4864367500  8.5683400000  8.2848287500  8.3730322500  23493967\n",
       "14  2010-01-22  8.3100297500  8.3478312500  7.9698162500  8.1147220000  33789469\n",
       "15  2010-01-25  8.1273225000  8.3541315000  8.0517195000  8.0769205000  16818952\n",
       "16  2010-01-26  8.0895210000  8.2344267500  7.8627120000  7.9887170000  18356550\n",
       "17  2010-01-27  7.9887170000  8.1147220000  7.8123100000  8.0076177500  13744409\n",
       "18  2010-01-28  7.9887170000  8.0958212500  7.8753125000  8.0328187500   9945584\n",
       "19  2010-01-29  7.9887170000  8.2092257500  7.9446152500  8.0076177500  13410473"
      ]
     },
     "execution_count": 54,
     "metadata": {},
     "output_type": "execute_result"
    }
   ],
   "source": [
    "result.head(20)"
   ]
  },
  {
   "cell_type": "code",
   "execution_count": 24,
   "metadata": {},
   "outputs": [
    {
     "data": {
      "text/html": [
       "<div>\n",
       "<style scoped>\n",
       "    .dataframe tbody tr th:only-of-type {\n",
       "        vertical-align: middle;\n",
       "    }\n",
       "\n",
       "    .dataframe tbody tr th {\n",
       "        vertical-align: top;\n",
       "    }\n",
       "\n",
       "    .dataframe thead th {\n",
       "        text-align: right;\n",
       "    }\n",
       "</style>\n",
       "<table border=\"1\" class=\"dataframe\">\n",
       "  <thead>\n",
       "    <tr style=\"text-align: right;\">\n",
       "      <th></th>\n",
       "      <th>date</th>\n",
       "      <th>code</th>\n",
       "      <th>open</th>\n",
       "      <th>high</th>\n",
       "      <th>low</th>\n",
       "      <th>close</th>\n",
       "      <th>preclose</th>\n",
       "      <th>volume</th>\n",
       "      <th>amount</th>\n",
       "      <th>pctChg</th>\n",
       "    </tr>\n",
       "  </thead>\n",
       "  <tbody>\n",
       "    <tr>\n",
       "      <th>2561</th>\n",
       "      <td>2020-07-20</td>\n",
       "      <td>sh.600660</td>\n",
       "      <td>23.7932730000</td>\n",
       "      <td>25.3082732400</td>\n",
       "      <td>23.3271190800</td>\n",
       "      <td>25.1431770600</td>\n",
       "      <td>23.3271190800</td>\n",
       "      <td>63556348</td>\n",
       "      <td>1611643758.0000</td>\n",
       "      <td>7.785200</td>\n",
       "    </tr>\n",
       "    <tr>\n",
       "      <th>2562</th>\n",
       "      <td>2020-07-21</td>\n",
       "      <td>sh.600660</td>\n",
       "      <td>24.9489462600</td>\n",
       "      <td>26.4930811200</td>\n",
       "      <td>24.8615424000</td>\n",
       "      <td>25.3762540200</td>\n",
       "      <td>25.1431770600</td>\n",
       "      <td>50403953</td>\n",
       "      <td>1329708295.6000</td>\n",
       "      <td>0.927000</td>\n",
       "    </tr>\n",
       "    <tr>\n",
       "      <th>2563</th>\n",
       "      <td>2020-07-22</td>\n",
       "      <td>sh.600660</td>\n",
       "      <td>25.4442348000</td>\n",
       "      <td>25.7355810000</td>\n",
       "      <td>24.9683693400</td>\n",
       "      <td>25.2500040000</td>\n",
       "      <td>25.3762540200</td>\n",
       "      <td>35886613</td>\n",
       "      <td>936983046.2200</td>\n",
       "      <td>-0.497500</td>\n",
       "    </tr>\n",
       "    <tr>\n",
       "      <th>2564</th>\n",
       "      <td>2020-07-23</td>\n",
       "      <td>sh.600660</td>\n",
       "      <td>24.8800000000</td>\n",
       "      <td>24.8800000000</td>\n",
       "      <td>24.0000000000</td>\n",
       "      <td>24.5800000000</td>\n",
       "      <td>25.2500000000</td>\n",
       "      <td>34034353</td>\n",
       "      <td>831366119.6300</td>\n",
       "      <td>-2.653500</td>\n",
       "    </tr>\n",
       "    <tr>\n",
       "      <th>2565</th>\n",
       "      <td>2020-07-24</td>\n",
       "      <td>sh.600660</td>\n",
       "      <td>24.5000000000</td>\n",
       "      <td>24.5000000000</td>\n",
       "      <td>23.0300000000</td>\n",
       "      <td>23.3200000000</td>\n",
       "      <td>24.5800000000</td>\n",
       "      <td>34059031</td>\n",
       "      <td>807187050.5700</td>\n",
       "      <td>-5.126100</td>\n",
       "    </tr>\n",
       "  </tbody>\n",
       "</table>\n",
       "</div>"
      ],
      "text/plain": [
       "            date       code           open           high            low  \\\n",
       "2561  2020-07-20  sh.600660  23.7932730000  25.3082732400  23.3271190800   \n",
       "2562  2020-07-21  sh.600660  24.9489462600  26.4930811200  24.8615424000   \n",
       "2563  2020-07-22  sh.600660  25.4442348000  25.7355810000  24.9683693400   \n",
       "2564  2020-07-23  sh.600660  24.8800000000  24.8800000000  24.0000000000   \n",
       "2565  2020-07-24  sh.600660  24.5000000000  24.5000000000  23.0300000000   \n",
       "\n",
       "              close       preclose    volume           amount     pctChg  \n",
       "2561  25.1431770600  23.3271190800  63556348  1611643758.0000   7.785200  \n",
       "2562  25.3762540200  25.1431770600  50403953  1329708295.6000   0.927000  \n",
       "2563  25.2500040000  25.3762540200  35886613   936983046.2200  -0.497500  \n",
       "2564  24.5800000000  25.2500000000  34034353   831366119.6300  -2.653500  \n",
       "2565  23.3200000000  24.5800000000  34059031   807187050.5700  -5.126100  "
      ]
     },
     "execution_count": 24,
     "metadata": {},
     "output_type": "execute_result"
    }
   ],
   "source": [
    "result.tail()"
   ]
  },
  {
   "cell_type": "markdown",
   "metadata": {},
   "source": [
    "## 上证50成分股"
   ]
  },
  {
   "cell_type": "code",
   "execution_count": 65,
   "metadata": {},
   "outputs": [
    {
     "name": "stdout",
     "output_type": "stream",
     "text": [
      "login success!\n",
      "login respond error_code:0\n",
      "login respond  error_msg:success\n",
      "query_sz50 error_code:0\n",
      "query_sz50  error_msg:success\n"
     ]
    }
   ],
   "source": [
    "# 登陆系统\n",
    "lg = bs.login()\n",
    "# 显示登陆返回信息\n",
    "print('login respond error_code:'+lg.error_code)\n",
    "print('login respond  error_msg:'+lg.error_msg)\n",
    "\n",
    "# 获取上证50成分股\n",
    "rs = bs.query_sz50_stocks()\n",
    "print('query_sz50 error_code:'+rs.error_code)\n",
    "print('query_sz50  error_msg:'+rs.error_msg)\n",
    "\n",
    "# 打印结果集\n",
    "sz50_stocks = []\n",
    "while (rs.error_code == '0') & rs.next():\n",
    "    # 获取一条记录，将记录合并在一起\n",
    "    sz50_stocks.append(rs.get_row_data())\n",
    "result = pd.DataFrame(sz50_stocks, columns=rs.fields)"
   ]
  },
  {
   "cell_type": "code",
   "execution_count": 66,
   "metadata": {},
   "outputs": [
    {
     "data": {
      "text/plain": [
       "(50, 3)"
      ]
     },
     "execution_count": 66,
     "metadata": {},
     "output_type": "execute_result"
    }
   ],
   "source": [
    "result.shape"
   ]
  },
  {
   "cell_type": "code",
   "execution_count": 68,
   "metadata": {},
   "outputs": [
    {
     "data": {
      "text/html": [
       "<div>\n",
       "<style scoped>\n",
       "    .dataframe tbody tr th:only-of-type {\n",
       "        vertical-align: middle;\n",
       "    }\n",
       "\n",
       "    .dataframe tbody tr th {\n",
       "        vertical-align: top;\n",
       "    }\n",
       "\n",
       "    .dataframe thead th {\n",
       "        text-align: right;\n",
       "    }\n",
       "</style>\n",
       "<table border=\"1\" class=\"dataframe\">\n",
       "  <thead>\n",
       "    <tr style=\"text-align: right;\">\n",
       "      <th></th>\n",
       "      <th>updateDate</th>\n",
       "      <th>code</th>\n",
       "      <th>code_name</th>\n",
       "    </tr>\n",
       "  </thead>\n",
       "  <tbody>\n",
       "    <tr>\n",
       "      <th>0</th>\n",
       "      <td>2020-07-20</td>\n",
       "      <td>sh.600000</td>\n",
       "      <td>浦发银行</td>\n",
       "    </tr>\n",
       "    <tr>\n",
       "      <th>1</th>\n",
       "      <td>2020-07-20</td>\n",
       "      <td>sh.600009</td>\n",
       "      <td>上海机场</td>\n",
       "    </tr>\n",
       "    <tr>\n",
       "      <th>2</th>\n",
       "      <td>2020-07-20</td>\n",
       "      <td>sh.600016</td>\n",
       "      <td>民生银行</td>\n",
       "    </tr>\n",
       "    <tr>\n",
       "      <th>3</th>\n",
       "      <td>2020-07-20</td>\n",
       "      <td>sh.600028</td>\n",
       "      <td>中国石化</td>\n",
       "    </tr>\n",
       "    <tr>\n",
       "      <th>4</th>\n",
       "      <td>2020-07-20</td>\n",
       "      <td>sh.600030</td>\n",
       "      <td>中信证券</td>\n",
       "    </tr>\n",
       "  </tbody>\n",
       "</table>\n",
       "</div>"
      ],
      "text/plain": [
       "   updateDate       code code_name\n",
       "0  2020-07-20  sh.600000      浦发银行\n",
       "1  2020-07-20  sh.600009      上海机场\n",
       "2  2020-07-20  sh.600016      民生银行\n",
       "3  2020-07-20  sh.600028      中国石化\n",
       "4  2020-07-20  sh.600030      中信证券"
      ]
     },
     "execution_count": 68,
     "metadata": {},
     "output_type": "execute_result"
    }
   ],
   "source": [
    "result.head()"
   ]
  },
  {
   "cell_type": "markdown",
   "metadata": {},
   "source": [
    "# nbexport"
   ]
  },
  {
   "cell_type": "code",
   "execution_count": 9,
   "metadata": {
    "scrolled": true
   },
   "outputs": [
    {
     "name": "stdout",
     "output_type": "stream",
     "text": [
      "Converted 0datasource.ipynb.\n"
     ]
    }
   ],
   "source": [
    "from nbdev.export import *\n",
    "notebook2script('0datasource.ipynb')"
   ]
  },
  {
   "cell_type": "code",
   "execution_count": null,
   "metadata": {},
   "outputs": [],
   "source": []
  }
 ],
 "metadata": {
  "kernelspec": {
   "display_name": "Python 3",
   "language": "python",
   "name": "python3"
  },
  "language_info": {
   "codemirror_mode": {
    "name": "ipython",
    "version": 3
   },
   "file_extension": ".py",
   "mimetype": "text/x-python",
   "name": "python",
   "nbconvert_exporter": "python",
   "pygments_lexer": "ipython3",
   "version": "3.7.3"
  },
  "toc": {
   "base_numbering": 1,
   "nav_menu": {},
   "number_sections": true,
   "sideBar": true,
   "skip_h1_title": false,
   "title_cell": "Table of Contents",
   "title_sidebar": "Contents",
   "toc_cell": false,
   "toc_position": {
    "height": "calc(100% - 180px)",
    "left": "10px",
    "top": "150px",
    "width": "288px"
   },
   "toc_section_display": true,
   "toc_window_display": true
  },
  "varInspector": {
   "cols": {
    "lenName": 16,
    "lenType": 16,
    "lenVar": 40
   },
   "kernels_config": {
    "python": {
     "delete_cmd_postfix": "",
     "delete_cmd_prefix": "del ",
     "library": "var_list.py",
     "varRefreshCmd": "print(var_dic_list())"
    },
    "r": {
     "delete_cmd_postfix": ") ",
     "delete_cmd_prefix": "rm(",
     "library": "var_list.r",
     "varRefreshCmd": "cat(var_dic_list()) "
    }
   },
   "types_to_exclude": [
    "module",
    "function",
    "builtin_function_or_method",
    "instance",
    "_Feature"
   ],
   "window_display": false
  }
 },
 "nbformat": 4,
 "nbformat_minor": 2
}
