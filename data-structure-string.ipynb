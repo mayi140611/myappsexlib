{
 "cells": [
  {
   "cell_type": "code",
   "execution_count": 3,
   "metadata": {},
   "outputs": [],
   "source": [
    "# default_exp data.structure.string\n",
    "\n",
    "%reload_ext autoreload\n",
    "%autoreload 2"
   ]
  },
  {
   "cell_type": "markdown",
   "metadata": {},
   "source": [
    "# data-structure-string"
   ]
  },
  {
   "cell_type": "code",
   "execution_count": 1,
   "metadata": {},
   "outputs": [],
   "source": [
    "s = '我是中国人'"
   ]
  },
  {
   "cell_type": "markdown",
   "metadata": {},
   "source": [
    "# 切片"
   ]
  },
  {
   "cell_type": "code",
   "execution_count": 2,
   "metadata": {},
   "outputs": [
    {
     "data": {
      "text/plain": [
       "''"
      ]
     },
     "execution_count": 2,
     "metadata": {},
     "output_type": "execute_result"
    }
   ],
   "source": [
    "s[-1:1]  # 不会报错"
   ]
  },
  {
   "cell_type": "code",
   "execution_count": 3,
   "metadata": {},
   "outputs": [
    {
     "data": {
      "text/plain": [
       "''"
      ]
     },
     "execution_count": 3,
     "metadata": {},
     "output_type": "execute_result"
    }
   ],
   "source": [
    "s[:0]  # 不会报错"
   ]
  },
  {
   "cell_type": "code",
   "execution_count": 4,
   "metadata": {},
   "outputs": [
    {
     "data": {
      "text/plain": [
       "'我是'"
      ]
     },
     "execution_count": 4,
     "metadata": {},
     "output_type": "execute_result"
    }
   ],
   "source": [
    "s[:2]  # 不会报错"
   ]
  },
  {
   "cell_type": "code",
   "execution_count": 12,
   "metadata": {},
   "outputs": [
    {
     "data": {
      "text/plain": [
       "'是我'"
      ]
     },
     "execution_count": 12,
     "metadata": {},
     "output_type": "execute_result"
    }
   ],
   "source": [
    "s[1::-1]"
   ]
  },
  {
   "cell_type": "code",
   "execution_count": 13,
   "metadata": {},
   "outputs": [
    {
     "data": {
      "text/plain": [
       "''"
      ]
     },
     "execution_count": 13,
     "metadata": {},
     "output_type": "execute_result"
    }
   ],
   "source": [
    "s[2:0]"
   ]
  },
  {
   "cell_type": "code",
   "execution_count": 14,
   "metadata": {},
   "outputs": [
    {
     "data": {
      "text/plain": [
       "''"
      ]
     },
     "execution_count": 14,
     "metadata": {},
     "output_type": "execute_result"
    }
   ],
   "source": [
    "s[0:2:-1]"
   ]
  },
  {
   "cell_type": "code",
   "execution_count": 15,
   "metadata": {},
   "outputs": [
    {
     "data": {
      "text/plain": [
       "'是我'"
      ]
     },
     "execution_count": 15,
     "metadata": {},
     "output_type": "execute_result"
    }
   ],
   "source": [
    "s[0:2][::-1]"
   ]
  },
  {
   "cell_type": "code",
   "execution_count": 7,
   "metadata": {},
   "outputs": [
    {
     "data": {
      "text/plain": [
       "'中是'"
      ]
     },
     "execution_count": 7,
     "metadata": {},
     "output_type": "execute_result"
    }
   ],
   "source": [
    "s[2:0:-1]"
   ]
  },
  {
   "cell_type": "code",
   "execution_count": 5,
   "metadata": {},
   "outputs": [
    {
     "data": {
      "text/plain": [
       "'人国中是我'"
      ]
     },
     "execution_count": 5,
     "metadata": {},
     "output_type": "execute_result"
    }
   ],
   "source": [
    "s[::-1]"
   ]
  },
  {
   "cell_type": "code",
   "execution_count": null,
   "metadata": {},
   "outputs": [],
   "source": []
  },
  {
   "cell_type": "markdown",
   "metadata": {},
   "source": [
    "# 字符串转运算式"
   ]
  },
  {
   "cell_type": "code",
   "execution_count": 1,
   "metadata": {},
   "outputs": [
    {
     "data": {
      "text/plain": [
       "11"
      ]
     },
     "execution_count": 1,
     "metadata": {},
     "output_type": "execute_result"
    }
   ],
   "source": [
    "eval('5+6')"
   ]
  },
  {
   "cell_type": "markdown",
   "metadata": {},
   "source": [
    "# String API"
   ]
  },
  {
   "cell_type": "code",
   "execution_count": 1,
   "metadata": {},
   "outputs": [],
   "source": [
    "s = 'abcdabcEabc'"
   ]
  },
  {
   "cell_type": "code",
   "execution_count": 17,
   "metadata": {},
   "outputs": [
    {
     "data": {
      "text/plain": [
       "1"
      ]
     },
     "execution_count": 17,
     "metadata": {},
     "output_type": "execute_result"
    }
   ],
   "source": [
    "s.find('bc')"
   ]
  },
  {
   "cell_type": "code",
   "execution_count": 18,
   "metadata": {},
   "outputs": [
    {
     "data": {
      "text/plain": [
       "-1"
      ]
     },
     "execution_count": 18,
     "metadata": {},
     "output_type": "execute_result"
    }
   ],
   "source": [
    "s.find('bcf')"
   ]
  },
  {
   "cell_type": "code",
   "execution_count": 19,
   "metadata": {},
   "outputs": [
    {
     "data": {
      "text/plain": [
       "'Abcdabceabc'"
      ]
     },
     "execution_count": 19,
     "metadata": {},
     "output_type": "execute_result"
    }
   ],
   "source": [
    "s.capitalize()  # make the first character have upper case and the rest lowera"
   ]
  },
  {
   "cell_type": "code",
   "execution_count": 20,
   "metadata": {},
   "outputs": [
    {
     "data": {
      "text/plain": [
       "'abcdabceabc'"
      ]
     },
     "execution_count": 20,
     "metadata": {},
     "output_type": "execute_result"
    }
   ],
   "source": [
    "s.lower()"
   ]
  },
  {
   "cell_type": "code",
   "execution_count": 21,
   "metadata": {},
   "outputs": [
    {
     "data": {
      "text/plain": [
       "'ABCDABCEABC'"
      ]
     },
     "execution_count": 21,
     "metadata": {},
     "output_type": "execute_result"
    }
   ],
   "source": [
    "s.upper()"
   ]
  },
  {
   "cell_type": "markdown",
   "metadata": {},
   "source": [
    "## replace"
   ]
  },
  {
   "cell_type": "code",
   "execution_count": 22,
   "metadata": {},
   "outputs": [
    {
     "data": {
      "text/plain": [
       "'abCdabCEabC'"
      ]
     },
     "execution_count": 22,
     "metadata": {},
     "output_type": "execute_result"
    }
   ],
   "source": [
    "s.replace('c', 'C')"
   ]
  },
  {
   "cell_type": "markdown",
   "metadata": {},
   "source": [
    "## 替换字段数据"
   ]
  },
  {
   "cell_type": "code",
   "execution_count": 20,
   "metadata": {},
   "outputs": [],
   "source": [
    "d = {\n",
    "    'd': 'DD',\n",
    "    'Z': 'z'\n",
    "}"
   ]
  },
  {
   "cell_type": "code",
   "execution_count": 25,
   "metadata": {},
   "outputs": [
    {
     "data": {
      "text/plain": [
       "{100: 'DD', 90: 'z'}"
      ]
     },
     "execution_count": 25,
     "metadata": {},
     "output_type": "execute_result"
    }
   ],
   "source": [
    "r = str.maketrans(d)\n",
    "r"
   ]
  },
  {
   "cell_type": "code",
   "execution_count": 17,
   "metadata": {},
   "outputs": [
    {
     "data": {
      "text/plain": [
       "'abcdabcEabc'"
      ]
     },
     "execution_count": 17,
     "metadata": {},
     "output_type": "execute_result"
    }
   ],
   "source": [
    "s"
   ]
  },
  {
   "cell_type": "code",
   "execution_count": 22,
   "metadata": {},
   "outputs": [
    {
     "data": {
      "text/plain": [
       "'abcDDabcEabc'"
      ]
     },
     "execution_count": 22,
     "metadata": {},
     "output_type": "execute_result"
    }
   ],
   "source": [
    "s.translate(r)"
   ]
  },
  {
   "cell_type": "code",
   "execution_count": 24,
   "metadata": {},
   "outputs": [
    {
     "data": {
      "text/plain": [
       "'abcDDabcEabc'"
      ]
     },
     "execution_count": 24,
     "metadata": {},
     "output_type": "execute_result"
    }
   ],
   "source": [
    "str.translate(s, r)"
   ]
  },
  {
   "cell_type": "code",
   "execution_count": 21,
   "metadata": {},
   "outputs": [
    {
     "data": {
      "text/plain": [
       "'abcdabcEabc'"
      ]
     },
     "execution_count": 21,
     "metadata": {},
     "output_type": "execute_result"
    }
   ],
   "source": [
    "s.translate(d)"
   ]
  },
  {
   "cell_type": "code",
   "execution_count": null,
   "metadata": {},
   "outputs": [],
   "source": []
  },
  {
   "cell_type": "markdown",
   "metadata": {},
   "source": [
    "# 字符串编解码"
   ]
  },
  {
   "cell_type": "markdown",
   "metadata": {},
   "source": [
    "## 字符串编码为二进制串"
   ]
  },
  {
   "cell_type": "code",
   "execution_count": 25,
   "metadata": {},
   "outputs": [
    {
     "data": {
      "text/plain": [
       "b'\\xce\\xd2\\xca\\xc7\\xd6\\xd0\\xb9\\xfa\\xc8\\xcb'"
      ]
     },
     "execution_count": 25,
     "metadata": {},
     "output_type": "execute_result"
    }
   ],
   "source": [
    "'我是中国人'.encode('gbk')"
   ]
  },
  {
   "cell_type": "code",
   "execution_count": 26,
   "metadata": {},
   "outputs": [
    {
     "data": {
      "text/plain": [
       "b'\\xe6\\x88\\x91\\xe6\\x98\\xaf\\xe4\\xb8\\xad\\xe5\\x9b\\xbd\\xe4\\xba\\xba'"
      ]
     },
     "execution_count": 26,
     "metadata": {},
     "output_type": "execute_result"
    }
   ],
   "source": [
    "'我是中国人'.encode('utf8')"
   ]
  },
  {
   "cell_type": "markdown",
   "metadata": {},
   "source": [
    "## 二进制串解码为字符串"
   ]
  },
  {
   "cell_type": "code",
   "execution_count": 27,
   "metadata": {},
   "outputs": [
    {
     "data": {
      "text/plain": [
       "'我是中国人'"
      ]
     },
     "execution_count": 27,
     "metadata": {},
     "output_type": "execute_result"
    }
   ],
   "source": [
    "b'\\xce\\xd2\\xca\\xc7\\xd6\\xd0\\xb9\\xfa\\xc8\\xcb'.decode('gbk')"
   ]
  },
  {
   "cell_type": "markdown",
   "metadata": {},
   "source": [
    "## md5\n",
    "https://blog.csdn.net/qq_38607035/article/details/82591931?utm_medium=distribute.pc_aggpage_search_result.none-task-blog-2~all~first_rank_v2~rank_v25-1-82591931.nonecase\n",
    "\n",
    "MD5消息摘要算法（英语：MD5 Message-Digest Algorithm），一种被广泛使用的密码散列函数，可以产生出一个32字节的散列值（hash value）(MD5 加密后的位数一般为两种，16 位与 32 位。16 位实际上是从 32 位字符串中，取中间的第 9 位到第 24 位的部分)，用于确保信息传输完整一致。MD5是最常见的摘要算法，速度很快，生成结果是固定的128 bit字节，通常用一个32位的16进制字符串表示。\n",
    "\n",
    "摘要算法的应用\n",
    "\n",
    "任何允许用户登录的网站都会存储用户登录的用户名和口令。用户名和口令存到数据库表中。\n",
    "\n",
    "Python的hashlib提供了常见的摘要算法，如MD5，SHA1等等。\n",
    "\n",
    "摘要算法又称哈希算法、散列算法。它通过一个函数，把任意长度的数据转换为一个长度固定的数据串（通常用16进制的字符串表示）。\n",
    "\n",
    "在python3的标准库中，已经移除了md5模块，而关于hash加密算法都放在hashlib这个标准库中，如SHA1、SHA224、SHA256、SHA384、SHA512和MD5算法等。\n"
   ]
  },
  {
   "cell_type": "code",
   "execution_count": 16,
   "metadata": {},
   "outputs": [
    {
     "name": "stdout",
     "output_type": "stream",
     "text": [
      "MD5加密前为 ：this is a md5 test.\n",
      "MD5加密后为 ：174b086fc6358db6154bd951a8947837\n",
      "MD5加密后为 ：174b086fc6358db6154bd951a8947837\n"
     ]
    }
   ],
   "source": [
    "import hashlib\n",
    "\n",
    "# 待加密信息\n",
    "str1 = 'this is a md5 test.'\n",
    "\n",
    "# 创建md5对象\n",
    "m = hashlib.md5()\n",
    "\n",
    "# Tips\n",
    "# 此处必须encode\n",
    "# 若写法为m.update(str)  报错为： Unicode-objects must be encoded before hashing\n",
    "# 因为python3里默认的str是unicode\n",
    "# 或者 b = bytes(str, encoding='utf-8')，作用相同，都是encode为bytes\n",
    "b = str1.encode(encoding='utf-8')\n",
    "m.update(b)\n",
    "str_md5 = m.hexdigest()\n",
    "\n",
    "print('MD5加密前为 ：' + str1)\n",
    "print('MD5加密后为 ：' + str_md5)\n",
    "\n",
    "# 另一种写法：b‘’前缀代表的就是bytes\n",
    "str_md5 = hashlib.md5('this is a md5 test.'.encode(encoding='utf-8')).hexdigest()\n",
    "print('MD5加密后为 ：' + str_md5)"
   ]
  },
  {
   "cell_type": "code",
   "execution_count": 14,
   "metadata": {},
   "outputs": [
    {
     "data": {
      "text/plain": [
       "32"
      ]
     },
     "execution_count": 14,
     "metadata": {},
     "output_type": "execute_result"
    }
   ],
   "source": [
    "len(str_md5)"
   ]
  },
  {
   "cell_type": "markdown",
   "metadata": {},
   "source": [
    "## base64\n",
    "Base64是网络上最常见的用于传输8Bit字节码的编码方式之一，__Base64就是一种基于64个可打印字符来表示二进制数据的方法__。  \n",
    "\n",
    "Base64一个重要的应用就是把一个二进制数据编码为可见的字符串。\n",
    "### 一个典型的应用场景是：\n",
    "如果希望把一个文件存入数据库，一种方式是以二进制形式存入；另一种方法是将其转换为字符串，以字符串形式存入数据库！"
   ]
  },
  {
   "cell_type": "code",
   "execution_count": 1,
   "metadata": {},
   "outputs": [],
   "source": [
    "import base64"
   ]
  },
  {
   "cell_type": "markdown",
   "metadata": {},
   "source": [
    "### 把一个文件流读成二进制数据，再用base64编码"
   ]
  },
  {
   "cell_type": "code",
   "execution_count": 2,
   "metadata": {},
   "outputs": [
    {
     "data": {
      "text/plain": [
       "b'gANjc2tsZWFybi5saW5lYXJfbW9kZWwubG9naXN0aWMKTG9naXN0aWNSZWdyZXNzaW9uCnEAKYFxAX1xAihYBwAAAHBlbmFsdHlxA1gCAAAAbDJxBFgEAAAAZHVhbHEFiVgDAAAAdG9scQZHPxo24uscQy1YAQAAAENxB0c/8AAAAAAAAFgNAAAAZml0X2ludGVyY2VwdHEIiFgRAAAAaW50ZXJjZXB0X3NjYWxpbmdxCUsBWAwAAABjbGFzc193ZWlnaHRxCk5YDAAAAHJhbmRvbV9zdGF0ZXELTlgGAAAAc29sdmVycQxYBAAAAHdhcm5xDVgIAAAAbWF4X2l0ZXJxDktkWAsAAABtdWx0aV9jbGFzc3EPaA1YBwAAAHZlcmJvc2VxEEsAWAoAAAB3YXJtX3N0YXJ0cRGJWAYAAABuX2pvYnNxEk5YCAAAAGNsYXNzZXNfcRNjc2tsZWFybi5leHRlcm5hbHMuam9ibGliLm51bXB5X3BpY2tsZQpOdW1weUFycmF5V3JhcHBlcgpxFCmBcRV9cRYoWAgAAABzdWJjbGFzc3EXY251bXB5Cm5kYXJyYXkKcRhYBQAAAHNoYXBlcRlLAoVxGlgFAAAAb3JkZXJxG2gHWAUAAABkdHlwZXEcY251bXB5CmR0eXBlCnEdWAIAAABmOHEeSwBLAYdxH1JxIChLA1gBAAAAPHEhTk5OSv////9K/////0sAdHEiYlgKAAAAYWxsb3dfbW1hcHEjiHViAAAAAAAAAAAAAAAAAADwP1gFAAAAY29lZl9xJGgUKYFxJX1xJihoF2gYaBlLAUsrhnEnaBtoB2gcaCBoI4h1YimeboPVPuo/CtJSUare+j9X01JRqt76P4mD/SL2T4m/x7d+GcvCgT+mQCHyZVaHPzg2IfJlVoc/r7kh8mVWhz+v0SHyZVaHPz3BIfJlVoc/74sh8mVWhz+HViLyZVaHP1e3oB9RzIe/YPSBVhQNib8vpk4sSsn3P8nSUlGq3vo/ktNSUare+j+tdyHyZVaHP3EOIfJlVoc/aJsh8mVWhz/PJ8+oi2/zPyIgv8cnbgFA9kU8jd/AvT+rMzyN38C9P4JV9iNTguQ/XEilMxpZ8j+xf4gtNXLzP+vyfhUgFe0/NkxwOXCq5T9VUMWtL0/jPwqfIPJlVoc/SCx/ppE16D8zNyHyZVaHP087IfJlVoc/Z4Ah8mVWhz90biHyZVaHP3eqIPJlVoc/Y3Ifv6q3wj/iHgSEiOODvwKVIPJlVoc/8WcwB69f3D96bDAHr1/cP8ZpMAevX9w/WAoAAABpbnRlcmNlcHRfcShoFCmBcSl9cSooaBdoGGgZSwGFcStoG2gHaBxoIGgjiHVivBkZqJpJzD9YBwAAAG5faXRlcl9xLGgUKYFxLX1xLihoF2gYaBlLAYVxL2gbaAdoHGgdWAIAAABpNHEwSwBLAYdxMVJxMihLA2ghTk5OSv////9K/////0sAdHEzYmgjiHViBQAAAFgQAAAAX3NrbGVhcm5fdmVyc2lvbnE0WAYAAAAwLjIwLjNxNXViLg=='"
      ]
     },
     "execution_count": 2,
     "metadata": {},
     "output_type": "execute_result"
    }
   ],
   "source": [
    "with open('data/model.pickle', mode='rb') as f:\n",
    "    base64_data = base64.b64encode(f.read())\n",
    "base64_data"
   ]
  },
  {
   "cell_type": "code",
   "execution_count": 3,
   "metadata": {},
   "outputs": [
    {
     "data": {
      "text/plain": [
       "1564"
      ]
     },
     "execution_count": 3,
     "metadata": {},
     "output_type": "execute_result"
    }
   ],
   "source": [
    "len('gANjc2tsZWFybi5saW5lYXJfbW9kZWwubG9naXN0aWMKTG9naXN0aWNSZWdyZXNzaW9uCnEAKYFxAX1xAihYBwAAAHBlbmFsdHlxA1gCAAAAbDJxBFgEAAAAZHVhbHEFiVgDAAAAdG9scQZHPxo24uscQy1YAQAAAENxB0c/8AAAAAAAAFgNAAAAZml0X2ludGVyY2VwdHEIiFgRAAAAaW50ZXJjZXB0X3NjYWxpbmdxCUsBWAwAAABjbGFzc193ZWlnaHRxCk5YDAAAAHJhbmRvbV9zdGF0ZXELTlgGAAAAc29sdmVycQxYBAAAAHdhcm5xDVgIAAAAbWF4X2l0ZXJxDktkWAsAAABtdWx0aV9jbGFzc3EPaA1YBwAAAHZlcmJvc2VxEEsAWAoAAAB3YXJtX3N0YXJ0cRGJWAYAAABuX2pvYnNxEk5YCAAAAGNsYXNzZXNfcRNjc2tsZWFybi5leHRlcm5hbHMuam9ibGliLm51bXB5X3BpY2tsZQpOdW1weUFycmF5V3JhcHBlcgpxFCmBcRV9cRYoWAgAAABzdWJjbGFzc3EXY251bXB5Cm5kYXJyYXkKcRhYBQAAAHNoYXBlcRlLAoVxGlgFAAAAb3JkZXJxG2gHWAUAAABkdHlwZXEcY251bXB5CmR0eXBlCnEdWAIAAABmOHEeSwBLAYdxH1JxIChLA1gBAAAAPHEhTk5OSv////9K/////0sAdHEiYlgKAAAAYWxsb3dfbW1hcHEjiHViAAAAAAAAAAAAAAAAAADwP1gFAAAAY29lZl9xJGgUKYFxJX1xJihoF2gYaBlLAUsrhnEnaBtoB2gcaCBoI4h1YimeboPVPuo/CtJSUare+j9X01JRqt76P4mD/SL2T4m/x7d+GcvCgT+mQCHyZVaHPzg2IfJlVoc/r7kh8mVWhz+v0SHyZVaHPz3BIfJlVoc/74sh8mVWhz+HViLyZVaHP1e3oB9RzIe/YPSBVhQNib8vpk4sSsn3P8nSUlGq3vo/ktNSUare+j+tdyHyZVaHP3EOIfJlVoc/aJsh8mVWhz/PJ8+oi2/zPyIgv8cnbgFA9kU8jd/AvT+rMzyN38C9P4JV9iNTguQ/XEilMxpZ8j+xf4gtNXLzP+vyfhUgFe0/NkxwOXCq5T9VUMWtL0/jPwqfIPJlVoc/SCx/ppE16D8zNyHyZVaHP087IfJlVoc/Z4Ah8mVWhz90biHyZVaHP3eqIPJlVoc/Y3Ifv6q3wj/iHgSEiOODvwKVIPJlVoc/8WcwB69f3D96bDAHr1/cP8ZpMAevX9w/WAoAAABpbnRlcmNlcHRfcShoFCmBcSl9cSooaBdoGGgZSwGFcStoG2gHaBxoIGgjiHVivBkZqJpJzD9YBwAAAG5faXRlcl9xLGgUKYFxLX1xLihoF2gYaBlLAYVxL2gbaAdoHGgdWAIAAABpNHEwSwBLAYdxMVJxMihLA2ghTk5OSv////9K/////0sAdHEzYmgjiHViBQAAAFgQAAAAX3NrbGVhcm5fdmVyc2lvbnE0WAYAAAAwLjIwLjNxNXViLg==')"
   ]
  },
  {
   "cell_type": "code",
   "execution_count": 4,
   "metadata": {},
   "outputs": [
    {
     "data": {
      "text/plain": [
       "1532"
      ]
     },
     "execution_count": 4,
     "metadata": {},
     "output_type": "execute_result"
    }
   ],
   "source": [
    "len('gANjc2tsZWFybi5saW5lYXJfbW9kZWwubG9naXN0aWMKTG9naXN0aWNSZWdyZXNzaW9uCnEAKYFxAX1xAihYBwAAAHBlbmFsdHlxA1gCAAAAbDJxBFgEAAAAZHVhbHEFiVgDAAAAdG9scQZHPxo24uscQy1YAQAAAENxB0c/8AAAAAAAAFgNAAAAZml0X2ludGVyY2VwdHEIiFgRAAAAaW50ZXJjZXB0X3NjYWxpbmdxCUsBWAwAAABjbGFzc193ZWlnaHRxCk5YDAAAAHJhbmRvbV9zdGF0ZXELTlgGAAAAc29sdmVycQxYBAAAAHdhcm5xDVgIAAAAbWF4X2l0ZXJxDktkWAsAAABtdWx0aV9jbGFzc3EPaA1YBwAAAHZlcmJvc2VxEEsAWAoAAAB3YXJtX3N0YXJ0cRGJWAYAAABuX2pvYnNxEk5YCAAAAGNsYXNzZXNfcRNjc2tsZWFybi5leHRlcm5hbHMuam9ibGliLm51bXB5X3BpY2tsZQpOdW1weUFycmF5V3JhcHBlcgpxFCmBcRV9cRYoWAgAAABzdWJjbGFzc3EXY251bXB5Cm5kYXJyYXkKcRhYBQAAAHNoYXBlcRlLAoVxGlgFAAAAb3JkZXJxG2gHWAUAAABkdHlwZXEcY251bXB5CmR0eXBlCnEdWAIAAABmOHEeSwBLAYdxH1JxIChLA1gBAAAAPHEhTk5OSv////9K/////0sAdHEiYlgKAAAAYWxsb3dfbW1hcHEjiHViAAAAAAAAAAAAAAAAAADwP1gFAAAAY29lZl9xJGgUKYFxJX1xJihoF2gYaBlLAUsohnEnaBtoB2gcaCBoI4h1Yv2a/XwLA+s/F7lWuuWE+j9EuFa65YT6P0QplgRefao/jovR2Ca/rz8FpUJ81z6wP2axQnzXPrA/C7lCfNc+sD98pkJ81z6wPxKuQnzXPrA/5Z5CfNc+sD82E/RDALSqP0EjI4foiqo/G714Yu2T9z86uVa65YT6PzC5VrrlhPo/TLdCfNc+sD8s1kJ81z6wP0O1QnzXPrA/GDksOuti8z/z7TiqwD8BQEQs6x4hesU/hSPrHiF6xT8Drb45isXlPzY6WKawY/I/JXOC8zRu8z9clKqW/J3tP01z3XIy0+Y/rZFBI3XG5D9NuEJ81z6wPyaF7Pq7Kek/tLhCfNc+sD/frEJ81z6wP3ezQnzXPrA/pqtCfNc+sD9LtkJ81z6wP5d4QQndack/TGpPlzYnqz9HykJ81z6wPy5PeGUrKOg/WAoAAABpbnRlcmNlcHRfcShoFCmBcSl9cSooaBdoGGgZSwGFcStoG2gHaBxoIGgjiHViGS3LxAhwtz9YBwAAAG5faXRlcl9xLGgUKYFxLX1xLihoF2gYaBlLAYVxL2gbaAdoHGgdWAIAAABpNHEwSwBLAYdxMVJxMihLA2ghTk5OSv////9K/////0sAdHEzYmgjiHViBwAAAFgQAAAAX3NrbGVhcm5fdmVyc2lvbnE0WAYAAAAwLjIwLjNxNXViLg==')"
   ]
  },
  {
   "cell_type": "code",
   "execution_count": 7,
   "metadata": {},
   "outputs": [
    {
     "data": {
      "text/plain": [
       "b'gANjc2tsZWFybi5saW5lYXJfbW9kZWwubG9naXN0aWMKTG9naXN0aWNSZWdyZXNzaW9uCnEAKYFxAX1xAihYBwAAAHBlbmFsdHlxA1gCAAAAbDJxBFgEAAAAZHVhbHEFiVgDAAAAdG9scQZHPxo24uscQy1YAQAAAENxB0c/8AAAAAAAAFgNAAAAZml0X2ludGVyY2VwdHEIiFgRAAAAaW50ZXJjZXB0X3NjYWxpbmdxCUsBWAwAAABjbGFzc193ZWlnaHRxCk5YDAAAAHJhbmRvbV9zdGF0ZXELTlgGAAAAc29sdmVycQxYBAAAAHdhcm5xDVgIAAAAbWF4X2l0ZXJxDktkWAsAAABtdWx0aV9jbGFzc3EPaA1YBwAAAHZlcmJvc2VxEEsAWAoAAAB3YXJtX3N0YXJ0cRGJWAYAAABuX2pvYnNxEk5YCAAAAGNsYXNzZXNfcRNjc2tsZWFybi5leHRlcm5hbHMuam9ibGliLm51bXB5X3BpY2tsZQpOdW1weUFycmF5V3JhcHBlcgpxFCmBcRV9cRYoWAgAAABzdWJjbGFzc3EXY251bXB5Cm5kYXJyYXkKcRhYBQAAAHNoYXBlcRlLAoVxGlgFAAAAb3JkZXJxG2gHWAUAAABkdHlwZXEcY251bXB5CmR0eXBlCnEdWAIAAABmOHEeSwBLAYdxH1JxIChLA1gBAAAAPHEhTk5OSv////9K/////0sAdHEiYlgKAAAAYWxsb3dfbW1hcHEjiHViAAAAAAAAAAAAAAAAAADwP1gFAAAAY29lZl9xJGgUKYFxJX1xJihoF2gYaBlLAUsohnEnaBtoB2gcaCBoI4h1Yv2a/XwLA+s/F7lWuuWE+j9EuFa65YT6P0QplgRefao/jovR2Ca/rz8FpUJ81z6wP2axQnzXPrA/C7lCfNc+sD98pkJ81z6wPxKuQnzXPrA/5Z5CfNc+sD82E/RDALSqP0EjI4foiqo/G714Yu2T9z86uVa65YT6PzC5VrrlhPo/TLdCfNc+sD8s1kJ81z6wP0O1QnzXPrA/GDksOuti8z/z7TiqwD8BQEQs6x4hesU/hSPrHiF6xT8Drb45isXlPzY6WKawY/I/JXOC8zRu8z9clKqW/J3tP01z3XIy0+Y/rZFBI3XG5D9NuEJ81z6wPyaF7Pq7Kek/tLhCfNc+sD/frEJ81z6wP3ezQnzXPrA/pqtCfNc+sD9LtkJ81z6wP5d4QQndack/TGpPlzYnqz9HykJ81z6wPy5PeGUrKOg/WAoAAABpbnRlcmNlcHRfcShoFCmBcSl9cSooaBdoGGgZSwGFcStoG2gHaBxoIGgjiHViGS3LxAhwtz9YBwAAAG5faXRlcl9xLGgUKYFxLX1xLihoF2gYaBlLAYVxL2gbaAdoHGgdWAIAAABpNHEwSwBLAYdxMVJxMihLA2ghTk5OSv////9K/////0sAdHEzYmgjiHViBwAAAFgQAAAAX3NrbGVhcm5fdmVyc2lvbnE0WAYAAAAwLjIwLjNxNXViLg=='"
      ]
     },
     "execution_count": 7,
     "metadata": {},
     "output_type": "execute_result"
    }
   ],
   "source": [
    "with open('data/model.pickle', mode='rb') as f:\n",
    "    base64_data = base64.b64encode(f.read())\n",
    "base64_data"
   ]
  },
  {
   "cell_type": "markdown",
   "metadata": {},
   "source": [
    "### 字符串表示"
   ]
  },
  {
   "cell_type": "code",
   "execution_count": 8,
   "metadata": {
    "scrolled": true
   },
   "outputs": [
    {
     "data": {
      "text/plain": [
       "'gANjc2tsZWFybi5saW5lYXJfbW9kZWwubG9naXN0aWMKTG9naXN0aWNSZWdyZXNzaW9uCnEAKYFxAX1xAihYBwAAAHBlbmFsdHlxA1gCAAAAbDJxBFgEAAAAZHVhbHEFiVgDAAAAdG9scQZHPxo24uscQy1YAQAAAENxB0c/8AAAAAAAAFgNAAAAZml0X2ludGVyY2VwdHEIiFgRAAAAaW50ZXJjZXB0X3NjYWxpbmdxCUsBWAwAAABjbGFzc193ZWlnaHRxCk5YDAAAAHJhbmRvbV9zdGF0ZXELTlgGAAAAc29sdmVycQxYBAAAAHdhcm5xDVgIAAAAbWF4X2l0ZXJxDktkWAsAAABtdWx0aV9jbGFzc3EPaA1YBwAAAHZlcmJvc2VxEEsAWAoAAAB3YXJtX3N0YXJ0cRGJWAYAAABuX2pvYnNxEk5YCAAAAGNsYXNzZXNfcRNjc2tsZWFybi5leHRlcm5hbHMuam9ibGliLm51bXB5X3BpY2tsZQpOdW1weUFycmF5V3JhcHBlcgpxFCmBcRV9cRYoWAgAAABzdWJjbGFzc3EXY251bXB5Cm5kYXJyYXkKcRhYBQAAAHNoYXBlcRlLAoVxGlgFAAAAb3JkZXJxG2gHWAUAAABkdHlwZXEcY251bXB5CmR0eXBlCnEdWAIAAABmOHEeSwBLAYdxH1JxIChLA1gBAAAAPHEhTk5OSv////9K/////0sAdHEiYlgKAAAAYWxsb3dfbW1hcHEjiHViAAAAAAAAAAAAAAAAAADwP1gFAAAAY29lZl9xJGgUKYFxJX1xJihoF2gYaBlLAUsohnEnaBtoB2gcaCBoI4h1Yv2a/XwLA+s/F7lWuuWE+j9EuFa65YT6P0QplgRefao/jovR2Ca/rz8FpUJ81z6wP2axQnzXPrA/C7lCfNc+sD98pkJ81z6wPxKuQnzXPrA/5Z5CfNc+sD82E/RDALSqP0EjI4foiqo/G714Yu2T9z86uVa65YT6PzC5VrrlhPo/TLdCfNc+sD8s1kJ81z6wP0O1QnzXPrA/GDksOuti8z/z7TiqwD8BQEQs6x4hesU/hSPrHiF6xT8Drb45isXlPzY6WKawY/I/JXOC8zRu8z9clKqW/J3tP01z3XIy0+Y/rZFBI3XG5D9NuEJ81z6wPyaF7Pq7Kek/tLhCfNc+sD/frEJ81z6wP3ezQnzXPrA/pqtCfNc+sD9LtkJ81z6wP5d4QQndack/TGpPlzYnqz9HykJ81z6wPy5PeGUrKOg/WAoAAABpbnRlcmNlcHRfcShoFCmBcSl9cSooaBdoGGgZSwGFcStoG2gHaBxoIGgjiHViGS3LxAhwtz9YBwAAAG5faXRlcl9xLGgUKYFxLX1xLihoF2gYaBlLAYVxL2gbaAdoHGgdWAIAAABpNHEwSwBLAYdxMVJxMihLA2ghTk5OSv////9K/////0sAdHEzYmgjiHViBwAAAFgQAAAAX3NrbGVhcm5fdmVyc2lvbnE0WAYAAAAwLjIwLjNxNXViLg=='"
      ]
     },
     "execution_count": 8,
     "metadata": {},
     "output_type": "execute_result"
    }
   ],
   "source": [
    "base64_data.decode()"
   ]
  },
  {
   "cell_type": "markdown",
   "metadata": {},
   "source": [
    "### base64解码为原二进制数据"
   ]
  },
  {
   "cell_type": "code",
   "execution_count": 13,
   "metadata": {},
   "outputs": [
    {
     "data": {
      "text/plain": [
       "b'\\x80\\x03csklearn.linear_model.logistic\\nLogisticRegression\\nq\\x00)\\x81q\\x01}q\\x02(X\\x07\\x00\\x00\\x00penaltyq\\x03X\\x02\\x00\\x00\\x00l2q\\x04X\\x04\\x00\\x00\\x00dualq\\x05\\x89X\\x03\\x00\\x00\\x00tolq\\x06G?\\x1a6\\xe2\\xeb\\x1cC-X\\x01\\x00\\x00\\x00Cq\\x07G?\\xf0\\x00\\x00\\x00\\x00\\x00\\x00X\\r\\x00\\x00\\x00fit_interceptq\\x08\\x88X\\x11\\x00\\x00\\x00intercept_scalingq\\tK\\x01X\\x0c\\x00\\x00\\x00class_weightq\\nNX\\x0c\\x00\\x00\\x00random_stateq\\x0bNX\\x06\\x00\\x00\\x00solverq\\x0cX\\x04\\x00\\x00\\x00warnq\\rX\\x08\\x00\\x00\\x00max_iterq\\x0eKdX\\x0b\\x00\\x00\\x00multi_classq\\x0fh\\rX\\x07\\x00\\x00\\x00verboseq\\x10K\\x00X\\n\\x00\\x00\\x00warm_startq\\x11\\x89X\\x06\\x00\\x00\\x00n_jobsq\\x12NX\\x08\\x00\\x00\\x00classes_q\\x13csklearn.externals.joblib.numpy_pickle\\nNumpyArrayWrapper\\nq\\x14)\\x81q\\x15}q\\x16(X\\x08\\x00\\x00\\x00subclassq\\x17cnumpy\\nndarray\\nq\\x18X\\x05\\x00\\x00\\x00shapeq\\x19K\\x02\\x85q\\x1aX\\x05\\x00\\x00\\x00orderq\\x1bh\\x07X\\x05\\x00\\x00\\x00dtypeq\\x1ccnumpy\\ndtype\\nq\\x1dX\\x02\\x00\\x00\\x00f8q\\x1eK\\x00K\\x01\\x87q\\x1fRq (K\\x03X\\x01\\x00\\x00\\x00<q!NNNJ\\xff\\xff\\xff\\xffJ\\xff\\xff\\xff\\xffK\\x00tq\"bX\\n\\x00\\x00\\x00allow_mmapq#\\x88ub\\x00\\x00\\x00\\x00\\x00\\x00\\x00\\x00\\x00\\x00\\x00\\x00\\x00\\x00\\xf0?X\\x05\\x00\\x00\\x00coef_q$h\\x14)\\x81q%}q&(h\\x17h\\x18h\\x19K\\x01K(\\x86q\\'h\\x1bh\\x07h\\x1ch h#\\x88ub\\xfd\\x9a\\xfd|\\x0b\\x03\\xeb?\\x17\\xb9V\\xba\\xe5\\x84\\xfa?D\\xb8V\\xba\\xe5\\x84\\xfa?D)\\x96\\x04^}\\xaa?\\x8e\\x8b\\xd1\\xd8&\\xbf\\xaf?\\x05\\xa5B|\\xd7>\\xb0?f\\xb1B|\\xd7>\\xb0?\\x0b\\xb9B|\\xd7>\\xb0?|\\xa6B|\\xd7>\\xb0?\\x12\\xaeB|\\xd7>\\xb0?\\xe5\\x9eB|\\xd7>\\xb0?6\\x13\\xf4C\\x00\\xb4\\xaa?A##\\x87\\xe8\\x8a\\xaa?\\x1b\\xbdxb\\xed\\x93\\xf7?:\\xb9V\\xba\\xe5\\x84\\xfa?0\\xb9V\\xba\\xe5\\x84\\xfa?L\\xb7B|\\xd7>\\xb0?,\\xd6B|\\xd7>\\xb0?C\\xb5B|\\xd7>\\xb0?\\x189,:\\xebb\\xf3?\\xf3\\xed8\\xaa\\xc0?\\x01@D,\\xeb\\x1e!z\\xc5?\\x85#\\xeb\\x1e!z\\xc5?\\x03\\xad\\xbe9\\x8a\\xc5\\xe5?6:X\\xa6\\xb0c\\xf2?%s\\x82\\xf34n\\xf3?\\\\\\x94\\xaa\\x96\\xfc\\x9d\\xed?Ms\\xddr2\\xd3\\xe6?\\xad\\x91A#u\\xc6\\xe4?M\\xb8B|\\xd7>\\xb0?&\\x85\\xec\\xfa\\xbb)\\xe9?\\xb4\\xb8B|\\xd7>\\xb0?\\xdf\\xacB|\\xd7>\\xb0?w\\xb3B|\\xd7>\\xb0?\\xa6\\xabB|\\xd7>\\xb0?K\\xb6B|\\xd7>\\xb0?\\x97xA\\t\\xddi\\xc9?LjO\\x976\\'\\xab?G\\xcaB|\\xd7>\\xb0?.Oxe+(\\xe8?X\\n\\x00\\x00\\x00intercept_q(h\\x14)\\x81q)}q*(h\\x17h\\x18h\\x19K\\x01\\x85q+h\\x1bh\\x07h\\x1ch h#\\x88ub\\x19-\\xcb\\xc4\\x08p\\xb7?X\\x07\\x00\\x00\\x00n_iter_q,h\\x14)\\x81q-}q.(h\\x17h\\x18h\\x19K\\x01\\x85q/h\\x1bh\\x07h\\x1ch\\x1dX\\x02\\x00\\x00\\x00i4q0K\\x00K\\x01\\x87q1Rq2(K\\x03h!NNNJ\\xff\\xff\\xff\\xffJ\\xff\\xff\\xff\\xffK\\x00tq3bh#\\x88ub\\x07\\x00\\x00\\x00X\\x10\\x00\\x00\\x00_sklearn_versionq4X\\x06\\x00\\x00\\x000.20.3q5ub.'"
      ]
     },
     "execution_count": 13,
     "metadata": {},
     "output_type": "execute_result"
    }
   ],
   "source": [
    "o = base64.b64decode(base64_data.decode())\n",
    "o"
   ]
  },
  {
   "cell_type": "markdown",
   "metadata": {},
   "source": [
    "### 将二进制数据写入文件"
   ]
  },
  {
   "cell_type": "code",
   "execution_count": 14,
   "metadata": {},
   "outputs": [],
   "source": [
    "with open('data/model_n.pickle', mode='wb') as f:\n",
    "    f.write(o)"
   ]
  },
  {
   "cell_type": "code",
   "execution_count": 10,
   "metadata": {},
   "outputs": [],
   "source": [
    "from sklearn.externals import joblib"
   ]
  },
  {
   "cell_type": "code",
   "execution_count": 15,
   "metadata": {},
   "outputs": [],
   "source": [
    "model = joblib.load('data/model_n.pickle')"
   ]
  },
  {
   "cell_type": "code",
   "execution_count": 17,
   "metadata": {},
   "outputs": [
    {
     "data": {
      "text/plain": [
       "array([[0.28177481, 0.71822519]])"
      ]
     },
     "execution_count": 17,
     "metadata": {},
     "output_type": "execute_result"
    }
   ],
   "source": [
    "ll = [0] * 40\n",
    "ll[0] = 1\n",
    "model.predict_proba([ll])"
   ]
  },
  {
   "cell_type": "code",
   "execution_count": null,
   "metadata": {},
   "outputs": [],
   "source": []
  },
  {
   "cell_type": "markdown",
   "metadata": {},
   "source": [
    "# 把一个整数转换为数值列表"
   ]
  },
  {
   "cell_type": "code",
   "execution_count": 4,
   "metadata": {},
   "outputs": [
    {
     "data": {
      "text/plain": [
       "[8, 6, 5, 7]"
      ]
     },
     "execution_count": 4,
     "metadata": {},
     "output_type": "execute_result"
    }
   ],
   "source": [
    "n = 8657\n",
    "list(map(int, str(n)))"
   ]
  },
  {
   "cell_type": "markdown",
   "metadata": {},
   "source": [
    "# 格式化\n",
    "https://www.runoob.com/python/att-string-format.html"
   ]
  },
  {
   "cell_type": "code",
   "execution_count": 9,
   "metadata": {},
   "outputs": [
    {
     "name": "stdout",
     "output_type": "stream",
     "text": [
      "123456789       -       123456789\n",
      "123456789       -       123456789\n"
     ]
    }
   ],
   "source": [
    "print('%-16s-%16s\\n%-16s-%16s' % ('123456789', '123456789', '123456789', '123456789'))"
   ]
  },
  {
   "cell_type": "code",
   "execution_count": 11,
   "metadata": {},
   "outputs": [
    {
     "name": "stdout",
     "output_type": "stream",
     "text": [
      "123456789       -       123456789\n",
      "123456789       -       123456789\n"
     ]
    }
   ],
   "source": [
    "print('{:<16d}-{:16d}\\n{:<16d}-{:16d}'.format(123456789, 123456789, 123456789, 123456789))"
   ]
  },
  {
   "cell_type": "code",
   "execution_count": 12,
   "metadata": {},
   "outputs": [
    {
     "name": "stdout",
     "output_type": "stream",
     "text": [
      "123456789       -123456789       \n",
      "123456789       -123456789       \n"
     ]
    }
   ],
   "source": [
    "print('{:<16s}-{:16s}\\n{:<16s}-{:16s}'.format('123456789', '123456789', '123456789', '123456789'))\n",
    "        "
   ]
  },
  {
   "cell_type": "code",
   "execution_count": 13,
   "metadata": {},
   "outputs": [
    {
     "data": {
      "text/plain": [
       "'3.14'"
      ]
     },
     "execution_count": 13,
     "metadata": {},
     "output_type": "execute_result"
    }
   ],
   "source": [
    "\"{:.2f}\".format(3.1415926)"
   ]
  },
  {
   "cell_type": "code",
   "execution_count": 14,
   "metadata": {},
   "outputs": [
    {
     "data": {
      "text/plain": [
       "'314.16%'"
      ]
     },
     "execution_count": 14,
     "metadata": {},
     "output_type": "execute_result"
    }
   ],
   "source": [
    "\"{:.2%}\".format(3.1415926)"
   ]
  },
  {
   "cell_type": "code",
   "execution_count": 15,
   "metadata": {},
   "outputs": [
    {
     "data": {
      "text/plain": [
       "'3.14e+00'"
      ]
     },
     "execution_count": 15,
     "metadata": {},
     "output_type": "execute_result"
    }
   ],
   "source": [
    "\"{:.2e}\".format(3.1415926)"
   ]
  },
  {
   "cell_type": "markdown",
   "metadata": {},
   "source": [
    "## zfill\n",
    "Pad a numeric string with zeros on the left, to fill a field of the given width."
   ]
  },
  {
   "cell_type": "code",
   "execution_count": 1,
   "metadata": {},
   "outputs": [
    {
     "data": {
      "text/plain": [
       "'2fdfdfd23'"
      ]
     },
     "execution_count": 1,
     "metadata": {},
     "output_type": "execute_result"
    }
   ],
   "source": [
    "a = '2fdfdfd23'\n",
    "a.zfill(5)"
   ]
  },
  {
   "cell_type": "code",
   "execution_count": 2,
   "metadata": {},
   "outputs": [
    {
     "data": {
      "text/plain": [
       "'00023'"
      ]
     },
     "execution_count": 2,
     "metadata": {},
     "output_type": "execute_result"
    }
   ],
   "source": [
    "a = '23'\n",
    "a.zfill(5)"
   ]
  },
  {
   "cell_type": "code",
   "execution_count": 6,
   "metadata": {},
   "outputs": [
    {
     "data": {
      "text/plain": [
       "'000he'"
      ]
     },
     "execution_count": 6,
     "metadata": {},
     "output_type": "execute_result"
    }
   ],
   "source": [
    "a = 'he'\n",
    "a.zfill(5)"
   ]
  },
  {
   "cell_type": "code",
   "execution_count": 7,
   "metadata": {},
   "outputs": [
    {
     "data": {
      "text/plain": [
       "'0000中'"
      ]
     },
     "execution_count": 7,
     "metadata": {},
     "output_type": "execute_result"
    }
   ],
   "source": [
    "a = '中'\n",
    "a.zfill(5)"
   ]
  },
  {
   "cell_type": "markdown",
   "metadata": {},
   "source": [
    "# string库"
   ]
  },
  {
   "cell_type": "code",
   "execution_count": 2,
   "metadata": {},
   "outputs": [],
   "source": [
    "import string"
   ]
  },
  {
   "cell_type": "code",
   "execution_count": 3,
   "metadata": {},
   "outputs": [],
   "source": [
    "ALPHA = string.ascii_letters  # 26英文小写字母+26个英文大写字母\n",
    "DIGIT = string.digits"
   ]
  },
  {
   "cell_type": "code",
   "execution_count": 4,
   "metadata": {},
   "outputs": [
    {
     "data": {
      "text/plain": [
       "'abcdefghijklmnopqrstuvwxyzABCDEFGHIJKLMNOPQRSTUVWXYZ'"
      ]
     },
     "execution_count": 4,
     "metadata": {},
     "output_type": "execute_result"
    }
   ],
   "source": [
    "ALPHA"
   ]
  },
  {
   "cell_type": "code",
   "execution_count": 5,
   "metadata": {},
   "outputs": [
    {
     "data": {
      "text/plain": [
       "'0123456789'"
      ]
     },
     "execution_count": 5,
     "metadata": {},
     "output_type": "execute_result"
    }
   ],
   "source": [
    "DIGIT"
   ]
  },
  {
   "cell_type": "code",
   "execution_count": 11,
   "metadata": {},
   "outputs": [
    {
     "data": {
      "text/plain": [
       "'一'"
      ]
     },
     "execution_count": 11,
     "metadata": {},
     "output_type": "execute_result"
    }
   ],
   "source": [
    "'\\u4E00'"
   ]
  },
  {
   "cell_type": "code",
   "execution_count": 12,
   "metadata": {},
   "outputs": [
    {
     "data": {
      "text/plain": [
       "'龥'"
      ]
     },
     "execution_count": 12,
     "metadata": {},
     "output_type": "execute_result"
    }
   ],
   "source": [
    "'\\u9FA5'"
   ]
  },
  {
   "cell_type": "code",
   "execution_count": 8,
   "metadata": {},
   "outputs": [],
   "source": [
    "#export\n",
    "def remove_non_chinese_char(context):\n",
    "    import re\n",
    "    filtrate = re.compile(u'[^\\u4E00-\\u9FA5|a-zA-Z0-9/]')  # non-Chinese unicode range\n",
    "    context = filtrate.sub(r'', context)  # remove all non-Chinese characters\n",
    "    return context"
   ]
  },
  {
   "cell_type": "code",
   "execution_count": 9,
   "metadata": {},
   "outputs": [
    {
     "data": {
      "text/plain": [
       "'H93100耳鸣Z00001健康查体J39900'"
      ]
     },
     "execution_count": 9,
     "metadata": {},
     "output_type": "execute_result"
    }
   ],
   "source": [
    "remove_non_chinese_char(\"['H93.100 耳鸣 Z00.001 健康查体 J39.900\")"
   ]
  },
  {
   "cell_type": "code",
   "execution_count": null,
   "metadata": {},
   "outputs": [],
   "source": []
  }
 ],
 "metadata": {
  "kernelspec": {
   "display_name": "Python 3",
   "language": "python",
   "name": "python3"
  },
  "language_info": {
   "codemirror_mode": {
    "name": "ipython",
    "version": 3
   },
   "file_extension": ".py",
   "mimetype": "text/x-python",
   "name": "python",
   "nbconvert_exporter": "python",
   "pygments_lexer": "ipython3",
   "version": "3.8.3"
  },
  "toc": {
   "base_numbering": 1,
   "nav_menu": {},
   "number_sections": true,
   "sideBar": true,
   "skip_h1_title": false,
   "title_cell": "Table of Contents",
   "title_sidebar": "Contents",
   "toc_cell": false,
   "toc_position": {},
   "toc_section_display": true,
   "toc_window_display": true
  },
  "varInspector": {
   "cols": {
    "lenName": 16,
    "lenType": 16,
    "lenVar": 40
   },
   "kernels_config": {
    "python": {
     "delete_cmd_postfix": "",
     "delete_cmd_prefix": "del ",
     "library": "var_list.py",
     "varRefreshCmd": "print(var_dic_list())"
    },
    "r": {
     "delete_cmd_postfix": ") ",
     "delete_cmd_prefix": "rm(",
     "library": "var_list.r",
     "varRefreshCmd": "cat(var_dic_list()) "
    }
   },
   "types_to_exclude": [
    "module",
    "function",
    "builtin_function_or_method",
    "instance",
    "_Feature"
   ],
   "window_display": false
  }
 },
 "nbformat": 4,
 "nbformat_minor": 2
}
