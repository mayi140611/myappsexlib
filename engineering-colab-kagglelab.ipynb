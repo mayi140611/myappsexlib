{
 "cells": [
  {
   "cell_type": "code",
   "execution_count": 3,
   "metadata": {},
   "outputs": [],
   "source": [
    "# default_exp engineering.colab\n",
    "\n",
    "%reload_ext autoreload\n",
    "%autoreload 2"
   ]
  },
  {
   "cell_type": "markdown",
   "metadata": {},
   "source": [
    "# colab\n",
    "\n",
    "可以通过google云盘 https://drive.google.com/drive/my-drive 直接打开\n",
    "\n",
    "## 优点\n",
    "* 最大的优势可以免费使用GPU  \n",
    "* 可以同时运行两个notebook  \n",
    "每个notebook的硬件配置:\n",
    "    * CPU: 2  Intel(R) Xeon(R) CPU @ 2.20GHz\n",
    "    * 内存: 12G\n",
    "    * 硬盘: 100G\n",
    "    \n",
    "## 缺点\n",
    "* 最大的缺点就是内存12g太小了， 现在的想法就是看看能否通过swap搞大点\n",
    "* 硬盘 最方便的还是挂载Google云盘，15g也有点小  \n",
    "还好本地还有100g，可用60g，必要的时候腾挪一下，也勉强够用  \n",
    "\n",
    "    !cp -r \"/content/drive/My Drive/train_file\" /content\n",
    "* 一段时间不用的话会断开连接  \n",
    "这个也很致命，解决办法: 一是经常保存, 二是\n",
    "\n",
    "    只需在Linux系统中按快捷键F12或者Ctrl+Shift+I，打开Chrome开发工具( DevTools)，在面板中运行以下JavaScript代码："
   ]
  },
  {
   "cell_type": "code",
   "execution_count": null,
   "metadata": {},
   "outputs": [],
   "source": [
    "function KeepClicking(){\n",
    "      console.log(\"Clicking\");\n",
    "      document.querySelector(\"colab-toolbar-button#connect\").click()\n",
    "}setInterval(KeepClicking,60000)"
   ]
  },
  {
   "cell_type": "markdown",
   "metadata": {},
   "source": [
    "\n",
    "    其中，数值60000表示60000毫秒（相当于一分钟）。运行这一小段代码能够让电脑每一分钟自动点击一次Colab屏幕，这样Colab就不会认为电脑处于无操作状态，用户也就不必担心断开连接了。\n",
    "\n",
    "## 资源\n",
    "苦逼学生党的Google Colab使用心得 https://zhuanlan.zhihu.com/p/54389036\n",
    "\n",
    "增大内存、防止断连……Google Colab，你还有什么惊喜我不知道？https://zhuanlan.zhihu.com/p/137537499"
   ]
  },
  {
   "cell_type": "markdown",
   "metadata": {},
   "source": [
    "# kagglelab\n",
    "https://www.kaggle.com/notebooks\n",
    "\n",
    "https://www.kaggle.com/docs/notebooks\n",
    "\n",
    "两大免费云端 GPU：Colab 和 Kaggle，爱学习的你究竟该如何选择？https://moore.live/news/136235/detail/"
   ]
  },
  {
   "cell_type": "markdown",
   "metadata": {},
   "source": [
    "# nb_export"
   ]
  },
  {
   "cell_type": "code",
   "execution_count": 2,
   "metadata": {
    "scrolled": true
   },
   "outputs": [
    {
     "name": "stdout",
     "output_type": "stream",
     "text": [
      "Converted 00_core.ipynb.\n",
      "Converted 00_template.ipynb.\n",
      "Converted active_learning.ipynb.\n",
      "Converted algo_dl_keras.ipynb.\n",
      "Converted algo_ml_eda.ipynb.\n",
      "Converted algo_ml_tree_catboost.ipynb.\n",
      "Converted algo_ml_tree_lgb.ipynb.\n",
      "Converted algo_rs_associated_rules.ipynb.\n",
      "Converted algo_rs_match_deepmatch.ipynb.\n",
      "Converted algo_rs_matrix.ipynb.\n",
      "Converted algo_rs_search_vector_faiss.ipynb.\n",
      "Converted algo_seq_embeding.ipynb.\n",
      "Converted algo_seq_features_extraction_text.ipynb.\n",
      "Converted datastructure_dict_list_set.ipynb.\n",
      "Converted datastructure_matrix_sparse.ipynb.\n",
      "Converted engineering_concurrency.ipynb.\n",
      "Converted engineering_nbdev.ipynb.\n",
      "Converted engineering_panel.ipynb.\n",
      "Converted engineering_snorkel.ipynb.\n",
      "Converted index.ipynb.\n",
      "Converted math_func_basic.ipynb.\n",
      "Converted math_func_loss.ipynb.\n",
      "Converted operating_system_command.ipynb.\n",
      "Converted plot.ipynb.\n",
      "Converted utils_functools.ipynb.\n",
      "Converted utils_json.ipynb.\n",
      "Converted utils_pickle.ipynb.\n",
      "Converted utils_time.ipynb.\n"
     ]
    }
   ],
   "source": [
    "from nbdev.export import *\n",
    "notebook2script()"
   ]
  },
  {
   "cell_type": "code",
   "execution_count": 7,
   "metadata": {},
   "outputs": [
    {
     "name": "stdout",
     "output_type": "stream",
     "text": [
      "No notebooks were modified\r\n",
      "converting /Users/luoyonggui/PycharmProjects/nbdevlib/index.ipynb to README.md\r\n"
     ]
    }
   ],
   "source": [
    "!nbdev_build_docs"
   ]
  },
  {
   "cell_type": "code",
   "execution_count": null,
   "metadata": {},
   "outputs": [],
   "source": []
  }
 ],
 "metadata": {
  "kernelspec": {
   "display_name": "Python 3",
   "language": "python",
   "name": "python3"
  },
  "language_info": {
   "codemirror_mode": {
    "name": "ipython",
    "version": 3
   },
   "file_extension": ".py",
   "mimetype": "text/x-python",
   "name": "python",
   "nbconvert_exporter": "python",
   "pygments_lexer": "ipython3",
   "version": "3.7.3"
  },
  "toc": {
   "base_numbering": 1,
   "nav_menu": {},
   "number_sections": true,
   "sideBar": true,
   "skip_h1_title": false,
   "title_cell": "Table of Contents",
   "title_sidebar": "Contents",
   "toc_cell": false,
   "toc_position": {},
   "toc_section_display": true,
   "toc_window_display": true
  }
 },
 "nbformat": 4,
 "nbformat_minor": 2
}
