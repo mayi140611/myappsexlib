{
 "cells": [
  {
   "cell_type": "code",
   "execution_count": 3,
   "metadata": {},
   "outputs": [],
   "source": [
    "# default_exp algo.rs.search.vector.faiss\n",
    "\n",
    "%reload_ext autoreload\n",
    "%autoreload 2"
   ]
  },
  {
   "cell_type": "code",
   "execution_count": null,
   "metadata": {},
   "outputs": [],
   "source": [
    "algo_rs_search_vector_faiss"
   ]
  },
  {
   "cell_type": "markdown",
   "metadata": {},
   "source": [
    "# Faiss\n",
    "https://github.com/facebookresearch/faiss\n",
    "\n",
    "Faiss is a library for efficient similarity search and clustering of dense vectors. \n",
    "\n",
    "Faiss是一个高效相似度搜索和稠密向量聚类的库。\n",
    "\n",
    "It contains algorithms that search in sets of vectors of any size, up to ones that possibly do not fit in RAM. It also contains supporting code for evaluation and parameter tuning. Faiss is written in C++ with complete wrappers for Python/numpy. \n",
    "\n",
    "它包含可搜索任意大小的向量集的算法，最多可搜索不适合RAM的向量。 它还包含用于评估和参数调整的支持代码。 Faiss用C ++编写，带有完整的Python / numpy包装器。\n",
    "\n",
    "Some of the most useful algorithms are implemented on the GPU. It is developed by Facebook AI Research.\n",
    "\n",
    "## How Faiss works\n",
    "\n",
    "Faiss is built around an index type that stores a set of vectors, and provides a function to search in them with L2 and/or dot product vector comparison. Some index types are simple baselines, such as exact search. Most of the available indexing structures correspond to various trade-offs with respect to\n",
    "\n",
    "    search time\n",
    "    search quality\n",
    "    memory used per index vector\n",
    "    training time\n",
    "    need for external data for unsupervised training\n",
    "\n",
    "The optional GPU implementation provides what is likely (as of March 2017) the fastest exact and approximate (compressed-domain) nearest neighbor search implementation for high-dimensional vectors, fastest Lloyd's k-means, and fastest small k-selection algorithm known. "
   ]
  },
  {
   "cell_type": "markdown",
   "metadata": {},
   "source": [
    "# Getting-started\n",
    "https://github.com/facebookresearch/faiss/wiki/Getting-started\n",
    "\n",
    "Faiss处理固定维数d（通常为10到100 s）的向量的集合。 这些集合可以存储在矩阵中。 我们假设行主要存储，即向量编号i的第j个分量存储在矩阵的第i行第j列。 Faiss仅使用32位浮点矩阵。\n",
    "\n",
    "Faiss handles collections of vectors of a fixed dimensionality d, typically a few 10s to 100s. These collections can be stored in matrices. We assume row-major storage, ie. the j'th component of vector number i is stored in row i, column j of the matrix. Faiss uses only 32-bit floating point matrices.\n",
    "\n",
    "## Getting some data\n",
    "We need two matrices:\n",
    "\n",
    "    xb for the database, that contains all the vectors that must be indexed, and that we are going to search in. Its size is nb-by-d\n",
    "    xq for the query vectors, for which we need to find the nearest neighbors. Its size is nq-by-d. If we have a single query vector, nq=1.\n",
    "\n",
    "在以下示例中，我们将使用以d = 64维的均匀分布形式绘制的矢量。 只是为了好玩，我们在第一维上添加了取决于向量索引的小平移。\n",
    "\n",
    "In the following examples we are going to work with vectors that are drawn form a uniform distribution in d=64 dimensions. Just for fun, we add small translation along the first dimension that depends on the vector index.\n",
    "\n",
    "In Python, the matrices are always represented as numpy arrays. __The data type dtype must be float32__."
   ]
  },
  {
   "cell_type": "code",
   "execution_count": 7,
   "metadata": {},
   "outputs": [],
   "source": [
    "import numpy as np\n",
    "d = 64                           # dimension\n",
    "nb = 100000                      # database size\n",
    "nq = 10000                       # nb of queries\n",
    "np.random.seed(1234)             # make reproducible\n",
    "# xb = np.random.random((nb, d))\n",
    "# xq = np.random.random((nq, d))\n",
    "xb = np.random.random((nb, d)).astype('float32')\n",
    "xq = np.random.random((nq, d)).astype('float32')\n",
    "xb[:, 0] += np.arange(nb) / 1000.\n",
    "xq[:, 0] += np.arange(nq) / 1000."
   ]
  },
  {
   "cell_type": "markdown",
   "metadata": {},
   "source": [
    "## Building an index and adding the vectors to it\n",
    "Faiss围绕Index对象构建。 它封装了数据库向量集，并可选地对其进行预处理以提高搜索效率。 索引的类型很多，我们将使用对它们执行暴力L2距离搜索的最简单版本：IndexFlatL2。\n",
    "\n",
    "在我们的例子中，所有索引都需要知道何时建立索引，即它们操作的向量的维数。 然后，大多数索引还需要训练阶段，以分析向量的分布。 对于IndexFlatL2，我们可以跳过此操作。\n",
    "\n",
    "构建和训练索引后，可以对索引执行两项操作：add和search。\n",
    "\n",
    "要将元素添加到索引，我们在xb上调用add。 我们还可以显示索引的两个状态变量：is_trained，一个布尔值，指示是否需要训练，以及ntotal，即索引向量的数量。\n",
    "\n",
    "一些索引还可以存储与每个向量相对应的整数ID（但不能存储IndexFlatL2）。 如果未提供ID，则add仅将向量序数用作ID，即。 第一个向量为0，第二个为1，依此类推。"
   ]
  },
  {
   "cell_type": "code",
   "execution_count": 8,
   "metadata": {},
   "outputs": [
    {
     "name": "stdout",
     "output_type": "stream",
     "text": [
      "True\n",
      "100000\n"
     ]
    }
   ],
   "source": [
    "import faiss                   # make faiss available\n",
    "index = faiss.IndexFlatL2(d)   # build the index\n",
    "print(index.is_trained)\n",
    "index.add(xb)                  # add vectors to the index\n",
    "print(index.ntotal)"
   ]
  },
  {
   "cell_type": "markdown",
   "metadata": {},
   "source": [
    "## Searching\n",
    "可以对索引执行的基本搜索操作是k最近邻搜索，即k。 对于每个查询向量，在数据库中找到它的k个最近邻居。\n",
    "\n",
    "此操作的结果可以方便地存储在大小为nq-k的整数矩阵中，其中第i行包含查询向量i邻居的ID（按距离递增排序）。 除了此矩阵之外，搜索操作还返回具有相应平方距离的nq-k浮点矩阵。\n",
    "\n",
    "作为健全性检查，我们可以首先搜索一些数据库向量，以确保最近的邻居确实是向量本身。\n"
   ]
  },
  {
   "cell_type": "code",
   "execution_count": 7,
   "metadata": {},
   "outputs": [
    {
     "data": {
      "text/plain": [
       "7.1751738"
      ]
     },
     "execution_count": 7,
     "metadata": {},
     "output_type": "execute_result"
    }
   ],
   "source": [
    "np.sum(np.square(xb[393] - xb[0]))"
   ]
  },
  {
   "cell_type": "code",
   "execution_count": 3,
   "metadata": {},
   "outputs": [
    {
     "name": "stdout",
     "output_type": "stream",
     "text": [
      "[[  0 393 363  78]\n",
      " [  1 555 277 364]\n",
      " [  2 304 101  13]\n",
      " [  3 173  18 182]\n",
      " [  4 288 370 531]]\n",
      "[[0.        7.1751733 7.207629  7.2511625]\n",
      " [0.        6.3235645 6.684581  6.7999454]\n",
      " [0.        5.7964087 6.391736  7.2815123]\n",
      " [0.        7.2779055 7.5279865 7.6628466]\n",
      " [0.        6.7638035 7.2951202 7.3688145]]\n",
      "[[ 381  207  210  477]\n",
      " [ 526  911  142   72]\n",
      " [ 838  527 1290  425]\n",
      " [ 196  184  164  359]\n",
      " [ 526  377  120  425]]\n",
      "[[ 9900 10500  9309  9831]\n",
      " [11055 10895 10812 11321]\n",
      " [11353 11103 10164  9787]\n",
      " [10571 10664 10632  9638]\n",
      " [ 9628  9554 10036  9582]]\n"
     ]
    }
   ],
   "source": [
    "k = 4                          # we want to see 4 nearest neighbors\n",
    "# 找出和xb中前5个向量 最相近的4个\n",
    "D, I = index.search(xb[:5], k) # sanity check\n",
    "print(I)\n",
    "\"\"\"\n",
    "[[  0 393 363  78]  # xb中和xb[0]最相近的4个向量的索引，第一个当然是它自己\n",
    " [  1 555 277 364]\n",
    " [  2 304 101  13]\n",
    " [  3 173  18 182]\n",
    " [  4 288 370 531]]\n",
    "\"\"\"\n",
    "print(D)\n",
    "# np.sum(np.square(xb[393] - xb[0])) # 7.1751738\n",
    "\"\"\"\n",
    "[[0.        7.1751733 7.207629  7.2511625] # 每个向量和xb[0]的L2距离(平方和)，\n",
    " [0.        6.3235645 6.684581  6.7999454]\n",
    " [0.        5.7964087 6.391736  7.2815123]\n",
    " [0.        7.2779055 7.5279865 7.6628466]\n",
    " [0.        6.7638035 7.2951202 7.3688145]]\n",
    "\"\"\"\n",
    "D, I = index.search(xq, k)     # actual search\n",
    "print(I[:5])                   # neighbors of the 5 first queries\n",
    "print(I[-5:])                  # neighbors of the 5 last queries"
   ]
  },
  {
   "cell_type": "markdown",
   "metadata": {},
   "source": [
    "# Faiss indexes\n",
    "https://github.com/facebookresearch/faiss/wiki/Faiss-indexes\n",
    "## IndexFlatL2\n",
    "Exact Search for L2 \n",
    "## IndexFlatIP\n",
    "Exact Search for Inner Product"
   ]
  },
  {
   "cell_type": "code",
   "execution_count": 8,
   "metadata": {},
   "outputs": [
    {
     "name": "stdout",
     "output_type": "stream",
     "text": [
      "True\n",
      "100000\n"
     ]
    }
   ],
   "source": [
    "import faiss                   # make faiss available\n",
    "index = faiss.IndexFlatIP(d)   # build the index\n",
    "print(index.is_trained)\n",
    "index.add(xb)                  # add vectors to the index\n",
    "print(index.ntotal)"
   ]
  },
  {
   "cell_type": "code",
   "execution_count": 9,
   "metadata": {},
   "outputs": [],
   "source": [
    "from datetime import datetime"
   ]
  },
  {
   "cell_type": "code",
   "execution_count": 11,
   "metadata": {},
   "outputs": [
    {
     "data": {
      "text/plain": [
       "40.843704"
      ]
     },
     "execution_count": 11,
     "metadata": {},
     "output_type": "execute_result"
    }
   ],
   "source": [
    "xb[0].dot(xb[99415])"
   ]
  },
  {
   "cell_type": "code",
   "execution_count": 10,
   "metadata": {},
   "outputs": [
    {
     "name": "stdout",
     "output_type": "stream",
     "text": [
      "[[99415 98718 94699 96532]\n",
      " [98709 99761 99849 98847]\n",
      " [98847 99761 98069 86253]\n",
      " [97095 92061 99415 98994]\n",
      " [98847 99849 97601 97347]]\n",
      "[[40.843704 40.580116 40.504456 40.155773]\n",
      " [59.272552 59.212288 58.87538  58.83562 ]\n",
      " [29.629923 29.424158 29.413244 29.312313]\n",
      " [36.619133 36.581078 36.45857  36.2538  ]\n",
      " [40.054226 39.87035  39.75753  39.59665 ]]\n",
      "0:00:04.177036\n",
      "[[99849 99597 99614 99196]\n",
      " [99761 99195 99709 98711]\n",
      " [99702 99962 99886 98925]\n",
      " [99712 96098 96532 88354]\n",
      " [99886 98847 99530 99614]]\n",
      "[[99920 99965 99969 99826]\n",
      " [99826 99920 99986 99978]\n",
      " [99920 99826 99965 99874]\n",
      " [99932 99920 99978 99905]\n",
      " [99826 99986 99932 99978]]\n"
     ]
    }
   ],
   "source": [
    "k = 4                          # we want to see 4 nearest neighbors\n",
    "# 找出和xb中前5个向量 最相近的4个\n",
    "D, I = index.search(xb[:5], k) # sanity check\n",
    "print(I)\n",
    "\"\"\"\n",
    "[[99415 98718 94699 96532] # xb[0].dot(xb[99415]) # 40.843704\n",
    " [98709 99761 99849 98847]\n",
    " [98847 99761 98069 86253]\n",
    " [97095 92061 99415 98994]\n",
    " [98847 99849 97601 97347]]\n",
    "\"\"\"\n",
    "print(D)\n",
    "# np.sum(np.square(xb[393] - xb[0])) # 7.1751738\n",
    "\"\"\"\n",
    "[[40.843704 40.580116 40.504456 40.155773]\n",
    " [59.272552 59.212288 58.87538  58.83562 ]\n",
    " [29.629923 29.424158 29.413244 29.312313]\n",
    " [36.619133 36.581078 36.45857  36.2538  ]\n",
    " [40.054226 39.87035  39.75753  39.59665 ]]\n",
    "\"\"\"\n",
    "s = datetime.now()\n",
    "D, I = index.search(xq, k)     # actual search\n",
    "s = print(datetime.now()-s)\n",
    "print(I[:5])                   # neighbors of the 5 first queries\n",
    "print(I[-5:])                  # neighbors of the 5 last queries"
   ]
  },
  {
   "cell_type": "markdown",
   "metadata": {},
   "source": [
    "### index vectors for cosine similarity?\n",
    "\n",
    "    build an index with METRIC_INNER_PRODUCT\n",
    "    normalize the vectors prior to adding them to the index (with faiss.normalize_L2 in Python)\n",
    "    normalize the vectors prior to searching them\n"
   ]
  },
  {
   "cell_type": "code",
   "execution_count": 12,
   "metadata": {},
   "outputs": [],
   "source": [
    "faiss.normalize_L2(xb)"
   ]
  },
  {
   "cell_type": "code",
   "execution_count": 14,
   "metadata": {},
   "outputs": [],
   "source": [
    "import pandas as pd"
   ]
  },
  {
   "cell_type": "code",
   "execution_count": 23,
   "metadata": {},
   "outputs": [
    {
     "data": {
      "text/plain": [
       "0    1.0\n",
       "1    1.0\n",
       "2    1.0\n",
       "3    1.0\n",
       "4    1.0\n",
       "dtype: float64"
      ]
     },
     "execution_count": 23,
     "metadata": {},
     "output_type": "execute_result"
    }
   ],
   "source": [
    "pd.DataFrame(xb).T.iloc[:, :5].apply(lambda s: np.sum(np.square(s))) # L2为1"
   ]
  },
  {
   "cell_type": "code",
   "execution_count": 24,
   "metadata": {},
   "outputs": [],
   "source": [
    "faiss.normalize_L2(xq)"
   ]
  },
  {
   "cell_type": "code",
   "execution_count": 26,
   "metadata": {},
   "outputs": [
    {
     "name": "stdout",
     "output_type": "stream",
     "text": [
      "True\n",
      "100000\n"
     ]
    }
   ],
   "source": [
    "import faiss                   # make faiss available\n",
    "index = faiss.IndexFlatIP(d)   # build the index\n",
    "print(index.is_trained)\n",
    "index.add(xb)                  # add vectors to the index\n",
    "print(index.ntotal)"
   ]
  },
  {
   "cell_type": "code",
   "execution_count": 30,
   "metadata": {},
   "outputs": [
    {
     "data": {
      "text/plain": [
       "numpy.ndarray"
      ]
     },
     "execution_count": 30,
     "metadata": {},
     "output_type": "execute_result"
    }
   ],
   "source": [
    "type(I)"
   ]
  },
  {
   "cell_type": "code",
   "execution_count": 33,
   "metadata": {},
   "outputs": [
    {
     "name": "stdout",
     "output_type": "stream",
     "text": [
      "0 911\n",
      "1 142\n",
      "2 526\n"
     ]
    }
   ],
   "source": [
    "for i, v in enumerate(I[1, 1:501]):\n",
    "    print(i, v)"
   ]
  },
  {
   "cell_type": "code",
   "execution_count": 27,
   "metadata": {
    "scrolled": true
   },
   "outputs": [
    {
     "name": "stdout",
     "output_type": "stream",
     "text": [
      "[[   0 1116  363  973]\n",
      " [   1 1063  555  277]\n",
      " [   2  304  101   13]\n",
      " [   3  768  316  609]\n",
      " [   4  600  288  531]]\n",
      "[[1.         0.84434    0.84233594 0.8421705 ]\n",
      " [1.0000002  0.85982877 0.8586012  0.84636354]\n",
      " [0.9999999  0.8851342  0.86010313 0.8469719 ]\n",
      " [0.99999976 0.82810056 0.8179553  0.8166504 ]\n",
      " [1.0000001  0.8542251  0.8457198  0.84149927]]\n",
      "0:00:03.359087\n",
      "[[ 207  381 1394 1019]\n",
      " [ 300  911  142  526]\n",
      " [ 838 1541  527  148]\n",
      " [ 196  359  184  466]\n",
      " [ 526  120  917  765]]\n",
      "[[12828 12631 12384 11243]\n",
      " [11055 12221 10895 12470]\n",
      " [14666 11353 11103 13305]\n",
      " [14083 12391 15504 12579]\n",
      " [11677 13662 10889 13403]]\n"
     ]
    }
   ],
   "source": [
    "k = 4                          # we want to see 4 nearest neighbors\n",
    "# 找出和xb中前5个向量 最相近的4个\n",
    "D, I = index.search(xb[:5], k) # sanity check\n",
    "print(I)\n",
    "\"\"\"\n",
    "[[   0 1116  363  973]  # xb[0].dot(xb[1116])  0.8443401\n",
    " [   1 1063  555  277]\n",
    " [   2  304  101   13]\n",
    " [   3  768  316  609]\n",
    " [   4  600  288  531]]\n",
    "\"\"\"\n",
    "print(D)\n",
    "\"\"\"\n",
    "[[1.         0.84434    0.84233594 0.8421705 ]\n",
    " [1.0000002  0.85982877 0.8586012  0.84636354]\n",
    " [0.9999999  0.8851342  0.86010313 0.8469719 ]\n",
    " [0.99999976 0.82810056 0.8179553  0.8166504 ]\n",
    " [1.0000001  0.8542251  0.8457198  0.84149927]]\n",
    "\"\"\"\n",
    "s = datetime.now()\n",
    "D, I = index.search(xq, k)     # actual search\n",
    "s = print(datetime.now()-s)\n",
    "print(I[:5])                   # neighbors of the 5 first queries\n",
    "print(I[-5:])                  # neighbors of the 5 last queries"
   ]
  },
  {
   "cell_type": "code",
   "execution_count": 12,
   "metadata": {},
   "outputs": [],
   "source": [
    "#export\n",
    "def say_hello(to):\n",
    "    \"\"\"\n",
    "    \n",
    "    \"\"\"\n",
    "    return f'Hello {to}!'"
   ]
  },
  {
   "cell_type": "markdown",
   "metadata": {},
   "source": [
    "# nb_export"
   ]
  },
  {
   "cell_type": "code",
   "execution_count": 4,
   "metadata": {},
   "outputs": [
    {
     "name": "stdout",
     "output_type": "stream",
     "text": [
      "Converted 00_core.ipynb.\n",
      "Converted engineering_nbdev.ipynb.\n",
      "Converted index.ipynb.\n"
     ]
    }
   ],
   "source": [
    "from nbdev.export import *\n",
    "notebook2script()"
   ]
  },
  {
   "cell_type": "code",
   "execution_count": 7,
   "metadata": {},
   "outputs": [
    {
     "name": "stdout",
     "output_type": "stream",
     "text": [
      "No notebooks were modified\r\n",
      "converting /Users/luoyonggui/PycharmProjects/nbdevlib/index.ipynb to README.md\r\n"
     ]
    }
   ],
   "source": [
    "!nbdev_build_docs"
   ]
  },
  {
   "cell_type": "code",
   "execution_count": null,
   "metadata": {},
   "outputs": [],
   "source": []
  }
 ],
 "metadata": {
  "kernelspec": {
   "display_name": "Python 3",
   "language": "python",
   "name": "python3"
  },
  "language_info": {
   "codemirror_mode": {
    "name": "ipython",
    "version": 3
   },
   "file_extension": ".py",
   "mimetype": "text/x-python",
   "name": "python",
   "nbconvert_exporter": "python",
   "pygments_lexer": "ipython3",
   "version": "3.7.3"
  },
  "toc": {
   "base_numbering": 1,
   "nav_menu": {},
   "number_sections": true,
   "sideBar": true,
   "skip_h1_title": false,
   "title_cell": "Table of Contents",
   "title_sidebar": "Contents",
   "toc_cell": false,
   "toc_position": {},
   "toc_section_display": true,
   "toc_window_display": true
  }
 },
 "nbformat": 4,
 "nbformat_minor": 2
}
