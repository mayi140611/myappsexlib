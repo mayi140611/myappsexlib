{
 "cells": [
  {
   "cell_type": "code",
   "execution_count": 3,
   "metadata": {},
   "outputs": [],
   "source": [
    "# default_exp algo.rs.match.matrix\n",
    "\n",
    "%reload_ext autoreload\n",
    "%autoreload 2"
   ]
  },
  {
   "cell_type": "markdown",
   "metadata": {},
   "source": [
    "# 介绍\n",
    "封装和rs相关的矩阵构建和分解的方法"
   ]
  },
  {
   "cell_type": "markdown",
   "metadata": {},
   "source": [
    "# 矩阵构建"
   ]
  },
  {
   "cell_type": "markdown",
   "metadata": {},
   "source": [
    "## 共现矩阵\n",
    "以item_item_matrix的构建为例\n",
    "\n",
    "一般共现矩阵比较稀疏\n",
    "\n",
    "这里需要定义 什么是共现\n",
    "* 是只要在一个list中就算是共现、\n",
    "* 还是在list的一个window中算共现、\n",
    "* 还是别的(如必须在item1出现之前的item才算与其共现)\n",
    "\n",
    "还需要定义共现的权重\n",
    "* 共现一次 +1\n",
    "* 还是别的 方式，如与共现的距离相关，离的越远权重越小"
   ]
  },
  {
   "cell_type": "code",
   "execution_count": 3,
   "metadata": {},
   "outputs": [],
   "source": [
    "#export\n",
    "import scipy.sparse as sp\n",
    "import pandas as pd\n",
    "import numpy as np\n",
    "import os\n",
    "from tqdm import tqdm"
   ]
  },
  {
   "cell_type": "markdown",
   "metadata": {},
   "source": [
    "## build_co_occurance_matrix"
   ]
  },
  {
   "cell_type": "code",
   "execution_count": 24,
   "metadata": {},
   "outputs": [],
   "source": [
    "#export\n",
    "\n",
    "def build_co_occurance_matrix(items_list, \n",
    "                              window=9999,\n",
    "                              penalty1=False,\n",
    "                              penalty2=False,\n",
    "                              penalty3=1, \n",
    "                              penalty4=False, \n",
    "                              norm=False,\n",
    "                              save_dir=None):\n",
    "    \"\"\"\n",
    "    矩阵index: next_items，columns: items\n",
    "    共现矩阵的构建需要考虑很多因素。可以有多种构造方法: \n",
    "        如对于一个有序序列 [item1, item2, item4] item2肯定算作item1的共现，但是item1是否算作item2的共现呢？这里有两种处理方法:\n",
    "            1 做惩罚。因为item1出现在item2之前，那么如果现在用户点击了item2，再点击item1的概率相对较低，所以要惩罚，如乘以一个小于1的惩罚系数\n",
    "            2 干脆不算做共现。这个在item有严格的顺序的情况下是合理的，相当于1的特殊情况，即惩罚系数是0\n",
    "    :items_list:\n",
    "        [\n",
    "            [item1, item2], \n",
    "            [item1, item2, item4], \n",
    "            ...\n",
    "        ]\n",
    "    : window: int\n",
    "        只有在window内才算共现\n",
    "    : penalty1:\n",
    "        对距离惩罚，距离越远，相关性越小\n",
    "    : penalty2:\n",
    "        对list长度惩罚，长度越长，对共现的价值越小\n",
    "    : penalty3: float\n",
    "        对seq方向惩罚，方向为正 不惩罚，否则惩罚\n",
    "        1表示不惩罚\n",
    "    : penalty4:\n",
    "        对item出现次数做惩罚，出现越多，对共现的价值越小\n",
    "    : norm: 暂时没有实现。。。\n",
    "        是否对向量做归一化。如果不做归一化，矩阵元素xij表示itemi和itemj共现的次数；列归一化后，表示itemj后出现itemi的概率\n",
    "        0: 不做归一化\n",
    "        1: 列归一化\n",
    "        2: 行归一化\n",
    "        \n",
    "    :return:\n",
    "        \n",
    "    \n",
    "    \"\"\"\n",
    "    from multiprocessing.dummy import Pool, Lock\n",
    "    from collections import Counter\n",
    "    \n",
    "    pool = Pool()\n",
    "    mutex = Lock()\n",
    "    item_list_flat = [ii for i in items_list for ii in i]\n",
    "    item_num_dict = dict(Counter(item_list_flat))  # 每个item出现次数的字典\n",
    "    \n",
    "    items = pd.Series(list(item_num_dict.keys()))\n",
    "    item2id = pd.Series(items.index, items)\n",
    "    \n",
    "    n_items = items.shape[0]\n",
    "    print(f'n_items: {n_items}')\n",
    "    train_data_matrix = sp.lil_matrix((n_items, n_items), dtype=np.float)\n",
    "    def t(items_):\n",
    "#     for items_ in tqdm(items_list):\n",
    "        for i, item in enumerate(items_):\n",
    "            for j, related_item in enumerate(items_):\n",
    "                distance = np.abs(i-j)\n",
    "                if (item != related_item) and (distance<window):\n",
    "                    vt = 1 \n",
    "                    if penalty1:\n",
    "#                         print('对距离惩罚，距离越远，相关性越小...')\n",
    "                        vt /= np.sqrt(np.log2(distance+1))\n",
    "                    if penalty2:\n",
    "#                         print('对list长度惩罚，长度越长，对共现的价值越小...')\n",
    "                        vt /= np.log10(len(items_)+9)\n",
    "                    if i < j:\n",
    "                        vt *= penalty3\n",
    "                    mutex.acquire()\n",
    "                    train_data_matrix[item2id.loc[item], item2id.loc[related_item]] += vt\n",
    "                    mutex.release()\n",
    "    pool.map(t, items_list)\n",
    "    if penalty4:\n",
    "        print('对item出现次数做惩罚...')\n",
    "        def t(r):\n",
    "#         for r in tqdm(range(train_data_matrix.shape[0])):\n",
    "            for c in train_data_matrix.rows[r]:\n",
    "                mutex.acquire()\n",
    "                train_data_matrix[r,c] /= (np.log(item_num_dict[items[r]]+1)*np.log(item_num_dict[items[c]]+1))\n",
    "                mutex.release()\n",
    "        pool.map(t, range(train_data_matrix.shape[0]))\n",
    "    if save_dir:\n",
    "        if not os.path.exists(save_dir):\n",
    "            print(f'create matrix dir {save_dir}')\n",
    "            os.mkdir(save_dir)\n",
    "        items.to_pickle(os.path.join(save_dir, f'id2item_series_{penalty1}_{penalty2}_{penalty3}.pkl'))\n",
    "        item2id.to_pickle(os.path.join(save_dir, f'item2id_series_{penalty1}_{penalty2}_{penalty3}.pkl'))\n",
    "        sp.save_npz(os.path.join(save_dir, f'item_item_matrix_{penalty1}_{penalty2}_{penalty3}.npz'), train_data_matrix.tocsc())\n",
    "        print(f'save matrix to {save_dir}, finished')\n",
    "    return train_data_matrix, items, item2id"
   ]
  },
  {
   "cell_type": "markdown",
   "metadata": {},
   "source": [
    "## load_co_occurance_matrix"
   ]
  },
  {
   "cell_type": "code",
   "execution_count": 35,
   "metadata": {},
   "outputs": [],
   "source": [
    "#export\n",
    "def load_co_occurance_matrix(save_dir,penalty1,penalty2,penalty3):\n",
    "    id2item = pd.read_pickle(os.path.join(save_dir, f'id2item_series_{penalty1}_{penalty2}_{penalty3}.pkl'))\n",
    "    item2id = pd.read_pickle(os.path.join(save_dir, f'item2id_series_{penalty1}_{penalty2}_{penalty3}.pkl'))\n",
    "    co_occurance_matrix = sp.load_npz(os.path.join(save_dir, f'item_item_matrix_{penalty1}_{penalty2}_{penalty3}.npz'))\n",
    "    return co_occurance_matrix, id2item, item2id"
   ]
  },
  {
   "cell_type": "markdown",
   "metadata": {},
   "source": [
    "## user_item_matrix"
   ]
  },
  {
   "cell_type": "code",
   "execution_count": 4,
   "metadata": {},
   "outputs": [],
   "source": [
    "#export\n",
    "def build_user_item_matrix(df, user_col, item_col):\n",
    "    \"\"\"\n",
    "    使用pd.crosstab(df[user_col], df[item_col])可以直接达到目的，但是当items很大时，会报异常:\n",
    "    ValueError: Unstacked DataFrame is too big, causing int32 overflow\n",
    "    \"\"\"\n",
    "    \n",
    "    n_users = df[user_col].nunique()\n",
    "    n_items = df[item_col].nunique()\n",
    "    id2user = df[user_col].drop_duplicates().reset_index(drop=True)\n",
    "    user2id = pd.Series(id2user.index, id2user)\n",
    "    id2item = df[item_col].drop_duplicates().reset_index(drop=True)\n",
    "    item2id = pd.Series(id2item.index, id2item)\n",
    "    print(f'n_users: {n_users}, n_items: {n_items}')\n",
    "    train_data_matrix = sp.lil_matrix((n_users, n_items))\n",
    "    for line in df[[user_col, item_col]].itertuples():\n",
    "        train_data_matrix[user2id[line[1]], item2id[line[2]]] += 1\n",
    "    train_data_matrix = train_data_matrix.tocsc()\n",
    "    train_data_matrix.data = np.log(train_data_matrix.data + 1)\n",
    "    return train_data_matrix, id2user, user2id, id2item, item2id"
   ]
  },
  {
   "cell_type": "markdown",
   "metadata": {},
   "source": [
    "## 余弦相似矩阵"
   ]
  },
  {
   "cell_type": "markdown",
   "metadata": {},
   "source": [
    "### build_item_item_cosine_matrix"
   ]
  },
  {
   "cell_type": "code",
   "execution_count": 30,
   "metadata": {},
   "outputs": [],
   "source": [
    "#export\n",
    "def build_item_item_cosine_matrix(matr, Y=None):\n",
    "    \"\"\"\n",
    "    由于item一般数据很多(数10w)，需要很大的内存\n",
    "    \"\"\"\n",
    "    from sklearn.metrics.pairwise import cosine_similarity\n",
    "    return cosine_similarity(matr, Y)"
   ]
  },
  {
   "cell_type": "code",
   "execution_count": 33,
   "metadata": {},
   "outputs": [
    {
     "data": {
      "text/plain": [
       "array([[0, 1, 2, 3],\n",
       "       [4, 5, 6, 7]])"
      ]
     },
     "execution_count": 33,
     "metadata": {},
     "output_type": "execute_result"
    }
   ],
   "source": [
    "matr = np.arange(8).reshape(2, 4)\n",
    "matr"
   ]
  },
  {
   "cell_type": "code",
   "execution_count": 34,
   "metadata": {},
   "outputs": [
    {
     "data": {
      "text/plain": [
       "array([[1.       , 0.9047619],\n",
       "       [0.9047619, 1.       ]])"
      ]
     },
     "execution_count": 34,
     "metadata": {},
     "output_type": "execute_result"
    }
   ],
   "source": [
    "item_item_cosine_matrix(matr)"
   ]
  },
  {
   "cell_type": "markdown",
   "metadata": {},
   "source": [
    "# 矩阵分解FM\n",
    "matrix factorization \n",
    "\n",
    "矩阵分解 (decomposition, factorization)是将矩阵拆解为数个矩阵的乘积。\n",
    "\n",
    "常见的矩阵分解方法有三种：\n",
    "* 1)三角分解法 (Triangular Factorization)，\n",
    "* 2)QR 分解法 (QR Factorization)，\n",
    "* 3)奇异值分解法 (Singular Value Decomposition)。\n",
    "\n",
    "\n",
    "## 利用nn做矩阵分解\n",
    "矩阵分解的一个基本要求就是分解以后的矩阵的乘积和原矩阵的相应位置的元素尽量相近！ 这个本身就能构造loss function。\n",
    "\n",
    "\n",
    "如\n",
    "$$M_{ab}=U_{ac}*V_{bc}^T$$\n",
    "\n",
    "loss function为:\n",
    "$$l = u_i.dot(v_j)-M_{ij}$$\n",
    "如M为user_item矩阵，矩阵的每一个元素为user对该item的评分，那么分解后的U可以看做是用户矩阵，每一个行向量表示相应的用户向量；V可以看做是item矩阵，每一个行向量表示一个item。为了保证二者可以做内积，二者必须有相同的维度c。\n",
    "\n",
    "### Computational Graph\n",
    "#### 构造nn最简单的方式\n",
    "可以看到，没有层的概念。。。\n",
    "![cgmf](img/cgmf.png)"
   ]
  },
  {
   "cell_type": "markdown",
   "metadata": {},
   "source": [
    "## 矩阵分解应用"
   ]
  },
  {
   "cell_type": "markdown",
   "metadata": {},
   "source": [
    "### 推荐"
   ]
  },
  {
   "cell_type": "markdown",
   "metadata": {},
   "source": [
    "### 语言模型\n",
    "![](img/mf01.png)\n",
    "![](img/mf11.png)"
   ]
  },
  {
   "cell_type": "markdown",
   "metadata": {},
   "source": [
    "# LightFM\n",
    "https://github.com/lyst/lightfm\n",
    "\n",
    "https://making.lyst.com/lightfm/docs/home.html\n",
    "\n",
    "Learning to Rank Sketchfab Models with LightFM \n",
    "https://www.ethanrosenthal.com/2016/11/07/implicit-mf-part-2/\n",
    "\n",
    "LightFM是针对隐式和显式反馈的许多流行推荐算法的Python实现，包括BPR和WARP排名损失的有效实现。 它易于使用，快速（通过多线程模型估计）并产生高质量的结果。\n",
    "\n",
    "它还使将item和用户元数据都合并到传统的矩阵分解算法中成为可能。 它将每个用户和item表示为其特征的潜在表示的总和，从而允许将recommendations推广到新item（通过item features）和新用户（通过用户features）。\n",
    "\n",
    "\n",
    "## install"
   ]
  },
  {
   "cell_type": "code",
   "execution_count": 5,
   "metadata": {},
   "outputs": [
    {
     "name": "stdout",
     "output_type": "stream",
     "text": [
      "lightfm==1.15\r\n"
     ]
    }
   ],
   "source": [
    "# !pip install lightfm -i https://pypi.tuna.tsinghua.edu.cn/simple\n",
    "!pip freeze | grep lightfm"
   ]
  },
  {
   "cell_type": "markdown",
   "metadata": {},
   "source": [
    "## Quickstart\n",
    "Fitting an implicit feedback model on the MovieLens 100k dataset is very easy:"
   ]
  },
  {
   "cell_type": "code",
   "execution_count": 6,
   "metadata": {},
   "outputs": [
    {
     "name": "stderr",
     "output_type": "stream",
     "text": [
      "/Users/luoyonggui/anaconda3/lib/python3.7/site-packages/lightfm/_lightfm_fast.py:9: UserWarning: LightFM was compiled without OpenMP support. Only a single thread will be used.\n",
      "  warnings.warn('LightFM was compiled without OpenMP support. '\n"
     ]
    }
   ],
   "source": [
    "from lightfm import LightFM\n",
    "from lightfm.datasets import fetch_movielens\n",
    "from lightfm.evaluation import precision_at_k"
   ]
  },
  {
   "cell_type": "code",
   "execution_count": 7,
   "metadata": {},
   "outputs": [],
   "source": [
    "# Load the MovieLens 100k dataset. Only five\n",
    "# star ratings are treated as positive.\n",
    "data = fetch_movielens(min_rating=5.0)"
   ]
  },
  {
   "cell_type": "code",
   "execution_count": 10,
   "metadata": {},
   "outputs": [
    {
     "data": {
      "text/plain": [
       "dict"
      ]
     },
     "execution_count": 10,
     "metadata": {},
     "output_type": "execute_result"
    }
   ],
   "source": [
    "type(data)"
   ]
  },
  {
   "cell_type": "code",
   "execution_count": 11,
   "metadata": {},
   "outputs": [
    {
     "data": {
      "text/plain": [
       "{'train': <943x1682 sparse matrix of type '<class 'numpy.int32'>'\n",
       " \twith 19048 stored elements in COOrdinate format>,\n",
       " 'test': <943x1682 sparse matrix of type '<class 'numpy.int32'>'\n",
       " \twith 2153 stored elements in COOrdinate format>,\n",
       " 'item_features': <1682x1682 sparse matrix of type '<class 'numpy.float32'>'\n",
       " \twith 1682 stored elements in Compressed Sparse Row format>,\n",
       " 'item_feature_labels': array(['Toy Story (1995)', 'GoldenEye (1995)', 'Four Rooms (1995)', ...,\n",
       "        'Sliding Doors (1998)', 'You So Crazy (1994)',\n",
       "        'Scream of Stone (Schrei aus Stein) (1991)'], dtype=object),\n",
       " 'item_labels': array(['Toy Story (1995)', 'GoldenEye (1995)', 'Four Rooms (1995)', ...,\n",
       "        'Sliding Doors (1998)', 'You So Crazy (1994)',\n",
       "        'Scream of Stone (Schrei aus Stein) (1991)'], dtype=object)}"
      ]
     },
     "execution_count": 11,
     "metadata": {},
     "output_type": "execute_result"
    }
   ],
   "source": [
    "data"
   ]
  },
  {
   "cell_type": "code",
   "execution_count": 19,
   "metadata": {},
   "outputs": [
    {
     "data": {
      "text/plain": [
       "(943, 1682)"
      ]
     },
     "execution_count": 19,
     "metadata": {},
     "output_type": "execute_result"
    }
   ],
   "source": [
    "data['train'].toarray().shape"
   ]
  },
  {
   "cell_type": "code",
   "execution_count": 20,
   "metadata": {},
   "outputs": [
    {
     "data": {
      "text/plain": [
       "array([5., 0., 0., ..., 0., 0., 0.], dtype=float32)"
      ]
     },
     "execution_count": 20,
     "metadata": {},
     "output_type": "execute_result"
    }
   ],
   "source": [
    "data['train'].toarray()[0]"
   ]
  },
  {
   "cell_type": "code",
   "execution_count": 15,
   "metadata": {},
   "outputs": [
    {
     "data": {
      "text/plain": [
       "<lightfm.lightfm.LightFM at 0x117febac8>"
      ]
     },
     "execution_count": 15,
     "metadata": {},
     "output_type": "execute_result"
    }
   ],
   "source": [
    "# Instantiate and train the model\n",
    "model = LightFM(loss='warp')\n",
    "model.fit(data['train'], epochs=30, num_threads=2)"
   ]
  },
  {
   "cell_type": "code",
   "execution_count": 31,
   "metadata": {},
   "outputs": [
    {
     "data": {
      "text/plain": [
       "(1682, 10)"
      ]
     },
     "execution_count": 31,
     "metadata": {},
     "output_type": "execute_result"
    }
   ],
   "source": [
    "model.get_item_representations()[1].shape"
   ]
  },
  {
   "cell_type": "code",
   "execution_count": 32,
   "metadata": {},
   "outputs": [
    {
     "data": {
      "text/plain": [
       "2"
      ]
     },
     "execution_count": 32,
     "metadata": {},
     "output_type": "execute_result"
    }
   ],
   "source": [
    "len(model.get_user_representations())"
   ]
  },
  {
   "cell_type": "code",
   "execution_count": 30,
   "metadata": {},
   "outputs": [
    {
     "data": {
      "text/plain": [
       "(943, 10)"
      ]
     },
     "execution_count": 30,
     "metadata": {},
     "output_type": "execute_result"
    }
   ],
   "source": [
    "model.get_user_representations()[1].shape"
   ]
  },
  {
   "cell_type": "code",
   "execution_count": 34,
   "metadata": {},
   "outputs": [
    {
     "data": {
      "text/plain": [
       "(943, 10)"
      ]
     },
     "execution_count": 34,
     "metadata": {},
     "output_type": "execute_result"
    }
   ],
   "source": [
    "model.user_embedding_gradients.shape"
   ]
  },
  {
   "cell_type": "code",
   "execution_count": 35,
   "metadata": {},
   "outputs": [
    {
     "data": {
      "text/plain": [
       "<943x1682 sparse matrix of type '<class 'numpy.float32'>'\n",
       "\twith 2153 stored elements in Compressed Sparse Row format>"
      ]
     },
     "execution_count": 35,
     "metadata": {},
     "output_type": "execute_result"
    }
   ],
   "source": [
    "model.predict_rank(data['test'])"
   ]
  },
  {
   "cell_type": "code",
   "execution_count": 36,
   "metadata": {},
   "outputs": [
    {
     "data": {
      "text/plain": [
       "(943, 1682)"
      ]
     },
     "execution_count": 36,
     "metadata": {},
     "output_type": "execute_result"
    }
   ],
   "source": [
    "model.predict_rank(data['test']).shape"
   ]
  },
  {
   "cell_type": "code",
   "execution_count": 37,
   "metadata": {},
   "outputs": [
    {
     "data": {
      "text/plain": [
       "array([0., 0., 0., ..., 0., 0., 0.], dtype=float32)"
      ]
     },
     "execution_count": 37,
     "metadata": {},
     "output_type": "execute_result"
    }
   ],
   "source": [
    "model.predict_rank(data['test']).toarray()[0]"
   ]
  },
  {
   "cell_type": "code",
   "execution_count": null,
   "metadata": {},
   "outputs": [],
   "source": [
    "model.predict()"
   ]
  },
  {
   "cell_type": "code",
   "execution_count": 16,
   "metadata": {},
   "outputs": [],
   "source": [
    "# Evaluate the trained model\n",
    "test_precision = precision_at_k(model, data['test'], k=5).mean()"
   ]
  },
  {
   "cell_type": "code",
   "execution_count": 17,
   "metadata": {},
   "outputs": [
    {
     "data": {
      "text/plain": [
       "0.051254958"
      ]
     },
     "execution_count": 17,
     "metadata": {},
     "output_type": "execute_result"
    }
   ],
   "source": [
    "test_precision"
   ]
  },
  {
   "cell_type": "markdown",
   "metadata": {},
   "source": [
    "## api"
   ]
  },
  {
   "cell_type": "markdown",
   "metadata": {},
   "source": [
    "### LightFM\n",
    "\n",
    "    LightFM(\n",
    "        no_components=10,\n",
    "        k=5,\n",
    "        n=10,\n",
    "        learning_schedule='adagrad',\n",
    "        loss='logistic',\n",
    "        learning_rate=0.05,\n",
    "        rho=0.95,\n",
    "        epsilon=1e-06,\n",
    "        item_alpha=0.0,\n",
    "        user_alpha=0.0,\n",
    "        max_sampled=10,\n",
    "        random_state=None,\n",
    "    )\n",
    "\n",
    "A hybrid(混合的) latent representation recommender model.\n",
    "\n",
    "The model learns embeddings (latent representations in a high-dimensional space) for users and items in a way that encodes user preferences over items.\n",
    "\n",
    "When multiplied together, these representations produce scores for every item for a given user; items scored highly are more likely to be interesting to the user.\n",
    "\n",
    "The user and item representations are expressed in terms of representations of their features: an embedding is estimated for every feature, and these features are then summed together to arrive at representations for users and items. \n",
    "\n",
    "For example, if the movie 'Wizard of Oz' is described by the following features: 'musical fantasy', 'Judy Garland', and 'Wizard of Oz', then its embedding will be given by taking the features' embeddings and adding them together. The same applies to user features.\n",
    "\n",
    "The embeddings are learned through `stochastic gradient descent <http://cs231n.github.io/optimization-1/>`_ methods.\n",
    "\n",
    "Four loss functions are available:\n",
    "\n",
    "- logistic: useful when both positive (1) and negative (-1) interactions\n",
    "  are present.\n",
    "- BPR: Bayesian Personalised Ranking [1]_ pairwise loss. Maximises the prediction difference between a positive example and a randomly chosen negative example. Useful when only positive interactions are present and optimising ROC AUC is desired.\n",
    "- WARP: Weighted Approximate-Rank Pairwise [2]_ loss. Maximises\n",
    "  the rank of positive examples by repeatedly sampling negative\n",
    "  examples until rank violating one is found. Useful when only\n",
    "  positive interactions are present and optimising the top of\n",
    "  the recommendation list (precision@k) is desired.\n",
    "- k-OS WARP: k-th order statistic loss [3]_. A modification of WARP that\n",
    "  uses the k-th positive example for any given user as a basis for pairwise\n",
    "  updates.\n",
    "\n",
    "Two learning rate schedules are available:\n",
    "\n",
    "- adagrad: [4]_\n",
    "- adadelta: [5]_"
   ]
  },
  {
   "cell_type": "markdown",
   "metadata": {},
   "source": [
    "#### Parameters\n",
    "\n",
    "    no_components: int, optional\n",
    "        the dimensionality of the feature latent embeddings.\n",
    "    k: int, optional\n",
    "        for k-OS training, the k-th positive example will be selected from the\n",
    "        n positive examples sampled for every user.\n",
    "    n: int, optional\n",
    "        for k-OS training, maximum number of positives sampled for each update.\n",
    "    learning_schedule: string, optional\n",
    "        one of ('adagrad', 'adadelta').\n",
    "    loss: string, optional\n",
    "        one of  ('logistic', 'bpr', 'warp', 'warp-kos'): the loss function.\n",
    "    learning_rate: float, optional\n",
    "        initial learning rate for the adagrad learning schedule.\n",
    "    rho: float, optional\n",
    "        moving average coefficient for the adadelta learning schedule.\n",
    "    epsilon: float, optional\n",
    "        conditioning parameter for the adadelta learning schedule.\n",
    "    item_alpha: float, optional\n",
    "        L2 penalty on item features. Tip: setting this number too high can slow\n",
    "        down training. One good way to check is if the final weights in the\n",
    "        embeddings turned out to be mostly zero. The same idea applies to\n",
    "        the user_alpha parameter.\n",
    "    user_alpha: float, optional\n",
    "        L2 penalty on user features.\n",
    "    max_sampled: int, optional\n",
    "        maximum number of negative samples used during WARP fitting.\n",
    "        It requires a lot of sampling to find negative triplets for users that\n",
    "        are already well represented by the model; this can lead to very long\n",
    "        training times and overfitting. Setting this to a higher number will\n",
    "        generally lead to longer training times, but may in some cases improve\n",
    "        accuracy.\n",
    "    random_state: int seed, RandomState instance, or None\n",
    "        The seed of the pseudo random number generator to use when shuffling\n",
    "        the data and initializing the parameters.\n",
    "\n",
    "#### Attributes\n",
    "\n",
    "    item_embeddings: np.float32 array of shape [n_item_features, n_components]\n",
    "         Contains the estimated latent vectors for item features. The [i, j]-th\n",
    "         entry gives the value of the j-th component for the i-th item feature.\n",
    "         In the simplest case where the item feature matrix is an identity\n",
    "         matrix, the i-th row will represent the i-th item latent vector.\n",
    "    user_embeddings: np.float32 array of shape [n_user_features, n_components]\n",
    "         Contains the estimated latent vectors for user features. The [i, j]-th\n",
    "         entry gives the value of the j-th component for the i-th user feature.\n",
    "         In the simplest case where the user feature matrix is an identity\n",
    "         matrix, the i-th row will represent the i-th user latent vector.\n",
    "    item_biases: np.float32 array of shape [n_item_features,]\n",
    "         Contains the biases for item_features.\n",
    "    user_biases: np.float32 array of shape [n_user_features,]\n",
    "         Contains the biases for user_features.\n",
    "\n",
    "#### Notes\n",
    "\n",
    "Users' and items' latent representations are expressed in terms of their\n",
    "features' representations. If no feature matrices are provided to the\n",
    ":func:`lightfm.LightFM.fit` or :func:`lightfm.LightFM.predict` methods, they are\n",
    "implicitly assumed to be identity matrices: that is, each user and item\n",
    "are characterised by one feature that is unique to that user (or item).\n",
    "In this case, LightFM reduces to a traditional collaborative filtering\n",
    "matrix factorization method.\n",
    "\n",
    "When a feature matrix is provided, it should be of shape\n",
    "``(num_<users/items> x num_features)``. An embedding will then be estimated\n",
    "for every feature: that is, there will be ``num_features`` embeddings.\n",
    "To obtain the representation for user i, the model will look up the i-th\n",
    "row of the feature matrix to find the features with non-zero weights in\n",
    "that row; the embeddings for these features will then be added together\n",
    "to arrive at the user representation. For example, if user 10 has weight 1\n",
    "in the 5th column of the user feature matrix, and weight 3 in the 20th\n",
    "column, that user's representation will be found by adding together\n",
    "the embedding for the 5th and the 20th features (multiplying the latter\n",
    "by 3). The same goes for items.\n",
    "\n",
    "Note: when supplying feature matrices, an implicit identity feature\n",
    "matrix will no longer be used. This may result in a less expressive model:\n",
    "because no per-user features are estiamated, the model may underfit. To\n",
    "combat this, include per-user (per-item) features (that is, an identity\n",
    "matrix) as part of the feature matrix you supply."
   ]
  },
  {
   "cell_type": "markdown",
   "metadata": {},
   "source": [
    "# nb_export"
   ]
  },
  {
   "cell_type": "code",
   "execution_count": 2,
   "metadata": {},
   "outputs": [
    {
     "name": "stdout",
     "output_type": "stream",
     "text": [
      "Converted 00_core.ipynb.\n",
      "Converted 00_template.ipynb.\n",
      "Converted algo_dl_keras.ipynb.\n",
      "Converted algo_ml_shallow_tree_catboost.ipynb.\n",
      "Converted algo_rs_associated_rules.ipynb.\n",
      "Converted algo_rs_match_deepmatch.ipynb.\n",
      "Converted algo_rs_matrix.ipynb.\n",
      "Converted algo_rs_search_vector_faiss.ipynb.\n",
      "Converted algo_seq_embeding.ipynb.\n",
      "Converted algo_seq_tfidf.ipynb.\n",
      "Converted datastructure_time.ipynb.\n",
      "Converted engineering_concurrency.ipynb.\n",
      "Converted engineering_nbdev.ipynb.\n",
      "Converted engineering_panel.ipynb.\n",
      "Converted engineering_snorkel.ipynb.\n",
      "Converted index.ipynb.\n",
      "Converted utils_json.ipynb.\n",
      "Converted utils_pickle.ipynb.\n"
     ]
    }
   ],
   "source": [
    "from nbdev.export import *\n",
    "notebook2script()"
   ]
  },
  {
   "cell_type": "code",
   "execution_count": 7,
   "metadata": {},
   "outputs": [
    {
     "name": "stdout",
     "output_type": "stream",
     "text": [
      "No notebooks were modified\r\n",
      "converting /Users/luoyonggui/PycharmProjects/nbdevlib/index.ipynb to README.md\r\n"
     ]
    }
   ],
   "source": [
    "!nbdev_build_docs"
   ]
  },
  {
   "cell_type": "code",
   "execution_count": null,
   "metadata": {},
   "outputs": [],
   "source": []
  }
 ],
 "metadata": {
  "kernelspec": {
   "display_name": "Python 3",
   "language": "python",
   "name": "python3"
  },
  "language_info": {
   "codemirror_mode": {
    "name": "ipython",
    "version": 3
   },
   "file_extension": ".py",
   "mimetype": "text/x-python",
   "name": "python",
   "nbconvert_exporter": "python",
   "pygments_lexer": "ipython3",
   "version": "3.7.3"
  },
  "toc": {
   "base_numbering": 1,
   "nav_menu": {},
   "number_sections": true,
   "sideBar": true,
   "skip_h1_title": false,
   "title_cell": "Table of Contents",
   "title_sidebar": "Contents",
   "toc_cell": false,
   "toc_position": {
    "height": "calc(100% - 180px)",
    "left": "10px",
    "top": "150px",
    "width": "277.6px"
   },
   "toc_section_display": true,
   "toc_window_display": true
  },
  "varInspector": {
   "cols": {
    "lenName": 16,
    "lenType": 16,
    "lenVar": 40
   },
   "kernels_config": {
    "python": {
     "delete_cmd_postfix": "",
     "delete_cmd_prefix": "del ",
     "library": "var_list.py",
     "varRefreshCmd": "print(var_dic_list())"
    },
    "r": {
     "delete_cmd_postfix": ") ",
     "delete_cmd_prefix": "rm(",
     "library": "var_list.r",
     "varRefreshCmd": "cat(var_dic_list()) "
    }
   },
   "types_to_exclude": [
    "module",
    "function",
    "builtin_function_or_method",
    "instance",
    "_Feature"
   ],
   "window_display": false
  }
 },
 "nbformat": 4,
 "nbformat_minor": 2
}
