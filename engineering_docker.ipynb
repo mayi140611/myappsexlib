{
 "cells": [
  {
   "cell_type": "code",
   "execution_count": 3,
   "metadata": {},
   "outputs": [],
   "source": [
    "# default_exp engineering.docker\n",
    "\n",
    "%reload_ext autoreload\n",
    "%autoreload 2"
   ]
  },
  {
   "cell_type": "markdown",
   "metadata": {},
   "source": [
    "https://www.jianshu.com/p/82ef099d5925"
   ]
  },
  {
   "cell_type": "markdown",
   "metadata": {},
   "source": [
    "# images镜像相关命令"
   ]
  },
  {
   "cell_type": "markdown",
   "metadata": {},
   "source": [
    "## 查看本地已经加载的image"
   ]
  },
  {
   "cell_type": "code",
   "execution_count": 3,
   "metadata": {},
   "outputs": [
    {
     "name": "stdout",
     "output_type": "stream",
     "text": [
      "REPOSITORY                                      TAG                 IMAGE ID            CREATED             SIZE\r\n",
      "hub-dev.leapstack.cn/models/rc_scores_predict   v1.4                65f0ffecf7ce        41 minutes ago      1.49GB\r\n",
      "hub-dev.leapstack.cn/models/rc_scores_predict   v1.3                547bdfde9011        4 days ago          1.49GB\r\n",
      "hub-dev.leapstack.cn/models/rc_scores_predict   v1.2                95bc1a6d6776        13 days ago         1.49GB\r\n",
      "<none>                                          <none>              07717971964c        3 weeks ago         1.49GB\r\n",
      "<none>                                          <none>              5f3f9e305b20        4 weeks ago         1.48GB\r\n",
      "hub-dev.leapstack.cn/models/rc_scores_predict   v1.0                49f0a5ad72dd        4 weeks ago         1.48GB\r\n",
      "<none>                                          <none>              26bc6f4ebcb5        4 weeks ago         1.51GB\r\n",
      "harbor.leapstack.cn/base/python36               predict-base-v1     e291fb1f1064        4 months ago        1.36GB\r\n",
      "rti/smart-backend                               R_0_0_1             8c94dcd7d631        7 months ago        1.59GB\r\n",
      "rti/smart-frontend                              R_0_0_1             c1dc8119df48        7 months ago        1.16GB\r\n",
      "<none>                                          <none>              945a30e2fcea        7 months ago        1.59GB\r\n",
      "python                                          3.5.7               67f4589d3c88        8 months ago        908MB\r\n",
      "continuumio/anaconda3                           latest              cb34e4508fdc        11 months ago       3.72GB\r\n",
      "node                                            6                   ab290b853066        12 months ago       884MB\r\n",
      "redis                                           3.0                 c44fa74ead88        2 years ago         91.6MB\r\n",
      "postgres                                        9.6.2               b3b8a2229953        3 years ago         267MB\r\n"
     ]
    }
   ],
   "source": [
    "!docker images"
   ]
  },
  {
   "cell_type": "markdown",
   "metadata": {},
   "source": [
    "## 删除image"
   ]
  },
  {
   "cell_type": "code",
   "execution_count": 2,
   "metadata": {},
   "outputs": [
    {
     "name": "stdout",
     "output_type": "stream",
     "text": [
      "Untagged: hub-dev.leapstack.cn/models/rc_scores_predict:v1.1\r\n",
      "Deleted: sha256:925f9bae639d1e0b4ed4cae47d61c4622764ba6d268105a5844a5382a431e8b6\r\n",
      "Deleted: sha256:cfa2246d86571bc9cd0ef48a30337c97f8169f001d8a11802557a93e9eecc64a\r\n"
     ]
    }
   ],
   "source": [
    "!docker rmi 925f9bae639d"
   ]
  },
  {
   "cell_type": "markdown",
   "metadata": {},
   "source": [
    "## 把image输出为本地镜像文件"
   ]
  },
  {
   "cell_type": "code",
   "execution_count": null,
   "metadata": {},
   "outputs": [],
   "source": [
    "docker save hub-dev.leapstack.cn/models/rc_scores_predict:v1.4 -o rc_scores_predict.img"
   ]
  },
  {
   "cell_type": "markdown",
   "metadata": {},
   "source": [
    "## 把本地image文件装载进docker"
   ]
  },
  {
   "cell_type": "code",
   "execution_count": null,
   "metadata": {},
   "outputs": [],
   "source": [
    "docker load -i rc_scores_predict.img"
   ]
  },
  {
   "cell_type": "markdown",
   "metadata": {},
   "source": [
    "## 把容器提交为镜像"
   ]
  },
  {
   "cell_type": "code",
   "execution_count": 2,
   "metadata": {},
   "outputs": [
    {
     "name": "stdout",
     "output_type": "stream",
     "text": [
      "Object `commit` not found.\n"
     ]
    }
   ],
   "source": [
    "!docker commit -m=\"提交的描述信息\" -a=\"作者\" 容器ID a/b:v1.2"
   ]
  },
  {
   "cell_type": "code",
   "execution_count": null,
   "metadata": {},
   "outputs": [],
   "source": [
    "!docker commit"
   ]
  },
  {
   "cell_type": "code",
   "execution_count": null,
   "metadata": {},
   "outputs": [],
   "source": [
    "!docker commit"
   ]
  },
  {
   "cell_type": "markdown",
   "metadata": {},
   "source": [
    "# 容器container相关命令"
   ]
  },
  {
   "cell_type": "markdown",
   "metadata": {},
   "source": [
    "## 查看容器\n",
    "docker ps：查看当前正在运行的容器\n",
    "\n",
    "docker ps -a：查看所有容器"
   ]
  },
  {
   "cell_type": "code",
   "execution_count": 4,
   "metadata": {
    "scrolled": true
   },
   "outputs": [
    {
     "name": "stdout",
     "output_type": "stream",
     "text": [
      "CONTAINER ID        IMAGE               COMMAND             CREATED             STATUS              PORTS               NAMES\r\n"
     ]
    }
   ],
   "source": [
    "!docker ps"
   ]
  },
  {
   "cell_type": "code",
   "execution_count": 5,
   "metadata": {},
   "outputs": [
    {
     "name": "stdout",
     "output_type": "stream",
     "text": [
      "CONTAINER ID        IMAGE               COMMAND                  CREATED             STATUS                     PORTS                              NAMES\r\n",
      "d768cab2bb10        26bc6f4ebcb5        \"container-entrypoin…\"   4 weeks ago         Exited (255) 4 weeks ago   8080/tcp, 0.0.0.0:9092->9092/tcp   stoic_euler\r\n",
      "ba5fbe22a1f5        26bc6f4ebcb5        \"container-entrypoin…\"   4 weeks ago         Created                                                       clever_austin\r\n"
     ]
    }
   ],
   "source": [
    "!docker ps -a"
   ]
  },
  {
   "cell_type": "markdown",
   "metadata": {},
   "source": [
    "## 启动容器 docker run\n",
    "运行这个命令相当于执行了容器生命周期的create & start操作\n",
    "\n",
    "    docker run -it java java -version\n",
    "\n",
    "-i \t以交互模式运行容器，通常与 -t 同时使用；\n",
    "-t \t为容器重新分配一个伪输入终端，通常与 -i 同时使用；\n",
    "-d \t后台运行容器，并返回容器ID；\n",
    "\n",
    "\n",
    "--name containername ：给容器命名\n",
    "第一个java：image名称\n",
    "后面的为运行的命令\n",
    "\n",
    "\n",
    "注意：运行完的容器也是占空间的，如果希望容器运行完以后立即删掉，可以使用命令`docker run --rm -it 镜像名称`"
   ]
  },
  {
   "cell_type": "code",
   "execution_count": 7,
   "metadata": {},
   "outputs": [
    {
     "name": "stdout",
     "output_type": "stream",
     "text": [
      "openjdk version \"1.8.0_111\"\r\n",
      "OpenJDK Runtime Environment (build 1.8.0_111-8u111-b14-2~bpo8+1-b14)\r\n",
      "OpenJDK 64-Bit Server VM (build 25.111-b14, mixed mode)\r\n"
     ]
    }
   ],
   "source": [
    "!docker run -it java java -version"
   ]
  },
  {
   "cell_type": "code",
   "execution_count": null,
   "metadata": {},
   "outputs": [],
   "source": [
    "docker run -it -p 8070:8080 -v /root/software:/software --privileged=true  docker.io/centos /bin/bash"
   ]
  },
  {
   "cell_type": "markdown",
   "metadata": {},
   "source": [
    "-p 映射端口8070 本机的端口 映射的容器的端口 \n",
    "\n",
    "-v 挂载目录/root/software 本地目录 /software容器目录，在创建前容器是没有software目录的，docker 容器会自己创建\n",
    "\n",
    "--privileged=true 关闭安全权限，否则你容器操作文件夹没有权限\n",
    "\n",
    "--容器名称\n",
    "\n",
    "--CMD"
   ]
  },
  {
   "cell_type": "markdown",
   "metadata": {},
   "source": [
    "docker run -itd -p 9092:9092 -v /home/admin/aa1:/var/log -e deployEnv=test hub-dev.leapstack.cn/models/rc_scores_predict:v1.4 /bin/bash -lc \"gunicorn --config gunicorn.conf.py --chdir /app django_rest_web.wsgi:application\""
   ]
  },
  {
   "cell_type": "code",
   "execution_count": 9,
   "metadata": {},
   "outputs": [
    {
     "name": "stdout",
     "output_type": "stream",
     "text": [
      "openjdk version \"1.8.0_111\"\r\n",
      "OpenJDK Runtime Environment (build 1.8.0_111-8u111-b14-2~bpo8+1-b14)\r\n",
      "OpenJDK 64-Bit Server VM (build 25.111-b14, mixed mode)\r\n"
     ]
    }
   ],
   "source": [
    "# #容器退出后立即删除容器Automatically remove the container when it exits\n",
    "\n",
    "!docker run --rm -it java java -version"
   ]
  },
  {
   "cell_type": "markdown",
   "metadata": {},
   "source": [
    "### 运行多个命令"
   ]
  },
  {
   "cell_type": "markdown",
   "metadata": {},
   "source": [
    "## 停止容器"
   ]
  },
  {
   "cell_type": "code",
   "execution_count": null,
   "metadata": {},
   "outputs": [],
   "source": [
    "docker stop myjava"
   ]
  },
  {
   "cell_type": "markdown",
   "metadata": {},
   "source": [
    "# 打包image"
   ]
  },
  {
   "cell_type": "markdown",
   "metadata": {},
   "source": [
    "1. 创建一个 Dockerfile\n",
    "\n",
    "        FROM harbor.leapstack.cn/base/python36:predict-base-v1\n",
    "        WORKDIR /app\n",
    "        ENV TZ Asia/Shanghai\n",
    "        RUN echo Asia/Shanghai > /etc/timezone\n",
    "        RUN mkdir -p /app\n",
    "        COPY . /app/\n",
    "\n",
    "2. 打镜像\n",
    "docker build -t hub-dev.leapstack.cn/models/rc_scores_predict:v1.1 .\n",
    "\n",
    "3. 导出镜像\n",
    "docker save hub-dev.leapstack.cn/models/rc_scores_predict:v1.1 -o rc_scores_predict.img\n",
    "\n",
    "4. 导入镜像到 docker 中\n",
    "docker load -i rc_scores_predict.img\n",
    "\n",
    "docker run -itd -p 9092:9092 -v rc_scores_predict.log:/var/log/rc_scores_predict.log -e deployEnv=test hub-dev.leapstack.cn/models/rc_scores_predict:v1.1 /bin/bash -lc \"gunicorn --config gunicorn.conf.py --chdir /app django_rest_web.wsgi:application\""
   ]
  },
  {
   "cell_type": "code",
   "execution_count": null,
   "metadata": {},
   "outputs": [],
   "source": []
  },
  {
   "cell_type": "markdown",
   "metadata": {},
   "source": [
    "# nb_export"
   ]
  },
  {
   "cell_type": "code",
   "execution_count": 2,
   "metadata": {},
   "outputs": [
    {
     "name": "stdout",
     "output_type": "stream",
     "text": [
      "Converted 00_core.ipynb.\n",
      "Converted 00_template.ipynb.\n",
      "Converted active_learning.ipynb.\n",
      "Converted algo_dl_keras.ipynb.\n",
      "Converted algo_ml_eda.ipynb.\n",
      "Converted algo_ml_tree_catboost.ipynb.\n",
      "Converted algo_ml_tree_lgb.ipynb.\n",
      "Converted algo_rs_associated_rules.ipynb.\n",
      "Converted algo_rs_match_deepmatch.ipynb.\n",
      "Converted algo_rs_matrix.ipynb.\n",
      "Converted algo_rs_search_vector_faiss.ipynb.\n",
      "Converted algo_seq_embeding.ipynb.\n",
      "Converted algo_seq_features_extraction_text.ipynb.\n",
      "Converted datastructure_dict_list_set.ipynb.\n",
      "Converted datastructure_matrix_sparse.ipynb.\n",
      "Converted engineering_concurrency.ipynb.\n",
      "Converted engineering_nbdev.ipynb.\n",
      "Converted engineering_panel.ipynb.\n",
      "Converted engineering_snorkel.ipynb.\n",
      "Converted index.ipynb.\n",
      "Converted math_func_basic.ipynb.\n",
      "Converted math_func_loss.ipynb.\n",
      "Converted operating_system_command.ipynb.\n",
      "Converted plot.ipynb.\n",
      "Converted utils_functools.ipynb.\n",
      "Converted utils_json.ipynb.\n",
      "Converted utils_pickle.ipynb.\n",
      "Converted utils_time.ipynb.\n"
     ]
    }
   ],
   "source": [
    "from nbdev.export import *\n",
    "notebook2script()"
   ]
  },
  {
   "cell_type": "code",
   "execution_count": 7,
   "metadata": {},
   "outputs": [
    {
     "name": "stdout",
     "output_type": "stream",
     "text": [
      "No notebooks were modified\r\n",
      "converting /Users/luoyonggui/PycharmProjects/nbdevlib/index.ipynb to README.md\r\n"
     ]
    }
   ],
   "source": [
    "!nbdev_build_docs"
   ]
  },
  {
   "cell_type": "code",
   "execution_count": null,
   "metadata": {},
   "outputs": [],
   "source": []
  }
 ],
 "metadata": {
  "kernelspec": {
   "display_name": "Python 3",
   "language": "python",
   "name": "python3"
  },
  "language_info": {
   "codemirror_mode": {
    "name": "ipython",
    "version": 3
   },
   "file_extension": ".py",
   "mimetype": "text/x-python",
   "name": "python",
   "nbconvert_exporter": "python",
   "pygments_lexer": "ipython3",
   "version": "3.7.3"
  },
  "toc": {
   "base_numbering": 1,
   "nav_menu": {},
   "number_sections": true,
   "sideBar": true,
   "skip_h1_title": false,
   "title_cell": "Table of Contents",
   "title_sidebar": "Contents",
   "toc_cell": false,
   "toc_position": {},
   "toc_section_display": true,
   "toc_window_display": true
  }
 },
 "nbformat": 4,
 "nbformat_minor": 2
}
