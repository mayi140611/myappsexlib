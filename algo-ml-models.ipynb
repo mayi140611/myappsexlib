{
 "cells": [
  {
   "cell_type": "code",
   "execution_count": 3,
   "metadata": {},
   "outputs": [],
   "source": [
    "# default_exp algo.ml.models\n",
    "\n",
    "%reload_ext autoreload\n",
    "%autoreload 2"
   ]
  },
  {
   "cell_type": "code",
   "execution_count": 40,
   "metadata": {},
   "outputs": [],
   "source": [
    "import numpy as np\n",
    "\n",
    "import pandas as pd\n",
    "from sklearn.model_selection import KFold"
   ]
  },
  {
   "cell_type": "markdown",
   "metadata": {},
   "source": [
    "# data"
   ]
  },
  {
   "cell_type": "code",
   "execution_count": 3,
   "metadata": {},
   "outputs": [],
   "source": [
    "x, y = (np.array([[70, 64,  5,  1,  1],\n",
    "        [60, 63,  9,  1,  1],\n",
    "        [70, 65, 11,  1,  1],\n",
    "        [40, 69, 10,  1,  1],\n",
    "        [40, 63, 58,  1,  1],\n",
    "        [70, 48,  9,  1,  1],\n",
    "        [70, 48, 11,  1,  1],\n",
    "        [80, 63,  4,  2,  1],\n",
    "        [60, 63, 14,  2,  1],\n",
    "        [30, 53,  4,  2,  1],\n",
    "        [80, 43, 12,  2,  1],\n",
    "        [40, 55,  2,  2,  1],\n",
    "        [60, 66, 25,  2,  1],\n",
    "        [40, 67, 23,  2,  1],\n",
    "        [20, 61, 19,  3,  1],\n",
    "        [50, 63,  4,  3,  1],\n",
    "        [50, 66, 16,  0,  1],\n",
    "        [40, 68, 12,  0,  1],\n",
    "        [80, 41, 12,  0,  1],\n",
    "        [70, 53,  8,  0,  1],\n",
    "        [60, 37, 13,  1,  1],\n",
    "        [90, 54, 12,  1,  0],\n",
    "        [50, 52,  8,  1,  0],\n",
    "        [70, 50,  7,  1,  0],\n",
    "        [20, 65, 21,  1,  0],\n",
    "        [80, 52, 28,  1,  0],\n",
    "        [60, 70, 13,  1,  0],\n",
    "        [50, 40, 13,  1,  0],\n",
    "        [70, 36, 22,  2,  0],\n",
    "        [40, 44, 36,  2,  0],\n",
    "        [30, 54,  9,  2,  0],\n",
    "        [30, 59, 87,  2,  0],\n",
    "        [40, 69,  5,  3,  0],\n",
    "        [60, 50, 22,  3,  0],\n",
    "        [80, 62,  4,  3,  0],\n",
    "        [70, 68, 15,  0,  0],\n",
    "        [30, 39,  4,  0,  0],\n",
    "        [60, 49, 11,  0,  0],\n",
    "        [80, 64, 10,  0,  0],\n",
    "        [70, 67, 18,  0,  0]]),\n",
    " np.array([1, 0, 0, 0, 0, 0, 0, 0, 0, 0, 0, 0, 1, 0, 0, 0, 0, 0, 1, 1, 0, 1,\n",
    "        1, 1, 0, 1, 0, 0, 0, 0, 0, 0, 0, 0, 0, 0, 0, 0, 1, 1]))"
   ]
  },
  {
   "cell_type": "markdown",
   "metadata": {},
   "source": [
    "# algo-ml-models\n",
    "\n",
    "模型的调用汇总"
   ]
  },
  {
   "cell_type": "markdown",
   "metadata": {},
   "source": [
    "## LogisticRegression"
   ]
  },
  {
   "cell_type": "code",
   "execution_count": 4,
   "metadata": {},
   "outputs": [],
   "source": [
    "def lr_module(x, y, mode='sklearn'):\n",
    "    if mode == 'sklearn':\n",
    "        from sklearn.linear_model import LogisticRegression as LR\n",
    "        lr = LR() #建立逻辑回归模型\n",
    "        lr.fit(x, y) #用筛选后的特征数据来训练模型\n",
    "        accrucy = lr.score(x, y)\n",
    "    elif mode == 'stats':\n",
    "        import statsmodels.api as sm\n",
    "\n",
    "        lr = sm.Logit(y, x)\n",
    "        lr = logrB.fit(disp=0)\n",
    "\n",
    "        accrucy = (pd.Series(lr.predict(x)).map(round)==pd.Series(y)).mean()\n",
    "    print(u'逻辑回归模型训练结束。')\n",
    "    print(u'模型的平均正确率为：%s' % accrucy)"
   ]
  },
  {
   "cell_type": "code",
   "execution_count": 5,
   "metadata": {},
   "outputs": [
    {
     "name": "stdout",
     "output_type": "stream",
     "text": [
      "逻辑回归模型训练结束。\n",
      "模型的平均正确率为：0.875\n"
     ]
    }
   ],
   "source": [
    "lr_module(x, y)"
   ]
  },
  {
   "cell_type": "code",
   "execution_count": 8,
   "metadata": {},
   "outputs": [],
   "source": [
    "from sklearn.ensemble import RandomForestClassifier\n",
    "from sklearn.svm import SVC\n",
    "from sklearn.neighbors import KNeighborsClassifier"
   ]
  },
  {
   "cell_type": "code",
   "execution_count": 9,
   "metadata": {},
   "outputs": [],
   "source": [
    "def knn_module(X_train:pd.DataFrame, y, X_test:pd.DataFrame, c_param, bdry=None):\n",
    "    knn=KNeighborsClassifier(n_neighbors=c_param)\n",
    "    knn.fit(X_train.values, y.values)\n",
    "    y_pred = knn.predict(X_test.values)\n",
    "    return y_pred"
   ]
  },
  {
   "cell_type": "code",
   "execution_count": 10,
   "metadata": {},
   "outputs": [
    {
     "name": "stderr",
     "output_type": "stream",
     "text": [
      "/Users/luoyonggui/anaconda3/lib/python3.7/site-packages/ipykernel_launcher.py:3: DataConversionWarning: A column-vector y was passed when a 1d array was expected. Please change the shape of y to (n_samples, ), for example using ravel().\n",
      "  This is separate from the ipykernel package so we can avoid doing imports until\n"
     ]
    }
   ],
   "source": [
    "y_pred = knn_module(pd.DataFrame(x), pd.Series(y).to_frame(), pd.DataFrame(x), 3)"
   ]
  },
  {
   "cell_type": "code",
   "execution_count": 11,
   "metadata": {},
   "outputs": [
    {
     "data": {
      "text/plain": [
       "array([0, 0, 0, 0, 0, 0, 0, 0, 0, 0, 0, 0, 1, 0, 0, 0, 0, 0, 0, 1, 0, 1,\n",
       "       0, 1, 0, 1, 0, 0, 0, 0, 0, 0, 0, 0, 0, 0, 0, 0, 0, 0])"
      ]
     },
     "execution_count": 11,
     "metadata": {},
     "output_type": "execute_result"
    }
   ],
   "source": [
    "y_pred"
   ]
  },
  {
   "cell_type": "code",
   "execution_count": 13,
   "metadata": {},
   "outputs": [
    {
     "data": {
      "text/plain": [
       "0.875"
      ]
     },
     "execution_count": 13,
     "metadata": {},
     "output_type": "execute_result"
    }
   ],
   "source": [
    "(y_pred==y).mean()"
   ]
  },
  {
   "cell_type": "code",
   "execution_count": 22,
   "metadata": {},
   "outputs": [],
   "source": [
    "def svm_rbf_module(X_train:pd.DataFrame, y, X_test:pd.DataFrame, c_param=1, bdry= 0.5):\n",
    "    svm_rbf = SVC(C=c_param, probability=True)\n",
    "    svm_rbf.fit(X_train.values, y.values)\n",
    "    y_pred = svm_rbf.predict_proba(X_test.values)[:,1] >= bdry\n",
    "    return y_pred"
   ]
  },
  {
   "cell_type": "code",
   "execution_count": 23,
   "metadata": {},
   "outputs": [
    {
     "name": "stderr",
     "output_type": "stream",
     "text": [
      "/Users/luoyonggui/anaconda3/lib/python3.7/site-packages/sklearn/utils/validation.py:73: DataConversionWarning: A column-vector y was passed when a 1d array was expected. Please change the shape of y to (n_samples, ), for example using ravel().\n",
      "  return f(**kwargs)\n"
     ]
    }
   ],
   "source": [
    "y_pred = svm_rbf_module(pd.DataFrame(x), pd.Series(y).to_frame(), pd.DataFrame(x))"
   ]
  },
  {
   "cell_type": "code",
   "execution_count": 24,
   "metadata": {},
   "outputs": [
    {
     "data": {
      "text/plain": [
       "array([False, False, False, False, False, False, False, False, False,\n",
       "       False, False, False, False, False, False, False, False, False,\n",
       "       False, False, False,  True, False, False, False,  True, False,\n",
       "       False, False, False, False, False, False, False, False, False,\n",
       "       False, False, False, False])"
      ]
     },
     "execution_count": 24,
     "metadata": {},
     "output_type": "execute_result"
    }
   ],
   "source": [
    "y_pred"
   ]
  },
  {
   "cell_type": "code",
   "execution_count": 25,
   "metadata": {},
   "outputs": [
    {
     "data": {
      "text/plain": [
       "0.8"
      ]
     },
     "execution_count": 25,
     "metadata": {},
     "output_type": "execute_result"
    }
   ],
   "source": [
    "(y_pred==y).mean()"
   ]
  },
  {
   "cell_type": "code",
   "execution_count": 26,
   "metadata": {},
   "outputs": [],
   "source": [
    "def svm_poly_module(X_train:pd.DataFrame, y, X_test:pd.DataFrame, c_param=(1, 3), bdry= 0.5):\n",
    "    svm_poly=SVC(C=c_param[0], kernel='poly', degree= c_param[1], probability=True)\n",
    "    svm_poly.fit(X_train.values, y.values)\n",
    "    pred = svm_poly.predict_proba(X_test.values)[:,1] >= bdry\n",
    "    return pred"
   ]
  },
  {
   "cell_type": "code",
   "execution_count": 27,
   "metadata": {},
   "outputs": [
    {
     "name": "stderr",
     "output_type": "stream",
     "text": [
      "/Users/luoyonggui/anaconda3/lib/python3.7/site-packages/sklearn/utils/validation.py:73: DataConversionWarning: A column-vector y was passed when a 1d array was expected. Please change the shape of y to (n_samples, ), for example using ravel().\n",
      "  return f(**kwargs)\n"
     ]
    }
   ],
   "source": [
    "y_pred = svm_poly_module(pd.DataFrame(x), pd.Series(y).to_frame(), pd.DataFrame(x))"
   ]
  },
  {
   "cell_type": "code",
   "execution_count": 28,
   "metadata": {},
   "outputs": [
    {
     "data": {
      "text/plain": [
       "array([False, False, False, False, False, False, False, False, False,\n",
       "       False, False, False, False, False, False, False, False, False,\n",
       "       False, False, False,  True, False, False, False,  True, False,\n",
       "       False, False, False, False, False, False, False, False, False,\n",
       "       False, False, False, False])"
      ]
     },
     "execution_count": 28,
     "metadata": {},
     "output_type": "execute_result"
    }
   ],
   "source": [
    "y_pred"
   ]
  },
  {
   "cell_type": "code",
   "execution_count": 29,
   "metadata": {},
   "outputs": [
    {
     "data": {
      "text/plain": [
       "0.8"
      ]
     },
     "execution_count": 29,
     "metadata": {},
     "output_type": "execute_result"
    }
   ],
   "source": [
    "(y_pred==y).mean()"
   ]
  },
  {
   "cell_type": "code",
   "execution_count": 31,
   "metadata": {},
   "outputs": [],
   "source": [
    "from sklearn.linear_model import LogisticRegression"
   ]
  },
  {
   "cell_type": "code",
   "execution_count": 32,
   "metadata": {},
   "outputs": [],
   "source": [
    "def lr_module(X_train:pd.DataFrame, y, X_test:pd.DataFrame, c_param=1, bdry= 0.5):\n",
    "    # penalty惩罚系数\n",
    "    lr = LogisticRegression(C=c_param,penalty='l2')\n",
    "    lr.fit(X_train.values, y.values)\n",
    "    pred= lr.predict_proba(X_test.values)[:,1]>=bdry\n",
    "    return pred"
   ]
  },
  {
   "cell_type": "code",
   "execution_count": 33,
   "metadata": {},
   "outputs": [
    {
     "name": "stderr",
     "output_type": "stream",
     "text": [
      "/Users/luoyonggui/anaconda3/lib/python3.7/site-packages/sklearn/utils/validation.py:73: DataConversionWarning: A column-vector y was passed when a 1d array was expected. Please change the shape of y to (n_samples, ), for example using ravel().\n",
      "  return f(**kwargs)\n"
     ]
    }
   ],
   "source": [
    "y_pred = lr_module(pd.DataFrame(x), pd.Series(y).to_frame(), pd.DataFrame(x))"
   ]
  },
  {
   "cell_type": "code",
   "execution_count": 34,
   "metadata": {},
   "outputs": [
    {
     "data": {
      "text/plain": [
       "array([False, False, False, False, False, False, False, False, False,\n",
       "       False, False, False, False, False, False, False, False, False,\n",
       "        True,  True, False,  True, False, False, False,  True, False,\n",
       "       False, False, False, False, False, False, False, False,  True,\n",
       "       False, False,  True,  True])"
      ]
     },
     "execution_count": 34,
     "metadata": {},
     "output_type": "execute_result"
    }
   ],
   "source": [
    "y_pred"
   ]
  },
  {
   "cell_type": "code",
   "execution_count": 35,
   "metadata": {},
   "outputs": [
    {
     "data": {
      "text/plain": [
       "0.875"
      ]
     },
     "execution_count": 35,
     "metadata": {},
     "output_type": "execute_result"
    }
   ],
   "source": [
    "(y_pred==y).mean()"
   ]
  },
  {
   "cell_type": "code",
   "execution_count": 36,
   "metadata": {},
   "outputs": [],
   "source": [
    "def rf_module(X_train:pd.DataFrame, y, X_test:pd.DataFrame, c_param=100, bdry= 0.5):\n",
    "    # 参数设置 https://www.cnblogs.com/harvey888/p/6512312.html\n",
    "    rf= RandomForestClassifier(n_jobs=-1,n_estimators=c_param, criterion='entropy', max_features= 'auto',\n",
    "                               max_depth=20,min_samples_split= 3, random_state=0, oob_score =True)\n",
    "    rf.fit(X_train.values, y.values)\n",
    "    pred = rf.predict_proba(X_test.values)[:,1]>=bdry\n",
    "    return pred"
   ]
  },
  {
   "cell_type": "code",
   "execution_count": 37,
   "metadata": {},
   "outputs": [
    {
     "name": "stderr",
     "output_type": "stream",
     "text": [
      "/Users/luoyonggui/anaconda3/lib/python3.7/site-packages/ipykernel_launcher.py:5: DataConversionWarning: A column-vector y was passed when a 1d array was expected. Please change the shape of y to (n_samples,), for example using ravel().\n",
      "  \"\"\"\n"
     ]
    }
   ],
   "source": [
    "y_pred = rf_module(pd.DataFrame(x), pd.Series(y).to_frame(), pd.DataFrame(x))"
   ]
  },
  {
   "cell_type": "code",
   "execution_count": 38,
   "metadata": {},
   "outputs": [
    {
     "data": {
      "text/plain": [
       "array([ True, False, False, False, False, False, False, False, False,\n",
       "       False, False, False,  True, False, False, False, False, False,\n",
       "        True,  True, False,  True,  True,  True, False,  True, False,\n",
       "       False, False, False, False, False, False, False, False, False,\n",
       "       False, False,  True,  True])"
      ]
     },
     "execution_count": 38,
     "metadata": {},
     "output_type": "execute_result"
    }
   ],
   "source": [
    "y_pred"
   ]
  },
  {
   "cell_type": "code",
   "execution_count": 39,
   "metadata": {},
   "outputs": [
    {
     "data": {
      "text/plain": [
       "1.0"
      ]
     },
     "execution_count": 39,
     "metadata": {},
     "output_type": "execute_result"
    }
   ],
   "source": [
    "(y_pred==y).mean()"
   ]
  },
  {
   "cell_type": "code",
   "execution_count": null,
   "metadata": {},
   "outputs": [],
   "source": [
    "def models_train_val(models, trainset, valset=None, num_folds=5, folds_use=1):\n",
    "    \"\"\"\n",
    "    \n",
    "    :models: list. 'lr rf'.split()\n",
    "    :trainset: tuple. (X_train, y_train)\n",
    "    :valset: tuple. (X_val, y_val)\n",
    "    \"\"\"\n",
    "    fold=KFold(num_folds,shuffle=True, random_state=14)"
   ]
  },
  {
   "cell_type": "code",
   "execution_count": 1,
   "metadata": {},
   "outputs": [],
   "source": [
    "#export\n"
   ]
  },
  {
   "cell_type": "code",
   "execution_count": null,
   "metadata": {},
   "outputs": [],
   "source": [
    "from nbdev.export import notebook2script\n",
    "notebook2script('.ipynb')"
   ]
  }
 ],
 "metadata": {
  "kernelspec": {
   "display_name": "Python 3",
   "language": "python",
   "name": "python3"
  },
  "language_info": {
   "codemirror_mode": {
    "name": "ipython",
    "version": 3
   },
   "file_extension": ".py",
   "mimetype": "text/x-python",
   "name": "python",
   "nbconvert_exporter": "python",
   "pygments_lexer": "ipython3",
   "version": "3.7.3"
  },
  "toc": {
   "base_numbering": 1,
   "nav_menu": {},
   "number_sections": true,
   "sideBar": true,
   "skip_h1_title": false,
   "title_cell": "Table of Contents",
   "title_sidebar": "Contents",
   "toc_cell": false,
   "toc_position": {},
   "toc_section_display": true,
   "toc_window_display": true
  },
  "varInspector": {
   "cols": {
    "lenName": 16,
    "lenType": 16,
    "lenVar": 40
   },
   "kernels_config": {
    "python": {
     "delete_cmd_postfix": "",
     "delete_cmd_prefix": "del ",
     "library": "var_list.py",
     "varRefreshCmd": "print(var_dic_list())"
    },
    "r": {
     "delete_cmd_postfix": ") ",
     "delete_cmd_prefix": "rm(",
     "library": "var_list.r",
     "varRefreshCmd": "cat(var_dic_list()) "
    }
   },
   "types_to_exclude": [
    "module",
    "function",
    "builtin_function_or_method",
    "instance",
    "_Feature"
   ],
   "window_display": false
  }
 },
 "nbformat": 4,
 "nbformat_minor": 2
}
