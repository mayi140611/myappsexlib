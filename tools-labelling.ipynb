{
 "cells": [
  {
   "cell_type": "code",
   "execution_count": 3,
   "metadata": {},
   "outputs": [],
   "source": [
    "# default_exp tools.labelling\n",
    "\n",
    "%reload_ext autoreload\n",
    "%autoreload 2"
   ]
  },
  {
   "cell_type": "markdown",
   "metadata": {},
   "source": [
    "# tools-labelling"
   ]
  },
  {
   "cell_type": "markdown",
   "metadata": {},
   "source": [
    "## doccano\n",
    "https://github.com/doccano/doccano\n",
    "\n",
    "https://zhuanlan.zhihu.com/p/48320901"
   ]
  },
  {
   "cell_type": "markdown",
   "metadata": {},
   "source": [
    "## label studio\n",
    "https://labelstud.io/"
   ]
  },
  {
   "cell_type": "markdown",
   "metadata": {},
   "source": [
    "## Prodigy spacy\n",
    "\n",
    "　　Website: https://prodi.gy/docs/\n",
    "\n",
    "　　Blog: https://explosion.ai/blog/prodigy-annotation-tool-active-learning\n",
    "\n",
    "## DeepDive (Mindtagger)：前端比较简单，用户界面友好。\n",
    "\n",
    "　　介绍：http://deepdive.stanford.edu/labeling\n",
    "\n",
    "　　前端代码：https://github.com/HazyResearch/mindbender\n",
    "\n",
    "## BRAT\n",
    "\n",
    "　　介绍：http://brat.nlplab.org/index.html\n",
    "\n",
    "　　在线试用：http://weaver.nlplab.org/~brat/demo/latest/#/\n",
    "\n",
    "　　代码：https://github.com/nlplab/brat\n",
    "  \n",
    "## IEPY ：工程完整，有用户管理系统。前端略重，对用户不是非常友好\n",
    "\n",
    "　　代码：https://github.com/machinalis/iepy\n",
    "\n",
    "　　说明：http://iepy.readthedocs.io/en/latest/index.html"
   ]
  },
  {
   "cell_type": "code",
   "execution_count": null,
   "metadata": {},
   "outputs": [],
   "source": [
    "from nbdev.export import notebook2script\n",
    "notebook2script('.ipynb')"
   ]
  }
 ],
 "metadata": {
  "kernelspec": {
   "display_name": "Python 3",
   "language": "python",
   "name": "python3"
  },
  "language_info": {
   "codemirror_mode": {
    "name": "ipython",
    "version": 3
   },
   "file_extension": ".py",
   "mimetype": "text/x-python",
   "name": "python",
   "nbconvert_exporter": "python",
   "pygments_lexer": "ipython3",
   "version": "3.7.3"
  },
  "toc": {
   "base_numbering": 1,
   "nav_menu": {},
   "number_sections": true,
   "sideBar": true,
   "skip_h1_title": false,
   "title_cell": "Table of Contents",
   "title_sidebar": "Contents",
   "toc_cell": false,
   "toc_position": {},
   "toc_section_display": true,
   "toc_window_display": true
  },
  "varInspector": {
   "cols": {
    "lenName": 16,
    "lenType": 16,
    "lenVar": 40
   },
   "kernels_config": {
    "python": {
     "delete_cmd_postfix": "",
     "delete_cmd_prefix": "del ",
     "library": "var_list.py",
     "varRefreshCmd": "print(var_dic_list())"
    },
    "r": {
     "delete_cmd_postfix": ") ",
     "delete_cmd_prefix": "rm(",
     "library": "var_list.r",
     "varRefreshCmd": "cat(var_dic_list()) "
    }
   },
   "types_to_exclude": [
    "module",
    "function",
    "builtin_function_or_method",
    "instance",
    "_Feature"
   ],
   "window_display": false
  }
 },
 "nbformat": 4,
 "nbformat_minor": 2
}
