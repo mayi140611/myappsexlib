{
 "cells": [
  {
   "cell_type": "code",
   "execution_count": 3,
   "metadata": {},
   "outputs": [],
   "source": [
    "# default_exp algo.rs.fm\n",
    "\n",
    "%reload_ext autoreload\n",
    "%autoreload 2"
   ]
  },
  {
   "cell_type": "markdown",
   "metadata": {},
   "source": [
    "# algo-rs-fm\n",
    "http://litowang.top/2018/07/29/factorization-machine/\n",
    "\n",
    "FM（factorization machine, 因子分解机）\n",
    "\n",
    "每一条训练数据都是一条向量x，每条训练数据有n个特征，其中某个特征记为xi，点击率预估模型旨在寻找一个合适的函数f(x)，对于每一个用户-广告pair预测该用户对该广告的点击率，并且返回点击率预估值最高的一个用户-广告pair请求以展示到用户界面。\n",
    "\n",
    "## 线性模型\n",
    "$$f(x)=w_{0}+\\sum_{i=1}^{n}w_{i}x_{i}$$\n",
    "缺点: 没有考虑交叉特征。\n",
    "\n",
    "特征交叉好是好，但是会带来一个麻烦的问题就是维度爆炸，假设原始有10w维的特征，在特征交叉之后特征维度变成了100亿，如此巨大的特征空间对系统内存、通信、计算都有非常大的压力难以训练，如果不对所有的特征交叉进行建模，只对其中部分特征交叉建模是否可行？答案是肯定的，并且业界对此有个专有名词就是特征工程，在LR时代，特征工程最容易提高推荐效果，但是特征交叉的尝试需要试错成本，并且随着特征交叉达到了一定上限之后，试错成本也随着增大，投入产出比愈来愈低。\n",
    "\n",
    "既然特征交叉这么有用，人工交叉又愈来愈难，有没有办法能在不过分增大参数空间的前提下让模型自动的学习特征交叉权重？（后面可以看到因子分解机系列模型可以比较有效的解决这个问题）\n",
    "\n",
    "## Poly-2\n",
    "Poly-2模型相比于LR，多了一个二维的特征穷举交叉项，由此模型可以自动学习每一个特征交叉的权重\n",
    "$$f(x)=w_{0}+\\sum_{i=1}^{n}w_{i}x_{i} +\\sum_{i=1}^{n}\\sum_{j=1}^{n}w_{ij}x_{i}x_{j}$$\n",
    "但是该模型存在致命的缺点：\n",
    "\n",
    "数据稀疏：在稀疏数据中，一个xi已经是很小概率了，而xi和xj同时出现的概率更是微乎其微，为每对特征交叉拟合一个独立参数难以收敛。\n",
    "参数空间大：参数空间为O(n2)对内存和机器资源和性能要求太高，在实际业务中无法使用。\n",
    "\n",
    "## 因子分解机模型（FM）\n",
    "对于Poly-2中的特征交叉部分，可以看做是一个n∗n的矩阵，我们可以借用矩阵论中的矩阵分解法将矩阵分解为两个向量的外积。因此模型的复杂度就随着下降了。\n",
    "\n",
    "因子分解机就是借助这一方法对特征交叉矩阵进行分解，从而得到一个能有效降维版本的模型，使得模型参数空间减小，模型训练变得可行。FM因子分解机最早由Steffen Rendle提出，该模型公式如下：\n",
    "\n",
    "$$f(x)=w_{0}+\\sum_{i=1}^{n}w_{i}x_{i} +\\sum_{i=1}^{n}\\sum_{j=i+1}^{n}<\\mathbf v_{i},\\mathbf v_{j}>x_{i}x_{j}$$\n",
    "其中$<\\mathbf v_{i},\\mathbf v_{j}>$\n",
    "表示的是向量vi 和向量 vj 的内积，如果我们直接第式子中的第三项部分进行计算，复杂度是O(kn2)，简单的对式子进行化简，我们可以得到复杂度更低的计算式O(kn)：\n",
    "$$\\begin{eqnarray}\n",
    "\\sum_{i=1}^{n}\\sum_{j=i+1}^{n}<\\mathbf v_{i},\\mathbf v_{j}>x_{i}x_{j}\n",
    "&=&\\frac{1}{2}\\sum_{i=1}^{n}\\sum_{j=1}^{n}<\\mathbf v_{i},\\mathbf v_{j}>x_{i}x_{j} - \\frac{1}{2}\\sum_{i=1}^{n}<\\mathbf v_{i},\\mathbf v_{i}>x_{i}x_{i}\\\\\n",
    "&=&\\frac{1}{2} \\left( \\sum_{i=1}^{n}\\sum_{j=1}^{n}\\sum_{f=1}^{k}v_{i,f} \\cdot v_{j,f} \\cdot x_{i} \\cdot x_{j} -\\sum_{i=1}^{n}\\sum_{f=1}^{k}v_{i,f} \\cdot v_{i,f} \\cdot x_{i} \\cdot x_{i}\\right) \\\\\n",
    "&=&\\frac{1}{2} \\left(   \\left( \\sum_{i=1}^{n} v_{i,f} \\cdot x_{i} \\right) \\left( \\sum_{j=1}^{n} v_{j,f} \\cdot x_{j} \\right) - \\sum_{i=1}^{n} v_{i,f}^{2} \\cdot x_{i}^{2} \\right) \\\\\n",
    "&=&\\frac{1}{2} \\left(   \\left( \\sum_{i=1}^{n} v_{i,f} \\cdot x_{i} \\right)^{2} - \\sum_{i=1}^{n} v_{i,f}^{2} \\cdot x_{i}^{2} \\right) \\\\\n",
    "\\end{eqnarray}$$"
   ]
  },
  {
   "cell_type": "code",
   "execution_count": 1,
   "metadata": {},
   "outputs": [],
   "source": [
    "#export\n"
   ]
  },
  {
   "cell_type": "code",
   "execution_count": null,
   "metadata": {},
   "outputs": [],
   "source": [
    "from nbdev.export import notebook2script\n",
    "notebook2script('.ipynb')"
   ]
  }
 ],
 "metadata": {
  "kernelspec": {
   "display_name": "Python 3",
   "language": "python",
   "name": "python3"
  },
  "language_info": {
   "codemirror_mode": {
    "name": "ipython",
    "version": 3
   },
   "file_extension": ".py",
   "mimetype": "text/x-python",
   "name": "python",
   "nbconvert_exporter": "python",
   "pygments_lexer": "ipython3",
   "version": "3.7.3"
  },
  "toc": {
   "base_numbering": 1,
   "nav_menu": {},
   "number_sections": true,
   "sideBar": true,
   "skip_h1_title": false,
   "title_cell": "Table of Contents",
   "title_sidebar": "Contents",
   "toc_cell": false,
   "toc_position": {},
   "toc_section_display": true,
   "toc_window_display": true
  },
  "varInspector": {
   "cols": {
    "lenName": 16,
    "lenType": 16,
    "lenVar": 40
   },
   "kernels_config": {
    "python": {
     "delete_cmd_postfix": "",
     "delete_cmd_prefix": "del ",
     "library": "var_list.py",
     "varRefreshCmd": "print(var_dic_list())"
    },
    "r": {
     "delete_cmd_postfix": ") ",
     "delete_cmd_prefix": "rm(",
     "library": "var_list.r",
     "varRefreshCmd": "cat(var_dic_list()) "
    }
   },
   "types_to_exclude": [
    "module",
    "function",
    "builtin_function_or_method",
    "instance",
    "_Feature"
   ],
   "window_display": false
  }
 },
 "nbformat": 4,
 "nbformat_minor": 2
}
