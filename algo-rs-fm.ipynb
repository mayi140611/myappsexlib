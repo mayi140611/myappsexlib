{
 "cells": [
  {
   "cell_type": "code",
   "execution_count": 3,
   "metadata": {},
   "outputs": [],
   "source": [
    "# default_exp algo.rs.fm\n",
    "\n",
    "%reload_ext autoreload\n",
    "%autoreload 2"
   ]
  },
  {
   "cell_type": "markdown",
   "metadata": {},
   "source": [
    "# algo-rs-fm\n",
    "http://litowang.top/2018/07/29/factorization-machine/\n",
    "\n",
    "FM（factorization machine, 因子分解机）\n",
    "\n",
    "每一条训练数据都是一条向量x，每条训练数据有n个特征，其中某个特征记为xi，点击率预估模型旨在寻找一个合适的函数f(x)，对于每一个用户-广告pair预测该用户对该广告的点击率，并且返回点击率预估值最高的一个用户-广告pair请求以展示到用户界面。\n",
    "\n",
    "## 线性模型\n",
    "$$f(x)=w_{0}+\\sum_{i=1}^{n}w_{i}x_{i}$$\n",
    "缺点: 没有考虑交叉特征。\n",
    "\n",
    "特征交叉好是好，但是会带来一个麻烦的问题就是维度爆炸，假设原始有10w维的特征，在特征交叉之后特征维度变成了100亿，如此巨大的特征空间对系统内存、通信、计算都有非常大的压力难以训练，如果不对所有的特征交叉进行建模，只对其中部分特征交叉建模是否可行？答案是肯定的，并且业界对此有个专有名词就是特征工程，在LR时代，特征工程最容易提高推荐效果，但是特征交叉的尝试需要试错成本，并且随着特征交叉达到了一定上限之后，试错成本也随着增大，投入产出比愈来愈低。\n",
    "\n",
    "既然特征交叉这么有用，人工交叉又愈来愈难，有没有办法能在不过分增大参数空间的前提下让模型自动的学习特征交叉权重？（后面可以看到因子分解机系列模型可以比较有效的解决这个问题）\n",
    "\n",
    "## Poly-2\n",
    "Poly-2模型相比于LR，多了一个二维的特征穷举交叉项，由此模型可以自动学习每一个特征交叉的权重\n",
    "$$f(x)=w_{0}+\\sum_{i=1}^{n}w_{i}x_{i} +\\sum_{i=1}^{n}\\sum_{j=1}^{n}w_{ij}x_{i}x_{j}$$\n",
    "但是该模型存在致命的缺点：\n",
    "\n",
    "数据稀疏：在稀疏数据中，一个xi已经是很小概率了，而xi和xj同时出现的概率更是微乎其微，为每对特征交叉拟合一个独立参数难以收敛。\n",
    "参数空间大：参数空间为O(n2)对内存和机器资源和性能要求太高，在实际业务中无法使用。\n",
    "\n",
    "## 因子分解机模型（FM）\n",
    "对于Poly-2中的特征交叉部分，可以看做是一个n∗n的矩阵，我们可以借用矩阵论中的矩阵分解法将矩阵分解为两个向量的外积。因此模型的复杂度就随着下降了。\n",
    "\n",
    "因子分解机就是借助这一方法对特征交叉矩阵进行分解，从而得到一个能有效降维版本的模型，使得模型参数空间减小，模型训练变得可行。FM因子分解机最早由Steffen Rendle提出，该模型公式如下：\n",
    "\n",
    "$$f(x)=w_{0}+\\sum_{i=1}^{n}w_{i}x_{i} +\\sum_{i=1}^{n}\\sum_{j=i+1}^{n}<\\mathbf v_{i},\\mathbf v_{j}>x_{i}x_{j}$$\n",
    "其中$<\\mathbf v_{i},\\mathbf v_{j}>$\n",
    "表示的是向量vi 和向量 vj 的内积，如果我们直接第式子中的第三项部分进行计算，复杂度是O(kn2)，简单的对式子进行化简，我们可以得到复杂度更低的计算式O(kn)：\n",
    "$$\\begin{eqnarray}\n",
    "\\sum_{i=1}^{n}\\sum_{j=i+1}^{n}<\\mathbf v_{i},\\mathbf v_{j}>x_{i}x_{j}\n",
    "&=&\\frac{1}{2}\\sum_{i=1}^{n}\\sum_{j=1}^{n}<\\mathbf v_{i},\\mathbf v_{j}>x_{i}x_{j} - \\frac{1}{2}\\sum_{i=1}^{n}<\\mathbf v_{i},\\mathbf v_{i}>x_{i}x_{i}\\\\\n",
    "&=&\\frac{1}{2} \\left( \\sum_{i=1}^{n}\\sum_{j=1}^{n}\\sum_{f=1}^{k}v_{i,f} \\cdot v_{j,f} \\cdot x_{i} \\cdot x_{j} -\\sum_{i=1}^{n}\\sum_{f=1}^{k}v_{i,f} \\cdot v_{i,f} \\cdot x_{i} \\cdot x_{i}\\right) \\\\\n",
    "&=&\\frac{1}{2} \\left(   \\left( \\sum_{i=1}^{n} v_{i,f} \\cdot x_{i} \\right) \\left( \\sum_{j=1}^{n} v_{j,f} \\cdot x_{j} \\right) - \\sum_{i=1}^{n} v_{i,f}^{2} \\cdot x_{i}^{2} \\right) \\\\\n",
    "&=&\\frac{1}{2} \\left(   \\left( \\sum_{i=1}^{n} v_{i,f} \\cdot x_{i} \\right)^{2} - \\sum_{i=1}^{n} v_{i,f}^{2} \\cdot x_{i}^{2} \\right) \\\\\n",
    "\\end{eqnarray}$$"
   ]
  },
  {
   "cell_type": "code",
   "execution_count": 1,
   "metadata": {},
   "outputs": [],
   "source": [
    "#export\n"
   ]
  },
  {
   "cell_type": "markdown",
   "metadata": {},
   "source": [
    "# LightFM\n",
    "https://github.com/lyst/lightfm\n",
    "\n",
    "https://making.lyst.com/lightfm/docs/home.html\n",
    "\n",
    "Learning to Rank Sketchfab Models with LightFM \n",
    "https://www.ethanrosenthal.com/2016/11/07/implicit-mf-part-2/\n",
    "\n",
    "LightFM是针对隐式和显式反馈的许多流行推荐算法的Python实现，包括BPR和WARP排名损失的有效实现。 它易于使用，快速（通过多线程模型估计）并产生高质量的结果。\n",
    "\n",
    "它还使将item和用户元数据都合并到传统的矩阵分解算法中成为可能。 它将每个用户和item表示为其特征的潜在表示的总和，从而允许将recommendations推广到新item（通过item features）和新用户（通过用户features）。\n",
    "\n",
    "\n",
    "## install"
   ]
  },
  {
   "cell_type": "code",
   "execution_count": 5,
   "metadata": {},
   "outputs": [
    {
     "name": "stdout",
     "output_type": "stream",
     "text": [
      "lightfm==1.15\r\n"
     ]
    }
   ],
   "source": [
    "# !pip install lightfm -i https://pypi.tuna.tsinghua.edu.cn/simple\n",
    "!pip freeze | grep lightfm"
   ]
  },
  {
   "cell_type": "markdown",
   "metadata": {},
   "source": [
    "## Quickstart\n",
    "Fitting an implicit feedback model on the MovieLens 100k dataset is very easy:"
   ]
  },
  {
   "cell_type": "code",
   "execution_count": 6,
   "metadata": {},
   "outputs": [
    {
     "name": "stderr",
     "output_type": "stream",
     "text": [
      "/Users/luoyonggui/anaconda3/lib/python3.7/site-packages/lightfm/_lightfm_fast.py:9: UserWarning: LightFM was compiled without OpenMP support. Only a single thread will be used.\n",
      "  warnings.warn('LightFM was compiled without OpenMP support. '\n"
     ]
    }
   ],
   "source": [
    "from lightfm import LightFM\n",
    "from lightfm.datasets import fetch_movielens\n",
    "from lightfm.evaluation import precision_at_k"
   ]
  },
  {
   "cell_type": "code",
   "execution_count": 7,
   "metadata": {},
   "outputs": [],
   "source": [
    "# Load the MovieLens 100k dataset. Only five\n",
    "# star ratings are treated as positive.\n",
    "data = fetch_movielens(min_rating=5.0)"
   ]
  },
  {
   "cell_type": "code",
   "execution_count": 10,
   "metadata": {},
   "outputs": [
    {
     "data": {
      "text/plain": [
       "dict"
      ]
     },
     "execution_count": 10,
     "metadata": {},
     "output_type": "execute_result"
    }
   ],
   "source": [
    "type(data)"
   ]
  },
  {
   "cell_type": "code",
   "execution_count": 11,
   "metadata": {},
   "outputs": [
    {
     "data": {
      "text/plain": [
       "{'train': <943x1682 sparse matrix of type '<class 'numpy.int32'>'\n",
       " \twith 19048 stored elements in COOrdinate format>,\n",
       " 'test': <943x1682 sparse matrix of type '<class 'numpy.int32'>'\n",
       " \twith 2153 stored elements in COOrdinate format>,\n",
       " 'item_features': <1682x1682 sparse matrix of type '<class 'numpy.float32'>'\n",
       " \twith 1682 stored elements in Compressed Sparse Row format>,\n",
       " 'item_feature_labels': array(['Toy Story (1995)', 'GoldenEye (1995)', 'Four Rooms (1995)', ...,\n",
       "        'Sliding Doors (1998)', 'You So Crazy (1994)',\n",
       "        'Scream of Stone (Schrei aus Stein) (1991)'], dtype=object),\n",
       " 'item_labels': array(['Toy Story (1995)', 'GoldenEye (1995)', 'Four Rooms (1995)', ...,\n",
       "        'Sliding Doors (1998)', 'You So Crazy (1994)',\n",
       "        'Scream of Stone (Schrei aus Stein) (1991)'], dtype=object)}"
      ]
     },
     "execution_count": 11,
     "metadata": {},
     "output_type": "execute_result"
    }
   ],
   "source": [
    "data"
   ]
  },
  {
   "cell_type": "code",
   "execution_count": 19,
   "metadata": {},
   "outputs": [
    {
     "data": {
      "text/plain": [
       "(943, 1682)"
      ]
     },
     "execution_count": 19,
     "metadata": {},
     "output_type": "execute_result"
    }
   ],
   "source": [
    "data['train'].toarray().shape"
   ]
  },
  {
   "cell_type": "code",
   "execution_count": 20,
   "metadata": {},
   "outputs": [
    {
     "data": {
      "text/plain": [
       "array([5., 0., 0., ..., 0., 0., 0.], dtype=float32)"
      ]
     },
     "execution_count": 20,
     "metadata": {},
     "output_type": "execute_result"
    }
   ],
   "source": [
    "data['train'].toarray()[0]"
   ]
  },
  {
   "cell_type": "code",
   "execution_count": 15,
   "metadata": {},
   "outputs": [
    {
     "data": {
      "text/plain": [
       "<lightfm.lightfm.LightFM at 0x117febac8>"
      ]
     },
     "execution_count": 15,
     "metadata": {},
     "output_type": "execute_result"
    }
   ],
   "source": [
    "# Instantiate and train the model\n",
    "model = LightFM(loss='warp')\n",
    "model.fit(data['train'], epochs=30, num_threads=2)"
   ]
  },
  {
   "cell_type": "code",
   "execution_count": 31,
   "metadata": {},
   "outputs": [
    {
     "data": {
      "text/plain": [
       "(1682, 10)"
      ]
     },
     "execution_count": 31,
     "metadata": {},
     "output_type": "execute_result"
    }
   ],
   "source": [
    "model.get_item_representations()[1].shape"
   ]
  },
  {
   "cell_type": "code",
   "execution_count": 32,
   "metadata": {},
   "outputs": [
    {
     "data": {
      "text/plain": [
       "2"
      ]
     },
     "execution_count": 32,
     "metadata": {},
     "output_type": "execute_result"
    }
   ],
   "source": [
    "len(model.get_user_representations())"
   ]
  },
  {
   "cell_type": "code",
   "execution_count": 30,
   "metadata": {},
   "outputs": [
    {
     "data": {
      "text/plain": [
       "(943, 10)"
      ]
     },
     "execution_count": 30,
     "metadata": {},
     "output_type": "execute_result"
    }
   ],
   "source": [
    "model.get_user_representations()[1].shape"
   ]
  },
  {
   "cell_type": "code",
   "execution_count": 34,
   "metadata": {},
   "outputs": [
    {
     "data": {
      "text/plain": [
       "(943, 10)"
      ]
     },
     "execution_count": 34,
     "metadata": {},
     "output_type": "execute_result"
    }
   ],
   "source": [
    "model.user_embedding_gradients.shape"
   ]
  },
  {
   "cell_type": "code",
   "execution_count": 35,
   "metadata": {},
   "outputs": [
    {
     "data": {
      "text/plain": [
       "<943x1682 sparse matrix of type '<class 'numpy.float32'>'\n",
       "\twith 2153 stored elements in Compressed Sparse Row format>"
      ]
     },
     "execution_count": 35,
     "metadata": {},
     "output_type": "execute_result"
    }
   ],
   "source": [
    "model.predict_rank(data['test'])"
   ]
  },
  {
   "cell_type": "code",
   "execution_count": 36,
   "metadata": {},
   "outputs": [
    {
     "data": {
      "text/plain": [
       "(943, 1682)"
      ]
     },
     "execution_count": 36,
     "metadata": {},
     "output_type": "execute_result"
    }
   ],
   "source": [
    "model.predict_rank(data['test']).shape"
   ]
  },
  {
   "cell_type": "code",
   "execution_count": 37,
   "metadata": {},
   "outputs": [
    {
     "data": {
      "text/plain": [
       "array([0., 0., 0., ..., 0., 0., 0.], dtype=float32)"
      ]
     },
     "execution_count": 37,
     "metadata": {},
     "output_type": "execute_result"
    }
   ],
   "source": [
    "model.predict_rank(data['test']).toarray()[0]"
   ]
  },
  {
   "cell_type": "code",
   "execution_count": null,
   "metadata": {},
   "outputs": [],
   "source": [
    "model.predict()"
   ]
  },
  {
   "cell_type": "code",
   "execution_count": 16,
   "metadata": {},
   "outputs": [],
   "source": [
    "# Evaluate the trained model\n",
    "test_precision = precision_at_k(model, data['test'], k=5).mean()"
   ]
  },
  {
   "cell_type": "code",
   "execution_count": 17,
   "metadata": {},
   "outputs": [
    {
     "data": {
      "text/plain": [
       "0.051254958"
      ]
     },
     "execution_count": 17,
     "metadata": {},
     "output_type": "execute_result"
    }
   ],
   "source": [
    "test_precision"
   ]
  },
  {
   "cell_type": "markdown",
   "metadata": {},
   "source": [
    "## api"
   ]
  },
  {
   "cell_type": "markdown",
   "metadata": {},
   "source": [
    "### LightFM\n",
    "\n",
    "    LightFM(\n",
    "        no_components=10,\n",
    "        k=5,\n",
    "        n=10,\n",
    "        learning_schedule='adagrad',\n",
    "        loss='logistic',\n",
    "        learning_rate=0.05,\n",
    "        rho=0.95,\n",
    "        epsilon=1e-06,\n",
    "        item_alpha=0.0,\n",
    "        user_alpha=0.0,\n",
    "        max_sampled=10,\n",
    "        random_state=None,\n",
    "    )\n",
    "\n",
    "A hybrid(混合的) latent representation recommender model.\n",
    "\n",
    "The model learns embeddings (latent representations in a high-dimensional space) for users and items in a way that encodes user preferences over items.\n",
    "\n",
    "When multiplied together, these representations produce scores for every item for a given user; items scored highly are more likely to be interesting to the user.\n",
    "\n",
    "The user and item representations are expressed in terms of representations of their features: an embedding is estimated for every feature, and these features are then summed together to arrive at representations for users and items. \n",
    "\n",
    "For example, if the movie 'Wizard of Oz' is described by the following features: 'musical fantasy', 'Judy Garland', and 'Wizard of Oz', then its embedding will be given by taking the features' embeddings and adding them together. The same applies to user features.\n",
    "\n",
    "The embeddings are learned through `stochastic gradient descent <http://cs231n.github.io/optimization-1/>`_ methods.\n",
    "\n",
    "Four loss functions are available:\n",
    "\n",
    "- logistic: useful when both positive (1) and negative (-1) interactions\n",
    "  are present.\n",
    "- BPR: Bayesian Personalised Ranking [1]_ pairwise loss. Maximises the prediction difference between a positive example and a randomly chosen negative example. Useful when only positive interactions are present and optimising ROC AUC is desired.\n",
    "- WARP: Weighted Approximate-Rank Pairwise [2]_ loss. Maximises\n",
    "  the rank of positive examples by repeatedly sampling negative\n",
    "  examples until rank violating one is found. Useful when only\n",
    "  positive interactions are present and optimising the top of\n",
    "  the recommendation list (precision@k) is desired.\n",
    "- k-OS WARP: k-th order statistic loss [3]_. A modification of WARP that\n",
    "  uses the k-th positive example for any given user as a basis for pairwise\n",
    "  updates.\n",
    "\n",
    "Two learning rate schedules are available:\n",
    "\n",
    "- adagrad: [4]_\n",
    "- adadelta: [5]_"
   ]
  },
  {
   "cell_type": "markdown",
   "metadata": {},
   "source": [
    "#### Parameters\n",
    "\n",
    "    no_components: int, optional\n",
    "        the dimensionality of the feature latent embeddings.\n",
    "    k: int, optional\n",
    "        for k-OS training, the k-th positive example will be selected from the\n",
    "        n positive examples sampled for every user.\n",
    "    n: int, optional\n",
    "        for k-OS training, maximum number of positives sampled for each update.\n",
    "    learning_schedule: string, optional\n",
    "        one of ('adagrad', 'adadelta').\n",
    "    loss: string, optional\n",
    "        one of  ('logistic', 'bpr', 'warp', 'warp-kos'): the loss function.\n",
    "    learning_rate: float, optional\n",
    "        initial learning rate for the adagrad learning schedule.\n",
    "    rho: float, optional\n",
    "        moving average coefficient for the adadelta learning schedule.\n",
    "    epsilon: float, optional\n",
    "        conditioning parameter for the adadelta learning schedule.\n",
    "    item_alpha: float, optional\n",
    "        L2 penalty on item features. Tip: setting this number too high can slow\n",
    "        down training. One good way to check is if the final weights in the\n",
    "        embeddings turned out to be mostly zero. The same idea applies to\n",
    "        the user_alpha parameter.\n",
    "    user_alpha: float, optional\n",
    "        L2 penalty on user features.\n",
    "    max_sampled: int, optional\n",
    "        maximum number of negative samples used during WARP fitting.\n",
    "        It requires a lot of sampling to find negative triplets for users that\n",
    "        are already well represented by the model; this can lead to very long\n",
    "        training times and overfitting. Setting this to a higher number will\n",
    "        generally lead to longer training times, but may in some cases improve\n",
    "        accuracy.\n",
    "    random_state: int seed, RandomState instance, or None\n",
    "        The seed of the pseudo random number generator to use when shuffling\n",
    "        the data and initializing the parameters.\n",
    "\n",
    "#### Attributes\n",
    "\n",
    "    item_embeddings: np.float32 array of shape [n_item_features, n_components]\n",
    "         Contains the estimated latent vectors for item features. The [i, j]-th\n",
    "         entry gives the value of the j-th component for the i-th item feature.\n",
    "         In the simplest case where the item feature matrix is an identity\n",
    "         matrix, the i-th row will represent the i-th item latent vector.\n",
    "    user_embeddings: np.float32 array of shape [n_user_features, n_components]\n",
    "         Contains the estimated latent vectors for user features. The [i, j]-th\n",
    "         entry gives the value of the j-th component for the i-th user feature.\n",
    "         In the simplest case where the user feature matrix is an identity\n",
    "         matrix, the i-th row will represent the i-th user latent vector.\n",
    "    item_biases: np.float32 array of shape [n_item_features,]\n",
    "         Contains the biases for item_features.\n",
    "    user_biases: np.float32 array of shape [n_user_features,]\n",
    "         Contains the biases for user_features.\n",
    "\n",
    "#### Notes\n",
    "\n",
    "Users' and items' latent representations are expressed in terms of their\n",
    "features' representations. If no feature matrices are provided to the\n",
    ":func:`lightfm.LightFM.fit` or :func:`lightfm.LightFM.predict` methods, they are\n",
    "implicitly assumed to be identity matrices: that is, each user and item\n",
    "are characterised by one feature that is unique to that user (or item).\n",
    "In this case, LightFM reduces to a traditional collaborative filtering\n",
    "matrix factorization method.\n",
    "\n",
    "When a feature matrix is provided, it should be of shape\n",
    "``(num_<users/items> x num_features)``. An embedding will then be estimated\n",
    "for every feature: that is, there will be ``num_features`` embeddings.\n",
    "To obtain the representation for user i, the model will look up the i-th\n",
    "row of the feature matrix to find the features with non-zero weights in\n",
    "that row; the embeddings for these features will then be added together\n",
    "to arrive at the user representation. For example, if user 10 has weight 1\n",
    "in the 5th column of the user feature matrix, and weight 3 in the 20th\n",
    "column, that user's representation will be found by adding together\n",
    "the embedding for the 5th and the 20th features (multiplying the latter\n",
    "by 3). The same goes for items.\n",
    "\n",
    "Note: when supplying feature matrices, an implicit identity feature\n",
    "matrix will no longer be used. This may result in a less expressive model:\n",
    "because no per-user features are estiamated, the model may underfit. To\n",
    "combat this, include per-user (per-item) features (that is, an identity\n",
    "matrix) as part of the feature matrix you supply."
   ]
  },
  {
   "cell_type": "code",
   "execution_count": null,
   "metadata": {},
   "outputs": [],
   "source": [
    "from nbdev.export import notebook2script\n",
    "notebook2script('.ipynb')"
   ]
  }
 ],
 "metadata": {
  "kernelspec": {
   "display_name": "Python 3",
   "language": "python",
   "name": "python3"
  },
  "language_info": {
   "codemirror_mode": {
    "name": "ipython",
    "version": 3
   },
   "file_extension": ".py",
   "mimetype": "text/x-python",
   "name": "python",
   "nbconvert_exporter": "python",
   "pygments_lexer": "ipython3",
   "version": "3.7.3"
  },
  "toc": {
   "base_numbering": 1,
   "nav_menu": {},
   "number_sections": true,
   "sideBar": true,
   "skip_h1_title": false,
   "title_cell": "Table of Contents",
   "title_sidebar": "Contents",
   "toc_cell": false,
   "toc_position": {},
   "toc_section_display": true,
   "toc_window_display": true
  },
  "varInspector": {
   "cols": {
    "lenName": 16,
    "lenType": 16,
    "lenVar": 40
   },
   "kernels_config": {
    "python": {
     "delete_cmd_postfix": "",
     "delete_cmd_prefix": "del ",
     "library": "var_list.py",
     "varRefreshCmd": "print(var_dic_list())"
    },
    "r": {
     "delete_cmd_postfix": ") ",
     "delete_cmd_prefix": "rm(",
     "library": "var_list.r",
     "varRefreshCmd": "cat(var_dic_list()) "
    }
   },
   "types_to_exclude": [
    "module",
    "function",
    "builtin_function_or_method",
    "instance",
    "_Feature"
   ],
   "window_display": false
  }
 },
 "nbformat": 4,
 "nbformat_minor": 2
}
