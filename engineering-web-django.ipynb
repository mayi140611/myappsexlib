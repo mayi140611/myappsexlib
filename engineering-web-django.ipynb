{
 "cells": [
  {
   "cell_type": "code",
   "execution_count": 3,
   "metadata": {},
   "outputs": [],
   "source": [
    "# default_exp engineering.web.django\n",
    "\n",
    "%reload_ext autoreload\n",
    "%autoreload 2"
   ]
  },
  {
   "cell_type": "markdown",
   "metadata": {},
   "source": [
    "# Django REST framework\n",
    "https://www.django-rest-framework.org/\n",
    "\n",
    "\n",
    "\n",
    "## install"
   ]
  },
  {
   "cell_type": "code",
   "execution_count": null,
   "metadata": {},
   "outputs": [],
   "source": [
    "pip install django\n",
    "pip install djangorestframework"
   ]
  },
  {
   "cell_type": "markdown",
   "metadata": {},
   "source": [
    "## Settings\n",
    "Add 'rest_framework' to INSTALLED_APPS.\n",
    "\n",
    "    INSTALLED_APPS = [\n",
    "        ...\n",
    "        'rest_framework',\n",
    "    ]"
   ]
  },
  {
   "cell_type": "markdown",
   "metadata": {},
   "source": [
    "## Quickstart\n",
    "https://www.django-rest-framework.org/tutorial/quickstart/#quickstart"
   ]
  },
  {
   "cell_type": "markdown",
   "metadata": {},
   "source": [
    "## Tutorial 1: Serialization\n",
    "https://www.django-rest-framework.org/tutorial/1-serialization/#tutorial-1-serialization\n",
    "\n",
    "序列化 (Serialization)将对象的状态信息转换为可以存储或传输的形式的过程。在序列化期间，对象将其当前状态写入到临时或持久性存储区。以后，可以通过从存储区中读取或反序列化对象的状态，重新创建该对象。\n",
    "\n",
    "所以一个序列化类serializer就对应一个model 类\n",
    "\n",
    "### 首先创建一个model"
   ]
  },
  {
   "cell_type": "code",
   "execution_count": null,
   "metadata": {},
   "outputs": [],
   "source": [
    "from django.db import models\n",
    "from pygments.lexers import get_all_lexers\n",
    "from pygments.styles import get_all_styles\n",
    "\n",
    "LEXERS = [item for item in get_all_lexers() if item[1]]\n",
    "LANGUAGE_CHOICES = sorted([(item[1][0], item[0]) for item in LEXERS])\n",
    "STYLE_CHOICES = sorted((item, item) for item in get_all_styles())\n",
    "\n",
    "\n",
    "class Snippet(models.Model):\n",
    "    created = models.DateTimeField(auto_now_add=True)\n",
    "    title = models.CharField(max_length=100, blank=True, default='')\n",
    "    code = models.TextField()\n",
    "    linenos = models.BooleanField(default=False)\n",
    "    language = models.CharField(choices=LANGUAGE_CHOICES, default='python', max_length=100)\n",
    "    style = models.CharField(choices=STYLE_CHOICES, default='friendly', max_length=100)\n",
    "\n",
    "    class Meta:\n",
    "        ordering = ('created',)"
   ]
  },
  {
   "cell_type": "markdown",
   "metadata": {},
   "source": [
    "We'll also need to create an initial migration for our snippet model, and sync the database for the first time."
   ]
  },
  {
   "cell_type": "code",
   "execution_count": null,
   "metadata": {},
   "outputs": [],
   "source": [
    "python manage.py makemigrations snippets\n",
    "python manage.py migrate"
   ]
  },
  {
   "cell_type": "markdown",
   "metadata": {},
   "source": [
    "### then创建一个对应的serializer\n",
    "The first thing we need to get started on our Web API is to provide a way of serializing and deserializing the snippet instances into representations such as json. We can do this by declaring serializers that work very similar to Django's forms. Create a file in the snippets directory named serializers.py and add the following."
   ]
  },
  {
   "cell_type": "code",
   "execution_count": null,
   "metadata": {},
   "outputs": [],
   "source": [
    "from rest_framework import serializers\n",
    "from snippets.models import Snippet, LANGUAGE_CHOICES, STYLE_CHOICES\n",
    "\n",
    "\n",
    "class SnippetSerializer(serializers.Serializer):\n",
    "    id = serializers.IntegerField(read_only=True)\n",
    "    title = serializers.CharField(required=False, allow_blank=True, max_length=100)\n",
    "    code = serializers.CharField(style={'base_template': 'textarea.html'})\n",
    "    linenos = serializers.BooleanField(required=False)\n",
    "    language = serializers.ChoiceField(choices=LANGUAGE_CHOICES, default='python')\n",
    "    style = serializers.ChoiceField(choices=STYLE_CHOICES, default='friendly')\n",
    "\n",
    "    def create(self, validated_data):\n",
    "        \"\"\"\n",
    "        Create and return a new `Snippet` instance, given the validated data.\n",
    "        \"\"\"\n",
    "        return Snippet.objects.create(**validated_data)\n",
    "\n",
    "    def update(self, instance, validated_data):\n",
    "        \"\"\"\n",
    "        Update and return an existing `Snippet` instance, given the validated data.\n",
    "        \"\"\"\n",
    "        instance.title = validated_data.get('title', instance.title)\n",
    "        instance.code = validated_data.get('code', instance.code)\n",
    "        instance.linenos = validated_data.get('linenos', instance.linenos)\n",
    "        instance.language = validated_data.get('language', instance.language)\n",
    "        instance.style = validated_data.get('style', instance.style)\n",
    "        instance.save()\n",
    "        return instance"
   ]
  },
  {
   "cell_type": "markdown",
   "metadata": {},
   "source": [
    "A serializer class的第一部分定义了要进行序列化/反序列化的字段。 create（）和update（）方法定义在调用serializer.save（）时如何创建或修改完整实例。\n",
    "\n",
    "A serializer class与Django Form类非常相似，并且在各个字段上包括相似的验证标志，例如required，max_length和default。"
   ]
  },
  {
   "cell_type": "markdown",
   "metadata": {},
   "source": [
    "### Using ModelSerializers\n",
    "可以看到，serializer在定义时和model有很多重复的信息，一个简洁的方式就是使用ModelSerializers\n",
    "\n",
    "It's important to remember that ModelSerializer classes don't do anything particularly magical, they are simply a shortcut for creating serializer classes:\n",
    "\n",
    "An automatically determined set of fields.\n",
    "\n",
    "Simple default implementations for the create() and update() methods."
   ]
  },
  {
   "cell_type": "code",
   "execution_count": null,
   "metadata": {},
   "outputs": [],
   "source": [
    "class SnippetSerializer(serializers.ModelSerializer):\n",
    "    class Meta:\n",
    "        model = Snippet\n",
    "        fields = ('id', 'title', 'code', 'linenos', 'language', 'style')"
   ]
  },
  {
   "cell_type": "markdown",
   "metadata": {},
   "source": [
    "## Tutorial 3: Class-based Views\n",
    "https://www.django-rest-framework.org/tutorial/3-class-based-views/#tutorial-3-class-based-views\n",
    "\n",
    "We can also write our API views using class-based views, rather than function based views. As we'll see this is a powerful pattern that allows us to reuse common functionality, and helps us keep our code DRY(Don't repeat yourself, is a principle of software development aimed at reducing repetition of software patterns,[1] replacing it with abstractions or using data normalization to avoid redundancy. ).\n",
    "\n",
    "### Rewriting our API using class-based views\n"
   ]
  },
  {
   "cell_type": "code",
   "execution_count": null,
   "metadata": {},
   "outputs": [],
   "source": [
    "from snippets.models import Snippet\n",
    "from snippets.serializers import SnippetSerializer\n",
    "from django.http import Http404\n",
    "from rest_framework.views import APIView\n",
    "from rest_framework.response import Response\n",
    "from rest_framework import status\n",
    "\n",
    "\n",
    "class SnippetList(APIView):\n",
    "    \"\"\"\n",
    "    List all snippets, or create a new snippet.\n",
    "    \"\"\"\n",
    "    def get(self, request, format=None):\n",
    "        snippets = Snippet.objects.all()\n",
    "        serializer = SnippetSerializer(snippets, many=True)\n",
    "        return Response(serializer.data)\n",
    "\n",
    "    def post(self, request, format=None):\n",
    "        serializer = SnippetSerializer(data=request.data)\n",
    "        if serializer.is_valid():\n",
    "            serializer.save()\n",
    "            return Response(serializer.data, status=status.HTTP_201_CREATED)\n",
    "        return Response(serializer.errors, status=status.HTTP_400_BAD_REQUEST)"
   ]
  },
  {
   "cell_type": "code",
   "execution_count": null,
   "metadata": {},
   "outputs": [],
   "source": [
    "class SnippetDetail(APIView):\n",
    "    \"\"\"\n",
    "    Retrieve, update or delete a snippet instance.\n",
    "    \"\"\"\n",
    "    def get_object(self, pk):\n",
    "        try:\n",
    "            return Snippet.objects.get(pk=pk)\n",
    "        except Snippet.DoesNotExist:\n",
    "            raise Http404\n",
    "\n",
    "    def get(self, request, pk, format=None):\n",
    "        snippet = self.get_object(pk)\n",
    "        serializer = SnippetSerializer(snippet)\n",
    "        return Response(serializer.data)\n",
    "\n",
    "    def put(self, request, pk, format=None):\n",
    "        snippet = self.get_object(pk)\n",
    "        serializer = SnippetSerializer(snippet, data=request.data)\n",
    "        if serializer.is_valid():\n",
    "            serializer.save()\n",
    "            return Response(serializer.data)\n",
    "        return Response(serializer.errors, status=status.HTTP_400_BAD_REQUEST)\n",
    "\n",
    "    def delete(self, request, pk, format=None):\n",
    "        snippet = self.get_object(pk)\n",
    "        snippet.delete()\n",
    "        return Response(status=status.HTTP_204_NO_CONTENT)"
   ]
  },
  {
   "cell_type": "markdown",
   "metadata": {},
   "source": [
    "We'll also need to refactor our snippets/urls.py slightly now that we're using class-based views."
   ]
  },
  {
   "cell_type": "code",
   "execution_count": null,
   "metadata": {},
   "outputs": [],
   "source": [
    "from django.urls import path\n",
    "from rest_framework.urlpatterns import format_suffix_patterns\n",
    "from snippets import views\n",
    "\n",
    "urlpatterns = [\n",
    "    path('snippets/', views.SnippetList.as_view()),\n",
    "    path('snippets/<int:pk>/', views.SnippetDetail.as_view()),\n",
    "]\n",
    "\n",
    "urlpatterns = format_suffix_patterns(urlpatterns)"
   ]
  },
  {
   "cell_type": "markdown",
   "metadata": {},
   "source": [
    "### Using mixins\n",
    "使用基于类的视图的最大胜利之一是它使我们能够轻松地组合可重用的行为。\n",
    "\n",
    "到目前为止，对于我们创建的任何模型支持的API视图，我们一直在使用的create / retrieve / update / delete操作将非常相似。 这些常见行为在REST框架的mixin类中实现。\n",
    "\n",
    "让我们看一下如何使用mixin类组成视图。 再次是我们的views.py模块。"
   ]
  },
  {
   "cell_type": "code",
   "execution_count": null,
   "metadata": {},
   "outputs": [],
   "source": [
    "from snippets.models import Snippet\n",
    "from snippets.serializers import SnippetSerializer\n",
    "from rest_framework import mixins\n",
    "from rest_framework import generics\n",
    "\n",
    "class SnippetList(mixins.ListModelMixin,\n",
    "                  mixins.CreateModelMixin,\n",
    "                  generics.GenericAPIView):\n",
    "    queryset = Snippet.objects.all()\n",
    "    serializer_class = SnippetSerializer\n",
    "\n",
    "    def get(self, request, *args, **kwargs):\n",
    "        return self.list(request, *args, **kwargs)\n",
    "\n",
    "    def post(self, request, *args, **kwargs):\n",
    "        return self.create(request, *args, **kwargs)"
   ]
  },
  {
   "cell_type": "markdown",
   "metadata": {},
   "source": [
    "我们将花一点时间来检查一下这里到底发生了什么。 我们正在使用GenericAPIView构建视图，并添加ListModelMixin和CreateModelMixin。\n",
    "\n",
    "基类提供核心功能，mixin类提供.list（）和.create（）操作。 然后，我们将get和post方法显式绑定到适当的操作。 到目前为止，足够简单的东西。"
   ]
  },
  {
   "cell_type": "code",
   "execution_count": null,
   "metadata": {},
   "outputs": [],
   "source": [
    "class SnippetDetail(mixins.RetrieveModelMixin,\n",
    "                    mixins.UpdateModelMixin,\n",
    "                    mixins.DestroyModelMixin,\n",
    "                    generics.GenericAPIView):\n",
    "    queryset = Snippet.objects.all()\n",
    "    serializer_class = SnippetSerializer\n",
    "\n",
    "    def get(self, request, *args, **kwargs):\n",
    "        return self.retrieve(request, *args, **kwargs)\n",
    "\n",
    "    def put(self, request, *args, **kwargs):\n",
    "        return self.update(request, *args, **kwargs)\n",
    "\n",
    "    def delete(self, request, *args, **kwargs):\n",
    "        return self.destroy(request, *args, **kwargs)"
   ]
  },
  {
   "cell_type": "markdown",
   "metadata": {},
   "source": [
    "Pretty similar. Again we're using the GenericAPIView class to provide the core functionality, and adding in mixins to provide the .retrieve(), .update() and .destroy() actions."
   ]
  },
  {
   "cell_type": "markdown",
   "metadata": {},
   "source": [
    "### Using generic class-based views\n",
    "使用mixin类，我们重写了视图，以使用比以前更少的代码，但是我们可以更进一步。 REST框架提供了一组已经混入的通用视图，我们可以使用它们来进一步缩小views.py模块。"
   ]
  },
  {
   "cell_type": "code",
   "execution_count": null,
   "metadata": {},
   "outputs": [],
   "source": [
    "from snippets.models import Snippet\n",
    "from snippets.serializers import SnippetSerializer\n",
    "from rest_framework import generics\n",
    "\n",
    "\n",
    "class SnippetList(generics.ListCreateAPIView):\n",
    "    queryset = Snippet.objects.all()\n",
    "    serializer_class = SnippetSerializer\n",
    "\n",
    "\n",
    "class SnippetDetail(generics.RetrieveUpdateDestroyAPIView):\n",
    "    queryset = Snippet.objects.all()\n",
    "    serializer_class = SnippetSerializer"
   ]
  },
  {
   "cell_type": "markdown",
   "metadata": {},
   "source": [
    "哇，太简洁了。我们免费获得了大量的代码，我们的代码看起来就像一个良好、干净、符合惯例的Django。"
   ]
  },
  {
   "cell_type": "markdown",
   "metadata": {},
   "source": [
    "## Tutorial 6: ViewSets & Routers\n",
    "https://www.django-rest-framework.org/tutorial/6-viewsets-and-routers/#tutorial-6-viewsets-routers\n"
   ]
  },
  {
   "cell_type": "markdown",
   "metadata": {},
   "source": [
    "# drf-yasg\n",
    "https://drf-yasg.readthedocs.io/en/1.17.1/readme.html\n",
    "\n",
    "Generate real Swagger/OpenAPI 2.0 specifications from a Django Rest Framework API.\n",
    "\n",
    "Compatible with\n",
    "\n",
    "    Django Rest Framework: 3.8, 3.9, 3.10, 3.11\n",
    "    Django: 1.11, 2.2, 3.0\n",
    "    Python: 2.7, 3.6, 3.7, 3.8\n",
    "\n",
    "\n",
    "\n",
    "\n"
   ]
  },
  {
   "cell_type": "markdown",
   "metadata": {},
   "source": [
    "## The @swagger_auto_schema decorator\n",
    "https://drf-yasg.readthedocs.io/en/1.17.1/custom_spec.html#the-swagger-auto-schema-decorator\n",
    "\n",
    "You can use the `@swagger_auto_schema` decorator on view functions to override some properties of the generated Operation. \n",
    "\n",
    "For example, in a ViewSet,"
   ]
  },
  {
   "cell_type": "code",
   "execution_count": null,
   "metadata": {},
   "outputs": [],
   "source": [
    "from drf_yasg.utils import swagger_auto_schema\n",
    "\n",
    "@swagger_auto_schema(operation_description=\"partial_update description override\", \n",
    "                     responses={404: 'slug not found'})\n",
    "def partial_update(self, request, *args, **kwargs):\n",
    "   \"\"\"partial_update method docstring\"\"\"\n",
    "   ..."
   ]
  },
  {
   "cell_type": "code",
   "execution_count": null,
   "metadata": {},
   "outputs": [],
   "source": []
  },
  {
   "cell_type": "code",
   "execution_count": null,
   "metadata": {},
   "outputs": [],
   "source": []
  },
  {
   "cell_type": "code",
   "execution_count": null,
   "metadata": {},
   "outputs": [],
   "source": []
  },
  {
   "cell_type": "code",
   "execution_count": null,
   "metadata": {},
   "outputs": [],
   "source": []
  },
  {
   "cell_type": "markdown",
   "metadata": {},
   "source": [
    "# Django REST Swagger\n",
    "https://django-rest-swagger.readthedocs.io/en/latest/\n",
    "\n",
    "Swagger/OpenAPI Documentation Generator for Django REST Framework。这个和drf-yasg干的是一件事情。可惜我选择的是这个，zy选择的是drf-yasg。"
   ]
  },
  {
   "cell_type": "markdown",
   "metadata": {},
   "source": [
    "# django-filter\n",
    "https://django-filter.readthedocs.io/en/master/\n",
    "    \n",
    "Django-filter是一个通用的，可重用的应用程序，可减轻编写视图代码中一些平凡的工作的负担。 具体来说，它允许用户根据模型的字段过滤查询集，并显示表单以允许他们执行此操作。\n",
    "## install"
   ]
  },
  {
   "cell_type": "code",
   "execution_count": 1,
   "metadata": {},
   "outputs": [
    {
     "name": "stdout",
     "output_type": "stream",
     "text": [
      "django-filter==2.2.0\r\n",
      "django-rest-swagger==2.2.0\r\n",
      "djangorestframework==3.9.3\r\n"
     ]
    }
   ],
   "source": [
    "# !pip install django-filter\n",
    "!pip freeze | grep django"
   ]
  },
  {
   "cell_type": "code",
   "execution_count": null,
   "metadata": {},
   "outputs": [],
   "source": [
    "# Then add 'django_filters' to your INSTALLED_APPS.\n",
    "INSTALLED_APPS = [\n",
    "    ...\n",
    "    'django_filters',\n",
    "]"
   ]
  },
  {
   "cell_type": "markdown",
   "metadata": {},
   "source": [
    "## Integration with DRF(Django Rest Framework)\n",
    "通过特定于DRF的FilterSet和 filter backend提供了与Django Rest Framework的集成。 这些可以在rest_framework子包中找到。"
   ]
  },
  {
   "cell_type": "code",
   "execution_count": null,
   "metadata": {},
   "outputs": [],
   "source": [
    "# Your view class will also need to add DjangoFilterBackend to the filter_backends.\n",
    "\n",
    "from django_filters import rest_framework as filters\n",
    "\n",
    "class ProductList(generics.ListAPIView):\n",
    "    queryset = Product.objects.all()\n",
    "    serializer_class = ProductSerializer\n",
    "    filter_backends = (filters.DjangoFilterBackend,)\n",
    "    filterset_fields = ('category', 'in_stock')\n"
   ]
  },
  {
   "cell_type": "markdown",
   "metadata": {},
   "source": [
    "If you want to use the django-filter backend by default, add it to the DEFAULT_FILTER_BACKENDS setting."
   ]
  },
  {
   "cell_type": "code",
   "execution_count": null,
   "metadata": {},
   "outputs": [],
   "source": [
    "# settings.py\n",
    "INSTALLED_APPS = [\n",
    "    ...\n",
    "    'rest_framework',\n",
    "    'django_filters',\n",
    "]\n",
    "\n",
    "REST_FRAMEWORK = {\n",
    "    'DEFAULT_FILTER_BACKENDS': (\n",
    "        'django_filters.rest_framework.DjangoFilterBackend',\n",
    "        ...\n",
    "    ),\n",
    "}"
   ]
  },
  {
   "cell_type": "code",
   "execution_count": null,
   "metadata": {},
   "outputs": [],
   "source": []
  },
  {
   "cell_type": "code",
   "execution_count": null,
   "metadata": {},
   "outputs": [],
   "source": []
  },
  {
   "cell_type": "code",
   "execution_count": null,
   "metadata": {},
   "outputs": [],
   "source": []
  },
  {
   "cell_type": "code",
   "execution_count": null,
   "metadata": {},
   "outputs": [],
   "source": []
  },
  {
   "cell_type": "markdown",
   "metadata": {},
   "source": [
    "# nb_export"
   ]
  },
  {
   "cell_type": "code",
   "execution_count": 1,
   "metadata": {},
   "outputs": [
    {
     "name": "stdout",
     "output_type": "stream",
     "text": [
      "Converted 00_core.ipynb.\n",
      "Converted 00_template.ipynb.\n",
      "Converted active_learning.ipynb.\n",
      "Converted algo_dl_keras.ipynb.\n",
      "Converted algo_dl_loss.ipynb.\n",
      "Converted algo_dl_optimizers.ipynb.\n",
      "Converted algo_dl_pytorch.ipynb.\n",
      "Converted algo_ml_tree_catboost.ipynb.\n",
      "Converted algo_ml_tree_lgb.ipynb.\n",
      "Converted algo_rs_match_associated_rules.ipynb.\n",
      "Converted algo_rs_match_deepmatch.ipynb.\n",
      "Converted algo_rs_match_matrix.ipynb.\n",
      "Converted algo_rs_search_vector_faiss.ipynb.\n",
      "Converted algo_seq_embeding.ipynb.\n",
      "Converted algo_seq_embeding_glove.ipynb.\n",
      "Converted algo_seq_features_extraction_text.ipynb.\n",
      "Converted data-processing-eda.ipynb.\n",
      "Converted data-processing-tf_data.ipynb.\n",
      "Converted data_processing_split.ipynb.\n",
      "Converted datastructure_dict_list_set.ipynb.\n",
      "Converted datastructure_generator.ipynb.\n",
      "Converted datastructure_matrix_sparse.ipynb.\n",
      "Converted engineering-colab-kagglelab.ipynb.\n",
      "Converted engineering_concurrency.ipynb.\n",
      "Converted engineering_docker.ipynb.\n",
      "Converted engineering_gc.ipynb.\n",
      "Converted engineering_nbdev.ipynb.\n",
      "Converted engineering_panel.ipynb.\n",
      "Converted engineering_snorkel.ipynb.\n",
      "Converted index.ipynb.\n",
      "Converted math_func_basic.ipynb.\n",
      "Converted operating_system_command.ipynb.\n",
      "Converted plot.ipynb.\n",
      "Converted utils_functools.ipynb.\n",
      "Converted utils_json.ipynb.\n",
      "Converted utils_pickle.ipynb.\n",
      "Converted utils_time.ipynb.\n"
     ]
    }
   ],
   "source": [
    "from nbdev.export import *\n",
    "notebook2script()"
   ]
  },
  {
   "cell_type": "code",
   "execution_count": 7,
   "metadata": {},
   "outputs": [
    {
     "name": "stdout",
     "output_type": "stream",
     "text": [
      "No notebooks were modified\r\n",
      "converting /Users/luoyonggui/PycharmProjects/nbdevlib/index.ipynb to README.md\r\n"
     ]
    }
   ],
   "source": [
    "!nbdev_build_docs"
   ]
  },
  {
   "cell_type": "code",
   "execution_count": null,
   "metadata": {},
   "outputs": [],
   "source": []
  }
 ],
 "metadata": {
  "kernelspec": {
   "display_name": "Python 3",
   "language": "python",
   "name": "python3"
  },
  "language_info": {
   "codemirror_mode": {
    "name": "ipython",
    "version": 3
   },
   "file_extension": ".py",
   "mimetype": "text/x-python",
   "name": "python",
   "nbconvert_exporter": "python",
   "pygments_lexer": "ipython3",
   "version": "3.7.3"
  },
  "toc": {
   "base_numbering": 1,
   "nav_menu": {},
   "number_sections": true,
   "sideBar": true,
   "skip_h1_title": false,
   "title_cell": "Table of Contents",
   "title_sidebar": "Contents",
   "toc_cell": false,
   "toc_position": {
    "height": "calc(100% - 180px)",
    "left": "10px",
    "top": "150px",
    "width": "277.6px"
   },
   "toc_section_display": true,
   "toc_window_display": true
  }
 },
 "nbformat": 4,
 "nbformat_minor": 2
}
