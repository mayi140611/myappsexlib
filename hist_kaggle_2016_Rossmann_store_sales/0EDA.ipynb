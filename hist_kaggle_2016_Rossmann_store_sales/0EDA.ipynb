{
 "cells": [
  {
   "cell_type": "markdown",
   "metadata": {},
   "source": [
    "# 简介\n",
    "https://www.kaggle.com/c/rossmann-store-sales\n",
    "\n",
    "Rossmann在7个欧洲国家/地区拥有3,000多家药店。 目前，Rossmann商店经理的任务是提前六周预测其每日销售额。 商店的销售受到许多因素的影响，包括促销，竞争，学校和州假期，季节性和地区性。 成千上万的个人经理根据他们的独特情况预测销售额，结果的准确性可能会大相径庭。"
   ]
  },
  {
   "cell_type": "markdown",
   "metadata": {},
   "source": [
    "# 使用nn处理结构化数据\n",
    "https://towardsdatascience.com/structured-deep-learning-b8ca4138b848\n",
    "\n",
    "https://blog.csdn.net/zchang81/article/details/78861269\n",
    "\n",
    "## 优势\n",
    "    Fast\n",
    "    No Domain Knowledge Requiring\n",
    "    High Performing\n",
    "    \n",
    "在机器学习/深度学习或任何类型的预测性建模中，任务数据先于算法/方法论。 这就是为什么机器学习在执行某些任务（例如图像分类，NLP和许多其他“异常”数据）之前必须进行大量特征工程的主要原因，这些数据无法直接输入逻辑回归或随机森林模型。 相反，通过深度学习可以很好地完成这些类型的任务，而无需繁琐且耗时的特征工程。 大多数情况下，这些功能需要领域知识，创造力和大量的反复试验。 当然，领域的专业知识和聪明的功能工程仍然非常有价值，但是我将在本文中提到的技术足以让您在Kaggle竞赛中跻身前三名（http://blog.kaggle.com/2016/01 / 22 / rossmann-store-sales-winners-interview-3rd-place-cheng-gui /），对此主题没有任何先验知识。"
   ]
  },
  {
   "cell_type": "code",
   "execution_count": null,
   "metadata": {},
   "outputs": [],
   "source": []
  }
 ],
 "metadata": {
  "kernelspec": {
   "display_name": "Python 3",
   "language": "python",
   "name": "python3"
  },
  "language_info": {
   "codemirror_mode": {
    "name": "ipython",
    "version": 3
   },
   "file_extension": ".py",
   "mimetype": "text/x-python",
   "name": "python",
   "nbconvert_exporter": "python",
   "pygments_lexer": "ipython3",
   "version": "3.7.3"
  },
  "toc": {
   "base_numbering": 1,
   "nav_menu": {},
   "number_sections": true,
   "sideBar": true,
   "skip_h1_title": false,
   "title_cell": "Table of Contents",
   "title_sidebar": "Contents",
   "toc_cell": false,
   "toc_position": {},
   "toc_section_display": true,
   "toc_window_display": false
  }
 },
 "nbformat": 4,
 "nbformat_minor": 2
}
