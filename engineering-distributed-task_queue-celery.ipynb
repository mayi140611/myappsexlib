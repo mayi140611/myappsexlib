{
 "cells": [
  {
   "cell_type": "code",
   "execution_count": 3,
   "metadata": {},
   "outputs": [],
   "source": [
    "# default_exp engineering.distributed.task_queue.celery\n",
    "\n",
    "%reload_ext autoreload\n",
    "%autoreload 2"
   ]
  },
  {
   "cell_type": "code",
   "execution_count": null,
   "metadata": {},
   "outputs": [],
   "source": [
    "engineering-distributed-task_queue-celery"
   ]
  },
  {
   "cell_type": "markdown",
   "metadata": {},
   "source": [
    "# Celery - Distributed Task Queue\n",
    "https://docs.celeryproject.org/en/stable/\n",
    "\n",
    "Celery是一个简单，灵活且可靠的分布式系统，可以处理大量消息，同时为操作提供维护该系统所需的工具。\n",
    "\n",
    "这是一个任务队列，着重于实时处理，同时还支持任务调度。"
   ]
  },
  {
   "cell_type": "markdown",
   "metadata": {},
   "source": [
    "## install"
   ]
  },
  {
   "cell_type": "code",
   "execution_count": 2,
   "metadata": {},
   "outputs": [
    {
     "name": "stdout",
     "output_type": "stream",
     "text": [
      "celery==4.4.5\r\n",
      "celery-progress==0.0.9\r\n"
     ]
    }
   ],
   "source": [
    "# !pip install celery\n",
    "!pip freeze | grep celery"
   ]
  },
  {
   "cell_type": "markdown",
   "metadata": {},
   "source": [
    "# First Steps with Celery\n",
    "https://docs.celeryproject.org/en/stable/getting-started/first-steps-with-celery.html#first-steps\n",
    "\n",
    "In this tutorial you’ll learn the absolute basics of using Celery.\n",
    "\n",
    "Learn about;\n",
    "\n",
    "    Choosing and installing a message transport (broker).\n",
    "\n",
    "    Installing Celery and creating your first task.\n",
    "\n",
    "    Starting the worker and calling tasks.\n",
    "\n",
    "    Keeping track of tasks as they transition through different states, and inspecting return values.\n",
    "## Choosing a Broker\n",
    "\n",
    "Celery requires a solution to send and receive messages; usually this comes in the form of a separate service called a message broker.\n",
    "\n",
    "There are several choices available, including:\n",
    "### RabbitMQ\n",
    "### Redis\n",
    "\n",
    "Redis is also feature-complete, but is more susceptible to data loss in the event of abrupt termination or power failures. Detailed information about using Redis:\n",
    "\n",
    "If you want to run it on Docker execute this:\n",
    "\n",
    "    docker run -d -p 6379:6379 redis\n",
    "\n"
   ]
  },
  {
   "cell_type": "markdown",
   "metadata": {},
   "source": [
    "# Using Celery with Django\n",
    "https://docs.celeryproject.org/en/stable/django/first-steps-with-django.html\n",
    "\n",
    "## Using the @shared_task decorator\n",
    "\n",
    "The tasks you write will probably live in reusable apps, and reusable apps cannot depend on the project itself, so you also cannot import your app instance directly.\n",
    "\n",
    "The @shared_task decorator lets you create tasks without having any concrete app instance:"
   ]
  },
  {
   "cell_type": "code",
   "execution_count": null,
   "metadata": {},
   "outputs": [],
   "source": [
    "# demoapp/tasks.py:\n",
    "# Create your tasks here\n",
    "from __future__ import absolute_import, unicode_literals\n",
    "\n",
    "from celery import shared_task\n",
    "from demoapp.models import Widget\n",
    "\n",
    "\n",
    "@shared_task\n",
    "def add(x, y):\n",
    "    return x + y\n",
    "\n",
    "\n",
    "@shared_task\n",
    "def mul(x, y):\n",
    "    return x * y\n",
    "\n",
    "\n",
    "@shared_task\n",
    "def xsum(numbers):\n",
    "    return sum(numbers)\n",
    "\n",
    "\n",
    "@shared_task\n",
    "def count_widgets():\n",
    "    return Widget.objects.count()\n",
    "\n",
    "\n",
    "@shared_task\n",
    "def rename_widget(widget_id, name):\n",
    "    w = Widget.objects.get(id=widget_id)\n",
    "    w.name = name\n",
    "    w.save()"
   ]
  },
  {
   "cell_type": "markdown",
   "metadata": {},
   "source": [
    "# User Guide"
   ]
  },
  {
   "cell_type": "markdown",
   "metadata": {},
   "source": [
    "## Signals\n",
    "https://docs.celeryproject.org/en/stable/userguide/signals.html\n",
    "\n",
    "Signals allow decoupled applications to receive notifications when certain actions occur elsewhere in the application.\n",
    "\n",
    "Celery ships with many signals that your application can hook into to augment behavior of certain actions."
   ]
  },
  {
   "cell_type": "markdown",
   "metadata": {},
   "source": [
    "# celery-progress\n",
    "https://github.com/czue/celery-progress\n",
    "\n",
    "Celery Progress Bars for Django\n",
    "\n",
    "Drop in, dependency-free progress bars for your Django/Celery applications.\n",
    "\n",
    "Super simple setup. Lots of customization available."
   ]
  },
  {
   "cell_type": "markdown",
   "metadata": {},
   "source": [
    "# nb_export"
   ]
  },
  {
   "cell_type": "code",
   "execution_count": 1,
   "metadata": {},
   "outputs": [
    {
     "name": "stdout",
     "output_type": "stream",
     "text": [
      "Converted 00_core.ipynb.\n",
      "Converted 00_template.ipynb.\n",
      "Converted active_learning.ipynb.\n",
      "Converted algo_dl_keras.ipynb.\n",
      "Converted algo_dl_loss.ipynb.\n",
      "Converted algo_dl_optimizers.ipynb.\n",
      "Converted algo_dl_pytorch.ipynb.\n",
      "Converted algo_ml_tree_catboost.ipynb.\n",
      "Converted algo_ml_tree_lgb.ipynb.\n",
      "Converted algo_rs_match_associated_rules.ipynb.\n",
      "Converted algo_rs_match_deepmatch.ipynb.\n",
      "Converted algo_rs_match_matrix.ipynb.\n",
      "Converted algo_rs_search_vector_faiss.ipynb.\n",
      "Converted algo_seq_embeding.ipynb.\n",
      "Converted algo_seq_embeding_glove.ipynb.\n",
      "Converted algo_seq_features_extraction_text.ipynb.\n",
      "Converted data-processing-eda.ipynb.\n",
      "Converted data-processing-tf_data.ipynb.\n",
      "Converted data_processing_split.ipynb.\n",
      "Converted datastructure_dict_list_set.ipynb.\n",
      "Converted datastructure_generator.ipynb.\n",
      "Converted datastructure_matrix_sparse.ipynb.\n",
      "Converted engineering-colab-kagglelab.ipynb.\n",
      "Converted engineering_concurrency.ipynb.\n",
      "Converted engineering_docker.ipynb.\n",
      "Converted engineering_gc.ipynb.\n",
      "Converted engineering_nbdev.ipynb.\n",
      "Converted engineering_panel.ipynb.\n",
      "Converted engineering_snorkel.ipynb.\n",
      "Converted index.ipynb.\n",
      "Converted math_func_basic.ipynb.\n",
      "Converted operating_system_command.ipynb.\n",
      "Converted plot.ipynb.\n",
      "Converted utils_functools.ipynb.\n",
      "Converted utils_json.ipynb.\n",
      "Converted utils_pickle.ipynb.\n",
      "Converted utils_time.ipynb.\n"
     ]
    }
   ],
   "source": [
    "from nbdev.export import *\n",
    "notebook2script()"
   ]
  },
  {
   "cell_type": "code",
   "execution_count": 7,
   "metadata": {},
   "outputs": [
    {
     "name": "stdout",
     "output_type": "stream",
     "text": [
      "No notebooks were modified\r\n",
      "converting /Users/luoyonggui/PycharmProjects/nbdevlib/index.ipynb to README.md\r\n"
     ]
    }
   ],
   "source": [
    "!nbdev_build_docs"
   ]
  },
  {
   "cell_type": "code",
   "execution_count": null,
   "metadata": {},
   "outputs": [],
   "source": []
  }
 ],
 "metadata": {
  "kernelspec": {
   "display_name": "Python 3",
   "language": "python",
   "name": "python3"
  },
  "language_info": {
   "codemirror_mode": {
    "name": "ipython",
    "version": 3
   },
   "file_extension": ".py",
   "mimetype": "text/x-python",
   "name": "python",
   "nbconvert_exporter": "python",
   "pygments_lexer": "ipython3",
   "version": "3.7.3"
  },
  "toc": {
   "base_numbering": 1,
   "nav_menu": {},
   "number_sections": true,
   "sideBar": true,
   "skip_h1_title": false,
   "title_cell": "Table of Contents",
   "title_sidebar": "Contents",
   "toc_cell": false,
   "toc_position": {},
   "toc_section_display": true,
   "toc_window_display": true
  }
 },
 "nbformat": 4,
 "nbformat_minor": 2
}
