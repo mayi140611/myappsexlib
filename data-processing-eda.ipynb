{
 "cells": [
  {
   "cell_type": "code",
   "execution_count": 3,
   "metadata": {},
   "outputs": [],
   "source": [
    "# default_exp data.processing.eda\n",
    "\n",
    "%reload_ext autoreload\n",
    "%autoreload 2"
   ]
  },
  {
   "cell_type": "markdown",
   "metadata": {},
   "source": [
    "# describe"
   ]
  },
  {
   "cell_type": "code",
   "execution_count": 2,
   "metadata": {},
   "outputs": [],
   "source": [
    "# export\n",
    "def describe(df):\n",
    "    \"\"\"\n",
    "    描述df的\n",
    "        data types\n",
    "        percent missing\n",
    "        unique values\n",
    "        mode 众数\n",
    "        count mode 众数计数\n",
    "        % mode 众数占所有数据的百分比\n",
    "        distribution stats  分布数据 分位数\n",
    "    :param df:\n",
    "    :return:\n",
    "    \"\"\"\n",
    "    import pandas as pd\n",
    "    pd.set_option('display.max_rows', 200)\n",
    "    pd.set_option('display.max_columns', 100)  # 设置显示数据的最大列数，防止出现省略号…，导致数据显示不全\n",
    "    pd.set_option('expand_frame_repr', False)  # 当列太多时不自动换行\n",
    "\n",
    "    # data types\n",
    "    dqr_data_types = pd.DataFrame(df.dtypes, columns=['Data Type'])\n",
    "    # count missing\n",
    "    dqr_count_missing = pd.DataFrame(df.isnull().sum(), columns=['count Missing'])\n",
    "    # percent missing\n",
    "    dqr_percent_missing = pd.DataFrame(100 * (df.isnull().sum() / len(df)).round(3), columns=['% Missing'])\n",
    "\n",
    "    # unique values\n",
    "    dqr_unique_values = pd.DataFrame(columns=['Unique Values'])\n",
    "    for c in df:\n",
    "        dqr_unique_values.loc[c] = df[c].nunique()\n",
    "\n",
    "    # mode 众数\n",
    "    dqr_mode = pd.DataFrame(df.mode().loc[0])\n",
    "    dqr_mode.rename(columns={dqr_mode.columns[0]: \"Mode\"}, inplace=True)\n",
    "\n",
    "    # count mode\n",
    "    dqr_count_mode = pd.DataFrame(columns=['Count Mode'])\n",
    "    for c in df:\n",
    "        dqr_count_mode.loc[c] = df[c][df[c] == dqr_mode.loc[[c]].iloc[0]['Mode']].count()\n",
    "\n",
    "        # % mode\n",
    "    dqr_percent_mode = pd.DataFrame(100 * (dqr_count_mode['Count Mode'].values / len(df)), \\\n",
    "                                    index=dqr_count_mode.index, columns=['% Mode'])\n",
    "\n",
    "    # distribution stats\n",
    "    df['temp_1a2b3c__'] = 1\n",
    "    dqr_stats = pd.DataFrame(df['temp_1a2b3c__'].describe())\n",
    "    del df['temp_1a2b3c__']\n",
    "    for c in df:\n",
    "        dqr_stats = dqr_stats.join(pd.DataFrame(df[c].describe()))\n",
    "    del dqr_stats['temp_1a2b3c__']\n",
    "    dqr_stats = dqr_stats.transpose().drop('count', axis=1)\n",
    "\n",
    "    print(\"num of records: {}, num of columns: {}\".format(len(df), len(df.columns)))\n",
    "\n",
    "    return dqr_data_types.join(dqr_unique_values[['Unique Values']].astype(int)).join(dqr_count_missing). \\\n",
    "        join(dqr_percent_missing).join(dqr_mode).join(dqr_count_mode[['Count Mode']].astype(int)).join(\n",
    "        dqr_percent_mode).join(dqr_stats)"
   ]
  },
  {
   "cell_type": "markdown",
   "metadata": {},
   "source": [
    "# aggregate_features"
   ]
  },
  {
   "cell_type": "code",
   "execution_count": 2,
   "metadata": {},
   "outputs": [],
   "source": [
    "#export\n",
    "def aggregate_features(df_, feat, agg_func_dict, prefix=''):\n",
    "    \"\"\"\n",
    "    \"\"\"\n",
    "    from loguru import logger\n",
    "    df = df_.copy()\n",
    "    logger.info(f'gen 特征 for {\",\".join(feat)}...')\n",
    "    \n",
    "\n",
    "    agg_df = df.groupby(feat).agg(agg_func_dict)\n",
    "#     print(agg_df.columns.values)\n",
    "    agg_df.columns = [prefix + '_'.join(col).strip() for col in agg_df.columns.values]\n",
    "    logger.info(f'gen 特征 for {\",\".join(feat)}...end')\n",
    "    \n",
    "    return agg_df"
   ]
  },
  {
   "cell_type": "code",
   "execution_count": 4,
   "metadata": {},
   "outputs": [],
   "source": [
    "import pandas as pd"
   ]
  },
  {
   "cell_type": "code",
   "execution_count": 5,
   "metadata": {},
   "outputs": [],
   "source": [
    "df = pd.DataFrame({'收据号': [1, 1, 2, 3, 3, 3],\n",
    "                   '项目名称': ['挂号费', '药费', '挂号费', '挂号费', '治疗费', '床位费'],\n",
    "                   '费用': [1, 2, 3, 4, 5, 6],\n",
    "                   'claim': [4, 4, 4, 5, 5, 5]})"
   ]
  },
  {
   "cell_type": "markdown",
   "metadata": {},
   "source": [
    "## 一阶聚合"
   ]
  },
  {
   "cell_type": "code",
   "execution_count": 7,
   "metadata": {},
   "outputs": [
    {
     "name": "stderr",
     "output_type": "stream",
     "text": [
      "2020-06-23 15:52:35.781 | INFO     | __main__:aggregate_features:8 - gen 特征 for 项目名称...\n",
      "2020-06-23 15:52:35.804 | INFO     | __main__:aggregate_features:14 - gen 特征 for 项目名称...end\n"
     ]
    },
    {
     "data": {
      "text/html": [
       "<div>\n",
       "<style scoped>\n",
       "    .dataframe tbody tr th:only-of-type {\n",
       "        vertical-align: middle;\n",
       "    }\n",
       "\n",
       "    .dataframe tbody tr th {\n",
       "        vertical-align: top;\n",
       "    }\n",
       "\n",
       "    .dataframe thead th {\n",
       "        text-align: right;\n",
       "    }\n",
       "</style>\n",
       "<table border=\"1\" class=\"dataframe\">\n",
       "  <thead>\n",
       "    <tr style=\"text-align: right;\">\n",
       "      <th></th>\n",
       "      <th>费用_sum</th>\n",
       "      <th>费用_mean</th>\n",
       "      <th>费用_median</th>\n",
       "      <th>费用_max</th>\n",
       "      <th>费用_min</th>\n",
       "      <th>费用_std</th>\n",
       "      <th>收据号_count</th>\n",
       "      <th>收据号_nunique</th>\n",
       "    </tr>\n",
       "    <tr>\n",
       "      <th>项目名称</th>\n",
       "      <th></th>\n",
       "      <th></th>\n",
       "      <th></th>\n",
       "      <th></th>\n",
       "      <th></th>\n",
       "      <th></th>\n",
       "      <th></th>\n",
       "      <th></th>\n",
       "    </tr>\n",
       "  </thead>\n",
       "  <tbody>\n",
       "    <tr>\n",
       "      <th>床位费</th>\n",
       "      <td>6</td>\n",
       "      <td>6.000000</td>\n",
       "      <td>6</td>\n",
       "      <td>6</td>\n",
       "      <td>6</td>\n",
       "      <td>NaN</td>\n",
       "      <td>1</td>\n",
       "      <td>1</td>\n",
       "    </tr>\n",
       "    <tr>\n",
       "      <th>挂号费</th>\n",
       "      <td>8</td>\n",
       "      <td>2.666667</td>\n",
       "      <td>3</td>\n",
       "      <td>4</td>\n",
       "      <td>1</td>\n",
       "      <td>1.527525</td>\n",
       "      <td>3</td>\n",
       "      <td>3</td>\n",
       "    </tr>\n",
       "    <tr>\n",
       "      <th>治疗费</th>\n",
       "      <td>5</td>\n",
       "      <td>5.000000</td>\n",
       "      <td>5</td>\n",
       "      <td>5</td>\n",
       "      <td>5</td>\n",
       "      <td>NaN</td>\n",
       "      <td>1</td>\n",
       "      <td>1</td>\n",
       "    </tr>\n",
       "    <tr>\n",
       "      <th>药费</th>\n",
       "      <td>2</td>\n",
       "      <td>2.000000</td>\n",
       "      <td>2</td>\n",
       "      <td>2</td>\n",
       "      <td>2</td>\n",
       "      <td>NaN</td>\n",
       "      <td>1</td>\n",
       "      <td>1</td>\n",
       "    </tr>\n",
       "  </tbody>\n",
       "</table>\n",
       "</div>"
      ],
      "text/plain": [
       "      费用_sum   费用_mean  费用_median  费用_max  费用_min    费用_std  收据号_count  \\\n",
       "项目名称                                                                     \n",
       "床位费        6  6.000000          6       6       6       NaN          1   \n",
       "挂号费        8  2.666667          3       4       1  1.527525          3   \n",
       "治疗费        5  5.000000          5       5       5       NaN          1   \n",
       "药费         2  2.000000          2       2       2       NaN          1   \n",
       "\n",
       "      收据号_nunique  \n",
       "项目名称               \n",
       "床位费             1  \n",
       "挂号费             3  \n",
       "治疗费             1  \n",
       "药费              1  "
      ]
     },
     "execution_count": 7,
     "metadata": {},
     "output_type": "execute_result"
    }
   ],
   "source": [
    "agg_func = {\n",
    "    '费用': ['sum','mean','median','max','min','std'],\n",
    "    '收据号': ['count','nunique'],\n",
    "}\n",
    "aggregate_features(df, ['项目名称'], agg_func)"
   ]
  },
  {
   "cell_type": "markdown",
   "metadata": {},
   "source": [
    "## 多阶聚合"
   ]
  },
  {
   "cell_type": "code",
   "execution_count": 9,
   "metadata": {},
   "outputs": [
    {
     "name": "stderr",
     "output_type": "stream",
     "text": [
      "2020-06-23 15:53:43.494 | INFO     | __main__:aggregate_features:8 - gen 特征 for 项目名称,claim...\n",
      "2020-06-23 15:53:43.515 | INFO     | __main__:aggregate_features:14 - gen 特征 for 项目名称,claim...end\n"
     ]
    },
    {
     "data": {
      "text/html": [
       "<div>\n",
       "<style scoped>\n",
       "    .dataframe tbody tr th:only-of-type {\n",
       "        vertical-align: middle;\n",
       "    }\n",
       "\n",
       "    .dataframe tbody tr th {\n",
       "        vertical-align: top;\n",
       "    }\n",
       "\n",
       "    .dataframe thead th {\n",
       "        text-align: right;\n",
       "    }\n",
       "</style>\n",
       "<table border=\"1\" class=\"dataframe\">\n",
       "  <thead>\n",
       "    <tr style=\"text-align: right;\">\n",
       "      <th></th>\n",
       "      <th></th>\n",
       "      <th>claim_费用_sum</th>\n",
       "      <th>claim_费用_mean</th>\n",
       "      <th>claim_费用_median</th>\n",
       "      <th>claim_费用_max</th>\n",
       "      <th>claim_费用_min</th>\n",
       "      <th>claim_费用_std</th>\n",
       "      <th>claim_收据号_count</th>\n",
       "      <th>claim_收据号_nunique</th>\n",
       "    </tr>\n",
       "    <tr>\n",
       "      <th>项目名称</th>\n",
       "      <th>claim</th>\n",
       "      <th></th>\n",
       "      <th></th>\n",
       "      <th></th>\n",
       "      <th></th>\n",
       "      <th></th>\n",
       "      <th></th>\n",
       "      <th></th>\n",
       "      <th></th>\n",
       "    </tr>\n",
       "  </thead>\n",
       "  <tbody>\n",
       "    <tr>\n",
       "      <th>床位费</th>\n",
       "      <th>5</th>\n",
       "      <td>6</td>\n",
       "      <td>6</td>\n",
       "      <td>6</td>\n",
       "      <td>6</td>\n",
       "      <td>6</td>\n",
       "      <td>NaN</td>\n",
       "      <td>1</td>\n",
       "      <td>1</td>\n",
       "    </tr>\n",
       "    <tr>\n",
       "      <th rowspan=\"2\" valign=\"top\">挂号费</th>\n",
       "      <th>4</th>\n",
       "      <td>4</td>\n",
       "      <td>2</td>\n",
       "      <td>2</td>\n",
       "      <td>3</td>\n",
       "      <td>1</td>\n",
       "      <td>1.414214</td>\n",
       "      <td>2</td>\n",
       "      <td>2</td>\n",
       "    </tr>\n",
       "    <tr>\n",
       "      <th>5</th>\n",
       "      <td>4</td>\n",
       "      <td>4</td>\n",
       "      <td>4</td>\n",
       "      <td>4</td>\n",
       "      <td>4</td>\n",
       "      <td>NaN</td>\n",
       "      <td>1</td>\n",
       "      <td>1</td>\n",
       "    </tr>\n",
       "    <tr>\n",
       "      <th>治疗费</th>\n",
       "      <th>5</th>\n",
       "      <td>5</td>\n",
       "      <td>5</td>\n",
       "      <td>5</td>\n",
       "      <td>5</td>\n",
       "      <td>5</td>\n",
       "      <td>NaN</td>\n",
       "      <td>1</td>\n",
       "      <td>1</td>\n",
       "    </tr>\n",
       "    <tr>\n",
       "      <th>药费</th>\n",
       "      <th>4</th>\n",
       "      <td>2</td>\n",
       "      <td>2</td>\n",
       "      <td>2</td>\n",
       "      <td>2</td>\n",
       "      <td>2</td>\n",
       "      <td>NaN</td>\n",
       "      <td>1</td>\n",
       "      <td>1</td>\n",
       "    </tr>\n",
       "  </tbody>\n",
       "</table>\n",
       "</div>"
      ],
      "text/plain": [
       "            claim_费用_sum  claim_费用_mean  claim_费用_median  claim_费用_max  \\\n",
       "项目名称 claim                                                               \n",
       "床位费  5                 6              6                6             6   \n",
       "挂号费  4                 4              2                2             3   \n",
       "     5                 4              4                4             4   \n",
       "治疗费  5                 5              5                5             5   \n",
       "药费   4                 2              2                2             2   \n",
       "\n",
       "            claim_费用_min  claim_费用_std  claim_收据号_count  claim_收据号_nunique  \n",
       "项目名称 claim                                                                  \n",
       "床位费  5                 6           NaN                1                  1  \n",
       "挂号费  4                 1      1.414214                2                  2  \n",
       "     5                 4           NaN                1                  1  \n",
       "治疗费  5                 5           NaN                1                  1  \n",
       "药费   4                 2           NaN                1                  1  "
      ]
     },
     "execution_count": 9,
     "metadata": {},
     "output_type": "execute_result"
    }
   ],
   "source": [
    "agg_func = {\n",
    "    '费用': ['sum','mean','median','max','min','std'],\n",
    "    '收据号': ['count','nunique'],\n",
    "}\n",
    "aggregate_features(df, ['项目名称', 'claim'], agg_func, 'claim_')"
   ]
  },
  {
   "cell_type": "code",
   "execution_count": 14,
   "metadata": {},
   "outputs": [],
   "source": [
    "col2 = 'claim'"
   ]
  },
  {
   "cell_type": "code",
   "execution_count": 15,
   "metadata": {},
   "outputs": [
    {
     "name": "stderr",
     "output_type": "stream",
     "text": [
      "2020-06-23 16:53:30.105 | INFO     | __main__:aggregate_features:8 - gen 特征 for 项目名称,claim...\n",
      "2020-06-23 16:53:30.121 | INFO     | __main__:aggregate_features:14 - gen 特征 for 项目名称,claim...end\n"
     ]
    }
   ],
   "source": [
    "dfg2 = aggregate_features(df, ['项目名称', col2], agg_func)"
   ]
  },
  {
   "cell_type": "code",
   "execution_count": 16,
   "metadata": {},
   "outputs": [],
   "source": [
    "dfg2 = dfg2.unstack()\n",
    "\n",
    "dfg2.columns = [f'{i[0]}_{col2}{i[1]}' for i in dfg2.columns]\n",
    "\n",
    "dfg2 = dfg2.fillna(0)"
   ]
  },
  {
   "cell_type": "code",
   "execution_count": 17,
   "metadata": {},
   "outputs": [
    {
     "data": {
      "text/html": [
       "<div>\n",
       "<style scoped>\n",
       "    .dataframe tbody tr th:only-of-type {\n",
       "        vertical-align: middle;\n",
       "    }\n",
       "\n",
       "    .dataframe tbody tr th {\n",
       "        vertical-align: top;\n",
       "    }\n",
       "\n",
       "    .dataframe thead th {\n",
       "        text-align: right;\n",
       "    }\n",
       "</style>\n",
       "<table border=\"1\" class=\"dataframe\">\n",
       "  <thead>\n",
       "    <tr style=\"text-align: right;\">\n",
       "      <th></th>\n",
       "      <th>费用_sum_claim4</th>\n",
       "      <th>费用_sum_claim5</th>\n",
       "      <th>费用_mean_claim4</th>\n",
       "      <th>费用_mean_claim5</th>\n",
       "      <th>费用_median_claim4</th>\n",
       "      <th>费用_median_claim5</th>\n",
       "      <th>费用_max_claim4</th>\n",
       "      <th>费用_max_claim5</th>\n",
       "      <th>费用_min_claim4</th>\n",
       "      <th>费用_min_claim5</th>\n",
       "      <th>费用_std_claim4</th>\n",
       "      <th>费用_std_claim5</th>\n",
       "      <th>收据号_count_claim4</th>\n",
       "      <th>收据号_count_claim5</th>\n",
       "      <th>收据号_nunique_claim4</th>\n",
       "      <th>收据号_nunique_claim5</th>\n",
       "    </tr>\n",
       "    <tr>\n",
       "      <th>项目名称</th>\n",
       "      <th></th>\n",
       "      <th></th>\n",
       "      <th></th>\n",
       "      <th></th>\n",
       "      <th></th>\n",
       "      <th></th>\n",
       "      <th></th>\n",
       "      <th></th>\n",
       "      <th></th>\n",
       "      <th></th>\n",
       "      <th></th>\n",
       "      <th></th>\n",
       "      <th></th>\n",
       "      <th></th>\n",
       "      <th></th>\n",
       "      <th></th>\n",
       "    </tr>\n",
       "  </thead>\n",
       "  <tbody>\n",
       "    <tr>\n",
       "      <th>床位费</th>\n",
       "      <td>0.0</td>\n",
       "      <td>6.0</td>\n",
       "      <td>0.0</td>\n",
       "      <td>6.0</td>\n",
       "      <td>0.0</td>\n",
       "      <td>6.0</td>\n",
       "      <td>0.0</td>\n",
       "      <td>6.0</td>\n",
       "      <td>0.0</td>\n",
       "      <td>6.0</td>\n",
       "      <td>0.000000</td>\n",
       "      <td>0.0</td>\n",
       "      <td>0.0</td>\n",
       "      <td>1.0</td>\n",
       "      <td>0.0</td>\n",
       "      <td>1.0</td>\n",
       "    </tr>\n",
       "    <tr>\n",
       "      <th>挂号费</th>\n",
       "      <td>4.0</td>\n",
       "      <td>4.0</td>\n",
       "      <td>2.0</td>\n",
       "      <td>4.0</td>\n",
       "      <td>2.0</td>\n",
       "      <td>4.0</td>\n",
       "      <td>3.0</td>\n",
       "      <td>4.0</td>\n",
       "      <td>1.0</td>\n",
       "      <td>4.0</td>\n",
       "      <td>1.414214</td>\n",
       "      <td>0.0</td>\n",
       "      <td>2.0</td>\n",
       "      <td>1.0</td>\n",
       "      <td>2.0</td>\n",
       "      <td>1.0</td>\n",
       "    </tr>\n",
       "  </tbody>\n",
       "</table>\n",
       "</div>"
      ],
      "text/plain": [
       "      费用_sum_claim4  费用_sum_claim5  费用_mean_claim4  费用_mean_claim5  \\\n",
       "项目名称                                                                 \n",
       "床位费             0.0            6.0             0.0             6.0   \n",
       "挂号费             4.0            4.0             2.0             4.0   \n",
       "\n",
       "      费用_median_claim4  费用_median_claim5  费用_max_claim4  费用_max_claim5  \\\n",
       "项目名称                                                                     \n",
       "床位费                0.0               6.0            0.0            6.0   \n",
       "挂号费                2.0               4.0            3.0            4.0   \n",
       "\n",
       "      费用_min_claim4  费用_min_claim5  费用_std_claim4  费用_std_claim5  \\\n",
       "项目名称                                                               \n",
       "床位费             0.0            6.0       0.000000            0.0   \n",
       "挂号费             1.0            4.0       1.414214            0.0   \n",
       "\n",
       "      收据号_count_claim4  收据号_count_claim5  收据号_nunique_claim4  \\\n",
       "项目名称                                                           \n",
       "床位费                0.0               1.0                 0.0   \n",
       "挂号费                2.0               1.0                 2.0   \n",
       "\n",
       "      收据号_nunique_claim5  \n",
       "项目名称                      \n",
       "床位费                  1.0  \n",
       "挂号费                  1.0  "
      ]
     },
     "execution_count": 17,
     "metadata": {},
     "output_type": "execute_result"
    }
   ],
   "source": [
    "dfg2.head(2)"
   ]
  },
  {
   "cell_type": "markdown",
   "metadata": {},
   "source": [
    "# nb_export"
   ]
  },
  {
   "cell_type": "code",
   "execution_count": 4,
   "metadata": {},
   "outputs": [
    {
     "name": "stdout",
     "output_type": "stream",
     "text": [
      "Converted 00_core.ipynb.\n",
      "Converted 00_template.ipynb.\n",
      "Converted active_learning.ipynb.\n",
      "Converted algo_dl_keras.ipynb.\n",
      "Converted algo_ml_eda.ipynb.\n",
      "Converted algo_ml_tree_catboost.ipynb.\n",
      "Converted algo_rs_associated_rules.ipynb.\n",
      "Converted algo_rs_match_deepmatch.ipynb.\n",
      "Converted algo_rs_matrix.ipynb.\n",
      "Converted algo_rs_search_vector_faiss.ipynb.\n",
      "Converted algo_seq_embeding.ipynb.\n",
      "Converted algo_seq_tfidf.ipynb.\n",
      "Converted datastructure_dict_list.ipynb.\n",
      "Converted datastructure_time.ipynb.\n",
      "Converted engineering_concurrency.ipynb.\n",
      "Converted engineering_nbdev.ipynb.\n",
      "Converted engineering_panel.ipynb.\n",
      "Converted engineering_snorkel.ipynb.\n",
      "Converted index.ipynb.\n",
      "Converted utils_functools.ipynb.\n",
      "Converted utils_json.ipynb.\n",
      "Converted utils_pickle.ipynb.\n"
     ]
    }
   ],
   "source": [
    "from nbdev.export import *\n",
    "notebook2script()"
   ]
  },
  {
   "cell_type": "code",
   "execution_count": 7,
   "metadata": {},
   "outputs": [
    {
     "name": "stdout",
     "output_type": "stream",
     "text": [
      "No notebooks were modified\r\n",
      "converting /Users/luoyonggui/PycharmProjects/nbdevlib/index.ipynb to README.md\r\n"
     ]
    }
   ],
   "source": [
    "!nbdev_build_docs"
   ]
  },
  {
   "cell_type": "code",
   "execution_count": null,
   "metadata": {},
   "outputs": [],
   "source": []
  }
 ],
 "metadata": {
  "kernelspec": {
   "display_name": "Python 3",
   "language": "python",
   "name": "python3"
  },
  "language_info": {
   "codemirror_mode": {
    "name": "ipython",
    "version": 3
   },
   "file_extension": ".py",
   "mimetype": "text/x-python",
   "name": "python",
   "nbconvert_exporter": "python",
   "pygments_lexer": "ipython3",
   "version": "3.7.3"
  },
  "toc": {
   "base_numbering": 1,
   "nav_menu": {},
   "number_sections": true,
   "sideBar": true,
   "skip_h1_title": false,
   "title_cell": "Table of Contents",
   "title_sidebar": "Contents",
   "toc_cell": false,
   "toc_position": {
    "height": "calc(100% - 180px)",
    "left": "10px",
    "top": "150px",
    "width": "277.6px"
   },
   "toc_section_display": true,
   "toc_window_display": true
  }
 },
 "nbformat": 4,
 "nbformat_minor": 2
}
