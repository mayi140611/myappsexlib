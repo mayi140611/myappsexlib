{
 "cells": [
  {
   "cell_type": "code",
   "execution_count": 3,
   "metadata": {},
   "outputs": [],
   "source": [
    "# default_exp data.processing.eda\n",
    "\n",
    "%reload_ext autoreload\n",
    "%autoreload 2"
   ]
  },
  {
   "cell_type": "code",
   "execution_count": 2,
   "metadata": {},
   "outputs": [],
   "source": [
    "# export\n",
    "def describe(df):\n",
    "    \"\"\"\n",
    "    描述df的\n",
    "        data types\n",
    "        percent missing\n",
    "        unique values\n",
    "        mode 众数\n",
    "        count mode 众数计数\n",
    "        % mode 众数占所有数据的百分比\n",
    "        distribution stats  分布数据 分位数\n",
    "    :param df:\n",
    "    :return:\n",
    "    \"\"\"\n",
    "    import pandas as pd\n",
    "    pd.set_option('display.max_rows', 200)\n",
    "    pd.set_option('display.max_columns', 100)  # 设置显示数据的最大列数，防止出现省略号…，导致数据显示不全\n",
    "    pd.set_option('expand_frame_repr', False)  # 当列太多时不自动换行\n",
    "\n",
    "    # data types\n",
    "    dqr_data_types = pd.DataFrame(df.dtypes, columns=['Data Type'])\n",
    "    # count missing\n",
    "    dqr_count_missing = pd.DataFrame(df.isnull().sum(), columns=['count Missing'])\n",
    "    # percent missing\n",
    "    dqr_percent_missing = pd.DataFrame(100 * (df.isnull().sum() / len(df)).round(3), columns=['% Missing'])\n",
    "\n",
    "    # unique values\n",
    "    dqr_unique_values = pd.DataFrame(columns=['Unique Values'])\n",
    "    for c in df:\n",
    "        dqr_unique_values.loc[c] = df[c].nunique()\n",
    "\n",
    "    # mode 众数\n",
    "    dqr_mode = pd.DataFrame(df.mode().loc[0])\n",
    "    dqr_mode.rename(columns={dqr_mode.columns[0]: \"Mode\"}, inplace=True)\n",
    "\n",
    "    # count mode\n",
    "    dqr_count_mode = pd.DataFrame(columns=['Count Mode'])\n",
    "    for c in df:\n",
    "        dqr_count_mode.loc[c] = df[c][df[c] == dqr_mode.loc[[c]].iloc[0]['Mode']].count()\n",
    "\n",
    "        # % mode\n",
    "    dqr_percent_mode = pd.DataFrame(100 * (dqr_count_mode['Count Mode'].values / len(df)), \\\n",
    "                                    index=dqr_count_mode.index, columns=['% Mode'])\n",
    "\n",
    "    # distribution stats\n",
    "    df['temp_1a2b3c__'] = 1\n",
    "    dqr_stats = pd.DataFrame(df['temp_1a2b3c__'].describe())\n",
    "    del df['temp_1a2b3c__']\n",
    "    for c in df:\n",
    "        dqr_stats = dqr_stats.join(pd.DataFrame(df[c].describe()))\n",
    "    del dqr_stats['temp_1a2b3c__']\n",
    "    dqr_stats = dqr_stats.transpose().drop('count', axis=1)\n",
    "\n",
    "    print(\"num of records: {}, num of columns: {}\".format(len(df), len(df.columns)))\n",
    "\n",
    "    return dqr_data_types.join(dqr_unique_values[['Unique Values']].astype(int)).join(dqr_count_missing). \\\n",
    "        join(dqr_percent_missing).join(dqr_mode).join(dqr_count_mode[['Count Mode']].astype(int)).join(\n",
    "        dqr_percent_mode).join(dqr_stats)"
   ]
  },
  {
   "cell_type": "code",
   "execution_count": 12,
   "metadata": {},
   "outputs": [],
   "source": [
    "#export\n",
    "def say_hello(to):\n",
    "    \"\"\"\n",
    "    \n",
    "    \"\"\"\n",
    "    return f'Hello {to}!'"
   ]
  },
  {
   "cell_type": "markdown",
   "metadata": {},
   "source": [
    "# nb_export"
   ]
  },
  {
   "cell_type": "code",
   "execution_count": 4,
   "metadata": {},
   "outputs": [
    {
     "name": "stdout",
     "output_type": "stream",
     "text": [
      "Converted 00_core.ipynb.\n",
      "Converted 00_template.ipynb.\n",
      "Converted active_learning.ipynb.\n",
      "Converted algo_dl_keras.ipynb.\n",
      "Converted algo_ml_eda.ipynb.\n",
      "Converted algo_ml_tree_catboost.ipynb.\n",
      "Converted algo_rs_associated_rules.ipynb.\n",
      "Converted algo_rs_match_deepmatch.ipynb.\n",
      "Converted algo_rs_matrix.ipynb.\n",
      "Converted algo_rs_search_vector_faiss.ipynb.\n",
      "Converted algo_seq_embeding.ipynb.\n",
      "Converted algo_seq_tfidf.ipynb.\n",
      "Converted datastructure_dict_list.ipynb.\n",
      "Converted datastructure_time.ipynb.\n",
      "Converted engineering_concurrency.ipynb.\n",
      "Converted engineering_nbdev.ipynb.\n",
      "Converted engineering_panel.ipynb.\n",
      "Converted engineering_snorkel.ipynb.\n",
      "Converted index.ipynb.\n",
      "Converted utils_functools.ipynb.\n",
      "Converted utils_json.ipynb.\n",
      "Converted utils_pickle.ipynb.\n"
     ]
    }
   ],
   "source": [
    "from nbdev.export import *\n",
    "notebook2script()"
   ]
  },
  {
   "cell_type": "code",
   "execution_count": 7,
   "metadata": {},
   "outputs": [
    {
     "name": "stdout",
     "output_type": "stream",
     "text": [
      "No notebooks were modified\r\n",
      "converting /Users/luoyonggui/PycharmProjects/nbdevlib/index.ipynb to README.md\r\n"
     ]
    }
   ],
   "source": [
    "!nbdev_build_docs"
   ]
  },
  {
   "cell_type": "code",
   "execution_count": null,
   "metadata": {},
   "outputs": [],
   "source": []
  }
 ],
 "metadata": {
  "kernelspec": {
   "display_name": "Python 3",
   "language": "python",
   "name": "python3"
  },
  "language_info": {
   "codemirror_mode": {
    "name": "ipython",
    "version": 3
   },
   "file_extension": ".py",
   "mimetype": "text/x-python",
   "name": "python",
   "nbconvert_exporter": "python",
   "pygments_lexer": "ipython3",
   "version": "3.7.3"
  },
  "toc": {
   "base_numbering": 1,
   "nav_menu": {},
   "number_sections": true,
   "sideBar": true,
   "skip_h1_title": false,
   "title_cell": "Table of Contents",
   "title_sidebar": "Contents",
   "toc_cell": false,
   "toc_position": {},
   "toc_section_display": true,
   "toc_window_display": true
  }
 },
 "nbformat": 4,
 "nbformat_minor": 2
}
