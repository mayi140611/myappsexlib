{
 "cells": [
  {
   "cell_type": "code",
   "execution_count": 3,
   "metadata": {},
   "outputs": [],
   "source": [
    "# default_exp math.statsmodels\n",
    "\n",
    "%reload_ext autoreload\n",
    "%autoreload 2"
   ]
  },
  {
   "cell_type": "markdown",
   "metadata": {},
   "source": [
    "# statsmodels\n",
    "https://www.statsmodels.org/stable/index.html\n",
    "python中关于统计的包。\n",
    "\n",
    "statsmodels is a Python module that provides classes and functions for the estimation of many different statistical models, as well as for conducting statistical tests, and statistical data exploration. An extensive list of result statistics are available for each estimator. The results are tested against existing statistical packages to ensure that they are correct. The package is released under the open source Modified BSD (3-clause) license. The online documentation is hosted at statsmodels.org."
   ]
  },
  {
   "cell_type": "code",
   "execution_count": 1,
   "metadata": {},
   "outputs": [
    {
     "name": "stdout",
     "output_type": "stream",
     "text": [
      "statsmodels==0.11.1\r\n"
     ]
    }
   ],
   "source": [
    "!pip freeze | grep statsmodels"
   ]
  },
  {
   "cell_type": "code",
   "execution_count": 9,
   "metadata": {},
   "outputs": [],
   "source": [
    "import numpy as np\n",
    "import pandas as pd"
   ]
  },
  {
   "cell_type": "code",
   "execution_count": 15,
   "metadata": {},
   "outputs": [],
   "source": [
    "x, y = (np.array([[70, 64,  5,  1,  1],\n",
    "        [60, 63,  9,  1,  1],\n",
    "        [70, 65, 11,  1,  1],\n",
    "        [40, 69, 10,  1,  1],\n",
    "        [40, 63, 58,  1,  1],\n",
    "        [70, 48,  9,  1,  1],\n",
    "        [70, 48, 11,  1,  1],\n",
    "        [80, 63,  4,  2,  1],\n",
    "        [60, 63, 14,  2,  1],\n",
    "        [30, 53,  4,  2,  1],\n",
    "        [80, 43, 12,  2,  1],\n",
    "        [40, 55,  2,  2,  1],\n",
    "        [60, 66, 25,  2,  1],\n",
    "        [40, 67, 23,  2,  1],\n",
    "        [20, 61, 19,  3,  1],\n",
    "        [50, 63,  4,  3,  1],\n",
    "        [50, 66, 16,  0,  1],\n",
    "        [40, 68, 12,  0,  1],\n",
    "        [80, 41, 12,  0,  1],\n",
    "        [70, 53,  8,  0,  1],\n",
    "        [60, 37, 13,  1,  1],\n",
    "        [90, 54, 12,  1,  0],\n",
    "        [50, 52,  8,  1,  0],\n",
    "        [70, 50,  7,  1,  0],\n",
    "        [20, 65, 21,  1,  0],\n",
    "        [80, 52, 28,  1,  0],\n",
    "        [60, 70, 13,  1,  0],\n",
    "        [50, 40, 13,  1,  0],\n",
    "        [70, 36, 22,  2,  0],\n",
    "        [40, 44, 36,  2,  0],\n",
    "        [30, 54,  9,  2,  0],\n",
    "        [30, 59, 87,  2,  0],\n",
    "        [40, 69,  5,  3,  0],\n",
    "        [60, 50, 22,  3,  0],\n",
    "        [80, 62,  4,  3,  0],\n",
    "        [70, 68, 15,  0,  0],\n",
    "        [30, 39,  4,  0,  0],\n",
    "        [60, 49, 11,  0,  0],\n",
    "        [80, 64, 10,  0,  0],\n",
    "        [70, 67, 18,  0,  0]]),\n",
    " np.array([1, 0, 0, 0, 0, 0, 0, 0, 0, 0, 0, 0, 1, 0, 0, 0, 0, 0, 1, 1, 0, 1,\n",
    "        1, 1, 0, 1, 0, 0, 0, 0, 0, 0, 0, 0, 0, 0, 0, 0, 1, 1]))"
   ]
  },
  {
   "cell_type": "code",
   "execution_count": 16,
   "metadata": {},
   "outputs": [
    {
     "data": {
      "text/plain": [
       "0.875"
      ]
     },
     "execution_count": 16,
     "metadata": {},
     "output_type": "execute_result"
    }
   ],
   "source": [
    "import statsmodels.api as sm\n",
    "\n",
    "logrB = sm.Logit(y, x)\n",
    "logrB = logrB.fit(disp=0)\n",
    "\n",
    "(pd.Series(logrB.predict(x)).map(round)==pd.Series(y)).mean()"
   ]
  },
  {
   "cell_type": "code",
   "execution_count": null,
   "metadata": {},
   "outputs": [],
   "source": [
    "from nbdev.export import notebook2script\n",
    "notebook2script('.ipynb')"
   ]
  }
 ],
 "metadata": {
  "kernelspec": {
   "display_name": "Python 3",
   "language": "python",
   "name": "python3"
  },
  "language_info": {
   "codemirror_mode": {
    "name": "ipython",
    "version": 3
   },
   "file_extension": ".py",
   "mimetype": "text/x-python",
   "name": "python",
   "nbconvert_exporter": "python",
   "pygments_lexer": "ipython3",
   "version": "3.7.3"
  },
  "toc": {
   "base_numbering": 1,
   "nav_menu": {},
   "number_sections": true,
   "sideBar": true,
   "skip_h1_title": false,
   "title_cell": "Table of Contents",
   "title_sidebar": "Contents",
   "toc_cell": false,
   "toc_position": {},
   "toc_section_display": true,
   "toc_window_display": true
  },
  "varInspector": {
   "cols": {
    "lenName": 16,
    "lenType": 16,
    "lenVar": 40
   },
   "kernels_config": {
    "python": {
     "delete_cmd_postfix": "",
     "delete_cmd_prefix": "del ",
     "library": "var_list.py",
     "varRefreshCmd": "print(var_dic_list())"
    },
    "r": {
     "delete_cmd_postfix": ") ",
     "delete_cmd_prefix": "rm(",
     "library": "var_list.r",
     "varRefreshCmd": "cat(var_dic_list()) "
    }
   },
   "types_to_exclude": [
    "module",
    "function",
    "builtin_function_or_method",
    "instance",
    "_Feature"
   ],
   "window_display": false
  }
 },
 "nbformat": 4,
 "nbformat_minor": 2
}
