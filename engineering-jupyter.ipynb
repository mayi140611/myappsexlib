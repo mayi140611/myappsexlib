{
 "cells": [
  {
   "cell_type": "code",
   "execution_count": 3,
   "metadata": {},
   "outputs": [],
   "source": [
    "# default_exp engineering.jupyter\n",
    "\n",
    "%reload_ext autoreload\n",
    "%autoreload 2"
   ]
  },
  {
   "cell_type": "markdown",
   "metadata": {},
   "source": [
    "# autoreload\n",
    "https://www.jb51.net/article/172897.htm\n",
    "\n",
    "在执行用户代码前，重新装入 软件的扩展和模块。\n",
    "autoreload 意思是自动重新装入。\n",
    "它后面可带参数。参数意思你要查你自己的版本帮助文件。一般说：\n",
    "无参：装入所有模块。\n",
    "\n",
    "    0：不执行 装入命令。\n",
    "    1： 只装入所有 %aimport 要装模块\n",
    "    2：装入所有 %aimport 不包含的模块。"
   ]
  },
  {
   "cell_type": "code",
   "execution_count": 1,
   "metadata": {},
   "outputs": [],
   "source": [
    "%reload_ext autoreload\n",
    "%autoreload 2"
   ]
  },
  {
   "cell_type": "markdown",
   "metadata": {},
   "source": [
    "# 插入pdf链接"
   ]
  },
  {
   "cell_type": "code",
   "execution_count": 1,
   "metadata": {
    "ExecuteTime": {
     "end_time": "2020-06-28T09:24:04.118229Z",
     "start_time": "2020-06-28T09:24:04.080613Z"
    }
   },
   "outputs": [
    {
     "data": {
      "text/html": [
       "\n",
       "        <iframe\n",
       "            width=\"1000\"\n",
       "            height=\"250\"\n",
       "            src=\"https://arxiv.org/pdf/1603.02754\"\n",
       "            frameborder=\"0\"\n",
       "            allowfullscreen\n",
       "        ></iframe>\n",
       "        "
      ],
      "text/plain": [
       "<IPython.lib.display.IFrame at 0x10c8cc240>"
      ]
     },
     "execution_count": 1,
     "metadata": {},
     "output_type": "execute_result"
    }
   ],
   "source": [
    "from IPython.display import IFrame\n",
    "IFrame('https://arxiv.org/pdf/1603.02754', width=1000, height=450)"
   ]
  },
  {
   "cell_type": "markdown",
   "metadata": {},
   "source": [
    "# 常用插件\n",
    "https://www.zhihu.com/question/266988943\n",
    "\n",
    "笔记本扩展（nbextensions）是一种JavaScript模块，可以加载到笔记本前端页面上，可以大大提升用户体验。\n",
    "## 安装案件扩展\n",
    "pip install jupyter_contrib_nbextensions\n",
    "\n",
    "jupyter contrib nbextension install --user\n",
    "## Autopep8\n",
    "Use kernel-specific code to reformat/prettify the contents of code cells\n",
    "\n",
    "一键美化代码，强迫症的福音。"
   ]
  },
  {
   "cell_type": "markdown",
   "metadata": {},
   "source": [
    "## Hinterland\n",
    "为代码单元中的每个按键启用代码自动完成菜单，而不是仅通过tab启用它\n",
    "## Snippets\n",
    "Snippets在工具栏里加了一个下拉菜单，可以非常方便的直接插入代码段，完全不用手动敲。\n",
    "## Variable Inspector\n",
    "Variable Inspector扩展会收集所有已定义的变量并将其显示在浮动窗口中。 该扩展名也是可拖动，可调整大小，可折叠的。\n",
    "## Table of Contents (2)\n",
    "使用toc2扩展程序可以收集所有正在运行的标头，并将它们显示在浮动窗口中，作为侧边栏或带有导航菜单。 该扩展程序也可拖动，可调整大小，可折叠，可停靠，并具有带有唯一链接ID和可选toc单元格的自动编号功能。\n",
    "## Collapsible Headings\n",
    "允许笔记本具有可折叠的部分，并以标题分隔\n",
    "## ExecuteTime\n",
    "Display when each cell has been executed and how long it took"
   ]
  },
  {
   "cell_type": "code",
   "execution_count": null,
   "metadata": {},
   "outputs": [],
   "source": []
  }
 ],
 "metadata": {
  "kernelspec": {
   "display_name": "Python 3",
   "language": "python",
   "name": "python3"
  },
  "language_info": {
   "codemirror_mode": {
    "name": "ipython",
    "version": 3
   },
   "file_extension": ".py",
   "mimetype": "text/x-python",
   "name": "python",
   "nbconvert_exporter": "python",
   "pygments_lexer": "ipython3",
   "version": "3.7.3"
  },
  "toc": {
   "base_numbering": 1,
   "nav_menu": {},
   "number_sections": true,
   "sideBar": true,
   "skip_h1_title": false,
   "title_cell": "Table of Contents",
   "title_sidebar": "Contents",
   "toc_cell": false,
   "toc_position": {
    "height": "calc(100% - 180px)",
    "left": "10px",
    "top": "150px",
    "width": "213.6px"
   },
   "toc_section_display": true,
   "toc_window_display": true
  },
  "varInspector": {
   "cols": {
    "lenName": 16,
    "lenType": 16,
    "lenVar": 40
   },
   "kernels_config": {
    "python": {
     "delete_cmd_postfix": "",
     "delete_cmd_prefix": "del ",
     "library": "var_list.py",
     "varRefreshCmd": "print(var_dic_list())"
    },
    "r": {
     "delete_cmd_postfix": ") ",
     "delete_cmd_prefix": "rm(",
     "library": "var_list.r",
     "varRefreshCmd": "cat(var_dic_list()) "
    }
   },
   "types_to_exclude": [
    "module",
    "function",
    "builtin_function_or_method",
    "instance",
    "_Feature"
   ],
   "window_display": false
  }
 },
 "nbformat": 4,
 "nbformat_minor": 2
}
