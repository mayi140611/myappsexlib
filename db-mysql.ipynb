{
 "cells": [
  {
   "cell_type": "code",
   "execution_count": 3,
   "metadata": {},
   "outputs": [],
   "source": [
    "# default_exp db.mysql\n",
    "\n",
    "%reload_ext autoreload\n",
    "%autoreload 2"
   ]
  },
  {
   "cell_type": "markdown",
   "metadata": {},
   "source": [
    "# pyMySQL\n",
    "https://github.com/PyMySQL/PyMySQL\n",
    "\n",
    "https://pymysql.readthedocs.io/en/latest/"
   ]
  },
  {
   "cell_type": "markdown",
   "metadata": {},
   "source": [
    "## install"
   ]
  },
  {
   "cell_type": "code",
   "execution_count": 3,
   "metadata": {},
   "outputs": [
    {
     "name": "stdout",
     "output_type": "stream",
     "text": [
      "\u001b[33mWARNING: Retrying (Retry(total=4, connect=None, read=None, redirect=None, status=None)) after connection broken by 'ConnectTimeoutError(<pip._vendor.urllib3.connection.VerifiedHTTPSConnection object at 0x10cdcfc88>, 'Connection to pypi.org timed out. (connect timeout=15)')': /simple/pymysql/\u001b[0m\n",
      "^C\n",
      "\u001b[31mERROR: Operation cancelled by user\u001b[0m\n"
     ]
    }
   ],
   "source": [
    "# !pip install pymysql -U"
   ]
  },
  {
   "cell_type": "code",
   "execution_count": 1,
   "metadata": {},
   "outputs": [
    {
     "name": "stdout",
     "output_type": "stream",
     "text": [
      "PyMySQL==0.9.3\r\n"
     ]
    }
   ],
   "source": [
    "!pip freeze | grep PyMySQL"
   ]
  },
  {
   "cell_type": "markdown",
   "metadata": {},
   "source": [
    "## 原生 PyMySQL"
   ]
  },
  {
   "cell_type": "code",
   "execution_count": 1,
   "metadata": {},
   "outputs": [],
   "source": [
    "import pymysql"
   ]
  },
  {
   "cell_type": "code",
   "execution_count": 15,
   "metadata": {},
   "outputs": [],
   "source": [
    "conn = pymysql.connect(user='root', passwd='123456', db='dics', host='127.0.0.1', use_unicode=True, charset='utf8')"
   ]
  },
  {
   "cell_type": "code",
   "execution_count": 11,
   "metadata": {},
   "outputs": [],
   "source": [
    "\n",
    "conn = pymysql.connect(user='admin', passwd='nTs3mW9&qPzA', db='hcp_cs_prod', host='hcp-test-mysql.internal.leapstack.cn', use_unicode=True, charset='utf8')\n"
   ]
  },
  {
   "cell_type": "code",
   "execution_count": 12,
   "metadata": {},
   "outputs": [],
   "source": [
    "cursor = conn.cursor()"
   ]
  },
  {
   "cell_type": "code",
   "execution_count": 13,
   "metadata": {},
   "outputs": [
    {
     "data": {
      "text/plain": [
       "86"
      ]
     },
     "execution_count": 13,
     "metadata": {},
     "output_type": "execute_result"
    }
   ],
   "source": [
    "sqltemplate = \"\"\"\n",
    "        show tables\n",
    "        \"\"\"\n",
    "cursor.execute(sqltemplate)"
   ]
  },
  {
   "cell_type": "code",
   "execution_count": 7,
   "metadata": {
    "collapsed": true
   },
   "outputs": [
    {
     "data": {
      "text/plain": [
       "(('ICD10_data',),\n",
       " ('api_hospital_transform',),\n",
       " ('backup_duty_data',),\n",
       " ('backup_insurance_type_data',),\n",
       " ('backup_insurance_type_to_duty_data',),\n",
       " ('backup_product_data',),\n",
       " ('backup_product_to_insurance_type_data',),\n",
       " ('backup_product_value_data',),\n",
       " ('backup_tmp_product_info',),\n",
       " ('bank_code',),\n",
       " ('bank_meta',),\n",
       " ('claim_apply_batch',),\n",
       " ('claim_apply_record',),\n",
       " ('claim_data',),\n",
       " ('claim_data_feedback',),\n",
       " ('claim_data_history',),\n",
       " ('claim_hcp_result',),\n",
       " ('claim_history',),\n",
       " ('claim_id_msg',),\n",
       " ('claim_insurance_entity',),\n",
       " ('claim_mark',),\n",
       " ('claim_meta',),\n",
       " ('claim_remark',),\n",
       " ('claim_risk_request',),\n",
       " ('claim_special_duty',),\n",
       " ('claim_status',),\n",
       " ('claim_status_logger',),\n",
       " ('claim_tentative_calculation',),\n",
       " ('claim_tentative_calculation_detail',),\n",
       " ('claim_third_suspend',),\n",
       " ('claim_trace',),\n",
       " ('custom_report',),\n",
       " ('dict_coverter_data',),\n",
       " ('dictionary_data',),\n",
       " ('duty_data',),\n",
       " ('duty_info',),\n",
       " ('effective_time_rule',),\n",
       " ('effective_worktime_config',),\n",
       " ('event_data',),\n",
       " ('event_msg',),\n",
       " ('event_prediction',),\n",
       " ('event_pretreatment',),\n",
       " ('event_pretreatment_request',),\n",
       " ('export_logger',),\n",
       " ('external_dictionary_data',),\n",
       " ('finish_message',),\n",
       " ('group_data',),\n",
       " ('group_duty_data',),\n",
       " ('group_policy_data',),\n",
       " ('hibernate_sequence',),\n",
       " ('ill_coverter_table',),\n",
       " ('import_data',),\n",
       " ('insurance_plan_data',),\n",
       " ('invoice_data',),\n",
       " ('item_data',),\n",
       " ('off_day',),\n",
       " ('package_info',),\n",
       " ('person_info',),\n",
       " ('person_info_aes',),\n",
       " ('person_info_test1',),\n",
       " ('policy_additional_info',),\n",
       " ('policy_data',),\n",
       " ('policy_deduction_logger',),\n",
       " ('policy_info',),\n",
       " ('policy_info_back',),\n",
       " ('policy_insurance_data',),\n",
       " ('policy_insurance_info',),\n",
       " ('policy_product_info',),\n",
       " ('product_company_code_config',),\n",
       " ('product_data',),\n",
       " ('product_duty_config',),\n",
       " ('rb_bank_info',),\n",
       " ('res_dictionary',),\n",
       " ('rule_engine_data',),\n",
       " ('schema_version',),\n",
       " ('shuidi_claim_status',),\n",
       " ('shuidi_info',),\n",
       " ('simpile_claim_report',),\n",
       " ('sms_mgr',),\n",
       " ('tab_col_encrypt',),\n",
       " ('temp_id',),\n",
       " ('third_claim_duty_data',),\n",
       " ('wechart_report_claim',),\n",
       " ('weizhi_ill',),\n",
       " ('widget_data',))"
      ]
     },
     "execution_count": 7,
     "metadata": {},
     "output_type": "execute_result"
    }
   ],
   "source": [
    "cursor.fetchall()"
   ]
  },
  {
   "cell_type": "code",
   "execution_count": 14,
   "metadata": {},
   "outputs": [
    {
     "data": {
      "text/plain": [
       "((1,\n",
       "  '07af91f57ac71ca1884c479919703ebb',\n",
       "  2,\n",
       "  4,\n",
       "  'f9f533e1e8e7d27d9a2e6bebc8cb6ff0',\n",
       "  None,\n",
       "  None,\n",
       "  None,\n",
       "  '',\n",
       "  'd41d8cd98f00b204e9800998ecf8427e',\n",
       "  None,\n",
       "  '1fe372b4dd21164c586ca1b1e171b41f',\n",
       "  'd41d8cd98f00b204e9800998ecf8427e',\n",
       "  '',\n",
       "  '',\n",
       "  3393,\n",
       "  3277,\n",
       "  1402,\n",
       "  1447,\n",
       "  '2aab1d17f47b4689173115c8fa97d538',\n",
       "  3376,\n",
       "  3378,\n",
       "  1,\n",
       "  -1,\n",
       "  -1,\n",
       "  datetime.datetime(2018, 7, 20, 21, 41, 41, 442000),\n",
       "  datetime.datetime(2018, 7, 20, 21, 41, 41, 442000),\n",
       "  None,\n",
       "  None,\n",
       "  None),)"
      ]
     },
     "execution_count": 14,
     "metadata": {},
     "output_type": "execute_result"
    }
   ],
   "source": [
    "sqltemplate = \"\"\"\n",
    "        SELECT * from person_info_aes1 limit 1;\n",
    "        \"\"\"\n",
    "\n",
    "cursor.execute(sqltemplate)\n",
    "\n",
    "cursor.fetchmany(5)"
   ]
  },
  {
   "cell_type": "code",
   "execution_count": 24,
   "metadata": {},
   "outputs": [
    {
     "name": "stdout",
     "output_type": "stream",
     "text": [
      "\n",
      "            INSERT INTO disease_dic SET code = \"code3\", name = \"name3\"\n",
      "            \n",
      "\n",
      "            INSERT INTO disease_dic SET code = \"code4\", name = \"name4\"\n",
      "            \n",
      "\n",
      "            INSERT INTO disease_dic SET code = \"code5\", name = \"name5\"\n",
      "            \n",
      "\n",
      "            INSERT INTO disease_dic SET code = \"code6\", name = \"name6\"\n",
      "            \n",
      "\n",
      "            INSERT INTO disease_dic SET code = \"code7\", name = \"name7\"\n",
      "            \n",
      "\n",
      "            INSERT INTO disease_dic SET code = \"code8\", name = \"name8\"\n",
      "            \n",
      "\n",
      "            INSERT INTO disease_dic SET code = \"code9\", name = \"name9\"\n",
      "            \n"
     ]
    }
   ],
   "source": [
    "for i in range(3, 10):\n",
    "    sqltemplate = \"\"\"\n",
    "            INSERT INTO disease_dic SET code = \"{}\", name = \"{}\"\n",
    "            \"\"\"\n",
    "    print(sqltemplate.format(f'code{i}', f'name{i}'))\n",
    "    cursor.execute(sqltemplate.format(f'code{i}', f'name{i}'))"
   ]
  },
  {
   "cell_type": "markdown",
   "metadata": {},
   "source": [
    "### 注意：执行以下查询操作，会查询到刚刚插入的数据，但是实际的物理数据库中的数据并没有变化"
   ]
  },
  {
   "cell_type": "code",
   "execution_count": 25,
   "metadata": {},
   "outputs": [
    {
     "data": {
      "text/plain": [
       "(('code1', 'name1'),\n",
       " ('code2', 'name2'),\n",
       " ('code3', 'name3'),\n",
       " ('code4', 'name4'),\n",
       " ('code5', 'name5'),\n",
       " ('code6', 'name6'),\n",
       " ('code7', 'name7'),\n",
       " ('code8', 'name8'),\n",
       " ('code9', 'name9'))"
      ]
     },
     "execution_count": 25,
     "metadata": {},
     "output_type": "execute_result"
    }
   ],
   "source": [
    "sqltemplate = \"\"\"\n",
    "        SELECT * from disease_dic\n",
    "        \"\"\"\n",
    "\n",
    "cursor.execute(sqltemplate)\n",
    "\n",
    "cursor.fetchall()"
   ]
  },
  {
   "cell_type": "markdown",
   "metadata": {},
   "source": [
    "### conn.commit()\n",
    "Commit changes to stable storage.\n",
    "\n",
    "注意：当发生数据库插入操作时，execute后数据表的数据只会在内存中记录，而不会提交到物理硬盘中，所以物理硬盘的数据是不会发生改变的。只有执行commit操作，数据库中的数据才会变化\n",
    "\n",
    "### best practice:\n",
    "可以在数据连续发生多次的insert, update, delete操作完成后，执行一次commit，把改变提交到物理数据库中，避免数据发生丢失！"
   ]
  },
  {
   "cell_type": "code",
   "execution_count": 26,
   "metadata": {},
   "outputs": [],
   "source": [
    "conn.commit()"
   ]
  },
  {
   "cell_type": "markdown",
   "metadata": {},
   "source": [
    "## PyMysqlWrapper"
   ]
  },
  {
   "cell_type": "code",
   "execution_count": 4,
   "metadata": {},
   "outputs": [],
   "source": [
    "# export\n",
    "import pymysql\n",
    "\n",
    "\n",
    "class PyMysqlWrapper:\n",
    "    \"\"\"\n",
    "    常用是sql场景：\n",
    "    查询不重复的记录：\n",
    "        select distinct name from user;\n",
    "        select id,name from user group by name;\n",
    "    \"\"\"\n",
    "    def __init__(self, user='root', passwd='123456', db='test', host='127.0.0.1', use_unicode=True, charset='utf8'):\n",
    "        \"\"\"\n",
    "        创建连接、创建游标\n",
    "        :param user:\n",
    "        :param passwd:\n",
    "        :param db:\n",
    "        :param host:\n",
    "        :param use_unicode:\n",
    "        :param charset:\n",
    "        :return:\n",
    "        \"\"\"\n",
    "        self._conn = pymysql.connect(user=user, passwd=passwd, db=db, host=host, use_unicode=use_unicode, charset=charset)\n",
    "        self._cursor = self._conn.cursor()\n",
    "\n",
    "    def getCursor(self):\n",
    "        return self._cursor\n",
    "\n",
    "    def execute(self, sql, args=None):\n",
    "        \"\"\"\n",
    "        Execute a query 并且提交,返回查询结果条数\n",
    "        :return:\n",
    "        \"\"\"\n",
    "        n = self._cursor.execute(sql, args)\n",
    "        return n\n",
    "\n",
    "    def excuteMany(self, sql, args):\n",
    "        \"\"\"\n",
    "\n",
    "        \"\"\"\n",
    "        n = self._cursor.executemany(sql, args)\n",
    "        return n\n",
    "\n",
    "    def commit(self):\n",
    "        \"\"\"\n",
    "        \"\"\"\n",
    "        self._conn.commit()\n",
    "\n",
    "    def queryAndFetchAll(self, sql, return_df=True, cols=None):\n",
    "        \"\"\"\n",
    "        针对查询的便利方法\n",
    "        :param sql:\n",
    "        :param return_df:  是否返回df格式\n",
    "        :param cols:  如果以df格式返回时的col_name\n",
    "        :return: 查询结果\n",
    "            (('code1', 'name1'),\n",
    "            ('code2', 'name2'),\n",
    "            ……)\n",
    "        \"\"\"\n",
    "        self._cursor.execute(sql)\n",
    "        r = self._cursor.fetchall()\n",
    "        if return_df:\n",
    "            import pandas as pd\n",
    "            return pd.DataFrame(list(r), columns=cols)\n",
    "        return r\n",
    "\n",
    "    def close(self):\n",
    "        self._cursor.close()\n",
    "        self._conn.close()"
   ]
  },
  {
   "cell_type": "markdown",
   "metadata": {},
   "source": [
    "# test"
   ]
  },
  {
   "cell_type": "code",
   "execution_count": 9,
   "metadata": {},
   "outputs": [],
   "source": [
    "mysql = PyMysqlWrapper(user='ro_user', passwd='boishYo9Voo',\n",
    "                db='claim_registration_center', host='hcp-prod-mysql-ro.internal.leapstack.cn')"
   ]
  },
  {
   "cell_type": "markdown",
   "metadata": {},
   "source": [
    "### 查询\n",
    "主要封装了关于查询的便利方法"
   ]
  },
  {
   "cell_type": "code",
   "execution_count": 10,
   "metadata": {},
   "outputs": [],
   "source": [
    "sqltemplate = \"\"\"\n",
    "        show databases\n",
    "        \"\"\""
   ]
  },
  {
   "cell_type": "code",
   "execution_count": 11,
   "metadata": {
    "scrolled": true
   },
   "outputs": [
    {
     "data": {
      "text/html": [
       "<div>\n",
       "<style scoped>\n",
       "    .dataframe tbody tr th:only-of-type {\n",
       "        vertical-align: middle;\n",
       "    }\n",
       "\n",
       "    .dataframe tbody tr th {\n",
       "        vertical-align: top;\n",
       "    }\n",
       "\n",
       "    .dataframe thead th {\n",
       "        text-align: right;\n",
       "    }\n",
       "</style>\n",
       "<table border=\"1\" class=\"dataframe\">\n",
       "  <thead>\n",
       "    <tr style=\"text-align: right;\">\n",
       "      <th></th>\n",
       "      <th>db_name</th>\n",
       "    </tr>\n",
       "  </thead>\n",
       "  <tbody>\n",
       "    <tr>\n",
       "      <th>0</th>\n",
       "      <td>information_schema</td>\n",
       "    </tr>\n",
       "    <tr>\n",
       "      <th>1</th>\n",
       "      <td>battleaxe_prod</td>\n",
       "    </tr>\n",
       "    <tr>\n",
       "      <th>2</th>\n",
       "      <td>bc_be_bxy_prod</td>\n",
       "    </tr>\n",
       "    <tr>\n",
       "      <th>3</th>\n",
       "      <td>bc_be_ddh_prod</td>\n",
       "    </tr>\n",
       "    <tr>\n",
       "      <th>4</th>\n",
       "      <td>bc_be_hic_prod</td>\n",
       "    </tr>\n",
       "    <tr>\n",
       "      <th>5</th>\n",
       "      <td>bc_be_prod</td>\n",
       "    </tr>\n",
       "    <tr>\n",
       "      <th>6</th>\n",
       "      <td>bc_be_prod_new</td>\n",
       "    </tr>\n",
       "    <tr>\n",
       "      <th>7</th>\n",
       "      <td>bc_be_prod_nn</td>\n",
       "    </tr>\n",
       "    <tr>\n",
       "      <th>8</th>\n",
       "      <td>cheetah_prod</td>\n",
       "    </tr>\n",
       "    <tr>\n",
       "      <th>9</th>\n",
       "      <td>claim_registration_center</td>\n",
       "    </tr>\n",
       "    <tr>\n",
       "      <th>10</th>\n",
       "      <td>ddh_wx_be_prod</td>\n",
       "    </tr>\n",
       "    <tr>\n",
       "      <th>11</th>\n",
       "      <td>dragonstone_prod</td>\n",
       "    </tr>\n",
       "    <tr>\n",
       "      <th>12</th>\n",
       "      <td>gci_channel_prod</td>\n",
       "    </tr>\n",
       "    <tr>\n",
       "      <th>13</th>\n",
       "      <td>hcp_am_prod</td>\n",
       "    </tr>\n",
       "    <tr>\n",
       "      <th>14</th>\n",
       "      <td>hcp_analytics_prod</td>\n",
       "    </tr>\n",
       "    <tr>\n",
       "      <th>15</th>\n",
       "      <td>hcp_base_um_prod</td>\n",
       "    </tr>\n",
       "    <tr>\n",
       "      <th>16</th>\n",
       "      <td>hcp_basicservice_prod</td>\n",
       "    </tr>\n",
       "    <tr>\n",
       "      <th>17</th>\n",
       "      <td>hcp_be_prod</td>\n",
       "    </tr>\n",
       "    <tr>\n",
       "      <th>18</th>\n",
       "      <td>hcp_bpmn_prod</td>\n",
       "    </tr>\n",
       "    <tr>\n",
       "      <th>19</th>\n",
       "      <td>hcp_cs_prod</td>\n",
       "    </tr>\n",
       "    <tr>\n",
       "      <th>20</th>\n",
       "      <td>hcp_timetask_prod</td>\n",
       "    </tr>\n",
       "    <tr>\n",
       "      <th>21</th>\n",
       "      <td>hcp_um_prod</td>\n",
       "    </tr>\n",
       "    <tr>\n",
       "      <th>22</th>\n",
       "      <td>hcp_wx_prod</td>\n",
       "    </tr>\n",
       "    <tr>\n",
       "      <th>23</th>\n",
       "      <td>hic_am_bxy_prod</td>\n",
       "    </tr>\n",
       "    <tr>\n",
       "      <th>24</th>\n",
       "      <td>hic_am_ddh_prod</td>\n",
       "    </tr>\n",
       "    <tr>\n",
       "      <th>25</th>\n",
       "      <td>hic_am_prod</td>\n",
       "    </tr>\n",
       "    <tr>\n",
       "      <th>26</th>\n",
       "      <td>hic_be_prod</td>\n",
       "    </tr>\n",
       "    <tr>\n",
       "      <th>27</th>\n",
       "      <td>hic_cs_bxy_prod</td>\n",
       "    </tr>\n",
       "    <tr>\n",
       "      <th>28</th>\n",
       "      <td>hic_cs_ddh_prod</td>\n",
       "    </tr>\n",
       "    <tr>\n",
       "      <th>29</th>\n",
       "      <td>hic_cs_prod</td>\n",
       "    </tr>\n",
       "    <tr>\n",
       "      <th>30</th>\n",
       "      <td>hic_um_bxy_prod</td>\n",
       "    </tr>\n",
       "    <tr>\n",
       "      <th>31</th>\n",
       "      <td>hic_um_ddh_prod</td>\n",
       "    </tr>\n",
       "    <tr>\n",
       "      <th>32</th>\n",
       "      <td>hic_um_prod</td>\n",
       "    </tr>\n",
       "    <tr>\n",
       "      <th>33</th>\n",
       "      <td>hic_wx_prod</td>\n",
       "    </tr>\n",
       "    <tr>\n",
       "      <th>34</th>\n",
       "      <td>hn_channel_prod</td>\n",
       "    </tr>\n",
       "    <tr>\n",
       "      <th>35</th>\n",
       "      <td>hqlife_channel_prod</td>\n",
       "    </tr>\n",
       "    <tr>\n",
       "      <th>36</th>\n",
       "      <td>innodb</td>\n",
       "    </tr>\n",
       "    <tr>\n",
       "      <th>37</th>\n",
       "      <td>inputcenter_prod</td>\n",
       "    </tr>\n",
       "    <tr>\n",
       "      <th>38</th>\n",
       "      <td>inshealth_channel_prod</td>\n",
       "    </tr>\n",
       "    <tr>\n",
       "      <th>39</th>\n",
       "      <td>kg_be_prod</td>\n",
       "    </tr>\n",
       "    <tr>\n",
       "      <th>40</th>\n",
       "      <td>kl_channel_prod</td>\n",
       "    </tr>\n",
       "    <tr>\n",
       "      <th>41</th>\n",
       "      <td>kl_wx_prod</td>\n",
       "    </tr>\n",
       "    <tr>\n",
       "      <th>42</th>\n",
       "      <td>leapdog_prod</td>\n",
       "    </tr>\n",
       "    <tr>\n",
       "      <th>43</th>\n",
       "      <td>msg_center_prod</td>\n",
       "    </tr>\n",
       "    <tr>\n",
       "      <th>44</th>\n",
       "      <td>mysql</td>\n",
       "    </tr>\n",
       "    <tr>\n",
       "      <th>45</th>\n",
       "      <td>performance_schema</td>\n",
       "    </tr>\n",
       "    <tr>\n",
       "      <th>46</th>\n",
       "      <td>rc_cheetah_prod</td>\n",
       "    </tr>\n",
       "    <tr>\n",
       "      <th>47</th>\n",
       "      <td>rc_risk_prod</td>\n",
       "    </tr>\n",
       "    <tr>\n",
       "      <th>48</th>\n",
       "      <td>renbaojian_channel_prod</td>\n",
       "    </tr>\n",
       "    <tr>\n",
       "      <th>49</th>\n",
       "      <td>risk_yb_prod</td>\n",
       "    </tr>\n",
       "    <tr>\n",
       "      <th>50</th>\n",
       "      <td>sg_channel_prod</td>\n",
       "    </tr>\n",
       "    <tr>\n",
       "      <th>51</th>\n",
       "      <td>sunlife_channel_prod</td>\n",
       "    </tr>\n",
       "    <tr>\n",
       "      <th>52</th>\n",
       "      <td>sys</td>\n",
       "    </tr>\n",
       "    <tr>\n",
       "      <th>53</th>\n",
       "      <td>tf_channel_prod</td>\n",
       "    </tr>\n",
       "    <tr>\n",
       "      <th>54</th>\n",
       "      <td>tmp</td>\n",
       "    </tr>\n",
       "    <tr>\n",
       "      <th>55</th>\n",
       "      <td>winterfell_prod</td>\n",
       "    </tr>\n",
       "    <tr>\n",
       "      <th>56</th>\n",
       "      <td>yian_channel_prod</td>\n",
       "    </tr>\n",
       "    <tr>\n",
       "      <th>57</th>\n",
       "      <td>zip_report_prod</td>\n",
       "    </tr>\n",
       "    <tr>\n",
       "      <th>58</th>\n",
       "      <td>zsc_channel_prod</td>\n",
       "    </tr>\n",
       "  </tbody>\n",
       "</table>\n",
       "</div>"
      ],
      "text/plain": [
       "                      db_name\n",
       "0          information_schema\n",
       "1              battleaxe_prod\n",
       "2              bc_be_bxy_prod\n",
       "3              bc_be_ddh_prod\n",
       "4              bc_be_hic_prod\n",
       "5                  bc_be_prod\n",
       "6              bc_be_prod_new\n",
       "7               bc_be_prod_nn\n",
       "8                cheetah_prod\n",
       "9   claim_registration_center\n",
       "10             ddh_wx_be_prod\n",
       "11           dragonstone_prod\n",
       "12           gci_channel_prod\n",
       "13                hcp_am_prod\n",
       "14         hcp_analytics_prod\n",
       "15           hcp_base_um_prod\n",
       "16      hcp_basicservice_prod\n",
       "17                hcp_be_prod\n",
       "18              hcp_bpmn_prod\n",
       "19                hcp_cs_prod\n",
       "20          hcp_timetask_prod\n",
       "21                hcp_um_prod\n",
       "22                hcp_wx_prod\n",
       "23            hic_am_bxy_prod\n",
       "24            hic_am_ddh_prod\n",
       "25                hic_am_prod\n",
       "26                hic_be_prod\n",
       "27            hic_cs_bxy_prod\n",
       "28            hic_cs_ddh_prod\n",
       "29                hic_cs_prod\n",
       "30            hic_um_bxy_prod\n",
       "31            hic_um_ddh_prod\n",
       "32                hic_um_prod\n",
       "33                hic_wx_prod\n",
       "34            hn_channel_prod\n",
       "35        hqlife_channel_prod\n",
       "36                     innodb\n",
       "37           inputcenter_prod\n",
       "38     inshealth_channel_prod\n",
       "39                 kg_be_prod\n",
       "40            kl_channel_prod\n",
       "41                 kl_wx_prod\n",
       "42               leapdog_prod\n",
       "43            msg_center_prod\n",
       "44                      mysql\n",
       "45         performance_schema\n",
       "46            rc_cheetah_prod\n",
       "47               rc_risk_prod\n",
       "48    renbaojian_channel_prod\n",
       "49               risk_yb_prod\n",
       "50            sg_channel_prod\n",
       "51       sunlife_channel_prod\n",
       "52                        sys\n",
       "53            tf_channel_prod\n",
       "54                        tmp\n",
       "55            winterfell_prod\n",
       "56          yian_channel_prod\n",
       "57            zip_report_prod\n",
       "58           zsc_channel_prod"
      ]
     },
     "execution_count": 11,
     "metadata": {},
     "output_type": "execute_result"
    }
   ],
   "source": [
    "mysql.queryAndFetchAll(sqltemplate, cols=['db_name'])"
   ]
  },
  {
   "cell_type": "code",
   "execution_count": 31,
   "metadata": {},
   "outputs": [],
   "source": [
    "sqltemplate = \"\"\"\n",
    "        SELECT insured_person_id_no, claim_id from claim_apply_record\n",
    "        \"\"\"\n",
    "\n",
    "dfr1 = mysql.queryAndFetchAll(sqltemplate, cols=['insured_person_id_no', 'claim_id'])"
   ]
  },
  {
   "cell_type": "code",
   "execution_count": 32,
   "metadata": {},
   "outputs": [],
   "source": [
    "dfr1 = dfr1.dropna(how='any')"
   ]
  },
  {
   "cell_type": "code",
   "execution_count": 33,
   "metadata": {},
   "outputs": [
    {
     "data": {
      "text/plain": [
       "(50526, 2)"
      ]
     },
     "execution_count": 33,
     "metadata": {},
     "output_type": "execute_result"
    }
   ],
   "source": [
    "dfr1.shape"
   ]
  },
  {
   "cell_type": "code",
   "execution_count": 39,
   "metadata": {},
   "outputs": [
    {
     "data": {
      "text/plain": [
       "50526"
      ]
     },
     "execution_count": 39,
     "metadata": {},
     "output_type": "execute_result"
    }
   ],
   "source": [
    "dfr1.claim_id.nunique()"
   ]
  },
  {
   "cell_type": "code",
   "execution_count": 44,
   "metadata": {},
   "outputs": [],
   "source": [
    "invoice_data_dict = {\n",
    "    'invoice_data_id': 'invoice_data_id',\n",
    "    'claim_id': 'claim_id',\n",
    "    'bill_sno': '收据号',\n",
    "    'bill_type': '收据类型',\n",
    "    'bill_amt': '收据总金额',\n",
    "    'bill_date': '发票日期',\n",
    "    'cash_pay_amt': '现金支付金额',\n",
    "    'account_pay_amt': '医保账户支付金额',\n",
    "    'overall_pay_amt': '统筹支付金额',\n",
    "    'attach_pay_amt': '附加支付金额',\n",
    "    'self_pay_amt': '自费金额金额',\n",
    "    'classification_pay_amt': '分类自负金额',\n",
    "    'third_pay_amt': '第三方支付金额',\n",
    "    'care_date': '就诊日期',\n",
    "    'accident_subtype': '出险类型',\n",
    "    'hospital_name': '就诊医院',\n",
    "    'ill_code': '疾病主要诊断',\n",
    "    'sub_ill_code': '疾病次要诊断',\n",
    "    'in_date': '入院日期',\n",
    "    'out_date': '出院日期',\n",
    "    'in_days': '住院天数',\n",
    "    'hospital_grade': '医院等级',\n",
    "    'ill_code_zh': '疾病名称中文',\n",
    "    'hospital_level': '医院等级',\n",
    "    'hospital_code': '医院代码',\n",
    "}"
   ]
  },
  {
   "cell_type": "code",
   "execution_count": 50,
   "metadata": {},
   "outputs": [],
   "source": [
    "sqltemplate = f\"SELECT {','.join(invoice_data_dict.keys())} from invoice_data\"\n",
    "\n",
    "dfr2 = mysql2.queryAndFetchAll(sqltemplate, cols=invoice_data_dict.keys())"
   ]
  },
  {
   "cell_type": "code",
   "execution_count": 46,
   "metadata": {},
   "outputs": [
    {
     "data": {
      "text/plain": [
       "(239540, 25)"
      ]
     },
     "execution_count": 46,
     "metadata": {},
     "output_type": "execute_result"
    }
   ],
   "source": [
    "dfr2.shape"
   ]
  },
  {
   "cell_type": "code",
   "execution_count": 42,
   "metadata": {},
   "outputs": [],
   "source": [
    "import pandas as pd"
   ]
  },
  {
   "cell_type": "code",
   "execution_count": 51,
   "metadata": {},
   "outputs": [],
   "source": [
    "dfr = pd.merge(dfr1, dfr2)"
   ]
  },
  {
   "cell_type": "code",
   "execution_count": 52,
   "metadata": {},
   "outputs": [
    {
     "data": {
      "text/plain": [
       "(142431, 26)"
      ]
     },
     "execution_count": 52,
     "metadata": {},
     "output_type": "execute_result"
    }
   ],
   "source": [
    "dfr.shape"
   ]
  },
  {
   "cell_type": "code",
   "execution_count": 54,
   "metadata": {},
   "outputs": [],
   "source": [
    "item_data_dict = {\n",
    "    'item_data_id': 'item_data_id',\n",
    "    'item_name': '账单名称',\n",
    "    'medical_pay_amt': '医保给付金额',\n",
    "    'self_pay_amt': '自费金额',\n",
    "    'third_pay_amt': '分类自负',\n",
    "    'item_sub_name': '费用名称',\n",
    "    'item_pay': '发生金额',\n",
    "    'self_pay_rate': '自付比例',\n",
    "    'classification_pay_amt': '分类自负金额',\n",
    "    'item_unit_pay': '单价',\n",
    "    'item_cnt': '数量',\n",
    "    'invoice_data_id': 'invoice_data_id',\n",
    "    'medical_pay_type': 'medical_pay_type',\n",
    "}"
   ]
  },
  {
   "cell_type": "code",
   "execution_count": null,
   "metadata": {},
   "outputs": [],
   "source": [
    "# 商保字段和cy表字段的对应关系\n",
    "{\n",
    "    'medical_pay_type': 'applyPayLevel',   # 需处理，'甲类'->'甲'\n",
    "    'item_name': 'chargeType', \n",
    "    'item_unit_pay': 'price', \n",
    "    'item_cnt': 'quantity', \n",
    "    '': 'money',  #  item_unit_pay * item_cnt\n",
    "    'self_pay_amt': 'selfAmount', \n",
    "    '': '', \n",
    "    '': '', \n",
    "    'hospital_grade': 'hospLevel', \n",
    "    'hospital_code': 'hospNo', \n",
    "    'in_days': 'hospDays', \n",
    "    'item_sub_name': 'hospProjectName', \n",
    "    'ill_code_zh': 'outHospDiagnosisName', \n",
    "    'ill_code': 'outHospDiagnosisCode', \n",
    "    'in_date': 'inHospDate', \n",
    "    'bill_amt': 'billSum', \n",
    "    'self_pay_amt': 'billSelf', \n",
    "    'overall_pay_amt': 'rs_overallPay', \n",
    "    'account_pay_amt': 'accountPay', \n",
    "    '': '', \n",
    "    '': '', \n",
    "    '': '', \n",
    "}"
   ]
  },
  {
   "cell_type": "code",
   "execution_count": null,
   "metadata": {},
   "outputs": [],
   "source": [
    "sqltemplate = f\"SELECT {','.join(item_data_dict.keys())} from item_data\"\n",
    "\n",
    "dfr2 = mysql2.queryAndFetchAll(sqltemplate, cols=item_data_dict.keys())"
   ]
  },
  {
   "cell_type": "markdown",
   "metadata": {},
   "source": [
    "### 关于除查询外的其它操作\n",
    "就是对原生pymysql的简单封装"
   ]
  },
  {
   "cell_type": "code",
   "execution_count": null,
   "metadata": {},
   "outputs": [],
   "source": []
  }
 ],
 "metadata": {
  "kernelspec": {
   "display_name": "Python 3",
   "language": "python",
   "name": "python3"
  },
  "language_info": {
   "codemirror_mode": {
    "name": "ipython",
    "version": 3
   },
   "file_extension": ".py",
   "mimetype": "text/x-python",
   "name": "python",
   "nbconvert_exporter": "python",
   "pygments_lexer": "ipython3",
   "version": "3.7.3"
  },
  "toc": {
   "base_numbering": 1,
   "nav_menu": {},
   "number_sections": true,
   "sideBar": true,
   "skip_h1_title": false,
   "title_cell": "Table of Contents",
   "title_sidebar": "Contents",
   "toc_cell": false,
   "toc_position": {},
   "toc_section_display": true,
   "toc_window_display": true
  },
  "varInspector": {
   "cols": {
    "lenName": 16,
    "lenType": 16,
    "lenVar": 40
   },
   "kernels_config": {
    "python": {
     "delete_cmd_postfix": "",
     "delete_cmd_prefix": "del ",
     "library": "var_list.py",
     "varRefreshCmd": "print(var_dic_list())"
    },
    "r": {
     "delete_cmd_postfix": ") ",
     "delete_cmd_prefix": "rm(",
     "library": "var_list.r",
     "varRefreshCmd": "cat(var_dic_list()) "
    }
   },
   "types_to_exclude": [
    "module",
    "function",
    "builtin_function_or_method",
    "instance",
    "_Feature"
   ],
   "window_display": false
  }
 },
 "nbformat": 4,
 "nbformat_minor": 2
}
