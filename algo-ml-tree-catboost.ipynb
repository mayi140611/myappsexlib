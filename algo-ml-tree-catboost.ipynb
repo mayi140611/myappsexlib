{
 "cells": [
  {
   "cell_type": "code",
   "execution_count": 1,
   "metadata": {},
   "outputs": [],
   "source": [
    "# default_exp algo.ml.tree.catboost"
   ]
  },
  {
   "cell_type": "markdown",
   "metadata": {},
   "source": [
    "# Catboost\n",
    "\n",
    "CatBoost is an algorithm for gradient boosting on decision trees.\n",
    "\n",
    "* 官网https://catboost.ai/\n",
    "* https://github.com/catboost/catboost 是一个C++库  \n",
    "* https://github.com/catboost/tutorials  \n",
    "* 论文地址https://arxiv.org/pdf/1706.09516.pdf"
   ]
  },
  {
   "cell_type": "markdown",
   "metadata": {},
   "source": [
    "## install"
   ]
  },
  {
   "cell_type": "code",
   "execution_count": 3,
   "metadata": {},
   "outputs": [
    {
     "name": "stdout",
     "output_type": "stream",
     "text": [
      "catboost==0.23\r\n"
     ]
    }
   ],
   "source": [
    "# !pip install catboost -U\n",
    "!pip freeze | grep catboost"
   ]
  },
  {
   "cell_type": "markdown",
   "metadata": {},
   "source": [
    "# encap"
   ]
  },
  {
   "cell_type": "code",
   "execution_count": 11,
   "metadata": {},
   "outputs": [],
   "source": [
    "#export\n",
    "from sklearn.metrics import classification_report\n",
    "\n",
    "from catboost import Pool, CatBoostClassifier\n",
    "\n",
    "import pandas as pd\n",
    "import matplotlib.pyplot as plt\n"
   ]
  },
  {
   "cell_type": "code",
   "execution_count": null,
   "metadata": {},
   "outputs": [],
   "source": [
    "def trainset_input_fn(df):\n",
    "    return X_train, X_val, y_train, y_val\n",
    "\n",
    "def predict_input_fn(df):\n",
    "    return X_testa"
   ]
  },
  {
   "cell_type": "code",
   "execution_count": null,
   "metadata": {},
   "outputs": [],
   "source": [
    "#export\n",
    "def val(model, df_val, y_val, cat_cols, threshold=0.5):\n",
    "    test_data = Pool(data=df_val,\n",
    "                  cat_features=cat_cols)\n",
    "    dfr = pd.DataFrame(y_val)\n",
    "    dfr.columns = ['true_label']\n",
    "    y_test_hat = model.predict_proba(test_data)[:, 1]\n",
    "    dfr['score'] = y_test_hat\n",
    "    dfr['predict_label'] = 0\n",
    "    dfr.loc[dfr.score>=threshold, 'predict_label'] = 1\n",
    "    print(classification_report(y_val, dfr['predict_label']))\n",
    "    print(dfr['predict_label'].value_counts())\n",
    "    dfr = dfr.sort_values('score', ascending=False)\n",
    "    dfr['order'] = range(1, dfr.shape[0] + 1)\n",
    "    print(dfr[(dfr.true_label == 1)|(dfr.predict_label==1)])\n",
    "    return dfr"
   ]
  },
  {
   "cell_type": "code",
   "execution_count": null,
   "metadata": {},
   "outputs": [],
   "source": [
    "#export\n",
    "def train_val(X_train, y_train, cat_cols=[], params=None, valset=None, plot=False, threshold=0.5):\n",
    "    \"\"\"\n",
    "    :threshold: 预测的阈值\n",
    "    \"\"\"\n",
    "\n",
    "    train_data = Pool(data=X_train,\n",
    "                   label=y_train,\n",
    "                   cat_features=cat_cols)\n",
    "    if valset:\n",
    "        X_val, y_val = valset\n",
    "        val_data = Pool(data=X_val, label=y_val, cat_features=cat_cols)\n",
    "    else: val_data = None\n",
    "    if params is None:\n",
    "        params = {\n",
    "        'iterations': 500,\n",
    "        'learning_rate': 0.05,\n",
    "        'random_seed': 144,\n",
    "        'custom_metric': 'F1',\n",
    "        'loss_function': 'Logloss',\n",
    "#         'class_weights': [1, 8],\n",
    "        }\n",
    "    print(params)\n",
    "    model = CatBoostClassifier(**params)\n",
    "    r = model.fit(train_data, eval_set=val_data, verbose=False, plot=plot)\n",
    "    df_features_importance = pd.DataFrame({'name': model.feature_names_,\n",
    "                                        'value': model.feature_importances_})\n",
    "    df_features_importance = df_features_importance.sort_values('value', ascending=False)\n",
    "\n",
    "    df_features_importance.reset_index(drop=True, inplace=True)\n",
    "    \n",
    "    if plot:\n",
    "        \n",
    "        fea_ = df_features_importance.sort_values('value')[df_features_importance.value > 0].value\n",
    "        fea_name = df_features_importance.sort_values('value')[df_features_importance.value > 0].name\n",
    "        plt.figure(figsize=(10, 20))\n",
    "        plt.barh(fea_name, fea_, height=0.5)\n",
    "        plt.show()\n",
    "    else: print(df_features_importance.head(20))\n",
    "    if valset:    \n",
    "        dfr = val(model, X_val, y_val, cat_cols, threshold)\n",
    "    else: dfr=None\n",
    "    return model, df_features_importance, r.best_iteration_\n"
   ]
  },
  {
   "cell_type": "code",
   "execution_count": 12,
   "metadata": {},
   "outputs": [],
   "source": [
    "#export\n",
    "def predict(model,X_test,cat_cols, threshold=0.5):\n",
    "    test_data=Pool(data=X_test,cat_features=cat_cols)\n",
    "    dfr=pd.DataFrame(index=X_test.index)\n",
    "    y_test_hat=model.predict_proba(test_data)[:,1]\n",
    "    dfr['score']=y_test_hat\n",
    "    dfr['predict_label'] = 0\n",
    "    dfr.loc[dfr.score>=threshold, 'predict_label']=1\n",
    "#     dfr.sort_values(\"score\", ascending=False, inplace=True)\n",
    "    print('--------------------------------------------------')\n",
    "    s=dfr['predict_label'].value_counts()\n",
    "    print(s)\n",
    "    return dfr"
   ]
  },
  {
   "cell_type": "code",
   "execution_count": 2,
   "metadata": {},
   "outputs": [],
   "source": [
    "# export\n",
    "def explain(model,df_predict,cat_cols,dfr):\n",
    "    test_data=Pool(data=df_predict,cat_features=cat_cols)\n",
    "    shap_values=model.get_feature_importance(test_data,type='ShapValues')\n",
    "    dfs=pd.DataFrame(shap_values[:,:-1],columns=df_predict.columns,index=df_predict['CHANGE_ID'])\n",
    "    dfs_T=dfs.T\n",
    "    ss=[]\n",
    "    for i in range(dfs_T.shape[1]):\n",
    "        ss.append(dfs_T.iloc[:,i].copy().sort_values(ascending=False).iloc[:5])\n",
    "    count=0\n",
    "    rr=[]\n",
    "    for line in dfr[dfr.predict_label==1].itertuples():\n",
    "        rr.append({\"change_id\":line.CHANGE_ID,\"FS_SC_NM\":\"个险模型\",\"FS_SC_SCORE\":round(line.score,2),\"FS_SC_EXPLAIN\":','.join([f'{i[0]}:{round(i[1], 2)}' for i in list(zip(ss[count].index,ss[count].values))])})\n",
    "    count+=1\n",
    "    print(rr)\n",
    "    return rr"
   ]
  },
  {
   "cell_type": "markdown",
   "metadata": {},
   "source": [
    "### Model Saving\n",
    "It is always really handy to be able to dump your model to disk (especially if training took some time)."
   ]
  },
  {
   "cell_type": "code",
   "execution_count": 40,
   "metadata": {},
   "outputs": [],
   "source": [
    "model = CatBoostClassifier(iterations=10, random_seed=42, logging_level='Silent').fit(train_pool)\n",
    "model.save_model('catboost_model.dump')\n",
    "model = CatBoostClassifier()\n",
    "model.load_model('catboost_model.dump');"
   ]
  },
  {
   "cell_type": "markdown",
   "metadata": {},
   "source": [
    "# nb_export"
   ]
  },
  {
   "cell_type": "code",
   "execution_count": 14,
   "metadata": {},
   "outputs": [
    {
     "name": "stdout",
     "output_type": "stream",
     "text": [
      "Converted algo_ml_tree_catboost.ipynb.\n"
     ]
    }
   ],
   "source": [
    "from nbdev.export import *\n",
    "notebook2script('algo_ml_tree_catboost.ipynb')"
   ]
  },
  {
   "cell_type": "code",
   "execution_count": null,
   "metadata": {},
   "outputs": [],
   "source": []
  }
 ],
 "metadata": {
  "kernelspec": {
   "display_name": "Python 3",
   "language": "python",
   "name": "python3"
  },
  "language_info": {
   "codemirror_mode": {
    "name": "ipython",
    "version": 3
   },
   "file_extension": ".py",
   "mimetype": "text/x-python",
   "name": "python",
   "nbconvert_exporter": "python",
   "pygments_lexer": "ipython3",
   "version": "3.7.3"
  },
  "toc": {
   "base_numbering": 1,
   "nav_menu": {},
   "number_sections": true,
   "sideBar": true,
   "skip_h1_title": false,
   "title_cell": "Table of Contents",
   "title_sidebar": "Contents",
   "toc_cell": false,
   "toc_position": {},
   "toc_section_display": true,
   "toc_window_display": true
  },
  "varInspector": {
   "cols": {
    "lenName": 16,
    "lenType": 16,
    "lenVar": 40
   },
   "kernels_config": {
    "python": {
     "delete_cmd_postfix": "",
     "delete_cmd_prefix": "del ",
     "library": "var_list.py",
     "varRefreshCmd": "print(var_dic_list())"
    },
    "r": {
     "delete_cmd_postfix": ") ",
     "delete_cmd_prefix": "rm(",
     "library": "var_list.r",
     "varRefreshCmd": "cat(var_dic_list()) "
    }
   },
   "types_to_exclude": [
    "module",
    "function",
    "builtin_function_or_method",
    "instance",
    "_Feature"
   ],
   "window_display": false
  }
 },
 "nbformat": 4,
 "nbformat_minor": 2
}
