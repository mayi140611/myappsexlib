{
 "cells": [
  {
   "cell_type": "code",
   "execution_count": 3,
   "metadata": {},
   "outputs": [],
   "source": [
    "# default_exp utils.glob\n",
    "\n",
    "%reload_ext autoreload\n",
    "%autoreload 2"
   ]
  },
  {
   "cell_type": "markdown",
   "metadata": {},
   "source": [
    "# glob\n",
    "glob是python自己带的一个文件操作相关模块，用它可以查找符合自己目的的文件\n",
    "\n",
    "glob 文件名模式匹配，不用遍历整个目录判断每个文件是不是符合。"
   ]
  },
  {
   "cell_type": "code",
   "execution_count": 1,
   "metadata": {},
   "outputs": [],
   "source": [
    "import glob"
   ]
  },
  {
   "cell_type": "code",
   "execution_count": 10,
   "metadata": {},
   "outputs": [
    {
     "data": {
      "text/plain": [
       "[]"
      ]
     },
     "execution_count": 10,
     "metadata": {},
     "output_type": "execute_result"
    }
   ],
   "source": [
    "# 看来不能穿越目录\n",
    "glob.glob('../data/contest/20kdxf_pet/train/*.png')"
   ]
  },
  {
   "cell_type": "code",
   "execution_count": 8,
   "metadata": {},
   "outputs": [
    {
     "data": {
      "text/plain": [
       "['../data/contest/20kdxf_pet/train/AD/980.png',\n",
       " '../data/contest/20kdxf_pet/train/AD/994.png',\n",
       " '../data/contest/20kdxf_pet/train/AD/943.png',\n",
       " '../data/contest/20kdxf_pet/train/AD/957.png',\n",
       " '../data/contest/20kdxf_pet/train/AD/956.png',\n",
       " '../data/contest/20kdxf_pet/train/AD/942.png',\n",
       " '../data/contest/20kdxf_pet/train/AD/995.png',\n",
       " '../data/contest/20kdxf_pet/train/AD/981.png',\n",
       " '../data/contest/20kdxf_pet/train/AD/997.png',\n",
       " '../data/contest/20kdxf_pet/train/AD/983.png',\n",
       " '../data/contest/20kdxf_pet/train/AD/954.png',\n",
       " '../data/contest/20kdxf_pet/train/AD/940.png',\n",
       " '../data/contest/20kdxf_pet/train/AD/968.png',\n",
       " '../data/contest/20kdxf_pet/train/AD/969.png',\n",
       " '../data/contest/20kdxf_pet/train/AD/941.png',\n",
       " '../data/contest/20kdxf_pet/train/AD/955.png',\n",
       " '../data/contest/20kdxf_pet/train/AD/982.png',\n",
       " '../data/contest/20kdxf_pet/train/AD/996.png',\n",
       " '../data/contest/20kdxf_pet/train/AD/992.png',\n",
       " '../data/contest/20kdxf_pet/train/AD/986.png',\n",
       " '../data/contest/20kdxf_pet/train/AD/979.png',\n",
       " '../data/contest/20kdxf_pet/train/AD/951.png',\n",
       " '../data/contest/20kdxf_pet/train/AD/945.png',\n",
       " '../data/contest/20kdxf_pet/train/AD/944.png',\n",
       " '../data/contest/20kdxf_pet/train/AD/950.png',\n",
       " '../data/contest/20kdxf_pet/train/AD/978.png',\n",
       " '../data/contest/20kdxf_pet/train/AD/987.png',\n",
       " '../data/contest/20kdxf_pet/train/AD/993.png',\n",
       " '../data/contest/20kdxf_pet/train/AD/99.png',\n",
       " '../data/contest/20kdxf_pet/train/AD/985.png',\n",
       " '../data/contest/20kdxf_pet/train/AD/991.png',\n",
       " '../data/contest/20kdxf_pet/train/AD/946.png',\n",
       " '../data/contest/20kdxf_pet/train/AD/952.png',\n",
       " '../data/contest/20kdxf_pet/train/AD/953.png',\n",
       " '../data/contest/20kdxf_pet/train/AD/947.png',\n",
       " '../data/contest/20kdxf_pet/train/AD/990.png',\n",
       " '../data/contest/20kdxf_pet/train/AD/984.png',\n",
       " '../data/contest/20kdxf_pet/train/AD/9.png',\n",
       " '../data/contest/20kdxf_pet/train/AD/98.png',\n",
       " '../data/contest/20kdxf_pet/train/AD/920.png',\n",
       " '../data/contest/20kdxf_pet/train/AD/934.png',\n",
       " '../data/contest/20kdxf_pet/train/AD/908.png',\n",
       " '../data/contest/20kdxf_pet/train/AD/909.png',\n",
       " '../data/contest/20kdxf_pet/train/AD/935.png',\n",
       " '../data/contest/20kdxf_pet/train/AD/921.png',\n",
       " '../data/contest/20kdxf_pet/train/AD/937.png',\n",
       " '../data/contest/20kdxf_pet/train/AD/923.png',\n",
       " '../data/contest/20kdxf_pet/train/AD/922.png',\n",
       " '../data/contest/20kdxf_pet/train/AD/936.png',\n",
       " '../data/contest/20kdxf_pet/train/AD/932.png',\n",
       " '../data/contest/20kdxf_pet/train/AD/926.png',\n",
       " '../data/contest/20kdxf_pet/train/AD/927.png',\n",
       " '../data/contest/20kdxf_pet/train/AD/933.png',\n",
       " '../data/contest/20kdxf_pet/train/AD/919.png',\n",
       " '../data/contest/20kdxf_pet/train/AD/925.png',\n",
       " '../data/contest/20kdxf_pet/train/AD/931.png',\n",
       " '../data/contest/20kdxf_pet/train/AD/930.png',\n",
       " '../data/contest/20kdxf_pet/train/AD/924.png',\n",
       " '../data/contest/20kdxf_pet/train/AD/918.png',\n",
       " '../data/contest/20kdxf_pet/train/AD/901.png',\n",
       " '../data/contest/20kdxf_pet/train/AD/915.png',\n",
       " '../data/contest/20kdxf_pet/train/AD/929.png',\n",
       " '../data/contest/20kdxf_pet/train/AD/928.png',\n",
       " '../data/contest/20kdxf_pet/train/AD/914.png',\n",
       " '../data/contest/20kdxf_pet/train/AD/900.png',\n",
       " '../data/contest/20kdxf_pet/train/AD/916.png',\n",
       " '../data/contest/20kdxf_pet/train/AD/902.png',\n",
       " '../data/contest/20kdxf_pet/train/AD/903.png',\n",
       " '../data/contest/20kdxf_pet/train/AD/917.png',\n",
       " '../data/contest/20kdxf_pet/train/AD/913.png',\n",
       " '../data/contest/20kdxf_pet/train/AD/907.png',\n",
       " '../data/contest/20kdxf_pet/train/AD/906.png',\n",
       " '../data/contest/20kdxf_pet/train/AD/912.png',\n",
       " '../data/contest/20kdxf_pet/train/AD/938.png',\n",
       " '../data/contest/20kdxf_pet/train/AD/904.png',\n",
       " '../data/contest/20kdxf_pet/train/AD/910.png',\n",
       " '../data/contest/20kdxf_pet/train/AD/911.png',\n",
       " '../data/contest/20kdxf_pet/train/AD/905.png',\n",
       " '../data/contest/20kdxf_pet/train/AD/939.png',\n",
       " '../data/contest/20kdxf_pet/train/AD/95.png',\n",
       " '../data/contest/20kdxf_pet/train/AD/989.png',\n",
       " '../data/contest/20kdxf_pet/train/AD/962.png',\n",
       " '../data/contest/20kdxf_pet/train/AD/976.png',\n",
       " '../data/contest/20kdxf_pet/train/AD/977.png',\n",
       " '../data/contest/20kdxf_pet/train/AD/963.png',\n",
       " '../data/contest/20kdxf_pet/train/AD/988.png',\n",
       " '../data/contest/20kdxf_pet/train/AD/94.png',\n",
       " '../data/contest/20kdxf_pet/train/AD/96.png',\n",
       " '../data/contest/20kdxf_pet/train/AD/975.png',\n",
       " '../data/contest/20kdxf_pet/train/AD/961.png',\n",
       " '../data/contest/20kdxf_pet/train/AD/949.png',\n",
       " '../data/contest/20kdxf_pet/train/AD/948.png',\n",
       " '../data/contest/20kdxf_pet/train/AD/960.png',\n",
       " '../data/contest/20kdxf_pet/train/AD/974.png',\n",
       " '../data/contest/20kdxf_pet/train/AD/97.png',\n",
       " '../data/contest/20kdxf_pet/train/AD/93.png',\n",
       " '../data/contest/20kdxf_pet/train/AD/958.png',\n",
       " '../data/contest/20kdxf_pet/train/AD/970.png',\n",
       " '../data/contest/20kdxf_pet/train/AD/964.png',\n",
       " '../data/contest/20kdxf_pet/train/AD/965.png',\n",
       " '../data/contest/20kdxf_pet/train/AD/971.png',\n",
       " '../data/contest/20kdxf_pet/train/AD/959.png',\n",
       " '../data/contest/20kdxf_pet/train/AD/92.png',\n",
       " '../data/contest/20kdxf_pet/train/AD/90.png',\n",
       " '../data/contest/20kdxf_pet/train/AD/998.png',\n",
       " '../data/contest/20kdxf_pet/train/AD/967.png',\n",
       " '../data/contest/20kdxf_pet/train/AD/973.png',\n",
       " '../data/contest/20kdxf_pet/train/AD/972.png',\n",
       " '../data/contest/20kdxf_pet/train/AD/966.png',\n",
       " '../data/contest/20kdxf_pet/train/AD/999.png',\n",
       " '../data/contest/20kdxf_pet/train/AD/91.png']"
      ]
     },
     "execution_count": 8,
     "metadata": {},
     "output_type": "execute_result"
    }
   ],
   "source": [
    "glob.glob('../data/contest/20kdxf_pet/train/AD/9*.png')"
   ]
  },
  {
   "cell_type": "code",
   "execution_count": 9,
   "metadata": {
    "scrolled": true
   },
   "outputs": [
    {
     "data": {
      "text/plain": [
       "['../data/contest/20kdxf_pet/train/AD/99.png',\n",
       " '../data/contest/20kdxf_pet/train/AD/98.png',\n",
       " '../data/contest/20kdxf_pet/train/AD/95.png',\n",
       " '../data/contest/20kdxf_pet/train/AD/94.png',\n",
       " '../data/contest/20kdxf_pet/train/AD/96.png',\n",
       " '../data/contest/20kdxf_pet/train/AD/97.png',\n",
       " '../data/contest/20kdxf_pet/train/AD/93.png',\n",
       " '../data/contest/20kdxf_pet/train/AD/92.png',\n",
       " '../data/contest/20kdxf_pet/train/AD/90.png',\n",
       " '../data/contest/20kdxf_pet/train/AD/91.png']"
      ]
     },
     "execution_count": 9,
     "metadata": {},
     "output_type": "execute_result"
    }
   ],
   "source": [
    "# 匹配单个字符\n",
    "glob.glob('../data/contest/20kdxf_pet/train/AD/9?.png')"
   ]
  },
  {
   "cell_type": "code",
   "execution_count": 11,
   "metadata": {
    "scrolled": true
   },
   "outputs": [
    {
     "data": {
      "text/plain": [
       "['../data/contest/20kdxf_pet/train/AD/943.png',\n",
       " '../data/contest/20kdxf_pet/train/AD/942.png',\n",
       " '../data/contest/20kdxf_pet/train/AD/981.png',\n",
       " '../data/contest/20kdxf_pet/train/AD/983.png',\n",
       " '../data/contest/20kdxf_pet/train/AD/941.png',\n",
       " '../data/contest/20kdxf_pet/train/AD/982.png',\n",
       " '../data/contest/20kdxf_pet/train/AD/992.png',\n",
       " '../data/contest/20kdxf_pet/train/AD/951.png',\n",
       " '../data/contest/20kdxf_pet/train/AD/993.png',\n",
       " '../data/contest/20kdxf_pet/train/AD/991.png',\n",
       " '../data/contest/20kdxf_pet/train/AD/952.png',\n",
       " '../data/contest/20kdxf_pet/train/AD/953.png',\n",
       " '../data/contest/20kdxf_pet/train/AD/921.png',\n",
       " '../data/contest/20kdxf_pet/train/AD/923.png',\n",
       " '../data/contest/20kdxf_pet/train/AD/922.png',\n",
       " '../data/contest/20kdxf_pet/train/AD/932.png',\n",
       " '../data/contest/20kdxf_pet/train/AD/933.png',\n",
       " '../data/contest/20kdxf_pet/train/AD/931.png',\n",
       " '../data/contest/20kdxf_pet/train/AD/901.png',\n",
       " '../data/contest/20kdxf_pet/train/AD/902.png',\n",
       " '../data/contest/20kdxf_pet/train/AD/903.png',\n",
       " '../data/contest/20kdxf_pet/train/AD/913.png',\n",
       " '../data/contest/20kdxf_pet/train/AD/912.png',\n",
       " '../data/contest/20kdxf_pet/train/AD/911.png',\n",
       " '../data/contest/20kdxf_pet/train/AD/962.png',\n",
       " '../data/contest/20kdxf_pet/train/AD/963.png',\n",
       " '../data/contest/20kdxf_pet/train/AD/961.png',\n",
       " '../data/contest/20kdxf_pet/train/AD/971.png',\n",
       " '../data/contest/20kdxf_pet/train/AD/973.png',\n",
       " '../data/contest/20kdxf_pet/train/AD/972.png']"
      ]
     },
     "execution_count": 11,
     "metadata": {},
     "output_type": "execute_result"
    }
   ],
   "source": [
    "# 匹配单个字符\n",
    "glob.glob('../data/contest/20kdxf_pet/train/AD/9?[1-3].png')"
   ]
  },
  {
   "cell_type": "code",
   "execution_count": null,
   "metadata": {},
   "outputs": [],
   "source": [
    "from nbdev.export import notebook2script\n",
    "notebook2script('.ipynb')"
   ]
  }
 ],
 "metadata": {
  "kernelspec": {
   "display_name": "Python 3",
   "language": "python",
   "name": "python3"
  },
  "language_info": {
   "codemirror_mode": {
    "name": "ipython",
    "version": 3
   },
   "file_extension": ".py",
   "mimetype": "text/x-python",
   "name": "python",
   "nbconvert_exporter": "python",
   "pygments_lexer": "ipython3",
   "version": "3.7.3"
  },
  "toc": {
   "base_numbering": 1,
   "nav_menu": {},
   "number_sections": true,
   "sideBar": true,
   "skip_h1_title": false,
   "title_cell": "Table of Contents",
   "title_sidebar": "Contents",
   "toc_cell": false,
   "toc_position": {},
   "toc_section_display": true,
   "toc_window_display": true
  },
  "varInspector": {
   "cols": {
    "lenName": 16,
    "lenType": 16,
    "lenVar": 40
   },
   "kernels_config": {
    "python": {
     "delete_cmd_postfix": "",
     "delete_cmd_prefix": "del ",
     "library": "var_list.py",
     "varRefreshCmd": "print(var_dic_list())"
    },
    "r": {
     "delete_cmd_postfix": ") ",
     "delete_cmd_prefix": "rm(",
     "library": "var_list.r",
     "varRefreshCmd": "cat(var_dic_list()) "
    }
   },
   "types_to_exclude": [
    "module",
    "function",
    "builtin_function_or_method",
    "instance",
    "_Feature"
   ],
   "window_display": false
  }
 },
 "nbformat": 4,
 "nbformat_minor": 2
}
