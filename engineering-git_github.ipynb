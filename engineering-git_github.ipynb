{
 "cells": [
  {
   "cell_type": "code",
   "execution_count": 3,
   "metadata": {},
   "outputs": [],
   "source": [
    "# default_exp engineering.git\n",
    "\n",
    "%reload_ext autoreload\n",
    "%autoreload 2"
   ]
  },
  {
   "cell_type": "markdown",
   "metadata": {},
   "source": [
    "# git"
   ]
  },
  {
   "cell_type": "markdown",
   "metadata": {},
   "source": [
    "## 配置用户名密码"
   ]
  },
  {
   "cell_type": "code",
   "execution_count": null,
   "metadata": {},
   "outputs": [],
   "source": [
    "查看用户名：\n",
    "\n",
    "git config user.name\n",
    "查看用户邮箱：\n",
    "\n",
    "git config user.email\n",
    "\n",
    "修改全局用户名：\n",
    "\n",
    "git config --global user.name \"Your_username\"\n",
    "修改全局用户邮箱：\n",
    "\n",
    "git config --global user.email \"Your_email\"\n",
    "\n",
    "如果git工程使用的用户名和email和全局不同，可以如下设置\n",
    "修改局部用户名：\n",
    "\n",
    "git config --local user.name \"Your_username\"\n",
    "修改局部用户邮箱：\n",
    "\n",
    "git config --local user.email \"Your_email\""
   ]
  },
  {
   "cell_type": "markdown",
   "metadata": {},
   "source": [
    "## 需求: 多环境开发\n",
    "* 开发环境(DEV)\n",
    "\n",
    "专门用于开发的服务器，配置可以比较随意， 为了开发调试方便，一般打开全部错误报告。\n",
    "* 测试环境(TEST)\n",
    "\n",
    "一般是克隆一份生产环境的配置，一个程序在测试环境工作不正常，肯定不能把它发布到生产机上。\n",
    "* 仿真环境(UAT)\n",
    "\n",
    "顾名思义是和真正使用的环境一样的环境（即已经出售给客户的系统所在环境，也成为商用环境），所有的配置，页面展示等都应该和商家正在使用的一样，差别只在环境的性能方面。\n",
    "\n",
    "* 生产环境(PROD)\n",
    "\n",
    "正式提供对外服务的，一般会关掉错误报告，打开错误日志。可以理解为包含所有的功能的环境，任何项目所使用的环境都以这个为基础，然后根据客户的个性化需求来做调整或者修改。\n",
    "\n",
    "三个环境可以说是系统开发的三个阶段：DEV->TEST->UAT->PROD，其中生产环境也就是通常说真实环境。\n",
    "\n",
    "在开发过程中，应保证不同环境的代码都是完全相同的，把不同的东西都提取出来放在配置文件中。  \n",
    "一般不同的环境的配置会有不同，如数据库url，密码等，这些都放在以环境命名的配置文件中，如db_dev_mysql_config.properties"
   ]
  },
  {
   "cell_type": "markdown",
   "metadata": {},
   "source": [
    "虽然从流程上讲，DEV->TEST->UAT->PROD。但是为了减少复杂性，分支的推送关系是：DEV->TEST; DEV->UAT; DEV->PROD"
   ]
  },
  {
   "cell_type": "markdown",
   "metadata": {},
   "source": [
    "以DEV->TEST为例，相应的git代码"
   ]
  },
  {
   "cell_type": "code",
   "execution_count": null,
   "metadata": {},
   "outputs": [],
   "source": [
    "# 当前分支是master(DEV)分支\n",
    "git checkout test\n",
    "\n",
    "git merge --no-ff master\n",
    "\n",
    "git push\n",
    "# 代码推送完成，返回到master\n",
    "git checkout -"
   ]
  },
  {
   "cell_type": "markdown",
   "metadata": {},
   "source": [
    "## 需求: 分支b1只同步分支b2的个别文件"
   ]
  },
  {
   "cell_type": "markdown",
   "metadata": {},
   "source": [
    "# github"
   ]
  },
  {
   "cell_type": "markdown",
   "metadata": {},
   "source": [
    "## 怎么团队合作多人开发项目\n",
    "https://blog.csdn.net/dietime1943/article/details/81391835\n",
    "\n",
    "本文主要介绍利用Github进行协同开发的方式, 你如何去提交你自己的patch代码到github上别人的repository中.\n",
    "###  添加 Collaborators\n",
    "![](img/github01.png)\n",
    "Collaborators 类似于Team模式. Repository的拥有者Owner 可以直接添加合作者到自己的仓库中, 让合作者拥有几乎等同拥有者的权限.\n",
    "操作方法 : Repository的Owner在自己的repo中点Settings添加想要合作的User\n",
    "添加成功后被邀请的合作者会收到GitHub发送的邀请邮件, 该邮件会发送到受邀人的github注册邮箱中.\n",
    "\n",
    "Collaborators模式客可以描述为:\n",
    "\n",
    "Repository的拥有者A 想要 合作者B参与到 该repo的团队开发中, 于是A 邀请B 并成功添加B到该repo合作中\n",
    "这样作为合作者B便拥有了贡献代码到A的仓库中的权利. 作为 B 所需要做的是 先Clone A的仓库到本地IDE中,\n",
    "注意Clone的URL为 A仓库的URL, 这样B在自己的本地就拥有了向A仓库中提交代码(commit/push/merge/branch)的权限,\n",
    "就好比B拥有A的repo一样, 但是B操作 A repo仓库的时候使用的是 B 自己的github账号和密码. 同样此时B自己的\n",
    "github账号中并不会出现A的仓库Repo, 这也就完全不同于Fork代码了(fork代码会把拥有者的代码复制一份到自己的github中).\n",
    "###  Fork & Pull request方式\n",
    "\n",
    "对于开源项目间的合作一般都会使用Fork & Pull request的合作方式.\n",
    "\n",
    "A拥有一个开源Repository, B想参与该开源项目. 作为B, 先要fork A开源项目的 Repository 到自己账号的Repository中,\n",
    "这样B便拥有了一个A开源项目的镜像repo. 这样B可以正常的修改自己账号下的 A的开源项目镜像(这里改的都是自己本地的),\n",
    "并不会影响A 本身的开源repository, 如果哪天 B觉得 自己增加并完善了一个新功能, 或者fixed A repo.的某个bug, 就可以\n",
    "提一个pull request, 询问A是不是想要.\n",
    "#### 创建 pull request\n",
    "![](img/github02.png)\n",
    "\n",
    "#### merge pull request\n",
    "![](img/github03.png)\n",
    "这样在A的仓库中就能看到B所申请的pull request\n",
    "\n",
    "A 作为开源项目的管理者, 可以选择 merge该 request到自己的 Repository中 , 也可以选择closed掉该请求.\n",
    "![](img/github04.png)\n",
    "\n",
    "在这个反复合作开发期间, 如果A的repo.项目发生了改动, B 想同步到本地, 就直接从git fetch origin 从原项目的地址同步代码, 然后再merge就可以了.\n",
    "\n",
    "## Organization & Team 的方式\n",
    "\n",
    "如果你已经创建了一个组织, 你可以在该组织中创建一个team进行合作开发.\n",
    "![](img/github05.png)\n",
    "\n",
    "管理者A可以在创建完的team中 add repo. 设置其权限, 添加team成员, 这样team成员间就可以合作开发这些项目了.\n",
    "![](img/github06.png)"
   ]
  },
  {
   "cell_type": "code",
   "execution_count": null,
   "metadata": {},
   "outputs": [],
   "source": []
  }
 ],
 "metadata": {
  "kernelspec": {
   "display_name": "Python 3",
   "language": "python",
   "name": "python3"
  },
  "language_info": {
   "codemirror_mode": {
    "name": "ipython",
    "version": 3
   },
   "file_extension": ".py",
   "mimetype": "text/x-python",
   "name": "python",
   "nbconvert_exporter": "python",
   "pygments_lexer": "ipython3",
   "version": "3.8.3"
  },
  "toc": {
   "base_numbering": 1,
   "nav_menu": {},
   "number_sections": true,
   "sideBar": true,
   "skip_h1_title": false,
   "title_cell": "Table of Contents",
   "title_sidebar": "Contents",
   "toc_cell": false,
   "toc_position": {},
   "toc_section_display": true,
   "toc_window_display": true
  },
  "varInspector": {
   "cols": {
    "lenName": 16,
    "lenType": 16,
    "lenVar": 40
   },
   "kernels_config": {
    "python": {
     "delete_cmd_postfix": "",
     "delete_cmd_prefix": "del ",
     "library": "var_list.py",
     "varRefreshCmd": "print(var_dic_list())"
    },
    "r": {
     "delete_cmd_postfix": ") ",
     "delete_cmd_prefix": "rm(",
     "library": "var_list.r",
     "varRefreshCmd": "cat(var_dic_list()) "
    }
   },
   "types_to_exclude": [
    "module",
    "function",
    "builtin_function_or_method",
    "instance",
    "_Feature"
   ],
   "window_display": false
  }
 },
 "nbformat": 4,
 "nbformat_minor": 2
}
