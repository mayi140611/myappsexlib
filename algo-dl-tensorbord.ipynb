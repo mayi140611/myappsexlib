{
 "cells": [
  {
   "cell_type": "code",
   "execution_count": 3,
   "metadata": {},
   "outputs": [],
   "source": [
    "# default_exp engineering.nbdev\n",
    "\n",
    "%reload_ext autoreload\n",
    "%autoreload 2"
   ]
  },
  {
   "cell_type": "markdown",
   "metadata": {},
   "source": [
    "# tensorboard\n",
    "TensorFlow中强大的可视化工具\n",
    "## 使用流程\n",
    "python脚本记录可视化数据\n",
    "\n",
    "## 硬盘: event file\n",
    "![](img/tfboard00.png)\n",
    "## 打开web终端: tensorboard\n",
    "\n",
    "命令行输入: "
   ]
  },
  {
   "cell_type": "code",
   "execution_count": 14,
   "metadata": {},
   "outputs": [
    {
     "name": "stdout",
     "output_type": "stream",
     "text": [
      "^C\r\n",
      "Traceback (most recent call last):\r\n",
      "  File \"/Users/luoyonggui/anaconda3/bin/tensorboard\", line 6, in <module>\r\n",
      "    from tensorboard.main import run_main\r\n",
      "  File \"/Users/luoyonggui/anaconda3/lib/python3.7/site-packages/tensorboard/main.py\", line 43, in <module>\r\n",
      "    from tensorboard import default\r\n",
      "  File \"/Users/luoyonggui/anaconda3/lib/python3.7/site-packages/tensorboard/default.py\", line 40, in <module>\r\n",
      "    from tensorboard.plugins.beholder import beholder_plugin_loader\r\n",
      "  File \"/Users/luoyonggui/anaconda3/lib/python3.7/site-packages/tensorboard/plugins/beholder/__init__.py\", line 18, in <module>\r\n",
      "    import tensorflow\r\n",
      "  File \"/Users/luoyonggui/anaconda3/lib/python3.7/site-packages/tensorflow/__init__.py\", line 48, in <module>\r\n",
      "    from ._api.v2 import compat\r\n",
      "  File \"/Users/luoyonggui/anaconda3/lib/python3.7/site-packages/tensorflow/_api/v2/compat/__init__.py\", line 39, in <module>\r\n",
      "    from . import v1\r\n",
      "  File \"/Users/luoyonggui/anaconda3/lib/python3.7/site-packages/tensorflow/_api/v2/compat/v1/__init__.py\", line 34, in <module>\r\n",
      "    from . import compat\r\n",
      "  File \"/Users/luoyonggui/anaconda3/lib/python3.7/site-packages/tensorflow/_api/v2/compat/v1/compat/__init__.py\", line 39, in <module>\r\n",
      "    from . import v1\r\n",
      "  File \"/Users/luoyonggui/anaconda3/lib/python3.7/site-packages/tensorflow/_api/v2/compat/v1/compat/v1/__init__.py\", line 51, in <module>\r\n",
      "    from tensorflow._api.v2.compat.v1 import lite\r\n",
      "  File \"/Users/luoyonggui/anaconda3/lib/python3.7/site-packages/tensorflow/_api/v2/compat/v1/lite/__init__.py\", line 11, in <module>\r\n",
      "    from . import experimental\r\n",
      "  File \"/Users/luoyonggui/anaconda3/lib/python3.7/site-packages/tensorflow/_api/v2/compat/v1/lite/experimental/__init__.py\", line 10, in <module>\r\n",
      "    from . import nn\r\n",
      "  File \"/Users/luoyonggui/anaconda3/lib/python3.7/site-packages/tensorflow/_api/v2/compat/v1/lite/experimental/nn/__init__.py\", line 10, in <module>\r\n",
      "    from tensorflow.lite.python.lite import TFLiteLSTMCell\r\n",
      "  File \"/Users/luoyonggui/anaconda3/lib/python3.7/site-packages/tensorflow/lite/python/lite.py\", line 35, in <module>\r\n",
      "    from tensorflow.lite.experimental.microfrontend.python.ops import audio_microfrontend_op  # pylint: disable=unused-import\r\n",
      "  File \"/Users/luoyonggui/anaconda3/lib/python3.7/site-packages/tensorflow/lite/experimental/microfrontend/python/ops/audio_microfrontend_op.py\", line 30, in <module>\r\n",
      "    resource_loader.get_path_to_datafile(\"_audio_microfrontend_op.so\"))\r\n",
      "  File \"/Users/luoyonggui/anaconda3/lib/python3.7/site-packages/tensorflow/python/framework/load_library.py\", line 61, in load_op_library\r\n",
      "    py_tf.TF_GetOpList(lib_handle))\r\n",
      "KeyboardInterrupt\r\n"
     ]
    }
   ],
   "source": [
    "!tensorboard --logdir ../../'Google 云端硬盘'/'Colab Notebooks'/  # run所在的文件夹"
   ]
  },
  {
   "cell_type": "markdown",
   "metadata": {},
   "source": [
    "### 常见报错\n",
    "tensorboard ValueError: Duplicate plugins for name projector\n",
    "\n",
    "https://blog.csdn.net/Avada_533/article/details/102223823"
   ]
  },
  {
   "cell_type": "markdown",
   "metadata": {},
   "source": [
    "## install"
   ]
  },
  {
   "cell_type": "code",
   "execution_count": 10,
   "metadata": {
    "scrolled": true
   },
   "outputs": [
    {
     "name": "stdout",
     "output_type": "stream",
     "text": [
      "Collecting tensorboard\n",
      "\u001b[?25l  Downloading https://files.pythonhosted.org/packages/e9/1b/6a420d7e6ba431cf3d51b2a5bfa06a958c4141e3189385963dc7f6fbffb6/tensorboard-2.3.0-py3-none-any.whl (6.8MB)\n",
      "\u001b[K     |████████████████████████████████| 6.8MB 484kB/s eta 0:00:01\n",
      "\u001b[?25hCollecting tensorboard-plugin-wit>=1.6.0 (from tensorboard)\n",
      "\u001b[?25l  Downloading https://files.pythonhosted.org/packages/b6/85/5c5ac0a8c5efdfab916e9c6bc18963f6a6996a8a1e19ec4ad8c9ac9c623c/tensorboard_plugin_wit-1.7.0-py3-none-any.whl (779kB)\n",
      "\u001b[K     |████████████████████████████████| 788kB 268kB/s eta 0:00:01\n",
      "\u001b[?25hRequirement already satisfied: numpy>=1.12.0 in /Users/luoyonggui/anaconda3/lib/python3.7/site-packages (from tensorboard) (1.19.0)\n",
      "Requirement already satisfied: google-auth-oauthlib<0.5,>=0.4.1 in /Users/luoyonggui/anaconda3/lib/python3.7/site-packages (from tensorboard) (0.4.1)\n",
      "Requirement already satisfied: grpcio>=1.24.3 in /Users/luoyonggui/anaconda3/lib/python3.7/site-packages (from tensorboard) (1.30.0)\n",
      "Requirement already satisfied: markdown>=2.6.8 in /Users/luoyonggui/anaconda3/lib/python3.7/site-packages (from tensorboard) (3.1)\n",
      "Requirement already satisfied: absl-py>=0.4 in /Users/luoyonggui/anaconda3/lib/python3.7/site-packages (from tensorboard) (0.7.1)\n",
      "Requirement already satisfied: setuptools>=41.0.0 in /Users/luoyonggui/anaconda3/lib/python3.7/site-packages (from tensorboard) (49.1.0)\n",
      "Requirement already satisfied: google-auth<2,>=1.6.3 in /Users/luoyonggui/anaconda3/lib/python3.7/site-packages (from tensorboard) (1.6.3)\n",
      "Requirement already satisfied: six>=1.10.0 in /Users/luoyonggui/anaconda3/lib/python3.7/site-packages (from tensorboard) (1.14.0)\n",
      "Requirement already satisfied: requests<3,>=2.21.0 in /Users/luoyonggui/anaconda3/lib/python3.7/site-packages (from tensorboard) (2.22.0)\n",
      "Requirement already satisfied: wheel>=0.26; python_version >= \"3\" in /Users/luoyonggui/anaconda3/lib/python3.7/site-packages (from tensorboard) (0.33.4)\n",
      "Requirement already satisfied: werkzeug>=0.11.15 in /Users/luoyonggui/anaconda3/lib/python3.7/site-packages (from tensorboard) (0.14.1)\n",
      "Requirement already satisfied: protobuf>=3.6.0 in /Users/luoyonggui/anaconda3/lib/python3.7/site-packages (from tensorboard) (3.11.1)\n",
      "Requirement already satisfied: requests-oauthlib>=0.7.0 in /Users/luoyonggui/anaconda3/lib/python3.7/site-packages (from google-auth-oauthlib<0.5,>=0.4.1->tensorboard) (1.2.0)\n",
      "Requirement already satisfied: pyasn1-modules>=0.2.1 in /Users/luoyonggui/anaconda3/lib/python3.7/site-packages (from google-auth<2,>=1.6.3->tensorboard) (0.2.7)\n",
      "Requirement already satisfied: rsa>=3.1.4 in /Users/luoyonggui/anaconda3/lib/python3.7/site-packages (from google-auth<2,>=1.6.3->tensorboard) (3.4.2)\n",
      "Requirement already satisfied: cachetools>=2.0.0 in /Users/luoyonggui/anaconda3/lib/python3.7/site-packages (from google-auth<2,>=1.6.3->tensorboard) (3.1.1)\n",
      "Requirement already satisfied: idna<2.9,>=2.5 in /Users/luoyonggui/anaconda3/lib/python3.7/site-packages (from requests<3,>=2.21.0->tensorboard) (2.7)\n",
      "Requirement already satisfied: certifi>=2017.4.17 in /Users/luoyonggui/anaconda3/lib/python3.7/site-packages (from requests<3,>=2.21.0->tensorboard) (2018.4.16)\n",
      "Requirement already satisfied: chardet<3.1.0,>=3.0.2 in /Users/luoyonggui/anaconda3/lib/python3.7/site-packages (from requests<3,>=2.21.0->tensorboard) (3.0.4)\n",
      "Requirement already satisfied: urllib3!=1.25.0,!=1.25.1,<1.26,>=1.21.1 in /Users/luoyonggui/anaconda3/lib/python3.7/site-packages (from requests<3,>=2.21.0->tensorboard) (1.23)\n",
      "Requirement already satisfied: oauthlib>=3.0.0 in /Users/luoyonggui/anaconda3/lib/python3.7/site-packages (from requests-oauthlib>=0.7.0->google-auth-oauthlib<0.5,>=0.4.1->tensorboard) (3.1.0)\n",
      "Requirement already satisfied: pyasn1<0.5.0,>=0.4.6 in /Users/luoyonggui/anaconda3/lib/python3.7/site-packages (from pyasn1-modules>=0.2.1->google-auth<2,>=1.6.3->tensorboard) (0.4.6)\n",
      "\u001b[31mERROR: tensorflow 2.2.0 has requirement scipy==1.4.1; python_version >= \"3\", but you'll have scipy 1.5.1 which is incompatible.\u001b[0m\n",
      "\u001b[31mERROR: tensorflow 2.2.0 has requirement tensorboard<2.3.0,>=2.2.0, but you'll have tensorboard 2.3.0 which is incompatible.\u001b[0m\n",
      "\u001b[31mERROR: snorkel 0.9.5 has requirement scikit-learn<0.22.0,>=0.20.2, but you'll have scikit-learn 0.23.1 which is incompatible.\u001b[0m\n",
      "\u001b[31mERROR: snorkel 0.9.5 has requirement tensorboard<2.0.0,>=1.14.0, but you'll have tensorboard 2.3.0 which is incompatible.\u001b[0m\n",
      "Installing collected packages: tensorboard-plugin-wit, tensorboard\n",
      "Successfully installed tensorboard-2.3.0 tensorboard-plugin-wit-1.7.0\n"
     ]
    }
   ],
   "source": [
    "!pip install tensorboard"
   ]
  },
  {
   "cell_type": "code",
   "execution_count": 4,
   "metadata": {},
   "outputs": [
    {
     "name": "stdout",
     "output_type": "stream",
     "text": [
      "grpcio==1.20.0\r\n"
     ]
    }
   ],
   "source": [
    "!pip freeze | grep grpcio"
   ]
  },
  {
   "cell_type": "code",
   "execution_count": 9,
   "metadata": {},
   "outputs": [
    {
     "name": "stdout",
     "output_type": "stream",
     "text": [
      "tensorflow==2.2.0\r\n",
      "tensorflow-datasets==1.3.0\r\n",
      "tensorflow-estimator==2.2.0\r\n",
      "tensorflow-metadata==0.15.0\r\n",
      "tensorlayer==1.11.1\r\n"
     ]
    }
   ],
   "source": [
    "!pip freeze | grep tensor"
   ]
  },
  {
   "cell_type": "markdown",
   "metadata": {},
   "source": [
    "# api"
   ]
  },
  {
   "cell_type": "markdown",
   "metadata": {},
   "source": [
    "## SummaryWriter\n",
    "功能:提供创建event file的高级接口  \n",
    "主要属性:\n",
    "* log_dir:event file输出文件夹 \n",
    "* comment:不指定log_dir时，文件夹后缀\n",
    "* filename_suffix: event file文件名后缀\n",
    "\n",
    "\n",
    "\n",
    "\n",
    "### add_scalar()\n",
    "功能:记录标量\n",
    "\n",
    "    * tag:图像的标签名，图的唯一标识 \n",
    "    * scalar_value:要记录的标量\n",
    "    * global_step:x轴\n",
    "    \n",
    "    局限: 一个图只能记录一条曲线的变化。\n",
    "### add_scalars()\n",
    "    * main_tag:该图的标签\n",
    "    * tag_scalar_dict:key是变量的tag，value是变量的值\n",
    "    \n",
    "    一个图记录多条曲线的变化\n",
    "### add_histogram() 功能:统计直方图与多分位数折线图\n",
    "    * tag:图像的标签名，图的唯一标识 \n",
    "    * values:要统计的参数\n",
    "    * global_step:y轴\n",
    "    * bins:取直方图的bins"
   ]
  },
  {
   "cell_type": "markdown",
   "metadata": {},
   "source": [
    "### 示例"
   ]
  },
  {
   "cell_type": "code",
   "execution_count": null,
   "metadata": {},
   "outputs": [],
   "source": [
    "import numpy as np\n",
    "from torch.utils.tensorboard import SummaryWriter\n",
    "\n",
    "\n",
    "writer = SummaryWriter(comment='test_tensorboard')\n",
    "\n",
    "for x in range(100):\n",
    "\n",
    "    writer.add_scalar('y=2x', x * 2, x)\n",
    "    writer.add_scalar('y=pow(2, x)',  2 ** x, x)\n",
    "    \n",
    "    writer.add_scalars('data/scalar_group', {\"xsinx\": x * np.sin(x),\n",
    "                                             \"xcosx\": x * np.cos(x),\n",
    "                                             \"arctanx\": np.arctan(x)}, x)\n",
    "writer.close()"
   ]
  },
  {
   "cell_type": "code",
   "execution_count": null,
   "metadata": {},
   "outputs": [],
   "source": [
    "\n",
    "    writer = SummaryWriter(comment='test_comment', filename_suffix=\"test_suffix\")\n",
    "\n",
    "    for x in range(2):\n",
    "\n",
    "        np.random.seed(x)\n",
    "\n",
    "        data_union = np.arange(100)\n",
    "        data_normal = np.random.normal(size=1000)\n",
    "\n",
    "        writer.add_histogram('distribution union', data_union, x)\n",
    "        writer.add_histogram('distribution normal', data_normal, x)\n",
    "\n",
    "        plt.subplot(121).hist(data_union, label=\"union\")\n",
    "        plt.subplot(122).hist(data_normal, label=\"normal\")\n",
    "        plt.legend()\n",
    "        plt.show()\n",
    "\n",
    "    writer.close()"
   ]
  },
  {
   "cell_type": "code",
   "execution_count": null,
   "metadata": {},
   "outputs": [],
   "source": [
    "# 构建 SummaryWriter\n",
    "writer = SummaryWriter(comment='test_your_comment', filename_suffix=\"_test_your_filename_suffix\")\n",
    "\n",
    "for epoch in range(MAX_EPOCH):\n",
    "\n",
    "    loss_mean = 0.\n",
    "    correct = 0.\n",
    "    total = 0.\n",
    "\n",
    "    net.train()\n",
    "    for i, data in enumerate(train_loader):\n",
    "\n",
    "        iter_count += 1\n",
    "\n",
    "        # forward\n",
    "        inputs, labels = data\n",
    "        outputs = net(inputs)\n",
    "\n",
    "        # backward\n",
    "        optimizer.zero_grad()\n",
    "        loss = criterion(outputs, labels)\n",
    "        loss.backward()\n",
    "\n",
    "        # update weights\n",
    "        optimizer.step()\n",
    "\n",
    "        # 统计分类情况\n",
    "        _, predicted = torch.max(outputs.data, 1)\n",
    "        total += labels.size(0)\n",
    "        correct += (predicted == labels).squeeze().sum().numpy()\n",
    "\n",
    "        # 打印训练信息\n",
    "        loss_mean += loss.item()\n",
    "        train_curve.append(loss.item())\n",
    "        if (i+1) % log_interval == 0:\n",
    "            loss_mean = loss_mean / log_interval\n",
    "            print(\"Training:Epoch[{:0>3}/{:0>3}] Iteration[{:0>3}/{:0>3}] Loss: {:.4f} Acc:{:.2%}\".format(\n",
    "                epoch, MAX_EPOCH, i+1, len(train_loader), loss_mean, correct / total))\n",
    "            loss_mean = 0.\n",
    "\n",
    "        # 记录数据，保存于event file\n",
    "        writer.add_scalars(\"Loss\", {\"Train\": loss.item()}, iter_count)\n",
    "        writer.add_scalars(\"Accuracy\", {\"Train\": correct / total}, iter_count)\n",
    "\n",
    "    # 每个epoch，记录梯度，权值\n",
    "    for name, param in net.named_parameters():\n",
    "        writer.add_histogram(name + '_grad', param.grad, epoch)\n",
    "        writer.add_histogram(name + '_data', param, epoch)\n",
    "\n",
    "    scheduler.step()  # 更新学习率\n",
    "\n",
    "    # validate the model\n",
    "    if (epoch+1) % val_interval == 0:\n",
    "\n",
    "        correct_val = 0.\n",
    "        total_val = 0.\n",
    "        loss_val = 0.\n",
    "        net.eval()\n",
    "        with torch.no_grad():\n",
    "            for j, data in enumerate(valid_loader):\n",
    "                inputs, labels = data\n",
    "                outputs = net(inputs)\n",
    "                loss = criterion(outputs, labels)\n",
    "\n",
    "                _, predicted = torch.max(outputs.data, 1)\n",
    "                total_val += labels.size(0)\n",
    "                correct_val += (predicted == labels).squeeze().sum().numpy()\n",
    "\n",
    "                loss_val += loss.item()\n",
    "\n",
    "            valid_curve.append(loss.item())\n",
    "            print(\"Valid:\\t Epoch[{:0>3}/{:0>3}] Iteration[{:0>3}/{:0>3}] Loss: {:.4f} Acc:{:.2%}\".format(\n",
    "                epoch, MAX_EPOCH, j+1, len(valid_loader), loss_val, correct / total))\n",
    "\n",
    "            # 记录数据，保存于event file\n",
    "            writer.add_scalars(\"Loss\", {\"Valid\": np.mean(valid_curve)}, iter_count)\n",
    "            writer.add_scalars(\"Accuracy\", {\"Valid\": correct / total}, iter_count)"
   ]
  },
  {
   "cell_type": "markdown",
   "metadata": {},
   "source": [
    "### add_image()\n",
    "功能:记录图像\n",
    "\n",
    "    • tag:图像的标签名，图的唯一标识 \n",
    "    • img_tensor:图像数据，注意尺度 （当tensorboard检测到数据都位于0-1之间时，就会乘以255；否则不处理\n",
    "    • global_step:x轴\n",
    "    • dataformats:数据形式，CHW(默认)，HWC，HW (C: channel, H: height, W: width\n",
    "\n",
    "\n",
    "#### torchvision.utils.make_grid \n",
    "\n",
    "功能:制作网格图像\n",
    "\n",
    "    • tensor:图像数据, `B*C*H*W`形式\n",
    "    • nrow:行数(列数自动计算)\n",
    "    • padding:图像间距(像素单位)\n",
    "    • normalize:是否将像素值标准化\n",
    "    • range:标准化范围\n",
    "    • scale_each:是否单张图维度标准化 \n",
    "    • pad_value:padding的像素值\n",
    "\n",
    "\n",
    "### add_graph() \n",
    "功能:可视化模型计算图\n",
    "\n",
    "    • model:模型，必须是 nn.Module\n",
    "    • input_to_model:输出给模型的数据 \n",
    "    • verbose:是否打印计算图结构信息\n",
    "\n",
    "\n"
   ]
  },
  {
   "cell_type": "markdown",
   "metadata": {},
   "source": [
    "### add_image示例"
   ]
  },
  {
   "cell_type": "code",
   "execution_count": null,
   "metadata": {},
   "outputs": [],
   "source": [
    "    writer = SummaryWriter(comment='test_your_comment', filename_suffix=\"_test_your_filename_suffix\")\n",
    "\n",
    "    # img 1     random\n",
    "    fake_img = torch.randn(3, 512, 512)\n",
    "    writer.add_image(\"fake_img\", fake_img, 1)\n",
    "    time.sleep(1)\n",
    "\n",
    "    # img 2     ones\n",
    "    fake_img = torch.ones(3, 512, 512)\n",
    "    time.sleep(1)\n",
    "    writer.add_image(\"fake_img\", fake_img, 2)\n",
    "\n",
    "    # img 3     1.1\n",
    "    fake_img = torch.ones(3, 512, 512) * 1.1\n",
    "    time.sleep(1)\n",
    "    writer.add_image(\"fake_img\", fake_img, 3)\n",
    "\n",
    "    # img 4     HW\n",
    "    fake_img = torch.rand(512, 512)\n",
    "    writer.add_image(\"fake_img\", fake_img, 4, dataformats=\"HW\")\n",
    "\n",
    "    # img 5     HWC\n",
    "    fake_img = torch.rand(512, 512, 3)\n",
    "    writer.add_image(\"fake_img\", fake_img, 5, dataformats=\"HWC\")\n",
    "\n",
    "    writer.close()"
   ]
  },
  {
   "cell_type": "code",
   "execution_count": null,
   "metadata": {},
   "outputs": [],
   "source": [
    "    writer = SummaryWriter(comment='test_your_comment', filename_suffix=\"_test_your_filename_suffix\")\n",
    "\n",
    "    split_dir = os.path.join(\"..\", \"..\", \"data\", \"rmb_split\")\n",
    "    train_dir = os.path.join(split_dir, \"train\")\n",
    "    # train_dir = \"path to your training data\"\n",
    "\n",
    "    transform_compose = transforms.Compose([transforms.Resize((32, 64)), transforms.ToTensor()])\n",
    "    train_data = RMBDataset(data_dir=train_dir, transform=transform_compose)\n",
    "    train_loader = DataLoader(dataset=train_data, batch_size=16, shuffle=True)\n",
    "    data_batch, label_batch = next(iter(train_loader))\n",
    "\n",
    "    img_grid = vutils.make_grid(data_batch, nrow=4, normalize=True, scale_each=True)\n",
    "    # img_grid = vutils.make_grid(data_batch, nrow=4, normalize=False, scale_each=False)\n",
    "    writer.add_image(\"input img\", img_grid, 0)\n",
    "\n",
    "    writer.close()"
   ]
  },
  {
   "cell_type": "code",
   "execution_count": null,
   "metadata": {},
   "outputs": [],
   "source": [
    "    writer = SummaryWriter(comment='test_your_comment', filename_suffix=\"_test_your_filename_suffix\")\n",
    "\n",
    "    # 模型\n",
    "    fake_img = torch.randn(1, 3, 32, 32)\n",
    "\n",
    "    lenet = LeNet(classes=2)\n",
    "\n",
    "    writer.add_graph(lenet, fake_img)\n",
    "\n",
    "    writer.close()\n"
   ]
  },
  {
   "cell_type": "code",
   "execution_count": null,
   "metadata": {},
   "outputs": [],
   "source": [
    "from nbdev.export import notebook2script\n",
    "notebook2script('.ipynb')"
   ]
  }
 ],
 "metadata": {
  "kernelspec": {
   "display_name": "Python 3",
   "language": "python",
   "name": "python3"
  },
  "language_info": {
   "codemirror_mode": {
    "name": "ipython",
    "version": 3
   },
   "file_extension": ".py",
   "mimetype": "text/x-python",
   "name": "python",
   "nbconvert_exporter": "python",
   "pygments_lexer": "ipython3",
   "version": "3.7.3"
  },
  "toc": {
   "base_numbering": 1,
   "nav_menu": {},
   "number_sections": true,
   "sideBar": true,
   "skip_h1_title": false,
   "title_cell": "Table of Contents",
   "title_sidebar": "Contents",
   "toc_cell": false,
   "toc_position": {},
   "toc_section_display": true,
   "toc_window_display": true
  },
  "varInspector": {
   "cols": {
    "lenName": 16,
    "lenType": 16,
    "lenVar": 40
   },
   "kernels_config": {
    "python": {
     "delete_cmd_postfix": "",
     "delete_cmd_prefix": "del ",
     "library": "var_list.py",
     "varRefreshCmd": "print(var_dic_list())"
    },
    "r": {
     "delete_cmd_postfix": ") ",
     "delete_cmd_prefix": "rm(",
     "library": "var_list.r",
     "varRefreshCmd": "cat(var_dic_list()) "
    }
   },
   "types_to_exclude": [
    "module",
    "function",
    "builtin_function_or_method",
    "instance",
    "_Feature"
   ],
   "window_display": false
  }
 },
 "nbformat": 4,
 "nbformat_minor": 2
}
