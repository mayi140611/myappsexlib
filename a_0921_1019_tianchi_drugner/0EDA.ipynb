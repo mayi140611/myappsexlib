{
 "cells": [
  {
   "cell_type": "code",
   "execution_count": 1,
   "metadata": {},
   "outputs": [],
   "source": [
    "%reload_ext autoreload\n",
    "%autoreload 2"
   ]
  },
  {
   "cell_type": "code",
   "execution_count": 2,
   "metadata": {},
   "outputs": [],
   "source": [
    "# default_exp eda"
   ]
  },
  {
   "cell_type": "markdown",
   "metadata": {},
   "source": [
    "# 赛题说明\n",
    "https://tianchi.aliyun.com/competition/entrance/531824/introduction\n",
    "\n",
    "\n",
    "## 赛程\n",
    "### 初赛（2020年9月21日-10月21日）\n",
    "3、初赛截止后（10月21日20：00最后一次测评），组委会将进行排名前100名参赛队伍的入围审核，前100名团队将需要提交代码进行审核，组委会将按照比赛规则要求识别人工标注、代码高度重合、直接使用开源代码的队伍，无实际算法贡献，并终止上述团队参赛，晋级空缺名额后补。最终50个队伍进入复赛环节。\n",
    "### 复赛（2020年10月22日-11月6日）\n",
    "1、复赛阶段测试数据不可见且不可下载，采用docker镜像的方式进行提交，容器镜像提交说明复赛公布。由选手提交打包好的代码镜像来运行得出预测结果，并对时间复杂度有限制，代码镜像运行时间不能超过4个小时，第一次接触docker可直达教程（链接）。\n",
    "\n",
    "2、系统每天提供2次测评机会，排行榜按照评测指标从高到低进行排序，排行更新时间为10：00、20：00。排行榜将选择参赛队伍在本阶段的历史最优成绩进行排名展示。最后一次测评时间为11月6日20：00。\n",
    "\n",
    "3、复赛结束，主办方将对TOP12团队分别进入代码审核。代码审核要求选手提交的代码结构清晰，根据说明可直接通过脚本重新完成模型的训练与推断，复现比赛成绩，复现时间要求不能超过4个小时。复赛代码审核通过的TOP6的参赛队伍选手代表将分别受邀参加决赛。\n",
    "\n",
    "### 决赛答辩（2020年11月）\n",
    "\n",
    "1、决赛将以现场线下答辩会的形式进行，地点在江西南昌，晋级决赛团队需提前准备答辩材料，包括答辩PPT（不少于10页）、参赛总结材料WORD（不少于3页）、算法核心代码。\n",
    "\n",
    "2、决赛将邀请每支队伍至多3位代表参加，由组委会承担差旅费用。具体安排另行通知。3、答辩现场，评委将根据选手的思路和理论深度、创新性和应用价值、现场表现进行综合评分。4、最终的决赛分数将根据参赛队伍的复赛的线上成绩和答辩成绩加权得出，其中复赛线上成绩占比60%，答辩占比40%。依据决赛分数评选出大赛奖项并举行隆重颁奖，要求全部选手出席颁奖仪式。\n",
    "## 数据说明\n",
    "本次标注数据源来自中药药品说明书，\n",
    "* 共包含1997份去重后的药品说明书，\n",
    "* 其中1000份用于训练数据，\n",
    "* 500份用作初赛测试数据，\n",
    "* 剩余的497份用作复赛的测试数据。\n",
    "\n",
    "本次复赛测试数据不对外开放，不可下载且不可见，选手需要在天池平台通过镜像方式提交。\n",
    "\n",
    "共定义了13类实体，具体类别定义如下：\n",
    "\n",
    "### 药品(DRUG):\n",
    "中药名称，指在中医理论指导下，用于预防、治疗、诊断疾病并具有康复与保健作用的物质。中药主要来源于天然药及其加工品，包括植物药、动物药、矿物药及部分化学、生物制品类药物。例子: 六味地黄丸、逍遥散\n",
    "### 药物成分(DRUG_INGREDIENT): \n",
    "中药组成成分，指中药复方中所含有的所有与该复方临床应用目的密切相关的药理活性成分。例子:当归、人参、枸杞\n",
    "### 疾病(DISEASE): \n",
    "疾病名称，指人体在一定原因的损害性作用下，因自稳调节紊乱而发生的异常生命活动过程，是特定的异常病理情形，而且会影响生物体的部分或是所有器官。通常解释为“身体病况”（medical condition），而且伴随着特定的症状及医学征象。例子：高血压、心绞痛、糖尿病\n",
    "### 症状(SYMPTOM): \n",
    "指疾病过程中机体内的一系列机能、代谢和形态结构异常变化所引起的病人主观上的异常感觉或某些客观病态改变。例子_：头晕、心悸、小腹胀痛_\n",
    "### 证候(SYNDROME): \n",
    "中医学专用术语，概括为一系列有相互关联的症状总称，即通过望、闻、问、切四诊所获知的疾病过程中表现在整体层次上的机体反应状态及其运动、变化，简称证或者候，是指不同症状和体征的综合表现，单一的症状和体征无法表现一个完整的证候。 例子：血瘀、气滞、气血不足、气血两虚\n",
    "### 疾病分组(DISEASE_GROUP): \n",
    "疾病涉及有人体组织部位的疾病名称的统称概念，非某项具体医学疾病。例子：肾病、肝病、肺病\n",
    "### 食物(FOOD):\n",
    "指能够满足机体正常生理和生化能量需求，并能延续正常寿命的物质。对人体而言，能够满足人的正常生活活动需求并利于寿命延长的物质称之为食物。例子：苹果、茶、木耳、萝卜\n",
    "### 食物分组(FOOD_GROUP): \n",
    "中医中饮食养生中，将食物分为寒热温凉四性，同时中医药禁忌中对于具有某类共同属性食物的统称，记为食物分组。例子：油腻食物、辛辣食物、凉性食物\n",
    "### 人群(PERSON_GROUP): \n",
    "中医药的适用及禁忌范围内相关特定人群。例子：孕妇、经期妇女、儿童、青春期少女\n",
    "### 药品分组(DRUG_GROUP): \n",
    "具有某一类共同属性的药品类统称概念，非某项具体药品名。例子：止咳药、退烧药\n",
    "### 药物剂型(DRUG_DOSAGE): \n",
    "药物在供给临床使用前，均必须制成适合于医疗和预防应用的形式，成为药物剂型。例子：浓缩丸、水蜜丸、糖衣片\n",
    "### 药物性味(DRUG_TASTE): \n",
    "药品的性质和气味。例子：味甘、酸涩、气凉\n",
    "### 中药功效(DRUG_EFFICACY): \n",
    "药品的主治功能和效果的统称，例子：滋阴补肾、去瘀生新、活血化瘀"
   ]
  },
  {
   "cell_type": "markdown",
   "metadata": {},
   "source": [
    "## 提交方式\n",
    "\n",
    "## 评估方式\n",
    "本次挑战是标准的NER任务，以strict-F1作为衡量标准。"
   ]
  },
  {
   "cell_type": "markdown",
   "metadata": {},
   "source": [
    "# 解题思路\n",
    "## mine\n",
    "\n",
    "## 大佬\n"
   ]
  },
  {
   "cell_type": "markdown",
   "metadata": {},
   "source": [
    "# lib导入"
   ]
  },
  {
   "cell_type": "code",
   "execution_count": 2,
   "metadata": {},
   "outputs": [],
   "source": [
    "# export\n",
    "import os\n",
    "from code.config import args \n",
    "from loguru import logger\n",
    "import numpy as np\n",
    "import pandas as pd\n",
    "pd.set_option('display.max_rows', 200)\n",
    "pd.set_option('display.max_columns', 100)  # 设置显示数据的最大列数，防止出现省略号…，导致数据显示不全\n",
    "pd.set_option('expand_frame_repr', False)  # 当列太多时不自动换行\n",
    "\n",
    "from sklearn.metrics import classification_report, accuracy_score\n",
    "# from mylib.utils.pickle import PickleWrapper"
   ]
  },
  {
   "cell_type": "code",
   "execution_count": 3,
   "metadata": {},
   "outputs": [],
   "source": [
    "import sys\n",
    "sys.path.append('..')\n",
    "import seaborn as sns\n",
    "sns.set(font='Arial Unicode MS')  # 解决Seaborn中文显示问题\n",
    "from mylib.data.processing.eda import describe"
   ]
  },
  {
   "cell_type": "markdown",
   "metadata": {},
   "source": [
    "# EDA"
   ]
  },
  {
   "cell_type": "code",
   "execution_count": 4,
   "metadata": {},
   "outputs": [
    {
     "name": "stdout",
     "output_type": "stream",
     "text": [
      "round1_test.zip  round1_train.zip  test  train\tUntitled.ipynb\r\n"
     ]
    }
   ],
   "source": [
    "!ls {args.DATA_DIR}"
   ]
  },
  {
   "cell_type": "markdown",
   "metadata": {},
   "source": [
    "## trainset"
   ]
  },
  {
   "cell_type": "markdown",
   "metadata": {},
   "source": [
    "### 统计说明书样本的长度"
   ]
  },
  {
   "cell_type": "code",
   "execution_count": 5,
   "metadata": {},
   "outputs": [
    {
     "data": {
      "text/plain": [
       "'../../../mydata/data_origin/cndrug_ner/train/'"
      ]
     },
     "execution_count": 5,
     "metadata": {},
     "output_type": "execute_result"
    }
   ],
   "source": [
    "dir_ = os.path.join(args.DATA_DIR, 'train/')\n",
    "dir_"
   ]
  },
  {
   "cell_type": "code",
   "execution_count": 6,
   "metadata": {},
   "outputs": [],
   "source": [
    "content_length = []\n",
    "for file in os.listdir(dir_):\n",
    "    if not file.endswith(\".txt\"):  continue\n",
    "    with open(dir_+file, \"r\", encoding=\"utf-8\") as f:\n",
    "        content_str = f.read()\n",
    "        content_length.append(len(content_str))"
   ]
  },
  {
   "cell_type": "code",
   "execution_count": 7,
   "metadata": {},
   "outputs": [
    {
     "data": {
      "text/plain": [
       "(1000, 17, 814.2499999999998, 3036)"
      ]
     },
     "execution_count": 7,
     "metadata": {},
     "output_type": "execute_result"
    }
   ],
   "source": [
    "len(content_length), min(content_length), np.percentile(content_length,95), max(content_length)"
   ]
  },
  {
   "cell_type": "code",
   "execution_count": 8,
   "metadata": {},
   "outputs": [
    {
     "data": {
      "text/plain": [
       "<matplotlib.axes._subplots.AxesSubplot at 0x7f0bab65d3a0>"
      ]
     },
     "execution_count": 8,
     "metadata": {},
     "output_type": "execute_result"
    },
    {
     "name": "stderr",
     "output_type": "stream",
     "text": [
      "findfont: Font family ['Arial Unicode MS'] not found. Falling back to DejaVu Sans.\n",
      "findfont: Font family ['Arial Unicode MS'] not found. Falling back to DejaVu Sans.\n"
     ]
    },
    {
     "data": {
      "image/png": "[encoded data removed]",
      "text/plain": [
       "<Figure size 432x288 with 1 Axes>"
      ]
     },
     "metadata": {},
     "output_type": "display_data"
    }
   ],
   "source": [
    "pd.Series(content_length).plot(kind='hist', bins=30)"
   ]
  },
  {
   "cell_type": "markdown",
   "metadata": {},
   "source": [
    "### 标签分布"
   ]
  },
  {
   "cell_type": "code",
   "execution_count": 10,
   "metadata": {},
   "outputs": [],
   "source": [
    "df = pd.DataFrame()\n",
    "for file in os.listdir(dir_):\n",
    "    if not file.endswith(\".ann\"):  \n",
    "        pass\n",
    "    else:\n",
    "        dta = pd.read_csv(dir_+file, sep='\\t', names=['id','entityInfo','entity'])\n",
    "        dta['category'] = dta['entityInfo'].apply(lambda x:x.split(' ')[0])\n",
    "        dta['pe1'] = dta['entityInfo'].apply(lambda x:x.split(' ')[1]).astype(int)\n",
    "        dta['pe2'] = dta['entityInfo'].apply(lambda x:x.split(' ')[2]).astype(int)\n",
    "        dta = dta[['id','entity','category','pe1','pe2']]       \n",
    "        df = pd.concat([df,dta])"
   ]
  },
  {
   "cell_type": "code",
   "execution_count": 12,
   "metadata": {},
   "outputs": [
    {
     "data": {
      "text/html": [
       "<div>\n",
       "<style scoped>\n",
       "    .dataframe tbody tr th:only-of-type {\n",
       "        vertical-align: middle;\n",
       "    }\n",
       "\n",
       "    .dataframe tbody tr th {\n",
       "        vertical-align: top;\n",
       "    }\n",
       "\n",
       "    .dataframe thead th {\n",
       "        text-align: right;\n",
       "    }\n",
       "</style>\n",
       "<table border=\"1\" class=\"dataframe\">\n",
       "  <thead>\n",
       "    <tr style=\"text-align: right;\">\n",
       "      <th></th>\n",
       "      <th>id</th>\n",
       "      <th>entity</th>\n",
       "      <th>category</th>\n",
       "      <th>pe1</th>\n",
       "      <th>pe2</th>\n",
       "    </tr>\n",
       "  </thead>\n",
       "  <tbody>\n",
       "    <tr>\n",
       "      <th>0</th>\n",
       "      <td>T1</td>\n",
       "      <td>风寒骨痛</td>\n",
       "      <td>DRUG_EFFICACY</td>\n",
       "      <td>166</td>\n",
       "      <td>170</td>\n",
       "    </tr>\n",
       "    <tr>\n",
       "      <th>1</th>\n",
       "      <td>T2</td>\n",
       "      <td>跌打损伤</td>\n",
       "      <td>DRUG_EFFICACY</td>\n",
       "      <td>171</td>\n",
       "      <td>175</td>\n",
       "    </tr>\n",
       "  </tbody>\n",
       "</table>\n",
       "</div>"
      ],
      "text/plain": [
       "   id entity       category  pe1  pe2\n",
       "0  T1   风寒骨痛  DRUG_EFFICACY  166  170\n",
       "1  T2   跌打损伤  DRUG_EFFICACY  171  175"
      ]
     },
     "execution_count": 12,
     "metadata": {},
     "output_type": "execute_result"
    }
   ],
   "source": [
    "df.head(2)"
   ]
  },
  {
   "cell_type": "code",
   "execution_count": 11,
   "metadata": {},
   "outputs": [
    {
     "data": {
      "text/html": [
       "<div>\n",
       "<style scoped>\n",
       "    .dataframe tbody tr th:only-of-type {\n",
       "        vertical-align: middle;\n",
       "    }\n",
       "\n",
       "    .dataframe tbody tr th {\n",
       "        vertical-align: top;\n",
       "    }\n",
       "\n",
       "    .dataframe thead th {\n",
       "        text-align: right;\n",
       "    }\n",
       "</style>\n",
       "<table border=\"1\" class=\"dataframe\">\n",
       "  <thead>\n",
       "    <tr style=\"text-align: right;\">\n",
       "      <th></th>\n",
       "      <th>category</th>\n",
       "      <th>id</th>\n",
       "    </tr>\n",
       "  </thead>\n",
       "  <tbody>\n",
       "    <tr>\n",
       "      <th>11</th>\n",
       "      <td>SYMPTOM</td>\n",
       "      <td>6090</td>\n",
       "    </tr>\n",
       "    <tr>\n",
       "      <th>4</th>\n",
       "      <td>DRUG_EFFICACY</td>\n",
       "      <td>3257</td>\n",
       "    </tr>\n",
       "    <tr>\n",
       "      <th>10</th>\n",
       "      <td>PERSON_GROUP</td>\n",
       "      <td>1718</td>\n",
       "    </tr>\n",
       "    <tr>\n",
       "      <th>12</th>\n",
       "      <td>SYNDROME</td>\n",
       "      <td>1206</td>\n",
       "    </tr>\n",
       "    <tr>\n",
       "      <th>7</th>\n",
       "      <td>DRUG_TASTE</td>\n",
       "      <td>1133</td>\n",
       "    </tr>\n",
       "    <tr>\n",
       "      <th>0</th>\n",
       "      <td>DISEASE</td>\n",
       "      <td>1104</td>\n",
       "    </tr>\n",
       "    <tr>\n",
       "      <th>3</th>\n",
       "      <td>DRUG_DOSAGE</td>\n",
       "      <td>1016</td>\n",
       "    </tr>\n",
       "    <tr>\n",
       "      <th>6</th>\n",
       "      <td>DRUG_INGREDIENT</td>\n",
       "      <td>728</td>\n",
       "    </tr>\n",
       "    <tr>\n",
       "      <th>9</th>\n",
       "      <td>FOOD_GROUP</td>\n",
       "      <td>641</td>\n",
       "    </tr>\n",
       "    <tr>\n",
       "      <th>1</th>\n",
       "      <td>DISEASE_GROUP</td>\n",
       "      <td>623</td>\n",
       "    </tr>\n",
       "    <tr>\n",
       "      <th>2</th>\n",
       "      <td>DRUG</td>\n",
       "      <td>156</td>\n",
       "    </tr>\n",
       "    <tr>\n",
       "      <th>8</th>\n",
       "      <td>FOOD</td>\n",
       "      <td>71</td>\n",
       "    </tr>\n",
       "    <tr>\n",
       "      <th>5</th>\n",
       "      <td>DRUG_GROUP</td>\n",
       "      <td>14</td>\n",
       "    </tr>\n",
       "  </tbody>\n",
       "</table>\n",
       "</div>"
      ],
      "text/plain": [
       "           category    id\n",
       "11          SYMPTOM  6090\n",
       "4     DRUG_EFFICACY  3257\n",
       "10     PERSON_GROUP  1718\n",
       "12         SYNDROME  1206\n",
       "7        DRUG_TASTE  1133\n",
       "0           DISEASE  1104\n",
       "3       DRUG_DOSAGE  1016\n",
       "6   DRUG_INGREDIENT   728\n",
       "9        FOOD_GROUP   641\n",
       "1     DISEASE_GROUP   623\n",
       "2              DRUG   156\n",
       "8              FOOD    71\n",
       "5        DRUG_GROUP    14"
      ]
     },
     "execution_count": 11,
     "metadata": {},
     "output_type": "execute_result"
    }
   ],
   "source": [
    "df.groupby(\"category\").count().reset_index()[['category','id']].sort_values(by='id',ascending=False)"
   ]
  },
  {
   "cell_type": "code",
   "execution_count": 13,
   "metadata": {},
   "outputs": [
    {
     "data": {
      "text/html": [
       "<div>\n",
       "<style scoped>\n",
       "    .dataframe tbody tr th:only-of-type {\n",
       "        vertical-align: middle;\n",
       "    }\n",
       "\n",
       "    .dataframe tbody tr th {\n",
       "        vertical-align: top;\n",
       "    }\n",
       "\n",
       "    .dataframe thead th {\n",
       "        text-align: right;\n",
       "    }\n",
       "</style>\n",
       "<table border=\"1\" class=\"dataframe\">\n",
       "  <thead>\n",
       "    <tr style=\"text-align: right;\">\n",
       "      <th></th>\n",
       "      <th>entity</th>\n",
       "      <th>id</th>\n",
       "    </tr>\n",
       "  </thead>\n",
       "  <tbody>\n",
       "    <tr>\n",
       "      <th>780</th>\n",
       "      <td>孕妇</td>\n",
       "      <td>493</td>\n",
       "    </tr>\n",
       "    <tr>\n",
       "      <th>252</th>\n",
       "      <td>儿童</td>\n",
       "      <td>365</td>\n",
       "    </tr>\n",
       "    <tr>\n",
       "      <th>1311</th>\n",
       "      <td>月经不调</td>\n",
       "      <td>331</td>\n",
       "    </tr>\n",
       "    <tr>\n",
       "      <th>3087</th>\n",
       "      <td>过敏体质者</td>\n",
       "      <td>232</td>\n",
       "    </tr>\n",
       "    <tr>\n",
       "      <th>1853</th>\n",
       "      <td>生冷</td>\n",
       "      <td>224</td>\n",
       "    </tr>\n",
       "    <tr>\n",
       "      <th>...</th>\n",
       "      <td>...</td>\n",
       "      <td>...</td>\n",
       "    </tr>\n",
       "    <tr>\n",
       "      <th>1511</th>\n",
       "      <td>活动力差</td>\n",
       "      <td>1</td>\n",
       "    </tr>\n",
       "    <tr>\n",
       "      <th>1513</th>\n",
       "      <td>活络消肿</td>\n",
       "      <td>1</td>\n",
       "    </tr>\n",
       "    <tr>\n",
       "      <th>1516</th>\n",
       "      <td>活血养血</td>\n",
       "      <td>1</td>\n",
       "    </tr>\n",
       "    <tr>\n",
       "      <th>1520</th>\n",
       "      <td>活血化阏</td>\n",
       "      <td>1</td>\n",
       "    </tr>\n",
       "    <tr>\n",
       "      <th>3416</th>\n",
       "      <td>龟甲</td>\n",
       "      <td>1</td>\n",
       "    </tr>\n",
       "  </tbody>\n",
       "</table>\n",
       "<p>3417 rows × 2 columns</p>\n",
       "</div>"
      ],
      "text/plain": [
       "     entity   id\n",
       "780      孕妇  493\n",
       "252      儿童  365\n",
       "1311   月经不调  331\n",
       "3087  过敏体质者  232\n",
       "1853     生冷  224\n",
       "...     ...  ...\n",
       "1511   活动力差    1\n",
       "1513   活络消肿    1\n",
       "1516   活血养血    1\n",
       "1520   活血化阏    1\n",
       "3416     龟甲    1\n",
       "\n",
       "[3417 rows x 2 columns]"
      ]
     },
     "execution_count": 13,
     "metadata": {},
     "output_type": "execute_result"
    }
   ],
   "source": [
    "df.groupby(\"entity\").count().reset_index()[['entity','id']].sort_values(by='id',ascending=False)"
   ]
  },
  {
   "cell_type": "markdown",
   "metadata": {},
   "source": [
    "## testset"
   ]
  },
  {
   "cell_type": "code",
   "execution_count": 14,
   "metadata": {},
   "outputs": [],
   "source": [
    "test_dir = args.DATA_DIR+'test/'"
   ]
  },
  {
   "cell_type": "code",
   "execution_count": 16,
   "metadata": {},
   "outputs": [],
   "source": [
    "content_length = []\n",
    "for file in os.listdir(test_dir):\n",
    "    if not file.endswith(\".txt\"):  \n",
    "        pass\n",
    "    else:\n",
    "        with open(test_dir+file, \"r\", encoding=\"utf-8\") as f:\n",
    "            content_str = f.read()\n",
    "            content_length.append(len(content_str))"
   ]
  },
  {
   "cell_type": "code",
   "execution_count": 19,
   "metadata": {},
   "outputs": [],
   "source": [
    "content_length = pd.Series(content_length)"
   ]
  },
  {
   "cell_type": "code",
   "execution_count": 20,
   "metadata": {},
   "outputs": [
    {
     "data": {
      "text/plain": [
       "(500, (65,))"
      ]
     },
     "execution_count": 20,
     "metadata": {},
     "output_type": "execute_result"
    }
   ],
   "source": [
    "len(content_length), content_length[content_length>500].shape"
   ]
  },
  {
   "cell_type": "code",
   "execution_count": 23,
   "metadata": {},
   "outputs": [
    {
     "data": {
      "text/plain": [
       "<matplotlib.axes._subplots.AxesSubplot at 0x7f0ba84cb400>"
      ]
     },
     "execution_count": 23,
     "metadata": {},
     "output_type": "execute_result"
    },
    {
     "data": {
      "image/png": "[encoded data removed]",
      "text/plain": [
       "<Figure size 432x288 with 1 Axes>"
      ]
     },
     "metadata": {},
     "output_type": "display_data"
    }
   ],
   "source": [
    "content_length.plot(kind='hist', bins=30)"
   ]
  },
  {
   "cell_type": "code",
   "execution_count": null,
   "metadata": {},
   "outputs": [],
   "source": []
  }
 ],
 "metadata": {
  "kernelspec": {
   "display_name": "Python 3",
   "language": "python",
   "name": "python3"
  },
  "language_info": {
   "codemirror_mode": {
    "name": "ipython",
    "version": 3
   },
   "file_extension": ".py",
   "mimetype": "text/x-python",
   "name": "python",
   "nbconvert_exporter": "python",
   "pygments_lexer": "ipython3",
   "version": "3.8.3"
  },
  "toc": {
   "base_numbering": 1,
   "nav_menu": {},
   "number_sections": true,
   "sideBar": true,
   "skip_h1_title": false,
   "title_cell": "Table of Contents",
   "title_sidebar": "Contents",
   "toc_cell": false,
   "toc_position": {
    "height": "calc(100% - 180px)",
    "left": "10px",
    "top": "150px",
    "width": "248.6px"
   },
   "toc_section_display": true,
   "toc_window_display": true
  },
  "varInspector": {
   "cols": {
    "lenName": 16,
    "lenType": 16,
    "lenVar": 40
   },
   "kernels_config": {
    "python": {
     "delete_cmd_postfix": "",
     "delete_cmd_prefix": "del ",
     "library": "var_list.py",
     "varRefreshCmd": "print(var_dic_list())"
    },
    "r": {
     "delete_cmd_postfix": ") ",
     "delete_cmd_prefix": "rm(",
     "library": "var_list.r",
     "varRefreshCmd": "cat(var_dic_list()) "
    }
   },
   "types_to_exclude": [
    "module",
    "function",
    "builtin_function_or_method",
    "instance",
    "_Feature"
   ],
   "window_display": false
  }
 },
 "nbformat": 4,
 "nbformat_minor": 2
}
