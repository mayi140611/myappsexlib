{
 "cells": [
  {
   "cell_type": "code",
   "execution_count": 4,
   "metadata": {},
   "outputs": [],
   "source": [
    "from code.config import args"
   ]
  },
  {
   "cell_type": "markdown",
   "metadata": {},
   "source": [
    "# labels.txt"
   ]
  },
  {
   "cell_type": "code",
   "execution_count": 2,
   "metadata": {},
   "outputs": [
    {
     "data": {
      "text/plain": [
       "13"
      ]
     },
     "execution_count": 2,
     "metadata": {},
     "output_type": "execute_result"
    }
   ],
   "source": [
    "labels = 'DRUG DRUG_INGREDIENT DISEASE SYMPTOM SYNDROME DISEASE_GROUP FOOD FOOD_GROUP PERSON_GROUP DRUG_GROUP DRUG_DOSAGE DRUG_TASTE DRUG_EFFICACY'.split()\n",
    "len(labels)"
   ]
  },
  {
   "cell_type": "code",
   "execution_count": 5,
   "metadata": {},
   "outputs": [
    {
     "data": {
      "text/plain": [
       "'../../../mydata/data_gen/cndrug_ner/torch_ner_data/labels.txt'"
      ]
     },
     "execution_count": 5,
     "metadata": {},
     "output_type": "execute_result"
    }
   ],
   "source": [
    "f'{args.DATA_GEN}torch_ner_data/labels.txt'"
   ]
  },
  {
   "cell_type": "code",
   "execution_count": 6,
   "metadata": {},
   "outputs": [],
   "source": [
    "!mkdir ../../../mydata/data_gen/cndrug_ner/torch_ner_data/"
   ]
  },
  {
   "cell_type": "code",
   "execution_count": 8,
   "metadata": {},
   "outputs": [],
   "source": [
    "with open(f'{args.DATA_GEN}torch_ner_data/labels.txt', 'w', encoding='utf8') as f:\n",
    "    for label in labels:\n",
    "        f.write(f'B-{label}\\n')\n",
    "        f.write(f'I-{label}\\n')"
   ]
  },
  {
   "cell_type": "markdown",
   "metadata": {},
   "source": [
    "# gen testset"
   ]
  },
  {
   "cell_type": "code",
   "execution_count": null,
   "metadata": {},
   "outputs": [],
   "source": [
    "#设置样本长度\n",
    "text_length = 250\n",
    "def from_ann2dic(r_ann_path, r_txt_path, w_path, w_file):\n",
    "    \"\"\"\n",
    "    r_ann_path: 源ann 文件path\n",
    "    r_txt_path\n",
    "    w_path：目标目录\n",
    "    w_file：文件名称\n",
    "    \"\"\"\n",
    "    q_dic = {}\n",
    "    with codecs.open(r_ann_path, \"r\", encoding=\"utf-8\") as f:\n",
    "        for line in f:\n",
    "            line = line.strip(\"\\n\\r\")\n",
    "            line_arr = line.split('\\t')\n",
    "            entityinfo = line_arr[1]\n",
    "            entityinfo = entityinfo.split(' ')\n",
    "            cls = entityinfo[0]\n",
    "            start_index = int(entityinfo[1])\n",
    "            end_index = int(entityinfo[2])\n",
    "            length = end_index - start_index\n",
    "            for r in range(length):\n",
    "                if r == 0:\n",
    "                    q_dic[start_index] = (\"B-%s\" % cls)\n",
    "                else:\n",
    "                    q_dic[start_index + r] = (\"I-%s\" % cls)\n",
    "\n",
    "    with codecs.open(r_txt_path, \"r\", encoding=\"utf-8\") as f:\n",
    "        content_str = f.read()\n",
    "        \n",
    "    \n",
    "    cut_text_list, cut_index_list = cut_test_set([content_str],text_length)"
   ]
  }
 ],
 "metadata": {
  "kernelspec": {
   "display_name": "Python 3",
   "language": "python",
   "name": "python3"
  },
  "language_info": {
   "codemirror_mode": {
    "name": "ipython",
    "version": 3
   },
   "file_extension": ".py",
   "mimetype": "text/x-python",
   "name": "python",
   "nbconvert_exporter": "python",
   "pygments_lexer": "ipython3",
   "version": "3.8.3"
  },
  "toc": {
   "base_numbering": 1,
   "nav_menu": {},
   "number_sections": true,
   "sideBar": true,
   "skip_h1_title": false,
   "title_cell": "Table of Contents",
   "title_sidebar": "Contents",
   "toc_cell": false,
   "toc_position": {},
   "toc_section_display": true,
   "toc_window_display": true
  }
 },
 "nbformat": 4,
 "nbformat_minor": 4
}
