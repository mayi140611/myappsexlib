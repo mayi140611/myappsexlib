{
 "cells": [
  {
   "cell_type": "code",
   "execution_count": 3,
   "metadata": {},
   "outputs": [],
   "source": [
    "# default_exp algo.dimension_reduction\n",
    "\n",
    "%reload_ext autoreload\n",
    "%autoreload 2"
   ]
  },
  {
   "cell_type": "markdown",
   "metadata": {},
   "source": [
    "# 降维\n",
    "https://www.jianshu.com/p/fd1ad6a514ee\n",
    "\n"
   ]
  },
  {
   "cell_type": "markdown",
   "metadata": {},
   "source": [
    "# PCA(主成分分析, Principle component analysis)\n",
    "动机: 特征之间总有一定的相关性，造成特征冗余"
   ]
  },
  {
   "cell_type": "code",
   "execution_count": null,
   "metadata": {},
   "outputs": [],
   "source": [
    "假设输入数据有X个样本，每个样本有n个特征\n",
    "\n",
    "\n"
   ]
  },
  {
   "cell_type": "markdown",
   "metadata": {},
   "source": [
    "# t-分布式随机邻域嵌入（t-SNE）\n",
    "到目前为止，我们已经了解到PCA对于具有大量变量的数据集的降维和可视化是一个很好的选择。但是，如果我们可以使用更高级的东西呢？如果我们可以轻松地以非线性方式搜索呢？t-SNE就是这样一种技术。我们可以使用两种方法来映射数据点：\n",
    "\n",
    "    局部方法：它们将流形上的附近点映射到低维表示中的附近点。\n",
    "    全局方法：他们试图在所有尺度上保持几何，即将流形上的附近点映射到低维表示中的附近点以及将远处的点映射到远点上。\n",
    "    t-SNE是能够同时保留数据的本地和全局结构的少数算法之一\n",
    "    计算了高维空间和低维空间中点的概率相似度\n",
    "    将数据点之间的高维欧氏距离被转换为表示相似性的条件概率："
   ]
  },
  {
   "cell_type": "code",
   "execution_count": 1,
   "metadata": {},
   "outputs": [],
   "source": [
    "from sklearn.manifold import TSNE"
   ]
  },
  {
   "cell_type": "code",
   "execution_count": null,
   "metadata": {},
   "outputs": [],
   "source": [
    "# 'n_components' should be inferior to(小于) 4 for the barnes_hut algorithm as it relies on quad-tree or oct-tree.\n",
    "tsne = TSNE(n_components=3, n_iter=300).fit_transform(dffeat_cols.values)"
   ]
  },
  {
   "cell_type": "code",
   "execution_count": null,
   "metadata": {},
   "outputs": [],
   "source": []
  },
  {
   "cell_type": "markdown",
   "metadata": {},
   "source": [
    "# UMAP(Uniform Manifold Approximation and Projection for Dimension Reduction\n",
    "降维的一致流形近似和投影\n",
    "\n",
    "https://umap-learn.readthedocs.io/en/latest/\n",
    "\n",
    "均匀流形近似和投影（UMAP）是一种降维技术，类似于t-SNE可以用于可视化，但也可以用于一般的非线性降维。 该算法基于关于数据的三个假设\n",
    "\n",
    "数据均匀分布在黎曼流形(Riemannian manifold)上；\n",
    "\n",
    "黎曼度量(Riemannian metric)是局部恒定的（或可以这样近似）；\n",
    "\n",
    "The manifold is locally connected。\n",
    "\n",
    "根据这些假设，可以对具有模糊拓扑结构的流形进行建模。 通过搜索具有最接近的等效模糊拓扑结构的数据的低维投影来找到嵌入。\n",
    "\n",
    "The details for the underlying mathematics can be found in our paper on ArXiv:\n",
    "\n",
    "\n",
    "\n",
    "t-SNE在大型数据集上工作表现很好，但它也有它的局限性，例如丢失大型的信息，计算时间慢，无法有意义地表示非常大的数据集。统一流形近似和投影（UMAP）是一种降维技术，与t-SNE相比，可以保留尽可能多的本地数据结构和全局数据结构，并且运行时间更短。听起来很有趣，对吧。\n",
    "\n",
    "UMAP的一些主要优势是：\n",
    "\n",
    "    它可以毫不费力地处理大型数据集和高维数据\n",
    "    它结合了可视化的强大功能和减少数据维度的能力\n",
    "    除了保留本地结构外，它还保留了数据的全局结构。UMAP将流形上的附近点映射到低维表示中的附近点，并对远点进行相同的映射\n",
    "\n",
    "该方法使用k-近邻的概念，并使用随机梯度下降来优化结果。它首先计算高维空间中的点之间的距离，将它们投影到低维空间，并计算该低维空间中的点之间的距离。然后，它使用随机梯度下降来最小化这些距离之间的差异。\n",
    "\n"
   ]
  },
  {
   "cell_type": "markdown",
   "metadata": {},
   "source": [
    "### 论文"
   ]
  },
  {
   "cell_type": "code",
   "execution_count": 2,
   "metadata": {},
   "outputs": [
    {
     "data": {
      "text/html": [
       "\n",
       "        <iframe\n",
       "            width=\"1000\"\n",
       "            height=\"450\"\n",
       "            src=\"https://arxiv.org/pdf/1802.03426\"\n",
       "            frameborder=\"0\"\n",
       "            allowfullscreen\n",
       "        ></iframe>\n",
       "        "
      ],
      "text/plain": [
       "<IPython.lib.display.IFrame at 0x1229559b0>"
      ]
     },
     "execution_count": 2,
     "metadata": {},
     "output_type": "execute_result"
    }
   ],
   "source": [
    "from IPython.display import IFrame\n",
    "IFrame('https://arxiv.org/pdf/1802.03426', width=1000, height=450)"
   ]
  },
  {
   "cell_type": "markdown",
   "metadata": {},
   "source": [
    "### install"
   ]
  },
  {
   "cell_type": "code",
   "execution_count": null,
   "metadata": {},
   "outputs": [],
   "source": [
    "# !conda install -c conda-forge umap-learn\n",
    "# or\n",
    "!pip install umap-learn # --ignore-installed llvmlite"
   ]
  },
  {
   "cell_type": "code",
   "execution_count": null,
   "metadata": {},
   "outputs": [],
   "source": [
    "import umap\n",
    "\n",
    "umap_data = umap.UMAP(n_neighbors=5, min_dist=0.3, n_components=3).fit_transform(dffeat_cols.values)"
   ]
  },
  {
   "cell_type": "code",
   "execution_count": null,
   "metadata": {},
   "outputs": [],
   "source": []
  },
  {
   "cell_type": "code",
   "execution_count": null,
   "metadata": {},
   "outputs": [],
   "source": []
  },
  {
   "cell_type": "code",
   "execution_count": null,
   "metadata": {},
   "outputs": [],
   "source": []
  },
  {
   "cell_type": "code",
   "execution_count": null,
   "metadata": {},
   "outputs": [],
   "source": []
  },
  {
   "cell_type": "code",
   "execution_count": null,
   "metadata": {},
   "outputs": [],
   "source": []
  },
  {
   "cell_type": "code",
   "execution_count": null,
   "metadata": {},
   "outputs": [],
   "source": []
  }
 ],
 "metadata": {
  "kernelspec": {
   "display_name": "Python 3",
   "language": "python",
   "name": "python3"
  },
  "language_info": {
   "codemirror_mode": {
    "name": "ipython",
    "version": 3
   },
   "file_extension": ".py",
   "mimetype": "text/x-python",
   "name": "python",
   "nbconvert_exporter": "python",
   "pygments_lexer": "ipython3",
   "version": "3.7.3"
  },
  "toc": {
   "base_numbering": 1,
   "nav_menu": {},
   "number_sections": true,
   "sideBar": true,
   "skip_h1_title": false,
   "title_cell": "Table of Contents",
   "title_sidebar": "Contents",
   "toc_cell": false,
   "toc_position": {},
   "toc_section_display": true,
   "toc_window_display": true
  },
  "varInspector": {
   "cols": {
    "lenName": 16,
    "lenType": 16,
    "lenVar": 40
   },
   "kernels_config": {
    "python": {
     "delete_cmd_postfix": "",
     "delete_cmd_prefix": "del ",
     "library": "var_list.py",
     "varRefreshCmd": "print(var_dic_list())"
    },
    "r": {
     "delete_cmd_postfix": ") ",
     "delete_cmd_prefix": "rm(",
     "library": "var_list.r",
     "varRefreshCmd": "cat(var_dic_list()) "
    }
   },
   "types_to_exclude": [
    "module",
    "function",
    "builtin_function_or_method",
    "instance",
    "_Feature"
   ],
   "window_display": false
  }
 },
 "nbformat": 4,
 "nbformat_minor": 2
}
