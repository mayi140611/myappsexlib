{
 "cells": [
  {
   "cell_type": "markdown",
   "metadata": {},
   "source": [
    "# 赛题回顾\n",
    "## 赛题任务\n",
    "根据一组用户91天的广告点击日志，来预测用户的性别和年龄段。\n",
    "## 数据\n",
    "给的数据包含3张表:\n",
    "* click_log: 用户广告点击日志\n",
    "* user: 用户属性\n",
    "* ad: 广告属性\n",
    "## 难点\n",
    "整个数据的feature很简答\n",
    "\n",
    "难点在于数据量很大，user: trainset 90w,testset100w;\n",
    "\n",
    "还有就是一些features的数据缺失严重。\n",
    "## 使用的模型及成绩\n",
    "### GBDT\n",
    "lgb+5fold+统计特征: 1.15(0.85和0.3)\n",
    "lgb+5fold+统计特征+target encoding: 1.25(线下gender0.905，age0.33)\n",
    "lgb+5fold+统计特征+creativeId_w2v 1.3184(线下gender0.925，age0.0.3876)\n",
    "### NN\n",
    "单creativeid序列+HAN: 1.288446(线下0.94+0.44, 线上1.288446 age0.369436 gender0.919)\n",
    "\n",
    "线上线下差距 这么大的 原因: 感觉是线下的验证集太小了，90w user，只选了其中的2w作为验证集\n",
    "\n",
    "transformer form jq: 1.342(0.936的0.404)\n",
    "\n",
    "### 融合\n",
    "融合也是最简单的分数加权: lgb+transformer, 最终的成绩在transformer的基础上提升了0.004\n",
    "\n",
    "## 最终排名 322"
   ]
  },
  {
   "cell_type": "markdown",
   "metadata": {},
   "source": [
    "# 收获\n",
    "## FE\n",
    "### 使用w2v特征进行训练\n",
    "### n阶特征的优雅+快速构造方法\n",
    "### COUNT/TFIDF 稀疏特征\n",
    "## model\n",
    "### lgb+5折"
   ]
  },
  {
   "cell_type": "markdown",
   "metadata": {},
   "source": [
    "## 如果重头来一次我会怎么做\n",
    "第一次打这样的比赛，没见过世面，当然会有很多的不足和遗憾！\n",
    "### 先用nn\n",
    "nn的好处是基本不需要特征工程，难点在调参！\n",
    "#### 首先不要把问题考虑的太复杂，先迅速的出来一个baseline\n",
    "一看到这么大的数据量，肯定先尝试nn，看看效果，然后尝试各种结构的nn和调参，然后就没有然后了。。。\n",
    "### GBDT\n",
    "如果还有时间，用最少的特征，gbdt有一个baseline。然后不断的累加特征。(还是不要一下就造几百个特征，这样的话 后续有点不知所措）\n",
    "\n",
    "尝试blending和stacking"
   ]
  },
  {
   "cell_type": "code",
   "execution_count": null,
   "metadata": {},
   "outputs": [],
   "source": []
  }
 ],
 "metadata": {
  "kernelspec": {
   "display_name": "Python 3",
   "language": "python",
   "name": "python3"
  },
  "language_info": {
   "codemirror_mode": {
    "name": "ipython",
    "version": 3
   },
   "file_extension": ".py",
   "mimetype": "text/x-python",
   "name": "python",
   "nbconvert_exporter": "python",
   "pygments_lexer": "ipython3",
   "version": "3.7.3"
  },
  "toc": {
   "base_numbering": 1,
   "nav_menu": {},
   "number_sections": true,
   "sideBar": true,
   "skip_h1_title": false,
   "title_cell": "Table of Contents",
   "title_sidebar": "Contents",
   "toc_cell": false,
   "toc_position": {},
   "toc_section_display": true,
   "toc_window_display": true
  },
  "varInspector": {
   "cols": {
    "lenName": 16,
    "lenType": 16,
    "lenVar": 40
   },
   "kernels_config": {
    "python": {
     "delete_cmd_postfix": "",
     "delete_cmd_prefix": "del ",
     "library": "var_list.py",
     "varRefreshCmd": "print(var_dic_list())"
    },
    "r": {
     "delete_cmd_postfix": ") ",
     "delete_cmd_prefix": "rm(",
     "library": "var_list.r",
     "varRefreshCmd": "cat(var_dic_list()) "
    }
   },
   "types_to_exclude": [
    "module",
    "function",
    "builtin_function_or_method",
    "instance",
    "_Feature"
   ],
   "window_display": false
  }
 },
 "nbformat": 4,
 "nbformat_minor": 2
}
