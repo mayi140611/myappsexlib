{
 "cells": [
  {
   "cell_type": "code",
   "execution_count": 1,
   "metadata": {
    "colab": {},
    "colab_type": "code",
    "executionInfo": {
     "elapsed": 4831,
     "status": "ok",
     "timestamp": 1596098937999,
     "user": {
      "displayName": "ian luo",
      "photoUrl": "",
      "userId": "09210897906652852090"
     },
     "user_tz": -480
    },
    "id": "EAFDFeICW8Tq"
   },
   "outputs": [],
   "source": [
    "import pandas as pd\n",
    "import numpy as np\n",
    "import torch\n",
    "import os\n",
    "from tqdm import tqdm\n",
    "from torchtext import data"
   ]
  },
  {
   "cell_type": "code",
   "execution_count": null,
   "metadata": {
    "colab": {
     "base_uri": "https://localhost:8080/",
     "height": 34
    },
    "colab_type": "code",
    "executionInfo": {
     "elapsed": 5451,
     "status": "ok",
     "timestamp": 1595989245690,
     "user": {
      "displayName": "ian luo",
      "photoUrl": "",
      "userId": "09210897906652852090"
     },
     "user_tz": -480
    },
    "id": "smc2P7-PXDE7",
    "outputId": "66cd1cb1-12f7-49e4-9a44-41dc3ce4aecf"
   },
   "outputs": [
    {
     "name": "stdout",
     "output_type": "stream",
     "text": [
      "/content\n"
     ]
    }
   ],
   "source": [
    "!pwd"
   ]
  },
  {
   "cell_type": "code",
   "execution_count": 2,
   "metadata": {
    "colab": {},
    "colab_type": "code",
    "executionInfo": {
     "elapsed": 3323,
     "status": "ok",
     "timestamp": 1596098946521,
     "user": {
      "displayName": "ian luo",
      "photoUrl": "",
      "userId": "09210897906652852090"
     },
     "user_tz": -480
    },
    "id": "GVg4g2rYXPiY"
   },
   "outputs": [],
   "source": [
    "data_dir = 'drive/My Drive/tx/'\n",
    "\n",
    "# texts = pd.read_pickle(os.path.join(data_dir, 'user_creative_ids.pkl'))\n",
    "labels = pd.read_pickle(os.path.join(data_dir, 'user_gender_cls2.pkl'))"
   ]
  },
  {
   "cell_type": "code",
   "execution_count": 3,
   "metadata": {
    "colab": {
     "base_uri": "https://localhost:8080/",
     "height": 68
    },
    "colab_type": "code",
    "executionInfo": {
     "elapsed": 1088,
     "status": "ok",
     "timestamp": 1596098960559,
     "user": {
      "displayName": "ian luo",
      "photoUrl": "",
      "userId": "09210897906652852090"
     },
     "user_tz": -480
    },
    "id": "k00sGxCZ6TV7",
    "outputId": "fa7612be-cfbe-4270-9314-08d0eca0669d"
   },
   "outputs": [
    {
     "data": {
      "text/plain": [
       "0    602610\n",
       "1    297390\n",
       "Name: gender, dtype: int64"
      ]
     },
     "execution_count": 3,
     "metadata": {
      "tags": []
     },
     "output_type": "execute_result"
    }
   ],
   "source": [
    "labels.value_counts()"
   ]
  },
  {
   "cell_type": "code",
   "execution_count": null,
   "metadata": {
    "colab": {},
    "colab_type": "code",
    "id": "K_0y68MPywNP"
   },
   "outputs": [],
   "source": [
    "# df = pd.DataFrame(texts)"
   ]
  },
  {
   "cell_type": "code",
   "execution_count": null,
   "metadata": {
    "colab": {},
    "colab_type": "code",
    "id": "mKVEepbSy44n"
   },
   "outputs": [],
   "source": [
    "# df['gender'] = labels"
   ]
  },
  {
   "cell_type": "code",
   "execution_count": null,
   "metadata": {
    "colab": {},
    "colab_type": "code",
    "id": "1vkfX-gLzBDX"
   },
   "outputs": [],
   "source": [
    "# df.iloc[:800000].to_pickle(os.path.join(data_dir, 'train_gender.pkl'))\n",
    "# df.iloc[800000:].to_pickle(os.path.join(data_dir, 'val_gender.pkl'))"
   ]
  },
  {
   "cell_type": "code",
   "execution_count": null,
   "metadata": {
    "colab": {
     "base_uri": "https://localhost:8080/",
     "height": 142
    },
    "colab_type": "code",
    "executionInfo": {
     "elapsed": 812,
     "status": "ok",
     "timestamp": 1595996464789,
     "user": {
      "displayName": "ian luo",
      "photoUrl": "",
      "userId": "09210897906652852090"
     },
     "user_tz": -480
    },
    "id": "SFGR4zoQzVIc",
    "outputId": "47ad5d91-422e-4a3a-808d-3f0734bb215b"
   },
   "outputs": [
    {
     "data": {
      "text/html": [
       "<div>\n",
       "<style scoped>\n",
       "    .dataframe tbody tr th:only-of-type {\n",
       "        vertical-align: middle;\n",
       "    }\n",
       "\n",
       "    .dataframe tbody tr th {\n",
       "        vertical-align: top;\n",
       "    }\n",
       "\n",
       "    .dataframe thead th {\n",
       "        text-align: right;\n",
       "    }\n",
       "</style>\n",
       "<table border=\"1\" class=\"dataframe\">\n",
       "  <thead>\n",
       "    <tr style=\"text-align: right;\">\n",
       "      <th></th>\n",
       "      <th>creative_id</th>\n",
       "      <th>gender</th>\n",
       "    </tr>\n",
       "    <tr>\n",
       "      <th>user_id</th>\n",
       "      <th></th>\n",
       "      <th></th>\n",
       "    </tr>\n",
       "  </thead>\n",
       "  <tbody>\n",
       "    <tr>\n",
       "      <th>1</th>\n",
       "      <td>[877468, 209778, 821396, 1683713, 122032, 7169...</td>\n",
       "      <td>0</td>\n",
       "    </tr>\n",
       "    <tr>\n",
       "      <th>10</th>\n",
       "      <td>[134938, 69204, 197464, 81006, 3331781, 71689,...</td>\n",
       "      <td>1</td>\n",
       "    </tr>\n",
       "  </tbody>\n",
       "</table>\n",
       "</div>"
      ],
      "text/plain": [
       "                                               creative_id  gender\n",
       "user_id                                                           \n",
       "1        [877468, 209778, 821396, 1683713, 122032, 7169...       0\n",
       "10       [134938, 69204, 197464, 81006, 3331781, 71689,...       1"
      ]
     },
     "execution_count": 24,
     "metadata": {
      "tags": []
     },
     "output_type": "execute_result"
    }
   ],
   "source": [
    "df.head(2\n",
    "        )"
   ]
  },
  {
   "cell_type": "code",
   "execution_count": null,
   "metadata": {
    "colab": {
     "base_uri": "https://localhost:8080/",
     "height": 85
    },
    "colab_type": "code",
    "executionInfo": {
     "elapsed": 884,
     "status": "ok",
     "timestamp": 1595989643445,
     "user": {
      "displayName": "ian luo",
      "photoUrl": "",
      "userId": "09210897906652852090"
     },
     "user_tz": -480
    },
    "id": "frE2Hla0XiDU",
    "outputId": "7c3785be-325f-4a2d-bc84-5ca44397afb3"
   },
   "outputs": [
    {
     "data": {
      "text/plain": [
       "user_id\n",
       "1     [877468, 209778, 821396, 1683713, 122032, 7169...\n",
       "10    [134938, 69204, 197464, 81006, 3331781, 71689,...\n",
       "Name: creative_id, dtype: object"
      ]
     },
     "execution_count": 12,
     "metadata": {
      "tags": []
     },
     "output_type": "execute_result"
    }
   ],
   "source": [
    "texts.head(2)"
   ]
  },
  {
   "cell_type": "code",
   "execution_count": null,
   "metadata": {
    "colab": {
     "base_uri": "https://localhost:8080/",
     "height": 34
    },
    "colab_type": "code",
    "executionInfo": {
     "elapsed": 780,
     "status": "ok",
     "timestamp": 1595989653740,
     "user": {
      "displayName": "ian luo",
      "photoUrl": "",
      "userId": "09210897906652852090"
     },
     "user_tz": -480
    },
    "id": "T34mWVO5YWI9",
    "outputId": "cd2f0f72-39eb-44ad-d9b3-5fc7d6801a1b"
   },
   "outputs": [
    {
     "data": {
      "text/plain": [
       "(900000,)"
      ]
     },
     "execution_count": 13,
     "metadata": {
      "tags": []
     },
     "output_type": "execute_result"
    }
   ],
   "source": [
    "texts.shape"
   ]
  },
  {
   "cell_type": "code",
   "execution_count": null,
   "metadata": {
    "colab": {
     "base_uri": "https://localhost:8080/",
     "height": 85
    },
    "colab_type": "code",
    "executionInfo": {
     "elapsed": 479,
     "status": "ok",
     "timestamp": 1595989667489,
     "user": {
      "displayName": "ian luo",
      "photoUrl": "",
      "userId": "09210897906652852090"
     },
     "user_tz": -480
    },
    "id": "mt4GV5h3ZZXj",
    "outputId": "3e3dbf9c-c306-4062-fdf0-99092f672806"
   },
   "outputs": [
    {
     "data": {
      "text/plain": [
       "user_id\n",
       "1    0\n",
       "2    0\n",
       "Name: gender, dtype: int64"
      ]
     },
     "execution_count": 14,
     "metadata": {
      "tags": []
     },
     "output_type": "execute_result"
    }
   ],
   "source": [
    "labels.head(2)"
   ]
  },
  {
   "cell_type": "code",
   "execution_count": null,
   "metadata": {
    "colab": {
     "base_uri": "https://localhost:8080/",
     "height": 34
    },
    "colab_type": "code",
    "executionInfo": {
     "elapsed": 783,
     "status": "ok",
     "timestamp": 1595989677049,
     "user": {
      "displayName": "ian luo",
      "photoUrl": "",
      "userId": "09210897906652852090"
     },
     "user_tz": -480
    },
    "id": "qREPktV2Zb_r",
    "outputId": "d0a0ba1e-7fc6-461a-80e1-cdc1dfc58be4"
   },
   "outputs": [
    {
     "data": {
      "text/plain": [
       "(900000,)"
      ]
     },
     "execution_count": 15,
     "metadata": {
      "tags": []
     },
     "output_type": "execute_result"
    }
   ],
   "source": [
    "labels.shape"
   ]
  },
  {
   "cell_type": "code",
   "execution_count": 7,
   "metadata": {
    "colab": {},
    "colab_type": "code",
    "executionInfo": {
     "elapsed": 1075,
     "status": "ok",
     "timestamp": 1596099017375,
     "user": {
      "displayName": "ian luo",
      "photoUrl": "",
      "userId": "09210897906652852090"
     },
     "user_tz": -480
    },
    "id": "oSiMT5vpXi4n"
   },
   "outputs": [],
   "source": [
    "# TEXT = data.Field(sequential=True, fix_length=50, batch_first=True)\n",
    "# LABEL = data.Field(sequential=False, use_vocab=False, batch_first=True)\n",
    "\n",
    "TEXT = data.Field(sequential=True, fix_length=50)\n",
    "LABEL = data.Field(sequential=False, use_vocab=False)"
   ]
  },
  {
   "cell_type": "code",
   "execution_count": null,
   "metadata": {
    "colab": {},
    "colab_type": "code",
    "id": "Z4MYSXm1ZYkv"
   },
   "outputs": [],
   "source": []
  },
  {
   "cell_type": "code",
   "execution_count": 4,
   "metadata": {
    "colab": {},
    "colab_type": "code",
    "executionInfo": {
     "elapsed": 970,
     "status": "ok",
     "timestamp": 1596098998056,
     "user": {
      "displayName": "ian luo",
      "photoUrl": "",
      "userId": "09210897906652852090"
     },
     "user_tz": -480
    },
    "id": "GI7rJNmuX-Vv"
   },
   "outputs": [],
   "source": [
    "# 定义Dataset\n",
    "class MyDataset(data.Dataset):\n",
    "    name = 'TX Dataset'\n",
    "\n",
    "    @staticmethod\n",
    "    def sort_key(ex):\n",
    "        return len(ex.creative_ids)\n",
    "\n",
    "    def __init__(self, path, text_field, label_field, test=False, aug=False, **kwargs):\n",
    "        fields = [(\"id\", None), # we won't be needing the id, so we pass in None as the field\n",
    "                 (\"creative_ids\", text_field), (\"gender\", label_field)]\n",
    "        \n",
    "        examples = []\n",
    "        df = pd.read_pickle(path)\n",
    "        print('read data from {}'.format(path))\n",
    "\n",
    "        if test:\n",
    "            # 如果为测试集，则不加载label\n",
    "            for text in tqdm(csv_data['comment_text']):\n",
    "                examples.append(data.Example.fromlist([None, text, None], fields))\n",
    "        else:\n",
    "            for text, label in tqdm(zip(df['creative_id'], df['gender'])):\n",
    "                if aug:\n",
    "                    # do augmentation\n",
    "                    rate = random.random()\n",
    "                    if rate > 0.5:\n",
    "                        text = self.dropout(text)\n",
    "                    else:\n",
    "                        text = self.shuffle(text)\n",
    "                # Example: Defines a single training or test example.Stores each column of the example as an attribute.\n",
    "                examples.append(data.Example.fromlist([None, text, label], fields))\n",
    "        # 之前是一些预处理操作，此处调用super调用父类构造方法，产生标准Dataset\n",
    "        # super(MyDataset, self).__init__(examples, fields, **kwargs)\n",
    "        super(MyDataset, self).__init__(examples, fields)\n",
    "\n",
    "    def shuffle(self, text):\n",
    "        text = np.random.permutation(text.strip().split())\n",
    "        return ' '.join(text)\n",
    "\n",
    "    def dropout(self, text, p=0.5):\n",
    "        # random delete some text\n",
    "        text = text.strip().split()\n",
    "        len_ = len(text)\n",
    "        indexs = np.random.choice(len_, int(len_ * p))\n",
    "        for i in indexs:\n",
    "            text[i] = ''\n",
    "        return ' '.join(text)\n"
   ]
  },
  {
   "cell_type": "code",
   "execution_count": 8,
   "metadata": {
    "colab": {
     "base_uri": "https://localhost:8080/",
     "height": 51
    },
    "colab_type": "code",
    "executionInfo": {
     "elapsed": 12990,
     "status": "ok",
     "timestamp": 1596099033465,
     "user": {
      "displayName": "ian luo",
      "photoUrl": "",
      "userId": "09210897906652852090"
     },
     "user_tz": -480
    },
    "id": "BMG_dHCXafrd",
    "outputId": "0d9fcdf1-466f-4754-8854-a7c3205da94c"
   },
   "outputs": [
    {
     "name": "stderr",
     "output_type": "stream",
     "text": [
      "33321it [00:00, 333202.37it/s]"
     ]
    },
    {
     "name": "stdout",
     "output_type": "stream",
     "text": [
      "read data from drive/My Drive/tx/train_gender.pkl\n"
     ]
    },
    {
     "name": "stderr",
     "output_type": "stream",
     "text": [
      "800000it [00:04, 164624.10it/s]\n"
     ]
    }
   ],
   "source": [
    "train = MyDataset(os.path.join(data_dir, 'train_gender.pkl'), text_field=TEXT, label_field=LABEL, test=False, aug=False)"
   ]
  },
  {
   "cell_type": "code",
   "execution_count": 9,
   "metadata": {
    "colab": {
     "base_uri": "https://localhost:8080/",
     "height": 51
    },
    "colab_type": "code",
    "executionInfo": {
     "elapsed": 16280,
     "status": "ok",
     "timestamp": 1596099037361,
     "user": {
      "displayName": "ian luo",
      "photoUrl": "",
      "userId": "09210897906652852090"
     },
     "user_tz": -480
    },
    "id": "o8GbU6XS1KJW",
    "outputId": "314033ac-2a89-4db3-9a4a-a296bf8b476a"
   },
   "outputs": [
    {
     "name": "stderr",
     "output_type": "stream",
     "text": [
      "30663it [00:00, 306627.37it/s]"
     ]
    },
    {
     "name": "stdout",
     "output_type": "stream",
     "text": [
      "read data from drive/My Drive/tx/val_gender.pkl\n"
     ]
    },
    {
     "name": "stderr",
     "output_type": "stream",
     "text": [
      "100000it [00:01, 93339.42it/s]\n"
     ]
    }
   ],
   "source": [
    "val = MyDataset(os.path.join(data_dir, 'val_gender.pkl'), text_field=TEXT, label_field=LABEL, test=False, aug=False)"
   ]
  },
  {
   "cell_type": "code",
   "execution_count": null,
   "metadata": {
    "colab": {
     "base_uri": "https://localhost:8080/",
     "height": 34
    },
    "colab_type": "code",
    "executionInfo": {
     "elapsed": 765,
     "status": "ok",
     "timestamp": 1595990090138,
     "user": {
      "displayName": "ian luo",
      "photoUrl": "",
      "userId": "09210897906652852090"
     },
     "user_tz": -480
    },
    "id": "zvj7UdGjamG-",
    "outputId": "83b51c1a-c576-45cf-8546-9ebfbe94ebff"
   },
   "outputs": [
    {
     "data": {
      "text/plain": [
       "dict_keys(['creative_ids', 'gender'])"
      ]
     },
     "execution_count": 24,
     "metadata": {
      "tags": []
     },
     "output_type": "execute_result"
    }
   ],
   "source": [
    "train[0].__dict__.keys()"
   ]
  },
  {
   "cell_type": "code",
   "execution_count": null,
   "metadata": {
    "colab": {
     "base_uri": "https://localhost:8080/",
     "height": 238
    },
    "colab_type": "code",
    "executionInfo": {
     "elapsed": 775,
     "status": "ok",
     "timestamp": 1595991010596,
     "user": {
      "displayName": "ian luo",
      "photoUrl": "",
      "userId": "09210897906652852090"
     },
     "user_tz": -480
    },
    "id": "cLecN0Oia3si",
    "outputId": "91ace745-b23e-4bd7-ebcb-746a3b0e50df"
   },
   "outputs": [
    {
     "data": {
      "text/plain": [
       "['877468',\n",
       " '209778',\n",
       " '821396',\n",
       " '1683713',\n",
       " '122032',\n",
       " '71691',\n",
       " '1940159',\n",
       " '90171',\n",
       " '2087846',\n",
       " '2456345',\n",
       " '3068256',\n",
       " '2456345',\n",
       " '3592928']"
      ]
     },
     "execution_count": 37,
     "metadata": {
      "tags": []
     },
     "output_type": "execute_result"
    }
   ],
   "source": [
    "train[0].creative_ids"
   ]
  },
  {
   "cell_type": "code",
   "execution_count": null,
   "metadata": {
    "colab": {
     "base_uri": "https://localhost:8080/",
     "height": 34
    },
    "colab_type": "code",
    "executionInfo": {
     "elapsed": 751,
     "status": "ok",
     "timestamp": 1595991016440,
     "user": {
      "displayName": "ian luo",
      "photoUrl": "",
      "userId": "09210897906652852090"
     },
     "user_tz": -480
    },
    "id": "6GpTKzbEbFhX",
    "outputId": "e851f1a5-c9d5-4529-d02d-4c39a1144890"
   },
   "outputs": [
    {
     "data": {
      "text/plain": [
       "0"
      ]
     },
     "execution_count": 38,
     "metadata": {
      "tags": []
     },
     "output_type": "execute_result"
    }
   ],
   "source": [
    "train[0].gender"
   ]
  },
  {
   "cell_type": "code",
   "execution_count": 10,
   "metadata": {
    "colab": {},
    "colab_type": "code",
    "executionInfo": {
     "elapsed": 21213,
     "status": "ok",
     "timestamp": 1596099053034,
     "user": {
      "displayName": "ian luo",
      "photoUrl": "",
      "userId": "09210897906652852090"
     },
     "user_tz": -480
    },
    "id": "7wJy9qeMbHmk"
   },
   "outputs": [],
   "source": [
    "TEXT.build_vocab(train)"
   ]
  },
  {
   "cell_type": "code",
   "execution_count": null,
   "metadata": {
    "colab": {
     "base_uri": "https://localhost:8080/",
     "height": 187
    },
    "colab_type": "code",
    "executionInfo": {
     "elapsed": 1186,
     "status": "ok",
     "timestamp": 1595991044015,
     "user": {
      "displayName": "ian luo",
      "photoUrl": "",
      "userId": "09210897906652852090"
     },
     "user_tz": -480
    },
    "id": "cD_xZhTEeqTQ",
    "outputId": "7082c9b4-3963-451f-c45e-b6d63b2455f2"
   },
   "outputs": [
    {
     "data": {
      "text/plain": [
       "[('108133', 103033),\n",
       " ('37298', 84043),\n",
       " ('304118', 73876),\n",
       " ('1837000', 70875),\n",
       " ('32571', 69956),\n",
       " ('12838', 69813),\n",
       " ('54150', 59148),\n",
       " ('1779084', 50391),\n",
       " ('2353377', 46829),\n",
       " ('47512', 44533)]"
      ]
     },
     "execution_count": 40,
     "metadata": {
      "tags": []
     },
     "output_type": "execute_result"
    }
   ],
   "source": [
    "TEXT.vocab.freqs.most_common(10)"
   ]
  },
  {
   "cell_type": "code",
   "execution_count": null,
   "metadata": {
    "colab": {
     "base_uri": "https://localhost:8080/",
     "height": 1000
    },
    "colab_type": "code",
    "executionInfo": {
     "elapsed": 1999,
     "status": "ok",
     "timestamp": 1595991066520,
     "user": {
      "displayName": "ian luo",
      "photoUrl": "",
      "userId": "09210897906652852090"
     },
     "user_tz": -480
    },
    "id": "PCc9Yy9JbMck",
    "outputId": "9c9498f5-eeb3-4174-cd89-531e068ee112"
   },
   "outputs": [
    {
     "data": {
      "text/plain": [
       "defaultdict(<function torchtext.vocab._default_unk_index>,\n",
       "            {'<unk>': 0,\n",
       "             '<pad>': 1,\n",
       "             '108133': 2,\n",
       "             '37298': 3,\n",
       "             '304118': 4,\n",
       "             '1837000': 5,\n",
       "             '32571': 6,\n",
       "             '12838': 7,\n",
       "             '54150': 8,\n",
       "             '1779084': 9,\n",
       "             '2353377': 10,\n",
       "             '47512': 11,\n",
       "             '37295': 12,\n",
       "             '670': 13,\n",
       "             '24333': 14,\n",
       "             '1807219': 15,\n",
       "             '2085566': 16,\n",
       "             '2145432': 17,\n",
       "             '7400': 18,\n",
       "             '69204': 19,\n",
       "             '39714': 20,\n",
       "             '33944': 21,\n",
       "             '1836990': 22,\n",
       "             '649132': 23,\n",
       "             '599224': 24,\n",
       "             '11050': 25,\n",
       "             '311867': 26,\n",
       "             '1662565': 27,\n",
       "             '648402': 28,\n",
       "             '599128': 29,\n",
       "             '1836995': 30,\n",
       "             '114074': 31,\n",
       "             '108136': 32,\n",
       "             '441518': 33,\n",
       "             '2361420': 34,\n",
       "             '27216': 35,\n",
       "             '54156': 36,\n",
       "             '1216557': 37,\n",
       "             '157148': 38,\n",
       "             '1483247': 39,\n",
       "             '2293978': 40,\n",
       "             '2716666': 41,\n",
       "             '1145367': 42,\n",
       "             '230303': 43,\n",
       "             '4089042': 44,\n",
       "             '291979': 45,\n",
       "             '624498': 46,\n",
       "             '783522': 47,\n",
       "             '1359388': 48,\n",
       "             '214061': 49,\n",
       "             '7823': 50,\n",
       "             '1779097': 51,\n",
       "             '1216572': 52,\n",
       "             '35568': 53,\n",
       "             '40625': 54,\n",
       "             '2361397': 55,\n",
       "             '22184': 56,\n",
       "             '13069': 57,\n",
       "             '112813': 58,\n",
       "             '71691': 59,\n",
       "             '63440': 60,\n",
       "             '71752': 61,\n",
       "             '80223': 62,\n",
       "             '2281581': 63,\n",
       "             '996428': 64,\n",
       "             '1371132': 65,\n",
       "             '2716698': 66,\n",
       "             '2297097': 67,\n",
       "             '882346': 68,\n",
       "             '2027357': 69,\n",
       "             '2145436': 70,\n",
       "             '626545': 71,\n",
       "             '2639577': 72,\n",
       "             '37605': 73,\n",
       "             '24046': 74,\n",
       "             '32572': 75,\n",
       "             '95238': 76,\n",
       "             '1344': 77,\n",
       "             '35391': 78,\n",
       "             '214927': 79,\n",
       "             '1836998': 80,\n",
       "             '214241': 81,\n",
       "             '2143574': 82,\n",
       "             '415810': 83,\n",
       "             '19517': 84,\n",
       "             '71689': 85,\n",
       "             '228182': 86,\n",
       "             '1780181': 87,\n",
       "             '1394668': 88,\n",
       "             '1405761': 89,\n",
       "             '63441': 90,\n",
       "             '214946': 91,\n",
       "             '430586': 92,\n",
       "             '1583375': 93,\n",
       "             '1393232': 94,\n",
       "             '55527': 95,\n",
       "             '2577798': 96,\n",
       "             '1192896': 97,\n",
       "             '503749': 98,\n",
       "             '228215': 99,\n",
       "             '32384': 100,\n",
       "             '771243': 101,\n",
       "             '47567': 102,\n",
       "             '64904': 103,\n",
       "             '304111': 104,\n",
       "             '1056195': 105,\n",
       "             '517906': 106,\n",
       "             '782930': 107,\n",
       "             '1037290': 108,\n",
       "             '11032': 109,\n",
       "             '746898': 110,\n",
       "             '415805': 111,\n",
       "             '3714867': 112,\n",
       "             '22179': 113,\n",
       "             '599778': 114,\n",
       "             '3764119': 115,\n",
       "             '292026': 116,\n",
       "             '174882': 117,\n",
       "             '391390': 118,\n",
       "             '3735057': 119,\n",
       "             '2032927': 120,\n",
       "             '1506883': 121,\n",
       "             '243181': 122,\n",
       "             '2694280': 123,\n",
       "             '441462': 124,\n",
       "             '267775': 125,\n",
       "             '2293585': 126,\n",
       "             '34452': 127,\n",
       "             '1662670': 128,\n",
       "             '1373697': 129,\n",
       "             '1401346': 130,\n",
       "             '53083': 131,\n",
       "             '71688': 132,\n",
       "             '1837001': 133,\n",
       "             '71692': 134,\n",
       "             '14993': 135,\n",
       "             '214243': 136,\n",
       "             '882344': 137,\n",
       "             '1328401': 138,\n",
       "             '927675': 139,\n",
       "             '2407050': 140,\n",
       "             '2293419': 141,\n",
       "             '882330': 142,\n",
       "             '5980': 143,\n",
       "             '108142': 144,\n",
       "             '2679307': 145,\n",
       "             '1779077': 146,\n",
       "             '515146': 147,\n",
       "             '33918': 148,\n",
       "             '599699': 149,\n",
       "             '96192': 150,\n",
       "             '243890': 151,\n",
       "             '1490726': 152,\n",
       "             '11053': 153,\n",
       "             '108125': 154,\n",
       "             '960671': 155,\n",
       "             '1370659': 156,\n",
       "             '1503096': 157,\n",
       "             '2145152': 158,\n",
       "             '739332': 159,\n",
       "             '3916180': 160,\n",
       "             '47569': 161,\n",
       "             '3504430': 162,\n",
       "             '40060': 163,\n",
       "             '48676': 164,\n",
       "             '182549': 165,\n",
       "             '32573': 166,\n",
       "             '190531': 167,\n",
       "             '161121': 168,\n",
       "             '1251649': 169,\n",
       "             '81389': 170,\n",
       "             '81369': 171,\n",
       "             '3098564': 172,\n",
       "             '72773': 173,\n",
       "             '1471925': 174,\n",
       "             '1366123': 175,\n",
       "             '63715': 176,\n",
       "             '1584320': 177,\n",
       "             '2266614': 178,\n",
       "             '889098': 179,\n",
       "             '4180378': 180,\n",
       "             '70933': 181,\n",
       "             '214259': 182,\n",
       "             '1505826': 183,\n",
       "             '918536': 184,\n",
       "             '739328': 185,\n",
       "             '132709': 186,\n",
       "             '185172': 187,\n",
       "             '2569455': 188,\n",
       "             '29259': 189,\n",
       "             '4097183': 190,\n",
       "             '64667': 191,\n",
       "             '1374579': 192,\n",
       "             '1068338': 193,\n",
       "             '210936': 194,\n",
       "             '131899': 195,\n",
       "             '55692': 196,\n",
       "             '39906': 197,\n",
       "             '609050': 198,\n",
       "             '422565': 199,\n",
       "             '119460': 200,\n",
       "             '3053823': 201,\n",
       "             '2027356': 202,\n",
       "             '726989': 203,\n",
       "             '70759': 204,\n",
       "             '19526': 205,\n",
       "             '5687': 206,\n",
       "             '71690': 207,\n",
       "             '1835328': 208,\n",
       "             '1073278': 209,\n",
       "             '309573': 210,\n",
       "             '1366108': 211,\n",
       "             '12916': 212,\n",
       "             '1054051': 213,\n",
       "             '1405746': 214,\n",
       "             '2256163': 215,\n",
       "             '2915745': 216,\n",
       "             '421447': 217,\n",
       "             '60878': 218,\n",
       "             '2775530': 219,\n",
       "             '66299': 220,\n",
       "             '60946': 221,\n",
       "             '1780242': 222,\n",
       "             '1307203': 223,\n",
       "             '1057513': 224,\n",
       "             '829025': 225,\n",
       "             '3072233': 226,\n",
       "             '215183': 227,\n",
       "             '133060': 228,\n",
       "             '244888': 229,\n",
       "             '1366494': 230,\n",
       "             '2759343': 231,\n",
       "             '3098567': 232,\n",
       "             '819395': 233,\n",
       "             '68589': 234,\n",
       "             '1322019': 235,\n",
       "             '68598': 236,\n",
       "             '18461': 237,\n",
       "             '447611': 238,\n",
       "             '35392': 239,\n",
       "             '49836': 240,\n",
       "             '1390120': 241,\n",
       "             '1073371': 242,\n",
       "             '108120': 243,\n",
       "             '3445744': 244,\n",
       "             '2524263': 245,\n",
       "             '148785': 246,\n",
       "             '147339': 247,\n",
       "             '119545': 248,\n",
       "             '1493353': 249,\n",
       "             '407899': 250,\n",
       "             '1748364': 251,\n",
       "             '3507883': 252,\n",
       "             '569079': 253,\n",
       "             '996537': 254,\n",
       "             '927601': 255,\n",
       "             '928362': 256,\n",
       "             '305022': 257,\n",
       "             '1636057': 258,\n",
       "             '1111825': 259,\n",
       "             '408850': 260,\n",
       "             '127573': 261,\n",
       "             '1502594': 262,\n",
       "             '49574': 263,\n",
       "             '415792': 264,\n",
       "             '1462993': 265,\n",
       "             '1750832': 266,\n",
       "             '1441710': 267,\n",
       "             '599840': 268,\n",
       "             '754390': 269,\n",
       "             '108130': 270,\n",
       "             '342087': 271,\n",
       "             '599770': 272,\n",
       "             '194024': 273,\n",
       "             '2577794': 274,\n",
       "             '2736461': 275,\n",
       "             '187448': 276,\n",
       "             '2556703': 277,\n",
       "             '447625': 278,\n",
       "             '71850': 279,\n",
       "             '19521': 280,\n",
       "             '119466': 281,\n",
       "             '1271112': 282,\n",
       "             '1399016': 283,\n",
       "             '696517': 284,\n",
       "             '3948271': 285,\n",
       "             '2982000': 286,\n",
       "             '2147099': 287,\n",
       "             '2538036': 288,\n",
       "             '3606269': 289,\n",
       "             '1143199': 290,\n",
       "             '1771': 291,\n",
       "             '9148': 292,\n",
       "             '91934': 293,\n",
       "             '2220823': 294,\n",
       "             '1621082': 295,\n",
       "             '1698535': 296,\n",
       "             '76874': 297,\n",
       "             '1493222': 298,\n",
       "             '102153': 299,\n",
       "             '409181': 300,\n",
       "             '167175': 301,\n",
       "             '2223402': 302,\n",
       "             '1695685': 303,\n",
       "             '421457': 304,\n",
       "             '2163375': 305,\n",
       "             '1354702': 306,\n",
       "             '931713': 307,\n",
       "             '1355177': 308,\n",
       "             '2915786': 309,\n",
       "             '125836': 310,\n",
       "             '1104088': 311,\n",
       "             '350647': 312,\n",
       "             '3367633': 313,\n",
       "             '21202': 314,\n",
       "             '164502': 315,\n",
       "             '1365370': 316,\n",
       "             '91935': 317,\n",
       "             '1349326': 318,\n",
       "             '2903811': 319,\n",
       "             '42577': 320,\n",
       "             '107103': 321,\n",
       "             '40788': 322,\n",
       "             '210830': 323,\n",
       "             '2823483': 324,\n",
       "             '202947': 325,\n",
       "             '769749': 326,\n",
       "             '2220962': 327,\n",
       "             '65352': 328,\n",
       "             '404574': 329,\n",
       "             '119458': 330,\n",
       "             '295581': 331,\n",
       "             '671535': 332,\n",
       "             '927041': 333,\n",
       "             '2583365': 334,\n",
       "             '1390254': 335,\n",
       "             '50244': 336,\n",
       "             '1073243': 337,\n",
       "             '2850324': 338,\n",
       "             '22013': 339,\n",
       "             '1143149': 340,\n",
       "             '50259': 341,\n",
       "             '2361415': 342,\n",
       "             '108656': 343,\n",
       "             '4127507': 344,\n",
       "             '2996159': 345,\n",
       "             '96739': 346,\n",
       "             '2544047': 347,\n",
       "             '1241236': 348,\n",
       "             '15953': 349,\n",
       "             '2125815': 350,\n",
       "             '2979764': 351,\n",
       "             '243699': 352,\n",
       "             '11111': 353,\n",
       "             '1401244': 354,\n",
       "             '1143180': 355,\n",
       "             '2312947': 356,\n",
       "             '2222109': 357,\n",
       "             '666856': 358,\n",
       "             '814724': 359,\n",
       "             '203704': 360,\n",
       "             '2785305': 361,\n",
       "             '63439': 362,\n",
       "             '68601': 363,\n",
       "             '677406': 364,\n",
       "             '2447': 365,\n",
       "             '961938': 366,\n",
       "             '1331651': 367,\n",
       "             '19219': 368,\n",
       "             '2741073': 369,\n",
       "             '816224': 370,\n",
       "             '379902': 371,\n",
       "             '1443241': 372,\n",
       "             '3024130': 373,\n",
       "             '10258': 374,\n",
       "             '75011': 375,\n",
       "             '2326748': 376,\n",
       "             '81234': 377,\n",
       "             '681': 378,\n",
       "             '22182': 379,\n",
       "             '71687': 380,\n",
       "             '45067': 381,\n",
       "             '2487813': 382,\n",
       "             '1506882': 383,\n",
       "             '2261141': 384,\n",
       "             '2294021': 385,\n",
       "             '109156': 386,\n",
       "             '758449': 387,\n",
       "             '1441689': 388,\n",
       "             '114711': 389,\n",
       "             '3787412': 390,\n",
       "             '146045': 391,\n",
       "             '867046': 392,\n",
       "             '1544592': 393,\n",
       "             '3321332': 394,\n",
       "             '32566': 395,\n",
       "             '69662': 396,\n",
       "             '16280': 397,\n",
       "             '11052': 398,\n",
       "             '1447022': 399,\n",
       "             '1483376': 400,\n",
       "             '2165482': 401,\n",
       "             '3032431': 402,\n",
       "             '3861020': 403,\n",
       "             '12236': 404,\n",
       "             '57976': 405,\n",
       "             '1516293': 406,\n",
       "             '3135943': 407,\n",
       "             '21092': 408,\n",
       "             '214248': 409,\n",
       "             '1524047': 410,\n",
       "             '9794': 411,\n",
       "             '34453': 412,\n",
       "             '2556697': 413,\n",
       "             '872102': 414,\n",
       "             '1165305': 415,\n",
       "             '71694': 416,\n",
       "             '390704': 417,\n",
       "             '1242486': 418,\n",
       "             '2979731': 419,\n",
       "             '3787421': 420,\n",
       "             '1307204': 421,\n",
       "             '2353375': 422,\n",
       "             '1540530': 423,\n",
       "             '30856': 424,\n",
       "             '17100': 425,\n",
       "             '53919': 426,\n",
       "             '148524': 427,\n",
       "             '120916': 428,\n",
       "             '3053779': 429,\n",
       "             '1505985': 430,\n",
       "             '1169': 431,\n",
       "             '75195': 432,\n",
       "             '927521': 433,\n",
       "             '102349': 434,\n",
       "             '764755': 435,\n",
       "             '2393248': 436,\n",
       "             '3369601': 437,\n",
       "             '227865': 438,\n",
       "             '2513': 439,\n",
       "             '2508839': 440,\n",
       "             '1100760': 441,\n",
       "             '1832498': 442,\n",
       "             '2051670': 443,\n",
       "             '228194': 444,\n",
       "             '42560': 445,\n",
       "             '3048896': 446,\n",
       "             '1619148': 447,\n",
       "             '1506880': 448,\n",
       "             '1057030': 449,\n",
       "             '2125431': 450,\n",
       "             '33444': 451,\n",
       "             '96297': 452,\n",
       "             '1490757': 453,\n",
       "             '3377613': 454,\n",
       "             '2701805': 455,\n",
       "             '3072140': 456,\n",
       "             '3416667': 457,\n",
       "             '3845974': 458,\n",
       "             '96472': 459,\n",
       "             '2143576': 460,\n",
       "             '1167109': 461,\n",
       "             '2487811': 462,\n",
       "             '1908430': 463,\n",
       "             '3851473': 464,\n",
       "             '44221': 465,\n",
       "             '96310': 466,\n",
       "             '46445': 467,\n",
       "             '1925192': 468,\n",
       "             '882329': 469,\n",
       "             '48855': 470,\n",
       "             '47638': 471,\n",
       "             '2361318': 472,\n",
       "             '214469': 473,\n",
       "             '196062': 474,\n",
       "             '2217684': 475,\n",
       "             '41205': 476,\n",
       "             '3861855': 477,\n",
       "             '230844': 478,\n",
       "             '1544792': 479,\n",
       "             '667127': 480,\n",
       "             '1638771': 481,\n",
       "             '577196': 482,\n",
       "             '243680': 483,\n",
       "             '1894115': 484,\n",
       "             '1562852': 485,\n",
       "             '3846208': 486,\n",
       "             '46018': 487,\n",
       "             '2796207': 488,\n",
       "             '1121772': 489,\n",
       "             '1695654': 490,\n",
       "             '2342124': 491,\n",
       "             '55124': 492,\n",
       "             '2978359': 493,\n",
       "             '1807163': 494,\n",
       "             '11711': 495,\n",
       "             '355760': 496,\n",
       "             '1024894': 497,\n",
       "             '1544749': 498,\n",
       "             '1653054': 499,\n",
       "             '921465': 500,\n",
       "             '2419283': 501,\n",
       "             '1736232': 502,\n",
       "             '2488617': 503,\n",
       "             '98612': 504,\n",
       "             '516403': 505,\n",
       "             '2979717': 506,\n",
       "             '21852': 507,\n",
       "             '2221084': 508,\n",
       "             '2482639': 509,\n",
       "             '3193955': 510,\n",
       "             '625439': 511,\n",
       "             '1352637': 512,\n",
       "             '1491395': 513,\n",
       "             '74646': 514,\n",
       "             '68594': 515,\n",
       "             '72514': 516,\n",
       "             '30210': 517,\n",
       "             '835001': 518,\n",
       "             '2223999': 519,\n",
       "             '1488466': 520,\n",
       "             '1463085': 521,\n",
       "             '2577797': 522,\n",
       "             '2294086': 523,\n",
       "             '2293964': 524,\n",
       "             '168570': 525,\n",
       "             '2004885': 526,\n",
       "             '1807175': 527,\n",
       "             '1501727': 528,\n",
       "             '122388': 529,\n",
       "             '181739': 530,\n",
       "             '1042231': 531,\n",
       "             '2326746': 532,\n",
       "             '738536': 533,\n",
       "             '2499093': 534,\n",
       "             '738378': 535,\n",
       "             '1902901': 536,\n",
       "             '39817': 537,\n",
       "             '2192936': 538,\n",
       "             '40577': 539,\n",
       "             '9426': 540,\n",
       "             '52056': 541,\n",
       "             '1501695': 542,\n",
       "             '3856576': 543,\n",
       "             '1681032': 544,\n",
       "             '2915744': 545,\n",
       "             '1159630': 546,\n",
       "             '381023': 547,\n",
       "             '2597281': 548,\n",
       "             '3684862': 549,\n",
       "             '1405653': 550,\n",
       "             '1779078': 551,\n",
       "             '3098593': 552,\n",
       "             '870295': 553,\n",
       "             '42161': 554,\n",
       "             '27749': 555,\n",
       "             '1071851': 556,\n",
       "             '552064': 557,\n",
       "             '3421343': 558,\n",
       "             '1859016': 559,\n",
       "             '320776': 560,\n",
       "             '1350839': 561,\n",
       "             '33917': 562,\n",
       "             '3072238': 563,\n",
       "             '14309': 564,\n",
       "             '1645218': 565,\n",
       "             '68584': 566,\n",
       "             '11049': 567,\n",
       "             '1659000': 568,\n",
       "             '455584': 569,\n",
       "             '1567494': 570,\n",
       "             '3070620': 571,\n",
       "             '1626693': 572,\n",
       "             '188642': 573,\n",
       "             '157136': 574,\n",
       "             '214288': 575,\n",
       "             '1706265': 576,\n",
       "             '53893': 577,\n",
       "             '2165678': 578,\n",
       "             '32753': 579,\n",
       "             '1696925': 580,\n",
       "             '46500': 581,\n",
       "             '2100129': 582,\n",
       "             '12563': 583,\n",
       "             '2921558': 584,\n",
       "             '1116981': 585,\n",
       "             '1787050': 586,\n",
       "             '217100': 587,\n",
       "             '2261612': 588,\n",
       "             '61308': 589,\n",
       "             '112773': 590,\n",
       "             '2741358': 591,\n",
       "             '1529801': 592,\n",
       "             '1540928': 593,\n",
       "             '244736': 594,\n",
       "             '1544478': 595,\n",
       "             '600897': 596,\n",
       "             '66318': 597,\n",
       "             '202918': 598,\n",
       "             '45454': 599,\n",
       "             '53070': 600,\n",
       "             '392044': 601,\n",
       "             '69463': 602,\n",
       "             '86332': 603,\n",
       "             '217635': 604,\n",
       "             '6417': 605,\n",
       "             '543197': 606,\n",
       "             '1934182': 607,\n",
       "             '273715': 608,\n",
       "             '1566967': 609,\n",
       "             '2361374': 610,\n",
       "             '2223512': 611,\n",
       "             '135433': 612,\n",
       "             '1778983': 613,\n",
       "             '408960': 614,\n",
       "             '1700726': 615,\n",
       "             '77459': 616,\n",
       "             '1559737': 617,\n",
       "             '447694': 618,\n",
       "             '2979817': 619,\n",
       "             '47640': 620,\n",
       "             '2223659': 621,\n",
       "             '620303': 622,\n",
       "             '1111160': 623,\n",
       "             '15086': 624,\n",
       "             '2411708': 625,\n",
       "             '3443675': 626,\n",
       "             '67985': 627,\n",
       "             '214847': 628,\n",
       "             '2959408': 629,\n",
       "             '2766802': 630,\n",
       "             '1174779': 631,\n",
       "             '38220': 632,\n",
       "             '17936': 633,\n",
       "             '120257': 634,\n",
       "             '1818228': 635,\n",
       "             '1574759': 636,\n",
       "             '1249794': 637,\n",
       "             '1085443': 638,\n",
       "             '74258': 639,\n",
       "             '183021': 640,\n",
       "             '56578': 641,\n",
       "             '3860902': 642,\n",
       "             '12566': 643,\n",
       "             '1493712': 644,\n",
       "             '283271': 645,\n",
       "             '1995344': 646,\n",
       "             '52794': 647,\n",
       "             '42101': 648,\n",
       "             '1799934': 649,\n",
       "             '3024801': 650,\n",
       "             '46612': 651,\n",
       "             '3860947': 652,\n",
       "             '1867961': 653,\n",
       "             '3365298': 654,\n",
       "             '92193': 655,\n",
       "             '1500940': 656,\n",
       "             '3870707': 657,\n",
       "             '1079973': 658,\n",
       "             '2221056': 659,\n",
       "             '3072723': 660,\n",
       "             '1270807': 661,\n",
       "             '56588': 662,\n",
       "             '674160': 663,\n",
       "             '867449': 664,\n",
       "             '634817': 665,\n",
       "             '1968138': 666,\n",
       "             '430657': 667,\n",
       "             '27837': 668,\n",
       "             '3562358': 669,\n",
       "             '277101': 670,\n",
       "             '1352649': 671,\n",
       "             '1392162': 672,\n",
       "             '481926': 673,\n",
       "             '2741116': 674,\n",
       "             '2633988': 675,\n",
       "             '1382395': 676,\n",
       "             '1902895': 677,\n",
       "             '2407068': 678,\n",
       "             '1263898': 679,\n",
       "             '65035': 680,\n",
       "             '2145533': 681,\n",
       "             '2260721': 682,\n",
       "             '26598': 683,\n",
       "             '677401': 684,\n",
       "             '2946656': 685,\n",
       "             '739318': 686,\n",
       "             '40675': 687,\n",
       "             '1235486': 688,\n",
       "             '1067462': 689,\n",
       "             '3071947': 690,\n",
       "             '1995357': 691,\n",
       "             '626464': 692,\n",
       "             '45461': 693,\n",
       "             '56470': 694,\n",
       "             '1340318': 695,\n",
       "             '1066098': 696,\n",
       "             '1436059': 697,\n",
       "             '1723252': 698,\n",
       "             '72640': 699,\n",
       "             '944174': 700,\n",
       "             '97468': 701,\n",
       "             '380690': 702,\n",
       "             '53616': 703,\n",
       "             '83607': 704,\n",
       "             '1836984': 705,\n",
       "             '1441171': 706,\n",
       "             '2857148': 707,\n",
       "             '1494199': 708,\n",
       "             '59050': 709,\n",
       "             '915611': 710,\n",
       "             '2550987': 711,\n",
       "             '3123951': 712,\n",
       "             '21053': 713,\n",
       "             '136920': 714,\n",
       "             '2577804': 715,\n",
       "             '6412': 716,\n",
       "             '2914783': 717,\n",
       "             '61055': 718,\n",
       "             '1626899': 719,\n",
       "             '196069': 720,\n",
       "             '447616': 721,\n",
       "             '1293124': 722,\n",
       "             '228156': 723,\n",
       "             '1324030': 724,\n",
       "             '2799401': 725,\n",
       "             '2946633': 726,\n",
       "             '2665441': 727,\n",
       "             '642674': 728,\n",
       "             '726905': 729,\n",
       "             '2361370': 730,\n",
       "             '1695647': 731,\n",
       "             '1140828': 732,\n",
       "             '2959934': 733,\n",
       "             '2804944': 734,\n",
       "             '1721790': 735,\n",
       "             '2531273': 736,\n",
       "             '1122933': 737,\n",
       "             '62397': 738,\n",
       "             '1544848': 739,\n",
       "             '52666': 740,\n",
       "             '243891': 741,\n",
       "             '7505': 742,\n",
       "             '2849948': 743,\n",
       "             '793940': 744,\n",
       "             '993248': 745,\n",
       "             '104934': 746,\n",
       "             '262543': 747,\n",
       "             '77257': 748,\n",
       "             '648212': 749,\n",
       "             '2407043': 750,\n",
       "             '54356': 751,\n",
       "             '2313330': 752,\n",
       "             '63722': 753,\n",
       "             '2382213': 754,\n",
       "             '48221': 755,\n",
       "             '3101713': 756,\n",
       "             '1807090': 757,\n",
       "             '2556702': 758,\n",
       "             '731338': 759,\n",
       "             '333302': 760,\n",
       "             '119478': 761,\n",
       "             '103515': 762,\n",
       "             '155719': 763,\n",
       "             '1370415': 764,\n",
       "             '4065967': 765,\n",
       "             '31115': 766,\n",
       "             '3146506': 767,\n",
       "             '1876526': 768,\n",
       "             '1266268': 769,\n",
       "             '1681016': 770,\n",
       "             '420825': 771,\n",
       "             '440188': 772,\n",
       "             '3527813': 773,\n",
       "             '468174': 774,\n",
       "             '68599': 775,\n",
       "             '513298': 776,\n",
       "             '146787': 777,\n",
       "             '436804': 778,\n",
       "             '23833': 779,\n",
       "             '50485': 780,\n",
       "             '1909967': 781,\n",
       "             '2946712': 782,\n",
       "             '1483178': 783,\n",
       "             '171985': 784,\n",
       "             '834309': 785,\n",
       "             '3072230': 786,\n",
       "             '570298': 787,\n",
       "             '452051': 788,\n",
       "             '1073209': 789,\n",
       "             '448245': 790,\n",
       "             '33935': 791,\n",
       "             '2487812': 792,\n",
       "             '94024': 793,\n",
       "             '1203283': 794,\n",
       "             '620095': 795,\n",
       "             '246789': 796,\n",
       "             '71647': 797,\n",
       "             '3291227': 798,\n",
       "             '552929': 799,\n",
       "             '133764': 800,\n",
       "             '3037605': 801,\n",
       "             '1380720': 802,\n",
       "             '53636': 803,\n",
       "             '1359323': 804,\n",
       "             '1600858': 805,\n",
       "             '185452': 806,\n",
       "             '1446481': 807,\n",
       "             '284692': 808,\n",
       "             '3860954': 809,\n",
       "             '2286484': 810,\n",
       "             '310878': 811,\n",
       "             '647980': 812,\n",
       "             '2222099': 813,\n",
       "             '3044638': 814,\n",
       "             '44862': 815,\n",
       "             '3993528': 816,\n",
       "             '4205159': 817,\n",
       "             '3377371': 818,\n",
       "             '2304235': 819,\n",
       "             '1207204': 820,\n",
       "             '70399': 821,\n",
       "             '2361439': 822,\n",
       "             '302591': 823,\n",
       "             '2500679': 824,\n",
       "             '614955': 825,\n",
       "             '1340312': 826,\n",
       "             '1779185': 827,\n",
       "             '2894253': 828,\n",
       "             '454069': 829,\n",
       "             '71942': 830,\n",
       "             '1904334': 831,\n",
       "             '17937': 832,\n",
       "             '4148145': 833,\n",
       "             '1732329': 834,\n",
       "             '7386': 835,\n",
       "             '116356': 836,\n",
       "             '1359341': 837,\n",
       "             '26284': 838,\n",
       "             '600920': 839,\n",
       "             '83506': 840,\n",
       "             '3927': 841,\n",
       "             '200559': 842,\n",
       "             '469106': 843,\n",
       "             '100777': 844,\n",
       "             '15051': 845,\n",
       "             '1550452': 846,\n",
       "             '158336': 847,\n",
       "             '946388': 848,\n",
       "             '1829725': 849,\n",
       "             '2716680': 850,\n",
       "             '180691': 851,\n",
       "             '2005737': 852,\n",
       "             '3072750': 853,\n",
       "             '3468183': 854,\n",
       "             '65334': 855,\n",
       "             '188898': 856,\n",
       "             '2147104': 857,\n",
       "             '1323091': 858,\n",
       "             '1629010': 859,\n",
       "             '13941': 860,\n",
       "             '190123': 861,\n",
       "             '32055': 862,\n",
       "             '333267': 863,\n",
       "             '3014720': 864,\n",
       "             '1675268': 865,\n",
       "             '650592': 866,\n",
       "             '3052115': 867,\n",
       "             '2290670': 868,\n",
       "             '1779124': 869,\n",
       "             '1659021': 870,\n",
       "             '228169': 871,\n",
       "             '551897': 872,\n",
       "             '1890383': 873,\n",
       "             '86337': 874,\n",
       "             '2890484': 875,\n",
       "             '747958': 876,\n",
       "             '247540': 877,\n",
       "             '50238': 878,\n",
       "             '3072265': 879,\n",
       "             '1398590': 880,\n",
       "             '939476': 881,\n",
       "             '1567866': 882,\n",
       "             '421456': 883,\n",
       "             '791304': 884,\n",
       "             '1706377': 885,\n",
       "             '455760': 886,\n",
       "             '838581': 887,\n",
       "             '1232632': 888,\n",
       "             '2033637': 889,\n",
       "             '513287': 890,\n",
       "             '3714799': 891,\n",
       "             '73363': 892,\n",
       "             '2063654': 893,\n",
       "             '1441932': 894,\n",
       "             '1506885': 895,\n",
       "             '79897': 896,\n",
       "             '1248505': 897,\n",
       "             '608472': 898,\n",
       "             '2347281': 899,\n",
       "             '3779639': 900,\n",
       "             '2620081': 901,\n",
       "             '2678449': 902,\n",
       "             '49928': 903,\n",
       "             '1416518': 904,\n",
       "             '445006': 905,\n",
       "             '645546': 906,\n",
       "             '1013810': 907,\n",
       "             '1791790': 908,\n",
       "             '1448394': 909,\n",
       "             '15558': 910,\n",
       "             '518831': 911,\n",
       "             '57641': 912,\n",
       "             '1164018': 913,\n",
       "             '1558973': 914,\n",
       "             '1435072': 915,\n",
       "             '2671335': 916,\n",
       "             '4353023': 917,\n",
       "             '569778': 918,\n",
       "             '1218544': 919,\n",
       "             '1473500': 920,\n",
       "             '13796': 921,\n",
       "             '1652866': 922,\n",
       "             '1925222': 923,\n",
       "             '11175': 924,\n",
       "             '3101962': 925,\n",
       "             '2194310': 926,\n",
       "             '35657': 927,\n",
       "             '2371': 928,\n",
       "             '2560353': 929,\n",
       "             '1366495': 930,\n",
       "             '609824': 931,\n",
       "             '31102': 932,\n",
       "             '1424160': 933,\n",
       "             '2131190': 934,\n",
       "             '2542948': 935,\n",
       "             '1244857': 936,\n",
       "             '63052': 937,\n",
       "             '421454': 938,\n",
       "             '1839517': 939,\n",
       "             '225095': 940,\n",
       "             '118280': 941,\n",
       "             '2054123': 942,\n",
       "             '1252062': 943,\n",
       "             '1241221': 944,\n",
       "             '1122285': 945,\n",
       "             '1939889': 946,\n",
       "             '44473': 947,\n",
       "             '1779110': 948,\n",
       "             '58698': 949,\n",
       "             '4322907': 950,\n",
       "             '548329': 951,\n",
       "             '2673641': 952,\n",
       "             '1498907': 953,\n",
       "             '2164037': 954,\n",
       "             '3699056': 955,\n",
       "             '3733221': 956,\n",
       "             '850251': 957,\n",
       "             '1336021': 958,\n",
       "             '24221': 959,\n",
       "             '2989648': 960,\n",
       "             '560391': 961,\n",
       "             '3895744': 962,\n",
       "             '179957': 963,\n",
       "             '807312': 964,\n",
       "             '1088209': 965,\n",
       "             '1121707': 966,\n",
       "             '29264': 967,\n",
       "             '991357': 968,\n",
       "             '1513807': 969,\n",
       "             '648070': 970,\n",
       "             '49842': 971,\n",
       "             '1401178': 972,\n",
       "             '42237': 973,\n",
       "             '1182640': 974,\n",
       "             '95221': 975,\n",
       "             '158471': 976,\n",
       "             '97321': 977,\n",
       "             '2056031': 978,\n",
       "             '1934223': 979,\n",
       "             '394600': 980,\n",
       "             '2863221': 981,\n",
       "             '739324': 982,\n",
       "             '164356': 983,\n",
       "             '2189510': 984,\n",
       "             '3631841': 985,\n",
       "             '3779638': 986,\n",
       "             '179689': 987,\n",
       "             '412290': 988,\n",
       "             '834988': 989,\n",
       "             '2639732': 990,\n",
       "             '2644132': 991,\n",
       "             '94011': 992,\n",
       "             '31216': 993,\n",
       "             '339924': 994,\n",
       "             '63444': 995,\n",
       "             '637764': 996,\n",
       "             '2227217': 997,\n",
       "             '1237781': 998,\n",
       "             '77859': 999,\n",
       "             ...})"
      ]
     },
     "execution_count": 41,
     "metadata": {
      "tags": []
     },
     "output_type": "execute_result"
    }
   ],
   "source": [
    "TEXT.vocab.stoi"
   ]
  },
  {
   "cell_type": "code",
   "execution_count": 11,
   "metadata": {
    "colab": {},
    "colab_type": "code",
    "executionInfo": {
     "elapsed": 12846,
     "status": "ok",
     "timestamp": 1596099053037,
     "user": {
      "displayName": "ian luo",
      "photoUrl": "",
      "userId": "09210897906652852090"
     },
     "user_tz": -480
    },
    "id": "EddCQhNfcZy2"
   },
   "outputs": [],
   "source": [
    "from torchtext.data import Iterator, BucketIterator"
   ]
  },
  {
   "cell_type": "code",
   "execution_count": 12,
   "metadata": {
    "colab": {},
    "colab_type": "code",
    "executionInfo": {
     "elapsed": 12422,
     "status": "ok",
     "timestamp": 1596099053038,
     "user": {
      "displayName": "ian luo",
      "photoUrl": "",
      "userId": "09210897906652852090"
     },
     "user_tz": -480
    },
    "id": "GUXV51PybPoS"
   },
   "outputs": [],
   "source": [
    "train_iter, val_iter = BucketIterator.splits(\n",
    "        (train, val), # 构建数据集所需的数据集\n",
    "        batch_sizes=(100, 100),\n",
    "#         device=-1, # 如果使用gpu，此处将-1更换为GPU的编号\n",
    "        # device='cpu',\n",
    "        # sort_key=lambda x: len(x.creative_ids), # the BucketIterator needs to be told what function it should use to group the data.\n",
    "        # sort_within_batch=False,\n",
    "        # repeat=False # we pass repeat=False because we want to wrap this Iterator layer.\n",
    ")"
   ]
  },
  {
   "cell_type": "code",
   "execution_count": null,
   "metadata": {
    "colab": {
     "base_uri": "https://localhost:8080/",
     "height": 952
    },
    "colab_type": "code",
    "executionInfo": {
     "elapsed": 2063,
     "status": "ok",
     "timestamp": 1595996992751,
     "user": {
      "displayName": "ian luo",
      "photoUrl": "",
      "userId": "09210897906652852090"
     },
     "user_tz": -480
    },
    "id": "4fPUJnA7csB1",
    "outputId": "d4e24745-41ca-4073-9600-4e82c85b8162"
   },
   "outputs": [
    {
     "name": "stdout",
     "output_type": "stream",
     "text": [
      "\n",
      "[torchtext.data.batch.Batch of size 8 from TX DATASET]\n",
      "\t[.creative_ids]:[torch.LongTensor of size 50x8]\n",
      "\t[.gender]:[torch.LongTensor of size 8]\n",
      "tensor([[     74, 1230152,  232971,  119402,    3434,    7113,   27829,    1140],\n",
      "        [ 167650,   37682,   21197,    9489,     900,   88870,   10564,   32110],\n",
      "        [   4721,  166163,   51999,   14703,    6522,      36,  143622,      23],\n",
      "        [   2162,      61,  177690,    6507,   19883,   11508,    6741,      56],\n",
      "        [1411804,  164988,    3251,   42776,   11529,  138281,   24096,   37313],\n",
      "        [  17203,    1120,   79620,  234563,  263149,  318187,    8596,   14304],\n",
      "        [ 302202,  192697,   81400,    1159,    7377,   16412,   72286,      56],\n",
      "        [   6245,      40,  176312,   14306,       4,  110281,    3669,    8854],\n",
      "        [ 765443,    2337,    6817,  566659,      49,   13428,   26449,    1211],\n",
      "        [   7486,   31074,   11357,  931844,      49,  110281,  541980,   11407],\n",
      "        [1069806,   32807,     635,    1235,   22990,   31988,    5266,    1578],\n",
      "        [1893472,    4400,     635,    1289,      49,    3167,  212482,      22],\n",
      "        [  19793,   14293,    4706,      24,      93,     644,   38182,   49022],\n",
      "        [  46355,       1,    8440,    1699,   76336,  104355,  553518,   13989],\n",
      "        [ 387361,       1,     931,  217695,      17,   17343,     470,      37],\n",
      "        [ 386839,       1,  279819,     461,      17,    7486,      18,      22],\n",
      "        [   1605,       1,  738627, 1781111,  489762,   55406,     153,     134],\n",
      "        [      1,       1,   32470,     786,   80394,  513537,    1197,   43628],\n",
      "        [      1,       1,  105272,   38929,      17,  156521,     371,      30],\n",
      "        [      1,       1,       1,   73530,      66,    1461,     470,      80],\n",
      "        [      1,       1,       1,     145,      24,       5,    7023,  745210],\n",
      "        [      1,       1,       1,   79084,      55,       1,    7023,   25519],\n",
      "        [      1,       1,       1,     215,  597964,       1,    5181,   32065],\n",
      "        [      1,       1,       1,   29542,    5635,       1,       4,     942],\n",
      "        [      1,       1,       1,    5125,  155720,       1,    1616,   44322],\n",
      "        [      1,       1,       1,    7444,   41998,       1,    1763,      22],\n",
      "        [      1,       1,       1,   29918,   37119,       1,   13964, 1817460],\n",
      "        [      1,       1,       1,   66185,      66,       1,  168472,   85176],\n",
      "        [      1,       1,       1,   40509,   37119,       1, 1464732,  309265],\n",
      "        [      1,       1,       1,  175195,  343550,       1,    5481,   15040],\n",
      "        [      1,       1,       1,       1,      66,       1,  407321,    6033],\n",
      "        [      1,       1,       1,       1,      66,       1, 1387169,  174516],\n",
      "        [      1,       1,       1,       1,      86,       1,   77997,       1],\n",
      "        [      1,       1,       1,       1,      66,       1,      27,       1],\n",
      "        [      1,       1,       1,       1,     244,       1,   65344,       1],\n",
      "        [      1,       1,       1,       1,    1094,       1,  926794,       1],\n",
      "        [      1,       1,       1,       1,    6596,       1,   48302,       1],\n",
      "        [      1,       1,       1,       1,    6596,       1,  216313,       1],\n",
      "        [      1,       1,       1,       1,      66,       1,   57874,       1],\n",
      "        [      1,       1,       1,       1,     112,       1,   13851,       1],\n",
      "        [      1,       1,       1,       1,   33759,       1,    8414,       1],\n",
      "        [      1,       1,       1,       1,      66,       1,   22595,       1],\n",
      "        [      1,       1,       1,       1,      66,       1,   57254,       1],\n",
      "        [      1,       1,       1,       1,      66,       1,    5737,       1],\n",
      "        [      1,       1,       1,       1,       1,       1,     212,       1],\n",
      "        [      1,       1,       1,       1,       1,       1,     910,       1],\n",
      "        [      1,       1,       1,       1,       1,       1,  744265,       1],\n",
      "        [      1,       1,       1,       1,       1,       1,   67008,       1],\n",
      "        [      1,       1,       1,       1,       1,       1,    2077,       1],\n",
      "        [      1,       1,       1,       1,       1,       1,   29175,       1]])\n",
      "tensor([1, 1, 0, 0, 0, 0, 1, 0])\n"
     ]
    }
   ],
   "source": [
    "for idx, batch in enumerate(train_iter):\n",
    "    print(batch)\n",
    "    text, label = batch.creative_ids, batch.gender\n",
    "    # print(text.shape, label.shape)\n",
    "    print(text)\n",
    "    print(label)\n",
    "    break"
   ]
  },
  {
   "cell_type": "code",
   "execution_count": 13,
   "metadata": {
    "colab": {},
    "colab_type": "code",
    "executionInfo": {
     "elapsed": 3721,
     "status": "ok",
     "timestamp": 1596099053039,
     "user": {
      "displayName": "ian luo",
      "photoUrl": "",
      "userId": "09210897906652852090"
     },
     "user_tz": -480
    },
    "id": "py1Iffy_c1q5"
   },
   "outputs": [],
   "source": [
    "import torch.nn as nn\n",
    "import torch.nn.functional as F\n",
    "import torch.optim as optim\n",
    "from datetime import datetime\n",
    "import math"
   ]
  },
  {
   "cell_type": "code",
   "execution_count": 14,
   "metadata": {
    "colab": {},
    "colab_type": "code",
    "executionInfo": {
     "elapsed": 979,
     "status": "ok",
     "timestamp": 1596099054021,
     "user": {
      "displayName": "ian luo",
      "photoUrl": "",
      "userId": "09210897906652852090"
     },
     "user_tz": -480
    },
    "id": "oxnox13RvBFe"
   },
   "outputs": [],
   "source": [
    "class LearnedPositionEncoding(nn.Embedding):\n",
    "    def __init__(self,d_model, dropout = 0.1,max_len = 5000):\n",
    "        super().__init__(max_len, d_model)\n",
    "        self.dropout = nn.Dropout(p = dropout)\n",
    "     \n",
    "    def forward(self, x):\n",
    "        weight = self.weight.data.unsqueeze(1)\n",
    "        x = x + weight[:x.size(0),:]\n",
    "        return self.dropout(x)\n",
    "\n",
    "class PositionalEncoding(nn.Module):\n",
    "    def __init__(self, d_model,dropout=0.1, max_len=5000):\n",
    "        super(PositionalEncoding, self).__init__()\n",
    "        self.dropout = nn.Dropout(p=dropout)\n",
    "        pe = torch.zeros(max_len, d_model)\n",
    "        position = torch.arange(0, max_len, dtype=torch.float).unsqueeze(1)\n",
    "        div_term = torch.exp(torch.arange(0, d_model, 2).float() * (-math.log(10000.0) / d_model))\n",
    "        pe[:, 0::2] = torch.sin(position * div_term)\n",
    "        pe[:, 1::2] = torch.cos(position * div_term)\n",
    "        pe = pe.unsqueeze(0).transpose(0, 1)\n",
    "        self.register_buffer('pe', pe)\n",
    "\n",
    "    def forward(self, x):\n",
    "        x = x + self.pe[:x.size(0), :]\n",
    "        return self.dropout(x)        "
   ]
  },
  {
   "cell_type": "code",
   "execution_count": 15,
   "metadata": {
    "colab": {},
    "colab_type": "code",
    "executionInfo": {
     "elapsed": 1033,
     "status": "ok",
     "timestamp": 1596099075449,
     "user": {
      "displayName": "ian luo",
      "photoUrl": "",
      "userId": "09210897906652852090"
     },
     "user_tz": -480
    },
    "id": "hCdLkKTOiQo1"
   },
   "outputs": [],
   "source": [
    "class LSTM(nn.Module):\n",
    "\n",
    "    def __init__(self):\n",
    "        super(LSTM, self).__init__()\n",
    "        self.word_embeddings = nn.Embedding(len(TEXT.vocab), 100)  # embedding之后的shape: torch.Size([200, 8, 300])\n",
    "        # 若使用预训练的词向量，需在此处指定预训练的权重\n",
    "        # embedding.weight.data.copy_(weight_matrix)\n",
    "        # self.lstm = nn.LSTM(input_size=100, hidden_size=128, num_layers=1, bidirectional=True)  # torch.Size([200, 8, 128])\n",
    "        self.pos_encoding = LearnedPositionEncoding(100)\n",
    "        # self.pos_encoding = PositionalEncoding(100)\n",
    "        encoder_layer = nn.TransformerEncoderLayer(d_model=100, nhead=2)\n",
    "        self.transformer_encoder = nn.TransformerEncoder(encoder_layer, num_layers=1)  \n",
    "        self.decoder = nn.Linear(100, 2)\n",
    "\n",
    "    def forward(self, sentence, src_padding_mask=None):\n",
    "        embeds = self.word_embeddings(sentence)\n",
    "        embeds = self.pos_encoding(embeds)\n",
    "        # lstm_out = self.lstm(embeds)[0]  # lstm_out:200x8x128\n",
    "        trans = self.transformer_encoder(embeds, src_key_padding_mask=src_padding_mask)\n",
    "        # print(lstm_out.shape)\n",
    "        # 取最后一个时间步\n",
    "        # final = trans[-1]  # 8*128\n",
    "        # final, _ = trans.max(0)\n",
    "        final = trans.mean(0)\n",
    "        # print(final.shape)\n",
    "        y = self.decoder(final)  # 8*2 \n",
    "        return y"
   ]
  },
  {
   "cell_type": "code",
   "execution_count": 65,
   "metadata": {
    "colab": {},
    "colab_type": "code",
    "executionInfo": {
     "elapsed": 3361,
     "status": "ok",
     "timestamp": 1596103840582,
     "user": {
      "displayName": "ian luo",
      "photoUrl": "",
      "userId": "09210897906652852090"
     },
     "user_tz": -480
    },
    "id": "DPW9CfLniS1s"
   },
   "outputs": [],
   "source": [
    "model = LSTM()\n",
    "model.to('cuda')\n",
    "model.train()\n",
    "optimizer = optim.Adam(filter(lambda p: p.requires_grad, model.parameters()), lr=0.01)\n",
    "# criterion = nn.CrossEntropyLoss()\n",
    "\n",
    "criterion = MyLoss"
   ]
  },
  {
   "cell_type": "code",
   "execution_count": 21,
   "metadata": {
    "colab": {},
    "colab_type": "code",
    "executionInfo": {
     "elapsed": 1193,
     "status": "ok",
     "timestamp": 1596099581399,
     "user": {
      "displayName": "ian luo",
      "photoUrl": "",
      "userId": "09210897906652852090"
     },
     "user_tz": -480
    },
    "id": "WC-SZnCu8UGo"
   },
   "outputs": [],
   "source": [
    "preds = torch.tensor([[-0.0450, -0.0435],\n",
    "        [ 0.0063,  0.0288],\n",
    "        [ 0.2572, -0.1292],\n",
    "        [ 0.1535, -0.1328],\n",
    "        [ 0.2729, -0.2122],\n",
    "        [ 0.1859, -0.1356],\n",
    "        [ 0.1851,  0.0081],])\n",
    "labels = torch.tensor([0, 0, 1, 1, 0, 1, 0,])"
   ]
  },
  {
   "cell_type": "code",
   "execution_count": 22,
   "metadata": {
    "colab": {},
    "colab_type": "code",
    "executionInfo": {
     "elapsed": 1825,
     "status": "ok",
     "timestamp": 1596099606785,
     "user": {
      "displayName": "ian luo",
      "photoUrl": "",
      "userId": "09210897906652852090"
     },
     "user_tz": -480
    },
    "id": "M9jRjqh78azJ"
   },
   "outputs": [],
   "source": [
    "preds = F.softmax(preds, -1)"
   ]
  },
  {
   "cell_type": "code",
   "execution_count": 23,
   "metadata": {
    "colab": {
     "base_uri": "https://localhost:8080/",
     "height": 136
    },
    "colab_type": "code",
    "executionInfo": {
     "elapsed": 694,
     "status": "ok",
     "timestamp": 1596099618296,
     "user": {
      "displayName": "ian luo",
      "photoUrl": "",
      "userId": "09210897906652852090"
     },
     "user_tz": -480
    },
    "id": "s5cpqxf881Rb",
    "outputId": "d3fb705c-1e6f-4859-9cfb-7ab1d479d9ce"
   },
   "outputs": [
    {
     "data": {
      "text/plain": [
       "tensor([[0.4996, 0.5004],\n",
       "        [0.4944, 0.5056],\n",
       "        [0.5954, 0.4046],\n",
       "        [0.5711, 0.4289],\n",
       "        [0.6190, 0.3810],\n",
       "        [0.5797, 0.4203],\n",
       "        [0.5441, 0.4559]])"
      ]
     },
     "execution_count": 23,
     "metadata": {
      "tags": []
     },
     "output_type": "execute_result"
    }
   ],
   "source": [
    "preds"
   ]
  },
  {
   "cell_type": "code",
   "execution_count": 26,
   "metadata": {
    "colab": {
     "base_uri": "https://localhost:8080/",
     "height": 136
    },
    "colab_type": "code",
    "executionInfo": {
     "elapsed": 1780,
     "status": "ok",
     "timestamp": 1596099783879,
     "user": {
      "displayName": "ian luo",
      "photoUrl": "",
      "userId": "09210897906652852090"
     },
     "user_tz": -480
    },
    "id": "41xzet2s9eDa",
    "outputId": "59004e5d-0013-4e57-e49d-97055c17d511"
   },
   "outputs": [
    {
     "data": {
      "text/plain": [
       "tensor([[0],\n",
       "        [0],\n",
       "        [1],\n",
       "        [1],\n",
       "        [0],\n",
       "        [1],\n",
       "        [0]])"
      ]
     },
     "execution_count": 26,
     "metadata": {
      "tags": []
     },
     "output_type": "execute_result"
    }
   ],
   "source": [
    "labels.unsqueeze(1)"
   ]
  },
  {
   "cell_type": "code",
   "execution_count": 29,
   "metadata": {
    "colab": {
     "base_uri": "https://localhost:8080/",
     "height": 136
    },
    "colab_type": "code",
    "executionInfo": {
     "elapsed": 902,
     "status": "ok",
     "timestamp": 1596099860057,
     "user": {
      "displayName": "ian luo",
      "photoUrl": "",
      "userId": "09210897906652852090"
     },
     "user_tz": -480
    },
    "id": "KRG45hf7823j",
    "outputId": "85a13d30-c2df-4c13-f7e0-e8833d897397"
   },
   "outputs": [
    {
     "data": {
      "text/plain": [
       "tensor([[0.4996],\n",
       "        [0.4944],\n",
       "        [0.4046],\n",
       "        [0.4289],\n",
       "        [0.6190],\n",
       "        [0.4203],\n",
       "        [0.5441]])"
      ]
     },
     "execution_count": 29,
     "metadata": {
      "tags": []
     },
     "output_type": "execute_result"
    }
   ],
   "source": [
    "t = torch.gather(preds, 1, labels.unsqueeze(1))\n",
    "t"
   ]
  },
  {
   "cell_type": "code",
   "execution_count": 51,
   "metadata": {
    "colab": {
     "base_uri": "https://localhost:8080/",
     "height": 136
    },
    "colab_type": "code",
    "executionInfo": {
     "elapsed": 1101,
     "status": "ok",
     "timestamp": 1596102485973,
     "user": {
      "displayName": "ian luo",
      "photoUrl": "",
      "userId": "09210897906652852090"
     },
     "user_tz": -480
    },
    "id": "5tRLqIk59yeK",
    "outputId": "c34ed031-bffa-4754-b7aa-ac3a4c458656"
   },
   "outputs": [
    {
     "data": {
      "text/plain": [
       "tensor([[0.3472],\n",
       "        [0.3562],\n",
       "        [0.5388],\n",
       "        [0.4834],\n",
       "        [0.1828],\n",
       "        [0.5025],\n",
       "        [0.2774]])"
      ]
     },
     "execution_count": 51,
     "metadata": {
      "tags": []
     },
     "output_type": "execute_result"
    }
   ],
   "source": [
    "loss = -(1-t)*torch.log(t)\n",
    "loss"
   ]
  },
  {
   "cell_type": "code",
   "execution_count": 48,
   "metadata": {
    "colab": {},
    "colab_type": "code",
    "executionInfo": {
     "elapsed": 1138,
     "status": "ok",
     "timestamp": 1596102438019,
     "user": {
      "displayName": "ian luo",
      "photoUrl": "",
      "userId": "09210897906652852090"
     },
     "user_tz": -480
    },
    "id": "E9BTtTx2G4wd"
   },
   "outputs": [],
   "source": [
    "class_weights = [0.3, 0.7]\n",
    "class_weights = torch.tensor(class_weights)"
   ]
  },
  {
   "cell_type": "code",
   "execution_count": 49,
   "metadata": {
    "colab": {
     "base_uri": "https://localhost:8080/",
     "height": 34
    },
    "colab_type": "code",
    "executionInfo": {
     "elapsed": 1132,
     "status": "ok",
     "timestamp": 1596102438022,
     "user": {
      "displayName": "ian luo",
      "photoUrl": "",
      "userId": "09210897906652852090"
     },
     "user_tz": -480
    },
    "id": "XDSV569LHF9u",
    "outputId": "715076f0-92cc-464d-c191-57c9c985340c"
   },
   "outputs": [
    {
     "data": {
      "text/plain": [
       "tensor([0.3000, 0.3000, 0.7000, 0.7000, 0.3000, 0.7000, 0.3000])"
      ]
     },
     "execution_count": 49,
     "metadata": {
      "tags": []
     },
     "output_type": "execute_result"
    }
   ],
   "source": [
    "class_weights.gather(0, labels)"
   ]
  },
  {
   "cell_type": "code",
   "execution_count": 54,
   "metadata": {
    "colab": {},
    "colab_type": "code",
    "executionInfo": {
     "elapsed": 897,
     "status": "ok",
     "timestamp": 1596102576213,
     "user": {
      "displayName": "ian luo",
      "photoUrl": "",
      "userId": "09210897906652852090"
     },
     "user_tz": -480
    },
    "id": "qoNIkq_qHvP4"
   },
   "outputs": [],
   "source": [
    "loss = loss.squeeze() * class_weights.gather(0, labels)"
   ]
  },
  {
   "cell_type": "code",
   "execution_count": 55,
   "metadata": {
    "colab": {
     "base_uri": "https://localhost:8080/",
     "height": 34
    },
    "colab_type": "code",
    "executionInfo": {
     "elapsed": 976,
     "status": "ok",
     "timestamp": 1596102730229,
     "user": {
      "displayName": "ian luo",
      "photoUrl": "",
      "userId": "09210897906652852090"
     },
     "user_tz": -480
    },
    "id": "9nvSz1AgItct",
    "outputId": "f2ab43f4-ecf5-48f3-a392-cc739c5229c8"
   },
   "outputs": [
    {
     "data": {
      "text/plain": [
       "tensor([0.1042, 0.1069, 0.3772, 0.3384, 0.0548, 0.3517, 0.0832])"
      ]
     },
     "execution_count": 55,
     "metadata": {
      "tags": []
     },
     "output_type": "execute_result"
    }
   ],
   "source": [
    "loss"
   ]
  },
  {
   "cell_type": "code",
   "execution_count": 57,
   "metadata": {
    "colab": {
     "base_uri": "https://localhost:8080/",
     "height": 34
    },
    "colab_type": "code",
    "executionInfo": {
     "elapsed": 954,
     "status": "ok",
     "timestamp": 1596102748344,
     "user": {
      "displayName": "ian luo",
      "photoUrl": "",
      "userId": "09210897906652852090"
     },
     "user_tz": -480
    },
    "id": "gSGe80mpIw8A",
    "outputId": "f65b2116-5df5-49ae-f06b-591f711cf1c2"
   },
   "outputs": [
    {
     "data": {
      "text/plain": [
       "tensor(0.2023)"
      ]
     },
     "execution_count": 57,
     "metadata": {
      "tags": []
     },
     "output_type": "execute_result"
    }
   ],
   "source": [
    "loss.mean()"
   ]
  },
  {
   "cell_type": "code",
   "execution_count": 56,
   "metadata": {
    "colab": {
     "base_uri": "https://localhost:8080/",
     "height": 34
    },
    "colab_type": "code",
    "executionInfo": {
     "elapsed": 1067,
     "status": "ok",
     "timestamp": 1596102738735,
     "user": {
      "displayName": "ian luo",
      "photoUrl": "",
      "userId": "09210897906652852090"
     },
     "user_tz": -480
    },
    "id": "ZGLkZoNM-aqh",
    "outputId": "24640fd8-c561-4f05-ef5f-17b60ffab9f4"
   },
   "outputs": [
    {
     "data": {
      "text/plain": [
       "tensor(0.2023)"
      ]
     },
     "execution_count": 56,
     "metadata": {
      "tags": []
     },
     "output_type": "execute_result"
    }
   ],
   "source": [
    "loss.mean(0)"
   ]
  },
  {
   "cell_type": "code",
   "execution_count": 64,
   "metadata": {
    "colab": {},
    "colab_type": "code",
    "executionInfo": {
     "elapsed": 1064,
     "status": "ok",
     "timestamp": 1596103824166,
     "user": {
      "displayName": "ian luo",
      "photoUrl": "",
      "userId": "09210897906652852090"
     },
     "user_tz": -480
    },
    "id": "Uo6KHW-y63Az"
   },
   "outputs": [],
   "source": [
    "def MyLoss(preds, labels, class_weights=[1, 1.2], gamma=1):\n",
    "    class_weights = torch.tensor(class_weights).to('cuda')\n",
    "    class_weights = class_weights.gather(0, labels)\n",
    "    preds = F.softmax(preds, -1)\n",
    "    t = torch.gather(preds, 1, labels.unsqueeze(1))\n",
    "    loss = -(1-t)**gamma * torch.log(t)\n",
    "    loss = loss.squeeze() * class_weights\n",
    "    return loss.mean()"
   ]
  },
  {
   "cell_type": "code",
   "execution_count": null,
   "metadata": {
    "colab": {},
    "colab_type": "code",
    "id": "Cl6ZsHOi-p7m"
   },
   "outputs": [],
   "source": []
  },
  {
   "cell_type": "code",
   "execution_count": null,
   "metadata": {
    "colab": {
     "base_uri": "https://localhost:8080/",
     "height": 34
    },
    "colab_type": "code",
    "executionInfo": {
     "elapsed": 3470,
     "status": "ok",
     "timestamp": 1596005953617,
     "user": {
      "displayName": "ian luo",
      "photoUrl": "",
      "userId": "09210897906652852090"
     },
     "user_tz": -480
    },
    "id": "VkEYl4Yx11mH",
    "outputId": "43df9482-d55f-4e33-c0b2-d48e0fd451a2"
   },
   "outputs": [
    {
     "data": {
      "text/plain": [
       "8000"
      ]
     },
     "execution_count": 68,
     "metadata": {
      "tags": []
     },
     "output_type": "execute_result"
    }
   ],
   "source": [
    "len(train_iter)"
   ]
  },
  {
   "cell_type": "code",
   "execution_count": null,
   "metadata": {
    "colab": {},
    "colab_type": "code",
    "id": "1aEciFG37Ne6"
   },
   "outputs": [],
   "source": [
    "tensor([[ 0.0163, -0.1587],\n",
    "        [ 0.1188, -0.2245],\n",
    "        [ 0.0598, -0.1625],\n",
    "        [-0.2124,  0.1388],\n",
    "        [-0.1100,  0.0684],\n",
    "        [-0.0453, -0.1331],\n",
    "        [ 0.0188, -0.2474],\n",
    "        [ 0.0050, -0.1964]], device='cuda:0')\n",
    "tensor([0, 0, 0, 1, 1, 0, 0, 0], device='cuda:0')"
   ]
  },
  {
   "cell_type": "code",
   "execution_count": 66,
   "metadata": {
    "colab": {
     "base_uri": "https://localhost:8080/",
     "height": 170
    },
    "colab_type": "code",
    "executionInfo": {
     "elapsed": 897190,
     "status": "ok",
     "timestamp": 1596104740509,
     "user": {
      "displayName": "ian luo",
      "photoUrl": "",
      "userId": "09210897906652852090"
     },
     "user_tz": -480
    },
    "id": "WaJfLpPd1MWV",
    "outputId": "03fd7de5-8cde-413d-9d04-72424b90e8cd"
   },
   "outputs": [
    {
     "name": "stdout",
     "output_type": "stream",
     "text": [
      "2020-07-30 10:10:49 5s step: 0; train loss: 0.37468740344047546; val loss: 2.4653921900987625; accuracy: 0.67141\n",
      "2020-07-30 10:12:40 111s step: 999; train loss: 0.23959611356258392; val loss: 0.181330590672791; accuracy: 0.86487\n",
      "2020-07-30 10:14:31 111s step: 1999; train loss: 0.20852698385715485; val loss: 0.16422740852087736; accuracy: 0.88147\n",
      "2020-07-30 10:16:23 111s step: 2999; train loss: 0.18095630407333374; val loss: 0.15023894307389857; accuracy: 0.89608\n",
      "2020-07-30 10:18:14 111s step: 3999; train loss: 0.13235890865325928; val loss: 0.14419522135332227; accuracy: 0.90023\n",
      "2020-07-30 10:20:05 111s step: 4999; train loss: 0.17433345317840576; val loss: 0.1391603584587574; accuracy: 0.90222\n",
      "2020-07-30 10:21:56 111s step: 5999; train loss: 0.11843869835138321; val loss: 0.1356759348474443; accuracy: 0.90472\n",
      "2020-07-30 10:23:47 111s step: 6999; train loss: 0.16894489526748657; val loss: 0.13879442168399692; accuracy: 0.90748\n",
      "2020-07-30 10:25:39 111s step: 7999; train loss: 0.12020215392112732; val loss: 0.13012073561176657; accuracy: 0.91085\n"
     ]
    }
   ],
   "source": [
    "time_start = datetime.now()\n",
    "for step, batch in enumerate(train_iter):\n",
    "    \n",
    "    optimizer.zero_grad()\n",
    "    textsb = batch.creative_ids.to('cuda')\n",
    "    textsb_mask = (textsb==1).transpose(0, 1)\n",
    "    labelsb = batch.gender.to('cuda')\n",
    "    predicted = model(textsb, textsb_mask)\n",
    "    # print(predicted)\n",
    "    # print(labelsb)\n",
    "    # break\n",
    "    loss = criterion(predicted, labelsb)\n",
    "    loss.backward()\n",
    "    optimizer.step()\n",
    "    if (step+1) % 1000 == 0 or step==0:\n",
    "        # print(loss)\n",
    "        correct_val = 0.\n",
    "        total_val = 0.\n",
    "        loss_val = 0.\n",
    "        model.eval()\n",
    "        with torch.no_grad():\n",
    "            for stepv, batchv in enumerate(val_iter):\n",
    "              textsb = batchv.creative_ids.to('cuda')\n",
    "              textsb_mask = (textsb==1).transpose(0, 1)\n",
    "              labelsb = batchv.gender.to('cuda')\n",
    "              outputs = model(textsb, textsb_mask)\n",
    "              # print(outputs)\n",
    "              loss_val += criterion(outputs, labelsb).item()\n",
    "              _, predicted = torch.max(outputs, 1)\n",
    "              # print(predicted)\n",
    "              total_val += labelsb.size(0)\n",
    "              correct_val += (predicted == labelsb).squeeze().sum().to('cpu').numpy()\n",
    "            now = datetime.now()\n",
    "            print(f'{now.strftime(\"%Y-%m-%d %H:%M:%S\")} {int((now-time_start).total_seconds())}s step: {step}; train loss: {loss.item()}; val loss: {loss_val/(stepv+1)}; accuracy: {correct_val/total_val}')\n",
    "        model.train()\n",
    "        time_start = now"
   ]
  },
  {
   "cell_type": "code",
   "execution_count": null,
   "metadata": {
    "colab": {},
    "colab_type": "code",
    "id": "BxA_xy9l5xIf"
   },
   "outputs": [],
   "source": [
    "# transformer heads 20 + learnable pos_encode\n",
    "2020-07-29 10:23:30 11s step: 0; train loss: 0.6888568997383118; val loss: 2.459111626148224; accuracy: 0.67141\n",
    "2020-07-29 10:26:16 166s step: 999; train loss: 0.24504294991493225; val loss: 0.27081938640028236; accuracy: 0.89253\n",
    "2020-07-29 10:29:03 167s step: 1999; train loss: 0.2326202541589737; val loss: 0.24225042283535003; accuracy: 0.90461\n",
    "2020-07-29 10:31:51 168s step: 2999; train loss: 0.2733555734157562; val loss: 0.23457658088207245; accuracy: 0.90829\n",
    "2020-07-29 10:34:40 168s step: 3999; train loss: 0.25496596097946167; val loss: 0.22565073600411414; accuracy: 0.91211\n",
    "2020-07-29 10:37:29 169s step: 4999; train loss: 0.2791408896446228; val loss: 0.22181752740591765; accuracy: 0.91498\n",
    "2020-07-29 10:40:18 169s step: 5999; train loss: 0.2624041438102722; val loss: 0.21999888399615883; accuracy: 0.91686\n",
    "2020-07-29 10:43:07 169s step: 6999; train loss: 0.17159701883792877; val loss: 0.21413596580177546; accuracy: 0.91737\n",
    "2020-07-29 10:45:56 169s step: 7999; train loss: 0.39365866780281067; val loss: 0.2206704160310328; accuracy: 0.91921\n",
    "# transformer heads 10 + learnable pos_encode\n",
    "head 增大后，效果变好\n",
    "2020-07-29 09:59:44 10s step: 0; train loss: 0.7531651258468628; val loss: 2.2926154747009275; accuracy: 0.67141\n",
    "2020-07-29 10:02:26 162s step: 999; train loss: 0.26687565445899963; val loss: 0.28532810951024296; accuracy: 0.88035\n",
    "2020-07-29 10:05:09 163s step: 1999; train loss: 0.19847282767295837; val loss: 0.2500127937942743; accuracy: 0.90012\n",
    "2020-07-29 10:07:54 164s step: 2999; train loss: 0.2927064895629883; val loss: 0.2390718938037753; accuracy: 0.9071\n",
    "2020-07-29 10:10:39 165s step: 3999; train loss: 0.23669065535068512; val loss: 0.23182151336222886; accuracy: 0.90987\n",
    "2020-07-29 10:13:24 165s step: 4999; train loss: 0.2145664542913437; val loss: 0.2255424172580242; accuracy: 0.91288\n",
    "2020-07-29 10:16:10 165s step: 5999; train loss: 0.22272655367851257; val loss: 0.22508002539351582; accuracy: 0.91444\n",
    "2020-07-29 10:18:56 166s step: 6999; train loss: 0.16925068199634552; val loss: 0.21928808401152491; accuracy: 0.9156\n",
    "2020-07-29 10:21:42 165s step: 7999; train loss: 0.12449522316455841; val loss: 0.2184925230629742; accuracy: 0.91716\n",
    "# transformer heads 4 + learnable pos_encode\n",
    "2020-07-29 09:11:30 161s step: 999; train loss: 0.3133758008480072; val loss: 0.3025586664676666; accuracy: 0.8772\n",
    "2020-07-29 09:14:11 161s step: 1999; train loss: 0.45509541034698486; val loss: 0.27888034814596174; accuracy: 0.88685\n",
    "2020-07-29 09:16:53 162s step: 2999; train loss: 0.2985176146030426; val loss: 0.24819827196747066; accuracy: 0.90179\n",
    "2020-07-29 09:19:36 162s step: 3999; train loss: 0.2637624740600586; val loss: 0.2388577264174819; accuracy: 0.90579\n",
    "2020-07-29 09:22:19 163s step: 4999; train loss: 0.316198468208313; val loss: 0.23650204017013313; accuracy: 0.90699\n",
    "2020-07-29 09:25:03 163s step: 5999; train loss: 0.1848619431257248; val loss: 0.2301157729178667; accuracy: 0.91115\n",
    "2020-07-29 09:27:47 163s step: 6999; train loss: 0.25114160776138306; val loss: 0.22648274568468332; accuracy: 0.91385\n",
    "2020-07-29 09:30:31 163s step: 7999; train loss: 0.1501266360282898; val loss: 0.22862565544620156; accuracy: 0.91331\n",
    "# transformer heads 2 + learnable pos_encode + padding mask + encode layer 2(其它的layer为1)\n",
    "大跌眼镜啊，可能因为参数多，收敛起来慢吧\n",
    "2020-07-29 11:22:06 15s step: 0; train loss: 0.7336103320121765; val loss: 2.5716112222671508; accuracy: 0.67141\n",
    "2020-07-29 11:25:09 183s step: 999; train loss: 0.5104204416275024; val loss: 0.5579511325657368; accuracy: 0.67559\n",
    "2020-07-29 11:28:14 184s step: 1999; train loss: 0.5596928596496582; val loss: 0.5105156623125077; accuracy: 0.74181\n",
    "2020-07-29 11:31:19 185s step: 2999; train loss: 0.4652661085128784; val loss: 0.4614643865823746; accuracy: 0.78875\n",
    "2020-07-29 11:34:25 186s step: 3999; train loss: 0.4260783791542053; val loss: 0.44898554304242133; accuracy: 0.79963\n",
    "2020-07-29 11:37:32 186s step: 4999; train loss: 0.3804198205471039; val loss: 0.4218429928719997; accuracy: 0.80995\n",
    "2020-07-29 11:40:39 186s step: 5999; train loss: 0.4024531841278076; val loss: 0.4213450171351433; accuracy: 0.81189\n",
    "2020-07-29 11:43:46 186s step: 6999; train loss: 0.47317180037498474; val loss: 0.39196812753379345; accuracy: 0.82132\n",
    "2020-07-29 11:46:53 187s step: 7999; train loss: 0.33840930461883545; val loss: 0.35882561206817626; accuracy: 0.84294\n",
    "\n",
    "# transformer heads 2 + learnable pos_encode + padding mask + 修改loss focal loss(alpha=1, gamaa=2)\n",
    "2020-07-30 09:32:33 5s step: 0; train loss: 0.19623416662216187; val loss: 1.7654534958600998; accuracy: 0.67141\n",
    "2020-07-30 09:34:23 110s step: 999; train loss: 0.08362846076488495; val loss: 0.08525678870454431; accuracy: 0.86156\n",
    "2020-07-30 09:36:13 110s step: 1999; train loss: 0.08869556337594986; val loss: 0.07494684437662363; accuracy: 0.88521\n",
    "2020-07-30 09:38:03 110s step: 2999; train loss: 0.08733316510915756; val loss: 0.07229035603068769; accuracy: 0.89652\n",
    "2020-07-30 09:39:53 110s step: 3999; train loss: 0.06403527408838272; val loss: 0.0680099964775145; accuracy: 0.89852\n",
    "2020-07-30 09:41:43 110s step: 4999; train loss: 0.04991994798183441; val loss: 0.06649616079498083; accuracy: 0.90771\n",
    "2020-07-30 09:43:33 110s step: 5999; train loss: 0.05683526769280434; val loss: 0.06281682370975614; accuracy: 0.9089\n",
    "2020-07-30 09:45:23 110s step: 6999; train loss: 0.06996878236532211; val loss: 0.06265883174072952; accuracy: 0.91068\n",
    "2020-07-30 09:47:13 110s step: 7999; train loss: 0.07312659174203873; val loss: 0.06251069465652108; accuracy: 0.91157\n",
    "\n",
    "# transformer heads 2 + learnable pos_encode + padding mask + 修改loss focal loss(class_weights=[1, 2], gamaa=1)\n",
    "0    602610\n",
    "1    297390\n",
    "按照经验，这点不均衡根本不算什么，class_weights=[1, 2]过头了， 果不其然！\n",
    "2020-07-30 09:53:49 6s step: 0; train loss: 0.4894126057624817; val loss: 3.892231452465057; accuracy: 0.67141\n",
    "2020-07-30 09:55:40 111s step: 999; train loss: 0.2477148324251175; val loss: 0.23363508321344853; accuracy: 0.84886\n",
    "2020-07-30 09:57:31 111s step: 1999; train loss: 0.1983683854341507; val loss: 0.20802405197173357; accuracy: 0.88532\n",
    "2020-07-30 09:59:22 111s step: 2999; train loss: 0.1671139895915985; val loss: 0.19373685778304933; accuracy: 0.89232\n",
    "2020-07-30 10:01:13 111s step: 3999; train loss: 0.21354083716869354; val loss: 0.18876031852141023; accuracy: 0.89108\n",
    "2020-07-30 10:03:05 111s step: 4999; train loss: 0.16969595849514008; val loss: 0.1800823621377349; accuracy: 0.89913\n",
    "2020-07-30 10:04:56 111s step: 5999; train loss: 0.36961841583251953; val loss: 0.1766268918439746; accuracy: 0.89844\n",
    "2020-07-30 10:06:47 111s step: 6999; train loss: 0.17424160242080688; val loss: 0.17147966679185628; accuracy: 0.89647\n",
    "2020-07-30 10:08:38 111s step: 7999; train loss: 0.15292054414749146; val loss: 0.17202003279328346; accuracy: 0.8964\n",
    "\n",
    "class_weights=[1, 1.2]， 效果差强人意，结论就是 这点不均衡，根本不用调class_weights...\n",
    "2020-07-30 10:10:49 5s step: 0; train loss: 0.37468740344047546; val loss: 2.4653921900987625; accuracy: 0.67141\n",
    "2020-07-30 10:12:40 111s step: 999; train loss: 0.23959611356258392; val loss: 0.181330590672791; accuracy: 0.86487\n",
    "2020-07-30 10:14:31 111s step: 1999; train loss: 0.20852698385715485; val loss: 0.16422740852087736; accuracy: 0.88147\n",
    "2020-07-30 10:16:23 111s step: 2999; train loss: 0.18095630407333374; val loss: 0.15023894307389857; accuracy: 0.89608\n",
    "2020-07-30 10:18:14 111s step: 3999; train loss: 0.13235890865325928; val loss: 0.14419522135332227; accuracy: 0.90023\n",
    "2020-07-30 10:20:05 111s step: 4999; train loss: 0.17433345317840576; val loss: 0.1391603584587574; accuracy: 0.90222\n",
    "2020-07-30 10:21:56 111s step: 5999; train loss: 0.11843869835138321; val loss: 0.1356759348474443; accuracy: 0.90472\n",
    "2020-07-30 10:23:47 111s step: 6999; train loss: 0.16894489526748657; val loss: 0.13879442168399692; accuracy: 0.90748\n",
    "2020-07-30 10:25:39 111s step: 7999; train loss: 0.12020215392112732; val loss: 0.13012073561176657; accuracy: 0.91085\n",
    "\n",
    "# transformer heads 2 + learnable pos_encode + padding mask + 修改loss focal loss(class_weights=[], gamaa=1)\n",
    "好开森，用着自己实现的loss，好爽！\n",
    "2020-07-30 09:12:48 5s step: 0; train loss: 0.3496469557285309; val loss: 2.5490412428379057; accuracy: 0.67141\n",
    "2020-07-30 09:14:38 109s step: 999; train loss: 0.1401101052761078; val loss: 0.17717842800542713; accuracy: 0.84789\n",
    "2020-07-30 09:16:28 109s step: 1999; train loss: 0.16289111971855164; val loss: 0.1498344074897468; accuracy: 0.88093\n",
    "2020-07-30 09:18:17 109s step: 2999; train loss: 0.14678867161273956; val loss: 0.1439799223802984; accuracy: 0.88556\n",
    "2020-07-30 09:20:07 109s step: 3999; train loss: 0.19225876033306122; val loss: 0.1287810543626547; accuracy: 0.90165\n",
    "2020-07-30 09:21:57 109s step: 4999; train loss: 0.12752223014831543; val loss: 0.12818017444759608; accuracy: 0.90222\n",
    "2020-07-30 09:23:47 110s step: 5999; train loss: 0.16702598333358765; val loss: 0.12510130172967912; accuracy: 0.9024\n",
    "2020-07-30 09:25:37 110s step: 6999; train loss: 0.12674368917942047; val loss: 0.12303619818016887; accuracy: 0.90838\n",
    "2020-07-30 09:27:27 110s step: 7999; train loss: 0.08951617777347565; val loss: 0.11706878117099405; accuracy: 0.91208\n",
    "\n",
    "\n",
    "# transformer heads 2 + learnable pos_encode + padding mask\n",
    "加上mask后效果提升！\n",
    "2020-07-29 10:57:52 10s step: 0; train loss: 0.7252820730209351; val loss: 2.3158143815994263; accuracy: 0.67141\n",
    "2020-07-29 11:00:32 159s step: 999; train loss: 0.3290337324142456; val loss: 0.32025137323886155; accuracy: 0.86478\n",
    "2020-07-29 11:03:13 160s step: 1999; train loss: 0.1966371387243271; val loss: 0.28699284441024064; accuracy: 0.88216\n",
    "2020-07-29 11:05:55 162s step: 2999; train loss: 0.3227078914642334; val loss: 0.2588016359135509; accuracy: 0.8967\n",
    "2020-07-29 11:08:38 162s step: 3999; train loss: 0.3194979727268219; val loss: 0.25239473562687637; accuracy: 0.90147\n",
    "2020-07-29 11:11:21 162s step: 4999; train loss: 0.317527174949646; val loss: 0.2572562959343195; accuracy: 0.90446\n",
    "2020-07-29 11:14:04 163s step: 5999; train loss: 0.17862893640995026; val loss: 0.24698179376870394; accuracy: 0.90461\n",
    "2020-07-29 11:16:47 163s step: 6999; train loss: 0.1881033331155777; val loss: 0.24531507790088652; accuracy: 0.9091\n",
    "2020-07-29 11:19:30 163s step: 7999; train loss: 0.2803882658481598; val loss: 0.2318588673248887; accuracy: 0.91223\n",
    "\n",
    "# transformer heads 2 + learnable pos_encode\n",
    "2020-07-29 08:44:18 9s step: 0; train loss: 0.6819533705711365; val loss: 2.323913005232811; accuracy: 0.67141\n",
    "2020-07-29 08:46:57 159s step: 1000; train loss: 0.44977420568466187; val loss: 0.35437445545196533; accuracy: 0.84789\n",
    "2020-07-29 08:49:38 160s step: 2000; train loss: 0.4483421742916107; val loss: 0.2991078807041049; accuracy: 0.87619\n",
    "2020-07-29 08:52:19 161s step: 3000; train loss: 0.2626582980155945; val loss: 0.2861929105371237; accuracy: 0.88346\n",
    "2020-07-29 08:55:01 161s step: 4000; train loss: 0.23002101480960846; val loss: 0.2698283971697092; accuracy: 0.8959\n",
    "2020-07-29 08:57:44 162s step: 5000; train loss: 0.21724306046962738; val loss: 0.2594862695336342; accuracy: 0.90002\n",
    "2020-07-29 09:00:26 162s step: 6000; train loss: 0.2609153687953949; val loss: 0.24245518317818643; accuracy: 0.90455\n",
    "2020-07-29 09:03:09 162s step: 7000; train loss: 0.25595805048942566; val loss: 0.23996299289539455; accuracy: 0.9063\n",
    "# transformer heads 2 + unlearnable pos_encode\n",
    "表现比learnable pos_encode略差一些\n",
    "2020-07-29 09:35:23 9s step: 0; train loss: 0.6293551921844482; val loss: 2.017247985124588; accuracy: 0.67141\n",
    "2020-07-29 09:38:03 159s step: 999; train loss: 0.2743014693260193; val loss: 0.34635482528060674; accuracy: 0.8458\n",
    "2020-07-29 09:40:43 160s step: 1999; train loss: 0.2392614185810089; val loss: 0.2934611782804131; accuracy: 0.87732\n",
    "2020-07-29 09:43:24 161s step: 2999; train loss: 0.3048652410507202; val loss: 0.2768153970837593; accuracy: 0.88686\n",
    "2020-07-29 09:46:06 161s step: 3999; train loss: 0.2781606912612915; val loss: 0.2623164827004075; accuracy: 0.89457\n",
    "2020-07-29 09:48:48 161s step: 4999; train loss: 0.24915334582328796; val loss: 0.2541348894014955; accuracy: 0.89724\n",
    "2020-07-29 09:51:30 162s step: 5999; train loss: 0.24871185421943665; val loss: 0.2470167309269309; accuracy: 0.90174\n",
    "2020-07-29 09:54:12 162s step: 6999; train loss: 0.24821065366268158; val loss: 0.2557852273881435; accuracy: 0.90135\n",
    "# transformer heads 2 without pos_encode\n",
    "2020-07-29 08:37:13 23s step: 7800; train loss: 0.22911757230758667; val loss: 0.2624150919392705; accuracy: 0.89868\n",
    "2020-07-29 08:37:37 23s step: 7900; train loss: 0.1702890545129776; val loss: 0.25887332943081853; accuracy: 0.89878"
   ]
  },
  {
   "cell_type": "code",
   "execution_count": null,
   "metadata": {
    "colab": {},
    "colab_type": "code",
    "id": "RyFJHJpOK8Zh"
   },
   "outputs": [],
   "source": []
  }
 ],
 "metadata": {
  "accelerator": "GPU",
  "colab": {
   "authorship_tag": "ABX9TyPkOPVlbisJEOFyv7nuYwH8",
   "mount_file_id": "1jmqPAtc0TBNsYFPbUZKqZCcAFCMK0Or4",
   "name": "torchtext_tx_transformer",
   "provenance": []
  },
  "kernelspec": {
   "display_name": "Python 3",
   "language": "python",
   "name": "python3"
  },
  "language_info": {
   "codemirror_mode": {
    "name": "ipython",
    "version": 3
   },
   "file_extension": ".py",
   "mimetype": "text/x-python",
   "name": "python",
   "nbconvert_exporter": "python",
   "pygments_lexer": "ipython3",
   "version": "3.7.3"
  },
  "toc": {
   "base_numbering": 1,
   "nav_menu": {},
   "number_sections": true,
   "sideBar": true,
   "skip_h1_title": false,
   "title_cell": "Table of Contents",
   "title_sidebar": "Contents",
   "toc_cell": false,
   "toc_position": {},
   "toc_section_display": true,
   "toc_window_display": false
  },
  "varInspector": {
   "cols": {
    "lenName": 16,
    "lenType": 16,
    "lenVar": 40
   },
   "kernels_config": {
    "python": {
     "delete_cmd_postfix": "",
     "delete_cmd_prefix": "del ",
     "library": "var_list.py",
     "varRefreshCmd": "print(var_dic_list())"
    },
    "r": {
     "delete_cmd_postfix": ") ",
     "delete_cmd_prefix": "rm(",
     "library": "var_list.r",
     "varRefreshCmd": "cat(var_dic_list()) "
    }
   },
   "types_to_exclude": [
    "module",
    "function",
    "builtin_function_or_method",
    "instance",
    "_Feature"
   ],
   "window_display": false
  }
 },
 "nbformat": 4,
 "nbformat_minor": 1
}
