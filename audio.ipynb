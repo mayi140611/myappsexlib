{
 "cells": [
  {
   "cell_type": "code",
   "execution_count": 3,
   "metadata": {},
   "outputs": [],
   "source": [
    "# default_exp engineering.nbdev\n",
    "\n",
    "%reload_ext autoreload\n",
    "%autoreload 2"
   ]
  },
  {
   "cell_type": "markdown",
   "metadata": {},
   "source": [
    "# torchaudio: an audio library for PyTorch\n",
    "https://github.com/pytorch/audio\n",
    "\n",
    "https://www.pythonf.cn/read/75428"
   ]
  },
  {
   "cell_type": "markdown",
   "metadata": {},
   "source": [
    "## install"
   ]
  },
  {
   "cell_type": "code",
   "execution_count": 2,
   "metadata": {},
   "outputs": [
    {
     "name": "stdout",
     "output_type": "stream",
     "text": [
      "torchaudio==0.5.1\r\n"
     ]
    }
   ],
   "source": [
    "# !pip install torchaudio\n",
    "!pip freeze | grep torchaudio"
   ]
  },
  {
   "cell_type": "markdown",
   "metadata": {},
   "source": [
    "# spectra-torch\n",
    "https://github.com/mechanicalsea/spectra\n",
    "\n",
    "https://blog.csdn.net/i_love_home/article/details/104704815/\n",
    "\n",
    "Github 提供了 C++ 版本和 Python Numpy 版本的语音频谱特征提取工具，给深度模型设计的复现提出了挑战。\n",
    "\n",
    "深度学习给语音识别提供的最新的解决方案，建立一个深度学习框架的语音频谱特征提取工具能够提供更加高效的模型构建与开发策略。\n",
    "\n",
    "spectra_torch 提供了 PyTorch 版本的语音频谱特征提取方法，例如 MFCC、滤波器组和基于能量的 VAD。\n",
    "\n",
    "测试表明：PyTorch 版本的 MFCC 提取效率优于 Numpy 版本的 MFCC，具体地说，MacOS CPU 计算机上快 0.1s/MFCC。\n",
    "## 功能\n",
    "\n",
    "    梅尔频谱倒谱系数 Mel Frequency Cepstral Coefficients (MFCC)\n",
    "    滤波器组 Filterbank Energies\n",
    "    指数滤波器组 Log Filterbank Energies\n",
    "    声音动态检测 Voice Activity Detection (VAD)\n",
    "## install"
   ]
  },
  {
   "cell_type": "code",
   "execution_count": 4,
   "metadata": {},
   "outputs": [
    {
     "name": "stdout",
     "output_type": "stream",
     "text": [
      "spectra-torch==0.4.0\r\n"
     ]
    }
   ],
   "source": [
    "# !pip install --upgrade spectra-torch\n",
    "!pip freeze |grep spectra"
   ]
  },
  {
   "cell_type": "code",
   "execution_count": null,
   "metadata": {},
   "outputs": [],
   "source": []
  }
 ],
 "metadata": {
  "kernelspec": {
   "display_name": "Python 3",
   "language": "python",
   "name": "python3"
  },
  "language_info": {
   "codemirror_mode": {
    "name": "ipython",
    "version": 3
   },
   "file_extension": ".py",
   "mimetype": "text/x-python",
   "name": "python",
   "nbconvert_exporter": "python",
   "pygments_lexer": "ipython3",
   "version": "3.7.3"
  },
  "toc": {
   "base_numbering": 1,
   "nav_menu": {},
   "number_sections": true,
   "sideBar": true,
   "skip_h1_title": false,
   "title_cell": "Table of Contents",
   "title_sidebar": "Contents",
   "toc_cell": false,
   "toc_position": {},
   "toc_section_display": true,
   "toc_window_display": true
  },
  "varInspector": {
   "cols": {
    "lenName": 16,
    "lenType": 16,
    "lenVar": 40
   },
   "kernels_config": {
    "python": {
     "delete_cmd_postfix": "",
     "delete_cmd_prefix": "del ",
     "library": "var_list.py",
     "varRefreshCmd": "print(var_dic_list())"
    },
    "r": {
     "delete_cmd_postfix": ") ",
     "delete_cmd_prefix": "rm(",
     "library": "var_list.r",
     "varRefreshCmd": "cat(var_dic_list()) "
    }
   },
   "types_to_exclude": [
    "module",
    "function",
    "builtin_function_or_method",
    "instance",
    "_Feature"
   ],
   "window_display": false
  }
 },
 "nbformat": 4,
 "nbformat_minor": 2
}
