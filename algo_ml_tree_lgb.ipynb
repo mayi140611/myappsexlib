{
 "cells": [
  {
   "cell_type": "code",
   "execution_count": 1,
   "metadata": {},
   "outputs": [],
   "source": [
    "# default_exp algo.ml.tree.lgb"
   ]
  },
  {
   "cell_type": "markdown",
   "metadata": {},
   "source": [
    "# LightGBM, Light Gradient Boosting Machine\n",
    "\n",
    "https://github.com/microsoft/LightGBM\n",
    "\n",
    "https://lightgbm.readthedocs.io/en/latest/\n",
    "\n",
    "LightGBM是使用基于树的学习算法的梯度增强框架。 它被设计为分布式且高效的，具有以下优点：\n",
    "\n",
    "     训练速度更快，效率更高。\n",
    "\n",
    "     降低内存使用率。\n",
    "\n",
    "     更好的准确性。\n",
    "\n",
    "     支持并行和GPU学习。\n",
    "\n",
    "     能够处理大规模数据。"
   ]
  },
  {
   "cell_type": "markdown",
   "metadata": {},
   "source": [
    "## install"
   ]
  },
  {
   "cell_type": "code",
   "execution_count": 81,
   "metadata": {},
   "outputs": [
    {
     "name": "stdout",
     "output_type": "stream",
     "text": [
      "lightgbm==2.3.1\r\n"
     ]
    }
   ],
   "source": [
    "# !pip install lightgbm -U\n",
    "!pip freeze | grep lightgbm"
   ]
  },
  {
   "cell_type": "markdown",
   "metadata": {},
   "source": [
    "# python guide\n",
    "https://github.com/microsoft/LightGBM/tree/master/examples/python-guide\n",
    "\n",
    "https://lightgbm.readthedocs.io/en/latest/Python-API.html"
   ]
  },
  {
   "cell_type": "markdown",
   "metadata": {},
   "source": [
    "## simple_example\n",
    "https://github.com/microsoft/LightGBM/blob/master/examples/python-guide/simple_example.py\n",
    "\n",
    "\n",
    "    Construct Dataset\n",
    "    Basic train and predict\n",
    "    Eval during training\n",
    "    Early stopping\n",
    "    Save model to file\n"
   ]
  },
  {
   "cell_type": "code",
   "execution_count": 4,
   "metadata": {},
   "outputs": [
    {
     "name": "stderr",
     "output_type": "stream",
     "text": [
      "/Users/luoyonggui/anaconda3/lib/python3.7/site-packages/lightgbm/__init__.py:47: UserWarning: Starting from version 2.2.1, the library file in distribution wheels for macOS is built by the Apple Clang (Xcode_8.3.3) compiler.\n",
      "This means that in case of installing LightGBM from PyPI via the ``pip install lightgbm`` command, you don't need to install the gcc compiler anymore.\n",
      "Instead of that, you need to install the OpenMP library, which is required for running LightGBM on the system with the Apple Clang compiler.\n",
      "You can install the OpenMP library by the following command: ``brew install libomp``.\n",
      "  \"You can install the OpenMP library by the following command: ``brew install libomp``.\", UserWarning)\n"
     ]
    }
   ],
   "source": [
    "import lightgbm as lgb\n",
    "import pandas as pd\n",
    "from sklearn.metrics import mean_squared_error"
   ]
  },
  {
   "cell_type": "code",
   "execution_count": 37,
   "metadata": {},
   "outputs": [],
   "source": [
    "data_dir = '../data/lgb_data/'"
   ]
  },
  {
   "cell_type": "code",
   "execution_count": 38,
   "metadata": {},
   "outputs": [
    {
     "name": "stdout",
     "output_type": "stream",
     "text": [
      "Loading data...\n"
     ]
    }
   ],
   "source": [
    "print('Loading data...')\n",
    "# load or create your dataset\n",
    "df_train = pd.read_csv(data_dir + 'regression/regression.train', header=None, sep='\\t')\n",
    "df_test = pd.read_csv(data_dir + 'regression/regression.test', header=None, sep='\\t')"
   ]
  },
  {
   "cell_type": "code",
   "execution_count": 31,
   "metadata": {},
   "outputs": [
    {
     "data": {
      "text/html": [
       "<div>\n",
       "<style scoped>\n",
       "    .dataframe tbody tr th:only-of-type {\n",
       "        vertical-align: middle;\n",
       "    }\n",
       "\n",
       "    .dataframe tbody tr th {\n",
       "        vertical-align: top;\n",
       "    }\n",
       "\n",
       "    .dataframe thead th {\n",
       "        text-align: right;\n",
       "    }\n",
       "</style>\n",
       "<table border=\"1\" class=\"dataframe\">\n",
       "  <thead>\n",
       "    <tr style=\"text-align: right;\">\n",
       "      <th></th>\n",
       "      <th>0</th>\n",
       "      <th>1</th>\n",
       "      <th>2</th>\n",
       "      <th>3</th>\n",
       "      <th>4</th>\n",
       "      <th>5</th>\n",
       "      <th>6</th>\n",
       "      <th>7</th>\n",
       "      <th>8</th>\n",
       "      <th>9</th>\n",
       "      <th>...</th>\n",
       "      <th>19</th>\n",
       "      <th>20</th>\n",
       "      <th>21</th>\n",
       "      <th>22</th>\n",
       "      <th>23</th>\n",
       "      <th>24</th>\n",
       "      <th>25</th>\n",
       "      <th>26</th>\n",
       "      <th>27</th>\n",
       "      <th>28</th>\n",
       "    </tr>\n",
       "  </thead>\n",
       "  <tbody>\n",
       "    <tr>\n",
       "      <th>0</th>\n",
       "      <td>1</td>\n",
       "      <td>0.869</td>\n",
       "      <td>-0.635</td>\n",
       "      <td>0.226</td>\n",
       "      <td>0.327</td>\n",
       "      <td>-0.690</td>\n",
       "      <td>0.754</td>\n",
       "      <td>-0.249</td>\n",
       "      <td>-1.092</td>\n",
       "      <td>0.000</td>\n",
       "      <td>...</td>\n",
       "      <td>-0.010</td>\n",
       "      <td>-0.046</td>\n",
       "      <td>3.102</td>\n",
       "      <td>1.354</td>\n",
       "      <td>0.980</td>\n",
       "      <td>0.978</td>\n",
       "      <td>0.920</td>\n",
       "      <td>0.722</td>\n",
       "      <td>0.989</td>\n",
       "      <td>0.877</td>\n",
       "    </tr>\n",
       "    <tr>\n",
       "      <th>1</th>\n",
       "      <td>1</td>\n",
       "      <td>0.908</td>\n",
       "      <td>0.329</td>\n",
       "      <td>0.359</td>\n",
       "      <td>1.498</td>\n",
       "      <td>-0.313</td>\n",
       "      <td>1.096</td>\n",
       "      <td>-0.558</td>\n",
       "      <td>-1.588</td>\n",
       "      <td>2.173</td>\n",
       "      <td>...</td>\n",
       "      <td>-1.139</td>\n",
       "      <td>-0.001</td>\n",
       "      <td>0.000</td>\n",
       "      <td>0.302</td>\n",
       "      <td>0.833</td>\n",
       "      <td>0.986</td>\n",
       "      <td>0.978</td>\n",
       "      <td>0.780</td>\n",
       "      <td>0.992</td>\n",
       "      <td>0.798</td>\n",
       "    </tr>\n",
       "    <tr>\n",
       "      <th>2</th>\n",
       "      <td>1</td>\n",
       "      <td>0.799</td>\n",
       "      <td>1.471</td>\n",
       "      <td>-1.636</td>\n",
       "      <td>0.454</td>\n",
       "      <td>0.426</td>\n",
       "      <td>1.105</td>\n",
       "      <td>1.282</td>\n",
       "      <td>1.382</td>\n",
       "      <td>0.000</td>\n",
       "      <td>...</td>\n",
       "      <td>1.129</td>\n",
       "      <td>0.900</td>\n",
       "      <td>0.000</td>\n",
       "      <td>0.910</td>\n",
       "      <td>1.108</td>\n",
       "      <td>0.986</td>\n",
       "      <td>0.951</td>\n",
       "      <td>0.803</td>\n",
       "      <td>0.866</td>\n",
       "      <td>0.780</td>\n",
       "    </tr>\n",
       "    <tr>\n",
       "      <th>3</th>\n",
       "      <td>0</td>\n",
       "      <td>1.344</td>\n",
       "      <td>-0.877</td>\n",
       "      <td>0.936</td>\n",
       "      <td>1.992</td>\n",
       "      <td>0.882</td>\n",
       "      <td>1.786</td>\n",
       "      <td>-1.647</td>\n",
       "      <td>-0.942</td>\n",
       "      <td>0.000</td>\n",
       "      <td>...</td>\n",
       "      <td>-0.678</td>\n",
       "      <td>-1.360</td>\n",
       "      <td>0.000</td>\n",
       "      <td>0.947</td>\n",
       "      <td>1.029</td>\n",
       "      <td>0.999</td>\n",
       "      <td>0.728</td>\n",
       "      <td>0.869</td>\n",
       "      <td>1.027</td>\n",
       "      <td>0.958</td>\n",
       "    </tr>\n",
       "    <tr>\n",
       "      <th>4</th>\n",
       "      <td>1</td>\n",
       "      <td>1.105</td>\n",
       "      <td>0.321</td>\n",
       "      <td>1.522</td>\n",
       "      <td>0.883</td>\n",
       "      <td>-1.205</td>\n",
       "      <td>0.681</td>\n",
       "      <td>-1.070</td>\n",
       "      <td>-0.922</td>\n",
       "      <td>0.000</td>\n",
       "      <td>...</td>\n",
       "      <td>-0.374</td>\n",
       "      <td>0.113</td>\n",
       "      <td>0.000</td>\n",
       "      <td>0.756</td>\n",
       "      <td>1.361</td>\n",
       "      <td>0.987</td>\n",
       "      <td>0.838</td>\n",
       "      <td>1.133</td>\n",
       "      <td>0.872</td>\n",
       "      <td>0.808</td>\n",
       "    </tr>\n",
       "  </tbody>\n",
       "</table>\n",
       "<p>5 rows × 29 columns</p>\n",
       "</div>"
      ],
      "text/plain": [
       "   0      1      2      3      4      5      6      7      8      9   ...  \\\n",
       "0   1  0.869 -0.635  0.226  0.327 -0.690  0.754 -0.249 -1.092  0.000  ...   \n",
       "1   1  0.908  0.329  0.359  1.498 -0.313  1.096 -0.558 -1.588  2.173  ...   \n",
       "2   1  0.799  1.471 -1.636  0.454  0.426  1.105  1.282  1.382  0.000  ...   \n",
       "3   0  1.344 -0.877  0.936  1.992  0.882  1.786 -1.647 -0.942  0.000  ...   \n",
       "4   1  1.105  0.321  1.522  0.883 -1.205  0.681 -1.070 -0.922  0.000  ...   \n",
       "\n",
       "      19     20     21     22     23     24     25     26     27     28  \n",
       "0 -0.010 -0.046  3.102  1.354  0.980  0.978  0.920  0.722  0.989  0.877  \n",
       "1 -1.139 -0.001  0.000  0.302  0.833  0.986  0.978  0.780  0.992  0.798  \n",
       "2  1.129  0.900  0.000  0.910  1.108  0.986  0.951  0.803  0.866  0.780  \n",
       "3 -0.678 -1.360  0.000  0.947  1.029  0.999  0.728  0.869  1.027  0.958  \n",
       "4 -0.374  0.113  0.000  0.756  1.361  0.987  0.838  1.133  0.872  0.808  \n",
       "\n",
       "[5 rows x 29 columns]"
      ]
     },
     "execution_count": 31,
     "metadata": {},
     "output_type": "execute_result"
    }
   ],
   "source": [
    "df_train.head()"
   ]
  },
  {
   "cell_type": "code",
   "execution_count": 7,
   "metadata": {},
   "outputs": [],
   "source": [
    "y_train = df_train[0]\n",
    "y_test = df_test[0]\n",
    "X_train = df_train.drop(0, axis=1)\n",
    "X_test = df_test.drop(0, axis=1)\n",
    "\n",
    "# create dataset for lightgbm\n",
    "lgb_train = lgb.Dataset(X_train, y_train)\n",
    "lgb_eval = lgb.Dataset(X_test, y_test, reference=lgb_train)"
   ]
  },
  {
   "cell_type": "code",
   "execution_count": 8,
   "metadata": {},
   "outputs": [
    {
     "name": "stdout",
     "output_type": "stream",
     "text": [
      "Starting training...\n",
      "[1]\tvalid_0's l2: 0.243898\tvalid_0's l1: 0.492841\n",
      "Training until validation scores don't improve for 5 rounds.\n",
      "[2]\tvalid_0's l2: 0.240605\tvalid_0's l1: 0.489327\n",
      "[3]\tvalid_0's l2: 0.236472\tvalid_0's l1: 0.484931\n",
      "[4]\tvalid_0's l2: 0.232586\tvalid_0's l1: 0.480567\n",
      "[5]\tvalid_0's l2: 0.22865\tvalid_0's l1: 0.475965\n",
      "[6]\tvalid_0's l2: 0.226187\tvalid_0's l1: 0.472861\n",
      "[7]\tvalid_0's l2: 0.223738\tvalid_0's l1: 0.469847\n",
      "[8]\tvalid_0's l2: 0.221012\tvalid_0's l1: 0.466258\n",
      "[9]\tvalid_0's l2: 0.218429\tvalid_0's l1: 0.462751\n",
      "[10]\tvalid_0's l2: 0.215505\tvalid_0's l1: 0.458755\n",
      "[11]\tvalid_0's l2: 0.213027\tvalid_0's l1: 0.455252\n",
      "[12]\tvalid_0's l2: 0.210809\tvalid_0's l1: 0.452051\n",
      "[13]\tvalid_0's l2: 0.208612\tvalid_0's l1: 0.448764\n",
      "[14]\tvalid_0's l2: 0.207468\tvalid_0's l1: 0.446667\n",
      "[15]\tvalid_0's l2: 0.206009\tvalid_0's l1: 0.444211\n",
      "[16]\tvalid_0's l2: 0.20465\tvalid_0's l1: 0.44186\n",
      "[17]\tvalid_0's l2: 0.202489\tvalid_0's l1: 0.438508\n",
      "[18]\tvalid_0's l2: 0.200668\tvalid_0's l1: 0.435919\n",
      "[19]\tvalid_0's l2: 0.19925\tvalid_0's l1: 0.433348\n",
      "[20]\tvalid_0's l2: 0.198136\tvalid_0's l1: 0.431211\n",
      "Did not meet early stopping. Best iteration is:\n",
      "[20]\tvalid_0's l2: 0.198136\tvalid_0's l1: 0.431211\n",
      "Saving model...\n",
      "Starting predicting...\n",
      "The rmse of prediction is: 0.44512434910807497\n"
     ]
    }
   ],
   "source": [
    "# specify your configurations as a dict\n",
    "params = {\n",
    "    'boosting_type': 'gbdt',\n",
    "    'objective': 'regression',\n",
    "    'metric': {'l2', 'l1'},\n",
    "    'num_leaves': 31,\n",
    "    'learning_rate': 0.05,\n",
    "    'feature_fraction': 0.6,\n",
    "    'bagging_fraction': 0.9,\n",
    "    'seed': 14,\n",
    "    'verbose': 0\n",
    "}\n",
    "\n",
    "print('Starting training...')\n",
    "# train\n",
    "gbm = lgb.train(params,\n",
    "                lgb_train,\n",
    "                num_boost_round=20,\n",
    "                valid_sets=lgb_eval,\n",
    "                early_stopping_rounds=5)\n",
    "\n",
    "print('Saving model...')\n",
    "# save model to file\n",
    "gbm.save_model('model.txt')\n",
    "\n",
    "print('Starting predicting...')\n",
    "# predict\n",
    "y_pred = gbm.predict(X_test, num_iteration=gbm.best_iteration)\n",
    "# eval\n",
    "print('The rmse of prediction is:', mean_squared_error(y_test, y_pred) ** 0.5)"
   ]
  },
  {
   "cell_type": "markdown",
   "metadata": {},
   "source": [
    "## sklearn_example\n",
    "https://github.com/microsoft/LightGBM/blob/master/examples/python-guide/sklearn_example.py\n",
    "\n",
    "\n",
    "    Create data for learning with sklearn interface\n",
    "    Basic train and predict with sklearn interface\n",
    "    Feature importances with sklearn interface\n",
    "    Self-defined eval metric with sklearn interface\n",
    "    Find best parameters for the model with sklearn's GridSearchCV\n"
   ]
  },
  {
   "cell_type": "code",
   "execution_count": 9,
   "metadata": {},
   "outputs": [],
   "source": [
    "import numpy as np\n",
    "import pandas as pd\n",
    "import lightgbm as lgb\n",
    "\n",
    "from sklearn.metrics import mean_squared_error\n",
    "from sklearn.model_selection import GridSearchCV"
   ]
  },
  {
   "cell_type": "code",
   "execution_count": 10,
   "metadata": {},
   "outputs": [],
   "source": [
    "data_dir = '../data/lgb_data/'"
   ]
  },
  {
   "cell_type": "code",
   "execution_count": 11,
   "metadata": {},
   "outputs": [
    {
     "name": "stdout",
     "output_type": "stream",
     "text": [
      "Loading data...\n"
     ]
    }
   ],
   "source": [
    "print('Loading data...')\n",
    "# load or create your dataset\n",
    "df_train = pd.read_csv(data_dir + 'regression.train', header=None, sep='\\t')\n",
    "df_test = pd.read_csv(data_dir + 'regression.test', header=None, sep='\\t')"
   ]
  },
  {
   "cell_type": "code",
   "execution_count": 15,
   "metadata": {},
   "outputs": [],
   "source": [
    "y_train = df_train[0]\n",
    "y_test = df_test[0]\n",
    "X_train = df_train.drop(0, axis=1)\n",
    "X_test = df_test.drop(0, axis=1)"
   ]
  },
  {
   "cell_type": "markdown",
   "metadata": {},
   "source": [
    "### train"
   ]
  },
  {
   "cell_type": "code",
   "execution_count": 16,
   "metadata": {},
   "outputs": [
    {
     "name": "stdout",
     "output_type": "stream",
     "text": [
      "Starting training...\n",
      "[1]\tvalid_0's l2: 0.242763\tvalid_0's l1: 0.491735\n",
      "Training until validation scores don't improve for 5 rounds.\n",
      "[2]\tvalid_0's l2: 0.237895\tvalid_0's l1: 0.486563\n",
      "[3]\tvalid_0's l2: 0.233277\tvalid_0's l1: 0.481489\n",
      "[4]\tvalid_0's l2: 0.22925\tvalid_0's l1: 0.476848\n",
      "[5]\tvalid_0's l2: 0.226155\tvalid_0's l1: 0.47305\n",
      "[6]\tvalid_0's l2: 0.222963\tvalid_0's l1: 0.469049\n",
      "[7]\tvalid_0's l2: 0.220364\tvalid_0's l1: 0.465556\n",
      "[8]\tvalid_0's l2: 0.217872\tvalid_0's l1: 0.462208\n",
      "[9]\tvalid_0's l2: 0.215328\tvalid_0's l1: 0.458676\n",
      "[10]\tvalid_0's l2: 0.212743\tvalid_0's l1: 0.454998\n",
      "[11]\tvalid_0's l2: 0.210805\tvalid_0's l1: 0.452047\n",
      "[12]\tvalid_0's l2: 0.208945\tvalid_0's l1: 0.449158\n",
      "[13]\tvalid_0's l2: 0.206986\tvalid_0's l1: 0.44608\n",
      "[14]\tvalid_0's l2: 0.205513\tvalid_0's l1: 0.443554\n",
      "[15]\tvalid_0's l2: 0.203728\tvalid_0's l1: 0.440643\n",
      "[16]\tvalid_0's l2: 0.201865\tvalid_0's l1: 0.437687\n",
      "[17]\tvalid_0's l2: 0.200639\tvalid_0's l1: 0.435454\n",
      "[18]\tvalid_0's l2: 0.199522\tvalid_0's l1: 0.433288\n",
      "[19]\tvalid_0's l2: 0.198552\tvalid_0's l1: 0.431297\n",
      "[20]\tvalid_0's l2: 0.197238\tvalid_0's l1: 0.428946\n",
      "Did not meet early stopping. Best iteration is:\n",
      "[20]\tvalid_0's l2: 0.197238\tvalid_0's l1: 0.428946\n"
     ]
    },
    {
     "data": {
      "text/plain": [
       "LGBMRegressor(boosting_type='gbdt', class_weight=None, colsample_bytree=1.0,\n",
       "              importance_type='split', learning_rate=0.05, max_depth=-1,\n",
       "              min_child_samples=20, min_child_weight=0.001, min_split_gain=0.0,\n",
       "              n_estimators=20, n_jobs=-1, num_leaves=31, objective=None,\n",
       "              random_state=None, reg_alpha=0.0, reg_lambda=0.0, silent=True,\n",
       "              subsample=1.0, subsample_for_bin=200000, subsample_freq=0)"
      ]
     },
     "execution_count": 16,
     "metadata": {},
     "output_type": "execute_result"
    }
   ],
   "source": [
    "print('Starting training...')\n",
    "# train\n",
    "gbm = lgb.LGBMRegressor(num_leaves=31,\n",
    "                        learning_rate=0.05,\n",
    "                        n_estimators=20)\n",
    "gbm.fit(X_train, y_train,\n",
    "        eval_set=[(X_test, y_test)],\n",
    "        eval_metric='l1',\n",
    "        early_stopping_rounds=5)"
   ]
  },
  {
   "cell_type": "markdown",
   "metadata": {},
   "source": [
    "### predict"
   ]
  },
  {
   "cell_type": "code",
   "execution_count": 18,
   "metadata": {},
   "outputs": [
    {
     "name": "stdout",
     "output_type": "stream",
     "text": [
      "Starting predicting...\n"
     ]
    },
    {
     "data": {
      "text/plain": [
       "array([0.68205502, 0.4812164 , 0.37969294, 0.45091878, 0.38236335])"
      ]
     },
     "execution_count": 18,
     "metadata": {},
     "output_type": "execute_result"
    }
   ],
   "source": [
    "print('Starting predicting...')\n",
    "# predict\n",
    "y_pred = gbm.predict(X_test, num_iteration=gbm.best_iteration_)\n",
    "y_pred[:5]"
   ]
  },
  {
   "cell_type": "code",
   "execution_count": 19,
   "metadata": {},
   "outputs": [
    {
     "name": "stdout",
     "output_type": "stream",
     "text": [
      "The rmse of prediction is: 0.4441153344254208\n"
     ]
    }
   ],
   "source": [
    "# eval\n",
    "print('The rmse of prediction is:', mean_squared_error(y_test, y_pred) ** 0.5)"
   ]
  },
  {
   "cell_type": "code",
   "execution_count": 20,
   "metadata": {},
   "outputs": [
    {
     "name": "stdout",
     "output_type": "stream",
     "text": [
      "Feature importances: [23, 7, 0, 33, 5, 56, 9, 1, 1, 21, 2, 5, 1, 19, 9, 6, 1, 10, 4, 10, 0, 31, 61, 4, 48, 102, 52, 79]\n"
     ]
    }
   ],
   "source": [
    "# feature importances\n",
    "print('Feature importances:', list(gbm.feature_importances_))"
   ]
  },
  {
   "cell_type": "markdown",
   "metadata": {},
   "source": [
    "### self-defined eval metric"
   ]
  },
  {
   "cell_type": "code",
   "execution_count": 21,
   "metadata": {},
   "outputs": [
    {
     "name": "stdout",
     "output_type": "stream",
     "text": [
      "Starting training with custom eval function...\n",
      "[1]\tvalid_0's l2: 0.242763\tvalid_0's RMSLE: 0.344957\n",
      "Training until validation scores don't improve for 5 rounds.\n",
      "[2]\tvalid_0's l2: 0.237895\tvalid_0's RMSLE: 0.341693\n",
      "[3]\tvalid_0's l2: 0.233277\tvalid_0's RMSLE: 0.338462\n",
      "[4]\tvalid_0's l2: 0.22925\tvalid_0's RMSLE: 0.335656\n",
      "[5]\tvalid_0's l2: 0.226155\tvalid_0's RMSLE: 0.333431\n",
      "[6]\tvalid_0's l2: 0.222963\tvalid_0's RMSLE: 0.331104\n",
      "[7]\tvalid_0's l2: 0.220364\tvalid_0's RMSLE: 0.329193\n",
      "[8]\tvalid_0's l2: 0.217872\tvalid_0's RMSLE: 0.327337\n",
      "[9]\tvalid_0's l2: 0.215328\tvalid_0's RMSLE: 0.325433\n",
      "[10]\tvalid_0's l2: 0.212743\tvalid_0's RMSLE: 0.323523\n",
      "[11]\tvalid_0's l2: 0.210805\tvalid_0's RMSLE: 0.321986\n",
      "[12]\tvalid_0's l2: 0.208945\tvalid_0's RMSLE: 0.320523\n",
      "[13]\tvalid_0's l2: 0.206986\tvalid_0's RMSLE: 0.319027\n",
      "[14]\tvalid_0's l2: 0.205513\tvalid_0's RMSLE: 0.317796\n",
      "[15]\tvalid_0's l2: 0.203728\tvalid_0's RMSLE: 0.316383\n",
      "[16]\tvalid_0's l2: 0.201865\tvalid_0's RMSLE: 0.314827\n",
      "[17]\tvalid_0's l2: 0.200639\tvalid_0's RMSLE: 0.313876\n",
      "[18]\tvalid_0's l2: 0.199522\tvalid_0's RMSLE: 0.312948\n",
      "[19]\tvalid_0's l2: 0.198552\tvalid_0's RMSLE: 0.312116\n",
      "[20]\tvalid_0's l2: 0.197238\tvalid_0's RMSLE: 0.311032\n",
      "Did not meet early stopping. Best iteration is:\n",
      "[20]\tvalid_0's l2: 0.197238\tvalid_0's RMSLE: 0.311032\n"
     ]
    },
    {
     "data": {
      "text/plain": [
       "LGBMRegressor(boosting_type='gbdt', class_weight=None, colsample_bytree=1.0,\n",
       "              importance_type='split', learning_rate=0.05, max_depth=-1,\n",
       "              min_child_samples=20, min_child_weight=0.001, min_split_gain=0.0,\n",
       "              n_estimators=20, n_jobs=-1, num_leaves=31, objective=None,\n",
       "              random_state=None, reg_alpha=0.0, reg_lambda=0.0, silent=True,\n",
       "              subsample=1.0, subsample_for_bin=200000, subsample_freq=0)"
      ]
     },
     "execution_count": 21,
     "metadata": {},
     "output_type": "execute_result"
    }
   ],
   "source": [
    "# self-defined eval metric\n",
    "# f(y_true: array, y_pred: array) -> name: string, eval_result: float, is_higher_better: bool\n",
    "# Root Mean Squared Logarithmic Error (RMSLE)\n",
    "def rmsle(y_true, y_pred):\n",
    "    return 'RMSLE', np.sqrt(np.mean(np.power(np.log1p(y_pred) - np.log1p(y_true), 2))), False\n",
    "\n",
    "\n",
    "print('Starting training with custom eval function...')\n",
    "# train\n",
    "gbm.fit(X_train, y_train,\n",
    "        eval_set=[(X_test, y_test)],\n",
    "        eval_metric=rmsle,\n",
    "        early_stopping_rounds=5)"
   ]
  },
  {
   "cell_type": "code",
   "execution_count": 22,
   "metadata": {},
   "outputs": [
    {
     "name": "stdout",
     "output_type": "stream",
     "text": [
      "Starting training with multiple custom eval functions...\n",
      "[1]\tvalid_0's l2: 0.242763\tvalid_0's RMSLE: 0.344957\tvalid_0's RAE: 0.991146\n",
      "Training until validation scores don't improve for 5 rounds.\n",
      "[2]\tvalid_0's l2: 0.237895\tvalid_0's RMSLE: 0.341693\tvalid_0's RAE: 0.98072\n",
      "[3]\tvalid_0's l2: 0.233277\tvalid_0's RMSLE: 0.338462\tvalid_0's RAE: 0.970493\n",
      "[4]\tvalid_0's l2: 0.22925\tvalid_0's RMSLE: 0.335656\tvalid_0's RAE: 0.961139\n",
      "[5]\tvalid_0's l2: 0.226155\tvalid_0's RMSLE: 0.333431\tvalid_0's RAE: 0.953484\n",
      "[6]\tvalid_0's l2: 0.222963\tvalid_0's RMSLE: 0.331104\tvalid_0's RAE: 0.945419\n",
      "[7]\tvalid_0's l2: 0.220364\tvalid_0's RMSLE: 0.329193\tvalid_0's RAE: 0.938379\n",
      "[8]\tvalid_0's l2: 0.217872\tvalid_0's RMSLE: 0.327337\tvalid_0's RAE: 0.931631\n",
      "[9]\tvalid_0's l2: 0.215328\tvalid_0's RMSLE: 0.325433\tvalid_0's RAE: 0.92451\n",
      "[10]\tvalid_0's l2: 0.212743\tvalid_0's RMSLE: 0.323523\tvalid_0's RAE: 0.917099\n",
      "[11]\tvalid_0's l2: 0.210805\tvalid_0's RMSLE: 0.321986\tvalid_0's RAE: 0.911151\n",
      "[12]\tvalid_0's l2: 0.208945\tvalid_0's RMSLE: 0.320523\tvalid_0's RAE: 0.905328\n",
      "[13]\tvalid_0's l2: 0.206986\tvalid_0's RMSLE: 0.319027\tvalid_0's RAE: 0.899122\n",
      "[14]\tvalid_0's l2: 0.205513\tvalid_0's RMSLE: 0.317796\tvalid_0's RAE: 0.894031\n",
      "[15]\tvalid_0's l2: 0.203728\tvalid_0's RMSLE: 0.316383\tvalid_0's RAE: 0.888164\n",
      "[16]\tvalid_0's l2: 0.201865\tvalid_0's RMSLE: 0.314827\tvalid_0's RAE: 0.882206\n",
      "[17]\tvalid_0's l2: 0.200639\tvalid_0's RMSLE: 0.313876\tvalid_0's RAE: 0.877704\n",
      "[18]\tvalid_0's l2: 0.199522\tvalid_0's RMSLE: 0.312948\tvalid_0's RAE: 0.87334\n",
      "[19]\tvalid_0's l2: 0.198552\tvalid_0's RMSLE: 0.312116\tvalid_0's RAE: 0.869327\n",
      "[20]\tvalid_0's l2: 0.197238\tvalid_0's RMSLE: 0.311032\tvalid_0's RAE: 0.864588\n",
      "Did not meet early stopping. Best iteration is:\n",
      "[20]\tvalid_0's l2: 0.197238\tvalid_0's RMSLE: 0.311032\tvalid_0's RAE: 0.864588\n"
     ]
    },
    {
     "data": {
      "text/plain": [
       "LGBMRegressor(boosting_type='gbdt', class_weight=None, colsample_bytree=1.0,\n",
       "              importance_type='split', learning_rate=0.05, max_depth=-1,\n",
       "              min_child_samples=20, min_child_weight=0.001, min_split_gain=0.0,\n",
       "              n_estimators=20, n_jobs=-1, num_leaves=31, objective=None,\n",
       "              random_state=None, reg_alpha=0.0, reg_lambda=0.0, silent=True,\n",
       "              subsample=1.0, subsample_for_bin=200000, subsample_freq=0)"
      ]
     },
     "execution_count": 22,
     "metadata": {},
     "output_type": "execute_result"
    }
   ],
   "source": [
    "# another self-defined eval metric\n",
    "# f(y_true: array, y_pred: array) -> name: string, eval_result: float, is_higher_better: bool\n",
    "# Relative Absolute Error (RAE)\n",
    "def rae(y_true, y_pred):\n",
    "    return 'RAE', np.sum(np.abs(y_pred - y_true)) / np.sum(np.abs(np.mean(y_true) - y_true)), False\n",
    "\n",
    "\n",
    "print('Starting training with multiple custom eval functions...')\n",
    "# train\n",
    "gbm.fit(X_train, y_train,\n",
    "        eval_set=[(X_test, y_test)],\n",
    "        eval_metric=lambda y_true, y_pred: [rmsle(y_true, y_pred), rae(y_true, y_pred)],\n",
    "        early_stopping_rounds=5)\n"
   ]
  },
  {
   "cell_type": "code",
   "execution_count": 23,
   "metadata": {},
   "outputs": [
    {
     "name": "stdout",
     "output_type": "stream",
     "text": [
      "Starting predicting...\n",
      "The rmsle of prediction is: 0.3110323289863278\n",
      "The rae of prediction is: 0.8645881044669875\n"
     ]
    }
   ],
   "source": [
    "print('Starting predicting...')\n",
    "# predict\n",
    "y_pred = gbm.predict(X_test, num_iteration=gbm.best_iteration_)\n",
    "# eval\n",
    "print('The rmsle of prediction is:', rmsle(y_test, y_pred)[1])\n",
    "print('The rae of prediction is:', rae(y_test, y_pred)[1])"
   ]
  },
  {
   "cell_type": "markdown",
   "metadata": {},
   "source": [
    "### GridSearchCV"
   ]
  },
  {
   "cell_type": "code",
   "execution_count": 24,
   "metadata": {},
   "outputs": [
    {
     "name": "stdout",
     "output_type": "stream",
     "text": [
      "Best parameters found by grid search are: {'learning_rate': 0.1, 'n_estimators': 40}\n"
     ]
    }
   ],
   "source": [
    "# other scikit-learn modules\n",
    "estimator = lgb.LGBMRegressor(num_leaves=31)\n",
    "\n",
    "param_grid = {\n",
    "    'learning_rate': [0.01, 0.1, 1],\n",
    "    'n_estimators': [20, 40]\n",
    "}\n",
    "\n",
    "gbm = GridSearchCV(estimator, param_grid, cv=3)\n",
    "gbm.fit(X_train, y_train)\n",
    "\n",
    "print('Best parameters found by grid search are:', gbm.best_params_)"
   ]
  },
  {
   "cell_type": "markdown",
   "metadata": {},
   "source": [
    "## advanced_example: 二分类\n",
    "https://github.com/microsoft/LightGBM/blob/master/examples/python-guide/advanced_example.py\n",
    "\n",
    "\n",
    "    Construct Dataset\n",
    "    Set feature names\n",
    "    Directly use categorical features without one-hot encoding\n",
    "    Save model to file\n",
    "    Dump model to JSON format\n",
    "    Get feature names\n",
    "    Get feature importances\n",
    "    Load model to predict\n",
    "    Dump and load model with pickle\n",
    "    Load model file to continue training\n",
    "    Change learning rates during training\n",
    "    Change any parameters during training\n",
    "    Self-defined objective function\n",
    "    Self-defined eval metric\n",
    "    Callback function\n"
   ]
  },
  {
   "cell_type": "code",
   "execution_count": 75,
   "metadata": {},
   "outputs": [],
   "source": [
    "data_dir = '../data/lgb_data/'"
   ]
  },
  {
   "cell_type": "code",
   "execution_count": 76,
   "metadata": {},
   "outputs": [
    {
     "name": "stdout",
     "output_type": "stream",
     "text": [
      "Loading data...\n"
     ]
    }
   ],
   "source": [
    "import json\n",
    "import lightgbm as lgb\n",
    "import pandas as pd\n",
    "import numpy as np\n",
    "import os\n",
    "from sklearn.metrics import mean_squared_error\n",
    "\n",
    "try:\n",
    "    import cPickle as pickle\n",
    "except BaseException:\n",
    "    import pickle\n",
    "\n",
    "print('Loading data...')\n",
    "# load or create your dataset\n",
    "df_train = pd.read_csv(os.path.join(data_dir, 'binary_classification/binary.train'), header=None, sep='\\t')\n",
    "df_test = pd.read_csv(os.path.join(data_dir, 'binary_classification/binary.test'), header=None, sep='\\t')\n",
    "W_train = pd.read_csv(os.path.join(data_dir, 'binary_classification/binary.train.weight'), header=None)[0]\n",
    "W_test = pd.read_csv(os.path.join(data_dir, 'binary_classification/binary.test.weight'), header=None)[0]\n",
    "\n",
    "y_train = df_train[0]\n",
    "y_test = df_test[0]\n",
    "X_train = df_train.drop(0, axis=1)\n",
    "X_test = df_test.drop(0, axis=1)"
   ]
  },
  {
   "cell_type": "code",
   "execution_count": 77,
   "metadata": {},
   "outputs": [
    {
     "data": {
      "text/html": [
       "<div>\n",
       "<style scoped>\n",
       "    .dataframe tbody tr th:only-of-type {\n",
       "        vertical-align: middle;\n",
       "    }\n",
       "\n",
       "    .dataframe tbody tr th {\n",
       "        vertical-align: top;\n",
       "    }\n",
       "\n",
       "    .dataframe thead th {\n",
       "        text-align: right;\n",
       "    }\n",
       "</style>\n",
       "<table border=\"1\" class=\"dataframe\">\n",
       "  <thead>\n",
       "    <tr style=\"text-align: right;\">\n",
       "      <th></th>\n",
       "      <th>0</th>\n",
       "      <th>1</th>\n",
       "      <th>2</th>\n",
       "      <th>3</th>\n",
       "      <th>4</th>\n",
       "      <th>5</th>\n",
       "      <th>6</th>\n",
       "      <th>7</th>\n",
       "      <th>8</th>\n",
       "      <th>9</th>\n",
       "      <th>...</th>\n",
       "      <th>19</th>\n",
       "      <th>20</th>\n",
       "      <th>21</th>\n",
       "      <th>22</th>\n",
       "      <th>23</th>\n",
       "      <th>24</th>\n",
       "      <th>25</th>\n",
       "      <th>26</th>\n",
       "      <th>27</th>\n",
       "      <th>28</th>\n",
       "    </tr>\n",
       "  </thead>\n",
       "  <tbody>\n",
       "    <tr>\n",
       "      <th>0</th>\n",
       "      <td>1</td>\n",
       "      <td>0.869</td>\n",
       "      <td>-0.635</td>\n",
       "      <td>0.226</td>\n",
       "      <td>0.327</td>\n",
       "      <td>-0.690</td>\n",
       "      <td>0.754</td>\n",
       "      <td>-0.249</td>\n",
       "      <td>-1.092</td>\n",
       "      <td>0.000</td>\n",
       "      <td>...</td>\n",
       "      <td>-0.010</td>\n",
       "      <td>-0.046</td>\n",
       "      <td>3.102</td>\n",
       "      <td>1.354</td>\n",
       "      <td>0.980</td>\n",
       "      <td>0.978</td>\n",
       "      <td>0.920</td>\n",
       "      <td>0.722</td>\n",
       "      <td>0.989</td>\n",
       "      <td>0.877</td>\n",
       "    </tr>\n",
       "    <tr>\n",
       "      <th>1</th>\n",
       "      <td>1</td>\n",
       "      <td>0.908</td>\n",
       "      <td>0.329</td>\n",
       "      <td>0.359</td>\n",
       "      <td>1.498</td>\n",
       "      <td>-0.313</td>\n",
       "      <td>1.096</td>\n",
       "      <td>-0.558</td>\n",
       "      <td>-1.588</td>\n",
       "      <td>2.173</td>\n",
       "      <td>...</td>\n",
       "      <td>-1.139</td>\n",
       "      <td>-0.001</td>\n",
       "      <td>0.000</td>\n",
       "      <td>0.302</td>\n",
       "      <td>0.833</td>\n",
       "      <td>0.986</td>\n",
       "      <td>0.978</td>\n",
       "      <td>0.780</td>\n",
       "      <td>0.992</td>\n",
       "      <td>0.798</td>\n",
       "    </tr>\n",
       "  </tbody>\n",
       "</table>\n",
       "<p>2 rows × 29 columns</p>\n",
       "</div>"
      ],
      "text/plain": [
       "   0      1      2      3      4      5      6      7      8      9   ...  \\\n",
       "0   1  0.869 -0.635  0.226  0.327 -0.690  0.754 -0.249 -1.092  0.000  ...   \n",
       "1   1  0.908  0.329  0.359  1.498 -0.313  1.096 -0.558 -1.588  2.173  ...   \n",
       "\n",
       "      19     20     21     22     23     24     25     26     27     28  \n",
       "0 -0.010 -0.046  3.102  1.354  0.980  0.978  0.920  0.722  0.989  0.877  \n",
       "1 -1.139 -0.001  0.000  0.302  0.833  0.986  0.978  0.780  0.992  0.798  \n",
       "\n",
       "[2 rows x 29 columns]"
      ]
     },
     "execution_count": 77,
     "metadata": {},
     "output_type": "execute_result"
    }
   ],
   "source": [
    "df_train.head(2)"
   ]
  },
  {
   "cell_type": "code",
   "execution_count": 78,
   "metadata": {},
   "outputs": [],
   "source": [
    "num_train, num_feature = X_train.shape\n",
    "\n",
    "# create dataset for lightgbm\n",
    "# if you want to re-use data, remember to set free_raw_data=False\n",
    "lgb_train = lgb.Dataset(X_train, y_train,\n",
    "                        weight=W_train, free_raw_data=False)\n",
    "lgb_eval = lgb.Dataset(X_test, y_test, reference=lgb_train,\n",
    "                       weight=W_test, free_raw_data=False)"
   ]
  },
  {
   "cell_type": "code",
   "execution_count": 79,
   "metadata": {},
   "outputs": [
    {
     "name": "stdout",
     "output_type": "stream",
     "text": [
      "Starting training...\n",
      "[1]\tvalid_0's binary_logloss: 0.680748\n",
      "[2]\tvalid_0's binary_logloss: 0.674315\n",
      "[3]\tvalid_0's binary_logloss: 0.66601\n",
      "[4]\tvalid_0's binary_logloss: 0.657738\n",
      "[5]\tvalid_0's binary_logloss: 0.649475\n",
      "[6]\tvalid_0's binary_logloss: 0.644301\n",
      "[7]\tvalid_0's binary_logloss: 0.639224\n",
      "[8]\tvalid_0's binary_logloss: 0.633376\n",
      "[9]\tvalid_0's binary_logloss: 0.627411\n",
      "[10]\tvalid_0's binary_logloss: 0.622683\n",
      "Finished first 10 rounds...\n"
     ]
    },
    {
     "name": "stderr",
     "output_type": "stream",
     "text": [
      "/Users/luoyonggui/anaconda3/lib/python3.7/site-packages/lightgbm/basic.py:1225: UserWarning: categorical_feature in Dataset is overridden.\n",
      "New categorical_feature is [21]\n",
      "  'New categorical_feature is {}'.format(sorted(list(categorical_feature))))\n",
      "/Users/luoyonggui/anaconda3/lib/python3.7/site-packages/lightgbm/basic.py:776: UserWarning: categorical_feature in param dict is overridden.\n",
      "  warnings.warn('categorical_feature in param dict is overridden.')\n"
     ]
    }
   ],
   "source": [
    "# specify your configurations as a dict\n",
    "params = {\n",
    "    'boosting_type': 'gbdt',\n",
    "    'objective': 'binary',\n",
    "    'metric': 'binary_logloss',\n",
    "    'num_leaves': 31,\n",
    "    'learning_rate': 0.05,\n",
    "    'feature_fraction': 0.9,\n",
    "    'bagging_fraction': 0.8,\n",
    "    'bagging_freq': 5,\n",
    "    'verbose': 0\n",
    "}\n",
    "\n",
    "# generate feature names\n",
    "feature_name = ['feature_' + str(col) for col in range(num_feature)]\n",
    "\n",
    "print('Starting training...')\n",
    "# feature_name and categorical_feature\n",
    "gbm = lgb.train(params,\n",
    "                lgb_train,\n",
    "                num_boost_round=10,\n",
    "                valid_sets=lgb_eval,  # eval training data\n",
    "                feature_name=feature_name,\n",
    "                categorical_feature=[21])\n",
    "\n",
    "print('Finished first 10 rounds...')"
   ]
  },
  {
   "cell_type": "code",
   "execution_count": 46,
   "metadata": {},
   "outputs": [
    {
     "name": "stdout",
     "output_type": "stream",
     "text": [
      "7th feature name is: feature_6\n",
      "Saving model...\n"
     ]
    },
    {
     "data": {
      "text/plain": [
       "<lightgbm.basic.Booster at 0x12bf81940>"
      ]
     },
     "execution_count": 46,
     "metadata": {},
     "output_type": "execute_result"
    }
   ],
   "source": [
    "# check feature name\n",
    "print('7th feature name is:', lgb_train.feature_name[6])\n",
    "\n",
    "print('Saving model...')\n",
    "# save model to file\n",
    "gbm.save_model(os.path.join(data_dir, 'data_gen/model.txt'))"
   ]
  },
  {
   "cell_type": "code",
   "execution_count": 47,
   "metadata": {},
   "outputs": [
    {
     "name": "stdout",
     "output_type": "stream",
     "text": [
      "Dumping model to JSON...\n"
     ]
    }
   ],
   "source": [
    "print('Dumping model to JSON...')\n",
    "# dump model to JSON (and save to file)\n",
    "model_json = gbm.dump_model()\n",
    "\n",
    "with open(os.path.join(data_dir, 'data_gen/model.json'), 'w+') as f:\n",
    "    json.dump(model_json, f, indent=4)"
   ]
  },
  {
   "cell_type": "code",
   "execution_count": 48,
   "metadata": {},
   "outputs": [
    {
     "name": "stdout",
     "output_type": "stream",
     "text": [
      "Feature names: ['feature_0', 'feature_1', 'feature_2', 'feature_3', 'feature_4', 'feature_5', 'feature_6', 'feature_7', 'feature_8', 'feature_9', 'feature_10', 'feature_11', 'feature_12', 'feature_13', 'feature_14', 'feature_15', 'feature_16', 'feature_17', 'feature_18', 'feature_19', 'feature_20', 'feature_21', 'feature_22', 'feature_23', 'feature_24', 'feature_25', 'feature_26', 'feature_27']\n",
      "Feature importances: [16, 5, 6, 19, 0, 29, 4, 0, 2, 17, 1, 3, 0, 10, 2, 2, 0, 2, 1, 4, 0, 0, 31, 3, 36, 42, 29, 36]\n"
     ]
    }
   ],
   "source": [
    "# feature names\n",
    "print('Feature names:', gbm.feature_name())\n",
    "\n",
    "# feature importances\n",
    "print('Feature importances:', list(gbm.feature_importance()))"
   ]
  },
  {
   "cell_type": "code",
   "execution_count": 49,
   "metadata": {},
   "outputs": [
    {
     "name": "stdout",
     "output_type": "stream",
     "text": [
      "Loading model to predict...\n",
      "The rmse of loaded model's prediction is: 0.44512434910807497\n"
     ]
    }
   ],
   "source": [
    "print('Loading model to predict...')\n",
    "# load model to predict\n",
    "bst = lgb.Booster(model_file='model.txt')\n",
    "# can only predict with the best iteration (or the saving iteration)\n",
    "y_pred = bst.predict(X_test)\n",
    "# eval with loaded model\n",
    "print(\"The rmse of loaded model's prediction is:\", mean_squared_error(y_test, y_pred) ** 0.5)"
   ]
  },
  {
   "cell_type": "code",
   "execution_count": 50,
   "metadata": {},
   "outputs": [
    {
     "name": "stdout",
     "output_type": "stream",
     "text": [
      "Dumping and loading model with pickle...\n"
     ]
    }
   ],
   "source": [
    "print('Dumping and loading model with pickle...')\n",
    "# dump model with pickle\n",
    "with open(os.path.join(data_dir, 'data_gen/model.pkl'), 'wb') as fout:\n",
    "    pickle.dump(gbm, fout)\n",
    "# load model with pickle to predict\n",
    "with open(os.path.join(data_dir, 'data_gen/model.pkl'), 'rb') as fin:\n",
    "    pkl_bst = pickle.load(fin)"
   ]
  },
  {
   "cell_type": "code",
   "execution_count": 51,
   "metadata": {},
   "outputs": [
    {
     "name": "stdout",
     "output_type": "stream",
     "text": [
      "The rmse of pickled model's prediction is: 0.4725970120939472\n"
     ]
    }
   ],
   "source": [
    "# can predict with any iteration when loaded in pickle way\n",
    "y_pred = pkl_bst.predict(X_test, num_iteration=7)\n",
    "# eval with loaded model\n",
    "print(\"The rmse of pickled model's prediction is:\", mean_squared_error(y_test, y_pred) ** 0.5)\n"
   ]
  },
  {
   "cell_type": "markdown",
   "metadata": {},
   "source": [
    "### continue training"
   ]
  },
  {
   "cell_type": "code",
   "execution_count": 54,
   "metadata": {},
   "outputs": [
    {
     "name": "stdout",
     "output_type": "stream",
     "text": [
      "[11]\tvalid_0's binary_logloss: 0.662756\n",
      "[12]\tvalid_0's binary_logloss: 0.655754\n",
      "[13]\tvalid_0's binary_logloss: 0.648102\n",
      "[14]\tvalid_0's binary_logloss: 0.639722\n",
      "[15]\tvalid_0's binary_logloss: 0.632029\n",
      "[16]\tvalid_0's binary_logloss: 0.626326\n",
      "[17]\tvalid_0's binary_logloss: 0.620506\n",
      "[18]\tvalid_0's binary_logloss: 0.61432\n",
      "[19]\tvalid_0's binary_logloss: 0.60916\n",
      "[20]\tvalid_0's binary_logloss: 0.604022\n",
      "Finished 10 - 20 rounds with model file...\n"
     ]
    },
    {
     "name": "stderr",
     "output_type": "stream",
     "text": [
      "/Users/luoyonggui/anaconda3/lib/python3.7/site-packages/lightgbm/basic.py:828: UserWarning: The prediction of init_model will be overridden by init_score.\n",
      "  warnings.warn(\"The prediction of init_model will be overridden by init_score.\")\n"
     ]
    }
   ],
   "source": [
    "# continue training\n",
    "# init_model accepts:\n",
    "# 1. model file name\n",
    "# 2. Booster()\n",
    "gbm = lgb.train(params,\n",
    "                lgb_train,\n",
    "                num_boost_round=10,\n",
    "                init_model=os.path.join(data_dir, 'data_gen/model.txt'),\n",
    "                valid_sets=lgb_eval)\n",
    "\n",
    "print('Finished 10 - 20 rounds with model file...')"
   ]
  },
  {
   "cell_type": "markdown",
   "metadata": {},
   "source": [
    "### decay learning rates"
   ]
  },
  {
   "cell_type": "code",
   "execution_count": 55,
   "metadata": {},
   "outputs": [
    {
     "name": "stdout",
     "output_type": "stream",
     "text": [
      "[21]\tvalid_0's binary_logloss: 0.662756\n",
      "[22]\tvalid_0's binary_logloss: 0.655821\n",
      "[23]\tvalid_0's binary_logloss: 0.648313\n",
      "[24]\tvalid_0's binary_logloss: 0.64016\n",
      "[25]\tvalid_0's binary_logloss: 0.63273\n",
      "[26]\tvalid_0's binary_logloss: 0.627258\n",
      "[27]\tvalid_0's binary_logloss: 0.62172\n",
      "[28]\tvalid_0's binary_logloss: 0.615867\n",
      "[29]\tvalid_0's binary_logloss: 0.611395\n",
      "[30]\tvalid_0's binary_logloss: 0.606568\n",
      "Finished 20 - 30 rounds with decay learning rates...\n"
     ]
    }
   ],
   "source": [
    "# decay learning rates\n",
    "# learning_rates accepts:\n",
    "# 1. list/tuple with length = num_boost_round\n",
    "# 2. function(curr_iter)\n",
    "gbm = lgb.train(params,\n",
    "                lgb_train,\n",
    "                num_boost_round=10,\n",
    "                init_model=gbm,\n",
    "                learning_rates=lambda iter: 0.05 * (0.99 ** iter),\n",
    "                valid_sets=lgb_eval)\n",
    "\n",
    "print('Finished 20 - 30 rounds with decay learning rates...')"
   ]
  },
  {
   "cell_type": "markdown",
   "metadata": {},
   "source": [
    "### change other parameters during training"
   ]
  },
  {
   "cell_type": "code",
   "execution_count": 56,
   "metadata": {},
   "outputs": [
    {
     "name": "stdout",
     "output_type": "stream",
     "text": [
      "[31]\tvalid_0's binary_logloss: 0.662537\n",
      "[32]\tvalid_0's binary_logloss: 0.655767\n",
      "[33]\tvalid_0's binary_logloss: 0.64846\n",
      "[34]\tvalid_0's binary_logloss: 0.641265\n",
      "[35]\tvalid_0's binary_logloss: 0.634638\n",
      "[36]\tvalid_0's binary_logloss: 0.630008\n",
      "[37]\tvalid_0's binary_logloss: 0.62559\n",
      "[38]\tvalid_0's binary_logloss: 0.620284\n",
      "[39]\tvalid_0's binary_logloss: 0.615534\n",
      "[40]\tvalid_0's binary_logloss: 0.610141\n",
      "Finished 30 - 40 rounds with changing bagging_fraction...\n"
     ]
    }
   ],
   "source": [
    "# change other parameters during training\n",
    "gbm = lgb.train(params,\n",
    "                lgb_train,\n",
    "                num_boost_round=10,\n",
    "                init_model=gbm,\n",
    "                valid_sets=lgb_eval,\n",
    "                callbacks=[lgb.reset_parameter(bagging_fraction=[0.7] * 5 + [0.6] * 5)])\n",
    "\n",
    "print('Finished 30 - 40 rounds with changing bagging_fraction...')"
   ]
  },
  {
   "cell_type": "markdown",
   "metadata": {},
   "source": [
    "### self-defined objective function"
   ]
  },
  {
   "cell_type": "code",
   "execution_count": 57,
   "metadata": {},
   "outputs": [],
   "source": [
    "# self-defined objective function\n",
    "# f(preds: array, train_data: Dataset) -> grad: array, hess: array\n",
    "# log likelihood loss\n",
    "def loglikelihood(preds, train_data):\n",
    "    labels = train_data.get_label()\n",
    "    preds = 1. / (1. + np.exp(-preds))\n",
    "    grad = preds - labels\n",
    "    hess = preds * (1. - preds)\n",
    "    return grad, hess"
   ]
  },
  {
   "cell_type": "markdown",
   "metadata": {},
   "source": [
    "### self-defined eval metric"
   ]
  },
  {
   "cell_type": "code",
   "execution_count": 58,
   "metadata": {},
   "outputs": [],
   "source": [
    "# self-defined eval metric\n",
    "# f(preds: array, train_data: Dataset) -> name: string, eval_result: float, is_higher_better: bool\n",
    "# binary error\n",
    "# NOTE: when you do customized loss function, the default prediction value is margin\n",
    "# This may make built-in evalution metric calculate wrong results\n",
    "# For example, we are doing log likelihood loss, the prediction is score before logistic transformation\n",
    "# Keep this in mind when you use the customization\n",
    "def binary_error(preds, train_data):\n",
    "    labels = train_data.get_label()\n",
    "    preds = 1. / (1. + np.exp(-preds))\n",
    "    return 'error', np.mean(labels != (preds > 0.5)), False"
   ]
  },
  {
   "cell_type": "code",
   "execution_count": 59,
   "metadata": {},
   "outputs": [
    {
     "name": "stdout",
     "output_type": "stream",
     "text": [
      "[41]\tvalid_0's binary_logloss: 0.569863\tvalid_0's error: 0.456\n",
      "[42]\tvalid_0's binary_logloss: 0.564835\tvalid_0's error: 0.456\n",
      "[43]\tvalid_0's binary_logloss: 0.558063\tvalid_0's error: 0.44\n",
      "[44]\tvalid_0's binary_logloss: 0.56096\tvalid_0's error: 0.418\n",
      "[45]\tvalid_0's binary_logloss: 0.68598\tvalid_0's error: 0.412\n",
      "[46]\tvalid_0's binary_logloss: 0.75912\tvalid_0's error: 0.394\n",
      "[47]\tvalid_0's binary_logloss: 0.886888\tvalid_0's error: 0.384\n",
      "[48]\tvalid_0's binary_logloss: 1.04184\tvalid_0's error: 0.36\n",
      "[49]\tvalid_0's binary_logloss: 1.48555\tvalid_0's error: 0.328\n",
      "[50]\tvalid_0's binary_logloss: 1.88823\tvalid_0's error: 0.318\n",
      "Finished 40 - 50 rounds with self-defined objective function and eval metric...\n"
     ]
    }
   ],
   "source": [
    "gbm = lgb.train(params,\n",
    "                lgb_train,\n",
    "                num_boost_round=10,\n",
    "                init_model=gbm,\n",
    "                fobj=loglikelihood,\n",
    "                feval=binary_error,\n",
    "                valid_sets=lgb_eval)\n",
    "\n",
    "print('Finished 40 - 50 rounds with self-defined objective function and eval metric...')\n",
    "\n"
   ]
  },
  {
   "cell_type": "code",
   "execution_count": 60,
   "metadata": {},
   "outputs": [
    {
     "name": "stdout",
     "output_type": "stream",
     "text": [
      "Finished 40 - 50 rounds with self-defined objective function and eval metric...\n",
      "[51]\tvalid_0's binary_logloss: 0.569863\tvalid_0's error: 0.456\tvalid_0's accuracy: 0.544\n",
      "[52]\tvalid_0's binary_logloss: 0.564835\tvalid_0's error: 0.456\tvalid_0's accuracy: 0.544\n",
      "[53]\tvalid_0's binary_logloss: 0.558063\tvalid_0's error: 0.44\tvalid_0's accuracy: 0.56\n",
      "[54]\tvalid_0's binary_logloss: 0.56096\tvalid_0's error: 0.418\tvalid_0's accuracy: 0.582\n",
      "[55]\tvalid_0's binary_logloss: 0.68598\tvalid_0's error: 0.412\tvalid_0's accuracy: 0.588\n",
      "[56]\tvalid_0's binary_logloss: 0.75912\tvalid_0's error: 0.394\tvalid_0's accuracy: 0.606\n",
      "[57]\tvalid_0's binary_logloss: 0.886888\tvalid_0's error: 0.384\tvalid_0's accuracy: 0.616\n",
      "[58]\tvalid_0's binary_logloss: 1.04184\tvalid_0's error: 0.36\tvalid_0's accuracy: 0.64\n",
      "[59]\tvalid_0's binary_logloss: 1.48555\tvalid_0's error: 0.328\tvalid_0's accuracy: 0.672\n",
      "[60]\tvalid_0's binary_logloss: 1.88823\tvalid_0's error: 0.318\tvalid_0's accuracy: 0.682\n",
      "Finished 50 - 60 rounds with self-defined objective function and multiple self-defined eval metrics...\n",
      "Starting a new training job...\n"
     ]
    }
   ],
   "source": [
    "print('Finished 40 - 50 rounds with self-defined objective function and eval metric...')\n",
    "\n",
    "\n",
    "# another self-defined eval metric\n",
    "# f(preds: array, train_data: Dataset) -> name: string, eval_result: float, is_higher_better: bool\n",
    "# accuracy\n",
    "# NOTE: when you do customized loss function, the default prediction value is margin\n",
    "# This may make built-in evalution metric calculate wrong results\n",
    "# For example, we are doing log likelihood loss, the prediction is score before logistic transformation\n",
    "# Keep this in mind when you use the customization\n",
    "def accuracy(preds, train_data):\n",
    "    labels = train_data.get_label()\n",
    "    preds = 1. / (1. + np.exp(-preds))\n",
    "    return 'accuracy', np.mean(labels == (preds > 0.5)), True\n",
    "\n",
    "\n",
    "gbm = lgb.train(params,\n",
    "                lgb_train,\n",
    "                num_boost_round=10,\n",
    "                init_model=gbm,\n",
    "                fobj=loglikelihood,\n",
    "                feval=lambda preds, train_data: [binary_error(preds, train_data),\n",
    "                                                 accuracy(preds, train_data)],\n",
    "                valid_sets=lgb_eval)\n",
    "\n",
    "print('Finished 50 - 60 rounds with self-defined objective function '\n",
    "      'and multiple self-defined eval metrics...')\n",
    "\n",
    "print('Starting a new training job...')"
   ]
  },
  {
   "cell_type": "markdown",
   "metadata": {},
   "source": [
    "### callback"
   ]
  },
  {
   "cell_type": "code",
   "execution_count": 61,
   "metadata": {},
   "outputs": [
    {
     "name": "stdout",
     "output_type": "stream",
     "text": [
      "[1]\ttraining's binary_logloss: 0.665332\n",
      "[2]\ttraining's binary_logloss: 0.65674\n",
      "[3]\ttraining's binary_logloss: 0.648865\n",
      "[4]\ttraining's binary_logloss: 0.640197\n",
      "[5]\ttraining's binary_logloss: 0.632184\n",
      "Add a new valid dataset at iteration 5...\n",
      "[6]\ttraining's binary_logloss: 0.625581\tnew_valid's binary_logloss: 0.65656\n",
      "[7]\ttraining's binary_logloss: 0.619373\tnew_valid's binary_logloss: 0.652067\n",
      "[8]\ttraining's binary_logloss: 0.612762\tnew_valid's binary_logloss: 0.64686\n",
      "[9]\ttraining's binary_logloss: 0.606746\tnew_valid's binary_logloss: 0.642939\n",
      "[10]\ttraining's binary_logloss: 0.601005\tnew_valid's binary_logloss: 0.63869\n",
      "Finished first 10 rounds with callback function...\n"
     ]
    }
   ],
   "source": [
    "# callback\n",
    "def reset_metrics():\n",
    "    def callback(env):\n",
    "        lgb_eval_new = lgb.Dataset(X_test, y_test, reference=lgb_train)\n",
    "        if env.iteration - env.begin_iteration == 5:\n",
    "            print('Add a new valid dataset at iteration 5...')\n",
    "            env.model.add_valid(lgb_eval_new, 'new_valid')\n",
    "    callback.before_iteration = True\n",
    "    callback.order = 0\n",
    "    return callback\n",
    "\n",
    "\n",
    "gbm = lgb.train(params,\n",
    "                lgb_train,\n",
    "                num_boost_round=10,\n",
    "                valid_sets=lgb_train,\n",
    "                callbacks=[reset_metrics()])\n",
    "\n",
    "print('Finished first 10 rounds with callback function...')"
   ]
  },
  {
   "cell_type": "markdown",
   "metadata": {},
   "source": [
    "## plot_example"
   ]
  },
  {
   "cell_type": "code",
   "execution_count": 62,
   "metadata": {},
   "outputs": [],
   "source": [
    "import lightgbm as lgb\n",
    "import pandas as pd\n",
    "\n",
    "if lgb.compat.MATPLOTLIB_INSTALLED:\n",
    "    import matplotlib.pyplot as plt\n",
    "else:\n",
    "    raise ImportError('You need to install matplotlib for plot_example.py.')"
   ]
  },
  {
   "cell_type": "code",
   "execution_count": 63,
   "metadata": {},
   "outputs": [],
   "source": [
    "data_dir = '../data/lgb_data/'"
   ]
  },
  {
   "cell_type": "code",
   "execution_count": 65,
   "metadata": {},
   "outputs": [
    {
     "name": "stdout",
     "output_type": "stream",
     "text": [
      "Loading data...\n"
     ]
    }
   ],
   "source": [
    "print('Loading data...')\n",
    "# load or create your dataset\n",
    "df_train = pd.read_csv(data_dir + 'regression/regression.train', header=None, sep='\\t')\n",
    "df_test = pd.read_csv(data_dir + 'regression/regression.test', header=None, sep='\\t')"
   ]
  },
  {
   "cell_type": "code",
   "execution_count": 66,
   "metadata": {},
   "outputs": [],
   "source": [
    "y_train = df_train[0]\n",
    "y_test = df_test[0]\n",
    "X_train = df_train.drop(0, axis=1)\n",
    "X_test = df_test.drop(0, axis=1)\n",
    "\n",
    "# create dataset for lightgbm\n",
    "lgb_train = lgb.Dataset(X_train, y_train)\n",
    "lgb_test = lgb.Dataset(X_test, y_test, reference=lgb_train)"
   ]
  },
  {
   "cell_type": "code",
   "execution_count": 67,
   "metadata": {},
   "outputs": [
    {
     "name": "stdout",
     "output_type": "stream",
     "text": [
      "Starting training...\n",
      "[10]\ttraining's l2: 0.217995\ttraining's l1: 0.457448\tvalid_1's l2: 0.21641\tvalid_1's l1: 0.456464\n",
      "[20]\ttraining's l2: 0.205099\ttraining's l1: 0.436869\tvalid_1's l2: 0.201616\tvalid_1's l1: 0.434057\n",
      "[30]\ttraining's l2: 0.197421\ttraining's l1: 0.421302\tvalid_1's l2: 0.192514\tvalid_1's l1: 0.417019\n",
      "[40]\ttraining's l2: 0.192856\ttraining's l1: 0.411107\tvalid_1's l2: 0.187258\tvalid_1's l1: 0.406303\n",
      "[50]\ttraining's l2: 0.189593\ttraining's l1: 0.403695\tvalid_1's l2: 0.183688\tvalid_1's l1: 0.398997\n",
      "[60]\ttraining's l2: 0.187043\ttraining's l1: 0.398704\tvalid_1's l2: 0.181009\tvalid_1's l1: 0.393977\n",
      "[70]\ttraining's l2: 0.184982\ttraining's l1: 0.394876\tvalid_1's l2: 0.178803\tvalid_1's l1: 0.389805\n",
      "[80]\ttraining's l2: 0.1828\ttraining's l1: 0.391147\tvalid_1's l2: 0.176799\tvalid_1's l1: 0.386476\n",
      "[90]\ttraining's l2: 0.180817\ttraining's l1: 0.388101\tvalid_1's l2: 0.175775\tvalid_1's l1: 0.384404\n",
      "[100]\ttraining's l2: 0.179171\ttraining's l1: 0.385174\tvalid_1's l2: 0.175321\tvalid_1's l1: 0.382929\n"
     ]
    }
   ],
   "source": [
    "# specify your configurations as a dict\n",
    "params = {\n",
    "    'num_leaves': 5,\n",
    "    'metric': ('l1', 'l2'),\n",
    "    'verbose': 0\n",
    "}\n",
    "\n",
    "evals_result = {}  # to record eval results for plotting\n",
    "\n",
    "print('Starting training...')\n",
    "# train\n",
    "gbm = lgb.train(params,\n",
    "                lgb_train,\n",
    "                num_boost_round=100,\n",
    "                valid_sets=[lgb_train, lgb_test],\n",
    "                feature_name=['f' + str(i + 1) for i in range(X_train.shape[-1])],\n",
    "                categorical_feature=[21],\n",
    "                evals_result=evals_result,\n",
    "                verbose_eval=10)\n"
   ]
  },
  {
   "cell_type": "code",
   "execution_count": 68,
   "metadata": {},
   "outputs": [
    {
     "name": "stdout",
     "output_type": "stream",
     "text": [
      "Plotting metrics recorded during training...\n"
     ]
    },
    {
     "data": {
      "image/png": "[encoded data removed]",
      "text/plain": [
       "<Figure size 432x288 with 1 Axes>"
      ]
     },
     "metadata": {
      "needs_background": "light"
     },
     "output_type": "display_data"
    }
   ],
   "source": [
    "print('Plotting metrics recorded during training...')\n",
    "ax = lgb.plot_metric(evals_result, metric='l1')\n",
    "plt.show()"
   ]
  },
  {
   "cell_type": "code",
   "execution_count": 69,
   "metadata": {},
   "outputs": [
    {
     "name": "stdout",
     "output_type": "stream",
     "text": [
      "Plotting feature importances...\n"
     ]
    },
    {
     "data": {
      "image/png": "[encoded data removed]",
      "text/plain": [
       "<Figure size 432x288 with 1 Axes>"
      ]
     },
     "metadata": {
      "needs_background": "light"
     },
     "output_type": "display_data"
    }
   ],
   "source": [
    "print('Plotting feature importances...')\n",
    "ax = lgb.plot_importance(gbm, max_num_features=10)\n",
    "plt.show()\n"
   ]
  },
  {
   "cell_type": "code",
   "execution_count": 70,
   "metadata": {},
   "outputs": [
    {
     "name": "stdout",
     "output_type": "stream",
     "text": [
      "Plotting split value histogram...\n"
     ]
    },
    {
     "ename": "AttributeError",
     "evalue": "module 'lightgbm' has no attribute 'plot_split_value_histogram'",
     "output_type": "error",
     "traceback": [
      "\u001b[0;31m---------------------------------------------------------------------------\u001b[0m",
      "\u001b[0;31mAttributeError\u001b[0m                            Traceback (most recent call last)",
      "\u001b[0;32m<ipython-input-70-0d49d24140f7>\u001b[0m in \u001b[0;36m<module>\u001b[0;34m\u001b[0m\n\u001b[1;32m      1\u001b[0m \u001b[0mprint\u001b[0m\u001b[0;34m(\u001b[0m\u001b[0;34m'Plotting split value histogram...'\u001b[0m\u001b[0;34m)\u001b[0m\u001b[0;34m\u001b[0m\u001b[0;34m\u001b[0m\u001b[0m\n\u001b[0;32m----> 2\u001b[0;31m \u001b[0max\u001b[0m \u001b[0;34m=\u001b[0m \u001b[0mlgb\u001b[0m\u001b[0;34m.\u001b[0m\u001b[0mplot_split_value_histogram\u001b[0m\u001b[0;34m(\u001b[0m\u001b[0mgbm\u001b[0m\u001b[0;34m,\u001b[0m \u001b[0mfeature\u001b[0m\u001b[0;34m=\u001b[0m\u001b[0;34m'f26'\u001b[0m\u001b[0;34m,\u001b[0m \u001b[0mbins\u001b[0m\u001b[0;34m=\u001b[0m\u001b[0;34m'auto'\u001b[0m\u001b[0;34m)\u001b[0m\u001b[0;34m\u001b[0m\u001b[0;34m\u001b[0m\u001b[0m\n\u001b[0m\u001b[1;32m      3\u001b[0m \u001b[0mplt\u001b[0m\u001b[0;34m.\u001b[0m\u001b[0mshow\u001b[0m\u001b[0;34m(\u001b[0m\u001b[0;34m)\u001b[0m\u001b[0;34m\u001b[0m\u001b[0;34m\u001b[0m\u001b[0m\n",
      "\u001b[0;31mAttributeError\u001b[0m: module 'lightgbm' has no attribute 'plot_split_value_histogram'"
     ]
    }
   ],
   "source": [
    "print('Plotting split value histogram...')\n",
    "ax = lgb.plot_split_value_histogram(gbm, feature='f26', bins='auto')\n",
    "plt.show()"
   ]
  },
  {
   "cell_type": "code",
   "execution_count": 71,
   "metadata": {},
   "outputs": [
    {
     "name": "stdout",
     "output_type": "stream",
     "text": [
      "Plotting 54th tree...\n"
     ]
    },
    {
     "data": {
      "image/png": "[encoded data removed]",
      "text/plain": [
       "<Figure size 1080x1080 with 1 Axes>"
      ]
     },
     "metadata": {
      "needs_background": "light"
     },
     "output_type": "display_data"
    }
   ],
   "source": [
    "print('Plotting 54th tree...')  # one tree use categorical feature to split\n",
    "ax = lgb.plot_tree(gbm, tree_index=53, figsize=(15, 15), show_info=['split_gain'])\n",
    "plt.show()"
   ]
  },
  {
   "cell_type": "code",
   "execution_count": 72,
   "metadata": {},
   "outputs": [
    {
     "name": "stdout",
     "output_type": "stream",
     "text": [
      "Plotting 54th tree with graphviz...\n"
     ]
    },
    {
     "data": {
      "text/plain": [
       "'Tree54.gv.pdf'"
      ]
     },
     "execution_count": 72,
     "metadata": {},
     "output_type": "execute_result"
    }
   ],
   "source": [
    "print('Plotting 54th tree with graphviz...')\n",
    "graph = lgb.create_tree_digraph(gbm, tree_index=53, name='Tree54')\n",
    "graph.render(view=True)"
   ]
  },
  {
   "cell_type": "markdown",
   "metadata": {},
   "source": [
    "## interactive_plot_example\n",
    "https://github.com/microsoft/LightGBM/blob/master/examples/python-guide/notebooks/interactive_plot_example.ipynb"
   ]
  },
  {
   "cell_type": "code",
   "execution_count": 26,
   "metadata": {},
   "outputs": [],
   "source": [
    "import pandas as pd\n",
    "import lightgbm as lgb\n",
    "\n",
    "import matplotlib.pyplot as plt\n",
    "\n",
    "%matplotlib inline\n",
    "\n",
    "try:\n",
    "    # To enable interactive mode you should install ipywidgets\n",
    "    # https://github.com/jupyter-widgets/ipywidgets\n",
    "    from ipywidgets import interact, SelectMultiple\n",
    "    INTERACTIVE = True\n",
    "except ImportError:\n",
    "    INTERACTIVE = False"
   ]
  },
  {
   "cell_type": "code",
   "execution_count": 27,
   "metadata": {},
   "outputs": [],
   "source": [
    "data_dir = '../data/lgb_data/'"
   ]
  },
  {
   "cell_type": "code",
   "execution_count": 28,
   "metadata": {},
   "outputs": [
    {
     "name": "stdout",
     "output_type": "stream",
     "text": [
      "Loading data...\n"
     ]
    }
   ],
   "source": [
    "print('Loading data...')\n",
    "# load or create your dataset\n",
    "df_train = pd.read_csv(data_dir + 'regression.train', header=None, sep='\\t')\n",
    "df_test = pd.read_csv(data_dir + 'regression.test', header=None, sep='\\t')"
   ]
  },
  {
   "cell_type": "code",
   "execution_count": 29,
   "metadata": {},
   "outputs": [],
   "source": [
    "y_train = df_train[0]\n",
    "y_test = df_test[0]\n",
    "X_train = df_train.drop(0, axis=1)\n",
    "X_test = df_test.drop(0, axis=1)\n",
    "\n",
    "# create dataset for lightgbm\n",
    "lgb_train = lgb.Dataset(X_train, y_train)\n",
    "lgb_test = lgb.Dataset(X_test, y_test, reference=lgb_train)"
   ]
  },
  {
   "cell_type": "code",
   "execution_count": 30,
   "metadata": {},
   "outputs": [
    {
     "name": "stderr",
     "output_type": "stream",
     "text": [
      "/Users/luoyonggui/anaconda3/lib/python3.7/site-packages/lightgbm/basic.py:1225: UserWarning: categorical_feature in Dataset is overridden.\n",
      "New categorical_feature is [21]\n",
      "  'New categorical_feature is {}'.format(sorted(list(categorical_feature))))\n",
      "/Users/luoyonggui/anaconda3/lib/python3.7/site-packages/lightgbm/basic.py:776: UserWarning: categorical_feature in param dict is overridden.\n",
      "  warnings.warn('categorical_feature in param dict is overridden.')\n"
     ]
    },
    {
     "name": "stdout",
     "output_type": "stream",
     "text": [
      "[10]\ttraining's l2: 0.217995\ttraining's l1: 0.457448\tvalid_1's l2: 0.21641\tvalid_1's l1: 0.456464\n",
      "[20]\ttraining's l2: 0.205099\ttraining's l1: 0.436869\tvalid_1's l2: 0.201616\tvalid_1's l1: 0.434057\n",
      "[30]\ttraining's l2: 0.197421\ttraining's l1: 0.421302\tvalid_1's l2: 0.192514\tvalid_1's l1: 0.417019\n",
      "[40]\ttraining's l2: 0.192856\ttraining's l1: 0.411107\tvalid_1's l2: 0.187258\tvalid_1's l1: 0.406303\n",
      "[50]\ttraining's l2: 0.189593\ttraining's l1: 0.403695\tvalid_1's l2: 0.183688\tvalid_1's l1: 0.398997\n",
      "[60]\ttraining's l2: 0.187043\ttraining's l1: 0.398704\tvalid_1's l2: 0.181009\tvalid_1's l1: 0.393977\n",
      "[70]\ttraining's l2: 0.184982\ttraining's l1: 0.394876\tvalid_1's l2: 0.178803\tvalid_1's l1: 0.389805\n",
      "[80]\ttraining's l2: 0.1828\ttraining's l1: 0.391147\tvalid_1's l2: 0.176799\tvalid_1's l1: 0.386476\n",
      "[90]\ttraining's l2: 0.180817\ttraining's l1: 0.388101\tvalid_1's l2: 0.175775\tvalid_1's l1: 0.384404\n",
      "[100]\ttraining's l2: 0.179171\ttraining's l1: 0.385174\tvalid_1's l2: 0.175321\tvalid_1's l1: 0.382929\n"
     ]
    }
   ],
   "source": [
    "params = {\n",
    "    'num_leaves': 5,\n",
    "    'metric': ['l1', 'l2'],\n",
    "    'verbose': -1\n",
    "}\n",
    "evals_result = {}  # to record eval results for plotting\n",
    "gbm = lgb.train(params,\n",
    "                lgb_train,\n",
    "                num_boost_round=100,\n",
    "                valid_sets=[lgb_train, lgb_test],\n",
    "                feature_name=['f' + str(i + 1) for i in range(X_train.shape[-1])],\n",
    "                categorical_feature=[21],\n",
    "                evals_result=evals_result,\n",
    "                verbose_eval=10)\n"
   ]
  },
  {
   "cell_type": "markdown",
   "metadata": {},
   "source": [
    "### Plot metrics recorded during training"
   ]
  },
  {
   "cell_type": "code",
   "execution_count": 32,
   "metadata": {},
   "outputs": [
    {
     "data": {
      "application/vnd.jupyter.widget-view+json": {
       "model_id": "bf28469f81f64430af5483a9871ec9e3",
       "version_major": 2,
       "version_minor": 0
      },
      "text/plain": [
       "interactive(children=(Dropdown(description='metric_name', options=('l1', 'l2'), value='l1'), Output()), _dom_c…"
      ]
     },
     "metadata": {},
     "output_type": "display_data"
    }
   ],
   "source": [
    "def render_metric(metric_name):\n",
    "    ax = lgb.plot_metric(evals_result, metric=metric_name, figsize=(10, 5))\n",
    "    plt.show()\n",
    "\n",
    "if INTERACTIVE:\n",
    "    # create widget to switch between metrics\n",
    "    interact(render_metric, metric_name=params['metric'])\n",
    "else:\n",
    "    render_metric(params['metric'][0])"
   ]
  },
  {
   "cell_type": "markdown",
   "metadata": {},
   "source": [
    "### Plot feature importances"
   ]
  },
  {
   "cell_type": "code",
   "execution_count": 33,
   "metadata": {},
   "outputs": [
    {
     "data": {
      "text/plain": [
       "True"
      ]
     },
     "execution_count": 33,
     "metadata": {},
     "output_type": "execute_result"
    }
   ],
   "source": [
    "INTERACTIVE"
   ]
  },
  {
   "cell_type": "code",
   "execution_count": 34,
   "metadata": {},
   "outputs": [
    {
     "data": {
      "application/vnd.jupyter.widget-view+json": {
       "model_id": "e327e44d93ef43318116d5a41361c1f1",
       "version_major": 2,
       "version_minor": 0
      },
      "text/plain": [
       "interactive(children=(Dropdown(description='importance_type', options=('split', 'gain'), value='split'), IntSl…"
      ]
     },
     "metadata": {},
     "output_type": "display_data"
    }
   ],
   "source": [
    "def render_plot_importance(importance_type, max_features=10,\n",
    "                           ignore_zero=True, precision=3):\n",
    "    ax = lgb.plot_importance(gbm, importance_type=importance_type,\n",
    "                             max_num_features=max_features,\n",
    "                             ignore_zero=ignore_zero, figsize=(12, 8),\n",
    "                             precision=precision)\n",
    "    plt.show()\n",
    "    \n",
    "if INTERACTIVE:\n",
    "    # create widget for interactive feature importance plot\n",
    "    interact(render_plot_importance,\n",
    "             importance_type=['split', 'gain'],\n",
    "             max_features=(1, X_train.shape[-1]),\n",
    "             precision=(0, 10))\n",
    "else:\n",
    "    render_plot_importance(importance_type='split')\n"
   ]
  },
  {
   "cell_type": "markdown",
   "metadata": {},
   "source": [
    "### Plot split value histogram"
   ]
  },
  {
   "cell_type": "code",
   "execution_count": 35,
   "metadata": {},
   "outputs": [
    {
     "data": {
      "application/vnd.jupyter.widget-view+json": {
       "model_id": "307d1cd9d53e44f5b9c012e7d43a2187",
       "version_major": 2,
       "version_minor": 0
      },
      "text/plain": [
       "interactive(children=(Dropdown(description='feature', options=('f1', 'f2', 'f3', 'f4', 'f5', 'f6', 'f7', 'f8',…"
      ]
     },
     "metadata": {},
     "output_type": "display_data"
    }
   ],
   "source": [
    "def render_histogram(feature):\n",
    "    ax = lgb.plot_split_value_histogram(gbm, feature=feature,\n",
    "                                        bins='auto', figsize=(10, 5))\n",
    "    plt.show()\n",
    "    \n",
    "if INTERACTIVE:\n",
    "    # create widget for interactive split value histogram\n",
    "    interact(render_histogram,\n",
    "             feature=gbm.feature_name())\n",
    "else:\n",
    "    render_histogram(feature='f26')\n",
    "\n"
   ]
  },
  {
   "cell_type": "markdown",
   "metadata": {},
   "source": [
    "### Plot trees"
   ]
  },
  {
   "cell_type": "code",
   "execution_count": 36,
   "metadata": {},
   "outputs": [
    {
     "data": {
      "application/vnd.jupyter.widget-view+json": {
       "model_id": "73dcbcb7e6d547e4b842387e0f7fc408",
       "version_major": 2,
       "version_minor": 0
      },
      "text/plain": [
       "interactive(children=(IntSlider(value=49, description='tree_index', max=99), SelectMultiple(description='show_…"
      ]
     },
     "metadata": {},
     "output_type": "display_data"
    }
   ],
   "source": [
    "def render_tree(tree_index, show_info, precision=3):\n",
    "    show_info = None if 'None' in show_info else show_info\n",
    "    return lgb.create_tree_digraph(gbm, tree_index=tree_index,\n",
    "                                   show_info=show_info, precision=precision)\n",
    "\n",
    "if INTERACTIVE:\n",
    "    # create widget to switch between trees and control info in nodes\n",
    "    interact(render_tree,\n",
    "             tree_index=(0, gbm.num_trees() - 1),\n",
    "             show_info=SelectMultiple(  # allow multiple values to be selected\n",
    "                 options=['None',\n",
    "                          'split_gain',\n",
    "                          'internal_value',\n",
    "                          'internal_count',\n",
    "                          'internal_weight',\n",
    "                          'leaf_count',\n",
    "                          'leaf_weight',\n",
    "                          'data_percentage'],\n",
    "                 value=['None']),\n",
    "             precision=(0, 10))\n",
    "    tree = None\n",
    "else:\n",
    "    tree = render_tree(53, ['None'])\n",
    "tree\n",
    "\n"
   ]
  },
  {
   "cell_type": "markdown",
   "metadata": {},
   "source": [
    "# lgb+5fold\n",
    "https://blog.csdn.net/qq_44643395/article/details/100556033"
   ]
  },
  {
   "cell_type": "markdown",
   "metadata": {},
   "source": [
    "## 二分类"
   ]
  },
  {
   "cell_type": "code",
   "execution_count": null,
   "metadata": {},
   "outputs": [],
   "source": [
    "param = {\n",
    "    'boosting_type': 'gbdt',  # equal to 'boosting': 'gbdt'\n",
    "    'objective': 'binary',\n",
    "    'metric': 'binary_logloss', 'auc', \n",
    "    'num_leaves': 300,  \n",
    "    'min_data_in_leaf': 500,  \n",
    "    'learning_rate': 0.05,  \n",
    "    'feature_fraction': 0.8,  \n",
    "    'bagging_fraction': 0.8,  \n",
    "    'bagging_freq': 5,  \n",
    "    'lambda_l1': 0.4,  \n",
    "    'lambda_l2': 0.5,  \n",
    "    'min_gain_to_split': 0.2,  \n",
    "    'verbose': -1,\n",
    "    'seed':1024,\n",
    "}\n",
    "\n",
    "from sklearn.model_selection import KFold\n",
    "# 五折交叉验证\n",
    "folds = KFold(n_splits=5, shuffle=True, random_state=2019)\n",
    "oof = np.zeros([len(X_train)])\n",
    "predictions = np.zeros([len(X_test)])\n",
    "\n",
    "for fold_, (trn_idx, val_idx) in enumerate(folds.split(X_train, y_train)):\n",
    "    print(\"fold n°{}\".format(fold_+1))\n",
    "    print(trn_idx)\n",
    "    trn_data = lgb.Dataset(X_train.iloc[trn_idx], y_train.iloc[trn_idx].map({'1': 0, '2': 1}))\n",
    "    val_data = lgb.Dataset(X_train.iloc[val_idx], y_train.iloc[val_idx].map({'1': 0, '2': 1}))\n",
    " \n",
    "    num_round = 1000\n",
    "    # callback\n",
    "    def reset_metrics():\n",
    "        def callback(env):\n",
    "    #         lgb_eval_new = lgb.Dataset(X_test, y_test, reference=lgb_train)\n",
    "            \n",
    "            if env.iteration % 100 == 1:\n",
    "                rs = pd.Series(env.model.predict(X_train.iloc[val_idx]).tolist())\n",
    "                rs[rs>=0.5] = 1\n",
    "                rs[rs<0.5] = 0\n",
    "                print(f'{env.iteration} predict...{accuracy_score(y_train.iloc[val_idx].map(lambda x: int(x)-1), rs.tolist())}')\n",
    "        callback.before_iteration = False\n",
    "        callback.order = 0\n",
    "        return callback\n",
    "    clf = lgb.train(param, \n",
    "                    trn_data, \n",
    "                    num_round, \n",
    "                    valid_sets = [trn_data, val_data], \n",
    "                    verbose_eval = 100, \n",
    "                    early_stopping_rounds = 200,\n",
    "                    callbacks=[reset_metrics()])\n",
    "    rs = pd.Series(clf.predict(X_train.iloc[val_idx]).tolist())\n",
    "    rs[rs>=0.5] = 1\n",
    "    rs[rs<0.5] = 0\n",
    "    print(f'{num_round} predict...{accuracy_score(y_train.iloc[val_idx].map(lambda x: int(x)-1), rs.tolist())}')\n",
    "    #oof[val_idx] = clf.predict(X_train[val_idx], num_iteration=clf.best_iteration)    \n",
    "    predictions += clf.predict(X_test, num_iteration=clf.best_iteration) / folds.n_splits\n",
    "    #print(predictions)"
   ]
  },
  {
   "cell_type": "markdown",
   "metadata": {},
   "source": [
    "## 多分类"
   ]
  },
  {
   "cell_type": "code",
   "execution_count": null,
   "metadata": {},
   "outputs": [],
   "source": [
    "param = { \n",
    "    'boosting_type': 'gbdt',  \n",
    "    'objective': 'multiclass',  \n",
    "    'num_class': 10,  \n",
    "    'metric': 'multi_error',  \n",
    "    'num_leaves': 300,  \n",
    "    'min_data_in_leaf': 500,  \n",
    "    'learning_rate': 0.01,  \n",
    "    'feature_fraction': 0.8,  \n",
    "    'bagging_fraction': 0.8,  \n",
    "    'bagging_freq': 5,  \n",
    "    'lambda_l1': 0.4,  \n",
    "    'lambda_l2': 0.5,  \n",
    "    'min_gain_to_split': 0.2,  \n",
    "    'verbose': -1,\n",
    "    'seed':1024,\n",
    "}\n",
    " \n",
    "# 五折交叉验证\n",
    "folds = KFold(n_splits=5, shuffle=False, random_state=2019)\n",
    "oof = np.zeros([len(X_train),7])\n",
    "predictions = np.zeros([len(X_test),7])\n",
    " \n",
    "for fold_, (trn_idx, val_idx) in enumerate(folds.split(X_train, y_train)):\n",
    "    print(\"fold n°{}\".format(fold_+1))\n",
    "    trn_data = lgb.Dataset(X_train[trn_idx], y_train[trn_idx])\n",
    "    val_data = lgb.Dataset(X_train[val_idx], y_train[val_idx])\n",
    " \n",
    "    num_round = 1000\n",
    "    clf = lgb.train(param, \n",
    "                    trn_data, \n",
    "                    num_round, \n",
    "                    valid_sets = [trn_data, val_data], \n",
    "                    verbose_eval = 100, \n",
    "                    early_stopping_rounds = 100)\n",
    "    #oof[val_idx] = clf.predict(X_train[val_idx], num_iteration=clf.best_iteration)    \n",
    "    predictions += clf.predict(X_test, num_iteration=clf.best_iteration) / folds.n_splits\n",
    "    #print(predictions)"
   ]
  },
  {
   "cell_type": "markdown",
   "metadata": {},
   "source": [
    "# lgb core params\n",
    "https://lightgbm.readthedocs.io/en/latest/Parameters.html\n",
    "\n",
    "## objective目标函数\n",
    "default = regression, type = enum\n",
    "\n",
    "\n",
    "### regression application\n",
    "\n",
    "    regression, L2 loss, aliases: regression_l2, l2, mean_squared_error, mse, l2_root, root_mean_squared_error, rmse\n",
    "\n",
    "    regression_l1, L1 loss, aliases: l1, mean_absolute_error, mae\n",
    "\n",
    "    huber, Huber loss\n",
    "\n",
    "    fair, Fair loss\n",
    "\n",
    "    poisson, Poisson regression\n",
    "\n",
    "    quantile, Quantile regression\n",
    "\n",
    "    mape, MAPE loss, aliases: mean_absolute_percentage_error\n",
    "\n",
    "    gamma, Gamma regression with log-link. It might be useful, e.g., for modeling insurance claims severity, or for any target that might be gamma-distributed\n",
    "\n",
    "    tweedie, Tweedie regression with log-link. It might be useful, e.g., for modeling total loss in insurance, or for any target that might be tweedie-distributed\n",
    "\n",
    "### binary classification application\n",
    "\n",
    "    binary, binary log loss classification (or logistic regression)\n",
    "\n",
    "    requires labels in {0, 1}; see cross-entropy application for general probability labels in [0, 1]\n",
    "\n",
    "### multi-class classification application\n",
    "\n",
    "    multiclass, softmax objective function, aliases: softmax\n",
    "\n",
    "    multiclassova, One-vs-All binary objective function, aliases: multiclass_ova, ova, ovr\n",
    "\n",
    "    num_class should be set as well\n",
    "\n",
    "### cross-entropy application\n",
    "\n",
    "    cross_entropy, objective function for cross-entropy (with optional linear weights), aliases: xentropy\n",
    "\n",
    "    cross_entropy_lambda, alternative parameterization of cross-entropy, aliases: xentlambda\n",
    "\n",
    "    label is anything in interval [0, 1]\n",
    "\n",
    "### ranking application\n",
    "\n",
    "    lambdarank, lambdarank objective. label_gain can be used to set the gain (weight) of int label and all values in label must be smaller than number of elements in label_gain\n",
    "\n",
    "    rank_xendcg, XE_NDCG_MART ranking objective function, aliases: xendcg, xe_ndcg, xe_ndcg_mart, xendcg_mart\n",
    "\n",
    "    rank_xendcg is faster than and achieves the similar performance as lambdarank\n",
    "\n",
    "    label should be int type, and larger number represents the higher relevance (e.g. 0:bad, 1:fair, 2:good, 3:perfect)\n",
    "\n",
    "\n"
   ]
  },
  {
   "cell_type": "markdown",
   "metadata": {},
   "source": [
    "## learning_rate  \n",
    "default = 0.1, type = double, aliases: shrinkage_rate, eta, constraints: learning_rate > 0.0\n",
    "\n",
    "    shrinkage rate\n",
    "\n",
    "    in dart, it also affects on normalization weights of dropped trees\n",
    "\n",
    "## num_leaves \n",
    "default = 31, type = int, aliases: num_leaf, max_leaves, max_leaf, constraints: 1 < num_leaves <= 131072\n",
    "\n",
    "    max number of leaves in one tree\n",
    "\n",
    "## seed\n",
    "default = None, type = int, aliases: random_seed, random_state\n",
    "\n",
    "    this seed is used to generate other seeds, e.g. data_random_seed, feature_fraction_seed, etc.\n",
    "\n",
    "    by default, this seed is unused in favor of default values of other seeds\n",
    "\n",
    "    this seed has lower priority in comparison with other seeds, which means that it will be overridden, if you set other seeds explicitly\n",
    "\n"
   ]
  },
  {
   "cell_type": "markdown",
   "metadata": {},
   "source": [
    "# Learning Control Parameters\n",
    "max_depth 🔗︎, default = -1, type = int\n",
    "\n",
    "    limit the max depth for tree model. This is used to deal with over-fitting when #data is small. Tree still grows leaf-wise\n",
    "\n",
    "    <= 0 means no limit\n",
    "\n",
    "min_data_in_leaf 🔗︎, default = 20, type = int, aliases: min_data_per_leaf, min_data, min_child_samples, constraints: min_data_in_leaf >= 0\n",
    "\n",
    "    minimal number of data in one leaf. Can be used to deal with over-fitting\n",
    "\n",
    "bagging_fraction 🔗︎, default = 1.0, type = double, aliases: sub_row, subsample, bagging, constraints: 0.0 < bagging_fraction <= 1.0\n",
    "\n",
    "    like feature_fraction, but this will randomly select part of data without resampling\n",
    "\n",
    "    can be used to speed up training\n",
    "\n",
    "    can be used to deal with over-fitting\n",
    "\n",
    "    Note: to enable bagging, bagging_freq should be set to a non zero value as well\n",
    "\n",
    "bagging_freq 🔗︎, default = 0, type = int, aliases: subsample_freq\n",
    "\n",
    "    frequency for bagging\n",
    "\n",
    "    0 means disable bagging; k means perform bagging at every k iteration\n",
    "\n",
    "    Note: to enable bagging, bagging_fraction should be set to value smaller than 1.0 as well\n",
    "\n",
    "bagging_seed 🔗︎, default = 3, type = int, aliases: bagging_fraction_seed\n",
    "\n",
    "    random seed for bagging\n",
    "\n",
    "feature_fraction 🔗︎, default = 1.0, type = double, aliases: sub_feature, colsample_bytree, constraints: 0.0 < feature_fraction <= 1.0\n",
    "\n",
    "    LightGBM will randomly select part of features on each iteration (tree) if feature_fraction smaller than 1.0. For example, if you set it to 0.8, LightGBM will select 80% of features before training each tree\n",
    "\n",
    "    can be used to speed up training\n",
    "\n",
    "    can be used to deal with over-fitting\n",
    "    \n",
    "feature_fraction_seed 🔗︎, default = 2, type = int\n",
    "\n",
    "lambda_l1 🔗︎, default = 0.0, type = double, aliases: reg_alpha, constraints: lambda_l1 >= 0.0\n",
    "\n",
    "    L1 regularization\n",
    "\n",
    "lambda_l2 🔗︎, default = 0.0, type = double, aliases: reg_lambda, lambda, constraints: lambda_l2 >= 0.0\n",
    "\n",
    "    L2 regularization\n",
    "\n"
   ]
  },
  {
   "cell_type": "markdown",
   "metadata": {},
   "source": [
    "# Metric Parameters"
   ]
  },
  {
   "cell_type": "markdown",
   "metadata": {},
   "source": [
    "metric 🔗︎, default = \"\", type = multi-enum, aliases: metrics, metric_types\n",
    "\n",
    "    metric(s) to be evaluated on the evaluation set(s)\n",
    "\n",
    "        \"\" (empty string or not specified) means that metric corresponding to specified objective will be used (this is possible only for pre-defined objective functions, otherwise no evaluation metric will be added)\n",
    "\n",
    "        \"None\" (string, not a None value) means that no metric will be registered, aliases: na, null, custom\n",
    "\n",
    "        l1, absolute loss, aliases: mean_absolute_error, mae, regression_l1\n",
    "\n",
    "        l2, square loss, aliases: mean_squared_error, mse, regression_l2, regression\n",
    "\n",
    "        rmse, root square loss, aliases: root_mean_squared_error, l2_root\n",
    "\n",
    "        quantile, Quantile regression\n",
    "\n",
    "        mape, MAPE loss, aliases: mean_absolute_percentage_error\n",
    "\n",
    "        huber, Huber loss\n",
    "\n",
    "        fair, Fair loss\n",
    "\n",
    "        poisson, negative log-likelihood for Poisson regression\n",
    "\n",
    "        gamma, negative log-likelihood for Gamma regression\n",
    "\n",
    "        gamma_deviance, residual deviance for Gamma regression\n",
    "\n",
    "        tweedie, negative log-likelihood for Tweedie regression\n",
    "\n",
    "        ndcg, NDCG, aliases: lambdarank, rank_xendcg, xendcg, xe_ndcg, xe_ndcg_mart, xendcg_mart\n",
    "\n",
    "        map, MAP, aliases: mean_average_precision\n",
    "\n",
    "        auc, AUC\n",
    "\n",
    "        binary_logloss, log loss, aliases: binary\n",
    "\n",
    "        binary_error, for one sample: 0 for correct classification, 1 for error classification\n",
    "\n",
    "        auc_mu, AUC-mu\n",
    "\n",
    "        multi_logloss, log loss for multi-class classification, aliases: multiclass, softmax, multiclassova, multiclass_ova, ova, ovr\n",
    "\n",
    "        multi_error, error rate for multi-class classification\n",
    "\n",
    "        cross_entropy, cross-entropy (with optional linear weights), aliases: xentropy\n",
    "\n",
    "        cross_entropy_lambda, “intensity-weighted” cross-entropy, aliases: xentlambda\n",
    "\n",
    "        kullback_leibler, Kullback-Leibler divergence, aliases: kldiv\n",
    "\n",
    "    support multiple metrics, separated by ,\n",
    "\n"
   ]
  }
 ],
 "metadata": {
  "kernelspec": {
   "display_name": "Python 3",
   "language": "python",
   "name": "python3"
  },
  "language_info": {
   "codemirror_mode": {
    "name": "ipython",
    "version": 3
   },
   "file_extension": ".py",
   "mimetype": "text/x-python",
   "name": "python",
   "nbconvert_exporter": "python",
   "pygments_lexer": "ipython3",
   "version": "3.7.3"
  },
  "toc": {
   "base_numbering": 1,
   "nav_menu": {},
   "number_sections": true,
   "sideBar": true,
   "skip_h1_title": false,
   "title_cell": "Table of Contents",
   "title_sidebar": "Contents",
   "toc_cell": false,
   "toc_position": {
    "height": "calc(100% - 180px)",
    "left": "10px",
    "top": "150px",
    "width": "277.6px"
   },
   "toc_section_display": true,
   "toc_window_display": true
  },
  "varInspector": {
   "cols": {
    "lenName": 16,
    "lenType": 16,
    "lenVar": 40
   },
   "kernels_config": {
    "python": {
     "delete_cmd_postfix": "",
     "delete_cmd_prefix": "del ",
     "library": "var_list.py",
     "varRefreshCmd": "print(var_dic_list())"
    },
    "r": {
     "delete_cmd_postfix": ") ",
     "delete_cmd_prefix": "rm(",
     "library": "var_list.r",
     "varRefreshCmd": "cat(var_dic_list()) "
    }
   },
   "types_to_exclude": [
    "module",
    "function",
    "builtin_function_or_method",
    "instance",
    "_Feature"
   ],
   "window_display": false
  }
 },
 "nbformat": 4,
 "nbformat_minor": 2
}
