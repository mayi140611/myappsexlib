{
 "cells": [
  {
   "cell_type": "code",
   "execution_count": 3,
   "metadata": {},
   "outputs": [],
   "source": [
    "# default_exp engineering.snorkel\n",
    "\n",
    "%reload_ext autoreload\n",
    "%autoreload 2"
   ]
  },
  {
   "cell_type": "markdown",
   "metadata": {},
   "source": [
    "# snorkel\n",
    "https://github.com/snorkel-team/snorkel-tutorials/tree/master/spam 这个tutorial 把snorkel功能 覆盖的很全了 大家有空可以走一遍\n",
    "\n",
    "https://github.com/HazyResearch/snorkel-superglue  snorkel 在superglue metric上目前是SOA 说明弱监督这个方法论很牛逼了 值得去了解 而且它对机器学习工程非常友好\n",
    "\n",
    "官网: https://www.snorkel.org/"
   ]
  },
  {
   "cell_type": "markdown",
   "metadata": {},
   "source": [
    "## install"
   ]
  },
  {
   "cell_type": "code",
   "execution_count": 4,
   "metadata": {},
   "outputs": [
    {
     "name": "stdout",
     "output_type": "stream",
     "text": [
      "snorkel==0.9.5\r\n"
     ]
    }
   ],
   "source": [
    "# !pip install snorkel\n",
    "!pip freeze | grep snorkel"
   ]
  },
  {
   "cell_type": "markdown",
   "metadata": {},
   "source": [
    "# get-started\n",
    "https://www.snorkel.org/get-started/\n",
    "\n",
    "## 使用Snorkel以编程方式构建和管理培训数据\n",
    "Snorkel是一个用于以编程方式构建和管理训练数据集而无需手动标记的系统。 在Snorkel中，用户可以在数小时或数天内开发大型培训数据集，而无需在数周或数月内手动标记它们。\n",
    "\n",
    "Snorkel当前公开了三个关键的编程操作：\n",
    "\n",
    "     标记数据，例如，使用启发式规则或远程监管技术\n",
    "\n",
    "     转换数据，例如旋转或拉伸图像以执行数据增强\n",
    "\n",
    "     将数据分割为不同的关键子集，以进行监视或有针对性的改进\n",
    "\n",
    "然后，Snorkel使用新颖的理论基础技术自动建模，清理和整合生成的训练数据。\n",
    "![](img/sno01.png)"
   ]
  },
  {
   "cell_type": "markdown",
   "metadata": {},
   "source": [
    "在本快速演练中，我们将使用一种典型的机器学习问题（分类垃圾邮件）来预览Snorkel的高级工作流程和界面。 我们将使用一个公开的YouTube评论数据集，并了解Snorkel如何能够在没有任何手工标记的训练数据的情况下训练机器学习模型！ 有关本演练中各部分的更多详细版本，请参阅相应的教程：（垃圾邮件LF，垃圾邮件TF，垃圾邮件SF）。\n",
    "\n",
    "我们将完成五个基本步骤：\n",
    "\n",
    "     编写标签功能（LF）：首先，我们将以编程方式将未标签的数据集标记为LF，而不是手动为任何训练数据添加标签。\n",
    "\n",
    "     LF的建模和组合：接下来，我们将使用Snorkel的LabelModel自动了解LF的准确性并重新加权，然后将其输出合并为每个数据点的单个置信度加权的训练标签。\n",
    "\n",
    "     编写用于数据增强的转换函数（TF）：然后，我们将通过编写一个简单的TF来扩充此标记的训练集。\n",
    "\n",
    "     为数据子集选择编写切片函数（SF）：我们还将预览编写SF的过程，以识别训练集中的关键子集或切片。\n",
    "\n",
    "     训练最终的ML模型：最后，我们将使用训练集来训练ML模型。\n",
    "\n",
    "首先，我们将未标记的注释（作为训练数据）加载为Pandas DataFrame："
   ]
  },
  {
   "cell_type": "code",
   "execution_count": 12,
   "metadata": {},
   "outputs": [],
   "source": [
    "#export\n",
    "def say_hello(to):\n",
    "    \"\"\"\n",
    "    \n",
    "    \"\"\"\n",
    "    return f'Hello {to}!'"
   ]
  },
  {
   "cell_type": "markdown",
   "metadata": {},
   "source": [
    "# nb_export"
   ]
  },
  {
   "cell_type": "code",
   "execution_count": 4,
   "metadata": {},
   "outputs": [
    {
     "name": "stdout",
     "output_type": "stream",
     "text": [
      "Converted 00_core.ipynb.\n",
      "Converted engineering_nbdev.ipynb.\n",
      "Converted index.ipynb.\n"
     ]
    }
   ],
   "source": [
    "from nbdev.export import *\n",
    "notebook2script()"
   ]
  },
  {
   "cell_type": "code",
   "execution_count": 7,
   "metadata": {},
   "outputs": [
    {
     "name": "stdout",
     "output_type": "stream",
     "text": [
      "No notebooks were modified\r\n",
      "converting /Users/luoyonggui/PycharmProjects/nbdevlib/index.ipynb to README.md\r\n"
     ]
    }
   ],
   "source": [
    "!nbdev_build_docs"
   ]
  },
  {
   "cell_type": "code",
   "execution_count": null,
   "metadata": {},
   "outputs": [],
   "source": []
  }
 ],
 "metadata": {
  "kernelspec": {
   "display_name": "Python 3",
   "language": "python",
   "name": "python3"
  },
  "language_info": {
   "codemirror_mode": {
    "name": "ipython",
    "version": 3
   },
   "file_extension": ".py",
   "mimetype": "text/x-python",
   "name": "python",
   "nbconvert_exporter": "python",
   "pygments_lexer": "ipython3",
   "version": "3.7.3"
  },
  "toc": {
   "base_numbering": 1,
   "nav_menu": {},
   "number_sections": true,
   "sideBar": true,
   "skip_h1_title": false,
   "title_cell": "Table of Contents",
   "title_sidebar": "Contents",
   "toc_cell": false,
   "toc_position": {},
   "toc_section_display": true,
   "toc_window_display": true
  }
 },
 "nbformat": 4,
 "nbformat_minor": 2
}
